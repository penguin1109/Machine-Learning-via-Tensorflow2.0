{
 "cells": [
  {
   "cell_type": "markdown",
   "metadata": {
    "colab_type": "text",
    "id": "fqjIp7jL6Fn-"
   },
   "source": [
    "**Google Colab에 우리가 분석하고자 하는 데이터를 올리기 위해서 **\n",
    "\n",
    "\n",
    "```\n",
    "from google.colab import files\n",
    "files.upload()\n",
    "```\n",
    "를 하게 되면 우리가 올리고자하는 파일을 선택후 upload하여 분석과 학습이 가능하다.\n"
   ]
  },
  {
   "cell_type": "code",
   "execution_count": 7,
   "metadata": {
    "colab": {
     "base_uri": "https://localhost:8080/",
     "height": 405
    },
    "colab_type": "code",
    "id": "W2fyeuIAgyNr",
    "outputId": "e2efee0f-4601-4381-e462-0dab90005365"
   },
   "outputs": [
    {
     "data": {
      "text/html": [
       "<div>\n",
       "<style scoped>\n",
       "    .dataframe tbody tr th:only-of-type {\n",
       "        vertical-align: middle;\n",
       "    }\n",
       "\n",
       "    .dataframe tbody tr th {\n",
       "        vertical-align: top;\n",
       "    }\n",
       "\n",
       "    .dataframe thead th {\n",
       "        text-align: right;\n",
       "    }\n",
       "</style>\n",
       "<table border=\"1\" class=\"dataframe\">\n",
       "  <thead>\n",
       "    <tr style=\"text-align: right;\">\n",
       "      <th></th>\n",
       "      <th>case_id</th>\n",
       "      <th>province</th>\n",
       "      <th>city</th>\n",
       "      <th>group</th>\n",
       "      <th>infection_case</th>\n",
       "      <th>confirmed</th>\n",
       "      <th>latitude</th>\n",
       "      <th>longitude</th>\n",
       "    </tr>\n",
       "  </thead>\n",
       "  <tbody>\n",
       "    <tr>\n",
       "      <th>0</th>\n",
       "      <td>1</td>\n",
       "      <td>Seoul</td>\n",
       "      <td>Guro-gu</td>\n",
       "      <td>True</td>\n",
       "      <td>Guro-gu Call Center</td>\n",
       "      <td>70</td>\n",
       "      <td>37.508163</td>\n",
       "      <td>126.884387</td>\n",
       "    </tr>\n",
       "    <tr>\n",
       "      <th>1</th>\n",
       "      <td>2</td>\n",
       "      <td>Seoul</td>\n",
       "      <td>Eunpyeong-gu</td>\n",
       "      <td>True</td>\n",
       "      <td>Eunpyeong St. Mary's Hospital</td>\n",
       "      <td>14</td>\n",
       "      <td>37.63369</td>\n",
       "      <td>126.9165</td>\n",
       "    </tr>\n",
       "    <tr>\n",
       "      <th>2</th>\n",
       "      <td>3</td>\n",
       "      <td>Seoul</td>\n",
       "      <td>Seongdong-gu</td>\n",
       "      <td>True</td>\n",
       "      <td>Seongdong-gu APT</td>\n",
       "      <td>13</td>\n",
       "      <td>37.55713</td>\n",
       "      <td>127.0403</td>\n",
       "    </tr>\n",
       "    <tr>\n",
       "      <th>3</th>\n",
       "      <td>4</td>\n",
       "      <td>Seoul</td>\n",
       "      <td>Jongno-gu</td>\n",
       "      <td>True</td>\n",
       "      <td>Jongno Community Center</td>\n",
       "      <td>10</td>\n",
       "      <td>37.57681</td>\n",
       "      <td>127.006</td>\n",
       "    </tr>\n",
       "    <tr>\n",
       "      <th>4</th>\n",
       "      <td>5</td>\n",
       "      <td>Seoul</td>\n",
       "      <td>Dongdaemun-gu</td>\n",
       "      <td>True</td>\n",
       "      <td>Dongan Church</td>\n",
       "      <td>9</td>\n",
       "      <td>37.592888</td>\n",
       "      <td>127.056766</td>\n",
       "    </tr>\n",
       "    <tr>\n",
       "      <th>...</th>\n",
       "      <td>...</td>\n",
       "      <td>...</td>\n",
       "      <td>...</td>\n",
       "      <td>...</td>\n",
       "      <td>...</td>\n",
       "      <td>...</td>\n",
       "      <td>...</td>\n",
       "      <td>...</td>\n",
       "    </tr>\n",
       "    <tr>\n",
       "      <th>73</th>\n",
       "      <td>74</td>\n",
       "      <td>Gyeongsangnam-do</td>\n",
       "      <td>Changwon-si</td>\n",
       "      <td>True</td>\n",
       "      <td>Hanmaeum Changwon Hospital</td>\n",
       "      <td>7</td>\n",
       "      <td>35.22115</td>\n",
       "      <td>128.6866</td>\n",
       "    </tr>\n",
       "    <tr>\n",
       "      <th>74</th>\n",
       "      <td>75</td>\n",
       "      <td>Gyeongsangnam-do</td>\n",
       "      <td>Changnyeong-gun</td>\n",
       "      <td>True</td>\n",
       "      <td>Changnyeong Coin Karaoke</td>\n",
       "      <td>7</td>\n",
       "      <td>35.54127</td>\n",
       "      <td>128.5008</td>\n",
       "    </tr>\n",
       "    <tr>\n",
       "      <th>75</th>\n",
       "      <td>76</td>\n",
       "      <td>Gyeongsangnam-do</td>\n",
       "      <td>from other city</td>\n",
       "      <td>True</td>\n",
       "      <td>Onchun Church</td>\n",
       "      <td>2</td>\n",
       "      <td>-</td>\n",
       "      <td>-</td>\n",
       "    </tr>\n",
       "    <tr>\n",
       "      <th>76</th>\n",
       "      <td>77</td>\n",
       "      <td>Gyeongsangnam-do</td>\n",
       "      <td>-</td>\n",
       "      <td>False</td>\n",
       "      <td>etc</td>\n",
       "      <td>22</td>\n",
       "      <td>-</td>\n",
       "      <td>-</td>\n",
       "    </tr>\n",
       "    <tr>\n",
       "      <th>77</th>\n",
       "      <td>78</td>\n",
       "      <td>Jeju-do</td>\n",
       "      <td>-</td>\n",
       "      <td>False</td>\n",
       "      <td>etc</td>\n",
       "      <td>4</td>\n",
       "      <td>-</td>\n",
       "      <td>-</td>\n",
       "    </tr>\n",
       "  </tbody>\n",
       "</table>\n",
       "<p>78 rows × 8 columns</p>\n",
       "</div>"
      ],
      "text/plain": [
       "    case_id          province             city  group  \\\n",
       "0         1             Seoul          Guro-gu   True   \n",
       "1         2             Seoul     Eunpyeong-gu   True   \n",
       "2         3             Seoul     Seongdong-gu   True   \n",
       "3         4             Seoul        Jongno-gu   True   \n",
       "4         5             Seoul    Dongdaemun-gu   True   \n",
       "..      ...               ...              ...    ...   \n",
       "73       74  Gyeongsangnam-do      Changwon-si   True   \n",
       "74       75  Gyeongsangnam-do  Changnyeong-gun   True   \n",
       "75       76  Gyeongsangnam-do  from other city   True   \n",
       "76       77  Gyeongsangnam-do                -  False   \n",
       "77       78           Jeju-do                -  False   \n",
       "\n",
       "                   infection_case  confirmed   latitude   longitude  \n",
       "0             Guro-gu Call Center         70  37.508163  126.884387  \n",
       "1   Eunpyeong St. Mary's Hospital         14   37.63369    126.9165  \n",
       "2                Seongdong-gu APT         13   37.55713    127.0403  \n",
       "3         Jongno Community Center         10   37.57681     127.006  \n",
       "4                   Dongan Church          9  37.592888  127.056766  \n",
       "..                            ...        ...        ...         ...  \n",
       "73     Hanmaeum Changwon Hospital          7   35.22115    128.6866  \n",
       "74       Changnyeong Coin Karaoke          7   35.54127    128.5008  \n",
       "75                  Onchun Church          2          -           -  \n",
       "76                            etc         22          -           -  \n",
       "77                            etc          4          -           -  \n",
       "\n",
       "[78 rows x 8 columns]"
      ]
     },
     "execution_count": 7,
     "metadata": {},
     "output_type": "execute_result"
    }
   ],
   "source": [
    "import pandas as pd\n",
    "df = pd.read_csv(\"C:/Case.csv\")\n",
    "df"
   ]
  },
  {
   "cell_type": "markdown",
   "metadata": {
    "colab_type": "text",
    "id": "Kzy-t8-nqN9z"
   },
   "source": [
    "이 데이터는 우리나라의 코로나 바이러스의 최근 동향을 나타내는 데이터인데, 여기서 보면 collumn이 그렇게 많지는 않다. 지역, 도시, 단체 감염 여부, 세부 장소, 감염 확진 인원, latitude, longtitude이다.\n",
    "\n",
    "여기서 딥러닝 알고리즘을 이용해서 모델을 만드려고 할때에는 무언가 예측할 부분이 필요한데, '발생 인원수에 따른 발생 도시 예측'이나 '발생 인원수에 따른 집잔 감염 여부'를 우선 주제로 생각 중인데, 후자는 별로 의미가 없을것 같기도 하다. 이미 선형 회귀일것 같기 때문에.\n",
    "\n",
    "따라서 선형 관계를 파악하기 위해서 시각화를 해보고자 한다."
   ]
  },
  {
   "cell_type": "code",
   "execution_count": 8,
   "metadata": {
    "colab": {},
    "colab_type": "code",
    "id": "i9_uGOOLru2g"
   },
   "outputs": [],
   "source": [
    "from sklearn.preprocessing import OrdinalEncoder\n",
    "group_cat = df[['group']]\n",
    "ordinal_encoder = OrdinalEncoder()\n",
    "group_cat_encoded = ordinal_encoder.fit_transform(group_cat)\n",
    "df['group'] = group_cat_encoded\n",
    "province_cat_encoded = ordinal_encoder.fit_transform(df[['province']])\n",
    "df['province'] = province_cat_encoded"
   ]
  },
  {
   "cell_type": "markdown",
   "metadata": {
    "colab_type": "text",
    "id": "JWaKbljlztlQ"
   },
   "source": [
    "어차피 dataframe은 dictionary의 형태이기 때문에 언제든지 key와 value의 값이 추가, 삭제, 변경 등이 모드 python의 사전형 자료를 다루는 것 처럼 가능하다."
   ]
  },
  {
   "cell_type": "markdown",
   "metadata": {
    "colab_type": "text",
    "id": "aAEtBnNCtqoQ"
   },
   "source": [
    "데이터셋과 테스트셋을 sklearn의 함수를 이용해서 만들어보자\n",
    "\n",
    "test_set의 크기는 전체의 20%이고 train_set의 크기는 전체의 80%가 되도록 만들었다.\n",
    "\n",
    "cf.DataFrame을 다룰 때에는 pandas의 library를 이용해야 한다."
   ]
  },
  {
   "cell_type": "code",
   "execution_count": 9,
   "metadata": {
    "colab": {
     "base_uri": "https://localhost:8080/",
     "height": 252
    },
    "colab_type": "code",
    "id": "H3b2y_uN3EUB",
    "outputId": "63b54b6d-ec84-42c5-c932-8d8a46f1f633"
   },
   "outputs": [
    {
     "name": "stdout",
     "output_type": "stream",
     "text": [
      "4126\n"
     ]
    },
    {
     "data": {
      "text/plain": [
       "0     1.0\n",
       "1     1.0\n",
       "2     1.0\n",
       "3     1.0\n",
       "4     1.0\n",
       "     ... \n",
       "73    1.0\n",
       "74    1.0\n",
       "75    1.0\n",
       "76    0.0\n",
       "77    0.0\n",
       "Name: group, Length: 78, dtype: float64"
      ]
     },
     "execution_count": 9,
     "metadata": {},
     "output_type": "execute_result"
    }
   ],
   "source": [
    "print(max(df['confirmed']))\n",
    "df['group']"
   ]
  },
  {
   "cell_type": "markdown",
   "metadata": {
    "colab_type": "text",
    "id": "iPoAhdWj6nXZ"
   },
   "source": [
    "실제로 df['confirmed']의 최댓값을 살펴보니 4511이라는 값이었고, 왜 아래와 같이 산점도가 만들어졌는지 알 수 있었다. 그래서 선형관계를 어떻게 파악하면 좋을지 생각 중이다."
   ]
  },
  {
   "cell_type": "code",
   "execution_count": 10,
   "metadata": {
    "colab": {
     "base_uri": "https://localhost:8080/",
     "height": 343
    },
    "colab_type": "code",
    "id": "Mz1B1S7O9oWF",
    "outputId": "c7a7c2e1-9294-48bc-eea2-4dcdf5442d01"
   },
   "outputs": [
    {
     "data": {
      "text/plain": [
       "8.0     9\n",
       "15.0    8\n",
       "9.0     7\n",
       "0.0     7\n",
       "7.0     6\n",
       "10.0    5\n",
       "1.0     4\n",
       "12.0    4\n",
       "14.0    4\n",
       "3.0     4\n",
       "13.0    4\n",
       "2.0     3\n",
       "5.0     3\n",
       "16.0    3\n",
       "4.0     3\n",
       "6.0     3\n",
       "11.0    1\n",
       "Name: province, dtype: int64"
      ]
     },
     "execution_count": 10,
     "metadata": {},
     "output_type": "execute_result"
    }
   ],
   "source": [
    "df['province'].value_counts()"
   ]
  },
  {
   "cell_type": "code",
   "execution_count": 11,
   "metadata": {
    "colab": {
     "base_uri": "https://localhost:8080/",
     "height": 515
    },
    "colab_type": "code",
    "id": "xVvXVzM864er",
    "outputId": "a90db927-1c5f-4d68-be55-a2920df08be6"
   },
   "outputs": [
    {
     "data": {
      "text/plain": [
       "<matplotlib.legend.Legend at 0x209dc64a4c8>"
      ]
     },
     "execution_count": 11,
     "metadata": {},
     "output_type": "execute_result"
    },
    {
     "data": {
      "image/png": "[encoded data removed]",
      "text/plain": [
       "<Figure size 576x576 with 1 Axes>"
      ]
     },
     "metadata": {
      "needs_background": "light"
     },
     "output_type": "display_data"
    }
   ],
   "source": [
    "import matplotlib.pyplot as plt\n",
    "df.plot(kind = 'scatter',x ='province', y = 'group', s = df['confirmed'], label = 'confirmed',figsize = (8,8))\n",
    "plt.legend()"
   ]
  },
  {
   "cell_type": "code",
   "execution_count": 12,
   "metadata": {
    "colab": {
     "base_uri": "https://localhost:8080/",
     "height": 286
    },
    "colab_type": "code",
    "id": "5jQvrbUCg4iR",
    "outputId": "09dc0113-0c14-4eca-8248-10f322301c16"
   },
   "outputs": [
    {
     "data": {
      "text/html": [
       "<div>\n",
       "<style scoped>\n",
       "    .dataframe tbody tr th:only-of-type {\n",
       "        vertical-align: middle;\n",
       "    }\n",
       "\n",
       "    .dataframe tbody tr th {\n",
       "        vertical-align: top;\n",
       "    }\n",
       "\n",
       "    .dataframe thead th {\n",
       "        text-align: right;\n",
       "    }\n",
       "</style>\n",
       "<table border=\"1\" class=\"dataframe\">\n",
       "  <thead>\n",
       "    <tr style=\"text-align: right;\">\n",
       "      <th></th>\n",
       "      <th>case_id</th>\n",
       "      <th>province</th>\n",
       "      <th>group</th>\n",
       "      <th>confirmed</th>\n",
       "    </tr>\n",
       "  </thead>\n",
       "  <tbody>\n",
       "    <tr>\n",
       "      <th>count</th>\n",
       "      <td>78.000000</td>\n",
       "      <td>78.000000</td>\n",
       "      <td>78.000000</td>\n",
       "      <td>78.000000</td>\n",
       "    </tr>\n",
       "    <tr>\n",
       "      <th>mean</th>\n",
       "      <td>39.500000</td>\n",
       "      <td>8.064103</td>\n",
       "      <td>0.602564</td>\n",
       "      <td>99.282051</td>\n",
       "    </tr>\n",
       "    <tr>\n",
       "      <th>std</th>\n",
       "      <td>22.660538</td>\n",
       "      <td>4.931583</td>\n",
       "      <td>0.492535</td>\n",
       "      <td>486.741428</td>\n",
       "    </tr>\n",
       "    <tr>\n",
       "      <th>min</th>\n",
       "      <td>1.000000</td>\n",
       "      <td>0.000000</td>\n",
       "      <td>0.000000</td>\n",
       "      <td>1.000000</td>\n",
       "    </tr>\n",
       "    <tr>\n",
       "      <th>25%</th>\n",
       "      <td>20.250000</td>\n",
       "      <td>4.000000</td>\n",
       "      <td>0.000000</td>\n",
       "      <td>3.000000</td>\n",
       "    </tr>\n",
       "    <tr>\n",
       "      <th>50%</th>\n",
       "      <td>39.500000</td>\n",
       "      <td>8.000000</td>\n",
       "      <td>1.000000</td>\n",
       "      <td>8.000000</td>\n",
       "    </tr>\n",
       "    <tr>\n",
       "      <th>75%</th>\n",
       "      <td>58.750000</td>\n",
       "      <td>12.000000</td>\n",
       "      <td>1.000000</td>\n",
       "      <td>16.750000</td>\n",
       "    </tr>\n",
       "    <tr>\n",
       "      <th>max</th>\n",
       "      <td>78.000000</td>\n",
       "      <td>16.000000</td>\n",
       "      <td>1.000000</td>\n",
       "      <td>4126.000000</td>\n",
       "    </tr>\n",
       "  </tbody>\n",
       "</table>\n",
       "</div>"
      ],
      "text/plain": [
       "         case_id   province      group    confirmed\n",
       "count  78.000000  78.000000  78.000000    78.000000\n",
       "mean   39.500000   8.064103   0.602564    99.282051\n",
       "std    22.660538   4.931583   0.492535   486.741428\n",
       "min     1.000000   0.000000   0.000000     1.000000\n",
       "25%    20.250000   4.000000   0.000000     3.000000\n",
       "50%    39.500000   8.000000   1.000000     8.000000\n",
       "75%    58.750000  12.000000   1.000000    16.750000\n",
       "max    78.000000  16.000000   1.000000  4126.000000"
      ]
     },
     "execution_count": 12,
     "metadata": {},
     "output_type": "execute_result"
    }
   ],
   "source": [
    "df.describe()\n",
    "#밑에 모든 자료가 나오지 않는 이유는 숫자형 자료만 정보가 나오기 때문이다."
   ]
  },
  {
   "cell_type": "markdown",
   "metadata": {
    "colab_type": "text",
    "id": "wMxhnqFz_y8c"
   },
   "source": [
    "df.info()를 보면 모든 정보가 174개의 non-null 값을 가지기 때문에 그 부분은 건드릴 필요가 없다. 다만 만약에 사용하려 한다면 city의 값이나 infection_case등을 수정해 주어야 하는 것은 맞다."
   ]
  },
  {
   "cell_type": "code",
   "execution_count": 13,
   "metadata": {
    "colab": {
     "base_uri": "https://localhost:8080/",
     "height": 289
    },
    "colab_type": "code",
    "id": "Alo5cpC6iFXi",
    "outputId": "ad1c3316-dd99-4120-ad22-a5bffa3d064c"
   },
   "outputs": [
    {
     "name": "stdout",
     "output_type": "stream",
     "text": [
      "<class 'pandas.core.frame.DataFrame'>\n",
      "RangeIndex: 78 entries, 0 to 77\n",
      "Data columns (total 8 columns):\n",
      " #   Column          Non-Null Count  Dtype  \n",
      "---  ------          --------------  -----  \n",
      " 0   case_id         78 non-null     int64  \n",
      " 1   province        78 non-null     float64\n",
      " 2   city            78 non-null     object \n",
      " 3   group           78 non-null     float64\n",
      " 4   infection_case  78 non-null     object \n",
      " 5   confirmed       78 non-null     int64  \n",
      " 6   latitude        78 non-null     object \n",
      " 7   longitude       78 non-null     object \n",
      "dtypes: float64(2), int64(2), object(4)\n",
      "memory usage: 5.0+ KB\n"
     ]
    }
   ],
   "source": [
    "df.info()"
   ]
  },
  {
   "cell_type": "markdown",
   "metadata": {
    "colab_type": "text",
    "id": "ubYbNDa9iVnj"
   },
   "source": [
    "위에 데이터의 information에서 보면 알 수 있겠지만 자료형이 숫자형 자료int64와 float64이외에도 object라는 문자열 자료형이 존재하는데, 이를 sklearn.preprocessing의 OrdinalEncoder을 이용해서 바꾸거나 아니면 어차피 나중에 범위를 0~1로 줄이는 경우가 일반적이기 때문에 그렇게 OneHotEncoder을 이용해서 바꿔주어도 좋다."
   ]
  },
  {
   "cell_type": "code",
   "execution_count": 14,
   "metadata": {
    "colab": {
     "base_uri": "https://localhost:8080/",
     "height": 234
    },
    "colab_type": "code",
    "id": "wcLPlpojAmsy",
    "outputId": "52d854a0-0f2f-4a7c-e2d0-9ab62bd65057"
   },
   "outputs": [
    {
     "data": {
      "text/plain": [
       "etc                                      17\n",
       "Shincheonji Church                       14\n",
       "contact with patient                      8\n",
       "overseas inflow                           6\n",
       "Cheongdo Daenam Hospital                  3\n",
       "Guro-gu Call Center                       3\n",
       "gym                                       2\n",
       "Onchun Church                             2\n",
       "Suyeong-gu Kindergarten                   1\n",
       "Pilgrimage to Israel                      1\n",
       "Seosan-si Laboratory                      1\n",
       "Bonghwa Pureun Nursing Home               1\n",
       "Geochang Church                           1\n",
       "Jung-gu Fashion Company                   1\n",
       "Gyeongsan Jeil Silver Town                1\n",
       "Goesan-gun Jangyeon-myeon                 1\n",
       "Changnyeong Coin Karaoke                  1\n",
       "Seongdong-gu APT                          1\n",
       "Gyeongsan Cham Joeun Community Center     1\n",
       "Dongan Church                             1\n",
       "Geochang-gun Woongyang-myeon              1\n",
       "Milal Shelter                             1\n",
       "Ministry of Oceans and Fisheries          1\n",
       "Suwon Saeng Myeong Saem Church            1\n",
       "Hanmaeum Changwon Hospital                1\n",
       "Jin-gu Academy                            1\n",
       "Gyeongsan Seorin Nursing Home             1\n",
       "Haeundae-gu Catholic Church               1\n",
       "Bundang Jesaeng Hospital                  1\n",
       "Eunpyeong St. Mary's Hospital             1\n",
       "Jongno Community Center                   1\n",
       "Name: infection_case, dtype: int64"
      ]
     },
     "execution_count": 14,
     "metadata": {},
     "output_type": "execute_result"
    }
   ],
   "source": [
    "df['infection_case'].value_counts()"
   ]
  },
  {
   "cell_type": "markdown",
   "metadata": {
    "colab_type": "text",
    "id": "7tjjfVWDAFSZ"
   },
   "source": [
    "먼저 어떤 주제로 데이터를 분석하고 신경망을 모델링 할 것인지 정해야 한다. 이번에는 나머지 정보들을 이용해서 'province'를 예측해보고 싶다. 우선 'infection_case'는 81개의 범주나 있기 때문에 이를 예측하는 것은 사실상 매우 어렵다. 따라서 'province'의 값을 나머지 자료들을 이용해 예측해보고자 한다.\n",
    "\n",
    "그러기 위해서는 우선 object자료형으로 이루어진 데이터를 모두 float숫자형 자료로 바꾸어 주고 test_set과 train_set로 나누어주는 과정을 거쳐야 한다.\n",
    "\n",
    "다만 group의 'longitude', 'latitude'값은 필요가 없을 것 같기 떄문에 지워주고 'city'항목의 값을 float로 바꾸고 빈 공간을 채워주고자 한다."
   ]
  },
  {
   "cell_type": "code",
   "execution_count": 15,
   "metadata": {
    "colab": {
     "base_uri": "https://localhost:8080/",
     "height": 53
    },
    "colab_type": "code",
    "id": "GcCAe7zrCaPV",
    "outputId": "2edfabb0-f98d-487a-d28f-8ddb4d51dbcb"
   },
   "outputs": [
    {
     "data": {
      "text/plain": [
       "SimpleImputer(add_indicator=False, copy=True, fill_value=None,\n",
       "              missing_values=nan, strategy='median', verbose=0)"
      ]
     },
     "execution_count": 15,
     "metadata": {},
     "output_type": "execute_result"
    }
   ],
   "source": [
    "df['infection_case'] = ordinal_encoder.fit_transform(df[['infection_case']])\n",
    "df['city'] = ordinal_encoder.fit_transform(df[['city']])\n",
    "from sklearn.impute import SimpleImputer\n",
    "imputer = SimpleImputer(strategy = 'median')\n",
    "df = df.drop('latitude', axis = 1)\n",
    "df = df.drop('longitude', axis = 1)\n",
    "imputer.fit(df)"
   ]
  },
  {
   "cell_type": "code",
   "execution_count": 16,
   "metadata": {
    "colab": {
     "base_uri": "https://localhost:8080/",
     "height": 405
    },
    "colab_type": "code",
    "id": "xkLGHYuqFPcQ",
    "outputId": "c5161ac0-1882-4043-c2da-ae2766168cfc"
   },
   "outputs": [
    {
     "data": {
      "text/html": [
       "<div>\n",
       "<style scoped>\n",
       "    .dataframe tbody tr th:only-of-type {\n",
       "        vertical-align: middle;\n",
       "    }\n",
       "\n",
       "    .dataframe tbody tr th {\n",
       "        vertical-align: top;\n",
       "    }\n",
       "\n",
       "    .dataframe thead th {\n",
       "        text-align: right;\n",
       "    }\n",
       "</style>\n",
       "<table border=\"1\" class=\"dataframe\">\n",
       "  <thead>\n",
       "    <tr style=\"text-align: right;\">\n",
       "      <th></th>\n",
       "      <th>case_id</th>\n",
       "      <th>province</th>\n",
       "      <th>city</th>\n",
       "      <th>group</th>\n",
       "      <th>infection_case</th>\n",
       "      <th>confirmed</th>\n",
       "    </tr>\n",
       "  </thead>\n",
       "  <tbody>\n",
       "    <tr>\n",
       "      <th>0</th>\n",
       "      <td>1</td>\n",
       "      <td>15.0</td>\n",
       "      <td>14.0</td>\n",
       "      <td>1.0</td>\n",
       "      <td>9.0</td>\n",
       "      <td>70</td>\n",
       "    </tr>\n",
       "    <tr>\n",
       "      <th>1</th>\n",
       "      <td>2</td>\n",
       "      <td>15.0</td>\n",
       "      <td>11.0</td>\n",
       "      <td>1.0</td>\n",
       "      <td>5.0</td>\n",
       "      <td>14</td>\n",
       "    </tr>\n",
       "    <tr>\n",
       "      <th>2</th>\n",
       "      <td>3</td>\n",
       "      <td>15.0</td>\n",
       "      <td>21.0</td>\n",
       "      <td>1.0</td>\n",
       "      <td>22.0</td>\n",
       "      <td>13</td>\n",
       "    </tr>\n",
       "    <tr>\n",
       "      <th>3</th>\n",
       "      <td>4</td>\n",
       "      <td>15.0</td>\n",
       "      <td>18.0</td>\n",
       "      <td>1.0</td>\n",
       "      <td>16.0</td>\n",
       "      <td>10</td>\n",
       "    </tr>\n",
       "    <tr>\n",
       "      <th>4</th>\n",
       "      <td>5</td>\n",
       "      <td>15.0</td>\n",
       "      <td>8.0</td>\n",
       "      <td>1.0</td>\n",
       "      <td>4.0</td>\n",
       "      <td>9</td>\n",
       "    </tr>\n",
       "    <tr>\n",
       "      <th>...</th>\n",
       "      <td>...</td>\n",
       "      <td>...</td>\n",
       "      <td>...</td>\n",
       "      <td>...</td>\n",
       "      <td>...</td>\n",
       "      <td>...</td>\n",
       "    </tr>\n",
       "    <tr>\n",
       "      <th>73</th>\n",
       "      <td>74</td>\n",
       "      <td>9.0</td>\n",
       "      <td>4.0</td>\n",
       "      <td>1.0</td>\n",
       "      <td>14.0</td>\n",
       "      <td>7</td>\n",
       "    </tr>\n",
       "    <tr>\n",
       "      <th>74</th>\n",
       "      <td>75</td>\n",
       "      <td>9.0</td>\n",
       "      <td>3.0</td>\n",
       "      <td>1.0</td>\n",
       "      <td>2.0</td>\n",
       "      <td>7</td>\n",
       "    </tr>\n",
       "    <tr>\n",
       "      <th>75</th>\n",
       "      <td>76</td>\n",
       "      <td>9.0</td>\n",
       "      <td>26.0</td>\n",
       "      <td>1.0</td>\n",
       "      <td>20.0</td>\n",
       "      <td>2</td>\n",
       "    </tr>\n",
       "    <tr>\n",
       "      <th>76</th>\n",
       "      <td>77</td>\n",
       "      <td>9.0</td>\n",
       "      <td>0.0</td>\n",
       "      <td>0.0</td>\n",
       "      <td>28.0</td>\n",
       "      <td>22</td>\n",
       "    </tr>\n",
       "    <tr>\n",
       "      <th>77</th>\n",
       "      <td>78</td>\n",
       "      <td>11.0</td>\n",
       "      <td>0.0</td>\n",
       "      <td>0.0</td>\n",
       "      <td>28.0</td>\n",
       "      <td>4</td>\n",
       "    </tr>\n",
       "  </tbody>\n",
       "</table>\n",
       "<p>78 rows × 6 columns</p>\n",
       "</div>"
      ],
      "text/plain": [
       "    case_id  province  city  group  infection_case  confirmed\n",
       "0         1      15.0  14.0    1.0             9.0         70\n",
       "1         2      15.0  11.0    1.0             5.0         14\n",
       "2         3      15.0  21.0    1.0            22.0         13\n",
       "3         4      15.0  18.0    1.0            16.0         10\n",
       "4         5      15.0   8.0    1.0             4.0          9\n",
       "..      ...       ...   ...    ...             ...        ...\n",
       "73       74       9.0   4.0    1.0            14.0          7\n",
       "74       75       9.0   3.0    1.0             2.0          7\n",
       "75       76       9.0  26.0    1.0            20.0          2\n",
       "76       77       9.0   0.0    0.0            28.0         22\n",
       "77       78      11.0   0.0    0.0            28.0          4\n",
       "\n",
       "[78 rows x 6 columns]"
      ]
     },
     "execution_count": 16,
     "metadata": {},
     "output_type": "execute_result"
    }
   ],
   "source": [
    "df"
   ]
  },
  {
   "cell_type": "code",
   "execution_count": null,
   "metadata": {
    "colab": {},
    "colab_type": "code",
    "id": "BXP5OcbnFrez"
   },
   "outputs": [],
   "source": []
  },
  {
   "cell_type": "code",
   "execution_count": 17,
   "metadata": {
    "colab": {},
    "colab_type": "code",
    "id": "SOsSU3gGiRrI"
   },
   "outputs": [],
   "source": [
    "from sklearn.model_selection import train_test_split\n",
    "train_set, test_set = train_test_split(df, test_size = 0.2, random_state = 44)"
   ]
  },
  {
   "cell_type": "markdown",
   "metadata": {
    "colab_type": "text",
    "id": "qiDi3uqIGCHR"
   },
   "source": [
    "위와 같이 8:2의 비율로 train data와 test data를 나누어 주었다. 즉, 원하는 테스트셋이 마련 된 것이다.\n",
    "\n",
    "그렇게 데이터셋 자체만 나눈 뒤에 우리가 예측하고자 하는 값인 'province'만 떼어놓고 df_train_labels, 즉 엄밀히 말하면 y값으로 설정했다."
   ]
  },
  {
   "cell_type": "code",
   "execution_count": 18,
   "metadata": {
    "colab": {},
    "colab_type": "code",
    "id": "8AHrlAkXFu6B"
   },
   "outputs": [],
   "source": [
    "df_train_data = train_set.drop('province', axis = 1)\n",
    "df_train_labels = train_set['province'].copy()"
   ]
  },
  {
   "cell_type": "code",
   "execution_count": 19,
   "metadata": {
    "colab": {
     "base_uri": "https://localhost:8080/",
     "height": 405
    },
    "colab_type": "code",
    "id": "_Gf48CMSF9is",
    "outputId": "30990043-d2b3-4ae5-f882-4d41d1954ff1"
   },
   "outputs": [
    {
     "data": {
      "text/html": [
       "<div>\n",
       "<style scoped>\n",
       "    .dataframe tbody tr th:only-of-type {\n",
       "        vertical-align: middle;\n",
       "    }\n",
       "\n",
       "    .dataframe tbody tr th {\n",
       "        vertical-align: top;\n",
       "    }\n",
       "\n",
       "    .dataframe thead th {\n",
       "        text-align: right;\n",
       "    }\n",
       "</style>\n",
       "<table border=\"1\" class=\"dataframe\">\n",
       "  <thead>\n",
       "    <tr style=\"text-align: right;\">\n",
       "      <th></th>\n",
       "      <th>case_id</th>\n",
       "      <th>city</th>\n",
       "      <th>group</th>\n",
       "      <th>infection_case</th>\n",
       "      <th>confirmed</th>\n",
       "    </tr>\n",
       "  </thead>\n",
       "  <tbody>\n",
       "    <tr>\n",
       "      <th>24</th>\n",
       "      <td>25</td>\n",
       "      <td>26.0</td>\n",
       "      <td>1.0</td>\n",
       "      <td>24.0</td>\n",
       "      <td>9</td>\n",
       "    </tr>\n",
       "    <tr>\n",
       "      <th>25</th>\n",
       "      <td>26</td>\n",
       "      <td>0.0</td>\n",
       "      <td>0.0</td>\n",
       "      <td>30.0</td>\n",
       "      <td>1</td>\n",
       "    </tr>\n",
       "    <tr>\n",
       "      <th>76</th>\n",
       "      <td>77</td>\n",
       "      <td>0.0</td>\n",
       "      <td>0.0</td>\n",
       "      <td>28.0</td>\n",
       "      <td>22</td>\n",
       "    </tr>\n",
       "    <tr>\n",
       "      <th>15</th>\n",
       "      <td>16</td>\n",
       "      <td>20.0</td>\n",
       "      <td>1.0</td>\n",
       "      <td>24.0</td>\n",
       "      <td>4126</td>\n",
       "    </tr>\n",
       "    <tr>\n",
       "      <th>26</th>\n",
       "      <td>27</td>\n",
       "      <td>0.0</td>\n",
       "      <td>0.0</td>\n",
       "      <td>28.0</td>\n",
       "      <td>5</td>\n",
       "    </tr>\n",
       "    <tr>\n",
       "      <th>...</th>\n",
       "      <td>...</td>\n",
       "      <td>...</td>\n",
       "      <td>...</td>\n",
       "      <td>...</td>\n",
       "      <td>...</td>\n",
       "    </tr>\n",
       "    <tr>\n",
       "      <th>3</th>\n",
       "      <td>4</td>\n",
       "      <td>18.0</td>\n",
       "      <td>1.0</td>\n",
       "      <td>16.0</td>\n",
       "      <td>10</td>\n",
       "    </tr>\n",
       "    <tr>\n",
       "      <th>59</th>\n",
       "      <td>60</td>\n",
       "      <td>0.0</td>\n",
       "      <td>0.0</td>\n",
       "      <td>27.0</td>\n",
       "      <td>1</td>\n",
       "    </tr>\n",
       "    <tr>\n",
       "      <th>45</th>\n",
       "      <td>46</td>\n",
       "      <td>0.0</td>\n",
       "      <td>0.0</td>\n",
       "      <td>28.0</td>\n",
       "      <td>10</td>\n",
       "    </tr>\n",
       "    <tr>\n",
       "      <th>35</th>\n",
       "      <td>36</td>\n",
       "      <td>26.0</td>\n",
       "      <td>1.0</td>\n",
       "      <td>24.0</td>\n",
       "      <td>1</td>\n",
       "    </tr>\n",
       "    <tr>\n",
       "      <th>20</th>\n",
       "      <td>21</td>\n",
       "      <td>0.0</td>\n",
       "      <td>0.0</td>\n",
       "      <td>27.0</td>\n",
       "      <td>4</td>\n",
       "    </tr>\n",
       "  </tbody>\n",
       "</table>\n",
       "<p>62 rows × 5 columns</p>\n",
       "</div>"
      ],
      "text/plain": [
       "    case_id  city  group  infection_case  confirmed\n",
       "24       25  26.0    1.0            24.0          9\n",
       "25       26   0.0    0.0            30.0          1\n",
       "76       77   0.0    0.0            28.0         22\n",
       "15       16  20.0    1.0            24.0       4126\n",
       "26       27   0.0    0.0            28.0          5\n",
       "..      ...   ...    ...             ...        ...\n",
       "3         4  18.0    1.0            16.0         10\n",
       "59       60   0.0    0.0            27.0          1\n",
       "45       46   0.0    0.0            28.0         10\n",
       "35       36  26.0    1.0            24.0          1\n",
       "20       21   0.0    0.0            27.0          4\n",
       "\n",
       "[62 rows x 5 columns]"
      ]
     },
     "execution_count": 19,
     "metadata": {},
     "output_type": "execute_result"
    }
   ],
   "source": [
    "df_train_data"
   ]
  },
  {
   "cell_type": "markdown",
   "metadata": {
    "colab_type": "text",
    "id": "YA7RxL85GnJl"
   },
   "source": [
    "train의 개수는 139개, test는 35개이다"
   ]
  },
  {
   "cell_type": "markdown",
   "metadata": {
    "colab_type": "text",
    "id": "YCayam2JHCR-"
   },
   "source": [
    "사실 지금까지의 연속된 데이터를 변형하는 등의 과정을 pipeline으로 설정해 놓았다면 계속해서 사용할 수 있어서 장기적으로는 유리하기 때문에 만들어 보고자 한다."
   ]
  },
  {
   "cell_type": "code",
   "execution_count": 20,
   "metadata": {
    "colab": {},
    "colab_type": "code",
    "id": "KsTwjnLgKiYs"
   },
   "outputs": [],
   "source": [
    "from sklearn.compose import ColumnTransformer"
   ]
  },
  {
   "cell_type": "markdown",
   "metadata": {
    "colab_type": "text",
    "id": "ESZulLLtHYgt"
   },
   "source": [
    "이제 학습을 위한 모델 설정을 해보려고 한다."
   ]
  },
  {
   "cell_type": "markdown",
   "metadata": {
    "colab_type": "text",
    "id": "KKqZHqAYJJEe"
   },
   "source": [
    "1. sklearn.svm의 모델중 하나인 SVR이용\n",
    "-> 학습법의 하나로, 서포트 벡터 머신 회귀 이다."
   ]
  },
  {
   "cell_type": "code",
   "execution_count": 21,
   "metadata": {
    "colab": {},
    "colab_type": "code",
    "id": "vBq43MuwGFhj"
   },
   "outputs": [
    {
     "data": {
      "text/plain": [
       "GridSearchCV(cv=5, error_score=nan,\n",
       "             estimator=SVR(C=1.0, cache_size=200, coef0=0.0, degree=3,\n",
       "                           epsilon=0.1, gamma='scale', kernel='rbf',\n",
       "                           max_iter=-1, shrinking=True, tol=0.001,\n",
       "                           verbose=False),\n",
       "             iid='deprecated', n_jobs=None,\n",
       "             param_grid=[{'C': [10, 30, 100, 300], 'kernel': ['linear']},\n",
       "                         {'C': [1, 3, 10, 30, 100, 300],\n",
       "                          'gamma': [0.01, 0.03, 0.1, 0.3, 1, 3],\n",
       "                          'kernel': ['rbf']}],\n",
       "             pre_dispatch='2*n_jobs', refit=True, return_train_score=True,\n",
       "             scoring='neg_mean_squared_error', verbose=0)"
      ]
     },
     "execution_count": 21,
     "metadata": {},
     "output_type": "execute_result"
    }
   ],
   "source": [
    "from sklearn.model_selection import GridSearchCV\n",
    "from sklearn.svm import SVR\n",
    "\n",
    "param_grid = [\n",
    "              {'kernel' : ['linear'], 'C': [10,30,100,300]},\n",
    "              {'kernel' : ['rbf'], 'C': [1,3,10,30,100,300], 'gamma': [0.01,0.03,0.1,0.3,1,3]},\n",
    "]\n",
    "svm_reg = SVR()\n",
    "grid_search = GridSearchCV(svm_reg, param_grid, cv= 5, scoring = 'neg_mean_squared_error', return_train_score = True)\n",
    "grid_search.fit(df_train_data, df_train_labels)"
   ]
  },
  {
   "cell_type": "code",
   "execution_count": 24,
   "metadata": {
    "colab": {},
    "colab_type": "code",
    "id": "PSMDpqWkIiio"
   },
   "outputs": [
    {
     "name": "stdout",
     "output_type": "stream",
     "text": [
      "{'C': 300, 'gamma': 0.01, 'kernel': 'rbf'}\n"
     ]
    }
   ],
   "source": [
    "print(grid_search.best_params_)\n",
    "final_model_1 = grid_search.best_estimator_"
   ]
  },
  {
   "cell_type": "code",
   "execution_count": 25,
   "metadata": {},
   "outputs": [
    {
     "data": {
      "text/plain": [
       "SVR(C=300, cache_size=200, coef0=0.0, degree=3, epsilon=0.1, gamma=0.01,\n",
       "    kernel='rbf', max_iter=-1, shrinking=True, tol=0.001, verbose=False)"
      ]
     },
     "execution_count": 25,
     "metadata": {},
     "output_type": "execute_result"
    }
   ],
   "source": [
    "final_model_1"
   ]
  },
  {
   "cell_type": "markdown",
   "metadata": {
    "colab_type": "text",
    "id": "hXm_KsbVJgTv"
   },
   "source": [
    "2. sklearn.ensemble의 RandomForestRegressor 이용\n",
    "-> 마찬가지로 학습법중 하나로, tree구조의 하나인데 ensemble의 방법을 사용해 다양한 범주로 데이터를 나누어서 각 데이터 별로 적합한 모델을 설정하여 모델들을 합쳐서 사용한다."
   ]
  },
  {
   "cell_type": "code",
   "execution_count": 35,
   "metadata": {
    "colab": {},
    "colab_type": "code",
    "id": "epihoUmlJ2Lo"
   },
   "outputs": [
    {
     "name": "stderr",
     "output_type": "stream",
     "text": [
      "C:\\newana\\lib\\site-packages\\sklearn\\model_selection\\_validation.py:536: FitFailedWarning: Estimator fit failed. The score on this train-test partition for these parameters will be set to nan. Details: \n",
      "ValueError: max_features must be in (0, n_features]\n",
      "\n",
      "  FitFailedWarning)\n",
      "C:\\newana\\lib\\site-packages\\sklearn\\model_selection\\_validation.py:536: FitFailedWarning: Estimator fit failed. The score on this train-test partition for these parameters will be set to nan. Details: \n",
      "ValueError: max_features must be in (0, n_features]\n",
      "\n",
      "  FitFailedWarning)\n",
      "C:\\newana\\lib\\site-packages\\sklearn\\model_selection\\_validation.py:536: FitFailedWarning: Estimator fit failed. The score on this train-test partition for these parameters will be set to nan. Details: \n",
      "ValueError: max_features must be in (0, n_features]\n",
      "\n",
      "  FitFailedWarning)\n",
      "C:\\newana\\lib\\site-packages\\sklearn\\model_selection\\_validation.py:536: FitFailedWarning: Estimator fit failed. The score on this train-test partition for these parameters will be set to nan. Details: \n",
      "ValueError: max_features must be in (0, n_features]\n",
      "\n",
      "  FitFailedWarning)\n",
      "C:\\newana\\lib\\site-packages\\sklearn\\model_selection\\_validation.py:536: FitFailedWarning: Estimator fit failed. The score on this train-test partition for these parameters will be set to nan. Details: \n",
      "ValueError: max_features must be in (0, n_features]\n",
      "\n",
      "  FitFailedWarning)\n",
      "C:\\newana\\lib\\site-packages\\sklearn\\model_selection\\_validation.py:536: FitFailedWarning: Estimator fit failed. The score on this train-test partition for these parameters will be set to nan. Details: \n",
      "ValueError: max_features must be in (0, n_features]\n",
      "\n",
      "  FitFailedWarning)\n",
      "C:\\newana\\lib\\site-packages\\sklearn\\model_selection\\_validation.py:536: FitFailedWarning: Estimator fit failed. The score on this train-test partition for these parameters will be set to nan. Details: \n",
      "ValueError: max_features must be in (0, n_features]\n",
      "\n",
      "  FitFailedWarning)\n",
      "C:\\newana\\lib\\site-packages\\sklearn\\model_selection\\_validation.py:536: FitFailedWarning: Estimator fit failed. The score on this train-test partition for these parameters will be set to nan. Details: \n",
      "ValueError: max_features must be in (0, n_features]\n",
      "\n",
      "  FitFailedWarning)\n",
      "C:\\newana\\lib\\site-packages\\sklearn\\model_selection\\_validation.py:536: FitFailedWarning: Estimator fit failed. The score on this train-test partition for these parameters will be set to nan. Details: \n",
      "ValueError: max_features must be in (0, n_features]\n",
      "\n",
      "  FitFailedWarning)\n",
      "C:\\newana\\lib\\site-packages\\sklearn\\model_selection\\_validation.py:536: FitFailedWarning: Estimator fit failed. The score on this train-test partition for these parameters will be set to nan. Details: \n",
      "ValueError: max_features must be in (0, n_features]\n",
      "\n",
      "  FitFailedWarning)\n",
      "C:\\newana\\lib\\site-packages\\sklearn\\model_selection\\_validation.py:536: FitFailedWarning: Estimator fit failed. The score on this train-test partition for these parameters will be set to nan. Details: \n",
      "ValueError: max_features must be in (0, n_features]\n",
      "\n",
      "  FitFailedWarning)\n",
      "C:\\newana\\lib\\site-packages\\sklearn\\model_selection\\_validation.py:536: FitFailedWarning: Estimator fit failed. The score on this train-test partition for these parameters will be set to nan. Details: \n",
      "ValueError: max_features must be in (0, n_features]\n",
      "\n",
      "  FitFailedWarning)\n",
      "C:\\newana\\lib\\site-packages\\sklearn\\model_selection\\_validation.py:536: FitFailedWarning: Estimator fit failed. The score on this train-test partition for these parameters will be set to nan. Details: \n",
      "ValueError: max_features must be in (0, n_features]\n",
      "\n",
      "  FitFailedWarning)\n",
      "C:\\newana\\lib\\site-packages\\sklearn\\model_selection\\_validation.py:536: FitFailedWarning: Estimator fit failed. The score on this train-test partition for these parameters will be set to nan. Details: \n",
      "ValueError: max_features must be in (0, n_features]\n",
      "\n",
      "  FitFailedWarning)\n",
      "C:\\newana\\lib\\site-packages\\sklearn\\model_selection\\_validation.py:536: FitFailedWarning: Estimator fit failed. The score on this train-test partition for these parameters will be set to nan. Details: \n",
      "ValueError: max_features must be in (0, n_features]\n",
      "\n",
      "  FitFailedWarning)\n",
      "C:\\newana\\lib\\site-packages\\sklearn\\model_selection\\_validation.py:536: FitFailedWarning: Estimator fit failed. The score on this train-test partition for these parameters will be set to nan. Details: \n",
      "ValueError: max_features must be in (0, n_features]\n",
      "\n",
      "  FitFailedWarning)\n",
      "C:\\newana\\lib\\site-packages\\sklearn\\model_selection\\_validation.py:536: FitFailedWarning: Estimator fit failed. The score on this train-test partition for these parameters will be set to nan. Details: \n",
      "ValueError: max_features must be in (0, n_features]\n",
      "\n",
      "  FitFailedWarning)\n",
      "C:\\newana\\lib\\site-packages\\sklearn\\model_selection\\_validation.py:536: FitFailedWarning: Estimator fit failed. The score on this train-test partition for these parameters will be set to nan. Details: \n",
      "ValueError: max_features must be in (0, n_features]\n",
      "\n",
      "  FitFailedWarning)\n",
      "C:\\newana\\lib\\site-packages\\sklearn\\model_selection\\_validation.py:536: FitFailedWarning: Estimator fit failed. The score on this train-test partition for these parameters will be set to nan. Details: \n",
      "ValueError: max_features must be in (0, n_features]\n",
      "\n",
      "  FitFailedWarning)\n",
      "C:\\newana\\lib\\site-packages\\sklearn\\model_selection\\_validation.py:536: FitFailedWarning: Estimator fit failed. The score on this train-test partition for these parameters will be set to nan. Details: \n",
      "ValueError: max_features must be in (0, n_features]\n",
      "\n",
      "  FitFailedWarning)\n",
      "C:\\newana\\lib\\site-packages\\sklearn\\model_selection\\_validation.py:536: FitFailedWarning: Estimator fit failed. The score on this train-test partition for these parameters will be set to nan. Details: \n",
      "ValueError: max_features must be in (0, n_features]\n",
      "\n",
      "  FitFailedWarning)\n",
      "C:\\newana\\lib\\site-packages\\sklearn\\model_selection\\_validation.py:536: FitFailedWarning: Estimator fit failed. The score on this train-test partition for these parameters will be set to nan. Details: \n",
      "ValueError: max_features must be in (0, n_features]\n",
      "\n",
      "  FitFailedWarning)\n",
      "C:\\newana\\lib\\site-packages\\sklearn\\model_selection\\_validation.py:536: FitFailedWarning: Estimator fit failed. The score on this train-test partition for these parameters will be set to nan. Details: \n",
      "ValueError: max_features must be in (0, n_features]\n",
      "\n",
      "  FitFailedWarning)\n",
      "C:\\newana\\lib\\site-packages\\sklearn\\model_selection\\_validation.py:536: FitFailedWarning: Estimator fit failed. The score on this train-test partition for these parameters will be set to nan. Details: \n",
      "ValueError: max_features must be in (0, n_features]\n",
      "\n",
      "  FitFailedWarning)\n",
      "C:\\newana\\lib\\site-packages\\sklearn\\model_selection\\_validation.py:536: FitFailedWarning: Estimator fit failed. The score on this train-test partition for these parameters will be set to nan. Details: \n",
      "ValueError: max_features must be in (0, n_features]\n",
      "\n",
      "  FitFailedWarning)\n",
      "C:\\newana\\lib\\site-packages\\sklearn\\model_selection\\_validation.py:536: FitFailedWarning: Estimator fit failed. The score on this train-test partition for these parameters will be set to nan. Details: \n",
      "ValueError: max_features must be in (0, n_features]\n",
      "\n",
      "  FitFailedWarning)\n",
      "C:\\newana\\lib\\site-packages\\sklearn\\model_selection\\_validation.py:536: FitFailedWarning: Estimator fit failed. The score on this train-test partition for these parameters will be set to nan. Details: \n",
      "ValueError: max_features must be in (0, n_features]\n",
      "\n",
      "  FitFailedWarning)\n",
      "C:\\newana\\lib\\site-packages\\sklearn\\model_selection\\_validation.py:536: FitFailedWarning: Estimator fit failed. The score on this train-test partition for these parameters will be set to nan. Details: \n",
      "ValueError: max_features must be in (0, n_features]\n",
      "\n",
      "  FitFailedWarning)\n",
      "C:\\newana\\lib\\site-packages\\sklearn\\model_selection\\_validation.py:536: FitFailedWarning: Estimator fit failed. The score on this train-test partition for these parameters will be set to nan. Details: \n",
      "ValueError: max_features must be in (0, n_features]\n",
      "\n",
      "  FitFailedWarning)\n",
      "C:\\newana\\lib\\site-packages\\sklearn\\model_selection\\_validation.py:536: FitFailedWarning: Estimator fit failed. The score on this train-test partition for these parameters will be set to nan. Details: \n",
      "ValueError: max_features must be in (0, n_features]\n",
      "\n",
      "  FitFailedWarning)\n"
     ]
    },
    {
     "data": {
      "text/plain": [
       "GridSearchCV(cv=5, error_score=nan,\n",
       "             estimator=RandomForestRegressor(bootstrap=True, ccp_alpha=0.0,\n",
       "                                             criterion='mse', max_depth=None,\n",
       "                                             max_features='auto',\n",
       "                                             max_leaf_nodes=None,\n",
       "                                             max_samples=None,\n",
       "                                             min_impurity_decrease=0.0,\n",
       "                                             min_impurity_split=None,\n",
       "                                             min_samples_leaf=1,\n",
       "                                             min_samples_split=2,\n",
       "                                             min_weight_fraction_leaf=0.0,\n",
       "                                             n_estimators=100, n_jobs=None,\n",
       "                                             oob_score=False, random_state=None,\n",
       "                                             verbose=0, warm_start=False),\n",
       "             iid='deprecated', n_jobs=None,\n",
       "             param_grid=[{'max_features': [2, 4, 6, 8],\n",
       "                          'n_estimators': [3, 10, 30]},\n",
       "                         {'bootstrap': [False], 'max_features': [2, 3, 4],\n",
       "                          'n_estimators': [3, 10]}],\n",
       "             pre_dispatch='2*n_jobs', refit=True, return_train_score=True,\n",
       "             scoring='neg_mean_squared_error', verbose=0)"
      ]
     },
     "execution_count": 35,
     "metadata": {},
     "output_type": "execute_result"
    }
   ],
   "source": [
    "from sklearn.ensemble import RandomForestRegressor\n",
    "\n",
    "param_grid = [\n",
    "              {'n_estimators':[3,10,30], 'max_features': [2,4,6,8]},\n",
    "              {'bootstrap': [False], 'n_estimators': [3,10], 'max_features' : [2,3,4]},\n",
    "]\n",
    "\n",
    "forest_reg = RandomForestRegressor()\n",
    "grid_search = GridSearchCV(forest_reg, param_grid, cv = 5, scoring = 'neg_mean_squared_error', return_train_score = True)\n",
    "grid_search.fit(df_train_data, df_train_labels)"
   ]
  },
  {
   "cell_type": "code",
   "execution_count": 28,
   "metadata": {
    "colab": {},
    "colab_type": "code",
    "id": "nO9jKXqjKIvO"
   },
   "outputs": [
    {
     "name": "stdout",
     "output_type": "stream",
     "text": [
      "{'bootstrap': False, 'max_features': 4, 'n_estimators': 10}\n"
     ]
    },
    {
     "data": {
      "text/plain": [
       "RandomForestRegressor(bootstrap=False, ccp_alpha=0.0, criterion='mse',\n",
       "                      max_depth=None, max_features=4, max_leaf_nodes=None,\n",
       "                      max_samples=None, min_impurity_decrease=0.0,\n",
       "                      min_impurity_split=None, min_samples_leaf=1,\n",
       "                      min_samples_split=2, min_weight_fraction_leaf=0.0,\n",
       "                      n_estimators=10, n_jobs=None, oob_score=False,\n",
       "                      random_state=None, verbose=0, warm_start=False)"
      ]
     },
     "execution_count": 28,
     "metadata": {},
     "output_type": "execute_result"
    }
   ],
   "source": [
    "print(grid_search.best_params_)\n",
    "final_model_2 = grid_search.best_estimator_\n",
    "final_model_2"
   ]
  },
  {
   "cell_type": "markdown",
   "metadata": {
    "colab_type": "text",
    "id": "gKon0nCpKJa_"
   },
   "source": [
    "테스트셋 생성 마무리하기\n"
   ]
  },
  {
   "cell_type": "code",
   "execution_count": 29,
   "metadata": {
    "colab": {},
    "colab_type": "code",
    "id": "31Tp3OQGKJFj"
   },
   "outputs": [],
   "source": [
    "df_test_data = test_set.drop('province', axis = 1)\n",
    "df_test_labels = test_set['province'].copy()"
   ]
  },
  {
   "cell_type": "markdown",
   "metadata": {
    "colab_type": "text",
    "id": "ugRUD5mqLS1s"
   },
   "source": [
    "두개의 모델에 대한 적합도와 최적의 모델 찾기"
   ]
  },
  {
   "cell_type": "code",
   "execution_count": 55,
   "metadata": {
    "colab": {},
    "colab_type": "code",
    "id": "rRVFMfmILSfp"
   },
   "outputs": [
    {
     "name": "stdout",
     "output_type": "stream",
     "text": [
      "4.341591345798684 3.2461515676258865\n"
     ]
    }
   ],
   "source": [
    "import numpy as np\n",
    "from sklearn.metrics import mean_squared_error\n",
    "final_mse_1 = np.sqrt(mean_squared_error(df_test_labels, final_model_1.predict(df_test_data)))\n",
    "final_mse_2 = np.sqrt(mean_squared_error(df_test_labels, final_model_2.predict(df_test_data)))\n",
    "\n",
    "print(final_mse_1, final_mse_2)"
   ]
  },
  {
   "cell_type": "code",
   "execution_count": 56,
   "metadata": {},
   "outputs": [
    {
     "name": "stdout",
     "output_type": "stream",
     "text": [
      "Best Model: SVR   Accuracy: 68.51   Loss: 4.341591345798684\n"
     ]
    }
   ],
   "source": [
    "mape1 = np.mean(np.abs((df_test_labels - final_model_1.predict(df_test_data)) / np.abs(df_test_labels)))\n",
    "mape2 = np.mean(np.abs((df_test_labels - final_model_2.predict(df_test_data)) / np.abs(df_test_labels)))\n",
    "accuracy1 = round(100*(1 - mape1), 2)\n",
    "accuracy2 = round(100*(1 - mape2), 2)\n",
    "\n",
    "if accuracy1 > accuracy2:print('Best Model: SVR   Accuracy: %s   Loss: %s' %(accuracy1, final_mse_1))\n",
    "else:print('Best Model: Random Tree   Accuracy: %s   Loss: %s' %(accuracy2, final_mse_2))\n"
   ]
  },
  {
   "cell_type": "code",
   "execution_count": null,
   "metadata": {},
   "outputs": [],
   "source": []
  }
 ],
 "metadata": {
  "accelerator": "GPU",
  "colab": {
   "collapsed_sections": [],
   "name": "Data_Analysis_Proj1.(Kaggle_CoronaVirusDataset)",
   "provenance": []
  },
  "kernelspec": {
   "display_name": "Python 3",
   "language": "python",
   "name": "python3"
  },
  "language_info": {
   "codemirror_mode": {
    "name": "ipython",
    "version": 3
   },
   "file_extension": ".py",
   "mimetype": "text/x-python",
   "name": "python",
   "nbconvert_exporter": "python",
   "pygments_lexer": "ipython3",
   "version": "3.7.6"
  }
 },
 "nbformat": 4,
 "nbformat_minor": 1
}
