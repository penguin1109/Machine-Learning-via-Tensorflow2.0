{
  "nbformat": 4,
  "nbformat_minor": 0,
  "metadata": {
    "colab": {
      "name": "Naver 금융-삼성 주식 시계열 RNN",
      "provenance": []
    },
    "kernelspec": {
      "name": "python3",
      "display_name": "Python 3"
    }
  },
  "cells": [
    {
      "cell_type": "code",
      "metadata": {
        "id": "abs0EGEgWolJ",
        "colab_type": "code",
        "colab": {}
      },
      "source": [
        "import tensorflow as tf\n",
        "import matplotlib.pyplot as plt\n",
        "import pandas as pd\n",
        "import numpy as np"
      ],
      "execution_count": 1,
      "outputs": []
    },
    {
      "cell_type": "markdown",
      "metadata": {
        "id": "ti6KN8fGZB7-",
        "colab_type": "text"
      },
      "source": [
        "## Naver 금융 사이트에서 시계열 데이터인 주식 데이터를 가져와서 분석하고자 한다.\n",
        "\n",
        "### Crawling 방법 1. URL 이용하기\n",
        "#### 1. 한국 거래소(krx)에서 종목 코드 가져오기"
      ]
    },
    {
      "cell_type": "code",
      "metadata": {
        "id": "r4p3l1UXY48i",
        "colab_type": "code",
        "colab": {}
      },
      "source": [
        "code_df = pd.read_html('http://kind.krx.co.kr/corpgeneral/corpList.do?method=download&searchType=13', header=0)[0]\n",
        "#pd.read_html을 하면 HTML에서 <table></table> 태그를 찾아 자동으로 Pandas Dataframe으로 바꾸어 준다.\n",
        "code_df.종목코드 = code_df.종목코드.map('{:06d}'.format)"
      ],
      "execution_count": 2,
      "outputs": []
    },
    {
      "cell_type": "code",
      "metadata": {
        "id": "BUPWNeCUZWAR",
        "colab_type": "code",
        "colab": {
          "base_uri": "https://localhost:8080/",
          "height": 388
        },
        "outputId": "17d27b7e-6b79-43e6-bd77-8e250f203966"
      },
      "source": [
        "code_df.head()"
      ],
      "execution_count": 3,
      "outputs": [
        {
          "output_type": "execute_result",
          "data": {
            "text/html": [
              "<div>\n",
              "<style scoped>\n",
              "    .dataframe tbody tr th:only-of-type {\n",
              "        vertical-align: middle;\n",
              "    }\n",
              "\n",
              "    .dataframe tbody tr th {\n",
              "        vertical-align: top;\n",
              "    }\n",
              "\n",
              "    .dataframe thead th {\n",
              "        text-align: right;\n",
              "    }\n",
              "</style>\n",
              "<table border=\"1\" class=\"dataframe\">\n",
              "  <thead>\n",
              "    <tr style=\"text-align: right;\">\n",
              "      <th></th>\n",
              "      <th>회사명</th>\n",
              "      <th>종목코드</th>\n",
              "      <th>업종</th>\n",
              "      <th>주요제품</th>\n",
              "      <th>상장일</th>\n",
              "      <th>결산월</th>\n",
              "      <th>대표자명</th>\n",
              "      <th>홈페이지</th>\n",
              "      <th>지역</th>\n",
              "    </tr>\n",
              "  </thead>\n",
              "  <tbody>\n",
              "    <tr>\n",
              "      <th>0</th>\n",
              "      <td>DSR</td>\n",
              "      <td>155660</td>\n",
              "      <td>1차 비철금속 제조업</td>\n",
              "      <td>합섬섬유로프</td>\n",
              "      <td>2013-05-15</td>\n",
              "      <td>12월</td>\n",
              "      <td>홍석빈</td>\n",
              "      <td>http://www.dsr.com</td>\n",
              "      <td>부산광역시</td>\n",
              "    </tr>\n",
              "    <tr>\n",
              "      <th>1</th>\n",
              "      <td>GS</td>\n",
              "      <td>078930</td>\n",
              "      <td>기타 금융업</td>\n",
              "      <td>지주회사/부동산 임대</td>\n",
              "      <td>2004-08-05</td>\n",
              "      <td>12월</td>\n",
              "      <td>허태수, 홍순기 (각자 대표이사)</td>\n",
              "      <td>NaN</td>\n",
              "      <td>서울특별시</td>\n",
              "    </tr>\n",
              "    <tr>\n",
              "      <th>2</th>\n",
              "      <td>GS글로벌</td>\n",
              "      <td>001250</td>\n",
              "      <td>상품 종합 도매업</td>\n",
              "      <td>수출입업(시멘트,철강금속,전기전자,섬유,기계화학),상품중개,광업,채석업/하수처리 서...</td>\n",
              "      <td>1976-06-26</td>\n",
              "      <td>12월</td>\n",
              "      <td>김태형</td>\n",
              "      <td>http://www.gsgcorp.com</td>\n",
              "      <td>서울특별시</td>\n",
              "    </tr>\n",
              "    <tr>\n",
              "      <th>3</th>\n",
              "      <td>HDC현대산업개발</td>\n",
              "      <td>294870</td>\n",
              "      <td>건물 건설업</td>\n",
              "      <td>외주주택, 자체공사, 일반건축, 토목 등</td>\n",
              "      <td>2018-06-12</td>\n",
              "      <td>12월</td>\n",
              "      <td>권순호, 정경구</td>\n",
              "      <td>http://www.hdc-dvp.com</td>\n",
              "      <td>서울특별시</td>\n",
              "    </tr>\n",
              "    <tr>\n",
              "      <th>4</th>\n",
              "      <td>LG이노텍</td>\n",
              "      <td>011070</td>\n",
              "      <td>전자부품 제조업</td>\n",
              "      <td>기타 전자부품 제조업</td>\n",
              "      <td>2008-07-24</td>\n",
              "      <td>12월</td>\n",
              "      <td>정철동</td>\n",
              "      <td>http://www.lginnotek.co.kr</td>\n",
              "      <td>서울특별시</td>\n",
              "    </tr>\n",
              "  </tbody>\n",
              "</table>\n",
              "</div>"
            ],
            "text/plain": [
              "         회사명    종목코드  ...                        홈페이지     지역\n",
              "0        DSR  155660  ...          http://www.dsr.com  부산광역시\n",
              "1         GS  078930  ...                         NaN  서울특별시\n",
              "2      GS글로벌  001250  ...      http://www.gsgcorp.com  서울특별시\n",
              "3  HDC현대산업개발  294870  ...      http://www.hdc-dvp.com  서울특별시\n",
              "4      LG이노텍  011070  ...  http://www.lginnotek.co.kr  서울특별시\n",
              "\n",
              "[5 rows x 9 columns]"
            ]
          },
          "metadata": {
            "tags": []
          },
          "execution_count": 3
        }
      ]
    },
    {
      "cell_type": "code",
      "metadata": {
        "id": "1MTRiU5QZ7sg",
        "colab_type": "code",
        "colab": {}
      },
      "source": [
        "code_df = code_df[['회사명','종목코드']]"
      ],
      "execution_count": 5,
      "outputs": []
    },
    {
      "cell_type": "markdown",
      "metadata": {
        "id": "TxLWmMX2aLvP",
        "colab_type": "text"
      },
      "source": [
        "#### 2. 네이버 금융의 종목별 데이터 url 만들기"
      ]
    },
    {
      "cell_type": "code",
      "metadata": {
        "id": "TBKZt1AZaJEk",
        "colab_type": "code",
        "colab": {}
      },
      "source": [
        "base_url = 'https://finance.naver.com/item/sise_day.nhn?code='\n",
        "def get_url(item_name, code_df):\n",
        "  item_code = code_df.query(\"회사명 == '{}'\".format(item_name))['종목코드'].to_string(index = False).strip(' ')\n",
        "  url = base_url +  item_code\n",
        "  return url"
      ],
      "execution_count": 37,
      "outputs": []
    },
    {
      "cell_type": "code",
      "metadata": {
        "id": "JBYxhTlna7dx",
        "colab_type": "code",
        "colab": {}
      },
      "source": [
        "url = get_url('삼성전자', code_df)"
      ],
      "execution_count": 38,
      "outputs": []
    },
    {
      "cell_type": "code",
      "metadata": {
        "id": "6WGss4vQdIiK",
        "colab_type": "code",
        "colab": {
          "base_uri": "https://localhost:8080/",
          "height": 35
        },
        "outputId": "2aad8c4c-24da-46cb-c905-9494dcdf76b9"
      },
      "source": [
        "print(url)"
      ],
      "execution_count": 39,
      "outputs": [
        {
          "output_type": "stream",
          "text": [
            "https://finance.naver.com/item/sise_day.nhn?code=005930\n"
          ],
          "name": "stdout"
        }
      ]
    },
    {
      "cell_type": "code",
      "metadata": {
        "id": "wQ0mZ0TpbPyD",
        "colab_type": "code",
        "colab": {}
      },
      "source": [
        "df = pd.DataFrame()\n",
        "import requests\n",
        "for index in range(100,300):\n",
        "  pg_url = url+'&'+'page='+str(index)\n",
        "  df = df.append(pd.read_html(pg_url, header = 0)[0], ignore_index = True)"
      ],
      "execution_count": 243,
      "outputs": []
    },
    {
      "cell_type": "code",
      "metadata": {
        "id": "cRfcSj8MfOvL",
        "colab_type": "code",
        "colab": {
          "base_uri": "https://localhost:8080/",
          "height": 198
        },
        "outputId": "45be6e9b-927b-49a7-a86a-c210dca1af27"
      },
      "source": [
        "df.head()"
      ],
      "execution_count": 244,
      "outputs": [
        {
          "output_type": "execute_result",
          "data": {
            "text/html": [
              "<div>\n",
              "<style scoped>\n",
              "    .dataframe tbody tr th:only-of-type {\n",
              "        vertical-align: middle;\n",
              "    }\n",
              "\n",
              "    .dataframe tbody tr th {\n",
              "        vertical-align: top;\n",
              "    }\n",
              "\n",
              "    .dataframe thead th {\n",
              "        text-align: right;\n",
              "    }\n",
              "</style>\n",
              "<table border=\"1\" class=\"dataframe\">\n",
              "  <thead>\n",
              "    <tr style=\"text-align: right;\">\n",
              "      <th></th>\n",
              "      <th>날짜</th>\n",
              "      <th>종가</th>\n",
              "      <th>전일비</th>\n",
              "      <th>시가</th>\n",
              "      <th>고가</th>\n",
              "      <th>저가</th>\n",
              "      <th>거래량</th>\n",
              "    </tr>\n",
              "  </thead>\n",
              "  <tbody>\n",
              "    <tr>\n",
              "      <th>0</th>\n",
              "      <td>NaN</td>\n",
              "      <td>NaN</td>\n",
              "      <td>NaN</td>\n",
              "      <td>NaN</td>\n",
              "      <td>NaN</td>\n",
              "      <td>NaN</td>\n",
              "      <td>NaN</td>\n",
              "    </tr>\n",
              "    <tr>\n",
              "      <th>1</th>\n",
              "      <td>2016.08.17</td>\n",
              "      <td>1566000.0</td>\n",
              "      <td>2000.0</td>\n",
              "      <td>1569000.0</td>\n",
              "      <td>1570000.0</td>\n",
              "      <td>1551000.0</td>\n",
              "      <td>148929.0</td>\n",
              "    </tr>\n",
              "    <tr>\n",
              "      <th>2</th>\n",
              "      <td>2016.08.16</td>\n",
              "      <td>1568000.0</td>\n",
              "      <td>23000.0</td>\n",
              "      <td>1545000.0</td>\n",
              "      <td>1576000.0</td>\n",
              "      <td>1545000.0</td>\n",
              "      <td>216862.0</td>\n",
              "    </tr>\n",
              "    <tr>\n",
              "      <th>3</th>\n",
              "      <td>2016.08.12</td>\n",
              "      <td>1545000.0</td>\n",
              "      <td>14000.0</td>\n",
              "      <td>1559000.0</td>\n",
              "      <td>1570000.0</td>\n",
              "      <td>1544000.0</td>\n",
              "      <td>209497.0</td>\n",
              "    </tr>\n",
              "    <tr>\n",
              "      <th>4</th>\n",
              "      <td>2016.08.11</td>\n",
              "      <td>1559000.0</td>\n",
              "      <td>18000.0</td>\n",
              "      <td>1541000.0</td>\n",
              "      <td>1559000.0</td>\n",
              "      <td>1526000.0</td>\n",
              "      <td>210672.0</td>\n",
              "    </tr>\n",
              "  </tbody>\n",
              "</table>\n",
              "</div>"
            ],
            "text/plain": [
              "           날짜         종가      전일비         시가         고가         저가       거래량\n",
              "0         NaN        NaN      NaN        NaN        NaN        NaN       NaN\n",
              "1  2016.08.17  1566000.0   2000.0  1569000.0  1570000.0  1551000.0  148929.0\n",
              "2  2016.08.16  1568000.0  23000.0  1545000.0  1576000.0  1545000.0  216862.0\n",
              "3  2016.08.12  1545000.0  14000.0  1559000.0  1570000.0  1544000.0  209497.0\n",
              "4  2016.08.11  1559000.0  18000.0  1541000.0  1559000.0  1526000.0  210672.0"
            ]
          },
          "metadata": {
            "tags": []
          },
          "execution_count": 244
        }
      ]
    },
    {
      "cell_type": "code",
      "metadata": {
        "id": "TJkRGzNPfs3z",
        "colab_type": "code",
        "colab": {}
      },
      "source": [
        "df = df.rename(columns = {'날짜':'date', '종가':'end', '전일비':'diff', '거래량':'volume'})\n",
        "df = df.dropna()"
      ],
      "execution_count": 245,
      "outputs": []
    },
    {
      "cell_type": "code",
      "metadata": {
        "id": "EHWD3D59cf68",
        "colab_type": "code",
        "colab": {}
      },
      "source": [
        "df = df[['date','end','diff','volume']]"
      ],
      "execution_count": 247,
      "outputs": []
    },
    {
      "cell_type": "code",
      "metadata": {
        "id": "rrKgAdaTfCKr",
        "colab_type": "code",
        "colab": {
          "base_uri": "https://localhost:8080/",
          "height": 121
        },
        "outputId": "f6db9141-f34a-4ed8-f791-a8bde674f45b"
      },
      "source": [
        "df['date'] = pd.to_datetime(df['date'])\n",
        "df = df.sort_values(by = ['date'], ascending = True)"
      ],
      "execution_count": 248,
      "outputs": [
        {
          "output_type": "stream",
          "text": [
            "/usr/local/lib/python3.6/dist-packages/ipykernel_launcher.py:1: SettingWithCopyWarning: \n",
            "A value is trying to be set on a copy of a slice from a DataFrame.\n",
            "Try using .loc[row_indexer,col_indexer] = value instead\n",
            "\n",
            "See the caveats in the documentation: https://pandas.pydata.org/pandas-docs/stable/user_guide/indexing.html#returning-a-view-versus-a-copy\n",
            "  \"\"\"Entry point for launching an IPython kernel.\n"
          ],
          "name": "stderr"
        }
      ]
    },
    {
      "cell_type": "code",
      "metadata": {
        "id": "GX4yJ3Bmip51",
        "colab_type": "code",
        "colab": {
          "base_uri": "https://localhost:8080/",
          "height": 198
        },
        "outputId": "a8efb4b3-acf7-4751-f7ea-aa7a46f5b544"
      },
      "source": [
        "df.tail()"
      ],
      "execution_count": 249,
      "outputs": [
        {
          "output_type": "execute_result",
          "data": {
            "text/html": [
              "<div>\n",
              "<style scoped>\n",
              "    .dataframe tbody tr th:only-of-type {\n",
              "        vertical-align: middle;\n",
              "    }\n",
              "\n",
              "    .dataframe tbody tr th {\n",
              "        vertical-align: top;\n",
              "    }\n",
              "\n",
              "    .dataframe thead th {\n",
              "        text-align: right;\n",
              "    }\n",
              "</style>\n",
              "<table border=\"1\" class=\"dataframe\">\n",
              "  <thead>\n",
              "    <tr style=\"text-align: right;\">\n",
              "      <th></th>\n",
              "      <th>date</th>\n",
              "      <th>end</th>\n",
              "      <th>diff</th>\n",
              "      <th>volume</th>\n",
              "    </tr>\n",
              "  </thead>\n",
              "  <tbody>\n",
              "    <tr>\n",
              "      <th>5</th>\n",
              "      <td>2016-08-10</td>\n",
              "      <td>1541000.0</td>\n",
              "      <td>26000.0</td>\n",
              "      <td>246807.0</td>\n",
              "    </tr>\n",
              "    <tr>\n",
              "      <th>4</th>\n",
              "      <td>2016-08-11</td>\n",
              "      <td>1559000.0</td>\n",
              "      <td>18000.0</td>\n",
              "      <td>210672.0</td>\n",
              "    </tr>\n",
              "    <tr>\n",
              "      <th>3</th>\n",
              "      <td>2016-08-12</td>\n",
              "      <td>1545000.0</td>\n",
              "      <td>14000.0</td>\n",
              "      <td>209497.0</td>\n",
              "    </tr>\n",
              "    <tr>\n",
              "      <th>2</th>\n",
              "      <td>2016-08-16</td>\n",
              "      <td>1568000.0</td>\n",
              "      <td>23000.0</td>\n",
              "      <td>216862.0</td>\n",
              "    </tr>\n",
              "    <tr>\n",
              "      <th>1</th>\n",
              "      <td>2016-08-17</td>\n",
              "      <td>1566000.0</td>\n",
              "      <td>2000.0</td>\n",
              "      <td>148929.0</td>\n",
              "    </tr>\n",
              "  </tbody>\n",
              "</table>\n",
              "</div>"
            ],
            "text/plain": [
              "        date        end     diff    volume\n",
              "5 2016-08-10  1541000.0  26000.0  246807.0\n",
              "4 2016-08-11  1559000.0  18000.0  210672.0\n",
              "3 2016-08-12  1545000.0  14000.0  209497.0\n",
              "2 2016-08-16  1568000.0  23000.0  216862.0\n",
              "1 2016-08-17  1566000.0   2000.0  148929.0"
            ]
          },
          "metadata": {
            "tags": []
          },
          "execution_count": 249
        }
      ]
    },
    {
      "cell_type": "code",
      "metadata": {
        "id": "L2M2Dr3Ci60-",
        "colab_type": "code",
        "colab": {}
      },
      "source": [
        "df.index = df['date']"
      ],
      "execution_count": 250,
      "outputs": []
    },
    {
      "cell_type": "markdown",
      "metadata": {
        "id": "DfcvlNumjKne",
        "colab_type": "text"
      },
      "source": [
        "#### 3. LSTM Layer에 넣기 위해서 데이터를 조작 하는 과정을 거쳐야 한다."
      ]
    },
    {
      "cell_type": "code",
      "metadata": {
        "id": "Hi-2TQvlkBVR",
        "colab_type": "code",
        "colab": {}
      },
      "source": [
        "df.tail()\n",
        "df = df.drop('date',axis = 1)"
      ],
      "execution_count": 251,
      "outputs": []
    },
    {
      "cell_type": "code",
      "metadata": {
        "id": "Hcz1WEzxjGsM",
        "colab_type": "code",
        "colab": {}
      },
      "source": [
        "dataset = df.values"
      ],
      "execution_count": 252,
      "outputs": []
    },
    {
      "cell_type": "code",
      "metadata": {
        "id": "QjG2DnQ7jZxk",
        "colab_type": "code",
        "colab": {
          "base_uri": "https://localhost:8080/",
          "height": 138
        },
        "outputId": "98084079-fdac-456e-b3b5-67746254c811"
      },
      "source": [
        "dataset"
      ],
      "execution_count": 253,
      "outputs": [
        {
          "output_type": "execute_result",
          "data": {
            "text/plain": [
              "array([[5.48000e+05, 4.00000e+03, 5.27976e+05],\n",
              "       [5.64000e+05, 1.60000e+04, 5.26648e+05],\n",
              "       [5.65000e+05, 1.00000e+03, 2.70036e+05],\n",
              "       ...,\n",
              "       [1.54500e+06, 1.40000e+04, 2.09497e+05],\n",
              "       [1.56800e+06, 2.30000e+04, 2.16862e+05],\n",
              "       [1.56600e+06, 2.00000e+03, 1.48929e+05]])"
            ]
          },
          "metadata": {
            "tags": []
          },
          "execution_count": 253
        }
      ]
    },
    {
      "cell_type": "code",
      "metadata": {
        "id": "xW6VjDZpmK1F",
        "colab_type": "code",
        "colab": {
          "base_uri": "https://localhost:8080/",
          "height": 228
        },
        "outputId": "296bc8c6-1406-4802-c30c-ff530ecbd950"
      },
      "source": [
        "df.head()"
      ],
      "execution_count": 254,
      "outputs": [
        {
          "output_type": "execute_result",
          "data": {
            "text/html": [
              "<div>\n",
              "<style scoped>\n",
              "    .dataframe tbody tr th:only-of-type {\n",
              "        vertical-align: middle;\n",
              "    }\n",
              "\n",
              "    .dataframe tbody tr th {\n",
              "        vertical-align: top;\n",
              "    }\n",
              "\n",
              "    .dataframe thead th {\n",
              "        text-align: right;\n",
              "    }\n",
              "</style>\n",
              "<table border=\"1\" class=\"dataframe\">\n",
              "  <thead>\n",
              "    <tr style=\"text-align: right;\">\n",
              "      <th></th>\n",
              "      <th>end</th>\n",
              "      <th>diff</th>\n",
              "      <th>volume</th>\n",
              "    </tr>\n",
              "    <tr>\n",
              "      <th>date</th>\n",
              "      <th></th>\n",
              "      <th></th>\n",
              "      <th></th>\n",
              "    </tr>\n",
              "  </thead>\n",
              "  <tbody>\n",
              "    <tr>\n",
              "      <th>2008-07-30</th>\n",
              "      <td>548000.0</td>\n",
              "      <td>4000.0</td>\n",
              "      <td>527976.0</td>\n",
              "    </tr>\n",
              "    <tr>\n",
              "      <th>2008-07-31</th>\n",
              "      <td>564000.0</td>\n",
              "      <td>16000.0</td>\n",
              "      <td>526648.0</td>\n",
              "    </tr>\n",
              "    <tr>\n",
              "      <th>2008-08-01</th>\n",
              "      <td>565000.0</td>\n",
              "      <td>1000.0</td>\n",
              "      <td>270036.0</td>\n",
              "    </tr>\n",
              "    <tr>\n",
              "      <th>2008-08-04</th>\n",
              "      <td>565000.0</td>\n",
              "      <td>0.0</td>\n",
              "      <td>342112.0</td>\n",
              "    </tr>\n",
              "    <tr>\n",
              "      <th>2008-08-05</th>\n",
              "      <td>567000.0</td>\n",
              "      <td>2000.0</td>\n",
              "      <td>491624.0</td>\n",
              "    </tr>\n",
              "  </tbody>\n",
              "</table>\n",
              "</div>"
            ],
            "text/plain": [
              "                 end     diff    volume\n",
              "date                                   \n",
              "2008-07-30  548000.0   4000.0  527976.0\n",
              "2008-07-31  564000.0  16000.0  526648.0\n",
              "2008-08-01  565000.0   1000.0  270036.0\n",
              "2008-08-04  565000.0      0.0  342112.0\n",
              "2008-08-05  567000.0   2000.0  491624.0"
            ]
          },
          "metadata": {
            "tags": []
          },
          "execution_count": 254
        }
      ]
    },
    {
      "cell_type": "code",
      "metadata": {
        "id": "N_Zbg4ihjbrn",
        "colab_type": "code",
        "colab": {}
      },
      "source": [
        "trainsplit = 1400\n",
        "#시계열 데이터를 다루기 위해서는 '연속적인 일정 기간동안의 정보를 따져야 하기 때문에 data의 X,y값을 정해주는 과정이 상당히 복잡해진다."
      ],
      "execution_count": 268,
      "outputs": []
    },
    {
      "cell_type": "code",
      "metadata": {
        "id": "UusqAO8nkMKE",
        "colab_type": "code",
        "colab": {
          "base_uri": "https://localhost:8080/",
          "height": 190
        },
        "outputId": "f2dfa7b3-fe62-41b2-87f9-34d908779dcd"
      },
      "source": [
        "df.info()"
      ],
      "execution_count": 269,
      "outputs": [
        {
          "output_type": "stream",
          "text": [
            "<class 'pandas.core.frame.DataFrame'>\n",
            "DatetimeIndex: 1800 entries, 2008-07-30 to 2015-10-26\n",
            "Data columns (total 3 columns):\n",
            " #   Column  Non-Null Count  Dtype  \n",
            "---  ------  --------------  -----  \n",
            " 0   end     1800 non-null   float64\n",
            " 1   diff    1800 non-null   float64\n",
            " 2   volume  1800 non-null   float64\n",
            "dtypes: float64(3)\n",
            "memory usage: 56.2 KB\n"
          ],
          "name": "stdout"
        }
      ]
    },
    {
      "cell_type": "code",
      "metadata": {
        "id": "kbPJMSZdlpTe",
        "colab_type": "code",
        "colab": {}
      },
      "source": [
        "mean, std = dataset[:trainsplit].mean(axis = 0), dataset[:trainsplit].std(axis = 0)\n",
        "dataset = (dataset-mean)/std\n",
        "df = df[:1800]"
      ],
      "execution_count": 270,
      "outputs": []
    },
    {
      "cell_type": "code",
      "metadata": {
        "id": "ysI0N4-58yXC",
        "colab_type": "code",
        "colab": {
          "base_uri": "https://localhost:8080/",
          "height": 349
        },
        "outputId": "08c17c9b-d216-420c-9e21-730f4f7bc922"
      },
      "source": [
        "df.plot(subplots = True)"
      ],
      "execution_count": 271,
      "outputs": [
        {
          "output_type": "execute_result",
          "data": {
            "text/plain": [
              "array([<matplotlib.axes._subplots.AxesSubplot object at 0x7fa3e799a2e8>,\n",
              "       <matplotlib.axes._subplots.AxesSubplot object at 0x7fa3e6ffa5f8>,\n",
              "       <matplotlib.axes._subplots.AxesSubplot object at 0x7fa3e700b828>],\n",
              "      dtype=object)"
            ]
          },
          "metadata": {
            "tags": []
          },
          "execution_count": 271
        },
        {
          "output_type": "display_data",
          "data": {
            "image/png": "[encoded data removed]",
            "text/plain": [
              "<Figure size 432x288 with 3 Axes>"
            ]
          },
          "metadata": {
            "tags": [],
            "needs_background": "light"
          }
        }
      ]
    },
    {
      "cell_type": "markdown",
      "metadata": {
        "id": "kIXpe1kh9Pz5",
        "colab_type": "text"
      },
      "source": [
        "### 데이터를 시각화해보니 validation accuracy가 낮게 나오는 이유를 알 것 같다. 다시 범위를 설정해서 50-200페이지의 데이터를 이용해 보자"
      ]
    },
    {
      "cell_type": "markdown",
      "metadata": {
        "id": "HBHwtmyomlNL",
        "colab_type": "text"
      },
      "source": [
        "- 우리가 예측해야 하는 수치는 일단은 종가로 정했다. 따라서 dataset의 첫번째 정보인 'end'값을 이용하기 위해서 axis = 0으로 설정하였다."
      ]
    },
    {
      "cell_type": "markdown",
      "metadata": {
        "id": "mLHTu4wilCKe",
        "colab_type": "text"
      },
      "source": [
        "#### 4-1. Single Step LSTM Layer\n",
        "#### 4-1-1. Dataset 만들기\n",
        "- 시계열 데이터를 예측하고자 할 때에는 이후의 과정을 일정 기간동안 예측하는 경우와 한 지점(순간)만을 예측하는 경우로 나눌 수 있다. \n",
        "- 우선 하나의 순간만을 예측하고자 한다.\n",
        "- 이렇게 되면 y값의 데이터는 한개일 것이다."
      ]
    },
    {
      "cell_type": "code",
      "metadata": {
        "id": "l9bb2LsdkNIG",
        "colab_type": "code",
        "colab": {}
      },
      "source": [
        " train_set, test_set = dataset[:trainsplit], dataset[trainsplit:]\n",
        "   "
      ],
      "execution_count": 272,
      "outputs": []
    },
    {
      "cell_type": "markdown",
      "metadata": {
        "id": "ZQV0-57GnAtF",
        "colab_type": "text"
      },
      "source": [
        "make_data()함수에 들어갈 변수들에 대해서 간략한 소개를 적어본다면  \n",
        "- start: 기간의 시작\n",
        "- end: 기간의 끝\n",
        "- past: 학습하고자하는 데이터의 값이 과거의 어느정도 인지\n",
        "- future: 예측하고자 하는 값이 지금으로부터 얼마나 떨어져 있는지\n",
        "- step: 이전 기간동안의 시계열 데이터를 판단할때에 6개의 데이터씩 건너가면서 학습"
      ]
    },
    {
      "cell_type": "code",
      "metadata": {
        "id": "54uS91UunsA9",
        "colab_type": "code",
        "colab": {}
      },
      "source": [
        "def make_data_single(dataset, target, start, end, past, future, step):\n",
        "  data, label = [],[]\n",
        "  start += past\n",
        "  if end is None:\n",
        "    end = len(dataset) - future\n",
        "  for i in range(start, end):\n",
        "    temp = []\n",
        "    for j in range(i-past, i, step):\n",
        "     temp.append(dataset[j])\n",
        "    data.append(temp)\n",
        "    label.append(target[i+future])\n",
        "  return np.array(data), np.array(label)"
      ],
      "execution_count": 273,
      "outputs": []
    },
    {
      "cell_type": "code",
      "metadata": {
        "id": "VFG9fBbjtYtv",
        "colab_type": "code",
        "colab": {
          "base_uri": "https://localhost:8080/",
          "height": 35
        },
        "outputId": "5529ed82-e562-4693-b954-f449e6292049"
      },
      "source": [
        "dataset[0]"
      ],
      "execution_count": 274,
      "outputs": [
        {
          "output_type": "execute_result",
          "data": {
            "text/plain": [
              "array([-1.3240387 , -0.80091324,  0.82606629])"
            ]
          },
          "metadata": {
            "tags": []
          },
          "execution_count": 274
        }
      ]
    },
    {
      "cell_type": "code",
      "metadata": {
        "id": "FwsQvZ_qo0MA",
        "colab_type": "code",
        "colab": {}
      },
      "source": [
        "x_train, y_train = make_data_single(dataset, dataset[:,0], 0, trainsplit, 100, 50, 3)\n",
        "x_test, y_test = make_data_single(dataset, dataset[:,0], trainsplit, None, 100, 50,3)"
      ],
      "execution_count": 275,
      "outputs": []
    },
    {
      "cell_type": "code",
      "metadata": {
        "id": "4YQF2Gtmsi8j",
        "colab_type": "code",
        "colab": {
          "base_uri": "https://localhost:8080/",
          "height": 35
        },
        "outputId": "2fe15537-c2c3-434d-859e-484305935e9a"
      },
      "source": [
        "x_test.shape"
      ],
      "execution_count": 276,
      "outputs": [
        {
          "output_type": "execute_result",
          "data": {
            "text/plain": [
              "(450, 34, 3)"
            ]
          },
          "metadata": {
            "tags": []
          },
          "execution_count": 276
        }
      ]
    },
    {
      "cell_type": "code",
      "metadata": {
        "id": "iAD8Qw-7p9JQ",
        "colab_type": "code",
        "colab": {
          "base_uri": "https://localhost:8080/",
          "height": 35
        },
        "outputId": "2eafe078-9a28-4341-f1f0-793e3f6c1593"
      },
      "source": [
        "x_train.shape, y_train.shape"
      ],
      "execution_count": 277,
      "outputs": [
        {
          "output_type": "execute_result",
          "data": {
            "text/plain": [
              "((1300, 34, 3), (1300,))"
            ]
          },
          "metadata": {
            "tags": []
          },
          "execution_count": 277
        }
      ]
    },
    {
      "cell_type": "code",
      "metadata": {
        "id": "TOytnsZuprcT",
        "colab_type": "code",
        "colab": {}
      },
      "source": [
        "buffer = 10000\n",
        "batch  = 128"
      ],
      "execution_count": 278,
      "outputs": []
    },
    {
      "cell_type": "code",
      "metadata": {
        "id": "8cXeOvNIpX5E",
        "colab_type": "code",
        "colab": {}
      },
      "source": [
        "train_data = tf.data.Dataset.from_tensor_slices((x_train, y_train))\n",
        "train_data = train_data.shuffle(buffer).batch(batch).repeat()\n",
        "\n",
        "test_data = tf.data.Dataset.from_tensor_slices((x_test, y_test))\n",
        "test_data = test_data.batch(batch).repeat()"
      ],
      "execution_count": 279,
      "outputs": []
    },
    {
      "cell_type": "markdown",
      "metadata": {
        "id": "Gd-54BavqS6w",
        "colab_type": "text"
      },
      "source": [
        "#### 4-1-2. 모델 만들기"
      ]
    },
    {
      "cell_type": "code",
      "metadata": {
        "id": "uuE6VOuyp5Aa",
        "colab_type": "code",
        "colab": {}
      },
      "source": [
        "model = tf.keras.models.Sequential()\n",
        "model.add(tf.keras.layers.LSTM(32, input_shape = x_train.shape[1:]))\n",
        "model.add(tf.keras.layers.Dense(1))"
      ],
      "execution_count": 280,
      "outputs": []
    },
    {
      "cell_type": "code",
      "metadata": {
        "id": "aS4IOTn_qzQm",
        "colab_type": "code",
        "colab": {
          "base_uri": "https://localhost:8080/",
          "height": 225
        },
        "outputId": "3d87d764-00de-4f52-e7b5-2a4091a79d18"
      },
      "source": [
        "model.summary()"
      ],
      "execution_count": 281,
      "outputs": [
        {
          "output_type": "stream",
          "text": [
            "Model: \"sequential_20\"\n",
            "_________________________________________________________________\n",
            "Layer (type)                 Output Shape              Param #   \n",
            "=================================================================\n",
            "lstm_28 (LSTM)               (None, 32)                4608      \n",
            "_________________________________________________________________\n",
            "dense_24 (Dense)             (None, 1)                 33        \n",
            "=================================================================\n",
            "Total params: 4,641\n",
            "Trainable params: 4,641\n",
            "Non-trainable params: 0\n",
            "_________________________________________________________________\n"
          ],
          "name": "stdout"
        }
      ]
    },
    {
      "cell_type": "code",
      "metadata": {
        "id": "o5ZlTWyvrlGz",
        "colab_type": "code",
        "colab": {}
      },
      "source": [
        "model.compile(loss = 'mae', optimizer = tf.keras.optimizers.Adam(lr = 0.0001), metrics = ['accuracy'])"
      ],
      "execution_count": 282,
      "outputs": []
    },
    {
      "cell_type": "code",
      "metadata": {
        "id": "fgz48SMUr6M5",
        "colab_type": "code",
        "colab": {
          "base_uri": "https://localhost:8080/",
          "height": 708
        },
        "outputId": "e06c8e24-c41d-423f-e0a1-06d5f6122e40"
      },
      "source": [
        "history = model.fit(train_data, steps_per_epoch = 200, epochs = 20, validation_data = test_data, validation_steps = 50)"
      ],
      "execution_count": 283,
      "outputs": [
        {
          "output_type": "stream",
          "text": [
            "Epoch 1/20\n",
            "200/200 [==============================] - 5s 23ms/step - loss: 0.5458 - accuracy: 0.0000e+00 - val_loss: 0.3950 - val_accuracy: 0.0000e+00\n",
            "Epoch 2/20\n",
            "200/200 [==============================] - 4s 21ms/step - loss: 0.2533 - accuracy: 0.0000e+00 - val_loss: 0.3539 - val_accuracy: 0.0000e+00\n",
            "Epoch 3/20\n",
            "200/200 [==============================] - 4s 21ms/step - loss: 0.2315 - accuracy: 0.0000e+00 - val_loss: 0.3534 - val_accuracy: 0.0000e+00\n",
            "Epoch 4/20\n",
            "200/200 [==============================] - 4s 21ms/step - loss: 0.2146 - accuracy: 0.0000e+00 - val_loss: 0.3549 - val_accuracy: 0.0000e+00\n",
            "Epoch 5/20\n",
            "200/200 [==============================] - 4s 21ms/step - loss: 0.1995 - accuracy: 0.0000e+00 - val_loss: 0.3473 - val_accuracy: 0.0000e+00\n",
            "Epoch 6/20\n",
            "200/200 [==============================] - 4s 22ms/step - loss: 0.1889 - accuracy: 0.0000e+00 - val_loss: 0.3430 - val_accuracy: 0.0000e+00\n",
            "Epoch 7/20\n",
            "200/200 [==============================] - 4s 22ms/step - loss: 0.1774 - accuracy: 0.0000e+00 - val_loss: 0.3412 - val_accuracy: 0.0000e+00\n",
            "Epoch 8/20\n",
            "200/200 [==============================] - 4s 22ms/step - loss: 0.1630 - accuracy: 0.0000e+00 - val_loss: 0.3450 - val_accuracy: 0.0000e+00\n",
            "Epoch 9/20\n",
            "200/200 [==============================] - 4s 22ms/step - loss: 0.1517 - accuracy: 0.0000e+00 - val_loss: 0.3403 - val_accuracy: 0.0000e+00\n",
            "Epoch 10/20\n",
            "200/200 [==============================] - 4s 22ms/step - loss: 0.1441 - accuracy: 0.0000e+00 - val_loss: 0.3393 - val_accuracy: 0.0000e+00\n",
            "Epoch 11/20\n",
            "200/200 [==============================] - 4s 21ms/step - loss: 0.1381 - accuracy: 0.0000e+00 - val_loss: 0.3387 - val_accuracy: 0.0000e+00\n",
            "Epoch 12/20\n",
            "200/200 [==============================] - 4s 21ms/step - loss: 0.1330 - accuracy: 0.0000e+00 - val_loss: 0.3346 - val_accuracy: 0.0000e+00\n",
            "Epoch 13/20\n",
            "200/200 [==============================] - 4s 22ms/step - loss: 0.1282 - accuracy: 0.0000e+00 - val_loss: 0.3354 - val_accuracy: 0.0000e+00\n",
            "Epoch 14/20\n",
            "200/200 [==============================] - 4s 22ms/step - loss: 0.1246 - accuracy: 0.0000e+00 - val_loss: 0.3330 - val_accuracy: 0.0000e+00\n",
            "Epoch 15/20\n",
            "200/200 [==============================] - 4s 22ms/step - loss: 0.1211 - accuracy: 0.0000e+00 - val_loss: 0.3333 - val_accuracy: 0.0000e+00\n",
            "Epoch 16/20\n",
            "200/200 [==============================] - 4s 21ms/step - loss: 0.1180 - accuracy: 0.0000e+00 - val_loss: 0.3391 - val_accuracy: 0.0000e+00\n",
            "Epoch 17/20\n",
            "200/200 [==============================] - 4s 21ms/step - loss: 0.1151 - accuracy: 0.0000e+00 - val_loss: 0.3457 - val_accuracy: 0.0000e+00\n",
            "Epoch 18/20\n",
            "200/200 [==============================] - 4s 22ms/step - loss: 0.1126 - accuracy: 0.0000e+00 - val_loss: 0.3494 - val_accuracy: 0.0000e+00\n",
            "Epoch 19/20\n",
            "200/200 [==============================] - 4s 22ms/step - loss: 0.1104 - accuracy: 0.0000e+00 - val_loss: 0.3553 - val_accuracy: 0.0000e+00\n",
            "Epoch 20/20\n",
            "200/200 [==============================] - 4s 21ms/step - loss: 0.1080 - accuracy: 0.0000e+00 - val_loss: 0.3620 - val_accuracy: 0.0000e+00\n"
          ],
          "name": "stdout"
        }
      ]
    },
    {
      "cell_type": "code",
      "metadata": {
        "id": "m6RptPLSsSoG",
        "colab_type": "code",
        "colab": {
          "base_uri": "https://localhost:8080/",
          "height": 173
        },
        "outputId": "e6e526d3-6220-4eca-ddbb-2d8ecbe6a0b2"
      },
      "source": [
        "import tensorflow.keras.backend as k\n",
        "for i in range(1, len(y_test), 50):\n",
        "  y_pred = model.predict(k.constant(x_train))\n",
        "  print('real:{} predict:{}'.format(y_train[i],y_pred[i]))"
      ],
      "execution_count": 284,
      "outputs": [
        {
          "output_type": "stream",
          "text": [
            "real:-1.459964962559179 predict:[-1.0929981]\n",
            "real:-1.2777002072516794 predict:[-1.2432113]\n",
            "real:-0.8112260029901123 predict:[-0.70620996]\n",
            "real:-0.684567444217104 predict:[-0.6042374]\n",
            "real:-0.6289612476826126 predict:[-0.5835944]\n",
            "real:-0.6227827814010025 predict:[-0.57837933]\n",
            "real:-0.5949796831337567 predict:[-0.6384435]\n",
            "real:-0.43125032667108754 predict:[-0.5090012]\n",
            "real:-0.6907459104987143 predict:[-0.38005245]\n"
          ],
          "name": "stdout"
        }
      ]
    },
    {
      "cell_type": "markdown",
      "metadata": {
        "id": "ssw9IY9ExErH",
        "colab_type": "text"
      },
      "source": [
        "#### 4-2. Multi Step LSTM\n",
        "#### 4-2-1. Data 만들기"
      ]
    },
    {
      "cell_type": "code",
      "metadata": {
        "id": "6wJxLnYBxMst",
        "colab_type": "code",
        "colab": {}
      },
      "source": [
        "def make_data_multi(dataset, target, start, end, past, future, step):\n",
        "  data, label = [],[]\n",
        "  start += past\n",
        "  if end is None:\n",
        "    end = len(dataset)-future\n",
        "  for i in range(start, end):\n",
        "    temp = []\n",
        "    for j in range(i-past, i, step):\n",
        "      temp.append(dataset[j])\n",
        "    data.append(temp)\n",
        "    label.append(target[i:i+future])\n",
        "  return np.array(data), np.array(label)"
      ],
      "execution_count": 285,
      "outputs": []
    },
    {
      "cell_type": "code",
      "metadata": {
        "id": "WNBy35qwxzRw",
        "colab_type": "code",
        "colab": {}
      },
      "source": [
        "x_train, y_train = make_data_multi(dataset, dataset[:,0], 0, trainsplit, 400, 50,6)\n",
        "x_test, y_test = make_data_multi(dataset, dataset[:,0], trainsplit, None, 400, 50, 6)"
      ],
      "execution_count": 291,
      "outputs": []
    },
    {
      "cell_type": "code",
      "metadata": {
        "id": "W42Hnny3zLdK",
        "colab_type": "code",
        "colab": {
          "base_uri": "https://localhost:8080/",
          "height": 35
        },
        "outputId": "80e22048-5be6-44cb-b645-2703e9aa72c0"
      },
      "source": [
        "x_test.shape,y_test.shape,x_train.shape"
      ],
      "execution_count": 292,
      "outputs": [
        {
          "output_type": "execute_result",
          "data": {
            "text/plain": [
              "((150, 67, 3), (150, 50), (1000, 67, 3))"
            ]
          },
          "metadata": {
            "tags": []
          },
          "execution_count": 292
        }
      ]
    },
    {
      "cell_type": "code",
      "metadata": {
        "id": "tF3G-IqmzGhs",
        "colab_type": "code",
        "colab": {}
      },
      "source": [
        "train_data = tf.data.Dataset.from_tensor_slices((x_train, y_train))\n",
        "train_data = train_data.shuffle(buffer).batch(batch).repeat()\n",
        "\n",
        "test_data = tf.data.Dataset.from_tensor_slices((x_test,y_test))\n",
        "test_data = test_data.batch(batch).repeat()\n"
      ],
      "execution_count": 293,
      "outputs": []
    },
    {
      "cell_type": "markdown",
      "metadata": {
        "id": "OzeKm7X1zf8y",
        "colab_type": "text"
      },
      "source": [
        "#### 4-2-2. Model 만들기"
      ]
    },
    {
      "cell_type": "code",
      "metadata": {
        "id": "IU8wtZBrywaf",
        "colab_type": "code",
        "colab": {
          "base_uri": "https://localhost:8080/",
          "height": 1000
        },
        "outputId": "293c70ad-d6f9-4de5-fafa-d68e796abef1"
      },
      "source": [
        "model = tf.keras.models.Sequential()\n",
        "#LSTM Layer\n",
        "model.add(tf.keras.layers.LSTM(32, input_shape = x_train.shape[-2:]))\n",
        "#다층 퍼셉트론의 DNN Layer\n",
        "model.add(tf.keras.layers.Dense(32,input_dim=40,activation=\"relu\"))\n",
        "model.add(tf.keras.layers.Dropout(0.3))\n",
        "for i in range(2):\n",
        "    model.add(tf.keras.layers.Dense(128,activation=\"relu\"))\n",
        "    model.add(tf.keras.layers.Dropout(0.3))\n",
        "model.add(tf.keras.layers.Dense(50))\n",
        "model.summary()\n",
        "model.compile(loss = 'mse', optimizer = tf.keras.optimizers.RMSprop(), metrics = ['accuracy'])\n",
        "\n",
        "history = model.fit(train_data, validation_data = test_data, epochs = 20, steps_per_epoch=400, validation_steps = 200)"
      ],
      "execution_count": 302,
      "outputs": [
        {
          "output_type": "stream",
          "text": [
            "Model: \"sequential_24\"\n",
            "_________________________________________________________________\n",
            "Layer (type)                 Output Shape              Param #   \n",
            "=================================================================\n",
            "lstm_32 (LSTM)               (None, 32)                4608      \n",
            "_________________________________________________________________\n",
            "dense_37 (Dense)             (None, 32)                1056      \n",
            "_________________________________________________________________\n",
            "dropout_22 (Dropout)         (None, 32)                0         \n",
            "_________________________________________________________________\n",
            "dense_38 (Dense)             (None, 128)               4224      \n",
            "_________________________________________________________________\n",
            "dropout_23 (Dropout)         (None, 128)               0         \n",
            "_________________________________________________________________\n",
            "dense_39 (Dense)             (None, 128)               16512     \n",
            "_________________________________________________________________\n",
            "dropout_24 (Dropout)         (None, 128)               0         \n",
            "_________________________________________________________________\n",
            "dense_40 (Dense)             (None, 50)                6450      \n",
            "=================================================================\n",
            "Total params: 32,850\n",
            "Trainable params: 32,850\n",
            "Non-trainable params: 0\n",
            "_________________________________________________________________\n",
            "Epoch 1/20\n",
            "400/400 [==============================] - 17s 43ms/step - loss: 0.1033 - accuracy: 0.0285 - val_loss: 0.1204 - val_accuracy: 0.0067\n",
            "Epoch 2/20\n",
            "400/400 [==============================] - 16s 41ms/step - loss: 0.0407 - accuracy: 0.0543 - val_loss: 0.1081 - val_accuracy: 0.0800\n",
            "Epoch 3/20\n",
            "400/400 [==============================] - 17s 41ms/step - loss: 0.0322 - accuracy: 0.0774 - val_loss: 0.1128 - val_accuracy: 0.0867\n",
            "Epoch 4/20\n",
            "400/400 [==============================] - 16s 41ms/step - loss: 0.0286 - accuracy: 0.0945 - val_loss: 0.1049 - val_accuracy: 0.1867\n",
            "Epoch 5/20\n",
            "400/400 [==============================] - 16s 41ms/step - loss: 0.0266 - accuracy: 0.1074 - val_loss: 0.0947 - val_accuracy: 0.1933\n",
            "Epoch 6/20\n",
            "400/400 [==============================] - 16s 41ms/step - loss: 0.0253 - accuracy: 0.1113 - val_loss: 0.0936 - val_accuracy: 0.2000\n",
            "Epoch 7/20\n",
            "400/400 [==============================] - 16s 41ms/step - loss: 0.0245 - accuracy: 0.1157 - val_loss: 0.1101 - val_accuracy: 0.1867\n",
            "Epoch 8/20\n",
            "400/400 [==============================] - 17s 41ms/step - loss: 0.0238 - accuracy: 0.1199 - val_loss: 0.0980 - val_accuracy: 0.1867\n",
            "Epoch 9/20\n",
            "400/400 [==============================] - 17s 42ms/step - loss: 0.0232 - accuracy: 0.1209 - val_loss: 0.1014 - val_accuracy: 0.1733\n",
            "Epoch 10/20\n",
            "400/400 [==============================] - 17s 42ms/step - loss: 0.0226 - accuracy: 0.1216 - val_loss: 0.1220 - val_accuracy: 0.1733\n",
            "Epoch 11/20\n",
            "400/400 [==============================] - 17s 42ms/step - loss: 0.0223 - accuracy: 0.1220 - val_loss: 0.1178 - val_accuracy: 0.1733\n",
            "Epoch 12/20\n",
            "400/400 [==============================] - 16s 41ms/step - loss: 0.0219 - accuracy: 0.1211 - val_loss: 0.1226 - val_accuracy: 0.1733\n",
            "Epoch 13/20\n",
            "400/400 [==============================] - 17s 41ms/step - loss: 0.0217 - accuracy: 0.1226 - val_loss: 0.1443 - val_accuracy: 0.1733\n",
            "Epoch 14/20\n",
            "400/400 [==============================] - 17s 41ms/step - loss: 0.0212 - accuracy: 0.1213 - val_loss: 0.1310 - val_accuracy: 0.1333\n",
            "Epoch 15/20\n",
            "400/400 [==============================] - 17s 42ms/step - loss: 0.0212 - accuracy: 0.1225 - val_loss: 0.1308 - val_accuracy: 0.1667\n",
            "Epoch 16/20\n",
            "400/400 [==============================] - 17s 42ms/step - loss: 0.0208 - accuracy: 0.1219 - val_loss: 0.1374 - val_accuracy: 0.1333\n",
            "Epoch 17/20\n",
            "400/400 [==============================] - 16s 41ms/step - loss: 0.0207 - accuracy: 0.1192 - val_loss: 0.1165 - val_accuracy: 0.1733\n",
            "Epoch 18/20\n",
            "400/400 [==============================] - 17s 42ms/step - loss: 0.0207 - accuracy: 0.1201 - val_loss: 0.1336 - val_accuracy: 0.1733\n",
            "Epoch 19/20\n",
            "400/400 [==============================] - 17s 42ms/step - loss: 0.0205 - accuracy: 0.1204 - val_loss: 0.1541 - val_accuracy: 0.0467\n",
            "Epoch 20/20\n",
            "400/400 [==============================] - 17s 44ms/step - loss: 0.0203 - accuracy: 0.1194 - val_loss: 0.1331 - val_accuracy: 0.1667\n"
          ],
          "name": "stdout"
        }
      ]
    },
    {
      "cell_type": "code",
      "metadata": {
        "id": "4svgaRZG0Nzk",
        "colab_type": "code",
        "colab": {
          "base_uri": "https://localhost:8080/",
          "height": 500
        },
        "outputId": "43e33db6-05d7-4808-b943-9ede225e4ba3"
      },
      "source": [
        "pd.DataFrame(history.history).plot(figsize = (12,8))"
      ],
      "execution_count": 303,
      "outputs": [
        {
          "output_type": "execute_result",
          "data": {
            "text/plain": [
              "<matplotlib.axes._subplots.AxesSubplot at 0x7fa3e6c4b940>"
            ]
          },
          "metadata": {
            "tags": []
          },
          "execution_count": 303
        },
        {
          "output_type": "display_data",
          "data": {
            "image/png": "[encoded data removed]",
            "text/plain": [
              "<Figure size 864x576 with 1 Axes>"
            ]
          },
          "metadata": {
            "tags": [],
            "needs_background": "light"
          }
        }
      ]
    },
    {
      "cell_type": "code",
      "metadata": {
        "id": "QU9otdryCU2M",
        "colab_type": "code",
        "colab": {
          "base_uri": "https://localhost:8080/",
          "height": 52
        },
        "outputId": "0d7e850c-2166-4cfc-d5b1-24003af4d0a1"
      },
      "source": [
        "x_eval, y_eval = make_data_multi(dataset, dataset[:,0],100, 1700, 500, 50,6)\n",
        "eval_data = tf.data.Dataset.from_tensor_slices((x_eval, y_eval))\n",
        "eval_data = eval_data.batch(batch)\n",
        "model.evaluate(eval_data)"
      ],
      "execution_count": 305,
      "outputs": [
        {
          "output_type": "stream",
          "text": [
            "9/9 [==============================] - 0s 14ms/step - loss: 0.0404 - accuracy: 0.1118\n"
          ],
          "name": "stdout"
        },
        {
          "output_type": "execute_result",
          "data": {
            "text/plain": [
              "[0.040443260222673416, 0.11181817948818207]"
            ]
          },
          "metadata": {
            "tags": []
          },
          "execution_count": 305
        }
      ]
    },
    {
      "cell_type": "markdown",
      "metadata": {
        "id": "RyLSvWfy93Y4",
        "colab_type": "text"
      },
      "source": [
        "### 5. 데이터 시각화(적절한 예측인지 확인)"
      ]
    },
    {
      "cell_type": "code",
      "metadata": {
        "id": "X2m9VqRB99L3",
        "colab_type": "code",
        "colab": {}
      },
      "source": [
        "def multistep_show(history, future, predict):\n",
        "  plt.figure(figsize = (12,8))\n",
        "  num_in = [int(i) for i in range(-len(history), 0)]\n",
        "  num_out = len(future)\n",
        "  plt.plot(num_in, np.array(history))\n",
        "  plt.plot(np.arange(num_out)/3,np.array(future), 'bo', label = 'Real')\n",
        "  plt.plot(np.arange(num_out)/3,np.array(predict), 'ro', label = 'Predict')"
      ],
      "execution_count": 393,
      "outputs": []
    },
    {
      "cell_type": "code",
      "metadata": {
        "id": "KGX9jIBpNejU",
        "colab_type": "code",
        "colab": {
          "base_uri": "https://localhost:8080/",
          "height": 483
        },
        "outputId": "62aeee51-3652-4076-f246-15ac4befae80"
      },
      "source": [
        "for x,y in train_data.take(1):\n",
        "  multistep_show(x[0],y[0],model.predict(x)[0])"
      ],
      "execution_count": 409,
      "outputs": [
        {
          "output_type": "display_data",
          "data": {
            "image/png": "[encoded data removed]",
            "text/plain": [
              "<Figure size 864x576 with 1 Axes>"
            ]
          },
          "metadata": {
            "tags": [],
            "needs_background": "light"
          }
        }
      ]
    },
    {
      "cell_type": "markdown",
      "metadata": {
        "id": "ISvq7OrHOvgw",
        "colab_type": "text"
      },
      "source": [
        "#### Accuracy가 그렇게 높다고 보기는 어렵지만 그래도 비교적 시각화 해 보니 얼추 원하던 추이에 수렴하는 것 같다. Epoch 수를 늘리던가 하는 방법을 시도해 보면 훨씬 나은 결과를 얻을 수 있을 것이라 생각한다."
      ]
    },
    {
      "cell_type": "code",
      "metadata": {
        "id": "Wiv6QxcMO6aH",
        "colab_type": "code",
        "colab": {}
      },
      "source": [
        ""
      ],
      "execution_count": null,
      "outputs": []
    }
  ]
}