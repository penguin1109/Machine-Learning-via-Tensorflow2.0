{
 "cells": [
  {
   "cell_type": "markdown",
   "metadata": {},
   "source": [
    "## City Temperature(Univariate 시계열)"
   ]
  },
  {
   "cell_type": "code",
   "execution_count": 83,
   "metadata": {},
   "outputs": [],
   "source": [
    "import tensorflow as tf\n",
    "import pandas as pd\n",
    "import numpy as np\n",
    "import os\n",
    "import cv2\n",
    "import random\n",
    "import matplotlib.pyplot as plt"
   ]
  },
  {
   "cell_type": "markdown",
   "metadata": {},
   "source": [
    "### Task: Analyze the rise of temperature over time\n",
    "\n",
    "\n",
    "#### Global warming is the ongoing rise of the average temperature of the Earth's climate system and has been demonstrated by direct temperature measurements and by measurements of various effects of the warming - Wikipedia\n",
    "\n",
    "1. Task is to analyze the rise of temperature over time in different parts of the world\n",
    "\n",
    "2. How much is the temperature increase in different parts of the world over time?\n",
    "\n",
    "3. Which cities are seeing a rapid increase in temperature over time?"
   ]
  },
  {
   "cell_type": "markdown",
   "metadata": {},
   "source": [
    "## 1. 데이터 불러오기 및 전처리"
   ]
  },
  {
   "cell_type": "code",
   "execution_count": 84,
   "metadata": {
    "scrolled": true
   },
   "outputs": [
    {
     "name": "stderr",
     "output_type": "stream",
     "text": [
      "C:\\newana\\lib\\site-packages\\IPython\\core\\interactiveshell.py:3063: DtypeWarning: Columns (2) have mixed types.Specify dtype option on import or set low_memory=False.\n",
      "  interactivity=interactivity, compiler=compiler, result=result)\n"
     ]
    }
   ],
   "source": [
    "base_dir = \"C:/city_temperature.csv\"\n",
    "citytemp_data = pd.read_csv(base_dir)"
   ]
  },
  {
   "cell_type": "markdown",
   "metadata": {},
   "source": [
    "- 이렇게 하나의 column에 문자형과 숫자형 데이터가 섞여 있는 경우에 중요한 것은 두 정보를 모두 다룰 수 있는 ColumnTransformer을 이용해서 Pipeline을 설계하여 데이터를 정리하는 것이 매우 중요하다.\n",
    "\n",
    "- 그리고 연속으로 변화가 주어지는 경우이기 때문에 RNN Model을 설계하여서 LSTM layer을 이용해 이전에 했던 네이버에서 얻은 우리나라 날씨로 24시간 이후의 기후를 예측하는것과 엇비슷하다고 볼 수 있다.\n",
    "\n",
    "- 예측을 마무리 하면 몇년 단위로 이후의 나라별 기후 예측을 시각화 하고, 그 전에는 나라별로 기후 변화를 시각화하여서 예측을 확인해 보고자 한다.\n",
    "\n",
    "- 마지막으로 '도시'의 기후 변화 예측이기 때문에 'Region', 'Country', 'State'의 정보는 drop해야 한다."
   ]
  },
  {
   "cell_type": "code",
   "execution_count": 85,
   "metadata": {},
   "outputs": [
    {
     "data": {
      "text/plain": [
       "Region                  0\n",
       "Country                 0\n",
       "State             1450990\n",
       "City                    0\n",
       "Month                   0\n",
       "Day                     0\n",
       "Year                    0\n",
       "AvgTemperature          0\n",
       "dtype: int64"
      ]
     },
     "execution_count": 85,
     "metadata": {},
     "output_type": "execute_result"
    }
   ],
   "source": [
    "np.sum(pd.isnull(citytemp_data))"
   ]
  },
  {
   "cell_type": "markdown",
   "metadata": {},
   "source": [
    "State data는 그냥 없애주기로 하자"
   ]
  },
  {
   "cell_type": "code",
   "execution_count": 86,
   "metadata": {},
   "outputs": [
    {
     "data": {
      "text/html": [
       "<div>\n",
       "<style scoped>\n",
       "    .dataframe tbody tr th:only-of-type {\n",
       "        vertical-align: middle;\n",
       "    }\n",
       "\n",
       "    .dataframe tbody tr th {\n",
       "        vertical-align: top;\n",
       "    }\n",
       "\n",
       "    .dataframe thead th {\n",
       "        text-align: right;\n",
       "    }\n",
       "</style>\n",
       "<table border=\"1\" class=\"dataframe\">\n",
       "  <thead>\n",
       "    <tr style=\"text-align: right;\">\n",
       "      <th></th>\n",
       "      <th>Region</th>\n",
       "      <th>Country</th>\n",
       "      <th>City</th>\n",
       "      <th>Month</th>\n",
       "      <th>Day</th>\n",
       "      <th>Year</th>\n",
       "      <th>AvgTemperature</th>\n",
       "    </tr>\n",
       "  </thead>\n",
       "  <tbody>\n",
       "    <tr>\n",
       "      <th>0</th>\n",
       "      <td>Africa</td>\n",
       "      <td>Algeria</td>\n",
       "      <td>Algiers</td>\n",
       "      <td>1</td>\n",
       "      <td>1</td>\n",
       "      <td>1995</td>\n",
       "      <td>64.2</td>\n",
       "    </tr>\n",
       "    <tr>\n",
       "      <th>1</th>\n",
       "      <td>Africa</td>\n",
       "      <td>Algeria</td>\n",
       "      <td>Algiers</td>\n",
       "      <td>1</td>\n",
       "      <td>2</td>\n",
       "      <td>1995</td>\n",
       "      <td>49.4</td>\n",
       "    </tr>\n",
       "    <tr>\n",
       "      <th>2</th>\n",
       "      <td>Africa</td>\n",
       "      <td>Algeria</td>\n",
       "      <td>Algiers</td>\n",
       "      <td>1</td>\n",
       "      <td>3</td>\n",
       "      <td>1995</td>\n",
       "      <td>48.8</td>\n",
       "    </tr>\n",
       "    <tr>\n",
       "      <th>3</th>\n",
       "      <td>Africa</td>\n",
       "      <td>Algeria</td>\n",
       "      <td>Algiers</td>\n",
       "      <td>1</td>\n",
       "      <td>4</td>\n",
       "      <td>1995</td>\n",
       "      <td>46.4</td>\n",
       "    </tr>\n",
       "    <tr>\n",
       "      <th>4</th>\n",
       "      <td>Africa</td>\n",
       "      <td>Algeria</td>\n",
       "      <td>Algiers</td>\n",
       "      <td>1</td>\n",
       "      <td>5</td>\n",
       "      <td>1995</td>\n",
       "      <td>47.9</td>\n",
       "    </tr>\n",
       "    <tr>\n",
       "      <th>...</th>\n",
       "      <td>...</td>\n",
       "      <td>...</td>\n",
       "      <td>...</td>\n",
       "      <td>...</td>\n",
       "      <td>...</td>\n",
       "      <td>...</td>\n",
       "      <td>...</td>\n",
       "    </tr>\n",
       "    <tr>\n",
       "      <th>2906322</th>\n",
       "      <td>North America</td>\n",
       "      <td>US</td>\n",
       "      <td>San Juan Puerto Rico</td>\n",
       "      <td>7</td>\n",
       "      <td>27</td>\n",
       "      <td>2013</td>\n",
       "      <td>82.4</td>\n",
       "    </tr>\n",
       "    <tr>\n",
       "      <th>2906323</th>\n",
       "      <td>North America</td>\n",
       "      <td>US</td>\n",
       "      <td>San Juan Puerto Rico</td>\n",
       "      <td>7</td>\n",
       "      <td>28</td>\n",
       "      <td>2013</td>\n",
       "      <td>81.6</td>\n",
       "    </tr>\n",
       "    <tr>\n",
       "      <th>2906324</th>\n",
       "      <td>North America</td>\n",
       "      <td>US</td>\n",
       "      <td>San Juan Puerto Rico</td>\n",
       "      <td>7</td>\n",
       "      <td>29</td>\n",
       "      <td>2013</td>\n",
       "      <td>84.2</td>\n",
       "    </tr>\n",
       "    <tr>\n",
       "      <th>2906325</th>\n",
       "      <td>North America</td>\n",
       "      <td>US</td>\n",
       "      <td>San Juan Puerto Rico</td>\n",
       "      <td>7</td>\n",
       "      <td>30</td>\n",
       "      <td>2013</td>\n",
       "      <td>83.8</td>\n",
       "    </tr>\n",
       "    <tr>\n",
       "      <th>2906326</th>\n",
       "      <td>North America</td>\n",
       "      <td>US</td>\n",
       "      <td>San Juan Puerto Rico</td>\n",
       "      <td>7</td>\n",
       "      <td>31</td>\n",
       "      <td>2013</td>\n",
       "      <td>83.6</td>\n",
       "    </tr>\n",
       "  </tbody>\n",
       "</table>\n",
       "<p>2906327 rows × 7 columns</p>\n",
       "</div>"
      ],
      "text/plain": [
       "                Region  Country                  City  Month  Day  Year  \\\n",
       "0               Africa  Algeria               Algiers      1    1  1995   \n",
       "1               Africa  Algeria               Algiers      1    2  1995   \n",
       "2               Africa  Algeria               Algiers      1    3  1995   \n",
       "3               Africa  Algeria               Algiers      1    4  1995   \n",
       "4               Africa  Algeria               Algiers      1    5  1995   \n",
       "...                ...      ...                   ...    ...  ...   ...   \n",
       "2906322  North America       US  San Juan Puerto Rico      7   27  2013   \n",
       "2906323  North America       US  San Juan Puerto Rico      7   28  2013   \n",
       "2906324  North America       US  San Juan Puerto Rico      7   29  2013   \n",
       "2906325  North America       US  San Juan Puerto Rico      7   30  2013   \n",
       "2906326  North America       US  San Juan Puerto Rico      7   31  2013   \n",
       "\n",
       "         AvgTemperature  \n",
       "0                  64.2  \n",
       "1                  49.4  \n",
       "2                  48.8  \n",
       "3                  46.4  \n",
       "4                  47.9  \n",
       "...                 ...  \n",
       "2906322            82.4  \n",
       "2906323            81.6  \n",
       "2906324            84.2  \n",
       "2906325            83.8  \n",
       "2906326            83.6  \n",
       "\n",
       "[2906327 rows x 7 columns]"
      ]
     },
     "execution_count": 86,
     "metadata": {},
     "output_type": "execute_result"
    }
   ],
   "source": [
    "citytemp_data.drop('State',axis = 1)"
   ]
  },
  {
   "cell_type": "code",
   "execution_count": 87,
   "metadata": {},
   "outputs": [
    {
     "data": {
      "text/plain": [
       "0                       Algiers\n",
       "1                       Algiers\n",
       "2                       Algiers\n",
       "3                       Algiers\n",
       "4                       Algiers\n",
       "                   ...         \n",
       "2906322    San Juan Puerto Rico\n",
       "2906323    San Juan Puerto Rico\n",
       "2906324    San Juan Puerto Rico\n",
       "2906325    San Juan Puerto Rico\n",
       "2906326    San Juan Puerto Rico\n",
       "Name: City, Length: 2906327, dtype: object"
      ]
     },
     "execution_count": 87,
     "metadata": {},
     "output_type": "execute_result"
    }
   ],
   "source": [
    "citytemp_data['City']"
   ]
  },
  {
   "cell_type": "code",
   "execution_count": 89,
   "metadata": {},
   "outputs": [
    {
     "data": {
      "text/plain": [
       "array([['Africa', 'Algeria', nan, ..., 1, 1995, 64.2],\n",
       "       ['Africa', 'Algeria', nan, ..., 2, 1995, 49.4],\n",
       "       ['Africa', 'Algeria', nan, ..., 3, 1995, 48.8],\n",
       "       ...,\n",
       "       ['North America', 'US', 'Additional Territories', ..., 29, 2013,\n",
       "        84.2],\n",
       "       ['North America', 'US', 'Additional Territories', ..., 30, 2013,\n",
       "        83.8],\n",
       "       ['North America', 'US', 'Additional Territories', ..., 31, 2013,\n",
       "        83.6]], dtype=object)"
      ]
     },
     "execution_count": 89,
     "metadata": {},
     "output_type": "execute_result"
    }
   ],
   "source": [
    "citytemp_data.values"
   ]
  },
  {
   "cell_type": "markdown",
   "metadata": {},
   "source": [
    "```dataset이름.values``` 를 호출하면 각 행이 array의 형태로 출력이 된다.\n",
    "\n",
    "지금 짠 코드와는 별개의 내용이지만 ```dataframe이름['label이름'].plt()``` 하면 시각화를 해주고\n",
    "\n",
    "```dataframe이름.dropna()``` 를 해주면 비어있는, 즉 NAN의 형태의 데이터가 있는 열을 아얘 없애준다."
   ]
  },
  {
   "cell_type": "code",
   "execution_count": 91,
   "metadata": {},
   "outputs": [
    {
     "data": {
      "text/plain": [
       "<pandas.core.indexing._LocIndexer at 0x29c071ccf48>"
      ]
     },
     "execution_count": 91,
     "metadata": {},
     "output_type": "execute_result"
    }
   ],
   "source": [
    "citytemp_data.loc"
   ]
  },
  {
   "cell_type": "markdown",
   "metadata": {},
   "source": [
    "예를 들면\n",
    "```\n",
    "split_date = pd.Timestamp('01-01-2017')\n",
    "#split_data를 기준으로 train, test data 분리\n",
    "train = df.loc[:split_date, ['trade_price_idx_value']]\n",
    "test = df.loc[split_date:, ['trade_price_idx_value']]\n",
    "```\n",
    "이런 식으로 해주고 변화를 시각화해 보자면 \n",
    "\n"
   ]
  },
  {
   "cell_type": "code",
   "execution_count": 92,
   "metadata": {},
   "outputs": [
    {
     "data": {
      "text/html": [
       "<div>\n",
       "<style scoped>\n",
       "    .dataframe tbody tr th:only-of-type {\n",
       "        vertical-align: middle;\n",
       "    }\n",
       "\n",
       "    .dataframe tbody tr th {\n",
       "        vertical-align: top;\n",
       "    }\n",
       "\n",
       "    .dataframe thead th {\n",
       "        text-align: right;\n",
       "    }\n",
       "</style>\n",
       "<table border=\"1\" class=\"dataframe\">\n",
       "  <thead>\n",
       "    <tr style=\"text-align: right;\">\n",
       "      <th></th>\n",
       "      <th>Region</th>\n",
       "      <th>Country</th>\n",
       "      <th>State</th>\n",
       "      <th>City</th>\n",
       "      <th>Month</th>\n",
       "      <th>Day</th>\n",
       "      <th>Year</th>\n",
       "      <th>AvgTemperature</th>\n",
       "    </tr>\n",
       "  </thead>\n",
       "  <tbody>\n",
       "    <tr>\n",
       "      <th>0</th>\n",
       "      <td>Africa</td>\n",
       "      <td>Algeria</td>\n",
       "      <td>NaN</td>\n",
       "      <td>Algiers</td>\n",
       "      <td>1</td>\n",
       "      <td>1</td>\n",
       "      <td>1995</td>\n",
       "      <td>64.2</td>\n",
       "    </tr>\n",
       "    <tr>\n",
       "      <th>1</th>\n",
       "      <td>Africa</td>\n",
       "      <td>Algeria</td>\n",
       "      <td>NaN</td>\n",
       "      <td>Algiers</td>\n",
       "      <td>1</td>\n",
       "      <td>2</td>\n",
       "      <td>1995</td>\n",
       "      <td>49.4</td>\n",
       "    </tr>\n",
       "    <tr>\n",
       "      <th>2</th>\n",
       "      <td>Africa</td>\n",
       "      <td>Algeria</td>\n",
       "      <td>NaN</td>\n",
       "      <td>Algiers</td>\n",
       "      <td>1</td>\n",
       "      <td>3</td>\n",
       "      <td>1995</td>\n",
       "      <td>48.8</td>\n",
       "    </tr>\n",
       "    <tr>\n",
       "      <th>3</th>\n",
       "      <td>Africa</td>\n",
       "      <td>Algeria</td>\n",
       "      <td>NaN</td>\n",
       "      <td>Algiers</td>\n",
       "      <td>1</td>\n",
       "      <td>4</td>\n",
       "      <td>1995</td>\n",
       "      <td>46.4</td>\n",
       "    </tr>\n",
       "    <tr>\n",
       "      <th>4</th>\n",
       "      <td>Africa</td>\n",
       "      <td>Algeria</td>\n",
       "      <td>NaN</td>\n",
       "      <td>Algiers</td>\n",
       "      <td>1</td>\n",
       "      <td>5</td>\n",
       "      <td>1995</td>\n",
       "      <td>47.9</td>\n",
       "    </tr>\n",
       "    <tr>\n",
       "      <th>...</th>\n",
       "      <td>...</td>\n",
       "      <td>...</td>\n",
       "      <td>...</td>\n",
       "      <td>...</td>\n",
       "      <td>...</td>\n",
       "      <td>...</td>\n",
       "      <td>...</td>\n",
       "      <td>...</td>\n",
       "    </tr>\n",
       "    <tr>\n",
       "      <th>2906322</th>\n",
       "      <td>North America</td>\n",
       "      <td>US</td>\n",
       "      <td>Additional Territories</td>\n",
       "      <td>San Juan Puerto Rico</td>\n",
       "      <td>7</td>\n",
       "      <td>27</td>\n",
       "      <td>2013</td>\n",
       "      <td>82.4</td>\n",
       "    </tr>\n",
       "    <tr>\n",
       "      <th>2906323</th>\n",
       "      <td>North America</td>\n",
       "      <td>US</td>\n",
       "      <td>Additional Territories</td>\n",
       "      <td>San Juan Puerto Rico</td>\n",
       "      <td>7</td>\n",
       "      <td>28</td>\n",
       "      <td>2013</td>\n",
       "      <td>81.6</td>\n",
       "    </tr>\n",
       "    <tr>\n",
       "      <th>2906324</th>\n",
       "      <td>North America</td>\n",
       "      <td>US</td>\n",
       "      <td>Additional Territories</td>\n",
       "      <td>San Juan Puerto Rico</td>\n",
       "      <td>7</td>\n",
       "      <td>29</td>\n",
       "      <td>2013</td>\n",
       "      <td>84.2</td>\n",
       "    </tr>\n",
       "    <tr>\n",
       "      <th>2906325</th>\n",
       "      <td>North America</td>\n",
       "      <td>US</td>\n",
       "      <td>Additional Territories</td>\n",
       "      <td>San Juan Puerto Rico</td>\n",
       "      <td>7</td>\n",
       "      <td>30</td>\n",
       "      <td>2013</td>\n",
       "      <td>83.8</td>\n",
       "    </tr>\n",
       "    <tr>\n",
       "      <th>2906326</th>\n",
       "      <td>North America</td>\n",
       "      <td>US</td>\n",
       "      <td>Additional Territories</td>\n",
       "      <td>San Juan Puerto Rico</td>\n",
       "      <td>7</td>\n",
       "      <td>31</td>\n",
       "      <td>2013</td>\n",
       "      <td>83.6</td>\n",
       "    </tr>\n",
       "  </tbody>\n",
       "</table>\n",
       "<p>2906327 rows × 8 columns</p>\n",
       "</div>"
      ],
      "text/plain": [
       "                Region  Country                   State                  City  \\\n",
       "0               Africa  Algeria                     NaN               Algiers   \n",
       "1               Africa  Algeria                     NaN               Algiers   \n",
       "2               Africa  Algeria                     NaN               Algiers   \n",
       "3               Africa  Algeria                     NaN               Algiers   \n",
       "4               Africa  Algeria                     NaN               Algiers   \n",
       "...                ...      ...                     ...                   ...   \n",
       "2906322  North America       US  Additional Territories  San Juan Puerto Rico   \n",
       "2906323  North America       US  Additional Territories  San Juan Puerto Rico   \n",
       "2906324  North America       US  Additional Territories  San Juan Puerto Rico   \n",
       "2906325  North America       US  Additional Territories  San Juan Puerto Rico   \n",
       "2906326  North America       US  Additional Territories  San Juan Puerto Rico   \n",
       "\n",
       "         Month  Day  Year  AvgTemperature  \n",
       "0            1    1  1995            64.2  \n",
       "1            1    2  1995            49.4  \n",
       "2            1    3  1995            48.8  \n",
       "3            1    4  1995            46.4  \n",
       "4            1    5  1995            47.9  \n",
       "...        ...  ...   ...             ...  \n",
       "2906322      7   27  2013            82.4  \n",
       "2906323      7   28  2013            81.6  \n",
       "2906324      7   29  2013            84.2  \n",
       "2906325      7   30  2013            83.8  \n",
       "2906326      7   31  2013            83.6  \n",
       "\n",
       "[2906327 rows x 8 columns]"
      ]
     },
     "execution_count": 92,
     "metadata": {},
     "output_type": "execute_result"
    }
   ],
   "source": [
    "citytemp_data"
   ]
  },
  {
   "cell_type": "code",
   "execution_count": 93,
   "metadata": {},
   "outputs": [],
   "source": [
    "city_data = citytemp_data.drop(['Region','Country', 'State'], axis = 1)"
   ]
  },
  {
   "cell_type": "code",
   "execution_count": 94,
   "metadata": {},
   "outputs": [
    {
     "data": {
      "text/html": [
       "<div>\n",
       "<style scoped>\n",
       "    .dataframe tbody tr th:only-of-type {\n",
       "        vertical-align: middle;\n",
       "    }\n",
       "\n",
       "    .dataframe tbody tr th {\n",
       "        vertical-align: top;\n",
       "    }\n",
       "\n",
       "    .dataframe thead th {\n",
       "        text-align: right;\n",
       "    }\n",
       "</style>\n",
       "<table border=\"1\" class=\"dataframe\">\n",
       "  <thead>\n",
       "    <tr style=\"text-align: right;\">\n",
       "      <th></th>\n",
       "      <th>City</th>\n",
       "      <th>Month</th>\n",
       "      <th>Day</th>\n",
       "      <th>Year</th>\n",
       "      <th>AvgTemperature</th>\n",
       "    </tr>\n",
       "  </thead>\n",
       "  <tbody>\n",
       "    <tr>\n",
       "      <th>0</th>\n",
       "      <td>Algiers</td>\n",
       "      <td>1</td>\n",
       "      <td>1</td>\n",
       "      <td>1995</td>\n",
       "      <td>64.2</td>\n",
       "    </tr>\n",
       "    <tr>\n",
       "      <th>1</th>\n",
       "      <td>Algiers</td>\n",
       "      <td>1</td>\n",
       "      <td>2</td>\n",
       "      <td>1995</td>\n",
       "      <td>49.4</td>\n",
       "    </tr>\n",
       "    <tr>\n",
       "      <th>2</th>\n",
       "      <td>Algiers</td>\n",
       "      <td>1</td>\n",
       "      <td>3</td>\n",
       "      <td>1995</td>\n",
       "      <td>48.8</td>\n",
       "    </tr>\n",
       "    <tr>\n",
       "      <th>3</th>\n",
       "      <td>Algiers</td>\n",
       "      <td>1</td>\n",
       "      <td>4</td>\n",
       "      <td>1995</td>\n",
       "      <td>46.4</td>\n",
       "    </tr>\n",
       "    <tr>\n",
       "      <th>4</th>\n",
       "      <td>Algiers</td>\n",
       "      <td>1</td>\n",
       "      <td>5</td>\n",
       "      <td>1995</td>\n",
       "      <td>47.9</td>\n",
       "    </tr>\n",
       "  </tbody>\n",
       "</table>\n",
       "</div>"
      ],
      "text/plain": [
       "      City  Month  Day  Year  AvgTemperature\n",
       "0  Algiers      1    1  1995            64.2\n",
       "1  Algiers      1    2  1995            49.4\n",
       "2  Algiers      1    3  1995            48.8\n",
       "3  Algiers      1    4  1995            46.4\n",
       "4  Algiers      1    5  1995            47.9"
      ]
     },
     "execution_count": 94,
     "metadata": {},
     "output_type": "execute_result"
    }
   ],
   "source": [
    "city_data.head()"
   ]
  },
  {
   "cell_type": "code",
   "execution_count": 95,
   "metadata": {
    "scrolled": true
   },
   "outputs": [
    {
     "data": {
      "text/plain": [
       "{'Abidjan',\n",
       " 'Abilene',\n",
       " 'Abu Dhabi',\n",
       " 'Addis Ababa',\n",
       " 'Akron Canton',\n",
       " 'Albany',\n",
       " 'Albuquerque',\n",
       " 'Algiers',\n",
       " 'Allentown',\n",
       " 'Almaty',\n",
       " 'Amarillo',\n",
       " 'Amman',\n",
       " 'Amsterdam',\n",
       " 'Anchorage',\n",
       " 'Ankara',\n",
       " 'Antananarivo',\n",
       " 'Ashabad',\n",
       " 'Asheville',\n",
       " 'Athens',\n",
       " 'Atlanta',\n",
       " 'Atlantic City',\n",
       " 'Auckland',\n",
       " 'Austin',\n",
       " 'Baltimore',\n",
       " 'Bangkok',\n",
       " 'Bangui',\n",
       " 'Banjul',\n",
       " 'Barcelona',\n",
       " 'Baton Rouge',\n",
       " 'Beijing',\n",
       " 'Beirut',\n",
       " 'Belfast',\n",
       " 'Belgrade',\n",
       " 'Belize City',\n",
       " 'Bern',\n",
       " 'Bilbao',\n",
       " 'Billings',\n",
       " 'Birmingham',\n",
       " 'Bishkek',\n",
       " 'Bismarck',\n",
       " 'Bissau',\n",
       " 'Bogota',\n",
       " 'Boise',\n",
       " 'Bombay (Mumbai)',\n",
       " 'Bonn',\n",
       " 'Bordeaux',\n",
       " 'Boston',\n",
       " 'Brasilia',\n",
       " 'Bratislava',\n",
       " 'Brazzaville',\n",
       " 'Bridgeport',\n",
       " 'Bridgetown',\n",
       " 'Brisbane',\n",
       " 'Brownsville',\n",
       " 'Brussels',\n",
       " 'Bucharest',\n",
       " 'Budapest',\n",
       " 'Buenos Aires',\n",
       " 'Buffalo',\n",
       " 'Bujumbura',\n",
       " 'Burlington',\n",
       " 'Cairo',\n",
       " 'Calcutta',\n",
       " 'Calgary',\n",
       " 'Canberra',\n",
       " 'Capetown',\n",
       " 'Caracas',\n",
       " 'Caribou',\n",
       " 'Casper',\n",
       " 'Charleston',\n",
       " 'Charlotte',\n",
       " 'Chattanooga',\n",
       " 'Chengdu',\n",
       " 'Chennai (Madras)',\n",
       " 'Cheyenne',\n",
       " 'Chicago',\n",
       " 'Cincinnati',\n",
       " 'Cleveland',\n",
       " 'Colombo',\n",
       " 'Colorado Springs',\n",
       " 'Columbia',\n",
       " 'Columbus',\n",
       " 'Conakry',\n",
       " 'Concord',\n",
       " 'Copenhagen',\n",
       " 'Corpus Christi',\n",
       " 'Cotonou',\n",
       " 'Dakar',\n",
       " 'Dallas Ft Worth',\n",
       " 'Damascus',\n",
       " 'Dar Es Salaam',\n",
       " 'Dayton',\n",
       " 'Daytona Beach',\n",
       " 'Delhi',\n",
       " 'Denver',\n",
       " 'Des Moines',\n",
       " 'Detroit',\n",
       " 'Dhahran',\n",
       " 'Dhaka',\n",
       " 'Doha',\n",
       " 'Dubai',\n",
       " 'Dublin',\n",
       " 'Duluth',\n",
       " 'Dusanbe',\n",
       " 'Edmonton',\n",
       " 'El Paso',\n",
       " 'Elkins',\n",
       " 'Erie',\n",
       " 'Eugene',\n",
       " 'Evansville',\n",
       " 'Fairbanks',\n",
       " 'Fargo',\n",
       " 'Flagstaff',\n",
       " 'Flint',\n",
       " 'Fort Smith',\n",
       " 'Fort Wayne',\n",
       " 'Frankfurt',\n",
       " 'Freetown',\n",
       " 'Fresno',\n",
       " 'Geneva',\n",
       " 'Georgetown',\n",
       " 'Goodland',\n",
       " 'Grand Junction',\n",
       " 'Grand Rapids',\n",
       " 'Great Falls',\n",
       " 'Green Bay',\n",
       " 'Greensboro',\n",
       " 'Guadalajara',\n",
       " 'Guangzhou',\n",
       " 'Guatemala City',\n",
       " 'Guayaquil',\n",
       " 'Halifax',\n",
       " 'Hamburg',\n",
       " 'Hamilton',\n",
       " 'Hanoi',\n",
       " 'Harrisburg',\n",
       " 'Hartford Springfield',\n",
       " 'Havana',\n",
       " 'Helena',\n",
       " 'Helsinki',\n",
       " 'Hong Kong',\n",
       " 'Honolulu',\n",
       " 'Houston',\n",
       " 'Huntsville',\n",
       " 'Indianapolis',\n",
       " 'Islamabad',\n",
       " 'Istanbul',\n",
       " 'Jackson',\n",
       " 'Jacksonville',\n",
       " 'Jakarta',\n",
       " 'Juneau',\n",
       " 'Kampala',\n",
       " 'Kansas City',\n",
       " 'Karachi',\n",
       " 'Katmandu',\n",
       " 'Kiev',\n",
       " 'Knoxville',\n",
       " 'Kuala Lumpur',\n",
       " 'Kuwait',\n",
       " 'La Paz',\n",
       " 'Lagos',\n",
       " 'Lake Charles',\n",
       " 'Lansing',\n",
       " 'Las Vegas',\n",
       " 'Lexington',\n",
       " 'Libreville',\n",
       " 'Lilongwe',\n",
       " 'Lima',\n",
       " 'Lincoln',\n",
       " 'Lisbon',\n",
       " 'Little Rock',\n",
       " 'Lome',\n",
       " 'London',\n",
       " 'Los Angeles',\n",
       " 'Louisville',\n",
       " 'Lubbock',\n",
       " 'Lusaka',\n",
       " 'Macon',\n",
       " 'Madison',\n",
       " 'Madrid',\n",
       " 'Managua',\n",
       " 'Manama',\n",
       " 'Manila',\n",
       " 'Maputo',\n",
       " 'Medford',\n",
       " 'Melbourne',\n",
       " 'Memphis',\n",
       " 'Mexico City',\n",
       " 'Miami Beach',\n",
       " 'Midland Odessa',\n",
       " 'Milan',\n",
       " 'Milwaukee',\n",
       " 'Minneapolis St. Paul',\n",
       " 'Minsk',\n",
       " 'Mobile',\n",
       " 'Monterrey',\n",
       " 'Montgomery',\n",
       " 'Montreal',\n",
       " 'Montvideo',\n",
       " 'Moscow',\n",
       " 'Munich',\n",
       " 'Muscat',\n",
       " 'Nairobi',\n",
       " 'Nashville',\n",
       " 'Nassau',\n",
       " 'New Orleans',\n",
       " 'New York City',\n",
       " 'Newark',\n",
       " 'Niamey',\n",
       " 'Nicosia',\n",
       " 'Norfolk',\n",
       " 'North Platte',\n",
       " 'Nouakchott',\n",
       " 'Oklahoma City',\n",
       " 'Omaha',\n",
       " 'Orlando',\n",
       " 'Osaka',\n",
       " 'Oslo',\n",
       " 'Ottawa',\n",
       " 'Paducah',\n",
       " 'Panama City',\n",
       " 'Paramaribo',\n",
       " 'Paris',\n",
       " 'Peoria',\n",
       " 'Perth',\n",
       " 'Philadelphia',\n",
       " 'Phoenix',\n",
       " 'Pittsburgh',\n",
       " 'Pocatello',\n",
       " 'Port au Prince',\n",
       " 'Portland',\n",
       " 'Prague',\n",
       " 'Pristina',\n",
       " 'Pueblo',\n",
       " 'Pyongyang',\n",
       " 'Quebec',\n",
       " 'Quito',\n",
       " 'Rabat',\n",
       " 'Raleigh Durham',\n",
       " 'Rangoon',\n",
       " 'Rapid City',\n",
       " 'Regina',\n",
       " 'Reno',\n",
       " 'Reykjavik',\n",
       " 'Rhode Island',\n",
       " 'Richmond',\n",
       " 'Riga',\n",
       " 'Rio de Janeiro',\n",
       " 'Riyadh',\n",
       " 'Roanoke',\n",
       " 'Rochester',\n",
       " 'Rockford',\n",
       " 'Rome',\n",
       " 'Sacramento',\n",
       " 'Salem',\n",
       " 'Salt Lake City',\n",
       " 'San Angelo',\n",
       " 'San Antonio',\n",
       " 'San Diego',\n",
       " 'San Francisco',\n",
       " 'San Jose',\n",
       " 'San Juan Puerto Rico',\n",
       " 'Santo Domingo',\n",
       " 'Sao Paulo',\n",
       " 'Sapporo',\n",
       " 'Sault Ste Marie',\n",
       " 'Savannah',\n",
       " 'Seattle',\n",
       " 'Seoul',\n",
       " 'Shanghai',\n",
       " 'Shenyang',\n",
       " 'Shreveport',\n",
       " 'Singapore',\n",
       " 'Sioux City',\n",
       " 'Sioux Falls',\n",
       " 'Skopje',\n",
       " 'Sofia',\n",
       " 'South Bend',\n",
       " 'Spokane',\n",
       " 'Springfield',\n",
       " 'St Louis',\n",
       " 'Stockholm',\n",
       " 'Sydney',\n",
       " 'Syracuse',\n",
       " 'Taipei',\n",
       " 'Tallahassee',\n",
       " 'Tampa St. Petersburg',\n",
       " 'Tashkent',\n",
       " 'Tbilisi',\n",
       " 'Tegucigalpa',\n",
       " 'Tel Aviv',\n",
       " 'Tirana',\n",
       " 'Tokyo',\n",
       " 'Toledo',\n",
       " 'Topeka',\n",
       " 'Toronto',\n",
       " 'Tucson',\n",
       " 'Tulsa',\n",
       " 'Tunis',\n",
       " 'Tupelo',\n",
       " 'Ulan-bator',\n",
       " 'Vancouver',\n",
       " 'Vienna',\n",
       " 'Vientiane',\n",
       " 'Waco',\n",
       " 'Warsaw',\n",
       " 'Washington',\n",
       " 'Washington DC',\n",
       " 'West Palm Beach',\n",
       " 'Wichita',\n",
       " 'Wichita Falls',\n",
       " 'Wilkes Barre',\n",
       " 'Wilmington',\n",
       " 'Windhoek',\n",
       " 'Winnipeg',\n",
       " 'Yakima',\n",
       " 'Yerevan',\n",
       " 'Youngstown',\n",
       " 'Yuma',\n",
       " 'Zagreb',\n",
       " 'Zurich'}"
      ]
     },
     "execution_count": 95,
     "metadata": {},
     "output_type": "execute_result"
    }
   ],
   "source": [
    "set(list(city_data[\"City\"].values))"
   ]
  },
  {
   "cell_type": "markdown",
   "metadata": {},
   "source": [
    "## 2. 학습\n",
    "#### 시계열 RNN학습은 New York City의 데이터만을 이용해서 분석하고자 한다.\n",
    "그렇게 해도 충분히 데이터 양이 많기 때문에 분석이 가능할 것이다.\n",
    "다만 여기서 데이터를 조작해야 하는 부분이 Month, Day, Year의 정보를 하나로 합쳐서 date정보로 바꾸어 (Year-Month-Day)를 label로 이용하면 될 것이다.\n",
    "\n",
    "### 2-1. 데이터 전처리"
   ]
  },
  {
   "cell_type": "code",
   "execution_count": 96,
   "metadata": {},
   "outputs": [],
   "source": [
    "ny_df = city_data.query(\"City=='New York City'\")"
   ]
  },
  {
   "cell_type": "code",
   "execution_count": 97,
   "metadata": {
    "scrolled": true
   },
   "outputs": [
    {
     "data": {
      "text/html": [
       "<div>\n",
       "<style scoped>\n",
       "    .dataframe tbody tr th:only-of-type {\n",
       "        vertical-align: middle;\n",
       "    }\n",
       "\n",
       "    .dataframe tbody tr th {\n",
       "        vertical-align: top;\n",
       "    }\n",
       "\n",
       "    .dataframe thead th {\n",
       "        text-align: right;\n",
       "    }\n",
       "</style>\n",
       "<table border=\"1\" class=\"dataframe\">\n",
       "  <thead>\n",
       "    <tr style=\"text-align: right;\">\n",
       "      <th></th>\n",
       "      <th>City</th>\n",
       "      <th>Month</th>\n",
       "      <th>Day</th>\n",
       "      <th>Year</th>\n",
       "      <th>AvgTemperature</th>\n",
       "    </tr>\n",
       "  </thead>\n",
       "  <tbody>\n",
       "    <tr>\n",
       "      <th>2291563</th>\n",
       "      <td>New York City</td>\n",
       "      <td>1</td>\n",
       "      <td>1</td>\n",
       "      <td>1995</td>\n",
       "      <td>44.0</td>\n",
       "    </tr>\n",
       "    <tr>\n",
       "      <th>2291564</th>\n",
       "      <td>New York City</td>\n",
       "      <td>1</td>\n",
       "      <td>2</td>\n",
       "      <td>1995</td>\n",
       "      <td>41.8</td>\n",
       "    </tr>\n",
       "    <tr>\n",
       "      <th>2291565</th>\n",
       "      <td>New York City</td>\n",
       "      <td>1</td>\n",
       "      <td>3</td>\n",
       "      <td>1995</td>\n",
       "      <td>28.1</td>\n",
       "    </tr>\n",
       "    <tr>\n",
       "      <th>2291566</th>\n",
       "      <td>New York City</td>\n",
       "      <td>1</td>\n",
       "      <td>4</td>\n",
       "      <td>1995</td>\n",
       "      <td>31.7</td>\n",
       "    </tr>\n",
       "    <tr>\n",
       "      <th>2291567</th>\n",
       "      <td>New York City</td>\n",
       "      <td>1</td>\n",
       "      <td>5</td>\n",
       "      <td>1995</td>\n",
       "      <td>21.3</td>\n",
       "    </tr>\n",
       "    <tr>\n",
       "      <th>...</th>\n",
       "      <td>...</td>\n",
       "      <td>...</td>\n",
       "      <td>...</td>\n",
       "      <td>...</td>\n",
       "      <td>...</td>\n",
       "    </tr>\n",
       "    <tr>\n",
       "      <th>2300823</th>\n",
       "      <td>New York City</td>\n",
       "      <td>5</td>\n",
       "      <td>9</td>\n",
       "      <td>2020</td>\n",
       "      <td>42.2</td>\n",
       "    </tr>\n",
       "    <tr>\n",
       "      <th>2300824</th>\n",
       "      <td>New York City</td>\n",
       "      <td>5</td>\n",
       "      <td>10</td>\n",
       "      <td>2020</td>\n",
       "      <td>50.3</td>\n",
       "    </tr>\n",
       "    <tr>\n",
       "      <th>2300825</th>\n",
       "      <td>New York City</td>\n",
       "      <td>5</td>\n",
       "      <td>11</td>\n",
       "      <td>2020</td>\n",
       "      <td>55.7</td>\n",
       "    </tr>\n",
       "    <tr>\n",
       "      <th>2300826</th>\n",
       "      <td>New York City</td>\n",
       "      <td>5</td>\n",
       "      <td>12</td>\n",
       "      <td>2020</td>\n",
       "      <td>51.1</td>\n",
       "    </tr>\n",
       "    <tr>\n",
       "      <th>2300827</th>\n",
       "      <td>New York City</td>\n",
       "      <td>5</td>\n",
       "      <td>13</td>\n",
       "      <td>2020</td>\n",
       "      <td>51.8</td>\n",
       "    </tr>\n",
       "  </tbody>\n",
       "</table>\n",
       "<p>9265 rows × 5 columns</p>\n",
       "</div>"
      ],
      "text/plain": [
       "                  City  Month  Day  Year  AvgTemperature\n",
       "2291563  New York City      1    1  1995            44.0\n",
       "2291564  New York City      1    2  1995            41.8\n",
       "2291565  New York City      1    3  1995            28.1\n",
       "2291566  New York City      1    4  1995            31.7\n",
       "2291567  New York City      1    5  1995            21.3\n",
       "...                ...    ...  ...   ...             ...\n",
       "2300823  New York City      5    9  2020            42.2\n",
       "2300824  New York City      5   10  2020            50.3\n",
       "2300825  New York City      5   11  2020            55.7\n",
       "2300826  New York City      5   12  2020            51.1\n",
       "2300827  New York City      5   13  2020            51.8\n",
       "\n",
       "[9265 rows x 5 columns]"
      ]
     },
     "execution_count": 97,
     "metadata": {},
     "output_type": "execute_result"
    }
   ],
   "source": [
    "ny_df"
   ]
  },
  {
   "cell_type": "code",
   "execution_count": 98,
   "metadata": {},
   "outputs": [
    {
     "data": {
      "text/plain": [
       "9265"
      ]
     },
     "execution_count": 98,
     "metadata": {},
     "output_type": "execute_result"
    }
   ],
   "source": [
    "len(ny_df)"
   ]
  },
  {
   "cell_type": "code",
   "execution_count": 99,
   "metadata": {},
   "outputs": [
    {
     "data": {
      "text/plain": [
       "1"
      ]
     },
     "execution_count": 99,
     "metadata": {},
     "output_type": "execute_result"
    }
   ],
   "source": [
    "list(ny_df.Month)[0]"
   ]
  },
  {
   "cell_type": "code",
   "execution_count": 100,
   "metadata": {},
   "outputs": [
    {
     "data": {
      "text/html": [
       "<div>\n",
       "<style scoped>\n",
       "    .dataframe tbody tr th:only-of-type {\n",
       "        vertical-align: middle;\n",
       "    }\n",
       "\n",
       "    .dataframe tbody tr th {\n",
       "        vertical-align: top;\n",
       "    }\n",
       "\n",
       "    .dataframe thead th {\n",
       "        text-align: right;\n",
       "    }\n",
       "</style>\n",
       "<table border=\"1\" class=\"dataframe\">\n",
       "  <thead>\n",
       "    <tr style=\"text-align: right;\">\n",
       "      <th></th>\n",
       "      <th>City</th>\n",
       "      <th>Month</th>\n",
       "      <th>Day</th>\n",
       "      <th>Year</th>\n",
       "      <th>AvgTemperature</th>\n",
       "    </tr>\n",
       "  </thead>\n",
       "  <tbody>\n",
       "    <tr>\n",
       "      <th>0</th>\n",
       "      <td>New York City</td>\n",
       "      <td>1</td>\n",
       "      <td>1</td>\n",
       "      <td>1995</td>\n",
       "      <td>44.0</td>\n",
       "    </tr>\n",
       "    <tr>\n",
       "      <th>1</th>\n",
       "      <td>New York City</td>\n",
       "      <td>1</td>\n",
       "      <td>2</td>\n",
       "      <td>1995</td>\n",
       "      <td>41.8</td>\n",
       "    </tr>\n",
       "    <tr>\n",
       "      <th>2</th>\n",
       "      <td>New York City</td>\n",
       "      <td>1</td>\n",
       "      <td>3</td>\n",
       "      <td>1995</td>\n",
       "      <td>28.1</td>\n",
       "    </tr>\n",
       "    <tr>\n",
       "      <th>3</th>\n",
       "      <td>New York City</td>\n",
       "      <td>1</td>\n",
       "      <td>4</td>\n",
       "      <td>1995</td>\n",
       "      <td>31.7</td>\n",
       "    </tr>\n",
       "    <tr>\n",
       "      <th>4</th>\n",
       "      <td>New York City</td>\n",
       "      <td>1</td>\n",
       "      <td>5</td>\n",
       "      <td>1995</td>\n",
       "      <td>21.3</td>\n",
       "    </tr>\n",
       "  </tbody>\n",
       "</table>\n",
       "</div>"
      ],
      "text/plain": [
       "            City  Month  Day  Year  AvgTemperature\n",
       "0  New York City      1    1  1995            44.0\n",
       "1  New York City      1    2  1995            41.8\n",
       "2  New York City      1    3  1995            28.1\n",
       "3  New York City      1    4  1995            31.7\n",
       "4  New York City      1    5  1995            21.3"
      ]
     },
     "execution_count": 100,
     "metadata": {},
     "output_type": "execute_result"
    }
   ],
   "source": [
    "ny_df.index = [int(i) for i in range(len(ny_df))]\n",
    "ny_df.head()"
   ]
  },
  {
   "cell_type": "code",
   "execution_count": 101,
   "metadata": {},
   "outputs": [],
   "source": [
    "date = []\n",
    "for i in range(len(ny_df)):\n",
    "    year, month, day = list(ny_df.Year)[i], list(ny_df.Month)[i], list(ny_df.Day)[i]\n",
    "    d = str(year)+'-'+str(month)+'-'+str(day)\n",
    "    date.append(d)\n"
   ]
  },
  {
   "cell_type": "code",
   "execution_count": 102,
   "metadata": {},
   "outputs": [],
   "source": [
    "date = pd.DataFrame({'date':date})"
   ]
  },
  {
   "cell_type": "code",
   "execution_count": 164,
   "metadata": {},
   "outputs": [],
   "source": [
    "ny_df = pd.merge(date, ny_df, on = date.index)"
   ]
  },
  {
   "cell_type": "code",
   "execution_count": 165,
   "metadata": {},
   "outputs": [
    {
     "data": {
      "text/html": [
       "<div>\n",
       "<style scoped>\n",
       "    .dataframe tbody tr th:only-of-type {\n",
       "        vertical-align: middle;\n",
       "    }\n",
       "\n",
       "    .dataframe tbody tr th {\n",
       "        vertical-align: top;\n",
       "    }\n",
       "\n",
       "    .dataframe thead th {\n",
       "        text-align: right;\n",
       "    }\n",
       "</style>\n",
       "<table border=\"1\" class=\"dataframe\">\n",
       "  <thead>\n",
       "    <tr style=\"text-align: right;\">\n",
       "      <th></th>\n",
       "      <th>key_0</th>\n",
       "      <th>date</th>\n",
       "      <th>City</th>\n",
       "      <th>AvgTemperature</th>\n",
       "    </tr>\n",
       "  </thead>\n",
       "  <tbody>\n",
       "    <tr>\n",
       "      <th>0</th>\n",
       "      <td>0</td>\n",
       "      <td>1995-1-1</td>\n",
       "      <td>New York City</td>\n",
       "      <td>44.0</td>\n",
       "    </tr>\n",
       "    <tr>\n",
       "      <th>1</th>\n",
       "      <td>1</td>\n",
       "      <td>1995-1-2</td>\n",
       "      <td>New York City</td>\n",
       "      <td>41.8</td>\n",
       "    </tr>\n",
       "    <tr>\n",
       "      <th>2</th>\n",
       "      <td>2</td>\n",
       "      <td>1995-1-3</td>\n",
       "      <td>New York City</td>\n",
       "      <td>28.1</td>\n",
       "    </tr>\n",
       "    <tr>\n",
       "      <th>3</th>\n",
       "      <td>3</td>\n",
       "      <td>1995-1-4</td>\n",
       "      <td>New York City</td>\n",
       "      <td>31.7</td>\n",
       "    </tr>\n",
       "    <tr>\n",
       "      <th>4</th>\n",
       "      <td>4</td>\n",
       "      <td>1995-1-5</td>\n",
       "      <td>New York City</td>\n",
       "      <td>21.3</td>\n",
       "    </tr>\n",
       "    <tr>\n",
       "      <th>...</th>\n",
       "      <td>...</td>\n",
       "      <td>...</td>\n",
       "      <td>...</td>\n",
       "      <td>...</td>\n",
       "    </tr>\n",
       "    <tr>\n",
       "      <th>9260</th>\n",
       "      <td>9260</td>\n",
       "      <td>2020-5-9</td>\n",
       "      <td>New York City</td>\n",
       "      <td>42.2</td>\n",
       "    </tr>\n",
       "    <tr>\n",
       "      <th>9261</th>\n",
       "      <td>9261</td>\n",
       "      <td>2020-5-10</td>\n",
       "      <td>New York City</td>\n",
       "      <td>50.3</td>\n",
       "    </tr>\n",
       "    <tr>\n",
       "      <th>9262</th>\n",
       "      <td>9262</td>\n",
       "      <td>2020-5-11</td>\n",
       "      <td>New York City</td>\n",
       "      <td>55.7</td>\n",
       "    </tr>\n",
       "    <tr>\n",
       "      <th>9263</th>\n",
       "      <td>9263</td>\n",
       "      <td>2020-5-12</td>\n",
       "      <td>New York City</td>\n",
       "      <td>51.1</td>\n",
       "    </tr>\n",
       "    <tr>\n",
       "      <th>9264</th>\n",
       "      <td>9264</td>\n",
       "      <td>2020-5-13</td>\n",
       "      <td>New York City</td>\n",
       "      <td>51.8</td>\n",
       "    </tr>\n",
       "  </tbody>\n",
       "</table>\n",
       "<p>9265 rows × 4 columns</p>\n",
       "</div>"
      ],
      "text/plain": [
       "      key_0       date           City  AvgTemperature\n",
       "0         0   1995-1-1  New York City            44.0\n",
       "1         1   1995-1-2  New York City            41.8\n",
       "2         2   1995-1-3  New York City            28.1\n",
       "3         3   1995-1-4  New York City            31.7\n",
       "4         4   1995-1-5  New York City            21.3\n",
       "...     ...        ...            ...             ...\n",
       "9260   9260   2020-5-9  New York City            42.2\n",
       "9261   9261  2020-5-10  New York City            50.3\n",
       "9262   9262  2020-5-11  New York City            55.7\n",
       "9263   9263  2020-5-12  New York City            51.1\n",
       "9264   9264  2020-5-13  New York City            51.8\n",
       "\n",
       "[9265 rows x 4 columns]"
      ]
     },
     "execution_count": 165,
     "metadata": {},
     "output_type": "execute_result"
    }
   ],
   "source": [
    "ny_df"
   ]
  },
  {
   "cell_type": "code",
   "execution_count": 106,
   "metadata": {},
   "outputs": [],
   "source": [
    "ny_df = ny_df.drop(['key_0'],axis = 1)\n",
    "ny_df = ny_df.drop(['Day'], axis = 1)\n",
    "ny_df = ny_df.drop(['Year'], axis = 1)\n"
   ]
  },
  {
   "cell_type": "code",
   "execution_count": 169,
   "metadata": {},
   "outputs": [],
   "source": [
    "ny = ny_df.set_index('date')\n",
    "#ny_df 데이터프레임의 index값을 ny_df['date']로 설정해 주었다."
   ]
  },
  {
   "cell_type": "code",
   "execution_count": 170,
   "metadata": {},
   "outputs": [
    {
     "data": {
      "text/html": [
       "<div>\n",
       "<style scoped>\n",
       "    .dataframe tbody tr th:only-of-type {\n",
       "        vertical-align: middle;\n",
       "    }\n",
       "\n",
       "    .dataframe tbody tr th {\n",
       "        vertical-align: top;\n",
       "    }\n",
       "\n",
       "    .dataframe thead th {\n",
       "        text-align: right;\n",
       "    }\n",
       "</style>\n",
       "<table border=\"1\" class=\"dataframe\">\n",
       "  <thead>\n",
       "    <tr style=\"text-align: right;\">\n",
       "      <th></th>\n",
       "      <th>key_0</th>\n",
       "      <th>City</th>\n",
       "      <th>AvgTemperature</th>\n",
       "    </tr>\n",
       "    <tr>\n",
       "      <th>date</th>\n",
       "      <th></th>\n",
       "      <th></th>\n",
       "      <th></th>\n",
       "    </tr>\n",
       "  </thead>\n",
       "  <tbody>\n",
       "    <tr>\n",
       "      <th>1995-1-1</th>\n",
       "      <td>0</td>\n",
       "      <td>New York City</td>\n",
       "      <td>44.0</td>\n",
       "    </tr>\n",
       "    <tr>\n",
       "      <th>1995-1-2</th>\n",
       "      <td>1</td>\n",
       "      <td>New York City</td>\n",
       "      <td>41.8</td>\n",
       "    </tr>\n",
       "    <tr>\n",
       "      <th>1995-1-3</th>\n",
       "      <td>2</td>\n",
       "      <td>New York City</td>\n",
       "      <td>28.1</td>\n",
       "    </tr>\n",
       "    <tr>\n",
       "      <th>1995-1-4</th>\n",
       "      <td>3</td>\n",
       "      <td>New York City</td>\n",
       "      <td>31.7</td>\n",
       "    </tr>\n",
       "    <tr>\n",
       "      <th>1995-1-5</th>\n",
       "      <td>4</td>\n",
       "      <td>New York City</td>\n",
       "      <td>21.3</td>\n",
       "    </tr>\n",
       "  </tbody>\n",
       "</table>\n",
       "</div>"
      ],
      "text/plain": [
       "          key_0           City  AvgTemperature\n",
       "date                                          \n",
       "1995-1-1      0  New York City            44.0\n",
       "1995-1-2      1  New York City            41.8\n",
       "1995-1-3      2  New York City            28.1\n",
       "1995-1-4      3  New York City            31.7\n",
       "1995-1-5      4  New York City            21.3"
      ]
     },
     "execution_count": 170,
     "metadata": {},
     "output_type": "execute_result"
    }
   ],
   "source": [
    "ny.head()"
   ]
  },
  {
   "cell_type": "code",
   "execution_count": 184,
   "metadata": {
    "scrolled": true
   },
   "outputs": [
    {
     "data": {
      "text/plain": [
       "<matplotlib.axes._subplots.AxesSubplot at 0x29c91618bc8>"
      ]
     },
     "execution_count": 184,
     "metadata": {},
     "output_type": "execute_result"
    },
    {
     "data": {
      "image/png": "[encoded data removed]",
      "text/plain": [
       "<Figure size 432x288 with 1 Axes>"
      ]
     },
     "metadata": {
      "needs_background": "light"
     },
     "output_type": "display_data"
    }
   ],
   "source": [
    "ny['AvgTemperature'][1000:1450].plot()"
   ]
  },
  {
   "cell_type": "code",
   "execution_count": 182,
   "metadata": {},
   "outputs": [
    {
     "data": {
      "text/html": [
       "<div>\n",
       "<style scoped>\n",
       "    .dataframe tbody tr th:only-of-type {\n",
       "        vertical-align: middle;\n",
       "    }\n",
       "\n",
       "    .dataframe tbody tr th {\n",
       "        vertical-align: top;\n",
       "    }\n",
       "\n",
       "    .dataframe thead th {\n",
       "        text-align: right;\n",
       "    }\n",
       "</style>\n",
       "<table border=\"1\" class=\"dataframe\">\n",
       "  <thead>\n",
       "    <tr style=\"text-align: right;\">\n",
       "      <th></th>\n",
       "      <th>key_0</th>\n",
       "      <th>date</th>\n",
       "      <th>City</th>\n",
       "      <th>AvgTemperature</th>\n",
       "    </tr>\n",
       "  </thead>\n",
       "  <tbody>\n",
       "    <tr>\n",
       "      <th>0</th>\n",
       "      <td>0</td>\n",
       "      <td>1995-1-1</td>\n",
       "      <td>New York City</td>\n",
       "      <td>44.0</td>\n",
       "    </tr>\n",
       "    <tr>\n",
       "      <th>1</th>\n",
       "      <td>1</td>\n",
       "      <td>1995-1-2</td>\n",
       "      <td>New York City</td>\n",
       "      <td>41.8</td>\n",
       "    </tr>\n",
       "    <tr>\n",
       "      <th>2</th>\n",
       "      <td>2</td>\n",
       "      <td>1995-1-3</td>\n",
       "      <td>New York City</td>\n",
       "      <td>28.1</td>\n",
       "    </tr>\n",
       "    <tr>\n",
       "      <th>3</th>\n",
       "      <td>3</td>\n",
       "      <td>1995-1-4</td>\n",
       "      <td>New York City</td>\n",
       "      <td>31.7</td>\n",
       "    </tr>\n",
       "    <tr>\n",
       "      <th>4</th>\n",
       "      <td>4</td>\n",
       "      <td>1995-1-5</td>\n",
       "      <td>New York City</td>\n",
       "      <td>21.3</td>\n",
       "    </tr>\n",
       "  </tbody>\n",
       "</table>\n",
       "</div>"
      ],
      "text/plain": [
       "   key_0      date           City  AvgTemperature\n",
       "0      0  1995-1-1  New York City            44.0\n",
       "1      1  1995-1-2  New York City            41.8\n",
       "2      2  1995-1-3  New York City            28.1\n",
       "3      3  1995-1-4  New York City            31.7\n",
       "4      4  1995-1-5  New York City            21.3"
      ]
     },
     "execution_count": 182,
     "metadata": {},
     "output_type": "execute_result"
    }
   ],
   "source": [
    "ny_df.head()"
   ]
  },
  {
   "cell_type": "markdown",
   "metadata": {},
   "source": [
    "- 물론 주식 예측과 달리 평균 기온의 경우 특히 사계절이 분명하다면 반복적인 변화가 일정 시간이 지난 후에 일정하기 때문에 학습하고 예측하기가 비교적 쉬울 것이라고 생각한다.\n",
    "\n",
    "- 시계열 수치와 같은 데이터를 학습시키기 전에 데이터셋을 만들기 위해서는 반드시 데이터를 preprocessing을 제대로 해 주어야 한다. 매 순간 순간의 값이 중요한 것이 아니라 일정 기간동안의 추이가 중요한 것이기 때문이다.\n",
    "\n",
    "- 이번에는 기후변화라는 한가지 특성만을 예측할 것이기 때문에 num_example의 개수는 1개일 것이다.\n",
    "\n",
    "\n",
    "\n",
    "- 데이터는 하루에 한개씩 1995년 1월 1일부터 2020년 5월 20일까지 총 9265일동안 기록이 되었다. \n",
    "- 특정 날짜가 주어졌을 때 그 이후 200일동안의 기후를 예측하고자 한다.\n",
    "  - 예측을 하기 위해서는 이전 2년간의 데이터를 사용하도록 한다.\n",
    "  - 그러면 대략 2년x365일 동안의 관측값이 포함된 데이터를 만들어야 한다.\n",
    "  - 9265/(2x365)개만큼의 분량이 만들어지기 때문에 솔직히 학습에 충분한 양이라고 보기는 어렵다."
   ]
  },
  {
   "cell_type": "code",
   "execution_count": 279,
   "metadata": {},
   "outputs": [],
   "source": [
    "def make_data(dataset, start, end, past, future):\n",
    "    #past는 학습에 이용할 과거 데이터의 양, future은 예측할 미래의 데이터양\n",
    "    data, label = [],[]\n",
    "    start += past\n",
    "    if end is None:\n",
    "        end = len(dataset)-future\n",
    "    for i in range(start, end):\n",
    "        data.append(np.reshape(dataset[i-past:i],(past, 1)))\n",
    "        #label에는 예측값이 담겨 있다.\n",
    "        label.append(dataset[i+future])\n",
    "    return np.array(data), np.array(label)"
   ]
  },
  {
   "cell_type": "code",
   "execution_count": 280,
   "metadata": {},
   "outputs": [],
   "source": [
    "temp_data = ny['AvgTemperature']"
   ]
  },
  {
   "cell_type": "code",
   "execution_count": 281,
   "metadata": {},
   "outputs": [
    {
     "data": {
      "text/plain": [
       "date\n",
       "1995-1-1     44.0\n",
       "1995-1-2     41.8\n",
       "1995-1-3     28.1\n",
       "1995-1-4     31.7\n",
       "1995-1-5     21.3\n",
       "             ... \n",
       "2020-5-9     42.2\n",
       "2020-5-10    50.3\n",
       "2020-5-11    55.7\n",
       "2020-5-12    51.1\n",
       "2020-5-13    51.8\n",
       "Name: AvgTemperature, Length: 9265, dtype: float64"
      ]
     },
     "execution_count": 281,
     "metadata": {},
     "output_type": "execute_result"
    }
   ],
   "source": [
    "temp_data"
   ]
  },
  {
   "cell_type": "markdown",
   "metadata": {},
   "source": [
    "- temp_data를 정규화(normalization)해줄 필요가 있다\n",
    "- 정규화하는 가장 일반적인 방법은 (X - E(X))/(V(X)^0.5)로, 데이터에 평균을 뺀 뒤에 분산에 루트를 씌운 값으로 나누는 것이다.\n",
    "  - 단, 평균과 표준 편차는 훈련 데이터만으로 계산해 주어야 한다."
   ]
  },
  {
   "cell_type": "code",
   "execution_count": 282,
   "metadata": {},
   "outputs": [],
   "source": [
    "temp_data = temp_data.values"
   ]
  },
  {
   "cell_type": "code",
   "execution_count": 283,
   "metadata": {},
   "outputs": [],
   "source": [
    "trainsplit = 6265\n",
    "train_mean = temp_data[:trainsplit].mean()\n",
    "train_std = temp_data[:trainsplit].std()\n",
    "#여기서 조심하자 - temp_data.values값의 전부를 이용하지만 정규화를 위한 수치는 훈련데이터로부터\n",
    "train_data = (temp_data-train_mean)/train_std"
   ]
  },
  {
   "cell_type": "code",
   "execution_count": 284,
   "metadata": {},
   "outputs": [
    {
     "data": {
      "text/plain": [
       "(9265,)"
      ]
     },
     "execution_count": 284,
     "metadata": {},
     "output_type": "execute_result"
    }
   ],
   "source": [
    "train_data.shape"
   ]
  },
  {
   "cell_type": "code",
   "execution_count": 292,
   "metadata": {},
   "outputs": [],
   "source": [
    "train_x, train_y = make_data(train_data, 0, trainsplit, 100, 0)\n",
    "test_x, test_y = make_data(train_data, trainsplit, None, 100, 0)"
   ]
  },
  {
   "cell_type": "code",
   "execution_count": 294,
   "metadata": {},
   "outputs": [
    {
     "data": {
      "text/plain": [
       "(6165, 2900)"
      ]
     },
     "execution_count": 294,
     "metadata": {},
     "output_type": "execute_result"
    }
   ],
   "source": [
    "len(train_x),len(test_x)"
   ]
  },
  {
   "cell_type": "code",
   "execution_count": 302,
   "metadata": {},
   "outputs": [
    {
     "name": "stdout",
     "output_type": "stream",
     "text": [
      "[[-0.5925493 ]\n",
      " [-0.70804258]\n",
      " [-1.42725071]\n",
      " [-1.23826172]\n",
      " [-1.78422993]\n",
      " [-1.4377501 ]\n",
      " [-0.65554564]\n",
      " [-1.03877333]\n",
      " [-1.09651997]\n",
      " [-1.33275621]\n",
      " [-1.29075866]\n",
      " [-1.03877333]\n",
      " [-0.42455908]\n",
      " [-0.15157498]\n",
      " [ 0.08466127]\n",
      " [-0.00458353]\n",
      " [-0.26181856]\n",
      " [-0.66604503]\n",
      " [-0.83928494]\n",
      " [-0.63979655]\n",
      " [-0.63454686]\n",
      " [-1.01252486]\n",
      " [-1.1542666 ]\n",
      " [-1.02302425]\n",
      " [-0.89178189]\n",
      " [-0.98102669]\n",
      " [-1.10176966]\n",
      " [-1.42200102]\n",
      " [-1.5374943 ]\n",
      " [-1.12801813]\n",
      " [-0.98102669]\n",
      " [-0.77628861]\n",
      " [-0.77103891]\n",
      " [-1.55849307]\n",
      " [-1.25926049]\n",
      " [-1.60574032]\n",
      " [-2.31969876]\n",
      " [-1.9049729 ]\n",
      " [-1.65823727]\n",
      " [-1.73173299]\n",
      " [-1.17001569]\n",
      " [-0.82353586]\n",
      " [-1.68973543]\n",
      " [-1.89972321]\n",
      " [-1.45874888]\n",
      " [-1.33800591]\n",
      " [-0.80778677]\n",
      " [-0.83403525]\n",
      " [-0.77628861]\n",
      " [-0.77103891]\n",
      " [-0.63979655]\n",
      " [-0.90228127]\n",
      " [-1.04927272]\n",
      " [-0.79203769]\n",
      " [-0.62929717]\n",
      " [-1.26451019]\n",
      " [-1.41150163]\n",
      " [-1.33800591]\n",
      " [-1.07027149]\n",
      " [-0.81828616]\n",
      " [-1.0650218 ]\n",
      " [-1.19101447]\n",
      " [-1.04402302]\n",
      " [-0.85503402]\n",
      " [-0.5925493 ]\n",
      " [-0.49805481]\n",
      " [-0.14107559]\n",
      " [-1.04927272]\n",
      " [-1.45349919]\n",
      " [-0.93377944]\n",
      " [-0.80253708]\n",
      " [-0.21457131]\n",
      " [-0.18307314]\n",
      " [-0.21457131]\n",
      " [-0.29331672]\n",
      " [-0.33006458]\n",
      " [-0.40356031]\n",
      " [-0.47180633]\n",
      " [-0.50855419]\n",
      " [-0.20407192]\n",
      " [-0.3195652 ]\n",
      " [-0.48755542]\n",
      " [-0.61354808]\n",
      " [-0.71854197]\n",
      " [-0.28281734]\n",
      " [-0.38256153]\n",
      " [-0.45080756]\n",
      " [-0.38781122]\n",
      " [-0.45080756]\n",
      " [-0.40356031]\n",
      " [-0.49805481]\n",
      " [-0.58729961]\n",
      " [-0.58204992]\n",
      " [-0.16207436]\n",
      " [-1.21201324]\n",
      " [-1.04927272]\n",
      " [-0.29856642]\n",
      " [-0.60304869]\n",
      " [-0.37731183]\n",
      " [-0.56105114]]\n",
      "-0.3773118342366156\n"
     ]
    }
   ],
   "source": [
    "for i,j in enumerate([train_x[0],train_y[0]]):\n",
    "    print(j)"
   ]
  },
  {
   "cell_type": "markdown",
   "metadata": {},
   "source": [
    "### 2-2. 만든 데이터셋 Visualization\n",
    "이제 시각화를 해보자. test_x의 데이터는 우리가 학습에 이용하는 데이터이고, test_y는 예측하기로 설정된 값이다."
   ]
  },
  {
   "cell_type": "code",
   "execution_count": 315,
   "metadata": {},
   "outputs": [],
   "source": [
    "import matplotlib.pyplot as plt\n",
    "def show(data,limit,title):\n",
    "    label = ['History','Future', 'Model Prediction']\n",
    "    time_steps = list(range(-data[0].shape[0],0))\n",
    "    marker = ['.-','rx','go']\n",
    "    if limit:\n",
    "        future = limit\n",
    "    else:\n",
    "        future = 0\n",
    "    for i,x in enumerate(data):\n",
    "        if i:\n",
    "            plt.plot(future, data[i], marker[i], label = label[i])\n",
    "        else:\n",
    "            plt.plot(time_steps, data[i], marker[i], label = label[i])\n",
    "    plt.legend()\n",
    "    plt.xlim([time_steps[0], (future+5)*2])\n",
    "    return plt\n",
    "    "
   ]
  },
  {
   "cell_type": "code",
   "execution_count": 316,
   "metadata": {},
   "outputs": [
    {
     "data": {
      "text/plain": [
       "<module 'matplotlib.pyplot' from 'C:\\\\newana\\\\lib\\\\site-packages\\\\matplotlib\\\\pyplot.py'>"
      ]
     },
     "execution_count": 316,
     "metadata": {},
     "output_type": "execute_result"
    },
    {
     "data": {
      "image/png": "[encoded data removed]",
      "text/plain": [
       "<Figure size 432x288 with 1 Axes>"
      ]
     },
     "metadata": {
      "needs_background": "light"
     },
     "output_type": "display_data"
    }
   ],
   "source": [
    "show([train_x[0], train_y[0]], 0, 'test')"
   ]
  },
  {
   "cell_type": "markdown",
   "metadata": {},
   "source": [
    "### 2-3. Baseline 만들기\n",
    "- 모델을 만들기 전에 baseline, 즉 기준이 필요한데, 이는 이 경우에는 학습에 이용한 과거 데이터의 값의 평균으로 정의하도록 한다.\n",
    "- RNN모델로 학습을 한 이후에 baseline으로 정한 기준에 미칠지 못 미칠지 확인해 주어야 한다."
   ]
  },
  {
   "cell_type": "code",
   "execution_count": 317,
   "metadata": {},
   "outputs": [],
   "source": [
    "def baseline(history):\n",
    "    return np.mean(history)"
   ]
  },
  {
   "cell_type": "code",
   "execution_count": 318,
   "metadata": {},
   "outputs": [
    {
     "data": {
      "text/plain": [
       "-0.863591026218229"
      ]
     },
     "execution_count": 318,
     "metadata": {},
     "output_type": "execute_result"
    }
   ],
   "source": [
    "baseline(train_x[0])"
   ]
  },
  {
   "cell_type": "code",
   "execution_count": 319,
   "metadata": {},
   "outputs": [
    {
     "data": {
      "text/plain": [
       "<module 'matplotlib.pyplot' from 'C:\\\\newana\\\\lib\\\\site-packages\\\\matplotlib\\\\pyplot.py'>"
      ]
     },
     "execution_count": 319,
     "metadata": {},
     "output_type": "execute_result"
    },
    {
     "data": {
      "image/png": "[encoded data removed]",
      "text/plain": [
       "<Figure size 432x288 with 1 Axes>"
      ]
     },
     "metadata": {
      "needs_background": "light"
     },
     "output_type": "display_data"
    }
   ],
   "source": [
    "show([train_x[0], train_y[0], baseline(train_x[0])],0,'Try')"
   ]
  },
  {
   "cell_type": "markdown",
   "metadata": {},
   "source": [
    "### 3. RNN Model 만들기\n",
    "- LSTM Layer을 이용할 것인데, 해당 Layer이 input data로서  \n",
    "inputs: A 3D tensor with shape [batch, timesteps, feature] 밖에 안된다"
   ]
  },
  {
   "cell_type": "code",
   "execution_count": 372,
   "metadata": {},
   "outputs": [],
   "source": [
    "batch = 128\n",
    "buffer = 10000\n",
    "train = tf.data.Dataset.from_tensor_slices((train_x, train_y))\n",
    "train = train.shuffle(buffer).batch(batch).repeat()\n",
    "\n",
    "test = tf.data.Dataset.from_tensor_slices((test_x, test_y))\n",
    "test = test.batch(batch).repeat()"
   ]
  },
  {
   "cell_type": "code",
   "execution_count": 373,
   "metadata": {},
   "outputs": [
    {
     "data": {
      "text/plain": [
       "(6165, 100, 1)"
      ]
     },
     "execution_count": 373,
     "metadata": {},
     "output_type": "execute_result"
    }
   ],
   "source": [
    "train_x.shape"
   ]
  },
  {
   "cell_type": "code",
   "execution_count": 374,
   "metadata": {},
   "outputs": [],
   "source": [
    "model = tf.keras.models.Sequential()\n",
    "model.add(tf.keras.layers.LSTM(100, input_shape = (100,1), return_sequences = True))\n",
    "model.add(tf.keras.layers.LSTM(100))\n",
    "model.add(tf.keras.layers.Dense(1))"
   ]
  },
  {
   "cell_type": "code",
   "execution_count": 375,
   "metadata": {},
   "outputs": [
    {
     "name": "stdout",
     "output_type": "stream",
     "text": [
      "Model: \"sequential_5\"\n",
      "_________________________________________________________________\n",
      "Layer (type)                 Output Shape              Param #   \n",
      "=================================================================\n",
      "lstm_8 (LSTM)                (None, 100, 100)          40800     \n",
      "_________________________________________________________________\n",
      "lstm_9 (LSTM)                (None, 100)               80400     \n",
      "_________________________________________________________________\n",
      "dense_4 (Dense)              (None, 1)                 101       \n",
      "=================================================================\n",
      "Total params: 121,301\n",
      "Trainable params: 121,301\n",
      "Non-trainable params: 0\n",
      "_________________________________________________________________\n"
     ]
    }
   ],
   "source": [
    "model.summary()"
   ]
  },
  {
   "cell_type": "code",
   "execution_count": 378,
   "metadata": {},
   "outputs": [],
   "source": [
    "model.compile(loss = 'mean_squared_error',\n",
    "             optimizer = tf.keras.optimizers.Adam(lr = 0.0001),\n",
    "             metrics = ['accuracy'])"
   ]
  },
  {
   "cell_type": "code",
   "execution_count": 379,
   "metadata": {},
   "outputs": [
    {
     "name": "stdout",
     "output_type": "stream",
     "text": [
      "Train for 200 steps, validate for 50 steps\n",
      "Epoch 1/10\n",
      "200/200 [==============================] - 190s 949ms/step - loss: 0.3403 - accuracy: 0.0000e+00 - val_loss: 0.1353 - val_accuracy: 0.0000e+00\n",
      "Epoch 2/10\n",
      "200/200 [==============================] - 188s 938ms/step - loss: 0.3228 - accuracy: 0.0000e+00 - val_loss: 0.1284 - val_accuracy: 0.0000e+00\n",
      "Epoch 3/10\n",
      "200/200 [==============================] - 193s 966ms/step - loss: 0.3130 - accuracy: 0.0000e+00 - val_loss: 0.1171 - val_accuracy: 0.0000e+00\n",
      "Epoch 4/10\n",
      "200/200 [==============================] - 194s 971ms/step - loss: 0.2971 - accuracy: 0.0000e+00 - val_loss: 0.1048 - val_accuracy: 0.0000e+00\n",
      "Epoch 5/10\n",
      "200/200 [==============================] - 194s 971ms/step - loss: 0.2781 - accuracy: 0.0000e+00 - val_loss: 0.0975 - val_accuracy: 0.0000e+00\n",
      "Epoch 6/10\n",
      "200/200 [==============================] - 197s 984ms/step - loss: 0.2877 - accuracy: 0.0000e+00 - val_loss: 0.0902 - val_accuracy: 0.0000e+00\n",
      "Epoch 7/10\n",
      "200/200 [==============================] - 201s 1s/step - loss: 0.2617 - accuracy: 0.0000e+00 - val_loss: 0.0866 - val_accuracy: 0.0000e+00\n",
      "Epoch 8/10\n",
      "200/200 [==============================] - 199s 996ms/step - loss: 0.2582 - accuracy: 0.0000e+00 - val_loss: 0.0819 - val_accuracy: 0.0000e+00\n",
      "Epoch 9/10\n",
      "200/200 [==============================] - 255s 1s/step - loss: 0.2742 - accuracy: 0.0000e+00 - val_loss: 0.0808 - val_accuracy: 0.0000e+00\n",
      "Epoch 10/10\n",
      "200/200 [==============================] - 186s 930ms/step - loss: 0.2674 - accuracy: 0.0000e+00 - val_loss: 0.0811 - val_accuracy: 0.0000e+00\n"
     ]
    }
   ],
   "source": [
    "history = model.fit(train, steps_per_epoch = 200, validation_data = test, validation_steps = 50, epochs = 10)"
   ]
  },
  {
   "cell_type": "code",
   "execution_count": 380,
   "metadata": {},
   "outputs": [
    {
     "data": {
      "image/png": "[encoded data removed]",
      "text/plain": [
       "<Figure size 432x288 with 1 Axes>"
      ]
     },
     "metadata": {
      "needs_background": "light"
     },
     "output_type": "display_data"
    },
    {
     "data": {
      "image/png": "[encoded data removed]",
      "text/plain": [
       "<Figure size 432x288 with 1 Axes>"
      ]
     },
     "metadata": {
      "needs_background": "light"
     },
     "output_type": "display_data"
    },
    {
     "data": {
      "image/png": "[encoded data removed]",
      "text/plain": [
       "<Figure size 432x288 with 1 Axes>"
      ]
     },
     "metadata": {
      "needs_background": "light"
     },
     "output_type": "display_data"
    },
    {
     "data": {
      "image/png": "[encoded data removed]",
      "text/plain": [
       "<Figure size 432x288 with 1 Axes>"
      ]
     },
     "metadata": {
      "needs_background": "light"
     },
     "output_type": "display_data"
    },
    {
     "data": {
      "image/png": "[encoded data removed]",
      "text/plain": [
       "<Figure size 432x288 with 1 Axes>"
      ]
     },
     "metadata": {
      "needs_background": "light"
     },
     "output_type": "display_data"
    }
   ],
   "source": [
    "for x,y in test.take(5):\n",
    "    plot = show([x[0].numpy(), y[0].numpy(), model.predict(x)[0]],0,'Model Accuracy Test')\n",
    "    plot.show()"
   ]
  },
  {
   "cell_type": "markdown",
   "metadata": {},
   "source": []
  }
 ],
 "metadata": {
  "kernelspec": {
   "display_name": "Python 3",
   "language": "python",
   "name": "python3"
  },
  "language_info": {
   "codemirror_mode": {
    "name": "ipython",
    "version": 3
   },
   "file_extension": ".py",
   "mimetype": "text/x-python",
   "name": "python",
   "nbconvert_exporter": "python",
   "pygments_lexer": "ipython3",
   "version": "3.7.6"
  }
 },
 "nbformat": 4,
 "nbformat_minor": 4
}
