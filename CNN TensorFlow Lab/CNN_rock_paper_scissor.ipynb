{
  "nbformat": 4,
  "nbformat_minor": 0,
  "metadata": {
    "colab": {
      "name": "CNN - rock_paper_scissor",
      "provenance": []
    },
    "kernelspec": {
      "name": "python3",
      "display_name": "Python 3"
    },
    "accelerator": "GPU",
    "widgets": {
      "application/vnd.jupyter.widget-state+json": {
        "daddab8361be4d4b9c9c7c94ee579cfd": {
          "model_module": "@jupyter-widgets/controls",
          "model_name": "HBoxModel",
          "state": {
            "_view_name": "HBoxView",
            "_dom_classes": [],
            "_model_name": "HBoxModel",
            "_view_module": "@jupyter-widgets/controls",
            "_model_module_version": "1.5.0",
            "_view_count": null,
            "_view_module_version": "1.5.0",
            "box_style": "",
            "layout": "IPY_MODEL_ea99c410832f49f0add81add2ebe3219",
            "_model_module": "@jupyter-widgets/controls",
            "children": [
              "IPY_MODEL_762c674565ad4bd69fbf3119755d7025",
              "IPY_MODEL_c9b9fd5b575b41ee838804aa4e1fed85"
            ]
          }
        },
        "ea99c410832f49f0add81add2ebe3219": {
          "model_module": "@jupyter-widgets/base",
          "model_name": "LayoutModel",
          "state": {
            "_view_name": "LayoutView",
            "grid_template_rows": null,
            "right": null,
            "justify_content": null,
            "_view_module": "@jupyter-widgets/base",
            "overflow": null,
            "_model_module_version": "1.2.0",
            "_view_count": null,
            "flex_flow": null,
            "width": null,
            "min_width": null,
            "border": null,
            "align_items": null,
            "bottom": null,
            "_model_module": "@jupyter-widgets/base",
            "top": null,
            "grid_column": null,
            "overflow_y": null,
            "overflow_x": null,
            "grid_auto_flow": null,
            "grid_area": null,
            "grid_template_columns": null,
            "flex": null,
            "_model_name": "LayoutModel",
            "justify_items": null,
            "grid_row": null,
            "max_height": null,
            "align_content": null,
            "visibility": null,
            "align_self": null,
            "height": null,
            "min_height": null,
            "padding": null,
            "grid_auto_rows": null,
            "grid_gap": null,
            "max_width": null,
            "order": null,
            "_view_module_version": "1.2.0",
            "grid_template_areas": null,
            "object_position": null,
            "object_fit": null,
            "grid_auto_columns": null,
            "margin": null,
            "display": null,
            "left": null
          }
        },
        "762c674565ad4bd69fbf3119755d7025": {
          "model_module": "@jupyter-widgets/controls",
          "model_name": "FloatProgressModel",
          "state": {
            "_view_name": "ProgressView",
            "style": "IPY_MODEL_75376a8f018547c097edcf5d630597ff",
            "_dom_classes": [],
            "description": "Dl Completed...: 100%",
            "_model_name": "FloatProgressModel",
            "bar_style": "success",
            "max": 1,
            "_view_module": "@jupyter-widgets/controls",
            "_model_module_version": "1.5.0",
            "value": 1,
            "_view_count": null,
            "_view_module_version": "1.5.0",
            "orientation": "horizontal",
            "min": 0,
            "description_tooltip": null,
            "_model_module": "@jupyter-widgets/controls",
            "layout": "IPY_MODEL_6b01979d4c144391a14c0a6e235ae3e9"
          }
        },
        "c9b9fd5b575b41ee838804aa4e1fed85": {
          "model_module": "@jupyter-widgets/controls",
          "model_name": "HTMLModel",
          "state": {
            "_view_name": "HTMLView",
            "style": "IPY_MODEL_cb0ecd2d4337474a8e281132f52aa359",
            "_dom_classes": [],
            "description": "",
            "_model_name": "HTMLModel",
            "placeholder": "​",
            "_view_module": "@jupyter-widgets/controls",
            "_model_module_version": "1.5.0",
            "value": " 2/2 [00:03&lt;00:00,  1.67s/ url]",
            "_view_count": null,
            "_view_module_version": "1.5.0",
            "description_tooltip": null,
            "_model_module": "@jupyter-widgets/controls",
            "layout": "IPY_MODEL_f2a161f15001431981140000073f5883"
          }
        },
        "75376a8f018547c097edcf5d630597ff": {
          "model_module": "@jupyter-widgets/controls",
          "model_name": "ProgressStyleModel",
          "state": {
            "_view_name": "StyleView",
            "_model_name": "ProgressStyleModel",
            "description_width": "initial",
            "_view_module": "@jupyter-widgets/base",
            "_model_module_version": "1.5.0",
            "_view_count": null,
            "_view_module_version": "1.2.0",
            "bar_color": null,
            "_model_module": "@jupyter-widgets/controls"
          }
        },
        "6b01979d4c144391a14c0a6e235ae3e9": {
          "model_module": "@jupyter-widgets/base",
          "model_name": "LayoutModel",
          "state": {
            "_view_name": "LayoutView",
            "grid_template_rows": null,
            "right": null,
            "justify_content": null,
            "_view_module": "@jupyter-widgets/base",
            "overflow": null,
            "_model_module_version": "1.2.0",
            "_view_count": null,
            "flex_flow": null,
            "width": null,
            "min_width": null,
            "border": null,
            "align_items": null,
            "bottom": null,
            "_model_module": "@jupyter-widgets/base",
            "top": null,
            "grid_column": null,
            "overflow_y": null,
            "overflow_x": null,
            "grid_auto_flow": null,
            "grid_area": null,
            "grid_template_columns": null,
            "flex": null,
            "_model_name": "LayoutModel",
            "justify_items": null,
            "grid_row": null,
            "max_height": null,
            "align_content": null,
            "visibility": null,
            "align_self": null,
            "height": null,
            "min_height": null,
            "padding": null,
            "grid_auto_rows": null,
            "grid_gap": null,
            "max_width": null,
            "order": null,
            "_view_module_version": "1.2.0",
            "grid_template_areas": null,
            "object_position": null,
            "object_fit": null,
            "grid_auto_columns": null,
            "margin": null,
            "display": null,
            "left": null
          }
        },
        "cb0ecd2d4337474a8e281132f52aa359": {
          "model_module": "@jupyter-widgets/controls",
          "model_name": "DescriptionStyleModel",
          "state": {
            "_view_name": "StyleView",
            "_model_name": "DescriptionStyleModel",
            "description_width": "",
            "_view_module": "@jupyter-widgets/base",
            "_model_module_version": "1.5.0",
            "_view_count": null,
            "_view_module_version": "1.2.0",
            "_model_module": "@jupyter-widgets/controls"
          }
        },
        "f2a161f15001431981140000073f5883": {
          "model_module": "@jupyter-widgets/base",
          "model_name": "LayoutModel",
          "state": {
            "_view_name": "LayoutView",
            "grid_template_rows": null,
            "right": null,
            "justify_content": null,
            "_view_module": "@jupyter-widgets/base",
            "overflow": null,
            "_model_module_version": "1.2.0",
            "_view_count": null,
            "flex_flow": null,
            "width": null,
            "min_width": null,
            "border": null,
            "align_items": null,
            "bottom": null,
            "_model_module": "@jupyter-widgets/base",
            "top": null,
            "grid_column": null,
            "overflow_y": null,
            "overflow_x": null,
            "grid_auto_flow": null,
            "grid_area": null,
            "grid_template_columns": null,
            "flex": null,
            "_model_name": "LayoutModel",
            "justify_items": null,
            "grid_row": null,
            "max_height": null,
            "align_content": null,
            "visibility": null,
            "align_self": null,
            "height": null,
            "min_height": null,
            "padding": null,
            "grid_auto_rows": null,
            "grid_gap": null,
            "max_width": null,
            "order": null,
            "_view_module_version": "1.2.0",
            "grid_template_areas": null,
            "object_position": null,
            "object_fit": null,
            "grid_auto_columns": null,
            "margin": null,
            "display": null,
            "left": null
          }
        },
        "42a3288b7d9c4a98893d314e03c85cf8": {
          "model_module": "@jupyter-widgets/controls",
          "model_name": "HBoxModel",
          "state": {
            "_view_name": "HBoxView",
            "_dom_classes": [],
            "_model_name": "HBoxModel",
            "_view_module": "@jupyter-widgets/controls",
            "_model_module_version": "1.5.0",
            "_view_count": null,
            "_view_module_version": "1.5.0",
            "box_style": "",
            "layout": "IPY_MODEL_e48f4c7af19648b9ab49687a17e0e058",
            "_model_module": "@jupyter-widgets/controls",
            "children": [
              "IPY_MODEL_c1e16eec0366479894f014fdcac63ef8",
              "IPY_MODEL_1e67f7eae8a1461c8223210bd762fe05"
            ]
          }
        },
        "e48f4c7af19648b9ab49687a17e0e058": {
          "model_module": "@jupyter-widgets/base",
          "model_name": "LayoutModel",
          "state": {
            "_view_name": "LayoutView",
            "grid_template_rows": null,
            "right": null,
            "justify_content": null,
            "_view_module": "@jupyter-widgets/base",
            "overflow": null,
            "_model_module_version": "1.2.0",
            "_view_count": null,
            "flex_flow": null,
            "width": null,
            "min_width": null,
            "border": null,
            "align_items": null,
            "bottom": null,
            "_model_module": "@jupyter-widgets/base",
            "top": null,
            "grid_column": null,
            "overflow_y": null,
            "overflow_x": null,
            "grid_auto_flow": null,
            "grid_area": null,
            "grid_template_columns": null,
            "flex": null,
            "_model_name": "LayoutModel",
            "justify_items": null,
            "grid_row": null,
            "max_height": null,
            "align_content": null,
            "visibility": null,
            "align_self": null,
            "height": null,
            "min_height": null,
            "padding": null,
            "grid_auto_rows": null,
            "grid_gap": null,
            "max_width": null,
            "order": null,
            "_view_module_version": "1.2.0",
            "grid_template_areas": null,
            "object_position": null,
            "object_fit": null,
            "grid_auto_columns": null,
            "margin": null,
            "display": null,
            "left": null
          }
        },
        "c1e16eec0366479894f014fdcac63ef8": {
          "model_module": "@jupyter-widgets/controls",
          "model_name": "FloatProgressModel",
          "state": {
            "_view_name": "ProgressView",
            "style": "IPY_MODEL_691e2d4cf0bb41acbdee8bc4b024f91a",
            "_dom_classes": [],
            "description": "Dl Size...: 100%",
            "_model_name": "FloatProgressModel",
            "bar_style": "success",
            "max": 1,
            "_view_module": "@jupyter-widgets/controls",
            "_model_module_version": "1.5.0",
            "value": 1,
            "_view_count": null,
            "_view_module_version": "1.5.0",
            "orientation": "horizontal",
            "min": 0,
            "description_tooltip": null,
            "_model_module": "@jupyter-widgets/controls",
            "layout": "IPY_MODEL_a57941db60ea476f8ff94cadd27e1178"
          }
        },
        "1e67f7eae8a1461c8223210bd762fe05": {
          "model_module": "@jupyter-widgets/controls",
          "model_name": "HTMLModel",
          "state": {
            "_view_name": "HTMLView",
            "style": "IPY_MODEL_d8e4492300e44bac95c5542d604be823",
            "_dom_classes": [],
            "description": "",
            "_model_name": "HTMLModel",
            "placeholder": "​",
            "_view_module": "@jupyter-widgets/controls",
            "_model_module_version": "1.5.0",
            "value": " 219/219 [00:03&lt;00:00, 66.28 MiB/s]",
            "_view_count": null,
            "_view_module_version": "1.5.0",
            "description_tooltip": null,
            "_model_module": "@jupyter-widgets/controls",
            "layout": "IPY_MODEL_c1986b9115bb40e19152656322b049b3"
          }
        },
        "691e2d4cf0bb41acbdee8bc4b024f91a": {
          "model_module": "@jupyter-widgets/controls",
          "model_name": "ProgressStyleModel",
          "state": {
            "_view_name": "StyleView",
            "_model_name": "ProgressStyleModel",
            "description_width": "initial",
            "_view_module": "@jupyter-widgets/base",
            "_model_module_version": "1.5.0",
            "_view_count": null,
            "_view_module_version": "1.2.0",
            "bar_color": null,
            "_model_module": "@jupyter-widgets/controls"
          }
        },
        "a57941db60ea476f8ff94cadd27e1178": {
          "model_module": "@jupyter-widgets/base",
          "model_name": "LayoutModel",
          "state": {
            "_view_name": "LayoutView",
            "grid_template_rows": null,
            "right": null,
            "justify_content": null,
            "_view_module": "@jupyter-widgets/base",
            "overflow": null,
            "_model_module_version": "1.2.0",
            "_view_count": null,
            "flex_flow": null,
            "width": null,
            "min_width": null,
            "border": null,
            "align_items": null,
            "bottom": null,
            "_model_module": "@jupyter-widgets/base",
            "top": null,
            "grid_column": null,
            "overflow_y": null,
            "overflow_x": null,
            "grid_auto_flow": null,
            "grid_area": null,
            "grid_template_columns": null,
            "flex": null,
            "_model_name": "LayoutModel",
            "justify_items": null,
            "grid_row": null,
            "max_height": null,
            "align_content": null,
            "visibility": null,
            "align_self": null,
            "height": null,
            "min_height": null,
            "padding": null,
            "grid_auto_rows": null,
            "grid_gap": null,
            "max_width": null,
            "order": null,
            "_view_module_version": "1.2.0",
            "grid_template_areas": null,
            "object_position": null,
            "object_fit": null,
            "grid_auto_columns": null,
            "margin": null,
            "display": null,
            "left": null
          }
        },
        "d8e4492300e44bac95c5542d604be823": {
          "model_module": "@jupyter-widgets/controls",
          "model_name": "DescriptionStyleModel",
          "state": {
            "_view_name": "StyleView",
            "_model_name": "DescriptionStyleModel",
            "description_width": "",
            "_view_module": "@jupyter-widgets/base",
            "_model_module_version": "1.5.0",
            "_view_count": null,
            "_view_module_version": "1.2.0",
            "_model_module": "@jupyter-widgets/controls"
          }
        },
        "c1986b9115bb40e19152656322b049b3": {
          "model_module": "@jupyter-widgets/base",
          "model_name": "LayoutModel",
          "state": {
            "_view_name": "LayoutView",
            "grid_template_rows": null,
            "right": null,
            "justify_content": null,
            "_view_module": "@jupyter-widgets/base",
            "overflow": null,
            "_model_module_version": "1.2.0",
            "_view_count": null,
            "flex_flow": null,
            "width": null,
            "min_width": null,
            "border": null,
            "align_items": null,
            "bottom": null,
            "_model_module": "@jupyter-widgets/base",
            "top": null,
            "grid_column": null,
            "overflow_y": null,
            "overflow_x": null,
            "grid_auto_flow": null,
            "grid_area": null,
            "grid_template_columns": null,
            "flex": null,
            "_model_name": "LayoutModel",
            "justify_items": null,
            "grid_row": null,
            "max_height": null,
            "align_content": null,
            "visibility": null,
            "align_self": null,
            "height": null,
            "min_height": null,
            "padding": null,
            "grid_auto_rows": null,
            "grid_gap": null,
            "max_width": null,
            "order": null,
            "_view_module_version": "1.2.0",
            "grid_template_areas": null,
            "object_position": null,
            "object_fit": null,
            "grid_auto_columns": null,
            "margin": null,
            "display": null,
            "left": null
          }
        },
        "995f6b47b7664ddfbaaec847d0759f5b": {
          "model_module": "@jupyter-widgets/controls",
          "model_name": "HBoxModel",
          "state": {
            "_view_name": "HBoxView",
            "_dom_classes": [],
            "_model_name": "HBoxModel",
            "_view_module": "@jupyter-widgets/controls",
            "_model_module_version": "1.5.0",
            "_view_count": null,
            "_view_module_version": "1.5.0",
            "box_style": "",
            "layout": "IPY_MODEL_6a896e970fd8413a83cd1ff82d06d20a",
            "_model_module": "@jupyter-widgets/controls",
            "children": [
              "IPY_MODEL_8bfb8b5d75f3460f8f66fd8c5cf2d93f",
              "IPY_MODEL_dc5a283e62644cafa04a3cb35d78e8ed"
            ]
          }
        },
        "6a896e970fd8413a83cd1ff82d06d20a": {
          "model_module": "@jupyter-widgets/base",
          "model_name": "LayoutModel",
          "state": {
            "_view_name": "LayoutView",
            "grid_template_rows": null,
            "right": null,
            "justify_content": null,
            "_view_module": "@jupyter-widgets/base",
            "overflow": null,
            "_model_module_version": "1.2.0",
            "_view_count": null,
            "flex_flow": null,
            "width": null,
            "min_width": null,
            "border": null,
            "align_items": null,
            "bottom": null,
            "_model_module": "@jupyter-widgets/base",
            "top": null,
            "grid_column": null,
            "overflow_y": null,
            "overflow_x": null,
            "grid_auto_flow": null,
            "grid_area": null,
            "grid_template_columns": null,
            "flex": null,
            "_model_name": "LayoutModel",
            "justify_items": null,
            "grid_row": null,
            "max_height": null,
            "align_content": null,
            "visibility": null,
            "align_self": null,
            "height": null,
            "min_height": null,
            "padding": null,
            "grid_auto_rows": null,
            "grid_gap": null,
            "max_width": null,
            "order": null,
            "_view_module_version": "1.2.0",
            "grid_template_areas": null,
            "object_position": null,
            "object_fit": null,
            "grid_auto_columns": null,
            "margin": null,
            "display": null,
            "left": null
          }
        },
        "8bfb8b5d75f3460f8f66fd8c5cf2d93f": {
          "model_module": "@jupyter-widgets/controls",
          "model_name": "FloatProgressModel",
          "state": {
            "_view_name": "ProgressView",
            "style": "IPY_MODEL_a807ceabb3354e05bac1b393bd24328d",
            "_dom_classes": [],
            "description": "",
            "_model_name": "FloatProgressModel",
            "bar_style": "info",
            "max": 1,
            "_view_module": "@jupyter-widgets/controls",
            "_model_module_version": "1.5.0",
            "value": 1,
            "_view_count": null,
            "_view_module_version": "1.5.0",
            "orientation": "horizontal",
            "min": 0,
            "description_tooltip": null,
            "_model_module": "@jupyter-widgets/controls",
            "layout": "IPY_MODEL_a2ffbb825ffb4494a182b91d77d4b2b2"
          }
        },
        "dc5a283e62644cafa04a3cb35d78e8ed": {
          "model_module": "@jupyter-widgets/controls",
          "model_name": "HTMLModel",
          "state": {
            "_view_name": "HTMLView",
            "style": "IPY_MODEL_52f186733da04275b043c76a36b342c2",
            "_dom_classes": [],
            "description": "",
            "_model_name": "HTMLModel",
            "placeholder": "​",
            "_view_module": "@jupyter-widgets/controls",
            "_model_module_version": "1.5.0",
            "value": " 2520/0 [00:01&lt;00:00, 1933.96 examples/s]",
            "_view_count": null,
            "_view_module_version": "1.5.0",
            "description_tooltip": null,
            "_model_module": "@jupyter-widgets/controls",
            "layout": "IPY_MODEL_b50b714849a34c84a1c6ff163088427c"
          }
        },
        "a807ceabb3354e05bac1b393bd24328d": {
          "model_module": "@jupyter-widgets/controls",
          "model_name": "ProgressStyleModel",
          "state": {
            "_view_name": "StyleView",
            "_model_name": "ProgressStyleModel",
            "description_width": "initial",
            "_view_module": "@jupyter-widgets/base",
            "_model_module_version": "1.5.0",
            "_view_count": null,
            "_view_module_version": "1.2.0",
            "bar_color": null,
            "_model_module": "@jupyter-widgets/controls"
          }
        },
        "a2ffbb825ffb4494a182b91d77d4b2b2": {
          "model_module": "@jupyter-widgets/base",
          "model_name": "LayoutModel",
          "state": {
            "_view_name": "LayoutView",
            "grid_template_rows": null,
            "right": null,
            "justify_content": null,
            "_view_module": "@jupyter-widgets/base",
            "overflow": null,
            "_model_module_version": "1.2.0",
            "_view_count": null,
            "flex_flow": null,
            "width": null,
            "min_width": null,
            "border": null,
            "align_items": null,
            "bottom": null,
            "_model_module": "@jupyter-widgets/base",
            "top": null,
            "grid_column": null,
            "overflow_y": null,
            "overflow_x": null,
            "grid_auto_flow": null,
            "grid_area": null,
            "grid_template_columns": null,
            "flex": null,
            "_model_name": "LayoutModel",
            "justify_items": null,
            "grid_row": null,
            "max_height": null,
            "align_content": null,
            "visibility": null,
            "align_self": null,
            "height": null,
            "min_height": null,
            "padding": null,
            "grid_auto_rows": null,
            "grid_gap": null,
            "max_width": null,
            "order": null,
            "_view_module_version": "1.2.0",
            "grid_template_areas": null,
            "object_position": null,
            "object_fit": null,
            "grid_auto_columns": null,
            "margin": null,
            "display": null,
            "left": null
          }
        },
        "52f186733da04275b043c76a36b342c2": {
          "model_module": "@jupyter-widgets/controls",
          "model_name": "DescriptionStyleModel",
          "state": {
            "_view_name": "StyleView",
            "_model_name": "DescriptionStyleModel",
            "description_width": "",
            "_view_module": "@jupyter-widgets/base",
            "_model_module_version": "1.5.0",
            "_view_count": null,
            "_view_module_version": "1.2.0",
            "_model_module": "@jupyter-widgets/controls"
          }
        },
        "b50b714849a34c84a1c6ff163088427c": {
          "model_module": "@jupyter-widgets/base",
          "model_name": "LayoutModel",
          "state": {
            "_view_name": "LayoutView",
            "grid_template_rows": null,
            "right": null,
            "justify_content": null,
            "_view_module": "@jupyter-widgets/base",
            "overflow": null,
            "_model_module_version": "1.2.0",
            "_view_count": null,
            "flex_flow": null,
            "width": null,
            "min_width": null,
            "border": null,
            "align_items": null,
            "bottom": null,
            "_model_module": "@jupyter-widgets/base",
            "top": null,
            "grid_column": null,
            "overflow_y": null,
            "overflow_x": null,
            "grid_auto_flow": null,
            "grid_area": null,
            "grid_template_columns": null,
            "flex": null,
            "_model_name": "LayoutModel",
            "justify_items": null,
            "grid_row": null,
            "max_height": null,
            "align_content": null,
            "visibility": null,
            "align_self": null,
            "height": null,
            "min_height": null,
            "padding": null,
            "grid_auto_rows": null,
            "grid_gap": null,
            "max_width": null,
            "order": null,
            "_view_module_version": "1.2.0",
            "grid_template_areas": null,
            "object_position": null,
            "object_fit": null,
            "grid_auto_columns": null,
            "margin": null,
            "display": null,
            "left": null
          }
        },
        "94e1d5cab2204702a15f7229f5a4021e": {
          "model_module": "@jupyter-widgets/controls",
          "model_name": "HBoxModel",
          "state": {
            "_view_name": "HBoxView",
            "_dom_classes": [],
            "_model_name": "HBoxModel",
            "_view_module": "@jupyter-widgets/controls",
            "_model_module_version": "1.5.0",
            "_view_count": null,
            "_view_module_version": "1.5.0",
            "box_style": "",
            "layout": "IPY_MODEL_2d5c645e336b4abebc8af97adecd8f44",
            "_model_module": "@jupyter-widgets/controls",
            "children": [
              "IPY_MODEL_1f5a12f9ba724fca8b21432260b6229d",
              "IPY_MODEL_75293cb4561242c684cc9607225e7d76"
            ]
          }
        },
        "2d5c645e336b4abebc8af97adecd8f44": {
          "model_module": "@jupyter-widgets/base",
          "model_name": "LayoutModel",
          "state": {
            "_view_name": "LayoutView",
            "grid_template_rows": null,
            "right": null,
            "justify_content": null,
            "_view_module": "@jupyter-widgets/base",
            "overflow": null,
            "_model_module_version": "1.2.0",
            "_view_count": null,
            "flex_flow": null,
            "width": null,
            "min_width": null,
            "border": null,
            "align_items": null,
            "bottom": null,
            "_model_module": "@jupyter-widgets/base",
            "top": null,
            "grid_column": null,
            "overflow_y": null,
            "overflow_x": null,
            "grid_auto_flow": null,
            "grid_area": null,
            "grid_template_columns": null,
            "flex": null,
            "_model_name": "LayoutModel",
            "justify_items": null,
            "grid_row": null,
            "max_height": null,
            "align_content": null,
            "visibility": null,
            "align_self": null,
            "height": null,
            "min_height": null,
            "padding": null,
            "grid_auto_rows": null,
            "grid_gap": null,
            "max_width": null,
            "order": null,
            "_view_module_version": "1.2.0",
            "grid_template_areas": null,
            "object_position": null,
            "object_fit": null,
            "grid_auto_columns": null,
            "margin": null,
            "display": null,
            "left": null
          }
        },
        "1f5a12f9ba724fca8b21432260b6229d": {
          "model_module": "@jupyter-widgets/controls",
          "model_name": "FloatProgressModel",
          "state": {
            "_view_name": "ProgressView",
            "style": "IPY_MODEL_17f08a46c2cc4c358a8713f1f94dae37",
            "_dom_classes": [],
            "description": " 82%",
            "_model_name": "FloatProgressModel",
            "bar_style": "danger",
            "max": 2520,
            "_view_module": "@jupyter-widgets/controls",
            "_model_module_version": "1.5.0",
            "value": 2070,
            "_view_count": null,
            "_view_module_version": "1.5.0",
            "orientation": "horizontal",
            "min": 0,
            "description_tooltip": null,
            "_model_module": "@jupyter-widgets/controls",
            "layout": "IPY_MODEL_a3a750b561cb4a909541df9a289b737b"
          }
        },
        "75293cb4561242c684cc9607225e7d76": {
          "model_module": "@jupyter-widgets/controls",
          "model_name": "HTMLModel",
          "state": {
            "_view_name": "HTMLView",
            "style": "IPY_MODEL_bee568502bd44ab0ae7302c98e2b8e85",
            "_dom_classes": [],
            "description": "",
            "_model_name": "HTMLModel",
            "placeholder": "​",
            "_view_module": "@jupyter-widgets/controls",
            "_model_module_version": "1.5.0",
            "value": " 2070/2520 [00:00&lt;00:00, 6641.70 examples/s]",
            "_view_count": null,
            "_view_module_version": "1.5.0",
            "description_tooltip": null,
            "_model_module": "@jupyter-widgets/controls",
            "layout": "IPY_MODEL_ab51221bb6094d01bb742c3da9cfcdc3"
          }
        },
        "17f08a46c2cc4c358a8713f1f94dae37": {
          "model_module": "@jupyter-widgets/controls",
          "model_name": "ProgressStyleModel",
          "state": {
            "_view_name": "StyleView",
            "_model_name": "ProgressStyleModel",
            "description_width": "initial",
            "_view_module": "@jupyter-widgets/base",
            "_model_module_version": "1.5.0",
            "_view_count": null,
            "_view_module_version": "1.2.0",
            "bar_color": null,
            "_model_module": "@jupyter-widgets/controls"
          }
        },
        "a3a750b561cb4a909541df9a289b737b": {
          "model_module": "@jupyter-widgets/base",
          "model_name": "LayoutModel",
          "state": {
            "_view_name": "LayoutView",
            "grid_template_rows": null,
            "right": null,
            "justify_content": null,
            "_view_module": "@jupyter-widgets/base",
            "overflow": null,
            "_model_module_version": "1.2.0",
            "_view_count": null,
            "flex_flow": null,
            "width": null,
            "min_width": null,
            "border": null,
            "align_items": null,
            "bottom": null,
            "_model_module": "@jupyter-widgets/base",
            "top": null,
            "grid_column": null,
            "overflow_y": null,
            "overflow_x": null,
            "grid_auto_flow": null,
            "grid_area": null,
            "grid_template_columns": null,
            "flex": null,
            "_model_name": "LayoutModel",
            "justify_items": null,
            "grid_row": null,
            "max_height": null,
            "align_content": null,
            "visibility": null,
            "align_self": null,
            "height": null,
            "min_height": null,
            "padding": null,
            "grid_auto_rows": null,
            "grid_gap": null,
            "max_width": null,
            "order": null,
            "_view_module_version": "1.2.0",
            "grid_template_areas": null,
            "object_position": null,
            "object_fit": null,
            "grid_auto_columns": null,
            "margin": null,
            "display": null,
            "left": null
          }
        },
        "bee568502bd44ab0ae7302c98e2b8e85": {
          "model_module": "@jupyter-widgets/controls",
          "model_name": "DescriptionStyleModel",
          "state": {
            "_view_name": "StyleView",
            "_model_name": "DescriptionStyleModel",
            "description_width": "",
            "_view_module": "@jupyter-widgets/base",
            "_model_module_version": "1.5.0",
            "_view_count": null,
            "_view_module_version": "1.2.0",
            "_model_module": "@jupyter-widgets/controls"
          }
        },
        "ab51221bb6094d01bb742c3da9cfcdc3": {
          "model_module": "@jupyter-widgets/base",
          "model_name": "LayoutModel",
          "state": {
            "_view_name": "LayoutView",
            "grid_template_rows": null,
            "right": null,
            "justify_content": null,
            "_view_module": "@jupyter-widgets/base",
            "overflow": null,
            "_model_module_version": "1.2.0",
            "_view_count": null,
            "flex_flow": null,
            "width": null,
            "min_width": null,
            "border": null,
            "align_items": null,
            "bottom": null,
            "_model_module": "@jupyter-widgets/base",
            "top": null,
            "grid_column": null,
            "overflow_y": null,
            "overflow_x": null,
            "grid_auto_flow": null,
            "grid_area": null,
            "grid_template_columns": null,
            "flex": null,
            "_model_name": "LayoutModel",
            "justify_items": null,
            "grid_row": null,
            "max_height": null,
            "align_content": null,
            "visibility": null,
            "align_self": null,
            "height": null,
            "min_height": null,
            "padding": null,
            "grid_auto_rows": null,
            "grid_gap": null,
            "max_width": null,
            "order": null,
            "_view_module_version": "1.2.0",
            "grid_template_areas": null,
            "object_position": null,
            "object_fit": null,
            "grid_auto_columns": null,
            "margin": null,
            "display": null,
            "left": null
          }
        },
        "261b711e3a0e4481916b0804652acf96": {
          "model_module": "@jupyter-widgets/controls",
          "model_name": "HBoxModel",
          "state": {
            "_view_name": "HBoxView",
            "_dom_classes": [],
            "_model_name": "HBoxModel",
            "_view_module": "@jupyter-widgets/controls",
            "_model_module_version": "1.5.0",
            "_view_count": null,
            "_view_module_version": "1.5.0",
            "box_style": "",
            "layout": "IPY_MODEL_6679c9b617e944f99b47d8b082d05c8b",
            "_model_module": "@jupyter-widgets/controls",
            "children": [
              "IPY_MODEL_36833721174543d7b195dd1e457a13c0",
              "IPY_MODEL_a783034090a645b7b714e9b4701ba772"
            ]
          }
        },
        "6679c9b617e944f99b47d8b082d05c8b": {
          "model_module": "@jupyter-widgets/base",
          "model_name": "LayoutModel",
          "state": {
            "_view_name": "LayoutView",
            "grid_template_rows": null,
            "right": null,
            "justify_content": null,
            "_view_module": "@jupyter-widgets/base",
            "overflow": null,
            "_model_module_version": "1.2.0",
            "_view_count": null,
            "flex_flow": null,
            "width": null,
            "min_width": null,
            "border": null,
            "align_items": null,
            "bottom": null,
            "_model_module": "@jupyter-widgets/base",
            "top": null,
            "grid_column": null,
            "overflow_y": null,
            "overflow_x": null,
            "grid_auto_flow": null,
            "grid_area": null,
            "grid_template_columns": null,
            "flex": null,
            "_model_name": "LayoutModel",
            "justify_items": null,
            "grid_row": null,
            "max_height": null,
            "align_content": null,
            "visibility": null,
            "align_self": null,
            "height": null,
            "min_height": null,
            "padding": null,
            "grid_auto_rows": null,
            "grid_gap": null,
            "max_width": null,
            "order": null,
            "_view_module_version": "1.2.0",
            "grid_template_areas": null,
            "object_position": null,
            "object_fit": null,
            "grid_auto_columns": null,
            "margin": null,
            "display": null,
            "left": null
          }
        },
        "36833721174543d7b195dd1e457a13c0": {
          "model_module": "@jupyter-widgets/controls",
          "model_name": "FloatProgressModel",
          "state": {
            "_view_name": "ProgressView",
            "style": "IPY_MODEL_df29ef5e58c944b081e21f215333554f",
            "_dom_classes": [],
            "description": "",
            "_model_name": "FloatProgressModel",
            "bar_style": "info",
            "max": 1,
            "_view_module": "@jupyter-widgets/controls",
            "_model_module_version": "1.5.0",
            "value": 1,
            "_view_count": null,
            "_view_module_version": "1.5.0",
            "orientation": "horizontal",
            "min": 0,
            "description_tooltip": null,
            "_model_module": "@jupyter-widgets/controls",
            "layout": "IPY_MODEL_28f4c4892d6542c786e5ff24cda967ef"
          }
        },
        "a783034090a645b7b714e9b4701ba772": {
          "model_module": "@jupyter-widgets/controls",
          "model_name": "HTMLModel",
          "state": {
            "_view_name": "HTMLView",
            "style": "IPY_MODEL_935259f690a84960945cd2e2c97c7dfa",
            "_dom_classes": [],
            "description": "",
            "_model_name": "HTMLModel",
            "placeholder": "​",
            "_view_module": "@jupyter-widgets/controls",
            "_model_module_version": "1.5.0",
            "value": " 372/0 [00:00&lt;00:00, 1280.25 examples/s]",
            "_view_count": null,
            "_view_module_version": "1.5.0",
            "description_tooltip": null,
            "_model_module": "@jupyter-widgets/controls",
            "layout": "IPY_MODEL_d4f987e659d74c4bbaf74b52a8050d2d"
          }
        },
        "df29ef5e58c944b081e21f215333554f": {
          "model_module": "@jupyter-widgets/controls",
          "model_name": "ProgressStyleModel",
          "state": {
            "_view_name": "StyleView",
            "_model_name": "ProgressStyleModel",
            "description_width": "initial",
            "_view_module": "@jupyter-widgets/base",
            "_model_module_version": "1.5.0",
            "_view_count": null,
            "_view_module_version": "1.2.0",
            "bar_color": null,
            "_model_module": "@jupyter-widgets/controls"
          }
        },
        "28f4c4892d6542c786e5ff24cda967ef": {
          "model_module": "@jupyter-widgets/base",
          "model_name": "LayoutModel",
          "state": {
            "_view_name": "LayoutView",
            "grid_template_rows": null,
            "right": null,
            "justify_content": null,
            "_view_module": "@jupyter-widgets/base",
            "overflow": null,
            "_model_module_version": "1.2.0",
            "_view_count": null,
            "flex_flow": null,
            "width": null,
            "min_width": null,
            "border": null,
            "align_items": null,
            "bottom": null,
            "_model_module": "@jupyter-widgets/base",
            "top": null,
            "grid_column": null,
            "overflow_y": null,
            "overflow_x": null,
            "grid_auto_flow": null,
            "grid_area": null,
            "grid_template_columns": null,
            "flex": null,
            "_model_name": "LayoutModel",
            "justify_items": null,
            "grid_row": null,
            "max_height": null,
            "align_content": null,
            "visibility": null,
            "align_self": null,
            "height": null,
            "min_height": null,
            "padding": null,
            "grid_auto_rows": null,
            "grid_gap": null,
            "max_width": null,
            "order": null,
            "_view_module_version": "1.2.0",
            "grid_template_areas": null,
            "object_position": null,
            "object_fit": null,
            "grid_auto_columns": null,
            "margin": null,
            "display": null,
            "left": null
          }
        },
        "935259f690a84960945cd2e2c97c7dfa": {
          "model_module": "@jupyter-widgets/controls",
          "model_name": "DescriptionStyleModel",
          "state": {
            "_view_name": "StyleView",
            "_model_name": "DescriptionStyleModel",
            "description_width": "",
            "_view_module": "@jupyter-widgets/base",
            "_model_module_version": "1.5.0",
            "_view_count": null,
            "_view_module_version": "1.2.0",
            "_model_module": "@jupyter-widgets/controls"
          }
        },
        "d4f987e659d74c4bbaf74b52a8050d2d": {
          "model_module": "@jupyter-widgets/base",
          "model_name": "LayoutModel",
          "state": {
            "_view_name": "LayoutView",
            "grid_template_rows": null,
            "right": null,
            "justify_content": null,
            "_view_module": "@jupyter-widgets/base",
            "overflow": null,
            "_model_module_version": "1.2.0",
            "_view_count": null,
            "flex_flow": null,
            "width": null,
            "min_width": null,
            "border": null,
            "align_items": null,
            "bottom": null,
            "_model_module": "@jupyter-widgets/base",
            "top": null,
            "grid_column": null,
            "overflow_y": null,
            "overflow_x": null,
            "grid_auto_flow": null,
            "grid_area": null,
            "grid_template_columns": null,
            "flex": null,
            "_model_name": "LayoutModel",
            "justify_items": null,
            "grid_row": null,
            "max_height": null,
            "align_content": null,
            "visibility": null,
            "align_self": null,
            "height": null,
            "min_height": null,
            "padding": null,
            "grid_auto_rows": null,
            "grid_gap": null,
            "max_width": null,
            "order": null,
            "_view_module_version": "1.2.0",
            "grid_template_areas": null,
            "object_position": null,
            "object_fit": null,
            "grid_auto_columns": null,
            "margin": null,
            "display": null,
            "left": null
          }
        },
        "972e8a7195704eb198405a7adf0d090f": {
          "model_module": "@jupyter-widgets/controls",
          "model_name": "HBoxModel",
          "state": {
            "_view_name": "HBoxView",
            "_dom_classes": [],
            "_model_name": "HBoxModel",
            "_view_module": "@jupyter-widgets/controls",
            "_model_module_version": "1.5.0",
            "_view_count": null,
            "_view_module_version": "1.5.0",
            "box_style": "",
            "layout": "IPY_MODEL_8b98b5eebb88451abe7f6b77371c9038",
            "_model_module": "@jupyter-widgets/controls",
            "children": [
              "IPY_MODEL_b01d14b2961248a1bfc90dc545d8e34f",
              "IPY_MODEL_7de1355735b240c0b2747da5b9a4c110"
            ]
          }
        },
        "8b98b5eebb88451abe7f6b77371c9038": {
          "model_module": "@jupyter-widgets/base",
          "model_name": "LayoutModel",
          "state": {
            "_view_name": "LayoutView",
            "grid_template_rows": null,
            "right": null,
            "justify_content": null,
            "_view_module": "@jupyter-widgets/base",
            "overflow": null,
            "_model_module_version": "1.2.0",
            "_view_count": null,
            "flex_flow": null,
            "width": null,
            "min_width": null,
            "border": null,
            "align_items": null,
            "bottom": null,
            "_model_module": "@jupyter-widgets/base",
            "top": null,
            "grid_column": null,
            "overflow_y": null,
            "overflow_x": null,
            "grid_auto_flow": null,
            "grid_area": null,
            "grid_template_columns": null,
            "flex": null,
            "_model_name": "LayoutModel",
            "justify_items": null,
            "grid_row": null,
            "max_height": null,
            "align_content": null,
            "visibility": null,
            "align_self": null,
            "height": null,
            "min_height": null,
            "padding": null,
            "grid_auto_rows": null,
            "grid_gap": null,
            "max_width": null,
            "order": null,
            "_view_module_version": "1.2.0",
            "grid_template_areas": null,
            "object_position": null,
            "object_fit": null,
            "grid_auto_columns": null,
            "margin": null,
            "display": null,
            "left": null
          }
        },
        "b01d14b2961248a1bfc90dc545d8e34f": {
          "model_module": "@jupyter-widgets/controls",
          "model_name": "FloatProgressModel",
          "state": {
            "_view_name": "ProgressView",
            "style": "IPY_MODEL_3b09d25338e640628bc26a65e1bf59ba",
            "_dom_classes": [],
            "description": "  0%",
            "_model_name": "FloatProgressModel",
            "bar_style": "danger",
            "max": 372,
            "_view_module": "@jupyter-widgets/controls",
            "_model_module_version": "1.5.0",
            "value": 0,
            "_view_count": null,
            "_view_module_version": "1.5.0",
            "orientation": "horizontal",
            "min": 0,
            "description_tooltip": null,
            "_model_module": "@jupyter-widgets/controls",
            "layout": "IPY_MODEL_d257eeeae6064f29af39290994bab7f0"
          }
        },
        "7de1355735b240c0b2747da5b9a4c110": {
          "model_module": "@jupyter-widgets/controls",
          "model_name": "HTMLModel",
          "state": {
            "_view_name": "HTMLView",
            "style": "IPY_MODEL_fec59cc7ab754559b77be8661dfcc87b",
            "_dom_classes": [],
            "description": "",
            "_model_name": "HTMLModel",
            "placeholder": "​",
            "_view_module": "@jupyter-widgets/controls",
            "_model_module_version": "1.5.0",
            "value": " 0/372 [00:05&lt;?, ? examples/s]",
            "_view_count": null,
            "_view_module_version": "1.5.0",
            "description_tooltip": null,
            "_model_module": "@jupyter-widgets/controls",
            "layout": "IPY_MODEL_5133cd5ed4a9442f86d22b38b787d634"
          }
        },
        "3b09d25338e640628bc26a65e1bf59ba": {
          "model_module": "@jupyter-widgets/controls",
          "model_name": "ProgressStyleModel",
          "state": {
            "_view_name": "StyleView",
            "_model_name": "ProgressStyleModel",
            "description_width": "initial",
            "_view_module": "@jupyter-widgets/base",
            "_model_module_version": "1.5.0",
            "_view_count": null,
            "_view_module_version": "1.2.0",
            "bar_color": null,
            "_model_module": "@jupyter-widgets/controls"
          }
        },
        "d257eeeae6064f29af39290994bab7f0": {
          "model_module": "@jupyter-widgets/base",
          "model_name": "LayoutModel",
          "state": {
            "_view_name": "LayoutView",
            "grid_template_rows": null,
            "right": null,
            "justify_content": null,
            "_view_module": "@jupyter-widgets/base",
            "overflow": null,
            "_model_module_version": "1.2.0",
            "_view_count": null,
            "flex_flow": null,
            "width": null,
            "min_width": null,
            "border": null,
            "align_items": null,
            "bottom": null,
            "_model_module": "@jupyter-widgets/base",
            "top": null,
            "grid_column": null,
            "overflow_y": null,
            "overflow_x": null,
            "grid_auto_flow": null,
            "grid_area": null,
            "grid_template_columns": null,
            "flex": null,
            "_model_name": "LayoutModel",
            "justify_items": null,
            "grid_row": null,
            "max_height": null,
            "align_content": null,
            "visibility": null,
            "align_self": null,
            "height": null,
            "min_height": null,
            "padding": null,
            "grid_auto_rows": null,
            "grid_gap": null,
            "max_width": null,
            "order": null,
            "_view_module_version": "1.2.0",
            "grid_template_areas": null,
            "object_position": null,
            "object_fit": null,
            "grid_auto_columns": null,
            "margin": null,
            "display": null,
            "left": null
          }
        },
        "fec59cc7ab754559b77be8661dfcc87b": {
          "model_module": "@jupyter-widgets/controls",
          "model_name": "DescriptionStyleModel",
          "state": {
            "_view_name": "StyleView",
            "_model_name": "DescriptionStyleModel",
            "description_width": "",
            "_view_module": "@jupyter-widgets/base",
            "_model_module_version": "1.5.0",
            "_view_count": null,
            "_view_module_version": "1.2.0",
            "_model_module": "@jupyter-widgets/controls"
          }
        },
        "5133cd5ed4a9442f86d22b38b787d634": {
          "model_module": "@jupyter-widgets/base",
          "model_name": "LayoutModel",
          "state": {
            "_view_name": "LayoutView",
            "grid_template_rows": null,
            "right": null,
            "justify_content": null,
            "_view_module": "@jupyter-widgets/base",
            "overflow": null,
            "_model_module_version": "1.2.0",
            "_view_count": null,
            "flex_flow": null,
            "width": null,
            "min_width": null,
            "border": null,
            "align_items": null,
            "bottom": null,
            "_model_module": "@jupyter-widgets/base",
            "top": null,
            "grid_column": null,
            "overflow_y": null,
            "overflow_x": null,
            "grid_auto_flow": null,
            "grid_area": null,
            "grid_template_columns": null,
            "flex": null,
            "_model_name": "LayoutModel",
            "justify_items": null,
            "grid_row": null,
            "max_height": null,
            "align_content": null,
            "visibility": null,
            "align_self": null,
            "height": null,
            "min_height": null,
            "padding": null,
            "grid_auto_rows": null,
            "grid_gap": null,
            "max_width": null,
            "order": null,
            "_view_module_version": "1.2.0",
            "grid_template_areas": null,
            "object_position": null,
            "object_fit": null,
            "grid_auto_columns": null,
            "margin": null,
            "display": null,
            "left": null
          }
        }
      }
    }
  },
  "cells": [
    {
      "cell_type": "code",
      "metadata": {
        "id": "wVfVoTYZaxoe",
        "colab_type": "code",
        "colab": {}
      },
      "source": [
        "import tensorflow as tf\n",
        "import tensorflow_datasets as tfds\n",
        "import matplotlib.pyplot as plt\n",
        "import numpy as np"
      ],
      "execution_count": 2,
      "outputs": []
    },
    {
      "cell_type": "code",
      "metadata": {
        "id": "HaOPXccia-RK",
        "colab_type": "code",
        "colab": {
          "base_uri": "https://localhost:8080/",
          "height": 374,
          "referenced_widgets": [
            "daddab8361be4d4b9c9c7c94ee579cfd",
            "ea99c410832f49f0add81add2ebe3219",
            "762c674565ad4bd69fbf3119755d7025",
            "c9b9fd5b575b41ee838804aa4e1fed85",
            "75376a8f018547c097edcf5d630597ff",
            "6b01979d4c144391a14c0a6e235ae3e9",
            "cb0ecd2d4337474a8e281132f52aa359",
            "f2a161f15001431981140000073f5883",
            "42a3288b7d9c4a98893d314e03c85cf8",
            "e48f4c7af19648b9ab49687a17e0e058",
            "c1e16eec0366479894f014fdcac63ef8",
            "1e67f7eae8a1461c8223210bd762fe05",
            "691e2d4cf0bb41acbdee8bc4b024f91a",
            "a57941db60ea476f8ff94cadd27e1178",
            "d8e4492300e44bac95c5542d604be823",
            "c1986b9115bb40e19152656322b049b3",
            "995f6b47b7664ddfbaaec847d0759f5b",
            "6a896e970fd8413a83cd1ff82d06d20a",
            "8bfb8b5d75f3460f8f66fd8c5cf2d93f",
            "dc5a283e62644cafa04a3cb35d78e8ed",
            "a807ceabb3354e05bac1b393bd24328d",
            "a2ffbb825ffb4494a182b91d77d4b2b2",
            "52f186733da04275b043c76a36b342c2",
            "b50b714849a34c84a1c6ff163088427c",
            "94e1d5cab2204702a15f7229f5a4021e",
            "2d5c645e336b4abebc8af97adecd8f44",
            "1f5a12f9ba724fca8b21432260b6229d",
            "75293cb4561242c684cc9607225e7d76",
            "17f08a46c2cc4c358a8713f1f94dae37",
            "a3a750b561cb4a909541df9a289b737b",
            "bee568502bd44ab0ae7302c98e2b8e85",
            "ab51221bb6094d01bb742c3da9cfcdc3",
            "261b711e3a0e4481916b0804652acf96",
            "6679c9b617e944f99b47d8b082d05c8b",
            "36833721174543d7b195dd1e457a13c0",
            "a783034090a645b7b714e9b4701ba772",
            "df29ef5e58c944b081e21f215333554f",
            "28f4c4892d6542c786e5ff24cda967ef",
            "935259f690a84960945cd2e2c97c7dfa",
            "d4f987e659d74c4bbaf74b52a8050d2d",
            "972e8a7195704eb198405a7adf0d090f",
            "8b98b5eebb88451abe7f6b77371c9038",
            "b01d14b2961248a1bfc90dc545d8e34f",
            "7de1355735b240c0b2747da5b9a4c110",
            "3b09d25338e640628bc26a65e1bf59ba",
            "d257eeeae6064f29af39290994bab7f0",
            "fec59cc7ab754559b77be8661dfcc87b",
            "5133cd5ed4a9442f86d22b38b787d634"
          ]
        },
        "outputId": "d1a931a6-85ff-4538-c7d5-5f579da10b34"
      },
      "source": [
        "DATASET_NAME = 'rock_paper_scissors'\n",
        "\n",
        "(dataset_train_raw, dataset_test_raw), dataset_info = tfds.load(\n",
        "    name=DATASET_NAME,\n",
        "    data_dir='tmp',\n",
        "    with_info=True,\n",
        "    as_supervised=True,\n",
        "    split=[tfds.Split.TRAIN, tfds.Split.TEST],\n",
        ")\n",
        "%load_ext tensorboard\n",
        "!rm -rf ./logs/"
      ],
      "execution_count": 3,
      "outputs": [
        {
          "output_type": "stream",
          "text": [
            "\u001b[1mDownloading and preparing dataset rock_paper_scissors/3.0.0 (download: 219.53 MiB, generated: Unknown size, total: 219.53 MiB) to tmp/rock_paper_scissors/3.0.0...\u001b[0m\n"
          ],
          "name": "stdout"
        },
        {
          "output_type": "display_data",
          "data": {
            "application/vnd.jupyter.widget-view+json": {
              "model_id": "daddab8361be4d4b9c9c7c94ee579cfd",
              "version_minor": 0,
              "version_major": 2
            },
            "text/plain": [
              "HBox(children=(FloatProgress(value=1.0, bar_style='info', description='Dl Completed...', max=1.0, style=Progre…"
            ]
          },
          "metadata": {
            "tags": []
          }
        },
        {
          "output_type": "display_data",
          "data": {
            "application/vnd.jupyter.widget-view+json": {
              "model_id": "42a3288b7d9c4a98893d314e03c85cf8",
              "version_minor": 0,
              "version_major": 2
            },
            "text/plain": [
              "HBox(children=(FloatProgress(value=1.0, bar_style='info', description='Dl Size...', max=1.0, style=ProgressSty…"
            ]
          },
          "metadata": {
            "tags": []
          }
        },
        {
          "output_type": "stream",
          "text": [
            "/usr/local/lib/python3.6/dist-packages/urllib3/connectionpool.py:847: InsecureRequestWarning: Unverified HTTPS request is being made. Adding certificate verification is strongly advised. See: https://urllib3.readthedocs.io/en/latest/advanced-usage.html#ssl-warnings\n",
            "  InsecureRequestWarning)\n",
            "/usr/local/lib/python3.6/dist-packages/urllib3/connectionpool.py:847: InsecureRequestWarning: Unverified HTTPS request is being made. Adding certificate verification is strongly advised. See: https://urllib3.readthedocs.io/en/latest/advanced-usage.html#ssl-warnings\n",
            "  InsecureRequestWarning)\n"
          ],
          "name": "stderr"
        },
        {
          "output_type": "stream",
          "text": [
            "\n",
            "\n",
            "\n",
            "\n"
          ],
          "name": "stdout"
        },
        {
          "output_type": "display_data",
          "data": {
            "application/vnd.jupyter.widget-view+json": {
              "model_id": "995f6b47b7664ddfbaaec847d0759f5b",
              "version_minor": 0,
              "version_major": 2
            },
            "text/plain": [
              "HBox(children=(FloatProgress(value=1.0, bar_style='info', max=1.0), HTML(value='')))"
            ]
          },
          "metadata": {
            "tags": []
          }
        },
        {
          "output_type": "stream",
          "text": [
            "\rShuffling and writing examples to tmp/rock_paper_scissors/3.0.0.incompleteH277DE/rock_paper_scissors-train.tfrecord\n"
          ],
          "name": "stdout"
        },
        {
          "output_type": "display_data",
          "data": {
            "application/vnd.jupyter.widget-view+json": {
              "model_id": "94e1d5cab2204702a15f7229f5a4021e",
              "version_minor": 0,
              "version_major": 2
            },
            "text/plain": [
              "HBox(children=(FloatProgress(value=0.0, max=2520.0), HTML(value='')))"
            ]
          },
          "metadata": {
            "tags": []
          }
        },
        {
          "output_type": "stream",
          "text": [
            "\r"
          ],
          "name": "stdout"
        },
        {
          "output_type": "display_data",
          "data": {
            "application/vnd.jupyter.widget-view+json": {
              "model_id": "261b711e3a0e4481916b0804652acf96",
              "version_minor": 0,
              "version_major": 2
            },
            "text/plain": [
              "HBox(children=(FloatProgress(value=1.0, bar_style='info', max=1.0), HTML(value='')))"
            ]
          },
          "metadata": {
            "tags": []
          }
        },
        {
          "output_type": "stream",
          "text": [
            "\rShuffling and writing examples to tmp/rock_paper_scissors/3.0.0.incompleteH277DE/rock_paper_scissors-test.tfrecord\n"
          ],
          "name": "stdout"
        },
        {
          "output_type": "display_data",
          "data": {
            "application/vnd.jupyter.widget-view+json": {
              "model_id": "972e8a7195704eb198405a7adf0d090f",
              "version_minor": 0,
              "version_major": 2
            },
            "text/plain": [
              "HBox(children=(FloatProgress(value=0.0, max=372.0), HTML(value='')))"
            ]
          },
          "metadata": {
            "tags": []
          }
        },
        {
          "output_type": "stream",
          "text": [
            "\u001b[1mDataset rock_paper_scissors downloaded and prepared to tmp/rock_paper_scissors/3.0.0. Subsequent calls will reuse this data.\u001b[0m\n"
          ],
          "name": "stdout"
        }
      ]
    },
    {
      "cell_type": "markdown",
      "metadata": {
        "id": "LbGoXcy2bQxU",
        "colab_type": "text"
      },
      "source": [
        "현재 데이터셋으로부터 다운 받은 데이터를 출력해서 확인해 본다."
      ]
    },
    {
      "cell_type": "code",
      "metadata": {
        "id": "LrAm6yY_bKEk",
        "colab_type": "code",
        "colab": {
          "base_uri": "https://localhost:8080/",
          "height": 121
        },
        "outputId": "17197331-d50e-4c8f-ce1a-6c81c83dc646"
      },
      "source": [
        "print('Raw train dataset:', dataset_train_raw)\n",
        "print('Raw train dataset size:', len(list(dataset_train_raw)), '\\n')\n",
        "\n",
        "print('Raw test dataset:', dataset_test_raw)\n",
        "print('Raw test dataset size:', len(list(dataset_test_raw)), '\\n')"
      ],
      "execution_count": 4,
      "outputs": [
        {
          "output_type": "stream",
          "text": [
            "Raw train dataset: <DatasetV1Adapter shapes: ((300, 300, 3), ()), types: (tf.uint8, tf.int64)>\n",
            "Raw train dataset size: 2520 \n",
            "\n",
            "Raw test dataset: <DatasetV1Adapter shapes: ((300, 300, 3), ()), types: (tf.uint8, tf.int64)>\n",
            "Raw test dataset size: 372 \n",
            "\n"
          ],
          "name": "stdout"
        }
      ]
    },
    {
      "cell_type": "code",
      "metadata": {
        "id": "5NYapTNHbaES",
        "colab_type": "code",
        "colab": {
          "base_uri": "https://localhost:8080/",
          "height": 436
        },
        "outputId": "deaf5fc3-bef7-4667-d727-f85fd5f8f5a3"
      },
      "source": [
        "dataset_info"
      ],
      "execution_count": 5,
      "outputs": [
        {
          "output_type": "execute_result",
          "data": {
            "text/plain": [
              "tfds.core.DatasetInfo(\n",
              "    name='rock_paper_scissors',\n",
              "    version=3.0.0,\n",
              "    description='Images of hands playing rock, paper, scissor game.',\n",
              "    homepage='http://laurencemoroney.com/rock-paper-scissors-dataset',\n",
              "    features=FeaturesDict({\n",
              "        'image': Image(shape=(300, 300, 3), dtype=tf.uint8),\n",
              "        'label': ClassLabel(shape=(), dtype=tf.int64, num_classes=3),\n",
              "    }),\n",
              "    total_num_examples=2892,\n",
              "    splits={\n",
              "        'test': 372,\n",
              "        'train': 2520,\n",
              "    },\n",
              "    supervised_keys=('image', 'label'),\n",
              "    citation=\"\"\"@ONLINE {rps,\n",
              "    author = \"Laurence Moroney\",\n",
              "    title = \"Rock, Paper, Scissors Dataset\",\n",
              "    month = \"feb\",\n",
              "    year = \"2019\",\n",
              "    url = \"http://laurencemoroney.com/rock-paper-scissors-dataset\"\n",
              "    }\"\"\",\n",
              "    redistribution_info=,\n",
              ")"
            ]
          },
          "metadata": {
            "tags": []
          },
          "execution_count": 5
        }
      ]
    },
    {
      "cell_type": "markdown",
      "metadata": {
        "id": "3t-2JRUDbhkO",
        "colab_type": "text"
      },
      "source": [
        "이 데이터셋은 test와 train으로 나누어져 있으며, 따라서 여기에서 image와 label을 구분하여져 있다는 것만 확인하면 된다."
      ]
    },
    {
      "cell_type": "code",
      "metadata": {
        "id": "6WY5U1DYbf6e",
        "colab_type": "code",
        "colab": {
          "base_uri": "https://localhost:8080/",
          "height": 34
        },
        "outputId": "510e1b50-c707-41f5-8d9e-f2eaf6823760"
      },
      "source": [
        "label_name = dataset_info.features['label'].int2str\n",
        "print(label_name(0))"
      ],
      "execution_count": 6,
      "outputs": [
        {
          "output_type": "stream",
          "text": [
            "rock\n"
          ],
          "name": "stdout"
        }
      ]
    },
    {
      "cell_type": "markdown",
      "metadata": {
        "id": "C38BkKzJcdl8",
        "colab_type": "text"
      },
      "source": [
        "주어진 자료를 시각화를 통해 미리 살펴본다."
      ]
    },
    {
      "cell_type": "code",
      "metadata": {
        "id": "rCA4XAV1cUIP",
        "colab_type": "code",
        "colab": {}
      },
      "source": [
        "def preview_dataset(dataset):\n",
        "    plt.figure(figsize=(10, 10))\n",
        "    plot_index = 0\n",
        "    for features in dataset.take(12):  #전체중에 12개 선택\n",
        "        (image, label) = features\n",
        "        plot_index += 1\n",
        "        plt.subplot(3, 4, plot_index)\n",
        "        plt.axis('off')\n",
        "        label = label_name(label.numpy())\n",
        "        plt.title('Label: %s' % label)\n",
        "        plt.imshow(image.numpy())"
      ],
      "execution_count": 7,
      "outputs": []
    },
    {
      "cell_type": "code",
      "metadata": {
        "id": "GSif_mcKctkI",
        "colab_type": "code",
        "colab": {
          "base_uri": "https://localhost:8080/",
          "height": 552
        },
        "outputId": "1ab65cef-c0cd-4d53-9798-9f75201dd0e1"
      },
      "source": [
        "preview_dataset(dataset_train_raw)"
      ],
      "execution_count": 8,
      "outputs": [
        {
          "output_type": "display_data",
          "data": {
            "image/png": "[encoded data removed]",
            "text/plain": [
              "<Figure size 720x720 with 12 Axes>"
            ]
          },
          "metadata": {
            "tags": [],
            "needs_background": "light"
          }
        }
      ]
    },
    {
      "cell_type": "markdown",
      "metadata": {
        "id": "CK_lVcOodC-2",
        "colab_type": "text"
      },
      "source": [
        "데이터 전처리 과정이다\n",
        "\n",
        "우선 픽셀값을 float꼴로 바꿔주고 255로 나누어서 원-핫 인코딩 진행\n",
        "\n",
        "dataset_train_raw는 image와 label의 정보가 모두 담겨 있으며, keras.fit은 dictionary형태가 아닌 문자열의 형태를 인식(map으로 묶여 있는)하기 때문에 묶어 주어야 한다."
      ]
    },
    {
      "cell_type": "code",
      "metadata": {
        "id": "-kWnK_Trc0HS",
        "colab_type": "code",
        "colab": {
          "base_uri": "https://localhost:8080/",
          "height": 942
        },
        "outputId": "8167eac0-16cb-44dd-ef9f-a2a9f264cc9f"
      },
      "source": [
        "def format_example(image, label):\n",
        "    # Make image color values to be float.\n",
        "    image = tf.cast(image, tf.float32)\n",
        "    # Make image color values to be in [0..1] range.\n",
        "    image = image / 255.\n",
        "    # Make sure that image has a right size\n",
        "    image = tf.image.resize(image, [150, 150])\n",
        "    return image, label\n",
        "  \n",
        "dataset_train = dataset_train_raw.map(format_example)\n",
        "dataset_test = dataset_test_raw.map(format_example)\n",
        "\n",
        "(first_image, first_lable) = list(dataset_train.take(1))[0]\n",
        "print('Label:', first_lable.numpy(), '\\n')\n",
        "print('Image shape:', first_image.numpy().shape, '\\n')\n",
        "print(first_image.numpy())"
      ],
      "execution_count": 9,
      "outputs": [
        {
          "output_type": "stream",
          "text": [
            "Label: 2 \n",
            "\n",
            "Image shape: (150, 150, 3) \n",
            "\n",
            "[[[0.995098   0.995098   0.995098  ]\n",
            "  [0.995098   0.995098   0.995098  ]\n",
            "  [0.995098   0.995098   0.995098  ]\n",
            "  ...\n",
            "  [0.9852941  0.9852941  0.9852941 ]\n",
            "  [0.9843137  0.9843137  0.9843137 ]\n",
            "  [0.98039216 0.98039216 0.98039216]]\n",
            "\n",
            " [[0.99607843 0.99607843 0.99607843]\n",
            "  [0.995098   0.995098   0.995098  ]\n",
            "  [0.995098   0.995098   0.995098  ]\n",
            "  ...\n",
            "  [0.98333335 0.98333335 0.98333335]\n",
            "  [0.9813726  0.9813726  0.9813726 ]\n",
            "  [0.98333335 0.98333335 0.98333335]]\n",
            "\n",
            " [[0.99607843 0.99607843 0.99607843]\n",
            "  [0.9941176  0.9941176  0.9941176 ]\n",
            "  [0.9941176  0.9941176  0.9941176 ]\n",
            "  ...\n",
            "  [0.9852941  0.9852941  0.9852941 ]\n",
            "  [0.9852941  0.9852941  0.9852941 ]\n",
            "  [0.9813726  0.9813726  0.9813726 ]]\n",
            "\n",
            " ...\n",
            "\n",
            " [[0.9862745  0.9862745  0.9862745 ]\n",
            "  [0.98725486 0.98725486 0.98725486]\n",
            "  [0.9882353  0.9882353  0.9882353 ]\n",
            "  ...\n",
            "  [0.9705882  0.9705882  0.9705882 ]\n",
            "  [0.97352946 0.97352946 0.97352946]\n",
            "  [0.9754902  0.9754902  0.9754902 ]]\n",
            "\n",
            " [[0.9882353  0.9882353  0.9882353 ]\n",
            "  [0.98725486 0.98725486 0.98725486]\n",
            "  [0.9862745  0.9862745  0.9862745 ]\n",
            "  ...\n",
            "  [0.9676471  0.9676471  0.9676471 ]\n",
            "  [0.97156864 0.97156864 0.97156864]\n",
            "  [0.972549   0.972549   0.972549  ]]\n",
            "\n",
            " [[0.9911765  0.9911765  0.9911765 ]\n",
            "  [0.9862745  0.9862745  0.9862745 ]\n",
            "  [0.9882353  0.9882353  0.9882353 ]\n",
            "  ...\n",
            "  [0.97352946 0.97352946 0.97352946]\n",
            "  [0.9705882  0.9705882  0.9705882 ]\n",
            "  [0.97352946 0.97352946 0.97352946]]]\n"
          ],
          "name": "stdout"
        }
      ]
    },
    {
      "cell_type": "code",
      "metadata": {
        "id": "b8R8pn35doaP",
        "colab_type": "code",
        "colab": {}
      },
      "source": [
        "dataset_train = dataset_train.shuffle(buffer_size=2520)\n",
        "dataset_train = dataset_train.batch(32)\n",
        "dataset_test = dataset_test.batch(32)"
      ],
      "execution_count": 10,
      "outputs": []
    },
    {
      "cell_type": "code",
      "metadata": {
        "id": "uwvJsBQfezx0",
        "colab_type": "code",
        "colab": {
          "base_uri": "https://localhost:8080/",
          "height": 575
        },
        "outputId": "95365981-68c8-4a9b-cb28-4e574bebe91e"
      },
      "source": [
        "model = tf.keras.Sequential([\n",
        "           tf.keras.layers.Conv2D(input_shape = (150,150,3),kernel_size = (3,3), filters = 16,activation = 'relu'),\n",
        "           tf.keras.layers.Conv2D(kernel_size = (3,3), filters = 32,activation = 'relu'),\n",
        "           tf.keras.layers.MaxPool2D(pool_size =(3,3)),\n",
        "           tf.keras.layers.Dropout(rate = 0.5),\n",
        "           tf.keras.layers.Conv2D(kernel_size = (3,3), filters = 64, activation = 'relu'),\n",
        "           tf.keras.layers.Conv2D(kernel_size = (3,3), filters = 128,activation = 'relu'),\n",
        "           tf.keras.layers.MaxPool2D(pool_size = (2,2)),\n",
        "           tf.keras.layers.Dropout(rate = 0.5),\n",
        "           tf.keras.layers.Flatten(),\n",
        "           tf.keras.layers.Dense(units = 128, activation = 'relu'),\n",
        "           tf.keras.layers.Dropout(rate = 0.5),\n",
        "           tf.keras.layers.Dense(units = 3, activation = 'softmax')\n",
        "])\n",
        "model.summary()"
      ],
      "execution_count": 11,
      "outputs": [
        {
          "output_type": "stream",
          "text": [
            "Model: \"sequential\"\n",
            "_________________________________________________________________\n",
            "Layer (type)                 Output Shape              Param #   \n",
            "=================================================================\n",
            "conv2d (Conv2D)              (None, 148, 148, 16)      448       \n",
            "_________________________________________________________________\n",
            "conv2d_1 (Conv2D)            (None, 146, 146, 32)      4640      \n",
            "_________________________________________________________________\n",
            "max_pooling2d (MaxPooling2D) (None, 48, 48, 32)        0         \n",
            "_________________________________________________________________\n",
            "dropout (Dropout)            (None, 48, 48, 32)        0         \n",
            "_________________________________________________________________\n",
            "conv2d_2 (Conv2D)            (None, 46, 46, 64)        18496     \n",
            "_________________________________________________________________\n",
            "conv2d_3 (Conv2D)            (None, 44, 44, 128)       73856     \n",
            "_________________________________________________________________\n",
            "max_pooling2d_1 (MaxPooling2 (None, 22, 22, 128)       0         \n",
            "_________________________________________________________________\n",
            "dropout_1 (Dropout)          (None, 22, 22, 128)       0         \n",
            "_________________________________________________________________\n",
            "flatten (Flatten)            (None, 61952)             0         \n",
            "_________________________________________________________________\n",
            "dense (Dense)                (None, 128)               7929984   \n",
            "_________________________________________________________________\n",
            "dropout_2 (Dropout)          (None, 128)               0         \n",
            "_________________________________________________________________\n",
            "dense_1 (Dense)              (None, 3)                 387       \n",
            "=================================================================\n",
            "Total params: 8,027,811\n",
            "Trainable params: 8,027,811\n",
            "Non-trainable params: 0\n",
            "_________________________________________________________________\n"
          ],
          "name": "stdout"
        }
      ]
    },
    {
      "cell_type": "code",
      "metadata": {
        "id": "j8DmbSHqe6xo",
        "colab_type": "code",
        "colab": {}
      },
      "source": [
        "adam_optimizer = tf.keras.optimizers.Adam(learning_rate=0.001)\n",
        "\n",
        "model.compile(\n",
        "    optimizer=adam_optimizer,\n",
        "    loss='sparse_categorical_crossentropy',\n",
        "    metrics=['accuracy']\n",
        ")"
      ],
      "execution_count": 12,
      "outputs": []
    },
    {
      "cell_type": "code",
      "metadata": {
        "id": "2kcKDonHfQCr",
        "colab_type": "code",
        "colab": {
          "base_uri": "https://localhost:8080/",
          "height": 1000
        },
        "outputId": "bd07a5a7-91e8-4f60-b050-e674b857d618"
      },
      "source": [
        "training_history = model.fit(\n",
        "    x=dataset_train,\n",
        "    validation_data=dataset_test,\n",
        "    epochs=100,\n",
        ")"
      ],
      "execution_count": 13,
      "outputs": [
        {
          "output_type": "stream",
          "text": [
            "Epoch 1/100\n",
            "79/79 [==============================] - 4s 48ms/step - loss: 1.0267 - accuracy: 0.5687 - val_loss: 0.5796 - val_accuracy: 0.7742\n",
            "Epoch 2/100\n",
            "79/79 [==============================] - 3s 44ms/step - loss: 0.1657 - accuracy: 0.9524 - val_loss: 0.3101 - val_accuracy: 0.8844\n",
            "Epoch 3/100\n",
            "79/79 [==============================] - 3s 43ms/step - loss: 0.0472 - accuracy: 0.9841 - val_loss: 0.3371 - val_accuracy: 0.8844\n",
            "Epoch 4/100\n",
            "79/79 [==============================] - 3s 44ms/step - loss: 0.0278 - accuracy: 0.9921 - val_loss: 0.3535 - val_accuracy: 0.8790\n",
            "Epoch 5/100\n",
            "79/79 [==============================] - 3s 44ms/step - loss: 0.0145 - accuracy: 0.9956 - val_loss: 0.2364 - val_accuracy: 0.9274\n",
            "Epoch 6/100\n",
            "79/79 [==============================] - 3s 44ms/step - loss: 0.0086 - accuracy: 0.9972 - val_loss: 0.3136 - val_accuracy: 0.8952\n",
            "Epoch 7/100\n",
            "79/79 [==============================] - 3s 44ms/step - loss: 0.0061 - accuracy: 0.9984 - val_loss: 0.4523 - val_accuracy: 0.9113\n",
            "Epoch 8/100\n",
            "79/79 [==============================] - 3s 44ms/step - loss: 0.0021 - accuracy: 0.9996 - val_loss: 0.5303 - val_accuracy: 0.9086\n",
            "Epoch 9/100\n",
            "79/79 [==============================] - 3s 44ms/step - loss: 0.0025 - accuracy: 0.9992 - val_loss: 0.3927 - val_accuracy: 0.9032\n",
            "Epoch 10/100\n",
            "79/79 [==============================] - 3s 44ms/step - loss: 0.0046 - accuracy: 0.9988 - val_loss: 0.6317 - val_accuracy: 0.8495\n",
            "Epoch 11/100\n",
            "79/79 [==============================] - 3s 44ms/step - loss: 0.0037 - accuracy: 0.9988 - val_loss: 0.4172 - val_accuracy: 0.8925\n",
            "Epoch 12/100\n",
            "79/79 [==============================] - 3s 44ms/step - loss: 0.0054 - accuracy: 0.9980 - val_loss: 0.3814 - val_accuracy: 0.9086\n",
            "Epoch 13/100\n",
            "79/79 [==============================] - 3s 44ms/step - loss: 0.0160 - accuracy: 0.9956 - val_loss: 0.3579 - val_accuracy: 0.8629\n",
            "Epoch 14/100\n",
            "79/79 [==============================] - 3s 44ms/step - loss: 0.0101 - accuracy: 0.9964 - val_loss: 0.2311 - val_accuracy: 0.9140\n",
            "Epoch 15/100\n",
            "79/79 [==============================] - 3s 44ms/step - loss: 0.0139 - accuracy: 0.9956 - val_loss: 0.5656 - val_accuracy: 0.9032\n",
            "Epoch 16/100\n",
            "79/79 [==============================] - 3s 43ms/step - loss: 0.0078 - accuracy: 0.9976 - val_loss: 0.4482 - val_accuracy: 0.8844\n",
            "Epoch 17/100\n",
            "79/79 [==============================] - 3s 44ms/step - loss: 9.3299e-04 - accuracy: 1.0000 - val_loss: 0.3668 - val_accuracy: 0.9113\n",
            "Epoch 18/100\n",
            "79/79 [==============================] - 3s 44ms/step - loss: 8.7357e-04 - accuracy: 1.0000 - val_loss: 0.4417 - val_accuracy: 0.9059\n",
            "Epoch 19/100\n",
            "79/79 [==============================] - 4s 45ms/step - loss: 0.0012 - accuracy: 0.9996 - val_loss: 0.4201 - val_accuracy: 0.9059\n",
            "Epoch 20/100\n",
            "79/79 [==============================] - 3s 44ms/step - loss: 0.0067 - accuracy: 0.9980 - val_loss: 0.5642 - val_accuracy: 0.8978\n",
            "Epoch 21/100\n",
            "79/79 [==============================] - 3s 44ms/step - loss: 0.0091 - accuracy: 0.9968 - val_loss: 0.5563 - val_accuracy: 0.8468\n",
            "Epoch 22/100\n",
            "79/79 [==============================] - 3s 44ms/step - loss: 0.0066 - accuracy: 0.9976 - val_loss: 0.5345 - val_accuracy: 0.8898\n",
            "Epoch 23/100\n",
            "79/79 [==============================] - 3s 44ms/step - loss: 1.7065e-04 - accuracy: 1.0000 - val_loss: 0.5317 - val_accuracy: 0.9086\n",
            "Epoch 24/100\n",
            "79/79 [==============================] - 3s 44ms/step - loss: 0.0029 - accuracy: 0.9984 - val_loss: 0.8930 - val_accuracy: 0.8656\n",
            "Epoch 25/100\n",
            "79/79 [==============================] - 3s 44ms/step - loss: 3.3438e-04 - accuracy: 1.0000 - val_loss: 0.7954 - val_accuracy: 0.8710\n",
            "Epoch 26/100\n",
            "79/79 [==============================] - 3s 44ms/step - loss: 0.0027 - accuracy: 0.9988 - val_loss: 0.9115 - val_accuracy: 0.8387\n",
            "Epoch 27/100\n",
            "79/79 [==============================] - 3s 44ms/step - loss: 5.7063e-04 - accuracy: 1.0000 - val_loss: 0.8481 - val_accuracy: 0.8817\n",
            "Epoch 28/100\n",
            "79/79 [==============================] - 3s 44ms/step - loss: 0.0056 - accuracy: 0.9984 - val_loss: 0.7411 - val_accuracy: 0.8548\n",
            "Epoch 29/100\n",
            "79/79 [==============================] - 3s 44ms/step - loss: 0.0174 - accuracy: 0.9940 - val_loss: 0.5403 - val_accuracy: 0.8333\n",
            "Epoch 30/100\n",
            "79/79 [==============================] - 3s 43ms/step - loss: 0.0011 - accuracy: 1.0000 - val_loss: 0.9787 - val_accuracy: 0.8306\n",
            "Epoch 31/100\n",
            "79/79 [==============================] - 3s 44ms/step - loss: 0.0053 - accuracy: 0.9984 - val_loss: 0.8647 - val_accuracy: 0.8226\n",
            "Epoch 32/100\n",
            "79/79 [==============================] - 3s 44ms/step - loss: 0.0060 - accuracy: 0.9984 - val_loss: 1.0140 - val_accuracy: 0.7876\n",
            "Epoch 33/100\n",
            "79/79 [==============================] - 3s 44ms/step - loss: 4.3895e-04 - accuracy: 1.0000 - val_loss: 1.0214 - val_accuracy: 0.8414\n",
            "Epoch 34/100\n",
            "79/79 [==============================] - 3s 44ms/step - loss: 8.8847e-04 - accuracy: 0.9996 - val_loss: 1.1969 - val_accuracy: 0.8387\n",
            "Epoch 35/100\n",
            "79/79 [==============================] - 3s 43ms/step - loss: 0.0024 - accuracy: 0.9992 - val_loss: 1.1236 - val_accuracy: 0.8280\n",
            "Epoch 36/100\n",
            "79/79 [==============================] - 3s 43ms/step - loss: 8.8629e-04 - accuracy: 0.9996 - val_loss: 1.1967 - val_accuracy: 0.8441\n",
            "Epoch 37/100\n",
            "79/79 [==============================] - 3s 43ms/step - loss: 0.0011 - accuracy: 0.9992 - val_loss: 1.0197 - val_accuracy: 0.8306\n",
            "Epoch 38/100\n",
            "79/79 [==============================] - 3s 43ms/step - loss: 0.0044 - accuracy: 0.9988 - val_loss: 0.8703 - val_accuracy: 0.8280\n",
            "Epoch 39/100\n",
            "79/79 [==============================] - 3s 43ms/step - loss: 0.0034 - accuracy: 0.9992 - val_loss: 1.6675 - val_accuracy: 0.8280\n",
            "Epoch 40/100\n",
            "79/79 [==============================] - 3s 44ms/step - loss: 0.0021 - accuracy: 0.9996 - val_loss: 0.9598 - val_accuracy: 0.8387\n",
            "Epoch 41/100\n",
            "79/79 [==============================] - 3s 44ms/step - loss: 8.5362e-04 - accuracy: 0.9996 - val_loss: 1.3594 - val_accuracy: 0.8495\n",
            "Epoch 42/100\n",
            "79/79 [==============================] - 3s 43ms/step - loss: 0.0102 - accuracy: 0.9960 - val_loss: 1.9815 - val_accuracy: 0.8333\n",
            "Epoch 43/100\n",
            "79/79 [==============================] - 3s 44ms/step - loss: 2.7395e-04 - accuracy: 1.0000 - val_loss: 2.3949 - val_accuracy: 0.8199\n",
            "Epoch 44/100\n",
            "79/79 [==============================] - 3s 43ms/step - loss: 0.0060 - accuracy: 0.9984 - val_loss: 1.6679 - val_accuracy: 0.8226\n",
            "Epoch 45/100\n",
            "79/79 [==============================] - 3s 43ms/step - loss: 1.5681e-04 - accuracy: 1.0000 - val_loss: 1.6794 - val_accuracy: 0.8414\n",
            "Epoch 46/100\n",
            "79/79 [==============================] - 3s 44ms/step - loss: 9.6886e-04 - accuracy: 0.9996 - val_loss: 1.6264 - val_accuracy: 0.8280\n",
            "Epoch 47/100\n",
            "79/79 [==============================] - 3s 43ms/step - loss: 0.0129 - accuracy: 0.9968 - val_loss: 2.4134 - val_accuracy: 0.7796\n",
            "Epoch 48/100\n",
            "79/79 [==============================] - 3s 44ms/step - loss: 0.0146 - accuracy: 0.9964 - val_loss: 1.9942 - val_accuracy: 0.7823\n",
            "Epoch 49/100\n",
            "79/79 [==============================] - 3s 43ms/step - loss: 0.0034 - accuracy: 0.9992 - val_loss: 1.9415 - val_accuracy: 0.7796\n",
            "Epoch 50/100\n",
            "79/79 [==============================] - 3s 44ms/step - loss: 0.0123 - accuracy: 0.9972 - val_loss: 2.8315 - val_accuracy: 0.8306\n",
            "Epoch 51/100\n",
            "79/79 [==============================] - 3s 44ms/step - loss: 4.8038e-04 - accuracy: 0.9996 - val_loss: 2.9012 - val_accuracy: 0.8333\n",
            "Epoch 52/100\n",
            "79/79 [==============================] - 3s 43ms/step - loss: 0.0333 - accuracy: 0.9944 - val_loss: 0.9030 - val_accuracy: 0.8414\n",
            "Epoch 53/100\n",
            "79/79 [==============================] - 3s 44ms/step - loss: 0.0090 - accuracy: 0.9980 - val_loss: 1.3191 - val_accuracy: 0.8468\n",
            "Epoch 54/100\n",
            "79/79 [==============================] - 3s 44ms/step - loss: 0.0049 - accuracy: 0.9992 - val_loss: 1.9021 - val_accuracy: 0.8199\n",
            "Epoch 55/100\n",
            "79/79 [==============================] - 3s 43ms/step - loss: 0.0043 - accuracy: 0.9992 - val_loss: 1.0657 - val_accuracy: 0.8253\n",
            "Epoch 56/100\n",
            "79/79 [==============================] - 3s 43ms/step - loss: 0.0014 - accuracy: 0.9992 - val_loss: 1.0651 - val_accuracy: 0.8306\n",
            "Epoch 57/100\n",
            "79/79 [==============================] - 3s 43ms/step - loss: 1.4494e-04 - accuracy: 1.0000 - val_loss: 1.1192 - val_accuracy: 0.8414\n",
            "Epoch 58/100\n",
            "79/79 [==============================] - 3s 43ms/step - loss: 0.0039 - accuracy: 0.9992 - val_loss: 0.7619 - val_accuracy: 0.8441\n",
            "Epoch 59/100\n",
            "79/79 [==============================] - 3s 44ms/step - loss: 0.0012 - accuracy: 0.9992 - val_loss: 1.0730 - val_accuracy: 0.8602\n",
            "Epoch 60/100\n",
            "79/79 [==============================] - 3s 43ms/step - loss: 2.9711e-04 - accuracy: 1.0000 - val_loss: 0.9528 - val_accuracy: 0.8602\n",
            "Epoch 61/100\n",
            "79/79 [==============================] - 3s 44ms/step - loss: 0.0012 - accuracy: 0.9996 - val_loss: 1.0390 - val_accuracy: 0.8414\n",
            "Epoch 62/100\n",
            "79/79 [==============================] - 3s 44ms/step - loss: 9.1586e-04 - accuracy: 0.9992 - val_loss: 1.2430 - val_accuracy: 0.8387\n",
            "Epoch 63/100\n",
            "79/79 [==============================] - 3s 44ms/step - loss: 1.4971e-04 - accuracy: 1.0000 - val_loss: 1.2803 - val_accuracy: 0.8468\n",
            "Epoch 64/100\n",
            "79/79 [==============================] - 3s 43ms/step - loss: 0.0041 - accuracy: 0.9984 - val_loss: 1.0701 - val_accuracy: 0.8522\n",
            "Epoch 65/100\n",
            "79/79 [==============================] - 3s 43ms/step - loss: 1.6052e-04 - accuracy: 1.0000 - val_loss: 1.0009 - val_accuracy: 0.8522\n",
            "Epoch 66/100\n",
            "79/79 [==============================] - 3s 43ms/step - loss: 0.0016 - accuracy: 0.9992 - val_loss: 1.3778 - val_accuracy: 0.8522\n",
            "Epoch 67/100\n",
            "79/79 [==============================] - 3s 44ms/step - loss: 0.0093 - accuracy: 0.9960 - val_loss: 2.1775 - val_accuracy: 0.8306\n",
            "Epoch 68/100\n",
            "79/79 [==============================] - 3s 43ms/step - loss: 0.0024 - accuracy: 0.9996 - val_loss: 1.9192 - val_accuracy: 0.8387\n",
            "Epoch 69/100\n",
            "79/79 [==============================] - 3s 43ms/step - loss: 0.0031 - accuracy: 0.9996 - val_loss: 0.8396 - val_accuracy: 0.8548\n",
            "Epoch 70/100\n",
            "79/79 [==============================] - 3s 43ms/step - loss: 1.9985e-04 - accuracy: 1.0000 - val_loss: 1.3953 - val_accuracy: 0.8360\n",
            "Epoch 71/100\n",
            "79/79 [==============================] - 3s 43ms/step - loss: 4.3655e-05 - accuracy: 1.0000 - val_loss: 1.4909 - val_accuracy: 0.8360\n",
            "Epoch 72/100\n",
            "79/79 [==============================] - 3s 43ms/step - loss: 1.2894e-04 - accuracy: 1.0000 - val_loss: 1.4472 - val_accuracy: 0.8306\n",
            "Epoch 73/100\n",
            "79/79 [==============================] - 3s 43ms/step - loss: 6.5416e-06 - accuracy: 1.0000 - val_loss: 1.4565 - val_accuracy: 0.8306\n",
            "Epoch 74/100\n",
            "79/79 [==============================] - 3s 43ms/step - loss: 1.3849e-05 - accuracy: 1.0000 - val_loss: 1.4598 - val_accuracy: 0.8387\n",
            "Epoch 75/100\n",
            "79/79 [==============================] - 3s 44ms/step - loss: 5.7583e-05 - accuracy: 1.0000 - val_loss: 1.6567 - val_accuracy: 0.8387\n",
            "Epoch 76/100\n",
            "79/79 [==============================] - 3s 43ms/step - loss: 4.5899e-04 - accuracy: 0.9996 - val_loss: 1.1382 - val_accuracy: 0.8548\n",
            "Epoch 77/100\n",
            "79/79 [==============================] - 3s 44ms/step - loss: 4.5741e-04 - accuracy: 0.9996 - val_loss: 1.5025 - val_accuracy: 0.8575\n",
            "Epoch 78/100\n",
            "79/79 [==============================] - 3s 44ms/step - loss: 5.8750e-05 - accuracy: 1.0000 - val_loss: 1.6944 - val_accuracy: 0.8602\n",
            "Epoch 79/100\n",
            "79/79 [==============================] - 3s 43ms/step - loss: 1.5143e-05 - accuracy: 1.0000 - val_loss: 1.6242 - val_accuracy: 0.8602\n",
            "Epoch 80/100\n",
            "79/79 [==============================] - 3s 43ms/step - loss: 3.2386e-04 - accuracy: 1.0000 - val_loss: 1.4017 - val_accuracy: 0.8656\n",
            "Epoch 81/100\n",
            "79/79 [==============================] - 3s 43ms/step - loss: 1.3583e-04 - accuracy: 1.0000 - val_loss: 1.0932 - val_accuracy: 0.8817\n",
            "Epoch 82/100\n",
            "79/79 [==============================] - 3s 44ms/step - loss: 7.5049e-05 - accuracy: 1.0000 - val_loss: 1.2025 - val_accuracy: 0.8817\n",
            "Epoch 83/100\n",
            "79/79 [==============================] - 3s 43ms/step - loss: 4.4600e-06 - accuracy: 1.0000 - val_loss: 1.2131 - val_accuracy: 0.8817\n",
            "Epoch 84/100\n",
            "79/79 [==============================] - 3s 43ms/step - loss: 1.3734e-04 - accuracy: 1.0000 - val_loss: 1.6408 - val_accuracy: 0.8468\n",
            "Epoch 85/100\n",
            "79/79 [==============================] - 3s 43ms/step - loss: 2.7814e-05 - accuracy: 1.0000 - val_loss: 1.7856 - val_accuracy: 0.8387\n",
            "Epoch 86/100\n",
            "79/79 [==============================] - 3s 43ms/step - loss: 0.0023 - accuracy: 0.9996 - val_loss: 2.2267 - val_accuracy: 0.8306\n",
            "Epoch 87/100\n",
            "79/79 [==============================] - 3s 43ms/step - loss: 3.7939e-05 - accuracy: 1.0000 - val_loss: 1.9263 - val_accuracy: 0.8360\n",
            "Epoch 88/100\n",
            "79/79 [==============================] - 3s 44ms/step - loss: 5.5787e-05 - accuracy: 1.0000 - val_loss: 1.9766 - val_accuracy: 0.8280\n",
            "Epoch 89/100\n",
            "79/79 [==============================] - 3s 44ms/step - loss: 1.0037e-05 - accuracy: 1.0000 - val_loss: 1.8167 - val_accuracy: 0.8333\n",
            "Epoch 90/100\n",
            "79/79 [==============================] - 3s 43ms/step - loss: 6.4576e-06 - accuracy: 1.0000 - val_loss: 1.8620 - val_accuracy: 0.8333\n",
            "Epoch 91/100\n",
            "79/79 [==============================] - 3s 43ms/step - loss: 1.8199e-05 - accuracy: 1.0000 - val_loss: 1.8943 - val_accuracy: 0.8333\n",
            "Epoch 92/100\n",
            "79/79 [==============================] - 3s 43ms/step - loss: 2.7354e-05 - accuracy: 1.0000 - val_loss: 1.8978 - val_accuracy: 0.8333\n",
            "Epoch 93/100\n",
            "79/79 [==============================] - 3s 44ms/step - loss: 4.9480e-06 - accuracy: 1.0000 - val_loss: 1.9227 - val_accuracy: 0.8360\n",
            "Epoch 94/100\n",
            "79/79 [==============================] - 3s 43ms/step - loss: 1.8753e-05 - accuracy: 1.0000 - val_loss: 2.0444 - val_accuracy: 0.8253\n",
            "Epoch 95/100\n",
            "79/79 [==============================] - 3s 44ms/step - loss: 1.0034e-06 - accuracy: 1.0000 - val_loss: 2.0610 - val_accuracy: 0.8253\n",
            "Epoch 96/100\n",
            "79/79 [==============================] - 3s 44ms/step - loss: 1.4674e-04 - accuracy: 1.0000 - val_loss: 2.3097 - val_accuracy: 0.8226\n",
            "Epoch 97/100\n",
            "79/79 [==============================] - 3s 44ms/step - loss: 7.9554e-04 - accuracy: 0.9996 - val_loss: 1.7874 - val_accuracy: 0.8468\n",
            "Epoch 98/100\n",
            "79/79 [==============================] - 3s 44ms/step - loss: 0.0073 - accuracy: 0.9988 - val_loss: 3.4836 - val_accuracy: 0.8441\n",
            "Epoch 99/100\n",
            "79/79 [==============================] - 3s 43ms/step - loss: 0.1687 - accuracy: 0.9901 - val_loss: 1.6768 - val_accuracy: 0.8468\n",
            "Epoch 100/100\n",
            "79/79 [==============================] - 3s 43ms/step - loss: 0.0250 - accuracy: 0.9976 - val_loss: 1.1648 - val_accuracy: 0.7984\n"
          ],
          "name": "stdout"
        }
      ]
    },
    {
      "cell_type": "code",
      "metadata": {
        "id": "qevpJMbYfchs",
        "colab_type": "code",
        "colab": {
          "base_uri": "https://localhost:8080/",
          "height": 52
        },
        "outputId": "2e430ac6-b48d-48b7-d69c-a52da6c444af"
      },
      "source": [
        "model.evaluate(dataset_test)"
      ],
      "execution_count": 14,
      "outputs": [
        {
          "output_type": "stream",
          "text": [
            "12/12 [==============================] - 1s 65ms/step - loss: 1.1648 - accuracy: 0.7984\n"
          ],
          "name": "stdout"
        },
        {
          "output_type": "execute_result",
          "data": {
            "text/plain": [
              "[1.1647741794586182, 0.7983871102333069]"
            ]
          },
          "metadata": {
            "tags": []
          },
          "execution_count": 14
        }
      ]
    },
    {
      "cell_type": "markdown",
      "metadata": {
        "id": "-xRKY5zQj-eD",
        "colab_type": "text"
      },
      "source": [
        "Accuracy = 79.84%\n",
        "\n",
        "이렇게 정확도가 나오기는 했으나 keras.fit의 과정에서 callback에 저장할 값을 정의해서 early_stopping_callback을 설정해주거나\n",
        "훈련과 학습 데이터를 만드는 과정에서 data augmentation을 해 주었다면 훨씬 더 정확도가 높게 나왔을 것으로 생각이 된다."
      ]
    },
    {
      "cell_type": "code",
      "metadata": {
        "id": "VLfm2w4Rj9NY",
        "colab_type": "code",
        "colab": {}
      },
      "source": [
        ""
      ],
      "execution_count": null,
      "outputs": []
    }
  ]
}