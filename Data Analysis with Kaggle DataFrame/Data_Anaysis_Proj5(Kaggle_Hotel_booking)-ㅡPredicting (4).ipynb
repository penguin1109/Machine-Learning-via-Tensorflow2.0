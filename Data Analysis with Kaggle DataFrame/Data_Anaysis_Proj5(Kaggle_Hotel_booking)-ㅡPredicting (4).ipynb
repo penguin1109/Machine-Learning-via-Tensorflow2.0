{
 "cells": [
  {
   "cell_type": "markdown",
   "metadata": {},
   "source": [
    "# Hotel_Booking_Dataset_Analysis"
   ]
  },
  {
   "cell_type": "code",
   "execution_count": 3,
   "metadata": {},
   "outputs": [],
   "source": [
    "import tensorflow as tf\n",
    "import numpy as np\n",
    "import pandas as pd\n",
    "import os"
   ]
  },
  {
   "cell_type": "code",
   "execution_count": 43,
   "metadata": {
    "scrolled": true
   },
   "outputs": [
    {
     "data": {
      "text/html": [
       "<div>\n",
       "<style scoped>\n",
       "    .dataframe tbody tr th:only-of-type {\n",
       "        vertical-align: middle;\n",
       "    }\n",
       "\n",
       "    .dataframe tbody tr th {\n",
       "        vertical-align: top;\n",
       "    }\n",
       "\n",
       "    .dataframe thead th {\n",
       "        text-align: right;\n",
       "    }\n",
       "</style>\n",
       "<table border=\"1\" class=\"dataframe\">\n",
       "  <thead>\n",
       "    <tr style=\"text-align: right;\">\n",
       "      <th></th>\n",
       "      <th>hotel</th>\n",
       "      <th>is_canceled</th>\n",
       "      <th>lead_time</th>\n",
       "      <th>arrival_date_year</th>\n",
       "      <th>arrival_date_month</th>\n",
       "      <th>arrival_date_week_number</th>\n",
       "      <th>arrival_date_day_of_month</th>\n",
       "      <th>stays_in_weekend_nights</th>\n",
       "      <th>stays_in_week_nights</th>\n",
       "      <th>adults</th>\n",
       "      <th>...</th>\n",
       "      <th>deposit_type</th>\n",
       "      <th>agent</th>\n",
       "      <th>company</th>\n",
       "      <th>days_in_waiting_list</th>\n",
       "      <th>customer_type</th>\n",
       "      <th>adr</th>\n",
       "      <th>required_car_parking_spaces</th>\n",
       "      <th>total_of_special_requests</th>\n",
       "      <th>reservation_status</th>\n",
       "      <th>reservation_status_date</th>\n",
       "    </tr>\n",
       "  </thead>\n",
       "  <tbody>\n",
       "    <tr>\n",
       "      <th>0</th>\n",
       "      <td>Resort Hotel</td>\n",
       "      <td>0</td>\n",
       "      <td>342</td>\n",
       "      <td>2015</td>\n",
       "      <td>July</td>\n",
       "      <td>27</td>\n",
       "      <td>1</td>\n",
       "      <td>0</td>\n",
       "      <td>0</td>\n",
       "      <td>2</td>\n",
       "      <td>...</td>\n",
       "      <td>No Deposit</td>\n",
       "      <td>NaN</td>\n",
       "      <td>NaN</td>\n",
       "      <td>0</td>\n",
       "      <td>Transient</td>\n",
       "      <td>0.0</td>\n",
       "      <td>0</td>\n",
       "      <td>0</td>\n",
       "      <td>Check-Out</td>\n",
       "      <td>2015-07-01</td>\n",
       "    </tr>\n",
       "    <tr>\n",
       "      <th>1</th>\n",
       "      <td>Resort Hotel</td>\n",
       "      <td>0</td>\n",
       "      <td>737</td>\n",
       "      <td>2015</td>\n",
       "      <td>July</td>\n",
       "      <td>27</td>\n",
       "      <td>1</td>\n",
       "      <td>0</td>\n",
       "      <td>0</td>\n",
       "      <td>2</td>\n",
       "      <td>...</td>\n",
       "      <td>No Deposit</td>\n",
       "      <td>NaN</td>\n",
       "      <td>NaN</td>\n",
       "      <td>0</td>\n",
       "      <td>Transient</td>\n",
       "      <td>0.0</td>\n",
       "      <td>0</td>\n",
       "      <td>0</td>\n",
       "      <td>Check-Out</td>\n",
       "      <td>2015-07-01</td>\n",
       "    </tr>\n",
       "    <tr>\n",
       "      <th>2</th>\n",
       "      <td>Resort Hotel</td>\n",
       "      <td>0</td>\n",
       "      <td>7</td>\n",
       "      <td>2015</td>\n",
       "      <td>July</td>\n",
       "      <td>27</td>\n",
       "      <td>1</td>\n",
       "      <td>0</td>\n",
       "      <td>1</td>\n",
       "      <td>1</td>\n",
       "      <td>...</td>\n",
       "      <td>No Deposit</td>\n",
       "      <td>NaN</td>\n",
       "      <td>NaN</td>\n",
       "      <td>0</td>\n",
       "      <td>Transient</td>\n",
       "      <td>75.0</td>\n",
       "      <td>0</td>\n",
       "      <td>0</td>\n",
       "      <td>Check-Out</td>\n",
       "      <td>2015-07-02</td>\n",
       "    </tr>\n",
       "    <tr>\n",
       "      <th>3</th>\n",
       "      <td>Resort Hotel</td>\n",
       "      <td>0</td>\n",
       "      <td>13</td>\n",
       "      <td>2015</td>\n",
       "      <td>July</td>\n",
       "      <td>27</td>\n",
       "      <td>1</td>\n",
       "      <td>0</td>\n",
       "      <td>1</td>\n",
       "      <td>1</td>\n",
       "      <td>...</td>\n",
       "      <td>No Deposit</td>\n",
       "      <td>304.0</td>\n",
       "      <td>NaN</td>\n",
       "      <td>0</td>\n",
       "      <td>Transient</td>\n",
       "      <td>75.0</td>\n",
       "      <td>0</td>\n",
       "      <td>0</td>\n",
       "      <td>Check-Out</td>\n",
       "      <td>2015-07-02</td>\n",
       "    </tr>\n",
       "    <tr>\n",
       "      <th>4</th>\n",
       "      <td>Resort Hotel</td>\n",
       "      <td>0</td>\n",
       "      <td>14</td>\n",
       "      <td>2015</td>\n",
       "      <td>July</td>\n",
       "      <td>27</td>\n",
       "      <td>1</td>\n",
       "      <td>0</td>\n",
       "      <td>2</td>\n",
       "      <td>2</td>\n",
       "      <td>...</td>\n",
       "      <td>No Deposit</td>\n",
       "      <td>240.0</td>\n",
       "      <td>NaN</td>\n",
       "      <td>0</td>\n",
       "      <td>Transient</td>\n",
       "      <td>98.0</td>\n",
       "      <td>0</td>\n",
       "      <td>1</td>\n",
       "      <td>Check-Out</td>\n",
       "      <td>2015-07-03</td>\n",
       "    </tr>\n",
       "  </tbody>\n",
       "</table>\n",
       "<p>5 rows × 32 columns</p>\n",
       "</div>"
      ],
      "text/plain": [
       "          hotel  is_canceled  lead_time  arrival_date_year arrival_date_month  \\\n",
       "0  Resort Hotel            0        342               2015               July   \n",
       "1  Resort Hotel            0        737               2015               July   \n",
       "2  Resort Hotel            0          7               2015               July   \n",
       "3  Resort Hotel            0         13               2015               July   \n",
       "4  Resort Hotel            0         14               2015               July   \n",
       "\n",
       "   arrival_date_week_number  arrival_date_day_of_month  \\\n",
       "0                        27                          1   \n",
       "1                        27                          1   \n",
       "2                        27                          1   \n",
       "3                        27                          1   \n",
       "4                        27                          1   \n",
       "\n",
       "   stays_in_weekend_nights  stays_in_week_nights  adults  ...  deposit_type  \\\n",
       "0                        0                     0       2  ...    No Deposit   \n",
       "1                        0                     0       2  ...    No Deposit   \n",
       "2                        0                     1       1  ...    No Deposit   \n",
       "3                        0                     1       1  ...    No Deposit   \n",
       "4                        0                     2       2  ...    No Deposit   \n",
       "\n",
       "   agent company days_in_waiting_list customer_type   adr  \\\n",
       "0    NaN     NaN                    0     Transient   0.0   \n",
       "1    NaN     NaN                    0     Transient   0.0   \n",
       "2    NaN     NaN                    0     Transient  75.0   \n",
       "3  304.0     NaN                    0     Transient  75.0   \n",
       "4  240.0     NaN                    0     Transient  98.0   \n",
       "\n",
       "   required_car_parking_spaces  total_of_special_requests  reservation_status  \\\n",
       "0                            0                          0           Check-Out   \n",
       "1                            0                          0           Check-Out   \n",
       "2                            0                          0           Check-Out   \n",
       "3                            0                          0           Check-Out   \n",
       "4                            0                          1           Check-Out   \n",
       "\n",
       "  reservation_status_date  \n",
       "0              2015-07-01  \n",
       "1              2015-07-01  \n",
       "2              2015-07-02  \n",
       "3              2015-07-02  \n",
       "4              2015-07-03  \n",
       "\n",
       "[5 rows x 32 columns]"
      ]
     },
     "execution_count": 43,
     "metadata": {},
     "output_type": "execute_result"
    }
   ],
   "source": [
    "hotel_data = pd.read_csv(\"C:/hotel booking/hotel_bookings.csv\")\n",
    "hotel_data.head()"
   ]
  },
  {
   "cell_type": "markdown",
   "metadata": {},
   "source": [
    "이런 csv형태의 데이터는 데이터의 구조상에 있어서 빈틈을 없애주는 등의 과정이 매우 중요하다.\n",
    "\n",
    "예를 들면 다른 데이터보다 개수가 적거나 NaN의 형태로 구성되어있는 부분들은 없애주어야 한다."
   ]
  },
  {
   "cell_type": "code",
   "execution_count": 91,
   "metadata": {},
   "outputs": [
    {
     "name": "stdout",
     "output_type": "stream",
     "text": [
      "Nan in each columns\n",
      "hotel                                  0\n",
      "is_canceled                            0\n",
      "lead_time                              0\n",
      "arrival_date_year                      0\n",
      "arrival_date_month                     0\n",
      "arrival_date_week_number               0\n",
      "arrival_date_day_of_month              0\n",
      "stays_in_weekend_nights                0\n",
      "stays_in_week_nights                   0\n",
      "adults                                 0\n",
      "children                               4\n",
      "babies                                 0\n",
      "meal                                   0\n",
      "country                              488\n",
      "market_segment                         0\n",
      "distribution_channel                   0\n",
      "is_repeated_guest                      0\n",
      "previous_cancellations                 0\n",
      "previous_bookings_not_canceled         0\n",
      "reserved_room_type                     0\n",
      "assigned_room_type                     0\n",
      "booking_changes                        0\n",
      "deposit_type                           0\n",
      "agent                              16340\n",
      "company                           112593\n",
      "days_in_waiting_list                   0\n",
      "customer_type                          0\n",
      "adr                                    0\n",
      "required_car_parking_spaces            0\n",
      "total_of_special_requests              0\n",
      "reservation_status                     0\n",
      "reservation_status_date                0\n",
      "dtype: int64\n"
     ]
    }
   ],
   "source": [
    "print(\"Nan in each columns\" , hotel_data.isna().sum(), sep='\\n')"
   ]
  },
  {
   "cell_type": "markdown",
   "metadata": {},
   "source": [
    "country, agent, company의 정보에 비어있는 정보가 각각 488, 16340, 112593개씩 존재하는데, 이중에서 제일 정보 부족의 개수가 많은 company의 정보를 .drop()을 이용해 데이터에서 제거하고자 한다."
   ]
  },
  {
   "cell_type": "code",
   "execution_count": 44,
   "metadata": {
    "scrolled": true
   },
   "outputs": [],
   "source": [
    "hotel_data = hotel_data.drop(['company'], axis = 1)\n",
    "hotel_data = hotel_data.dropna(axis = 0)"
   ]
  },
  {
   "cell_type": "markdown",
   "metadata": {},
   "source": [
    "이제 하나의 행이 제거되었으니 총 31개의 행이 남아있는데, .unique() 함수를 이용하면 숫자형 범주의 데이터가 아닌 경우에 데이터의 구성을 보여준다. 이 값들을 숫자형으로 바꾸어주는 방법에는 대표적으로 2개가 존재하는데, 예를 들면 'hotel'의 데이터의 City Hotel을 1로, Resort Hotel을 0으로 바꿔주고자 할 때\n",
    "1. hotel_data['hotel'] = hotel_data['hotel'].map({'Resort Hotel':0, 'City Hotel':1})\n",
    "\n",
    "\n",
    "2. from sklearn import preprocessing\n",
    "\n",
    "   label_encoder = preprocessing.LabelEncoder() \n",
    "   \n",
    "   hotel_data['hotel'] = label_encoder.fit_transform(hotel_data['hotel'])\n",
    "   \n",
    "이 두가지 방법이 존재한다.\n",
    "   "
   ]
  },
  {
   "cell_type": "code",
   "execution_count": 15,
   "metadata": {},
   "outputs": [],
   "source": [
    "from sklearn import preprocessing\n",
    "label_encoder = preprocessing.LabelEncoder()\n",
    "\n",
    "hotel_data['hotel'] = label_encoder.fit_transform(hotel_data['hotel'])\n",
    "hotel_data['customer_type']= label_encoder.fit_transform(hotel_data['customer_type']) \n",
    "hotel_data['assigned_room_type'] = label_encoder.fit_transform(hotel_data['assigned_room_type'])\n",
    "hotel_data['deposit_type'] = label_encoder.fit_transform(hotel_data['deposit_type'])\n",
    "hotel_data['reservation_status'] = label_encoder.fit_transform(hotel_data['reservation_status'])\n",
    "hotel_data['meal'] = label_encoder.fit_transform(hotel_data['meal'])\n",
    "hotel_data['country'] = label_encoder.fit_transform(hotel_data['country'])\n",
    "hotel_data['distribution_channel'] = label_encoder.fit_transform(hotel_data['distribution_channel'])\n",
    "hotel_data['market_segment'] = label_encoder.fit_transform(hotel_data['market_segment'])\n",
    "hotel_data['reserved_room_type'] = label_encoder.fit_transform(hotel_data['reserved_room_type'])\n",
    "hotel_data['reservation_status_date'] = label_encoder.fit_transform(hotel_data['reservation_status_date'])\n",
    "hotel_data['arrival_date_month'] = label_encoder.fit_transform(hotel_data['arrival_date_month'])"
   ]
  },
  {
   "cell_type": "markdown",
   "metadata": {},
   "source": [
    "일일히 이렇게 해주는 것이 좀 귀찮기는 했는데 for문을 이용해서 구하려고 해도 뾰족한 방법이 떠오르지가 않았다."
   ]
  },
  {
   "cell_type": "code",
   "execution_count": 94,
   "metadata": {},
   "outputs": [
    {
     "name": "stdout",
     "output_type": "stream",
     "text": [
      "<class 'pandas.core.frame.DataFrame'>\n",
      "Int64Index: 102894 entries, 3 to 119389\n",
      "Data columns (total 31 columns):\n",
      " #   Column                          Non-Null Count   Dtype  \n",
      "---  ------                          --------------   -----  \n",
      " 0   hotel                           102894 non-null  int32  \n",
      " 1   is_canceled                     102894 non-null  int64  \n",
      " 2   lead_time                       102894 non-null  int64  \n",
      " 3   arrival_date_year               102894 non-null  int64  \n",
      " 4   arrival_date_month              102894 non-null  int32  \n",
      " 5   arrival_date_week_number        102894 non-null  int64  \n",
      " 6   arrival_date_day_of_month       102894 non-null  int64  \n",
      " 7   stays_in_weekend_nights         102894 non-null  int64  \n",
      " 8   stays_in_week_nights            102894 non-null  int64  \n",
      " 9   adults                          102894 non-null  int64  \n",
      " 10  children                        102894 non-null  float64\n",
      " 11  babies                          102894 non-null  int64  \n",
      " 12  meal                            102894 non-null  int32  \n",
      " 13  country                         102894 non-null  int32  \n",
      " 14  market_segment                  102894 non-null  int32  \n",
      " 15  distribution_channel            102894 non-null  int32  \n",
      " 16  is_repeated_guest               102894 non-null  int64  \n",
      " 17  previous_cancellations          102894 non-null  int64  \n",
      " 18  previous_bookings_not_canceled  102894 non-null  int64  \n",
      " 19  reserved_room_type              102894 non-null  int32  \n",
      " 20  assigned_room_type              102894 non-null  int32  \n",
      " 21  booking_changes                 102894 non-null  int64  \n",
      " 22  deposit_type                    102894 non-null  int32  \n",
      " 23  agent                           102894 non-null  float64\n",
      " 24  days_in_waiting_list            102894 non-null  int64  \n",
      " 25  customer_type                   102894 non-null  int32  \n",
      " 26  adr                             102894 non-null  float64\n",
      " 27  required_car_parking_spaces     102894 non-null  int64  \n",
      " 28  total_of_special_requests       102894 non-null  int64  \n",
      " 29  reservation_status              102894 non-null  int32  \n",
      " 30  reservation_status_date         102894 non-null  int32  \n",
      "dtypes: float64(3), int32(12), int64(16)\n",
      "memory usage: 20.4 MB\n"
     ]
    }
   ],
   "source": [
    "hotel_data.info()"
   ]
  },
  {
   "cell_type": "code",
   "execution_count": 95,
   "metadata": {},
   "outputs": [
    {
     "data": {
      "text/plain": [
       "0    71181\n",
       "1    31713\n",
       "Name: hotel, dtype: int64"
      ]
     },
     "execution_count": 95,
     "metadata": {},
     "output_type": "execute_result"
    }
   ],
   "source": [
    "hotel_data['is_canceled'].value_counts()\n",
    "hotel_data['hotel'].value_counts()"
   ]
  },
  {
   "cell_type": "markdown",
   "metadata": {},
   "source": [
    "#### 0. 훈련 개요"
   ]
  },
  {
   "cell_type": "markdown",
   "metadata": {},
   "source": [
    "이 데이터는 미국의 hotel booking과 관련된 데이터이다.\n",
    "\n",
    "이번 데이터를 분석하는 목적은 kaggle에서 task로 선정된 부분에 대한 답을 찾기 위해서인데, 특정 신청자의 정보가 주어졌을 때 이 사람이 예약을 취소 할지 안할지의 여부를 예측하는 것이 목적이다.\n",
    "\n",
    "따라서 분류 class가 0(취소), 1(취소안함)으로 2개로 나누어지게 될것이기 때문에 지도 학습을 통해 '분류'모델을 사용하면 될 것이다.\n",
    "\n",
    "1. logistic regression, Linear Regression, Lasso, Ridge의 4가지 분류기로 학습을 시킨 뒤에 ensemble의 한 종류인 VotingClassifier로 예측을 하고,\n",
    "\n",
    "2. 두번째로는 신경망의 기본 중 하나인 DNN으로 학습을 시켜 두 방법의 정확도를 비교해 보고자 한다.\n",
    "\n",
    "다양한 정보들이 제공되는데, 이중 상관 계수가 높은 정보들만을 골라서 학습에 사용할 것이기 때문에 우선 정보들과 취소 여부를 시각화하기로 한다.\n",
    "\n"
   ]
  },
  {
   "cell_type": "markdown",
   "metadata": {},
   "source": [
    "#### 1. 데이터 구조 훑어보기"
   ]
  },
  {
   "cell_type": "code",
   "execution_count": 96,
   "metadata": {},
   "outputs": [
    {
     "name": "stdout",
     "output_type": "stream",
     "text": [
      "<class 'pandas.core.frame.DataFrame'>\n",
      "Int64Index: 102894 entries, 3 to 119389\n",
      "Data columns (total 31 columns):\n",
      " #   Column                          Non-Null Count   Dtype  \n",
      "---  ------                          --------------   -----  \n",
      " 0   hotel                           102894 non-null  int32  \n",
      " 1   is_canceled                     102894 non-null  int64  \n",
      " 2   lead_time                       102894 non-null  int64  \n",
      " 3   arrival_date_year               102894 non-null  int64  \n",
      " 4   arrival_date_month              102894 non-null  int32  \n",
      " 5   arrival_date_week_number        102894 non-null  int64  \n",
      " 6   arrival_date_day_of_month       102894 non-null  int64  \n",
      " 7   stays_in_weekend_nights         102894 non-null  int64  \n",
      " 8   stays_in_week_nights            102894 non-null  int64  \n",
      " 9   adults                          102894 non-null  int64  \n",
      " 10  children                        102894 non-null  float64\n",
      " 11  babies                          102894 non-null  int64  \n",
      " 12  meal                            102894 non-null  int32  \n",
      " 13  country                         102894 non-null  int32  \n",
      " 14  market_segment                  102894 non-null  int32  \n",
      " 15  distribution_channel            102894 non-null  int32  \n",
      " 16  is_repeated_guest               102894 non-null  int64  \n",
      " 17  previous_cancellations          102894 non-null  int64  \n",
      " 18  previous_bookings_not_canceled  102894 non-null  int64  \n",
      " 19  reserved_room_type              102894 non-null  int32  \n",
      " 20  assigned_room_type              102894 non-null  int32  \n",
      " 21  booking_changes                 102894 non-null  int64  \n",
      " 22  deposit_type                    102894 non-null  int32  \n",
      " 23  agent                           102894 non-null  float64\n",
      " 24  days_in_waiting_list            102894 non-null  int64  \n",
      " 25  customer_type                   102894 non-null  int32  \n",
      " 26  adr                             102894 non-null  float64\n",
      " 27  required_car_parking_spaces     102894 non-null  int64  \n",
      " 28  total_of_special_requests       102894 non-null  int64  \n",
      " 29  reservation_status              102894 non-null  int32  \n",
      " 30  reservation_status_date         102894 non-null  int32  \n",
      "dtypes: float64(3), int32(12), int64(16)\n",
      "memory usage: 20.4 MB\n"
     ]
    }
   ],
   "source": [
    "hotel_data.info()"
   ]
  },
  {
   "cell_type": "markdown",
   "metadata": {},
   "source": [
    ".describe() 메서드는 숫자형 특성의 요약 정보만을 보여주기 때문에 밑에 나오는 데이터는 전부 숫자형이다.\n",
    "\n",
    "이 숫자형 데이터들을 히스토그램으로 특성마다 나타내고자 한다."
   ]
  },
  {
   "cell_type": "code",
   "execution_count": 97,
   "metadata": {
    "scrolled": false
   },
   "outputs": [
    {
     "data": {
      "text/html": [
       "<div>\n",
       "<style scoped>\n",
       "    .dataframe tbody tr th:only-of-type {\n",
       "        vertical-align: middle;\n",
       "    }\n",
       "\n",
       "    .dataframe tbody tr th {\n",
       "        vertical-align: top;\n",
       "    }\n",
       "\n",
       "    .dataframe thead th {\n",
       "        text-align: right;\n",
       "    }\n",
       "</style>\n",
       "<table border=\"1\" class=\"dataframe\">\n",
       "  <thead>\n",
       "    <tr style=\"text-align: right;\">\n",
       "      <th></th>\n",
       "      <th>hotel</th>\n",
       "      <th>is_canceled</th>\n",
       "      <th>lead_time</th>\n",
       "      <th>arrival_date_year</th>\n",
       "      <th>arrival_date_month</th>\n",
       "      <th>arrival_date_week_number</th>\n",
       "      <th>arrival_date_day_of_month</th>\n",
       "      <th>stays_in_weekend_nights</th>\n",
       "      <th>stays_in_week_nights</th>\n",
       "      <th>adults</th>\n",
       "      <th>...</th>\n",
       "      <th>booking_changes</th>\n",
       "      <th>deposit_type</th>\n",
       "      <th>agent</th>\n",
       "      <th>days_in_waiting_list</th>\n",
       "      <th>customer_type</th>\n",
       "      <th>adr</th>\n",
       "      <th>required_car_parking_spaces</th>\n",
       "      <th>total_of_special_requests</th>\n",
       "      <th>reservation_status</th>\n",
       "      <th>reservation_status_date</th>\n",
       "    </tr>\n",
       "  </thead>\n",
       "  <tbody>\n",
       "    <tr>\n",
       "      <th>count</th>\n",
       "      <td>102894.000000</td>\n",
       "      <td>102894.000000</td>\n",
       "      <td>102894.000000</td>\n",
       "      <td>102894.000000</td>\n",
       "      <td>102894.000000</td>\n",
       "      <td>102894.000000</td>\n",
       "      <td>102894.000000</td>\n",
       "      <td>102894.000000</td>\n",
       "      <td>102894.000000</td>\n",
       "      <td>102894.000000</td>\n",
       "      <td>...</td>\n",
       "      <td>102894.000000</td>\n",
       "      <td>102894.000000</td>\n",
       "      <td>102894.000000</td>\n",
       "      <td>102894.000000</td>\n",
       "      <td>102894.000000</td>\n",
       "      <td>102894.000000</td>\n",
       "      <td>102894.000000</td>\n",
       "      <td>102894.000000</td>\n",
       "      <td>102894.000000</td>\n",
       "      <td>102894.000000</td>\n",
       "    </tr>\n",
       "    <tr>\n",
       "      <th>mean</th>\n",
       "      <td>0.308210</td>\n",
       "      <td>0.390314</td>\n",
       "      <td>111.740092</td>\n",
       "      <td>2016.156977</td>\n",
       "      <td>5.465032</td>\n",
       "      <td>27.339155</td>\n",
       "      <td>15.786771</td>\n",
       "      <td>0.978181</td>\n",
       "      <td>2.589655</td>\n",
       "      <td>1.899926</td>\n",
       "      <td>...</td>\n",
       "      <td>0.201780</td>\n",
       "      <td>0.122631</td>\n",
       "      <td>86.545532</td>\n",
       "      <td>2.619579</td>\n",
       "      <td>2.116654</td>\n",
       "      <td>104.679911</td>\n",
       "      <td>0.053035</td>\n",
       "      <td>0.605458</td>\n",
       "      <td>0.629181</td>\n",
       "      <td>513.043589</td>\n",
       "    </tr>\n",
       "    <tr>\n",
       "      <th>std</th>\n",
       "      <td>0.461756</td>\n",
       "      <td>0.487823</td>\n",
       "      <td>107.681013</td>\n",
       "      <td>0.706117</td>\n",
       "      <td>3.553446</td>\n",
       "      <td>13.279990</td>\n",
       "      <td>8.794042</td>\n",
       "      <td>1.003991</td>\n",
       "      <td>1.905941</td>\n",
       "      <td>0.490891</td>\n",
       "      <td>...</td>\n",
       "      <td>0.624954</td>\n",
       "      <td>0.329434</td>\n",
       "      <td>110.714259</td>\n",
       "      <td>18.797440</td>\n",
       "      <td>0.590903</td>\n",
       "      <td>50.021697</td>\n",
       "      <td>0.225359</td>\n",
       "      <td>0.799342</td>\n",
       "      <td>0.502803</td>\n",
       "      <td>229.705649</td>\n",
       "    </tr>\n",
       "    <tr>\n",
       "      <th>min</th>\n",
       "      <td>0.000000</td>\n",
       "      <td>0.000000</td>\n",
       "      <td>0.000000</td>\n",
       "      <td>2015.000000</td>\n",
       "      <td>0.000000</td>\n",
       "      <td>1.000000</td>\n",
       "      <td>1.000000</td>\n",
       "      <td>0.000000</td>\n",
       "      <td>0.000000</td>\n",
       "      <td>0.000000</td>\n",
       "      <td>...</td>\n",
       "      <td>0.000000</td>\n",
       "      <td>0.000000</td>\n",
       "      <td>1.000000</td>\n",
       "      <td>0.000000</td>\n",
       "      <td>0.000000</td>\n",
       "      <td>-6.380000</td>\n",
       "      <td>0.000000</td>\n",
       "      <td>0.000000</td>\n",
       "      <td>0.000000</td>\n",
       "      <td>0.000000</td>\n",
       "    </tr>\n",
       "    <tr>\n",
       "      <th>25%</th>\n",
       "      <td>0.000000</td>\n",
       "      <td>0.000000</td>\n",
       "      <td>26.000000</td>\n",
       "      <td>2016.000000</td>\n",
       "      <td>2.000000</td>\n",
       "      <td>17.000000</td>\n",
       "      <td>8.000000</td>\n",
       "      <td>0.000000</td>\n",
       "      <td>1.000000</td>\n",
       "      <td>2.000000</td>\n",
       "      <td>...</td>\n",
       "      <td>0.000000</td>\n",
       "      <td>0.000000</td>\n",
       "      <td>9.000000</td>\n",
       "      <td>0.000000</td>\n",
       "      <td>2.000000</td>\n",
       "      <td>73.000000</td>\n",
       "      <td>0.000000</td>\n",
       "      <td>0.000000</td>\n",
       "      <td>0.000000</td>\n",
       "      <td>332.000000</td>\n",
       "    </tr>\n",
       "    <tr>\n",
       "      <th>50%</th>\n",
       "      <td>0.000000</td>\n",
       "      <td>0.000000</td>\n",
       "      <td>79.000000</td>\n",
       "      <td>2016.000000</td>\n",
       "      <td>6.000000</td>\n",
       "      <td>28.000000</td>\n",
       "      <td>16.000000</td>\n",
       "      <td>1.000000</td>\n",
       "      <td>2.000000</td>\n",
       "      <td>2.000000</td>\n",
       "      <td>...</td>\n",
       "      <td>0.000000</td>\n",
       "      <td>0.000000</td>\n",
       "      <td>14.000000</td>\n",
       "      <td>0.000000</td>\n",
       "      <td>2.000000</td>\n",
       "      <td>96.300000</td>\n",
       "      <td>0.000000</td>\n",
       "      <td>0.000000</td>\n",
       "      <td>1.000000</td>\n",
       "      <td>517.000000</td>\n",
       "    </tr>\n",
       "    <tr>\n",
       "      <th>75%</th>\n",
       "      <td>1.000000</td>\n",
       "      <td>1.000000</td>\n",
       "      <td>169.000000</td>\n",
       "      <td>2017.000000</td>\n",
       "      <td>8.000000</td>\n",
       "      <td>38.000000</td>\n",
       "      <td>24.000000</td>\n",
       "      <td>2.000000</td>\n",
       "      <td>3.000000</td>\n",
       "      <td>2.000000</td>\n",
       "      <td>...</td>\n",
       "      <td>0.000000</td>\n",
       "      <td>0.000000</td>\n",
       "      <td>229.000000</td>\n",
       "      <td>0.000000</td>\n",
       "      <td>2.000000</td>\n",
       "      <td>127.800000</td>\n",
       "      <td>0.000000</td>\n",
       "      <td>1.000000</td>\n",
       "      <td>1.000000</td>\n",
       "      <td>710.000000</td>\n",
       "    </tr>\n",
       "    <tr>\n",
       "      <th>max</th>\n",
       "      <td>1.000000</td>\n",
       "      <td>1.000000</td>\n",
       "      <td>629.000000</td>\n",
       "      <td>2017.000000</td>\n",
       "      <td>11.000000</td>\n",
       "      <td>53.000000</td>\n",
       "      <td>31.000000</td>\n",
       "      <td>16.000000</td>\n",
       "      <td>41.000000</td>\n",
       "      <td>26.000000</td>\n",
       "      <td>...</td>\n",
       "      <td>18.000000</td>\n",
       "      <td>2.000000</td>\n",
       "      <td>535.000000</td>\n",
       "      <td>391.000000</td>\n",
       "      <td>3.000000</td>\n",
       "      <td>5400.000000</td>\n",
       "      <td>3.000000</td>\n",
       "      <td>5.000000</td>\n",
       "      <td>2.000000</td>\n",
       "      <td>922.000000</td>\n",
       "    </tr>\n",
       "  </tbody>\n",
       "</table>\n",
       "<p>8 rows × 31 columns</p>\n",
       "</div>"
      ],
      "text/plain": [
       "               hotel    is_canceled      lead_time  arrival_date_year  \\\n",
       "count  102894.000000  102894.000000  102894.000000      102894.000000   \n",
       "mean        0.308210       0.390314     111.740092        2016.156977   \n",
       "std         0.461756       0.487823     107.681013           0.706117   \n",
       "min         0.000000       0.000000       0.000000        2015.000000   \n",
       "25%         0.000000       0.000000      26.000000        2016.000000   \n",
       "50%         0.000000       0.000000      79.000000        2016.000000   \n",
       "75%         1.000000       1.000000     169.000000        2017.000000   \n",
       "max         1.000000       1.000000     629.000000        2017.000000   \n",
       "\n",
       "       arrival_date_month  arrival_date_week_number  \\\n",
       "count       102894.000000             102894.000000   \n",
       "mean             5.465032                 27.339155   \n",
       "std              3.553446                 13.279990   \n",
       "min              0.000000                  1.000000   \n",
       "25%              2.000000                 17.000000   \n",
       "50%              6.000000                 28.000000   \n",
       "75%              8.000000                 38.000000   \n",
       "max             11.000000                 53.000000   \n",
       "\n",
       "       arrival_date_day_of_month  stays_in_weekend_nights  \\\n",
       "count              102894.000000            102894.000000   \n",
       "mean                   15.786771                 0.978181   \n",
       "std                     8.794042                 1.003991   \n",
       "min                     1.000000                 0.000000   \n",
       "25%                     8.000000                 0.000000   \n",
       "50%                    16.000000                 1.000000   \n",
       "75%                    24.000000                 2.000000   \n",
       "max                    31.000000                16.000000   \n",
       "\n",
       "       stays_in_week_nights         adults  ...  booking_changes  \\\n",
       "count         102894.000000  102894.000000  ...    102894.000000   \n",
       "mean               2.589655       1.899926  ...         0.201780   \n",
       "std                1.905941       0.490891  ...         0.624954   \n",
       "min                0.000000       0.000000  ...         0.000000   \n",
       "25%                1.000000       2.000000  ...         0.000000   \n",
       "50%                2.000000       2.000000  ...         0.000000   \n",
       "75%                3.000000       2.000000  ...         0.000000   \n",
       "max               41.000000      26.000000  ...        18.000000   \n",
       "\n",
       "        deposit_type          agent  days_in_waiting_list  customer_type  \\\n",
       "count  102894.000000  102894.000000         102894.000000  102894.000000   \n",
       "mean        0.122631      86.545532              2.619579       2.116654   \n",
       "std         0.329434     110.714259             18.797440       0.590903   \n",
       "min         0.000000       1.000000              0.000000       0.000000   \n",
       "25%         0.000000       9.000000              0.000000       2.000000   \n",
       "50%         0.000000      14.000000              0.000000       2.000000   \n",
       "75%         0.000000     229.000000              0.000000       2.000000   \n",
       "max         2.000000     535.000000            391.000000       3.000000   \n",
       "\n",
       "                 adr  required_car_parking_spaces  total_of_special_requests  \\\n",
       "count  102894.000000                102894.000000              102894.000000   \n",
       "mean      104.679911                     0.053035                   0.605458   \n",
       "std        50.021697                     0.225359                   0.799342   \n",
       "min        -6.380000                     0.000000                   0.000000   \n",
       "25%        73.000000                     0.000000                   0.000000   \n",
       "50%        96.300000                     0.000000                   0.000000   \n",
       "75%       127.800000                     0.000000                   1.000000   \n",
       "max      5400.000000                     3.000000                   5.000000   \n",
       "\n",
       "       reservation_status  reservation_status_date  \n",
       "count       102894.000000            102894.000000  \n",
       "mean             0.629181               513.043589  \n",
       "std              0.502803               229.705649  \n",
       "min              0.000000                 0.000000  \n",
       "25%              0.000000               332.000000  \n",
       "50%              1.000000               517.000000  \n",
       "75%              1.000000               710.000000  \n",
       "max              2.000000               922.000000  \n",
       "\n",
       "[8 rows x 31 columns]"
      ]
     },
     "execution_count": 97,
     "metadata": {},
     "output_type": "execute_result"
    }
   ],
   "source": [
    "hotel_data.describe()"
   ]
  },
  {
   "cell_type": "code",
   "execution_count": 17,
   "metadata": {},
   "outputs": [
    {
     "data": {
      "text/plain": [
       "0     97339\n",
       "1      5384\n",
       "2        36\n",
       "26       26\n",
       "25       25\n",
       "11       25\n",
       "24       24\n",
       "14       14\n",
       "3         9\n",
       "6         6\n",
       "13        4\n",
       "21        1\n",
       "5         1\n",
       "Name: previous_cancellations, dtype: int64"
      ]
     },
     "execution_count": 17,
     "metadata": {},
     "output_type": "execute_result"
    }
   ],
   "source": [
    "hotel_data['previous_cancellations'].value_counts()"
   ]
  },
  {
   "cell_type": "markdown",
   "metadata": {},
   "source": [
    "데이터를 가시화해서 보니 정규분포 모양처럼 고르게 퍼지지 않은 데이터의 경우 분석에 별 도움이 되지 않을 것 같아서 불필요한것은 제거하거나 나중에 종모양이 되도록 바꾸는 과정을 거쳐보기로 하자.\n",
    "\n",
    "이제 object형태의 데이터가 없으니 모든 데이터가 히스토그램으로 변형이 가능한 상태이다.\n",
    "\n",
    "학습을 하기 위해 'previous_cancelations'의 값을 바탕으로 'is_canceled'의 값을 예측해 줄 것이기 때문에 계층적 샘플링(stratified sampling)을 진행해줄 예정이다.\n",
    "\n",
    "우선 pd.cut() 함수를 사용해서 카테고리를 3개를 가진 특성으로 나누어서 csv데이터셋에 추가해보고자 한다."
   ]
  },
  {
   "cell_type": "code",
   "execution_count": 18,
   "metadata": {},
   "outputs": [
    {
     "data": {
      "text/plain": [
       "1    97339\n",
       "2     5384\n",
       "3       95\n",
       "4       76\n",
       "5        0\n",
       "Name: previous_cancellations_cat, dtype: int64"
      ]
     },
     "execution_count": 18,
     "metadata": {},
     "output_type": "execute_result"
    }
   ],
   "source": [
    "hotel_data['previous_cancellations_cat'] = pd.cut(hotel_data['previous_cancellations'],\n",
    "                                                 bins = [-1,0, 1, 15,26., np.inf],\n",
    "                                                 labels = [1,2,3,4,5])\n",
    "hotel_data['previous_cancellations_cat'].value_counts()"
   ]
  },
  {
   "cell_type": "code",
   "execution_count": 19,
   "metadata": {},
   "outputs": [
    {
     "data": {
      "text/plain": [
       "1    77871\n",
       "2     4307\n",
       "3       76\n",
       "4       61\n",
       "5        0\n",
       "Name: previous_cancellations_cat, dtype: int64"
      ]
     },
     "execution_count": 19,
     "metadata": {},
     "output_type": "execute_result"
    }
   ],
   "source": [
    "from sklearn.model_selection import StratifiedShuffleSplit\n",
    "\n",
    "split = StratifiedShuffleSplit(n_splits = 1, test_size = 0.2, random_state = 0)\n",
    "for train_index, test_index in split.split(hotel_data, hotel_data['previous_cancellations_cat']):\n",
    "    train_set = hotel_data.iloc[train_index].values\n",
    "    strat_train_set = hotel_data.iloc[train_index]\n",
    "    strat_test_set = hotel_data.iloc[test_index]\n",
    "    test_set = hotel_data.iloc[test_index]\n",
    "strat_train_set['previous_cancellations_cat'].value_counts()"
   ]
  },
  {
   "cell_type": "markdown",
   "metadata": {},
   "source": [
    "이렇게 비슷한 비율로 샘플링이 마무리 되었음을 확인할 수 있다.\n",
    "\n",
    "그런데 처음에는 .loc()으로 했더니 pandas2.0이 지원하지 않는 버전이어서 .iloc()으로 바꿔주었더니 원하는대로 진행이 되었다."
   ]
  },
  {
   "cell_type": "code",
   "execution_count": 20,
   "metadata": {},
   "outputs": [],
   "source": [
    "for set_ in (strat_train_set, strat_test_set):\n",
    "    set_.drop('previous_cancellations_cat', axis = 1)"
   ]
  },
  {
   "cell_type": "markdown",
   "metadata": {},
   "source": [
    "#### 2. 테스트 세트 분리"
   ]
  },
  {
   "cell_type": "markdown",
   "metadata": {},
   "source": [
    "아래와 같은 코드를 실행해 주면 우리가 예측해야 하는 'is_canceled'의 정보가 담긴 것을 y값으로, 그것 제외 나머지 정보가 모두 x에 들어가게 된다."
   ]
  },
  {
   "cell_type": "code",
   "execution_count": 21,
   "metadata": {},
   "outputs": [],
   "source": [
    "hotel_train = strat_train_set.copy()\n",
    "hotel_test = strat_test_set.copy()\n",
    "from sklearn.model_selection import train_test_split\n",
    "x_train = hotel_train.drop(['is_canceled'], axis = 1)\n",
    "y_train = hotel_train['is_canceled']\n",
    "x_test = hotel_test.drop(['is_canceled'], axis = 1)\n",
    "y_test = hotel_test['is_canceled']"
   ]
  },
  {
   "cell_type": "code",
   "execution_count": 9,
   "metadata": {},
   "outputs": [],
   "source": [
    "from sklearn.metrics import mean_squared_error"
   ]
  },
  {
   "cell_type": "code",
   "execution_count": 477,
   "metadata": {},
   "outputs": [],
   "source": [
    "def plot_learning_curves(model, x,y):\n",
    "    train_error, val_error = [],[]\n",
    "    x_train, x_test, y_train, y_test = train_test_split(x,y,test_size = 0.2)\n",
    "    for i in range(1, len(x_train)):\n",
    "        model.fit(x_train[:i], y_train[:i])\n",
    "        y_train_pred = model.predict(x_train[:i])\n",
    "        y_val_pred = model.predict(x_test)\n",
    "        train_error.append(mean_squared_error(y_train[:i], y_train_pred))\n",
    "        val_error.append(mean_squared_error(y_test, y_val_pred))\n",
    "    plt.plot(np.sqrt(train_error), 'r-+', label = 'train')\n",
    "    plt.plot(np.sqrt(val_error), 'b-', label = 'val')\n",
    "        "
   ]
  },
  {
   "cell_type": "markdown",
   "metadata": {},
   "source": [
    "#### 3-1. Linear Regression으로 학습"
   ]
  },
  {
   "cell_type": "markdown",
   "metadata": {},
   "source": [
    "Linear Regression(단순 선형 회귀 모델)에는\n",
    "\n",
    "sklearn.linear_model.LinearRegression( 분석할 자료, fit_intecept = True, normalize = False, copy_x = True, n_jobs = None)\n",
    "\n",
    "의 값을 지정할 수가 있는데 fit_intercept는 이 모델의 intercept를 계산할지 말지의 여부이고 normalize는 fit_intercetp == True일때만 의미 있는데 x값을 (x-x average)/(x의 표본분산)으로 계산할지 말지 여부를 결정한다.\n",
    "\n"
   ]
  },
  {
   "cell_type": "code",
   "execution_count": 306,
   "metadata": {},
   "outputs": [
    {
     "data": {
      "text/plain": [
       "array([[0],\n",
       "       [0]], dtype=object)"
      ]
     },
     "execution_count": 306,
     "metadata": {},
     "output_type": "execute_result"
    }
   ],
   "source": [
    "train_set[:,17].reshape(-1,1)[:2].reshape(-1,1)"
   ]
  },
  {
   "cell_type": "code",
   "execution_count": 257,
   "metadata": {
    "scrolled": true
   },
   "outputs": [
    {
     "data": {
      "text/plain": [
       "(82315, 30)"
      ]
     },
     "execution_count": 257,
     "metadata": {},
     "output_type": "execute_result"
    }
   ],
   "source": [
    "np.array(train_set[:,2:]).shape"
   ]
  },
  {
   "cell_type": "code",
   "execution_count": 264,
   "metadata": {},
   "outputs": [
    {
     "data": {
      "text/plain": [
       "array([0], dtype=object)"
      ]
     },
     "execution_count": 264,
     "metadata": {},
     "output_type": "execute_result"
    }
   ],
   "source": [
    "np.array(train_set[:,1]).reshape(-1,1)[0]"
   ]
  },
  {
   "cell_type": "code",
   "execution_count": 22,
   "metadata": {},
   "outputs": [
    {
     "name": "stdout",
     "output_type": "stream",
     "text": [
      "Mean Squared Error_lin_reg: 0.181\n",
      "Score_lin_reg_train: 0.8619567128\n",
      "Score_lin_reg_test: 0.8585022191\n"
     ]
    }
   ],
   "source": [
    "from sklearn.linear_model import LinearRegression\n",
    "\n",
    "lin_reg = LinearRegression()\n",
    "lin_reg.fit(x_train, y_train)\n",
    "y_pred = lin_reg.predict(x_test)\n",
    "\n",
    "print('Mean Squared Error_lin_reg:', np.sqrt(mean_squared_error(y_test, y_pred)).round(3))\n",
    "print('Score_lin_reg_train:', lin_reg.score(x_test, y_test).round(10))\n",
    "print('Score_lin_reg_test:', lin_reg.score(x_train, y_train).round(10))"
   ]
  },
  {
   "cell_type": "markdown",
   "metadata": {},
   "source": [
    "Logistic Regression도 마찬가지로 회귀 알고리즘이다.\n",
    "\n",
    "선형 회귀모델처럼 입력 특성의 가중치의 합을 계산하고 편향을 더하는 방법으로 확률을 추정한다. 대신 선형 회귀처럼 바로 결과를 출력하지 않고 결괏값의 'logistic'을 출력하는 방법을 선택한다. \n",
    "\n",
    "로지스틱 회귀 모델은 1/(1+e^-x)의 형태를 띄는, 0과 1사이의 값을 출력해주는 sigmoid 함수를 이용한다. sigmoid값이 0.5이상이면 1을, 미만이면 0을 출력한다.\n",
    "\n",
    "위와 같은 방법으로 확률을 추정하고 예측하며, 훈련 방법의 경우에는 양성 샘플(y=1)에 대해서는 높은 확률을 추정하고 음성 샘플에 대해서는 반대로 한다. 비용함수로는 양성 샘플은 -log(p)를 , 음성은 -log(1-p)를 이용해서 비용의 값을 점점 0에 가까워지도록 한다.\n",
    "\n",
    "처음에는 penalty의 값으로  'lbfgs'를 이용했는데 그렇게 하니까 메모리상 문제가 있어서 'liblinear'으로 바꿔주었다.\n",
    "\n",
    "그리고 회귀를 진행할 때에 웬만해서는 preprocessing과정을 이용해서 데이터의 수치를 0과 1사이의 값으로 만들었어야 하는데 그렇게 하지 못했어서 sklearn의 preprocessing함수를 이용하였다.\n",
    "\n",
    "마지막에 .score()으로 도출하는 값은 각 샘플에 대해 계산한 예측 오차를 j번째 특성값을 곱해서 모든 훈련 샘플에 대해 낸 평균이다."
   ]
  },
  {
   "cell_type": "code",
   "execution_count": 23,
   "metadata": {},
   "outputs": [
    {
     "name": "stdout",
     "output_type": "stream",
     "text": [
      "Mean Squared Error_log_reg: 0.785\n",
      "Score_log_reg_train: 0.3917997935\n",
      "Score_log_reg_test: 0.3843724185\n"
     ]
    }
   ],
   "source": [
    "from sklearn.linear_model import LogisticRegression\n",
    "from sklearn import preprocessing\n",
    "\n",
    "log_reg = LogisticRegression(solver = 'liblinear')\n",
    "log_reg.fit(preprocessing.scale(x_train), y_train)\n",
    "y_prd = log_reg.predict(x_test)\n",
    "\n",
    "print('Mean Squared Error_log_reg:', np.sqrt(mean_squared_error(y_test, y_prd)).round(3))\n",
    "print('Score_log_reg_train:', log_reg.score(x_train, y_train).round(10))\n",
    "print('Score_log_reg_test:', log_reg.score(x_test, y_test).round(10))"
   ]
  },
  {
   "cell_type": "markdown",
   "metadata": {},
   "source": [
    "#### 3-3. Ridge+Lasso로 학습"
   ]
  },
  {
   "cell_type": "markdown",
   "metadata": {},
   "source": [
    "지금 학습을 진행할 분류기인 ridge와 lasso 모두 규제가 있는 선형 모델이다.\n",
    "\n",
    "이는 사실 SGDregression을 이용할떄 SGDRegressor(penalty = 'l2')로 설정해 주면 이게 바로 ridge regression이다.\n",
    "\n",
    "'l2'라는 'penalty', 즉 규제가 비용 함수에 가중치 벡터의 l2노름의 제곱을 2로 나눈 규제항을 추가하게 되게 때문이다. "
   ]
  },
  {
   "cell_type": "code",
   "execution_count": 24,
   "metadata": {},
   "outputs": [
    {
     "name": "stdout",
     "output_type": "stream",
     "text": [
      "Mean Squared Error_ridge: 0.181\n",
      "Score_ridge_train: 0.8585022164\n",
      "Score_ridge_test: 0.8619562391\n"
     ]
    }
   ],
   "source": [
    "from sklearn.linear_model import Ridge\n",
    "\n",
    "ridge = Ridge(alpha = 1, solver = 'cholesky')\n",
    "ridge.fit(x_train, y_train)\n",
    "y_prd = ridge.predict(x_test)\n",
    "\n",
    "print('Mean Squared Error_ridge:', np.sqrt(mean_squared_error(y_test, y_prd)).round(3))\n",
    "print('Score_ridge_train:', ridge.score(x_train, y_train).round(10))\n",
    "print('Score_ridge_test:', ridge.score(x_test, y_test).round(10))"
   ]
  },
  {
   "cell_type": "code",
   "execution_count": 25,
   "metadata": {},
   "outputs": [
    {
     "name": "stdout",
     "output_type": "stream",
     "text": [
      "Mean Squared Error_lasso: 0.285\n",
      "Score_lasso_train: 0.6550240305\n",
      "Score_lasso_test: 0.6561994692\n"
     ]
    }
   ],
   "source": [
    "from sklearn.linear_model import Lasso\n",
    "lasso = Lasso(alpha=0.1)\n",
    "lasso.fit(x_train, y_train) \n",
    "\n",
    "y_prd = lasso.predict(x_test)\n",
    "\n",
    "print('Mean Squared Error_lasso:', np.sqrt(mean_squared_error(y_test, y_prd)).round(3))\n",
    "print('Score_lasso_train:', lasso.score(x_train, y_train).round(10))\n",
    "print('Score_lasso_test:', lasso.score(x_test, y_test).round(10))"
   ]
  },
  {
   "cell_type": "markdown",
   "metadata": {},
   "source": [
    "#### 3-4. DecisionTreeRegressor로 학습"
   ]
  },
  {
   "cell_type": "markdown",
   "metadata": {},
   "source": [
    "Decision Tree Regressor은 회귀 결정 트리인데, 학습 결과 오차가 0이 나와버렸다. 과대적합된 모양인데, 아마도 데이터의 수준에 비해 너무 강력한 분류기였던 모양이다."
   ]
  },
  {
   "cell_type": "code",
   "execution_count": 26,
   "metadata": {},
   "outputs": [
    {
     "name": "stdout",
     "output_type": "stream",
     "text": [
      "Mean Squared Error_treereg: 0.0\n",
      "Score_treereg_train: 1.0\n",
      "Score_treereg_test: 1.0\n"
     ]
    }
   ],
   "source": [
    "from sklearn.tree import DecisionTreeRegressor\n",
    "\n",
    "tree_reg = DecisionTreeRegressor(max_depth =2, min_samples_leaf = 10)\n",
    "tree_reg.fit(x_train, y_train)\n",
    "\n",
    "y_prd = tree_reg.predict(x_test)\n",
    "\n",
    "print('Mean Squared Error_treereg:', np.sqrt(mean_squared_error(y_test, y_prd)).round(3))\n",
    "print('Score_treereg_train:', tree_reg.score(x_train, y_train).round(10))\n",
    "print('Score_treereg_test:', tree_reg.score(x_test, y_test).round(10))"
   ]
  },
  {
   "cell_type": "markdown",
   "metadata": {},
   "source": [
    "#### Sequential Dense Model로 학습"
   ]
  },
  {
   "cell_type": "code",
   "execution_count": 495,
   "metadata": {},
   "outputs": [],
   "source": [
    "model = tf.keras.models.Sequential()\n",
    "model.add(tf.keras.layers.Dense(input_shape = (65,), units = 30, activation = 'relu'))\n",
    "model.add(tf.keras.layers.Dense(60, activation = 'relu'))\n",
    "model.add(tf.keras.layers.BatchNormalization())\n",
    "model.add(tf.keras.layers.Dense(2, activation = 'sigmoid'))"
   ]
  },
  {
   "cell_type": "code",
   "execution_count": 496,
   "metadata": {},
   "outputs": [
    {
     "name": "stdout",
     "output_type": "stream",
     "text": [
      "Model: \"sequential_10\"\n",
      "_________________________________________________________________\n",
      "Layer (type)                 Output Shape              Param #   \n",
      "=================================================================\n",
      "dense_27 (Dense)             (None, 30)                1980      \n",
      "_________________________________________________________________\n",
      "dense_28 (Dense)             (None, 60)                1860      \n",
      "_________________________________________________________________\n",
      "batch_normalization_9 (Batch (None, 60)                240       \n",
      "_________________________________________________________________\n",
      "dense_29 (Dense)             (None, 2)                 122       \n",
      "=================================================================\n",
      "Total params: 4,202\n",
      "Trainable params: 4,082\n",
      "Non-trainable params: 120\n",
      "_________________________________________________________________\n"
     ]
    }
   ],
   "source": [
    "model.summary()"
   ]
  },
  {
   "cell_type": "code",
   "execution_count": 497,
   "metadata": {},
   "outputs": [],
   "source": [
    "adam_optimizer = tf.keras.optimizers.Adam(lr = 0.0001)\n",
    "model.compile(\n",
    "    loss = 'sparse_categorical_crossentropy', optimizer = adam_optimizer, metrics = ['accuracy']\n",
    ")"
   ]
  },
  {
   "cell_type": "code",
   "execution_count": 547,
   "metadata": {},
   "outputs": [
    {
     "data": {
      "text/plain": [
       "((95512, 65), (23878, 65))"
      ]
     },
     "execution_count": 547,
     "metadata": {},
     "output_type": "execute_result"
    }
   ],
   "source": [
    "data_x = preprocessor.fit_transform(x)\n",
    "x_tr, x_te, y_tr, y_te = train_test_split(data_x, y, test_size = 0.2)\n",
    "y_tr = np.array(y_tr)\n",
    "y_te = np.array(y_te)\n",
    "x_tr.shape, x_te.shape"
   ]
  },
  {
   "cell_type": "code",
   "execution_count": 548,
   "metadata": {},
   "outputs": [
    {
     "name": "stdout",
     "output_type": "stream",
     "text": [
      "Train on 76409 samples, validate on 19103 samples\n",
      "Epoch 1/30\n",
      "76409/76409 [==============================] - 4s 48us/sample - loss: 0.4002 - accuracy: 0.8153 - val_loss: 0.3956 - val_accuracy: 0.8214\n",
      "Epoch 2/30\n",
      "76409/76409 [==============================] - 4s 50us/sample - loss: 0.4008 - accuracy: 0.8154 - val_loss: 0.4114 - val_accuracy: 0.8068\n",
      "Epoch 3/30\n",
      "76409/76409 [==============================] - 4s 48us/sample - loss: 0.4016 - accuracy: 0.8164 - val_loss: 0.3942 - val_accuracy: 0.8224\n",
      "Epoch 4/30\n",
      "76409/76409 [==============================] - 4s 49us/sample - loss: 0.3994 - accuracy: 0.8162 - val_loss: 0.4032 - val_accuracy: 0.8175\n",
      "Epoch 5/30\n",
      "76409/76409 [==============================] - 4s 50us/sample - loss: 0.3994 - accuracy: 0.8153 - val_loss: 0.3966 - val_accuracy: 0.8218\n",
      "Epoch 6/30\n",
      "76409/76409 [==============================] - 4s 48us/sample - loss: 0.4005 - accuracy: 0.8157 - val_loss: 0.3971 - val_accuracy: 0.8188\n",
      "Epoch 7/30\n",
      "76409/76409 [==============================] - 4s 50us/sample - loss: 0.3990 - accuracy: 0.8167 - val_loss: 0.4019 - val_accuracy: 0.8176\n",
      "Epoch 8/30\n",
      "76409/76409 [==============================] - 4s 56us/sample - loss: 0.3995 - accuracy: 0.8161 - val_loss: 0.4008 - val_accuracy: 0.8148\n",
      "Epoch 9/30\n",
      "76409/76409 [==============================] - 4s 57us/sample - loss: 0.4000 - accuracy: 0.8148 - val_loss: 0.3950 - val_accuracy: 0.8217\n",
      "Epoch 10/30\n",
      "76409/76409 [==============================] - 4s 56us/sample - loss: 0.3987 - accuracy: 0.8163 - val_loss: 0.3943 - val_accuracy: 0.8230\n",
      "Epoch 11/30\n",
      "76409/76409 [==============================] - 4s 58us/sample - loss: 0.3988 - accuracy: 0.8168 - val_loss: 0.3965 - val_accuracy: 0.8186\n",
      "Epoch 12/30\n",
      "76409/76409 [==============================] - 4s 56us/sample - loss: 0.3978 - accuracy: 0.8178 - val_loss: 0.3966 - val_accuracy: 0.8169\n",
      "Epoch 13/30\n",
      "76409/76409 [==============================] - 4s 57us/sample - loss: 0.3979 - accuracy: 0.8171 - val_loss: 0.3989 - val_accuracy: 0.8165\n",
      "Epoch 14/30\n",
      "76409/76409 [==============================] - 4s 57us/sample - loss: 0.3968 - accuracy: 0.8181 - val_loss: 0.3970 - val_accuracy: 0.8201\n",
      "Epoch 15/30\n",
      "76409/76409 [==============================] - 4s 56us/sample - loss: 0.3981 - accuracy: 0.8166 - val_loss: 0.3911 - val_accuracy: 0.8207\n",
      "Epoch 16/30\n",
      "76409/76409 [==============================] - 4s 56us/sample - loss: 0.3970 - accuracy: 0.8174 - val_loss: 0.3925 - val_accuracy: 0.8209\n",
      "Epoch 17/30\n",
      "76409/76409 [==============================] - 4s 58us/sample - loss: 0.3971 - accuracy: 0.8181 - val_loss: 0.4020 - val_accuracy: 0.8079\n",
      "Epoch 18/30\n",
      "76409/76409 [==============================] - 4s 57us/sample - loss: 0.3956 - accuracy: 0.8180 - val_loss: 0.3942 - val_accuracy: 0.8177\n",
      "Epoch 19/30\n",
      "76409/76409 [==============================] - 4s 56us/sample - loss: 0.3954 - accuracy: 0.8181 - val_loss: 0.3979 - val_accuracy: 0.8123\n",
      "Epoch 20/30\n",
      "76409/76409 [==============================] - 4s 56us/sample - loss: 0.3948 - accuracy: 0.8178 - val_loss: 0.3966 - val_accuracy: 0.8185\n",
      "Epoch 21/30\n",
      "76409/76409 [==============================] - 4s 56us/sample - loss: 0.3971 - accuracy: 0.8177 - val_loss: 0.3955 - val_accuracy: 0.8186\n",
      "Epoch 22/30\n",
      "76409/76409 [==============================] - 4s 56us/sample - loss: 0.3954 - accuracy: 0.8173 - val_loss: 0.3935 - val_accuracy: 0.8206\n",
      "Epoch 23/30\n",
      "76409/76409 [==============================] - 4s 59us/sample - loss: 0.3952 - accuracy: 0.8189 - val_loss: 0.4022 - val_accuracy: 0.8112\n",
      "Epoch 24/30\n",
      "76409/76409 [==============================] - 4s 56us/sample - loss: 0.3949 - accuracy: 0.8180 - val_loss: 0.3951 - val_accuracy: 0.8214\n",
      "Epoch 25/30\n",
      "76409/76409 [==============================] - 4s 55us/sample - loss: 0.3938 - accuracy: 0.8172 - val_loss: 0.3956 - val_accuracy: 0.8173\n",
      "Epoch 26/30\n",
      "76409/76409 [==============================] - 4s 56us/sample - loss: 0.3962 - accuracy: 0.8163 - val_loss: 0.3958 - val_accuracy: 0.8235\n",
      "Epoch 27/30\n",
      "76409/76409 [==============================] - 4s 57us/sample - loss: 0.3947 - accuracy: 0.8181 - val_loss: 0.3930 - val_accuracy: 0.8208\n",
      "Epoch 28/30\n",
      "76409/76409 [==============================] - 4s 57us/sample - loss: 0.3949 - accuracy: 0.8189 - val_loss: 0.3917 - val_accuracy: 0.8215\n",
      "Epoch 29/30\n",
      "76409/76409 [==============================] - 4s 55us/sample - loss: 0.3937 - accuracy: 0.8189 - val_loss: 0.4215 - val_accuracy: 0.8070\n",
      "Epoch 30/30\n",
      "76409/76409 [==============================] - 4s 57us/sample - loss: 0.3935 - accuracy: 0.8191 - val_loss: 0.3952 - val_accuracy: 0.8195\n"
     ]
    }
   ],
   "source": [
    "history = model.fit(x_tr, y_tr, validation_split = 0.2, epochs = 30)"
   ]
  },
  {
   "cell_type": "code",
   "execution_count": null,
   "metadata": {
    "scrolled": false
   },
   "outputs": [],
   "source": [
    "model.evaluate(x_te, y_te)"
   ]
  },
  {
   "cell_type": "markdown",
   "metadata": {},
   "source": [
    "### Accuracy = 81.70%"
   ]
  },
  {
   "cell_type": "code",
   "execution_count": 554,
   "metadata": {},
   "outputs": [
    {
     "data": {
      "image/png": "[encoded data removed]",
      "text/plain": [
       "<Figure size 648x288 with 1 Axes>"
      ]
     },
     "metadata": {
      "needs_background": "light"
     },
     "output_type": "display_data"
    },
    {
     "data": {
      "image/png": "[encoded data removed]",
      "text/plain": [
       "<Figure size 648x288 with 1 Axes>"
      ]
     },
     "metadata": {
      "needs_background": "light"
     },
     "output_type": "display_data"
    }
   ],
   "source": [
    "import matplotlib.pyplot as plt\n",
    "plt.figure(figsize = (9,4))\n",
    "plt.plot(history.history['loss'], 'r-', label = 'loss')\n",
    "plt.plot(history.history['val_loss'], 'b-', label = 'val_loss')\n",
    "plt.xlabel('Epoch')\n",
    "plt.show()\n",
    "plt.figure(figsize = (9,4))\n",
    "plt.plot(history.history['accuracy'], 'y-', label = 'accuracy')\n",
    "plt.plot(history.history['val_accuracy'], 'g-', label = 'val_accuracy')\n",
    "plt.xlabel('Epoch')\n",
    "plt.show()"
   ]
  },
  {
   "cell_type": "markdown",
   "metadata": {},
   "source": [
    "#### 직접 sequential model을 만드는 것은 일단 model.fit()을 할 때에 계속 input shape가 맞지 않았었다. 일반적인 DNN으로 해결해 보고 싶었는데 계속 기본적인데에서 문제가 발생했다.\n",
    "\n",
    "#### 알고 보니 문제는 입력하는 자료가 pandas dataset이었고, model.fit을 할 때에는 np.array값만을 적용할 수 있었다.\n",
    "\n",
    "따라서 밑에서 만든 pipeline을 이용해서 형태를 바꾸었으며 문자형 자료또한 모두 바꿔 주었다.\n",
    "\n",
    "preprocessing 을 하기 전에 이용한 데이터는 y값은 우리가 예측 하여야 하는 취소 여부, 즉 hotel_data['is_canceled']이고 x값은 hotel_data.drop('is_canceled', axis = 1)[features]였다.\n",
    "\n",
    "중요한 것은 x와 y의 datapreprocessing을 먼저 한 뒤에 test/train을 나눠야 하며, 나눌때에 x_train, x_test, y_train, y_test의 순서임을 잊지 말자."
   ]
  },
  {
   "cell_type": "markdown",
   "metadata": {},
   "source": [
    "### Pipeline 만들어서 데이터 분석하기"
   ]
  },
  {
   "cell_type": "code",
   "execution_count": 27,
   "metadata": {},
   "outputs": [],
   "source": [
    "dataframe = pd.read_csv(\"C:/hotel booking/hotel_bookings.csv\")"
   ]
  },
  {
   "cell_type": "code",
   "execution_count": 28,
   "metadata": {},
   "outputs": [],
   "source": [
    "from sklearn.impute import SimpleImputer\n",
    "from sklearn.preprocessing import OneHotEncoder\n",
    "from sklearn.pipeline import Pipeline\n",
    "from sklearn.compose import ColumnTransformer\n",
    "from sklearn.model_selection import KFold\n",
    "from sklearn.model_selection import cross_val_score"
   ]
  },
  {
   "cell_type": "code",
   "execution_count": 29,
   "metadata": {},
   "outputs": [],
   "source": [
    "#숫자형 자료의 label, 문자형 자료의 label각각을 직접 따로 list에 저장해준다.\n",
    "\n",
    "num_features = [\"lead_time\",\"arrival_date_week_number\",\"arrival_date_day_of_month\",\n",
    "                \"stays_in_weekend_nights\",\"stays_in_week_nights\",\"adults\",\"children\",\n",
    "                \"babies\",\"is_repeated_guest\", \"previous_cancellations\",\n",
    "                \"previous_bookings_not_canceled\",\"agent\",\"company\",\n",
    "                \"required_car_parking_spaces\", \"total_of_special_requests\", \"adr\"]\n",
    "\n",
    "cat_features = [\"hotel\",\"arrival_date_month\",\"meal\",\"market_segment\",\n",
    "                \"distribution_channel\",\"reserved_room_type\",\"deposit_type\",\"customer_type\"]\n",
    "\n",
    "\n",
    "features = num_features + cat_features\n",
    "\n",
    "x = dataframe.drop([\"is_canceled\"], axis=1)[features]\n",
    "y = dataframe[\"is_canceled\"]\n",
    "\n",
    "#숫자형 데이터를 보완한다.\n",
    "#date자료의 경우에는 0으로 채우기좀 그렇지만 다행히 date자료에는 빈 데이터가 없다.\n",
    "num_transformer = SimpleImputer(strategy=\"constant\")\n",
    "\n",
    "#문자형 자료를 보완한다.\n",
    "cat_transformer = Pipeline(steps=[\n",
    "    (\"imputer\", SimpleImputer(strategy=\"constant\", fill_value=\"Unknown\")),\n",
    "    (\"onehot\", OneHotEncoder(handle_unknown='ignore'))])\n",
    "\n",
    "#숫자형 데이터와 문자형 데이터를 한번에 preprocessing할 수 있는 pipeline만들기\n",
    "preprocessor = ColumnTransformer(transformers=[(\"num\", num_transformer, num_features),\n",
    "                                               (\"cat\", cat_transformer, cat_features)])"
   ]
  },
  {
   "cell_type": "code",
   "execution_count": 35,
   "metadata": {
    "collapsed": true
   },
   "outputs": [
    {
     "data": {
      "text/plain": [
       "array([[342.,  27.,   1., ...,   0.,   1.,   0.],\n",
       "       [737.,  27.,   1., ...,   0.,   1.,   0.],\n",
       "       [  7.,  27.,   1., ...,   0.,   1.,   0.],\n",
       "       ...,\n",
       "       [ 34.,  35.,  31., ...,   0.,   1.,   0.],\n",
       "       [109.,  35.,  31., ...,   0.,   1.,   0.],\n",
       "       [205.,  35.,  29., ...,   0.,   1.,   0.]])"
      ]
     },
     "execution_count": 35,
     "metadata": {},
     "output_type": "execute_result"
    }
   ],
   "source": [
    "new_x = preprocessor.fit_transform(x)\n",
    "new_x"
   ]
  },
  {
   "cell_type": "code",
   "execution_count": 428,
   "metadata": {
    "scrolled": false
   },
   "outputs": [
    {
     "data": {
      "text/plain": [
       "0         0\n",
       "1         0\n",
       "2         0\n",
       "3         0\n",
       "4         0\n",
       "         ..\n",
       "119385    0\n",
       "119386    0\n",
       "119387    0\n",
       "119388    0\n",
       "119389    0\n",
       "Name: is_canceled, Length: 119390, dtype: int64"
      ]
     },
     "execution_count": 428,
     "metadata": {},
     "output_type": "execute_result"
    }
   ],
   "source": [
    "y"
   ]
  },
  {
   "cell_type": "code",
   "execution_count": 40,
   "metadata": {},
   "outputs": [
    {
     "name": "stdout",
     "output_type": "stream",
     "text": [
      "0.1551009525339756\n",
      "0.1935473063521844\n",
      "0.15508452996255642\n",
      "0.1728277285065252\n"
     ]
    }
   ],
   "source": [
    "base_models = [(\"Ri_model\", ridge),\n",
    "               (\"LogR_model\", log_reg),\n",
    "               (\"LinR_model\", lin_reg),\n",
    "               (\"DT_model\", tree_reg)]\n",
    "\n",
    "# split data into 'kfolds' parts for cross validation,\n",
    "# use shuffle to ensure random distribution of data:\n",
    "kfolds = 4 \n",
    "# 4 = 75% train, 25% validation\n",
    "from sklearn.metrics import mean_squared_error\n",
    "split = KFold(n_splits=kfolds, shuffle=True, random_state=42)\n",
    "\n",
    "# Preprocessing, fitting, making predictions and scoring for every model:\n",
    "for name, model in base_models:\n",
    "    x_training, x_testing, y_training, y_testing = train_test_split(x,y,random_state=0)\n",
    "    #데이터를 preprocessing 하는 과정과 \n",
    "    model_steps = Pipeline(steps=[('preprocessor', preprocessor),\n",
    "                              ('model', model)])\n",
    "    #('model', model)은 해당 모델로 학습을 하는 것을 의미한다.\n",
    "    model_steps.fit(x_training,y_training)\n",
    "    x_test_pred = model_steps.predict(x_testing)\n",
    "    print(mean_squared_error(x_test_pred,y_testing))\n",
    "    #print(model_steps.score(x_testing,y_testing))"
   ]
  },
  {
   "cell_type": "markdown",
   "metadata": {},
   "source": [
    "##### 제일 기본적인 LinearRegression으로 훈련시킨 것과 내가 설계한 Sequential 모델이  pipeline을 이용해서 해보나 그냥 해보나  제일 Accuracy가 높고 mean_squared_error로 test값을 계산해서 나오는 오차가 최소로 나오는 것으로 관찰이 되었다."
   ]
  },
  {
   "cell_type": "raw",
   "metadata": {},
   "source": []
  },
  {
   "cell_type": "code",
   "execution_count": null,
   "metadata": {},
   "outputs": [],
   "source": []
  }
 ],
 "metadata": {
  "kernelspec": {
   "display_name": "Python 3",
   "language": "python",
   "name": "python3"
  },
  "language_info": {
   "codemirror_mode": {
    "name": "ipython",
    "version": 3
   },
   "file_extension": ".py",
   "mimetype": "text/x-python",
   "name": "python",
   "nbconvert_exporter": "python",
   "pygments_lexer": "ipython3",
   "version": "3.7.6"
  }
 },
 "nbformat": 4,
 "nbformat_minor": 4
}
