{
  "nbformat": 4,
  "nbformat_minor": 0,
  "metadata": {
    "kernelspec": {
      "display_name": "Python 3",
      "language": "python",
      "name": "python3"
    },
    "language_info": {
      "codemirror_mode": {
        "name": "ipython",
        "version": 3
      },
      "file_extension": ".py",
      "mimetype": "text/x-python",
      "name": "python",
      "nbconvert_exporter": "python",
      "pygments_lexer": "ipython3",
      "version": "3.7.7"
    },
    "colab": {
      "name": "Ch 13 - Practice Questions 9,10",
      "provenance": []
    }
  },
  "cells": [
    {
      "cell_type": "code",
      "metadata": {
        "id": "_LHtudRPAmR2",
        "colab_type": "code",
        "colab": {}
      },
      "source": [
        "import tensorflow as tf\n",
        "import pandas as pd\n",
        "import numpy as np\n",
        "import matplotlib.pyplot as plt"
      ],
      "execution_count": 1,
      "outputs": []
    },
    {
      "cell_type": "markdown",
      "metadata": {
        "id": "DTNoWpXEAmR5",
        "colab_type": "text"
      },
      "source": [
        "**Ch13 연습문제의 9번 문제에 대해 해결해본 notebook이다.**\n",
        "- 요구 사항은 fashion MNIST 데이터셋을 적재하고 훈련, 검증, 테스트 세트로 나눈 뒤에 훈련 세트를 섞은 다음 각 데이터셋을 TFRecord 파일로 저장하는 것이었다. 이후 tf.data를 이용해서 각 세트를 위한 효율적인 데이터셋을 만들고 이 데이터셋을 이용해서 입력 특성을 표준화하는 전처리 층을 포함한 케라스 모델을 훈련해야 했다. 마지막으로 텐서보드로 프로파일 데이터를 시각화하여 가능한 입력 파이프라인을 효율적으로 만들라는 것이었다."
      ]
    },
    {
      "cell_type": "markdown",
      "metadata": {
        "id": "CzTCh8s0AmR6",
        "colab_type": "text"
      },
      "source": [
        "1. 우선 fashion MNIST 데이터셋을 불러오고 검증, 훈련, 테스트 데이터로 나눈다."
      ]
    },
    {
      "cell_type": "code",
      "metadata": {
        "id": "XnqxW7fqAmR6",
        "colab_type": "code",
        "colab": {
          "base_uri": "https://localhost:8080/",
          "height": 162
        },
        "outputId": "b544dfe4-dc33-43fc-fb91-f3cc4bb8a6ef"
      },
      "source": [
        "(x_train, y_train), (x_test, y_test) = tf.keras.datasets.fashion_mnist.load_data()\n",
        "from sklearn.model_selection import train_test_split\n",
        "x_train, x_val, y_train, y_val = train_test_split(x_train, y_train, test_size = 0.2)"
      ],
      "execution_count": 2,
      "outputs": [
        {
          "output_type": "stream",
          "text": [
            "Downloading data from https://storage.googleapis.com/tensorflow/tf-keras-datasets/train-labels-idx1-ubyte.gz\n",
            "32768/29515 [=================================] - 0s 0us/step\n",
            "Downloading data from https://storage.googleapis.com/tensorflow/tf-keras-datasets/train-images-idx3-ubyte.gz\n",
            "26427392/26421880 [==============================] - 0s 0us/step\n",
            "Downloading data from https://storage.googleapis.com/tensorflow/tf-keras-datasets/t10k-labels-idx1-ubyte.gz\n",
            "8192/5148 [===============================================] - 0s 0us/step\n",
            "Downloading data from https://storage.googleapis.com/tensorflow/tf-keras-datasets/t10k-images-idx3-ubyte.gz\n",
            "4423680/4422102 [==============================] - 0s 0us/step\n"
          ],
          "name": "stdout"
        }
      ]
    },
    {
      "cell_type": "code",
      "metadata": {
        "id": "9Ca0dUTOAmR9",
        "colab_type": "code",
        "colab": {
          "base_uri": "https://localhost:8080/",
          "height": 35
        },
        "outputId": "0f9ebfcb-0037-4ce3-e636-7f10f3fb1df8"
      },
      "source": [
        "len(x_train), len(x_val), len(x_test)"
      ],
      "execution_count": 3,
      "outputs": [
        {
          "output_type": "execute_result",
          "data": {
            "text/plain": [
              "(48000, 12000, 10000)"
            ]
          },
          "metadata": {
            "tags": []
          },
          "execution_count": 3
        }
      ]
    },
    {
      "cell_type": "markdown",
      "metadata": {
        "id": "gQ31Gbf2AmSB",
        "colab_type": "text"
      },
      "source": [
        "2. 우선 데이터를 tf.data.Dataset의 형태로 바꾸고 훈련 세트를 shuffle()을 이용해서 섞는다."
      ]
    },
    {
      "cell_type": "code",
      "metadata": {
        "id": "rSoCSbnXAmSC",
        "colab_type": "code",
        "colab": {}
      },
      "source": [
        "BUFFER_SIZE = len(x_train)\n",
        "train_dataset = tf.data.Dataset.from_tensor_slices((x_train, y_train)).shuffle(BUFFER_SIZE)\n",
        "val_dataset = tf.data.Dataset.from_tensor_slices((x_val, y_val))\n",
        "test_dataset = tf.data.Dataset.from_tensor_slices((x_test, y_test))"
      ],
      "execution_count": 4,
      "outputs": []
    },
    {
      "cell_type": "markdown",
      "metadata": {
        "id": "NCrtEe0AAmSE",
        "colab_type": "text"
      },
      "source": [
        "3. TFRecord의 형태로 저장할 수 있도록 example을 만든다."
      ]
    },
    {
      "cell_type": "code",
      "metadata": {
        "id": "sE91bLY4AmSF",
        "colab_type": "code",
        "colab": {}
      },
      "source": [
        "from tensorflow.core.example.feature_pb2 import BytesList, FloatList, Int64List\n",
        "from tensorflow.core.example.feature_pb2 import Feature, Features"
      ],
      "execution_count": 5,
      "outputs": []
    },
    {
      "cell_type": "code",
      "metadata": {
        "id": "2MDR-hGFAmSI",
        "colab_type": "code",
        "colab": {}
      },
      "source": [
        "def make_example(image, label):\n",
        "    image_data = tf.io.serialize_tensor(image)\n",
        "    label = label.numpy()\n",
        "    return tf.train.Example(\n",
        "        features = Features(\n",
        "            feature = {\n",
        "                \"image\": Feature(bytes_list = BytesList(value = [image_data.numpy()])),\n",
        "                \"label\": Feature(int64_list = Int64List(value = [label]))\n",
        "            }\n",
        "        )\n",
        "    )"
      ],
      "execution_count": 6,
      "outputs": []
    },
    {
      "cell_type": "code",
      "metadata": {
        "id": "81s09iDmAmSK",
        "colab_type": "code",
        "colab": {
          "base_uri": "https://localhost:8080/",
          "height": 381
        },
        "outputId": "0f71892b-f305-44d9-9b35-89206b7166dc"
      },
      "source": [
        "for i,l in val_dataset.take(1):\n",
        "    A = (make_example(i,l))\n",
        "    print(A)"
      ],
      "execution_count": 7,
      "outputs": [
        {
          "output_type": "stream",
          "text": [
            "features {\n",
            "  feature {\n",
            "    key: \"image\"\n",
            "    value {\n",
            "      bytes_list {\n",
            "        value: \"\\010\\004\\022\\010\\022\\002\\010\\034\\022\\002\\010\\034\\\"\\220\\006\\000\\000\\000\\000\\000\\000\\000\\003\\000\\200$\\000\\000\\000\\000\\000\\000\\0007o\\000\\001\\000\\000\\000\\000\\000\\000\\000\\000\\000\\000\\000\\000\\000\\001\\000Vne5\\000\\000\\000Pqn:\\000\\001\\000\\000\\000\\000\\000\\000\\000\\000\\000\\000\\000\\000\\000\\001\\000\\000x\\315\\277\\274\\202\\243\\303\\252+\\000\\000\\000\\000\\000\\000\\000\\000\\000\\000\\000\\000\\000\\000\\000\\000\\000\\000\\000\\252\\274\\236\\257\\276\\253\\245\\310K\\000\\000\\000\\000\\000\\000\\000\\000\\000\\000\\000\\000\\000\\000\\000\\000\\000\\000\\000\\222\\342\\301~}\\267\\265\\304\\240\\000\\000\\000\\000\\000\\000\\000\\000\\000\\000\\000\\000\\000\\000\\000\\000\\000\\000\\000\\253\\342\\337\\310\\274\\310\\222\\250\\262#\\000\\000\\000\\000\\000\\000\\000\\000\\000\\000\\000\\000\\000\\000\\000\\000\\000V\\341\\311\\322\\245\\226\\262\\227\\236\\231\\200\\000\\000\\001\\000\\000\\000\\000\\000\\000\\000\\000\\000\\000\\000\\000\\000\\022\\276\\306\\253\\332\\226\\306\\240\\260\\240\\200\\276\\031\\000\\001\\000\\000\\000\\000\\000\\000\\000\\000\\000\\000\\000\\000\\000\\311\\344\\303\\224\\250\\226\\351\\265\\246\\240{\\260\\210\\000\\000\\000\\000\\000\\000\\000\\000\\000\\000\\000\\000\\000\\000(\\304\\315\\272\\240\\252\\212\\265\\245v\\224\\205\\202\\325\\025\\000\\000\\000\\000\\000\\000\\000\\000\\000\\000\\000\\000\\000\\240\\253\\323\\253\\227\\227\\203\\203\\253{\\202\\222l\\250\\271\\020\\000\\000\\000\\000\\000\\000\\000\\000\\000\\000\\000s\\241\\212\\303\\240\\203\\234\\215\\226\\253\\255~\\231v\\215\\255\\274\\000\\000\\000\\000\\000\\000\\000\\000\\000\\000\\000\\202\\226\\210\\250\\255\\200\\227~\\224\\274y\\205\\240q\\233\\224\\222\\000\\000\\000\\000\\000\\000\\000\\000\\000\\000\\000\\207\\233\\234\\224\\233\\212\\227\\215{\\267\\207s\\241d\\203\\234\\272\\000\\000\\000\\000\\000\\000\\000\\000\\000\\000\\000\\207\\217l\\264\\234t\\221\\243b\\267\\257{\\250j\\243\\227y\\000\\000\\000\\000\\000\\000\\000\\000\\000\\000\\000o\\272l\\226\\243\\227\\212\\231\\205\\271\\234v\\231{~\\210\\031\\000\\000\\000\\000\\000\\000\\000\\000\\000\\000\\000n\\265\\200v\\233\\203\\241\\205}\\265xs\\264o{\\245l\\000\\000\\000\\000\\000\\000\\000\\000\\000\\000\\000X\\255_~\\224\\217\\234\\203n\\253jU\\330q}\\234\\277\\000\\000\\000\\000\\000\\000\\000\\000\\000\\000\\000_\\306\\200\\200\\226\\210\\217\\205Q\\271\\313}\\377\\214n\\303\\215\\000\\000\\000\\000\\000\\000\\000\\000\\000\\000\\000S\\330\\205\\217\\221\\240\\226\\2520\\320\\335\\337\\265\\234\\205\\217\\013\\000\\000\\000\\000\\000\\000\\000\\000\\000\\000\\000$\\332\\203\\212\\233\\267\\241\\356\\217\\346b\\236F\\210\\226\\217\\032\\000\\000\\000\\000\\000\\000\\000\\000\\000\\000\\000\\000\\311\\264y\\241\\231\\243\\334\\356\\221\\020F~X\\221\\327)\\000\\000\\000\\000\\000\\000\\000\\000\\000\\000\\000\\000\\227\\252g\\241U\\313{`\\205\\224\\203\\246_\\262\\246\\000\\000\\000\\000\\000\\000\\000\\000\\000\\000\\000\\000\\000dt\\276\\255\\255\\246q-\\265v\\227\\200d\\267\\332\\006\\000\\000\\000\\000\\000\\000\\000\\000\\000\\000\\000\\000\\231x\\315d\\231\\205\\200q\\264<\\267\\227s\\316\\203\\000\\000\\000\\000\\000\\000\\000\\000\\000\\000\\000\\000\\000\\253\\226\\264}`\\243}s\\322\\252\\252\\210\\221\\274{\\000\\000\\000\\000\\000\\000\\000\\000\\000\\000\\000\\000\\000d\\207\\212t\\265j\\311\\264\\214\\323\\236-s\\246\\006\\000\\000\\000\\000\\000\\000\\000\\000\\000\\000\\000\\000\\000\\000\\233Pv\\260\\205\\260\\277\\221.dZ\\217\\267\\000\\000\\000\\000\\000\\000\\000\"\n",
            "      }\n",
            "    }\n",
            "  }\n",
            "  feature {\n",
            "    key: \"label\"\n",
            "    value {\n",
            "      int64_list {\n",
            "        value: 0\n",
            "      }\n",
            "    }\n",
            "  }\n",
            "}\n",
            "\n"
          ],
          "name": "stdout"
        }
      ]
    },
    {
      "cell_type": "markdown",
      "metadata": {
        "id": "8g1fT6U4AmSN",
        "colab_type": "text"
      },
      "source": [
        "4. Example 프로토콜 버퍼를 만들었으니 이제는 데이터의 저장 경로를 지정해 주고 TFRecord 파일로 저장해 주어야 한다."
      ]
    },
    {
      "cell_type": "code",
      "metadata": {
        "id": "VirYp7XFAmSN",
        "colab_type": "code",
        "colab": {}
      },
      "source": [
        "def write_tfrecord(name, dataset,n_shards = 10):\n",
        "    #저장 경로의 형태를 지정해주고\n",
        "    path_dir = ['{}.tf_record_{:05d}_of_{:05d}'.format(name, index, n_shards ) for index in range(n_shards)]\n",
        "    files = []\n",
        "    for i in path_dir:\n",
        "        #경로를 TFRecord의 형태로 바꾸어 주고\n",
        "        files.append(tf.io.TFRecordWriter(i))\n",
        "    for index, (image, label) in dataset.enumerate():\n",
        "        #순서대로 데이터를 넣어주어야 함\n",
        "        shard = index % n_shards\n",
        "        example = make_example(image, label)\n",
        "        files[shard].write(example.SerializeToString())\n",
        "    return path_dir\n",
        "        "
      ],
      "execution_count": 8,
      "outputs": []
    },
    {
      "cell_type": "code",
      "metadata": {
        "id": "WWKFe0fMAmSP",
        "colab_type": "code",
        "colab": {}
      },
      "source": [
        "train_rec = write_tfrecord('my_mnist.train', train_dataset, 10)\n",
        "test_rec = write_tfrecord('my_mnist.test', test_dataset, 10)\n",
        "val_rec = write_tfrecord('my_mnist.val', val_dataset, 10)"
      ],
      "execution_count": 9,
      "outputs": []
    },
    {
      "cell_type": "code",
      "metadata": {
        "id": "CLSPxi8WAmSR",
        "colab_type": "code",
        "colab": {
          "base_uri": "https://localhost:8080/",
          "height": 198
        },
        "outputId": "5cbf2c08-4ed8-415c-98fe-44e9645bc57c"
      },
      "source": [
        "test_rec"
      ],
      "execution_count": 10,
      "outputs": [
        {
          "output_type": "execute_result",
          "data": {
            "text/plain": [
              "['my_mnist.test.tf_record_00000_of_00010',\n",
              " 'my_mnist.test.tf_record_00001_of_00010',\n",
              " 'my_mnist.test.tf_record_00002_of_00010',\n",
              " 'my_mnist.test.tf_record_00003_of_00010',\n",
              " 'my_mnist.test.tf_record_00004_of_00010',\n",
              " 'my_mnist.test.tf_record_00005_of_00010',\n",
              " 'my_mnist.test.tf_record_00006_of_00010',\n",
              " 'my_mnist.test.tf_record_00007_of_00010',\n",
              " 'my_mnist.test.tf_record_00008_of_00010',\n",
              " 'my_mnist.test.tf_record_00009_of_00010']"
            ]
          },
          "metadata": {
            "tags": []
          },
          "execution_count": 10
        }
      ]
    },
    {
      "cell_type": "markdown",
      "metadata": {
        "id": "JVcEQ0OUD0GD",
        "colab_type": "text"
      },
      "source": [
        "- 직렬화된 Example 프로토콜 버퍼를 읽기 위해서 tf.data.TFRecordDataset을 이용하고 tf.io.parse_single_example()을 사용하여 각 Example을 parsing 했다.\n",
        "- 이 함수에는 두개의 매개 변수가 필요한데, 우선 직렬화된 데이터를 담은 문자열 스칼라 텐서와 각 특성에 대한 설명이다.\n",
        "  - 이 설명이라는 것을 각 특성 이름을 특성의 크기, 타입, 기본값을 표현한 tf.io.FixedLenFeature이나 특성 리스트의 길이가 가변적인 경우에 사용하는 tf.io.VarLenFeature을 이용한다."
      ]
    },
    {
      "cell_type": "code",
      "metadata": {
        "id": "HrEyILRgAmST",
        "colab_type": "code",
        "colab": {}
      },
      "source": [
        "def preprocess(tfrecord):\n",
        "    feature_discription = {\n",
        "        \"image\": tf.io.FixedLenFeature([], tf.string, default_value = \"\"),\n",
        "        \"label\": tf.io.FixedLenFeature([], tf.int64, default_value = -1)\n",
        "    }\n",
        "    example = tf.io.parse_single_example(tfrecord, feature_discription)\n",
        "    #아래 코드는 tf.io.decode_jepg(example[\"image\"])와 동일하다. 다만, decode를 하게 되면 이미지의 화질이 현저하게 떨어지게 된다\n",
        "    image = tf.io.parse_tensor(example[\"image\"], out_type = tf.uint8)\n",
        "    image = tf.reshape(image, shape = [28,28,1])\n",
        "    return image, example[\"label\"]\n",
        "    "
      ],
      "execution_count": 11,
      "outputs": []
    },
    {
      "cell_type": "code",
      "metadata": {
        "id": "6j2XI0oXAmSX",
        "colab_type": "code",
        "colab": {}
      },
      "source": [
        "def make_mnist(filepaths, n_read=5, buffer_size=None,\n",
        "                  n_parse=5, batch_size=32, cache=True):\n",
        "    dataset = tf.data.TFRecordDataset(filepaths,\n",
        "                                      num_parallel_reads=n_read)\n",
        "    if cache:\n",
        "        dataset = dataset.cache()\n",
        "    if buffer_size:\n",
        "        dataset = dataset.shuffle(buffer_size)\n",
        "    dataset = dataset.map(preprocess)\n",
        "    dataset = dataset.batch(batch_size)\n",
        "    return dataset.prefetch(1)"
      ],
      "execution_count": 12,
      "outputs": []
    },
    {
      "cell_type": "code",
      "metadata": {
        "id": "XPYWv1SaAmSZ",
        "colab_type": "code",
        "colab": {}
      },
      "source": [
        "train_set = make_mnist(train_rec, buffer_size=len(x_train))\n",
        "valid_set = make_mnist(val_rec)\n",
        "test_set = make_mnist(test_rec)"
      ],
      "execution_count": 13,
      "outputs": []
    },
    {
      "cell_type": "code",
      "metadata": {
        "id": "iUmorSTmAmSc",
        "colab_type": "code",
        "colab": {
          "base_uri": "https://localhost:8080/",
          "height": 104
        },
        "outputId": "9a913c1c-cde2-4c18-f4e1-e090673cf26a"
      },
      "source": [
        "for i, l in train_set.take(1):\n",
        "    for j in range(5):\n",
        "        plt.subplot(1,5,j+1)\n",
        "        plt.imshow(i[j].numpy().reshape(28,28), cmap = 'binary')\n",
        "        plt.title(l[j].numpy())\n",
        "        plt.axis('off')"
      ],
      "execution_count": 15,
      "outputs": [
        {
          "output_type": "display_data",
          "data": {
            "image/png": "[encoded data removed]",
            "text/plain": [
              "<Figure size 432x288 with 5 Axes>"
            ]
          },
          "metadata": {
            "tags": [],
            "needs_background": "light"
          }
        }
      ]
    },
    {
      "cell_type": "code",
      "metadata": {
        "id": "kTHgFt1CAmSe",
        "colab_type": "code",
        "colab": {}
      },
      "source": [
        "class Standardization(tf.keras.layers.Layer):\n",
        "    def adapt(self, data_sample):\n",
        "        self.mean = np.mean(data_sample, axis=0, keepdims=True)\n",
        "        self.std = np.std(data_sample, axis=0, keepdims=True)\n",
        "    def call(self, inputs):\n",
        "        return (inputs - self.mean) / (self.std)\n",
        "\n",
        "standardization = Standardization(input_shape=[28, 28,1])\n",
        "\n",
        "sample= train_set.take(100).map(lambda image, label: image)\n",
        "sample = np.concatenate(list(sample.as_numpy_iterator()),\n",
        "                               axis=0).astype(np.float32)\n",
        "standardization.adapt(sample)"
      ],
      "execution_count": 16,
      "outputs": []
    },
    {
      "cell_type": "code",
      "metadata": {
        "id": "i3dEskxmAmSh",
        "colab_type": "code",
        "colab": {}
      },
      "source": [
        "model = tf.keras.models.Sequential()\n",
        "model.add(tf.keras.layers.Conv2D(64,input_shape = [28,28,1], kernel_size = 2, strides = 2, activation = 'relu', padding = 'same'))\n",
        "model.add(tf.keras.layers.MaxPool2D(2))\n",
        "model.add(tf.keras.layers.Conv2D(128, kernel_size = 2, strides = 2, activation = 'relu', padding = 'same'))\n",
        "model.add(tf.keras.layers.MaxPool2D(2))\n",
        "model.add(tf.keras.layers.Flatten())\n",
        "model.add(tf.keras.layers.Dense(100, activation = 'relu'))\n",
        "model.add(tf.keras.layers.Dense(10, activation = 'softmax'))"
      ],
      "execution_count": 45,
      "outputs": []
    },
    {
      "cell_type": "code",
      "metadata": {
        "id": "6Xj4FGZ6AmSj",
        "colab_type": "code",
        "colab": {
          "base_uri": "https://localhost:8080/",
          "height": 416
        },
        "outputId": "dbea8bb0-4f2f-4abe-eed5-bdefb47250f5"
      },
      "source": [
        "model.summary()"
      ],
      "execution_count": 46,
      "outputs": [
        {
          "output_type": "stream",
          "text": [
            "Model: \"sequential_5\"\n",
            "_________________________________________________________________\n",
            "Layer (type)                 Output Shape              Param #   \n",
            "=================================================================\n",
            "conv2d_6 (Conv2D)            (None, 14, 14, 64)        320       \n",
            "_________________________________________________________________\n",
            "max_pooling2d_6 (MaxPooling2 (None, 7, 7, 64)          0         \n",
            "_________________________________________________________________\n",
            "conv2d_7 (Conv2D)            (None, 4, 4, 128)         32896     \n",
            "_________________________________________________________________\n",
            "max_pooling2d_7 (MaxPooling2 (None, 2, 2, 128)         0         \n",
            "_________________________________________________________________\n",
            "flatten_5 (Flatten)          (None, 512)               0         \n",
            "_________________________________________________________________\n",
            "dense_10 (Dense)             (None, 100)               51300     \n",
            "_________________________________________________________________\n",
            "dense_11 (Dense)             (None, 10)                1010      \n",
            "=================================================================\n",
            "Total params: 85,526\n",
            "Trainable params: 85,526\n",
            "Non-trainable params: 0\n",
            "_________________________________________________________________\n"
          ],
          "name": "stdout"
        }
      ]
    },
    {
      "cell_type": "markdown",
      "metadata": {
        "id": "qRRPD8d_OwKk",
        "colab_type": "text"
      },
      "source": [
        "- 이 모델의 훈련을 위해서는 아직 label을 to_categorical()을 이용해서 one-hot tensor의 형태로 변환한 것이 아니고 10개의 정수로 이루어져 있기 때문에 loss로 sparse_categorical_crossentropy를 사용한다. \n",
        "- 그게 아니라면 loss로 categorical_crossentropy를 사용해야 한다."
      ]
    },
    {
      "cell_type": "code",
      "metadata": {
        "id": "FEwgTmPOAmSl",
        "colab_type": "code",
        "colab": {}
      },
      "source": [
        "model.compile(loss = 'sparse_categorical_crossentropy', metrics = ['accuracy'], optimizer = 'nadam')"
      ],
      "execution_count": 49,
      "outputs": []
    },
    {
      "cell_type": "code",
      "metadata": {
        "id": "9I7uGDCEAmSo",
        "colab_type": "code",
        "colab": {
          "base_uri": "https://localhost:8080/",
          "height": 216
        },
        "outputId": "7060453a-bf02-4cf4-a0c7-574eba867fd8"
      },
      "source": [
        "model.fit(train_set, validation_data = valid_set, epochs = 5)"
      ],
      "execution_count": 50,
      "outputs": [
        {
          "output_type": "stream",
          "text": [
            "Epoch 1/5\n",
            "1500/1500 [==============================] - 20s 13ms/step - loss: 0.7238 - accuracy: 0.7441 - val_loss: 0.4941 - val_accuracy: 0.8201\n",
            "Epoch 2/5\n",
            "1500/1500 [==============================] - 20s 13ms/step - loss: 0.4597 - accuracy: 0.8321 - val_loss: 0.4317 - val_accuracy: 0.8447\n",
            "Epoch 3/5\n",
            "1500/1500 [==============================] - 20s 13ms/step - loss: 0.4170 - accuracy: 0.8476 - val_loss: 0.4064 - val_accuracy: 0.8520\n",
            "Epoch 4/5\n",
            "1500/1500 [==============================] - 20s 13ms/step - loss: 0.3917 - accuracy: 0.8565 - val_loss: 0.3938 - val_accuracy: 0.8556\n",
            "Epoch 5/5\n",
            "1500/1500 [==============================] - 20s 13ms/step - loss: 0.3733 - accuracy: 0.8629 - val_loss: 0.3865 - val_accuracy: 0.8591\n"
          ],
          "name": "stdout"
        },
        {
          "output_type": "execute_result",
          "data": {
            "text/plain": [
              "<tensorflow.python.keras.callbacks.History at 0x7fe983a3f550>"
            ]
          },
          "metadata": {
            "tags": []
          },
          "execution_count": 50
        }
      ]
    },
    {
      "cell_type": "code",
      "metadata": {
        "id": "QWv5ywHsAmSq",
        "colab_type": "code",
        "colab": {
          "base_uri": "https://localhost:8080/",
          "height": 53
        },
        "outputId": "2b8158c7-a68e-4002-9ddc-600aa438f91c"
      },
      "source": [
        "model.evaluate(test_set)"
      ],
      "execution_count": 51,
      "outputs": [
        {
          "output_type": "stream",
          "text": [
            "313/313 [==============================] - 2s 5ms/step - loss: 0.4129 - accuracy: 0.8511\n"
          ],
          "name": "stdout"
        },
        {
          "output_type": "execute_result",
          "data": {
            "text/plain": [
              "[0.4128890037536621, 0.8511000275611877]"
            ]
          },
          "metadata": {
            "tags": []
          },
          "execution_count": 51
        }
      ]
    },
    {
      "cell_type": "markdown",
      "metadata": {
        "id": "f_LfHCqgRXiN",
        "colab_type": "text"
      },
      "source": [
        "### Accuracy = 85.11% (with CNN Layer)"
      ]
    },
    {
      "cell_type": "code",
      "metadata": {
        "id": "rpob0tOqBQ52",
        "colab_type": "code",
        "colab": {}
      },
      "source": [
        "prediction = model.predict(test_set)"
      ],
      "execution_count": 54,
      "outputs": []
    },
    {
      "cell_type": "code",
      "metadata": {
        "id": "oNZmMNasRPPS",
        "colab_type": "code",
        "colab": {
          "base_uri": "https://localhost:8080/",
          "height": 669
        },
        "outputId": "41089b82-e46f-4105-8970-3525231333e1"
      },
      "source": [
        "plt.figure(figsize=(12,12))\n",
        "for img, label in test_set.take(1):\n",
        "  pred = model.predict(img)\n",
        "  for i in range(12):\n",
        "    plt.subplot(3,4,i+1)\n",
        "    plt.imshow(img[i].numpy().reshape(28,28), cmap = 'binary')\n",
        "    if label[i].numpy() == np.argmax(pred[i]):plt.title('{}:{}'.format(np.argmax(pred[i]),label[i].numpy()), color = 'b')\n",
        "    else:plt.title('{}:{}'.format(np.argmax(pred[i]), label[i].numpy()), color = 'r')"
      ],
      "execution_count": 71,
      "outputs": [
        {
          "output_type": "display_data",
          "data": {
            "image/png": "[encoded data removed]",
            "text/plain": [
              "<Figure size 864x864 with 12 Axes>"
            ]
          },
          "metadata": {
            "tags": [],
            "needs_background": "light"
          }
        }
      ]
    },
    {
      "cell_type": "markdown",
      "metadata": {
        "id": "OjJGB6_DV0_x",
        "colab_type": "text"
      },
      "source": [
        "- 하나 빼고 다 맞추고 있음이 시각화로 확인이 가능하다."
      ]
    },
    {
      "cell_type": "code",
      "metadata": {
        "id": "Iu4l8OvQCBxR",
        "colab_type": "code",
        "colab": {
          "base_uri": "https://localhost:8080/",
          "height": 216
        },
        "outputId": "afea2c21-78f8-4a57-9c62-0b4c50ca74d6"
      },
      "source": [
        "model_new = tf.keras.models.Sequential([\n",
        "    tf.keras.layers.Flatten(),\n",
        "    tf.keras.layers.Dense(100, activation=\"relu\"),\n",
        "    tf.keras.layers.Dense(10, activation=\"softmax\")\n",
        "])\n",
        "model_new.compile(loss=\"sparse_categorical_crossentropy\",\n",
        "              optimizer=\"nadam\", metrics=[\"accuracy\"])\n",
        "model_new.fit(train_set, epochs=5, validation_data=valid_set)"
      ],
      "execution_count": 52,
      "outputs": [
        {
          "output_type": "stream",
          "text": [
            "Epoch 1/5\n",
            "1500/1500 [==============================] - 6s 4ms/step - loss: 3.6606 - accuracy: 0.6820 - val_loss: 0.8327 - val_accuracy: 0.7090\n",
            "Epoch 2/5\n",
            "1500/1500 [==============================] - 6s 4ms/step - loss: 0.7166 - accuracy: 0.7467 - val_loss: 0.6925 - val_accuracy: 0.7431\n",
            "Epoch 3/5\n",
            "1500/1500 [==============================] - 7s 5ms/step - loss: 0.6157 - accuracy: 0.7874 - val_loss: 0.5629 - val_accuracy: 0.8171\n",
            "Epoch 4/5\n",
            "1500/1500 [==============================] - 7s 5ms/step - loss: 0.5329 - accuracy: 0.8190 - val_loss: 0.5825 - val_accuracy: 0.8139\n",
            "Epoch 5/5\n",
            "1500/1500 [==============================] - 6s 4ms/step - loss: 0.5161 - accuracy: 0.8259 - val_loss: 0.5243 - val_accuracy: 0.8296\n"
          ],
          "name": "stdout"
        },
        {
          "output_type": "execute_result",
          "data": {
            "text/plain": [
              "<tensorflow.python.keras.callbacks.History at 0x7fe9838b4748>"
            ]
          },
          "metadata": {
            "tags": []
          },
          "execution_count": 52
        }
      ]
    },
    {
      "cell_type": "code",
      "metadata": {
        "id": "SerX-Y-vRtGB",
        "colab_type": "code",
        "colab": {
          "base_uri": "https://localhost:8080/",
          "height": 53
        },
        "outputId": "184d59c8-3046-4b8e-9017-11b4b1265bf7"
      },
      "source": [
        "model_new.evaluate(test_set)"
      ],
      "execution_count": 53,
      "outputs": [
        {
          "output_type": "stream",
          "text": [
            "313/313 [==============================] - 1s 3ms/step - loss: 0.5481 - accuracy: 0.8169\n"
          ],
          "name": "stdout"
        },
        {
          "output_type": "execute_result",
          "data": {
            "text/plain": [
              "[0.5481244921684265, 0.8169000148773193]"
            ]
          },
          "metadata": {
            "tags": []
          },
          "execution_count": 53
        }
      ]
    },
    {
      "cell_type": "markdown",
      "metadata": {
        "id": "EDunn41QRyz5",
        "colab_type": "text"
      },
      "source": [
        "### Accuracy = 81.69% (Only DNN)"
      ]
    },
    {
      "cell_type": "markdown",
      "metadata": {
        "id": "l4bvOToQKQvO",
        "colab_type": "text"
      },
      "source": [
        "- 이렇게 이미지의 데이터를 TFRecord의 형태로 저장해서 이용하는 것을 해보았는데, 생각보다 너무 복잡하고 까다로웠다.\n",
        "- 그리고 중간에 normalization에 오류가 있었는지 계속해서, CNN layer없이 Dense layer만 사용해고 loss = nan이 발생했지만 **Standardization층을 없애니까 바로 정확도가 올라**가 버렸다."
      ]
    },
    {
      "cell_type": "markdown",
      "metadata": {
        "id": "N-8m9h-GPOGn",
        "colab_type": "text"
      },
      "source": [
        "### 10번\n",
        "- "
      ]
    },
    {
      "cell_type": "code",
      "metadata": {
        "id": "RUOqtqzofJUM",
        "colab_type": "code",
        "colab": {}
      },
      "source": [
        "from pathlib import Path\n",
        "\n",
        "DOWNLOAD_ROOT = \"http://ai.stanford.edu/~amaas/data/sentiment/\"\n",
        "FILENAME = \"aclImdb_v1.tar.gz\"\n",
        "fp = tf.keras.utils.get_file(FILENAME, DOWNLOAD_ROOT + FILENAME, extract=True)"
      ],
      "execution_count": 95,
      "outputs": []
    },
    {
      "cell_type": "code",
      "metadata": {
        "id": "RIf4m-1-fVYX",
        "colab_type": "code",
        "colab": {}
      },
      "source": [
        "fpath = Path(fp).parent / \"acllmdb\""
      ],
      "execution_count": 86,
      "outputs": []
    },
    {
      "cell_type": "code",
      "metadata": {
        "id": "dtJUzru4fraW",
        "colab_type": "code",
        "colab": {
          "base_uri": "https://localhost:8080/",
          "height": 35
        },
        "outputId": "6c7ec8c6-2b9c-482c-ae62-d0bbb0f59f93"
      },
      "source": [
        "fpath"
      ],
      "execution_count": 88,
      "outputs": [
        {
          "output_type": "execute_result",
          "data": {
            "text/plain": [
              "PosixPath('/root/.keras/datasets/acllmdb')"
            ]
          },
          "metadata": {
            "tags": []
          },
          "execution_count": 88
        }
      ]
    },
    {
      "cell_type": "code",
      "metadata": {
        "id": "9DdQNmxsDUAf",
        "colab_type": "code",
        "colab": {
          "base_uri": "https://localhost:8080/",
          "height": 35
        },
        "outputId": "779dfd56-c1b3-4ce7-eea0-1031559caafa"
      },
      "source": [
        "from pathlib import Path\n",
        "\n",
        "DOWNLOAD_ROOT = \"http://ai.stanford.edu/~amaas/data/sentiment/\"\n",
        "FILENAME = \"aclImdb_v1.tar.gz\"\n",
        "filepath = tf.keras.utils.get_file(FILENAME, DOWNLOAD_ROOT + FILENAME, extract=True)\n",
        "path = Path(filepath).parent / \"aclImdb\"\n",
        "path"
      ],
      "execution_count": 96,
      "outputs": [
        {
          "output_type": "execute_result",
          "data": {
            "text/plain": [
              "PosixPath('/root/.keras/datasets/aclImdb')"
            ]
          },
          "metadata": {
            "tags": []
          },
          "execution_count": 96
        }
      ]
    },
    {
      "cell_type": "code",
      "metadata": {
        "id": "J2D8-byXDVCn",
        "colab_type": "code",
        "colab": {
          "base_uri": "https://localhost:8080/",
          "height": 35
        },
        "outputId": "69c73111-0bde-4228-e45f-67ae241474f9"
      },
      "source": [
        "import os\n",
        "len(os.listdir(path))"
      ],
      "execution_count": 97,
      "outputs": [
        {
          "output_type": "execute_result",
          "data": {
            "text/plain": [
              "5"
            ]
          },
          "metadata": {
            "tags": []
          },
          "execution_count": 97
        }
      ]
    },
    {
      "cell_type": "code",
      "metadata": {
        "id": "aLnGI63lCE8B",
        "colab_type": "code",
        "colab": {
          "base_uri": "https://localhost:8080/",
          "height": 307
        },
        "outputId": "98b6baf3-b557-42a3-ce58-4235e89dea30"
      },
      "source": [
        "for name,subdirs, files in os.walk(path):\n",
        "  print(subdirs)\n",
        "  print(name)"
      ],
      "execution_count": 7,
      "outputs": [
        {
          "output_type": "stream",
          "text": [
            "['test', 'train']\n",
            "/root/.keras/datasets/aclImdb\n",
            "['neg', 'pos']\n",
            "/root/.keras/datasets/aclImdb/test\n",
            "[]\n",
            "/root/.keras/datasets/aclImdb/test/neg\n",
            "[]\n",
            "/root/.keras/datasets/aclImdb/test/pos\n",
            "['neg', 'unsup', 'pos']\n",
            "/root/.keras/datasets/aclImdb/train\n",
            "[]\n",
            "/root/.keras/datasets/aclImdb/train/neg\n",
            "[]\n",
            "/root/.keras/datasets/aclImdb/train/unsup\n",
            "[]\n",
            "/root/.keras/datasets/aclImdb/train/pos\n"
          ],
          "name": "stdout"
        }
      ]
    },
    {
      "cell_type": "code",
      "metadata": {
        "id": "wXKJR9Mh8PD5",
        "colab_type": "code",
        "colab": {}
      },
      "source": [
        "def review_paths(dirpath):\n",
        "  return [str(i) for i in dirpath.glob(\"*.txt\")]"
      ],
      "execution_count": 8,
      "outputs": []
    },
    {
      "cell_type": "code",
      "metadata": {
        "id": "DfLjq7j2_aUd",
        "colab_type": "code",
        "colab": {}
      },
      "source": [
        "train_pos = review_paths(path / \"train\" / \"pos\")\n",
        "train_neg = review_paths(path / \"train\" / \"neg\")\n",
        "test_valid_pos = review_paths(path / \"test\" / \"pos\")\n",
        "test_valid_neg = review_paths(path / \"test\" / \"neg\")"
      ],
      "execution_count": 9,
      "outputs": []
    },
    {
      "cell_type": "code",
      "metadata": {
        "id": "u0e4peNdAE2N",
        "colab_type": "code",
        "colab": {
          "base_uri": "https://localhost:8080/",
          "height": 107
        },
        "outputId": "5aebcb1a-f574-489f-f9bd-511da72533c1"
      },
      "source": [
        "train_pos[:5]"
      ],
      "execution_count": 10,
      "outputs": [
        {
          "output_type": "execute_result",
          "data": {
            "text/plain": [
              "['/root/.keras/datasets/aclImdb/train/pos/8240_9.txt',\n",
              " '/root/.keras/datasets/aclImdb/train/pos/10833_10.txt',\n",
              " '/root/.keras/datasets/aclImdb/train/pos/6804_7.txt',\n",
              " '/root/.keras/datasets/aclImdb/train/pos/5301_8.txt',\n",
              " '/root/.keras/datasets/aclImdb/train/pos/9590_10.txt']"
            ]
          },
          "metadata": {
            "tags": []
          },
          "execution_count": 10
        }
      ]
    },
    {
      "cell_type": "code",
      "metadata": {
        "id": "yPC5AwSmAFrC",
        "colab_type": "code",
        "colab": {
          "base_uri": "https://localhost:8080/",
          "height": 35
        },
        "outputId": "f4ba6b1a-dd95-4e99-dbba-dd9e548f145c"
      },
      "source": [
        "len(train_pos), len(train_neg), len(test_valid_pos), len(test_valid_neg)"
      ],
      "execution_count": 11,
      "outputs": [
        {
          "output_type": "execute_result",
          "data": {
            "text/plain": [
              "(12500, 12500, 12500, 12500)"
            ]
          },
          "metadata": {
            "tags": []
          },
          "execution_count": 11
        }
      ]
    },
    {
      "cell_type": "markdown",
      "metadata": {
        "id": "Weer3PgKEUxA",
        "colab_type": "text"
      },
      "source": [
        "#### 2. 문제에서 요구한 대로 테스트 세트를 검증세트 15000개와 테스트 세트 10000개로 나누고자 한다."
      ]
    },
    {
      "cell_type": "code",
      "metadata": {
        "id": "kGg0bPWFESd1",
        "colab_type": "code",
        "colab": {}
      },
      "source": [
        "np.random.shuffle(test_valid_pos)\n",
        "np.random.shuffle(test_valid_neg)\n",
        "\n",
        "test_pos, val_pos = test_valid_pos[:5000], test_valid_pos[5000:]\n",
        "test_neg, val_neg = test_valid_neg[:5000], test_valid_neg[5000:]"
      ],
      "execution_count": 12,
      "outputs": []
    },
    {
      "cell_type": "markdown",
      "metadata": {
        "id": "fzveqRrHFN4u",
        "colab_type": "text"
      },
      "source": [
        "#### 3. tf.data.Dataset을 이용해서 각 세트에 대한 효율적인 데이터세트를 만든다.\n",
        "- 아무래도 훈련의 목적이 텍스트 데이터에 대해서 긍정, 부정을 검사 하는 것이다 보니까 labeling을 할 때에 긍정은 1, 부정은 0으로 하면 될 것이라고 생각했다.\n",
        "- 그래서 데이터셋에 대해서 텍스트 데이터와 라벨을 묶어서 dataset으로 반환하기 위해서 지금까지 위에서 만든 리스트가 어떤 정보를 담은 것인지 잊지 말아야 한다.\n",
        "  - 위에서 shuffle 하고 train, test, val으로 나눈 것들은 모두 **저장 경로**이고 우리는 이 저장 경로를 이용해서 학습 하는 것이 아니라 **저장 경로에 담긴 데이터를 이용해 학습**하는 것이다.\n",
        "  - 따라서 ```\n",
        "  with open(filepath) as f:\n",
        "  file.append(f.read())```\n",
        "    이런 식으로 데이터를 읽어서 tf.data.Dataset의 형태로 바꾸어야 한다."
      ]
    },
    {
      "cell_type": "code",
      "metadata": {
        "id": "UvegufLJEude",
        "colab_type": "code",
        "colab": {}
      },
      "source": [
        "def imdb_dataset(pos, neg):\n",
        "  review, labels = [],[]\n",
        "  for filepath, label in ((neg, 0), (pos, 1)):\n",
        "    for i in filepath:\n",
        "      with open(i) as f:\n",
        "        review.append(f.read())\n",
        "      labels.append(label)\n",
        "  return tf.data.Dataset.from_tensor_slices((tf.constant(review), tf.constant(labels)))\n"
      ],
      "execution_count": 15,
      "outputs": []
    },
    {
      "cell_type": "code",
      "metadata": {
        "id": "kBMDE1GhGUVM",
        "colab_type": "code",
        "colab": {
          "base_uri": "https://localhost:8080/",
          "height": 145
        },
        "outputId": "c8d68c0a-7545-44d0-d501-4bc3e20e7c6f"
      },
      "source": [
        "for x, y in imdb_dataset(test_pos, test_neg).take(3):\n",
        "  print(x)\n",
        "  print(y)"
      ],
      "execution_count": 17,
      "outputs": [
        {
          "output_type": "stream",
          "text": [
            "tf.Tensor(b'There is no real story the film seems more like a fly on the wall drama-documentary than a proper film so this piece may in itself be a spoiler. Teen drama about 3 young Singaporean kids (very similar to UK chavs) who play truant from school, run with gangs, get into fights, insult people on the street, get tattoos, hang about doing nothing, etc. etc, They generally imagine themselves to be hard and every so often shout challenging rap chants into the camera. Filmed in MTV style, fast cuts, crazy camera angles, tight close ups and animation interludes. The dialogue might have been crisper in the original languages of Mandarin and Hokkien than in the subtitles and I have no doubt that some of the contemporary Singapore references will slip over Western heads as well as the cultural and political context unless of course you are familiar with Singapore. This kind of teen film may be a first for Singapore but it has been done before and done better in other Western countries, La Haine (1995) for example.', shape=(), dtype=string)\n",
            "tf.Tensor(0, shape=(), dtype=int32)\n",
            "tf.Tensor(b\"Dr. Lucio Fulci (Lucio Fulci) is a director of gory horror movies who is starting to feel the effect of having filmed too many bloody scenes. He visits his local psychiatrist to see if he is losing his marbles; this proves to be a bad idea, since the shrink is actually a crazy murderer responsible for a spate of grisly killings. Seizing the opportunity to make Fulci his fall guy, the loopy nut doctor hypnotises the horror hack into thinking that he is responsible for the recent series of murders.<br /><br />On the surface, Cat in the Brain appears to be a fantastically gory treat from spaghetti-splatter god Lucio Fulci. Chock full of chainsaw dismemberment, axe attacks and various other bloody killings, the film certainly spills enough claret for even the most hardened gore-hounds. But when one looks closer, it turns out that many of the gruesome scenes are lifted from earlier movies (mostly Fulci's own 'masterpieces'); remove these from the equation and one is left with a nifty basic plot idea that is totally wasted, some welcome nudity, and dreadful performances from Fulci himself and David L. Thompson as the psycho shrink.<br /><br />As the film progresses, it develops into an incomprehensible mess, with the 'borrowed' gore footage inserted randomly, with no attempt at working it convincingly into the story. If you've seen Fulci's Touch of Death and Ghost's of Sodom, or Mario Bianchi's the Murder Secret, then you've already seen the best bits of Cat In The Brain before.<br /><br />After much bloodletting, the film wraps itself up rather quickly, leaving the viewer feeling bewildered and somewhat cheated. Watch the film if you're a Fulci completist, but I would suggest seeking out the films from which the 'good bits' were taken.\", shape=(), dtype=string)\n",
            "tf.Tensor(0, shape=(), dtype=int32)\n",
            "tf.Tensor(b'With so many good movies coming out in 1995 (particularly \"Mortal Kombat\" and \"Seven\"), unfortunately, there had to be some bombs as well, and this film indeed falls into the latter category with a boring, predictable plot and a lousy ending. It seems that Antonio Banderas hasn\\'t been able to find a decent script since \"Desperado,\" the only remarkable film he\\'s done. Anyone with an eighth of a brain could tell who DeMornay\\'s stalker was from the beginning. Her flashbacks of the death of her mother did nothing but muddle an already paper-thin story. Pity that Dennis Miller was wasted in this film; this part resembles his eerily similar role in \"The Net.\" <br /><br />The convoluted ending had me shaking my head, as I pretty much did throughout the entire movie. Plus, any film that depicts animal cruelty in any shape or form, no matter how fake it looks, automatically gets the thumbs-down from me. <br /><br />To make a long story short, if you want to enjoy a good thriller, then avoid this at all costs. Never talk to strangers...especially those who recommend this movie. 2/10', shape=(), dtype=string)\n",
            "tf.Tensor(0, shape=(), dtype=int32)\n"
          ],
          "name": "stdout"
        }
      ]
    },
    {
      "cell_type": "code",
      "metadata": {
        "id": "PW2_e6I2QK7g",
        "colab_type": "code",
        "colab": {}
      },
      "source": [
        "batch_size = 32\n",
        "train_set = imdb_dataset(train_pos, train_neg).shuffle(25000).batch(batch_size).prefetch(1)\n",
        "val_set = imdb_dataset(val_pos, val_neg).shuffle(10000).batch(batch_size).prefetch(1)\n",
        "test_set = imdb_dataset(test_pos, test_neg).shuffle(10000).batch(batch_size).prefetch(1)"
      ],
      "execution_count": 123,
      "outputs": []
    },
    {
      "cell_type": "markdown",
      "metadata": {
        "id": "nZmrBVN8JmdL",
        "colab_type": "text"
      },
      "source": [
        "- 만약에 이 데이터의 양이 너무 많아서 전부다 읽어들이는데 시간이 많이 걸릴 경우에는 tf.data.TextLineDataset을 이용해서 한줄 씩 읽어 나갈 수 도 있다.\n",
        "```py3\n",
        "def imdb_dataset(pos_path, neg_path, n_read= 5):  \n",
        "    data_pos = tf.data.TextLineDataset(pos_path, num_parallel_reads = n_read)   \n",
        "    data_pos = data_pos.map(lambda review: (review, 1))  \n",
        "    data_neg = tf.data.TextLineDataset(neg_path, num_parallel_reads = n_read)  \n",
        "    data_neg = data_neg.map(lambda review: (review, 0))  \n",
        "    return tf.data.Dataset.concatenate(data_pos, data_neg)```\n"
      ]
    },
    {
      "cell_type": "markdown",
      "metadata": {
        "id": "2BZZgbWIMNHN",
        "colab_type": "text"
      },
      "source": [
        "#### 4. 범부형 데이터이기 때문에 수치형 데이터로 바꾸어 주어야 하는데, 이를 위해서 먼저 preprocess함수를 만들어 준다.\n",
        "- 이 함수에는 일단 텍스트의 각 단어들을 label로 바꾸어 줄 TextVectorization이 진행이 되어야 한다.\n",
        "- 우선 그냥 keras API의 TextVectorization layer을 그냥 이용해 본 이후에 사용자 정의 층으로 구현을 해보고자 한다."
      ]
    },
    {
      "cell_type": "code",
      "metadata": {
        "id": "uqKYGOwdGnjc",
        "colab_type": "code",
        "colab": {}
      },
      "source": [
        "from tensorflow.keras.layers.experimental.preprocessing import TextVectorization"
      ],
      "execution_count": 18,
      "outputs": []
    },
    {
      "cell_type": "code",
      "metadata": {
        "id": "2VCWqEoXPOUa",
        "colab_type": "code",
        "colab": {}
      },
      "source": [
        "max_features = 1100 # Maximum vocab size.\n",
        "max_len = 100  # Sequence length to pad the outputs to.\n",
        "embedding_dims = 2"
      ],
      "execution_count": 98,
      "outputs": []
    },
    {
      "cell_type": "code",
      "metadata": {
        "id": "lJVWXprMPaF4",
        "colab_type": "code",
        "colab": {}
      },
      "source": [
        "vectorize_layer = TextVectorization(\n",
        "    max_tokens = max_features,\n",
        "    output_mode = 'int',\n",
        "    output_sequence_length = max_len\n",
        ")"
      ],
      "execution_count": 99,
      "outputs": []
    },
    {
      "cell_type": "code",
      "metadata": {
        "id": "zpF5dsbqPtxR",
        "colab_type": "code",
        "colab": {}
      },
      "source": [
        "sample = train_set.map(lambda image, labels: image)\n",
        "sample = np.concatenate(list(sample.as_numpy_iterator()), axis = 0)"
      ],
      "execution_count": 100,
      "outputs": []
    },
    {
      "cell_type": "code",
      "metadata": {
        "id": "sOq2GqQKQtAP",
        "colab_type": "code",
        "colab": {
          "base_uri": "https://localhost:8080/",
          "height": 182
        },
        "outputId": "5897a0d4-3437-45bf-b2ad-031193dada44"
      },
      "source": [
        "sample"
      ],
      "execution_count": 101,
      "outputs": [
        {
          "output_type": "execute_result",
          "data": {
            "text/plain": [
              "array([b\"OK so after watching this invigorating movie and wasting an hour and so many minutes off my life here is the basic summary: Genie comes out of ghetto boom box, gives this kid with shaggy hair 3 wishes, the kid wastes his wishes on i forget what, shaq sucks at rapping, and i guess thats it.<br /><br />So mainly I laughed, I cried......but mainly I laughed at the shear comedy that came from the wonderful acting skills of an nba player/rapper and boy with shaggy hair.<br /><br />I highly recommend this movie for college kids sitting around drinking some beers with their close friends and are in serious need of a good laugh.<br /><br />I'm going to give it a 3 out of 10 only b/c the movie is based off of 3 magical wishes.<br /><br />If I had 3 wishes one would be to erase this horrible movie and for everyone to pretend like Hollywood didn't waste money on making this.\",\n",
              "       b'This movie seemed like it was going to be better than it ended up being. The cinematography is good, the acting seemed solid, the dialogue wasn\\'t too stiff... but then about twenty minutes in there\\'s this long scene with a Doctor who you know is actually a patient at the asylum pretending to be a Doctor - and it just goes south from there.<br /><br />On top of that, the demon is about the silliest looking hellspawn since the Godzilla-looking thing in Curse of the Demon. There\\'s also some odd demon worshippers who wear masks that look like the exploding teens from the beginning of Logan\\'s Run.<br /><br />In the end, the cinematography couldn\\'t save this movie. Despite some pretty solid performances by the actors, the story just doesn\\'t go anywhere. I think \"Hellbored\" would have been a better title for this.',\n",
              "       b'How sheep-like the movie going public so often proves to be. As soon as a few critics say something new is good (ie - \"Shake-Cam\"), everyone jumps on the bandwagon, as if they are devoid of independent thought. This was not a good movie, it was a dreadful movie. 1) Plot? - What plot? Bourne was chased from here to there, from beginning to end. That\\'s the plot. Don\\'t look for anything deeper than this. 2) Cinematography? - Do me a favor! Any 7 year old armed with an old and battered 8mm movie camera would do a far better job (I am not exaggerating here). This film is a tour-de-force of astonishingly amateurish camera-work. The ridiculous shaking of EVERY (I really do mean every) scene will cause dizziness and nausea. 3) Believable? - Oh yes definitely. This is a masterpiece of credibility. I loved scenes about Bourne being chased by (local) police through the winding market streets of Tangier. - I\\'ve BEEN to Tangier. Even the guides can\\'t navigate their way through those streets but Bourne shook off 100 police with speed and finesse. Greengrass must be laughing his head off at the gullibility of his film disciples. 4) Editing? - I don\\'t know what the editor was on when he did this film but I want some! - Every scene is between 0.5 and 2 seconds. I felt nauseous at the end of the film from the strobe effect of the \"scenes\" flashing by. 5) Directing? - Hmmm. This is an interesting aspect. The film appears to have actually NOT had any directing. More a case of Greengrass throwing a copy of the script (all two pages) at the cameramen and told to \"shoot a few scenes whilst drunk\". - \"Don\\'t worry boys, we\\'ll tie the scenes together in the editing room\". The editor should be tarred, feathered and put in the stocks for allowing this monstrosity to hit the silver screen 6) Not one but TWO senior CIA operatives giving the tender feminine treatment to the mistreated and misunderstood Jason Bourne. - Putting their lives on the line for someone they couldn\\'t even be sure wasn\\'t a traitor. Talk about stupid nincompoops. (Whilst the evil male CIA members plot to terminate any operative who so much as drops a paper-clip on the floor). (well, all men are evil, aren\\'t they? - Except for SNAGS of course). Yes, this really is a modern and politically correct film that shows the females to be the heroes of the day and the oppressive males as the real threat to humanity. 7) When the you-know-what finally hits the fan, good triumphs over evil (just like it always does, eh?) and the would-be assassin gets the drop on Jason Bourne - he suddenly undergoes a guilt trip and refrains from pulling the trigger (Yeah - right...) - at that very moment, the evil deputy director just happens to turn up - gun in hand and he does pull the trigger. - How did this 60 year old man run so fast and not even be out of breath? Wonders will never cease 8) Don\\'t worry, there\\'s a senate hearing and the baddies get pulled up before the courts. Well, we can\\'t have nasty, politically incorrect, CIA operatives going round shooting people, can we? How lovely to see a true to life P.C. film of the Noughties. -------------The Bourne Ultimatum is utter rubbish.',\n",
              "       ...,\n",
              "       b\"Julia Stiles is a talented young actress, who with guidance from a reputable agent has a lot of potential. Obviously, the person who guided her into this travesty is not someone who cares anything about her career. I sat in the theater surrounded by teenagers who left in droves to find another movie to sneak into wondering who thought this movie would appeal to anyone. It was poorly written, the casting director could only have put 1 or 2 minutes of effort into the characters and the director obviously didn't care.\",\n",
              "       b'Guy Richie\\'s third proper film (not counting the God-awful \"Swept Away\" is a complex action thriller concerned with gambling, gangsters and chess. Fans of Richie\\'s previous efforts will probably hate Revolver as much as I did, with its twists and turns. Richie stalwart Jason Statham plays Jake, a newly-released ex-con, out to wreak revenge on the ridiculously named Dorothy Macha (a superbly OTT Ray Liotta) but instead gets embroiled with a couple of other cons, (one of which is Andre 3000 from rap outfit Outkast) who throw him and us the audience, a number of red herrings throughout the film, all of which becomes extremely tedious. The high point of this mess of a movie is the bit in the restaurant, where the dialogue gets turned down in favour of a superbly shot, slow-mo shootout set to Beethoven\\'s Moonlight Sonata. All in all, Revolver is a flawed work, not truly awful but far from Richie\\'s best. That would still be Lock, Stock. If this film was a school homework assignment it would be graded \\'must try harder!\\'',\n",
              "       b'This week, I just thought it would be fun to catch up with Corey Haim, with just having seen the two \"Lost Boys\" films last week and all. Not that I\\'m a fan-boy - not by far - but I did like those two Coreys in some films back in my early teen days.<br /><br />So, I prepared myself for three films starring him. Unfortunately, I picked \"Dream Machine\" as a first (never seen it before), and it was so godawfully horrible, I just decided to lock Corey back in my closet and let him sober up again first, before I pop in something else of his. But I managed to struggle my way through this film first. I had the impression it desperately wanted to play in the same league as \"Ferris Bueller\\'s Day Off\" (1986) but got caught up in its own delusions. Practically the whole film it wants to be a comedy and near the end it hopelessly tries to be a thriller. The only good thing about \"Dream Machine\" is the premise: A dead body in the trunk of a Porsche. All the rest fails so badly, it\\'s embarrassing. Even the most for Haim. I can dig him being his young, enthusiastic self, but at least when he comes with some form of directorial guidelines. This clearly wasn\\'t the case in \"Dream Machine\". So, we have a perfect car, yes, that black Porsche. Haim\\'s perfect girlfriend? Just a blonde chick who hardly has any lines in the film. The perfect murder... almost? Some dude that falls flat on his ass as the villain of the film, trying the whole movie to steal the body back out of the trunk, never really succeeds, and then at the end of the film thinks he\\'s Michael Myers (minus the white William Shatner mask) and mistakes Corey Haim for Jamie Lee Curtis. Don\\'t think they could have made this flick any lamer if they tried. A stupid, unfunny film with a story that leads to nowhere directed by a director that doesn\\'t know how to direct his cast. Great accomplishment!<br /><br />One last question for Mr. Haim: Who\\'s idea was it to have you smile directly into the camera in that last shot of the movie? Yours or the director\\'s? So not done.'],\n",
              "      dtype=object)"
            ]
          },
          "metadata": {
            "tags": []
          },
          "execution_count": 101
        }
      ]
    },
    {
      "cell_type": "code",
      "metadata": {
        "id": "gBbYnZdsRmBm",
        "colab_type": "code",
        "colab": {}
      },
      "source": [
        "vectorize_layer.adapt(sample)"
      ],
      "execution_count": 102,
      "outputs": []
    },
    {
      "cell_type": "code",
      "metadata": {
        "id": "Z8qHIbsmRpSc",
        "colab_type": "code",
        "colab": {
          "base_uri": "https://localhost:8080/",
          "height": 162
        },
        "outputId": "0e7daf50-9175-42e0-eef6-73c6a061ca6c"
      },
      "source": [
        "vectorize_layer(sample)"
      ],
      "execution_count": 103,
      "outputs": [
        {
          "output_type": "execute_result",
          "data": {
            "text/plain": [
              "<tf.Tensor: shape=(25000, 100), dtype=int64, numpy=\n",
              "array([[597,  38, 101, ...,   1,  47,   1],\n",
              "       [ 11,  18, 446, ...,   2,   1,   1],\n",
              "       [ 87,   1,   2, ..., 286,  10, 237],\n",
              "       ...,\n",
              "       [  1,   1,   7, ...,   0,   0,   0],\n",
              "       [230,   1, 838, ..., 461,   2,  20],\n",
              "       [ 11,   1,  10, ..., 156,  10,   1]])>"
            ]
          },
          "metadata": {
            "tags": []
          },
          "execution_count": 103
        }
      ]
    },
    {
      "cell_type": "code",
      "metadata": {
        "id": "fmjF95ucS-1Y",
        "colab_type": "code",
        "colab": {}
      },
      "source": [
        "from tensorflow.keras.layers.experimental.preprocessing import Discretization\n",
        "onehot_layer = Discretization(bins = vectorize_layer(sample))"
      ],
      "execution_count": 76,
      "outputs": []
    },
    {
      "cell_type": "code",
      "metadata": {
        "id": "ZYHGtuThVRkS",
        "colab_type": "code",
        "colab": {}
      },
      "source": [
        "from sklearn.preprocessing import OneHotEncoder\n",
        "onehot = OneHotEncoder()"
      ],
      "execution_count": 77,
      "outputs": []
    },
    {
      "cell_type": "code",
      "metadata": {
        "id": "xYPNHl_TVmxy",
        "colab_type": "code",
        "colab": {
          "base_uri": "https://localhost:8080/",
          "height": 53
        },
        "outputId": "62f6520b-ffe4-4139-993b-61d66e3a8250"
      },
      "source": [
        "print(onehot.fit(vectorize_layer(sample)))"
      ],
      "execution_count": 78,
      "outputs": [
        {
          "output_type": "stream",
          "text": [
            "OneHotEncoder(categories='auto', drop=None, dtype=<class 'numpy.float64'>,\n",
            "              handle_unknown='error', sparse=True)\n"
          ],
          "name": "stdout"
        }
      ]
    },
    {
      "cell_type": "code",
      "metadata": {
        "id": "bh4qzvXoslk1",
        "colab_type": "code",
        "colab": {}
      },
      "source": [
        ""
      ],
      "execution_count": null,
      "outputs": []
    },
    {
      "cell_type": "code",
      "metadata": {
        "id": "uGpJ98WXslaa",
        "colab_type": "code",
        "colab": {}
      },
      "source": [
        "class BagOfWords(tf.keras.layers.Layer):\n",
        "    def __init__(self, n_tokens, dtype=tf.int32, **kwargs):\n",
        "        super().__init__(dtype=tf.int32, **kwargs)\n",
        "        self.n_tokens = n_tokens\n",
        "    def call(self, inputs):\n",
        "        one_hot = tf.one_hot(inputs, self.n_tokens)\n",
        "        return tf.reduce_sum(one_hot, axis=1)[:, 1:]\n",
        "\n",
        "\n",
        "\n",
        "\n",
        "n_tokens = 1101 # add 1 for <pad>\n",
        "bag_of_words = BagOfWords(n_tokens)"
      ],
      "execution_count": 109,
      "outputs": []
    },
    {
      "cell_type": "code",
      "metadata": {
        "id": "HDnCILa6vbL8",
        "colab_type": "code",
        "colab": {
          "base_uri": "https://localhost:8080/",
          "height": 35
        },
        "outputId": "0cfba7cd-38a7-4233-f84a-67526f90ec62"
      },
      "source": [
        "bag_of_words(vectorize_layer(sample))[0]"
      ],
      "execution_count": 129,
      "outputs": [
        {
          "output_type": "execute_result",
          "data": {
            "text/plain": [
              "<tf.Tensor: shape=(1100,), dtype=float32, numpy=array([29.,  4.,  4., ...,  0.,  0.,  0.], dtype=float32)>"
            ]
          },
          "metadata": {
            "tags": []
          },
          "execution_count": 129
        }
      ]
    },
    {
      "cell_type": "code",
      "metadata": {
        "id": "5lNilrXwRtu9",
        "colab_type": "code",
        "colab": {}
      },
      "source": [
        "from tensorflow.keras.layers import Dense\n",
        "from tensorflow.keras.models import Sequential\n",
        "from tensorflow.keras.activations import relu, sigmoid\n",
        "from tensorflow.keras.optimizers import Adam\n",
        "\n",
        "model = Sequential()\n",
        "model.add(vectorize_layer)\n",
        "model.add(bag_of_words)\n",
        "model.add(Dense(100, activation = 'relu'))\n",
        "model.add(Dense(1, activation = 'sigmoid'))"
      ],
      "execution_count": 110,
      "outputs": []
    },
    {
      "cell_type": "code",
      "metadata": {
        "id": "4BAoFQn-S0RU",
        "colab_type": "code",
        "colab": {}
      },
      "source": [
        "model.compile(loss = 'binary_crossentropy', optimizer = 'nadam', metrics = ['accuracy'])"
      ],
      "execution_count": 111,
      "outputs": []
    },
    {
      "cell_type": "code",
      "metadata": {
        "id": "53w46RC-TxRI",
        "colab_type": "code",
        "colab": {
          "base_uri": "https://localhost:8080/",
          "height": 760
        },
        "outputId": "88d037dd-46c7-4e62-941c-447fc0b36fc4"
      },
      "source": [
        "model.fit(train_set, validation_data = val_set, epochs = 20)"
      ],
      "execution_count": 112,
      "outputs": [
        {
          "output_type": "stream",
          "text": [
            "Epoch 1/20\n",
            "782/782 [==============================] - 14s 18ms/step - loss: 0.4755 - accuracy: 0.7686 - val_loss: 0.4301 - val_accuracy: 0.7983\n",
            "Epoch 2/20\n",
            "782/782 [==============================] - 14s 18ms/step - loss: 0.4164 - accuracy: 0.8090 - val_loss: 0.4330 - val_accuracy: 0.7949\n",
            "Epoch 3/20\n",
            "782/782 [==============================] - 13s 16ms/step - loss: 0.3849 - accuracy: 0.8244 - val_loss: 0.4306 - val_accuracy: 0.7969\n",
            "Epoch 4/20\n",
            "782/782 [==============================] - 13s 17ms/step - loss: 0.3408 - accuracy: 0.8503 - val_loss: 0.4390 - val_accuracy: 0.7941\n",
            "Epoch 5/20\n",
            "782/782 [==============================] - 13s 17ms/step - loss: 0.2814 - accuracy: 0.8847 - val_loss: 0.4931 - val_accuracy: 0.7707\n",
            "Epoch 6/20\n",
            "782/782 [==============================] - 13s 16ms/step - loss: 0.2196 - accuracy: 0.9182 - val_loss: 0.4784 - val_accuracy: 0.7871\n",
            "Epoch 7/20\n",
            "782/782 [==============================] - 13s 16ms/step - loss: 0.1579 - accuracy: 0.9488 - val_loss: 0.5324 - val_accuracy: 0.7860\n",
            "Epoch 8/20\n",
            "782/782 [==============================] - 13s 16ms/step - loss: 0.1048 - accuracy: 0.9743 - val_loss: 0.5854 - val_accuracy: 0.7852\n",
            "Epoch 9/20\n",
            "782/782 [==============================] - 13s 17ms/step - loss: 0.0654 - accuracy: 0.9892 - val_loss: 0.6502 - val_accuracy: 0.7815\n",
            "Epoch 10/20\n",
            "782/782 [==============================] - 13s 16ms/step - loss: 0.0376 - accuracy: 0.9962 - val_loss: 0.7147 - val_accuracy: 0.7806\n",
            "Epoch 11/20\n",
            "782/782 [==============================] - 12s 16ms/step - loss: 0.0212 - accuracy: 0.9993 - val_loss: 0.7739 - val_accuracy: 0.7805\n",
            "Epoch 12/20\n",
            "782/782 [==============================] - 13s 16ms/step - loss: 0.0119 - accuracy: 0.9997 - val_loss: 0.8292 - val_accuracy: 0.7801\n",
            "Epoch 13/20\n",
            "782/782 [==============================] - 12s 16ms/step - loss: 0.0070 - accuracy: 0.9998 - val_loss: 0.8858 - val_accuracy: 0.7813\n",
            "Epoch 14/20\n",
            "782/782 [==============================] - 12s 16ms/step - loss: 0.0038 - accuracy: 1.0000 - val_loss: 0.9482 - val_accuracy: 0.7804\n",
            "Epoch 15/20\n",
            "782/782 [==============================] - 13s 16ms/step - loss: 0.0022 - accuracy: 1.0000 - val_loss: 1.0016 - val_accuracy: 0.7811\n",
            "Epoch 16/20\n",
            "782/782 [==============================] - 13s 16ms/step - loss: 0.0014 - accuracy: 1.0000 - val_loss: 1.0519 - val_accuracy: 0.7817\n",
            "Epoch 17/20\n",
            "782/782 [==============================] - 12s 16ms/step - loss: 8.3563e-04 - accuracy: 1.0000 - val_loss: 1.0953 - val_accuracy: 0.7810\n",
            "Epoch 18/20\n",
            "782/782 [==============================] - 12s 16ms/step - loss: 5.4802e-04 - accuracy: 1.0000 - val_loss: 1.1483 - val_accuracy: 0.7815\n",
            "Epoch 19/20\n",
            "782/782 [==============================] - 12s 16ms/step - loss: 3.5014e-04 - accuracy: 1.0000 - val_loss: 1.1939 - val_accuracy: 0.7814\n",
            "Epoch 20/20\n",
            "782/782 [==============================] - 13s 16ms/step - loss: 2.2656e-04 - accuracy: 1.0000 - val_loss: 1.2365 - val_accuracy: 0.7799\n"
          ],
          "name": "stdout"
        },
        {
          "output_type": "execute_result",
          "data": {
            "text/plain": [
              "<tensorflow.python.keras.callbacks.History at 0x7f56affaaeb8>"
            ]
          },
          "metadata": {
            "tags": []
          },
          "execution_count": 112
        }
      ]
    },
    {
      "cell_type": "code",
      "metadata": {
        "id": "PfixWlsgUX3c",
        "colab_type": "code",
        "colab": {
          "base_uri": "https://localhost:8080/",
          "height": 53
        },
        "outputId": "a46c6226-0cb2-423b-be90-66ab9cffea54"
      },
      "source": [
        "model.evaluate(test_set)"
      ],
      "execution_count": 127,
      "outputs": [
        {
          "output_type": "stream",
          "text": [
            "313/313 [==============================] - 3s 9ms/step - loss: 1.3465 - accuracy: 0.7691\n"
          ],
          "name": "stdout"
        },
        {
          "output_type": "execute_result",
          "data": {
            "text/plain": [
              "[1.3465012311935425, 0.76910001039505]"
            ]
          },
          "metadata": {
            "tags": []
          },
          "execution_count": 127
        }
      ]
    },
    {
      "cell_type": "markdown",
      "metadata": {
        "id": "wEheZmcAvQcu",
        "colab_type": "text"
      },
      "source": [
        "### Accuracy = 76.91%"
      ]
    },
    {
      "cell_type": "code",
      "metadata": {
        "id": "rqkvj_UvXWzn",
        "colab_type": "code",
        "colab": {
          "base_uri": "https://localhost:8080/",
          "height": 379
        },
        "outputId": "4cc43f20-cea9-40c9-da9e-927f6b1e5b33"
      },
      "source": [
        "for review, label in test_set.take(1):\n",
        "  predict = model.predict(review)\n",
        "  for j in range(20):\n",
        "    ans = np.argmax(predict[j])\n",
        "    print('{}:{}'.format(ans,label[j]))\n"
      ],
      "execution_count": 126,
      "outputs": [
        {
          "output_type": "stream",
          "text": [
            "0:1\n",
            "0:1\n",
            "0:0\n",
            "0:1\n",
            "0:1\n",
            "0:0\n",
            "0:1\n",
            "0:0\n",
            "0:0\n",
            "0:0\n",
            "0:0\n",
            "0:1\n",
            "0:0\n",
            "0:0\n",
            "0:1\n",
            "0:0\n",
            "0:1\n",
            "0:0\n",
            "0:0\n",
            "0:1\n"
          ],
          "name": "stdout"
        }
      ]
    },
    {
      "cell_type": "markdown",
      "metadata": {
        "id": "iSCK-woQvOYV",
        "colab_type": "text"
      },
      "source": [
        ""
      ]
    },
    {
      "cell_type": "code",
      "metadata": {
        "id": "0125a62TuJDG",
        "colab_type": "code",
        "colab": {}
      },
      "source": [
        ""
      ],
      "execution_count": null,
      "outputs": []
    }
  ]
}