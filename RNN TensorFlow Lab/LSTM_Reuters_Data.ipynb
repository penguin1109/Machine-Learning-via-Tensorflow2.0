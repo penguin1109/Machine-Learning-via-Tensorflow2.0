{
  "nbformat": 4,
  "nbformat_minor": 0,
  "metadata": {
    "colab": {
      "name": "LSTM - Reuters Data",
      "provenance": []
    },
    "kernelspec": {
      "name": "python3",
      "display_name": "Python 3"
    }
  },
  "cells": [
    {
      "cell_type": "markdown",
      "metadata": {
        "id": "X7aGK4UkQPr-",
        "colab_type": "text"
      },
      "source": [
        "### LSTM을 이용한 로이터 뉴스 데이터셋 분류하기\n",
        "#### 긴 텍스트를 읽고 데이터가 어떤 의미를 지니는지를 카테고리별로 분류하는 작업을 위해 학습을 해보자.\n",
        "1. 로이터 뉴스 데이터 불러오기\n",
        "2. 데이터 형태및 자료 파악하기\n",
        "3. 데이터 전처리\n",
        "4. 모델 설계\n",
        "5. 학습 및 예측"
      ]
    },
    {
      "cell_type": "code",
      "metadata": {
        "id": "6ORZ5a0vQXDl",
        "colab_type": "code",
        "colab": {}
      },
      "source": [
        "import tensorflow as tf\n",
        "import numpy as np\n",
        "import pandas as pd\n",
        "import matplotlib.pyplot as plt"
      ],
      "execution_count": 1,
      "outputs": []
    },
    {
      "cell_type": "code",
      "metadata": {
        "id": "v7w7ec3VS_Iy",
        "colab_type": "code",
        "colab": {}
      },
      "source": [
        "from keras.datasets import reuters"
      ],
      "execution_count": 2,
      "outputs": []
    },
    {
      "cell_type": "code",
      "metadata": {
        "id": "MX6GvGbqTCXP",
        "colab_type": "code",
        "colab": {
          "base_uri": "https://localhost:8080/",
          "height": 50
        },
        "outputId": "1ac2645a-bef3-416b-c7b9-d111e2b9b91e"
      },
      "source": [
        "reuter = reuters.load_data()"
      ],
      "execution_count": 3,
      "outputs": [
        {
          "output_type": "stream",
          "text": [
            "Downloading data from https://storage.googleapis.com/tensorflow/tf-keras-datasets/reuters.npz\n",
            "2113536/2110848 [==============================] - 0s 0us/step\n"
          ],
          "name": "stdout"
        }
      ]
    },
    {
      "cell_type": "code",
      "metadata": {
        "id": "K3YNJItkTHUD",
        "colab_type": "code",
        "colab": {}
      },
      "source": [
        "(x_train, y_train),(x_test, y_test) = reuters.load_data(num_words=1000, test_split = 0.2)"
      ],
      "execution_count": 5,
      "outputs": []
    },
    {
      "cell_type": "markdown",
      "metadata": {
        "id": "2zXrvwJYUoiI",
        "colab_type": "text"
      },
      "source": [
        "- 원래 텍스트를 이용해서 딥러닝을 진행하고자 할 때에는 tokenizer이라는 과정을 거쳐서 각 단어의 빈도수별로 숫자로 번호를 매겨서 단어를 저장하고자 한다.\n",
        "- 그러나 keras에서 데이터를 불러올 때에는 그 작업이 이미 되어있음을 알 수 있다. 빈도수가 높은 단어의 번호가 더 낮은데, 위의 경우에 load_data에 넣는 num_word의 의미는 빈도수가 1000번째로 많은 단어만 입력으로 받겠다는 의미이고, test_split을 설정해 주는 방법으로 전체 데이터의 20%를 테스트 데이터로서 저장을 하게 된다."
      ]
    },
    {
      "cell_type": "code",
      "metadata": {
        "id": "zbC_gFxtUbaz",
        "colab_type": "code",
        "colab": {
          "base_uri": "https://localhost:8080/",
          "height": 33
        },
        "outputId": "d6789171-07e3-41e2-aa0e-78ee54f42bdc"
      },
      "source": [
        "x_train.shape,y_train.shape,x_test.shape, y_test.shape"
      ],
      "execution_count": 7,
      "outputs": [
        {
          "output_type": "execute_result",
          "data": {
            "text/plain": [
              "((8982,), (8982,), (2246,), (2246,))"
            ]
          },
          "metadata": {
            "tags": []
          },
          "execution_count": 7
        }
      ]
    },
    {
      "cell_type": "code",
      "metadata": {
        "id": "H0vCT7l9Womm",
        "colab_type": "code",
        "colab": {
          "base_uri": "https://localhost:8080/",
          "height": 33
        },
        "outputId": "06cf0a00-3d1c-4734-dc72-fa2ac591dfba"
      },
      "source": [
        "y_train[0]"
      ],
      "execution_count": 10,
      "outputs": [
        {
          "output_type": "execute_result",
          "data": {
            "text/plain": [
              "3"
            ]
          },
          "metadata": {
            "tags": []
          },
          "execution_count": 10
        }
      ]
    },
    {
      "cell_type": "markdown",
      "metadata": {
        "id": "W6tSw46jWrmN",
        "colab_type": "text"
      },
      "source": [
        "- 우리가 예측해야 하는 target 인 y값들에는 x값에 있는 문장의 카테고리가 숫자의 형태로 지정이 되어있다."
      ]
    },
    {
      "cell_type": "code",
      "metadata": {
        "id": "CIaBtkC0Vxlx",
        "colab_type": "code",
        "colab": {
          "base_uri": "https://localhost:8080/",
          "height": 180
        },
        "outputId": "40620787-bf9f-4905-b11d-30035c6fb906"
      },
      "source": [
        "for i in range(10):\n",
        "  print(len(x_train[i]))"
      ],
      "execution_count": 9,
      "outputs": [
        {
          "output_type": "stream",
          "text": [
            "87\n",
            "56\n",
            "139\n",
            "224\n",
            "101\n",
            "116\n",
            "100\n",
            "100\n",
            "82\n",
            "106\n"
          ],
          "name": "stdout"
        }
      ]
    },
    {
      "cell_type": "markdown",
      "metadata": {
        "id": "_V7u6ugAWBoq",
        "colab_type": "text"
      },
      "source": [
        "- 여기서 데이터를 처리해야 하는 부분이 생긴다. \n",
        "- 각각의 데이터에는 위에서 지정해준 대로 1000번째 빈도수까지의 데이터가 저장이 되어 있기 때문에 각각의 문장마다 데이터로서 load 된 단어의 개수가 다를 수 밖에 없다. \n",
        "- 이를 해결하기 위해서는 keras.preprocessing을 이용해서 기사의 단어의 수를 맞춰 줄 수가 있다.\n",
        "- 정해준 길이보다 길면 그냥 slicing을 하고, 짧으면 빈 자리를 0으로 채워준다.\n",
        "\n",
        "- keras.utils의 모듈인 np_utils.to_categorical 을 이용해서 one-hot encoding을 진행한다.\n",
        "- word2vec으로 진행하는 embedding과의 차이는 embedding은 단어 벡터간의 거리를 유사도로서 고려해서 벡터로 환산해준단 점이다."
      ]
    },
    {
      "cell_type": "code",
      "metadata": {
        "id": "rFepfgaOV7RN",
        "colab_type": "code",
        "colab": {}
      },
      "source": [
        "from keras.preprocessing import sequence\n",
        "from keras.utils import np_utils\n",
        "x_train = sequence.pad_sequences(x_train, maxlen = 100)\n",
        "x_test = sequence.pad_sequences(x_test, maxlen = 100)\n",
        "y_train = np_utils.to_categorical(y_train)\n",
        "y_test = np_utils.to_categorical(y_test)"
      ],
      "execution_count": 24,
      "outputs": []
    },
    {
      "cell_type": "code",
      "metadata": {
        "id": "sJarNixJZmUD",
        "colab_type": "code",
        "colab": {
          "base_uri": "https://localhost:8080/",
          "height": 33
        },
        "outputId": "1ef8ec44-76c1-43f8-8eb3-9009ec298995"
      },
      "source": [
        "x_train.shape"
      ],
      "execution_count": 26,
      "outputs": [
        {
          "output_type": "execute_result",
          "data": {
            "text/plain": [
              "(8982, 100)"
            ]
          },
          "metadata": {
            "tags": []
          },
          "execution_count": 26
        }
      ]
    },
    {
      "cell_type": "code",
      "metadata": {
        "id": "fm4W5moeYjuK",
        "colab_type": "code",
        "colab": {}
      },
      "source": [
        "model = tf.keras.models.Sequential()\n",
        "model.add(tf.keras.layers.Embedding(1000,100))\n",
        "#Embedding Layer에는 데이터가 (불러온 단어의 총 개수, 기사당 단어 수)의 형태로 입력이 되어야 한다.\n",
        "#LSTM Layer(RNN에서 기억값에 대한 가중치를 변화시킨다)\n",
        "model.add(tf.keras.layers.LSTM(100, activation = 'tanh'))\n",
        "#이 문제는 '분류'문제이기 때문에 총 46개의 class들중 어느것에 더 가까울지의 '비율'을 구해주는 것에 목적을 둔다.\n",
        "model.add(tf.keras.layers.Dense(46, activation = 'softmax'))"
      ],
      "execution_count": 27,
      "outputs": []
    },
    {
      "cell_type": "code",
      "metadata": {
        "id": "dXkC2onncdme",
        "colab_type": "code",
        "colab": {}
      },
      "source": [
        "def last_time_step_mse(true, predict):\n",
        "  return tf.keras.metrics.mean_squared_error(true[:,-1], predict[:,-1])"
      ],
      "execution_count": 33,
      "outputs": []
    },
    {
      "cell_type": "code",
      "metadata": {
        "id": "ZjO-hyG7cAYO",
        "colab_type": "code",
        "colab": {}
      },
      "source": [
        "model.compile(loss = 'mse', optimizer = tf.keras.optimizers.Adam(lr = 0.01), metrics = [last_time_step_mse, 'accuracy'])"
      ],
      "execution_count": 36,
      "outputs": []
    },
    {
      "cell_type": "code",
      "metadata": {
        "id": "1Zc9V0EJcOvE",
        "colab_type": "code",
        "colab": {
          "base_uri": "https://localhost:8080/",
          "height": 992
        },
        "outputId": "6ba31c3d-407a-4e5f-c709-70e25d2b2f61"
      },
      "source": [
        "history = model.fit(x_train, y_train, validation_split = 0.2, epochs = 30)"
      ],
      "execution_count": 38,
      "outputs": [
        {
          "output_type": "stream",
          "text": [
            "Epoch 1/30\n",
            "225/225 [==============================] - 22s 97ms/step - loss: 0.0130 - last_time_step_mse: 0.0020 - accuracy: 0.5134 - val_loss: 0.0114 - val_last_time_step_mse: 0.0022 - val_accuracy: 0.5693\n",
            "Epoch 2/30\n",
            "225/225 [==============================] - 21s 95ms/step - loss: 0.0107 - last_time_step_mse: 0.0019 - accuracy: 0.6079 - val_loss: 0.0101 - val_last_time_step_mse: 0.0022 - val_accuracy: 0.6583\n",
            "Epoch 3/30\n",
            "225/225 [==============================] - 21s 95ms/step - loss: 0.0094 - last_time_step_mse: 0.0019 - accuracy: 0.6718 - val_loss: 0.0098 - val_last_time_step_mse: 0.0022 - val_accuracy: 0.6678\n",
            "Epoch 4/30\n",
            "225/225 [==============================] - 21s 95ms/step - loss: 0.0089 - last_time_step_mse: 0.0019 - accuracy: 0.6913 - val_loss: 0.0093 - val_last_time_step_mse: 0.0022 - val_accuracy: 0.6728\n",
            "Epoch 5/30\n",
            "225/225 [==============================] - 22s 96ms/step - loss: 0.0086 - last_time_step_mse: 0.0019 - accuracy: 0.7042 - val_loss: 0.0096 - val_last_time_step_mse: 0.0022 - val_accuracy: 0.6689\n",
            "Epoch 6/30\n",
            "225/225 [==============================] - 23s 103ms/step - loss: 0.0083 - last_time_step_mse: 0.0019 - accuracy: 0.7152 - val_loss: 0.0093 - val_last_time_step_mse: 0.0022 - val_accuracy: 0.6906\n",
            "Epoch 7/30\n",
            "225/225 [==============================] - 22s 99ms/step - loss: 0.0079 - last_time_step_mse: 0.0019 - accuracy: 0.7332 - val_loss: 0.0091 - val_last_time_step_mse: 0.0022 - val_accuracy: 0.6939\n",
            "Epoch 8/30\n",
            "225/225 [==============================] - 22s 96ms/step - loss: 0.0076 - last_time_step_mse: 0.0019 - accuracy: 0.7484 - val_loss: 0.0092 - val_last_time_step_mse: 0.0022 - val_accuracy: 0.6889\n",
            "Epoch 9/30\n",
            "225/225 [==============================] - 22s 97ms/step - loss: 0.0073 - last_time_step_mse: 0.0019 - accuracy: 0.7589 - val_loss: 0.0091 - val_last_time_step_mse: 0.0022 - val_accuracy: 0.7034\n",
            "Epoch 10/30\n",
            "225/225 [==============================] - 22s 96ms/step - loss: 0.0071 - last_time_step_mse: 0.0019 - accuracy: 0.7648 - val_loss: 0.0092 - val_last_time_step_mse: 0.0022 - val_accuracy: 0.6973\n",
            "Epoch 11/30\n",
            "225/225 [==============================] - 26s 115ms/step - loss: 0.0069 - last_time_step_mse: 0.0019 - accuracy: 0.7713 - val_loss: 0.0091 - val_last_time_step_mse: 0.0022 - val_accuracy: 0.7001\n",
            "Epoch 12/30\n",
            "225/225 [==============================] - 23s 100ms/step - loss: 0.0067 - last_time_step_mse: 0.0019 - accuracy: 0.7773 - val_loss: 0.0095 - val_last_time_step_mse: 0.0022 - val_accuracy: 0.6850\n",
            "Epoch 13/30\n",
            "225/225 [==============================] - 22s 99ms/step - loss: 0.0066 - last_time_step_mse: 0.0019 - accuracy: 0.7820 - val_loss: 0.0092 - val_last_time_step_mse: 0.0023 - val_accuracy: 0.6950\n",
            "Epoch 14/30\n",
            "225/225 [==============================] - 22s 98ms/step - loss: 0.0063 - last_time_step_mse: 0.0018 - accuracy: 0.7912 - val_loss: 0.0090 - val_last_time_step_mse: 0.0023 - val_accuracy: 0.7028\n",
            "Epoch 15/30\n",
            "225/225 [==============================] - 22s 98ms/step - loss: 0.0064 - last_time_step_mse: 0.0018 - accuracy: 0.7922 - val_loss: 0.0092 - val_last_time_step_mse: 0.0024 - val_accuracy: 0.7078\n",
            "Epoch 16/30\n",
            "225/225 [==============================] - 22s 97ms/step - loss: 0.0063 - last_time_step_mse: 0.0018 - accuracy: 0.7968 - val_loss: 0.0091 - val_last_time_step_mse: 0.0022 - val_accuracy: 0.7112\n",
            "Epoch 17/30\n",
            "225/225 [==============================] - 22s 97ms/step - loss: 0.0062 - last_time_step_mse: 0.0017 - accuracy: 0.8003 - val_loss: 0.0093 - val_last_time_step_mse: 0.0023 - val_accuracy: 0.7045\n",
            "Epoch 18/30\n",
            "225/225 [==============================] - 22s 98ms/step - loss: 0.0061 - last_time_step_mse: 0.0016 - accuracy: 0.8053 - val_loss: 0.0092 - val_last_time_step_mse: 0.0022 - val_accuracy: 0.7040\n",
            "Epoch 19/30\n",
            "225/225 [==============================] - 22s 98ms/step - loss: 0.0059 - last_time_step_mse: 0.0016 - accuracy: 0.8100 - val_loss: 0.0093 - val_last_time_step_mse: 0.0024 - val_accuracy: 0.7028\n",
            "Epoch 20/30\n",
            "225/225 [==============================] - 23s 101ms/step - loss: 0.0057 - last_time_step_mse: 0.0018 - accuracy: 0.8173 - val_loss: 0.0093 - val_last_time_step_mse: 0.0022 - val_accuracy: 0.7051\n",
            "Epoch 21/30\n",
            "225/225 [==============================] - 22s 99ms/step - loss: 0.0057 - last_time_step_mse: 0.0018 - accuracy: 0.8150 - val_loss: 0.0094 - val_last_time_step_mse: 0.0022 - val_accuracy: 0.7028\n",
            "Epoch 22/30\n",
            "225/225 [==============================] - 22s 100ms/step - loss: 0.0055 - last_time_step_mse: 0.0017 - accuracy: 0.8224 - val_loss: 0.0092 - val_last_time_step_mse: 0.0024 - val_accuracy: 0.7067\n",
            "Epoch 23/30\n",
            "225/225 [==============================] - 22s 99ms/step - loss: 0.0054 - last_time_step_mse: 0.0017 - accuracy: 0.8292 - val_loss: 0.0093 - val_last_time_step_mse: 0.0022 - val_accuracy: 0.7062\n",
            "Epoch 24/30\n",
            "225/225 [==============================] - 22s 98ms/step - loss: 0.0053 - last_time_step_mse: 0.0016 - accuracy: 0.8299 - val_loss: 0.0095 - val_last_time_step_mse: 0.0024 - val_accuracy: 0.6967\n",
            "Epoch 25/30\n",
            "225/225 [==============================] - 22s 98ms/step - loss: 0.0053 - last_time_step_mse: 0.0015 - accuracy: 0.8327 - val_loss: 0.0093 - val_last_time_step_mse: 0.0026 - val_accuracy: 0.7017\n",
            "Epoch 26/30\n",
            "225/225 [==============================] - 22s 98ms/step - loss: 0.0054 - last_time_step_mse: 0.0015 - accuracy: 0.8295 - val_loss: 0.0095 - val_last_time_step_mse: 0.0024 - val_accuracy: 0.6923\n",
            "Epoch 27/30\n",
            "225/225 [==============================] - 23s 102ms/step - loss: 0.0054 - last_time_step_mse: 0.0016 - accuracy: 0.8326 - val_loss: 0.0095 - val_last_time_step_mse: 0.0023 - val_accuracy: 0.7001\n",
            "Epoch 28/30\n",
            "225/225 [==============================] - 22s 99ms/step - loss: 0.0055 - last_time_step_mse: 0.0017 - accuracy: 0.8246 - val_loss: 0.0096 - val_last_time_step_mse: 0.0023 - val_accuracy: 0.6839\n",
            "Epoch 29/30\n",
            "225/225 [==============================] - 22s 98ms/step - loss: 0.0056 - last_time_step_mse: 0.0016 - accuracy: 0.8223 - val_loss: 0.0095 - val_last_time_step_mse: 0.0022 - val_accuracy: 0.7028\n",
            "Epoch 30/30\n",
            "225/225 [==============================] - 22s 98ms/step - loss: 0.0053 - last_time_step_mse: 0.0014 - accuracy: 0.8319 - val_loss: 0.0095 - val_last_time_step_mse: 0.0022 - val_accuracy: 0.6967\n"
          ],
          "name": "stdout"
        }
      ]
    },
    {
      "cell_type": "code",
      "metadata": {
        "id": "LWGRsWGnfecQ",
        "colab_type": "code",
        "colab": {
          "base_uri": "https://localhost:8080/",
          "height": 50
        },
        "outputId": "67584996-5243-4651-d2db-e009b00d2ac6"
      },
      "source": [
        "model.evaluate(x_test, y_test)"
      ],
      "execution_count": 39,
      "outputs": [
        {
          "output_type": "stream",
          "text": [
            "71/71 [==============================] - 2s 27ms/step - loss: 0.0096 - last_time_step_mse: 4.5862e-04 - accuracy: 0.6839\n"
          ],
          "name": "stdout"
        },
        {
          "output_type": "execute_result",
          "data": {
            "text/plain": [
              "[0.009641153737902641, 0.0004586172290146351, 0.683882474899292]"
            ]
          },
          "metadata": {
            "tags": []
          },
          "execution_count": 39
        }
      ]
    },
    {
      "cell_type": "code",
      "metadata": {
        "id": "CpzS0-QLkaTE",
        "colab_type": "code",
        "colab": {
          "base_uri": "https://localhost:8080/",
          "height": 390
        },
        "outputId": "6c01648d-37a6-48ab-9137-78f19688595e"
      },
      "source": [
        "fig, axes = plt.subplots(1,2,figsize = (19,6))\n",
        "axes[0].plot(df[['accuracy','val_accuracy']])\n",
        "axes[0].set_ylabel('accuracy')\n",
        "axes[1].plot(df[['loss', 'val_loss']])\n",
        "axes[1].set_ylabel('loss')"
      ],
      "execution_count": 77,
      "outputs": [
        {
          "output_type": "execute_result",
          "data": {
            "text/plain": [
              "Text(0, 0.5, 'loss')"
            ]
          },
          "metadata": {
            "tags": []
          },
          "execution_count": 77
        },
        {
          "output_type": "display_data",
          "data": {
            "image/png": "[encoded data removed]",
            "text/plain": [
              "<Figure size 1368x432 with 2 Axes>"
            ]
          },
          "metadata": {
            "tags": [],
            "needs_background": "light"
          }
        }
      ]
    },
    {
      "cell_type": "code",
      "metadata": {
        "id": "mZmyqZQilrLQ",
        "colab_type": "code",
        "colab": {
          "base_uri": "https://localhost:8080/",
          "height": 66
        },
        "outputId": "0dfb3857-d796-4c27-c260-91ec34ed3a36"
      },
      "source": [
        "y_train[0]"
      ],
      "execution_count": 89,
      "outputs": [
        {
          "output_type": "execute_result",
          "data": {
            "text/plain": [
              "array([0., 0., 0., 1., 0., 0., 0., 0., 0., 0., 0., 0., 0., 0., 0., 0., 0.,\n",
              "       0., 0., 0., 0., 0., 0., 0., 0., 0., 0., 0., 0., 0., 0., 0., 0., 0.,\n",
              "       0., 0., 0., 0., 0., 0., 0., 0., 0., 0., 0., 0.], dtype=float32)"
            ]
          },
          "metadata": {
            "tags": []
          },
          "execution_count": 89
        }
      ]
    },
    {
      "cell_type": "code",
      "metadata": {
        "id": "wjwJfQcNliI4",
        "colab_type": "code",
        "colab": {
          "base_uri": "https://localhost:8080/",
          "height": 50
        },
        "outputId": "51798de4-2952-4597-f468-0fc09a116221"
      },
      "source": [
        "pred = model.predict(x_test[0])\n",
        "print(len(pred[0]))\n",
        "file = []\n",
        "for i in range(len(pred)):\n",
        "  file.append(sum(pred[i]))\n",
        "file.index(max(file))"
      ],
      "execution_count": 102,
      "outputs": [
        {
          "output_type": "stream",
          "text": [
            "46\n"
          ],
          "name": "stdout"
        },
        {
          "output_type": "execute_result",
          "data": {
            "text/plain": [
              "54"
            ]
          },
          "metadata": {
            "tags": []
          },
          "execution_count": 102
        }
      ]
    },
    {
      "cell_type": "code",
      "metadata": {
        "id": "wdH9kjWHfio_",
        "colab_type": "code",
        "colab": {
          "base_uri": "https://localhost:8080/",
          "height": 1000
        },
        "outputId": "7752b661-bbb5-4b17-a0a4-7fd0e226cfd6"
      },
      "source": [
        "x,y = x_test, y_test\n",
        "pred = model.predict(x)\n",
        "right, wrong = 0,0\n",
        "for i in range(0,len(pred),10):\n",
        "  index = list(pred[i]).index(max(pred[i]))\n",
        "  if list(y[i]).index(1.) == index:right += 1\n",
        "  else:wrong += 1\n",
        "  print('real:{} predict:{}'.format(list(y[i]).index(1.), index))\n",
        "print(right, wrong)"
      ],
      "execution_count": 111,
      "outputs": [
        {
          "output_type": "stream",
          "text": [
            "real:3 predict:3\n",
            "real:5 predict:1\n",
            "real:8 predict:18\n",
            "real:3 predict:3\n",
            "real:15 predict:13\n",
            "real:20 predict:20\n",
            "real:4 predict:3\n",
            "real:21 predict:13\n",
            "real:3 predict:3\n",
            "real:3 predict:3\n",
            "real:8 predict:19\n",
            "real:3 predict:19\n",
            "real:3 predict:3\n",
            "real:19 predict:8\n",
            "real:3 predict:3\n",
            "real:11 predict:4\n",
            "real:3 predict:3\n",
            "real:3 predict:3\n",
            "real:19 predict:3\n",
            "real:19 predict:21\n",
            "real:16 predict:25\n",
            "real:3 predict:3\n",
            "real:3 predict:3\n",
            "real:4 predict:4\n",
            "real:19 predict:8\n",
            "real:4 predict:4\n",
            "real:19 predict:12\n",
            "real:4 predict:4\n",
            "real:3 predict:20\n",
            "real:3 predict:3\n",
            "real:3 predict:3\n",
            "real:16 predict:3\n",
            "real:35 predict:34\n",
            "real:19 predict:19\n",
            "real:19 predict:19\n",
            "real:4 predict:4\n",
            "real:4 predict:4\n",
            "real:11 predict:11\n",
            "real:10 predict:1\n",
            "real:3 predict:3\n",
            "real:4 predict:4\n",
            "real:3 predict:3\n",
            "real:3 predict:3\n",
            "real:1 predict:5\n",
            "real:32 predict:28\n",
            "real:19 predict:19\n",
            "real:4 predict:3\n",
            "real:19 predict:19\n",
            "real:3 predict:3\n",
            "real:3 predict:3\n",
            "real:3 predict:3\n",
            "real:3 predict:3\n",
            "real:3 predict:3\n",
            "real:4 predict:17\n",
            "real:2 predict:2\n",
            "real:4 predict:4\n",
            "real:3 predict:3\n",
            "real:3 predict:3\n",
            "real:3 predict:3\n",
            "real:4 predict:4\n",
            "real:3 predict:3\n",
            "real:19 predict:19\n",
            "real:4 predict:4\n",
            "real:4 predict:4\n",
            "real:3 predict:3\n",
            "real:16 predict:16\n",
            "real:4 predict:4\n",
            "real:4 predict:4\n",
            "real:4 predict:3\n",
            "real:20 predict:20\n",
            "real:11 predict:19\n",
            "real:23 predict:10\n",
            "real:4 predict:4\n",
            "real:3 predict:3\n",
            "real:4 predict:4\n",
            "real:4 predict:4\n",
            "real:11 predict:19\n",
            "real:3 predict:3\n",
            "real:0 predict:9\n",
            "real:3 predict:3\n",
            "real:9 predict:0\n",
            "real:4 predict:4\n",
            "real:23 predict:17\n",
            "real:3 predict:3\n",
            "real:3 predict:3\n",
            "real:3 predict:3\n",
            "real:3 predict:3\n",
            "real:16 predict:16\n",
            "real:15 predict:18\n",
            "real:14 predict:11\n",
            "real:3 predict:3\n",
            "real:4 predict:4\n",
            "real:19 predict:19\n",
            "real:19 predict:19\n",
            "real:24 predict:24\n",
            "real:19 predict:8\n",
            "real:3 predict:3\n",
            "real:18 predict:18\n",
            "real:1 predict:1\n",
            "real:15 predict:28\n",
            "real:13 predict:16\n",
            "real:3 predict:3\n",
            "real:9 predict:9\n",
            "real:20 predict:3\n",
            "real:3 predict:3\n",
            "real:16 predict:11\n",
            "real:3 predict:3\n",
            "real:3 predict:3\n",
            "real:4 predict:4\n",
            "real:8 predict:4\n",
            "real:1 predict:19\n",
            "real:3 predict:3\n",
            "real:3 predict:3\n",
            "real:3 predict:3\n",
            "real:4 predict:4\n",
            "real:3 predict:3\n",
            "real:3 predict:3\n",
            "real:30 predict:19\n",
            "real:3 predict:3\n",
            "real:20 predict:20\n",
            "real:4 predict:4\n",
            "real:3 predict:3\n",
            "real:4 predict:4\n",
            "real:3 predict:3\n",
            "real:16 predict:16\n",
            "real:3 predict:3\n",
            "real:4 predict:4\n",
            "real:3 predict:3\n",
            "real:3 predict:3\n",
            "real:3 predict:3\n",
            "real:16 predict:13\n",
            "real:4 predict:9\n",
            "real:3 predict:3\n",
            "real:4 predict:4\n",
            "real:4 predict:4\n",
            "real:15 predict:3\n",
            "real:1 predict:1\n",
            "real:11 predict:18\n",
            "real:4 predict:3\n",
            "real:6 predict:6\n",
            "real:22 predict:1\n",
            "real:3 predict:3\n",
            "real:3 predict:3\n",
            "real:1 predict:1\n",
            "real:3 predict:3\n",
            "real:13 predict:16\n",
            "real:3 predict:3\n",
            "real:3 predict:3\n",
            "real:4 predict:4\n",
            "real:10 predict:10\n",
            "real:3 predict:3\n",
            "real:3 predict:3\n",
            "real:4 predict:4\n",
            "real:30 predict:18\n",
            "real:3 predict:3\n",
            "real:1 predict:1\n",
            "real:18 predict:4\n",
            "real:10 predict:10\n",
            "real:3 predict:20\n",
            "real:3 predict:3\n",
            "real:3 predict:3\n",
            "real:19 predict:13\n",
            "real:3 predict:3\n",
            "real:11 predict:11\n",
            "real:3 predict:3\n",
            "real:3 predict:3\n",
            "real:3 predict:3\n",
            "real:4 predict:4\n",
            "real:28 predict:17\n",
            "real:25 predict:13\n",
            "real:3 predict:3\n",
            "real:4 predict:4\n",
            "real:20 predict:20\n",
            "real:3 predict:3\n",
            "real:43 predict:8\n",
            "real:4 predict:3\n",
            "real:11 predict:20\n",
            "real:9 predict:9\n",
            "real:4 predict:4\n",
            "real:13 predict:4\n",
            "real:30 predict:12\n",
            "real:19 predict:19\n",
            "real:4 predict:4\n",
            "real:3 predict:3\n",
            "real:3 predict:3\n",
            "real:30 predict:11\n",
            "real:3 predict:3\n",
            "real:20 predict:3\n",
            "real:1 predict:1\n",
            "real:3 predict:3\n",
            "real:0 predict:0\n",
            "real:13 predict:11\n",
            "real:3 predict:3\n",
            "real:4 predict:3\n",
            "real:13 predict:16\n",
            "real:20 predict:20\n",
            "real:3 predict:21\n",
            "real:4 predict:4\n",
            "real:4 predict:4\n",
            "real:13 predict:16\n",
            "real:4 predict:4\n",
            "real:0 predict:1\n",
            "real:3 predict:3\n",
            "real:3 predict:3\n",
            "real:10 predict:10\n",
            "real:3 predict:3\n",
            "real:19 predict:8\n",
            "real:3 predict:3\n",
            "real:23 predict:17\n",
            "real:31 predict:11\n",
            "real:3 predict:3\n",
            "real:3 predict:3\n",
            "real:18 predict:16\n",
            "real:4 predict:4\n",
            "real:1 predict:4\n",
            "real:11 predict:11\n",
            "real:40 predict:19\n",
            "real:3 predict:3\n",
            "real:3 predict:3\n",
            "real:3 predict:3\n",
            "real:20 predict:4\n",
            "real:4 predict:4\n",
            "real:21 predict:1\n",
            "real:3 predict:3\n",
            "real:3 predict:3\n",
            "152 73\n"
          ],
          "name": "stdout"
        }
      ]
    },
    {
      "cell_type": "code",
      "metadata": {
        "id": "eNb3zjoQmGRb",
        "colab_type": "code",
        "colab": {}
      },
      "source": [
        "\n"
      ],
      "execution_count": null,
      "outputs": []
    }
  ]
}