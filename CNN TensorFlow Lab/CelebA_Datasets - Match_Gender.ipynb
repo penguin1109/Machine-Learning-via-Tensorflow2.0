{
 "cells": [
  {
   "cell_type": "markdown",
   "metadata": {},
   "source": [
    "### INTRO\n",
    "#### WHY?\n",
    "- 사람의 사진을 기반으로 퍼스널 컬러를 예측하여 그에 맞는 화장을 해주거나 스마트 렌즈, 자율주행 자동차 등 **computer vision**기술에 유난히 관심이 많았다.\n",
    "- 그래서 그렇게 하기 위해서는 간단한 CNN부터 OpenCV까지 모두 다루어 보고 싶었고 일단 라벨링이 잘 되어 있는 이미지 데이터를 가지고 학습을 해 보는 것이 우선이라고 생각했다.\n",
    "- 항상 이미지 데이터를 다루기 시작하기 전에 데이터를 전처리하고 데이터셋을 로드하며 입력 pipeline을 구축하는 것이 너무 어렵고 까다로웠다.\n",
    "- 이번에는 이미지 전처리를 위해서 ImageDataGenerator을 이용해 보기로 했다.\n",
    "\n",
    "- 3개의 총 다른 모델을 이용해서 학습을 시켜 보았는데, 세가지 모두 조금씩 다르게, 각각 다른 방법의 함수형 API를 사용하였다. \n",
    "- 그리고 마지막 model의 경우에는 ResNet의 스킵학습을 Class를 이용해서 구현하여서 학습을 시켜 보았다."
   ]
  },
  {
   "cell_type": "code",
   "execution_count": 1,
   "metadata": {},
   "outputs": [],
   "source": [
    "import cv2\n",
    "import tensorflow as tf\n",
    "import matplotlib.pyplot as plt\n",
    "import pandas as pd\n",
    "import numpy as np\n",
    "import os"
   ]
  },
  {
   "cell_type": "code",
   "execution_count": 2,
   "metadata": {},
   "outputs": [
    {
     "name": "stdout",
     "output_type": "stream",
     "text": [
      "2.1.0\n",
      "WARNING:tensorflow:From <ipython-input-2-b015b5a592d5>:2: is_gpu_available (from tensorflow.python.framework.test_util) is deprecated and will be removed in a future version.\n",
      "Instructions for updating:\n",
      "Use `tf.config.list_physical_devices('GPU')` instead.\n"
     ]
    },
    {
     "data": {
      "text/plain": [
       "True"
      ]
     },
     "execution_count": 2,
     "metadata": {},
     "output_type": "execute_result"
    }
   ],
   "source": [
    "print(tf.__version__) \n",
    "tf.test.is_gpu_available()"
   ]
  },
  {
   "cell_type": "code",
   "execution_count": 6,
   "metadata": {},
   "outputs": [],
   "source": [
    "import os\n",
    "def makefile_name(dir):\n",
    "    file = []\n",
    "    filenames = os.listdir(dir)\n",
    "    for name in filenames:\n",
    "        file.append(os.path.join(dir, name))\n",
    "    return file"
   ]
  },
  {
   "cell_type": "code",
   "execution_count": 7,
   "metadata": {},
   "outputs": [],
   "source": [
    "#이미지 데이터(makefile_name(directory)를 이용해서 저장 경로 저장)\n",
    "img_root = \"C:\\\\Users\\\\이지혜\\\\.keras\\\\datasets\\\\img_align_celeba\"\n",
    "img_file = makefile_name(img_root)"
   ]
  },
  {
   "cell_type": "code",
   "execution_count": 4,
   "metadata": {},
   "outputs": [
    {
     "data": {
      "text/plain": [
       "['C:\\\\Users\\\\이지혜\\\\.keras\\\\datasets\\\\img_align_celeba\\\\000001.jpg',\n",
       " 'C:\\\\Users\\\\이지혜\\\\.keras\\\\datasets\\\\img_align_celeba\\\\000002.jpg',\n",
       " 'C:\\\\Users\\\\이지혜\\\\.keras\\\\datasets\\\\img_align_celeba\\\\000003.jpg',\n",
       " 'C:\\\\Users\\\\이지혜\\\\.keras\\\\datasets\\\\img_align_celeba\\\\000004.jpg',\n",
       " 'C:\\\\Users\\\\이지혜\\\\.keras\\\\datasets\\\\img_align_celeba\\\\000005.jpg']"
      ]
     },
     "execution_count": 4,
     "metadata": {},
     "output_type": "execute_result"
    }
   ],
   "source": [
    "img_file[:5]"
   ]
  },
  {
   "cell_type": "markdown",
   "metadata": {},
   "source": [
    "### 1. Gender Prediction"
   ]
  },
  {
   "cell_type": "code",
   "execution_count": 2,
   "metadata": {},
   "outputs": [],
   "source": [
    "#특징들의 여부나 성별의 구분이 담긴 데이터\n",
    "data_dir = \"C:\\\\Users\\\\이지혜\\\\.keras\\\\datasets\\\\list_attr_celeba.csv\"\n",
    "data_df = pd.read_csv(data_dir)"
   ]
  },
  {
   "cell_type": "code",
   "execution_count": 9,
   "metadata": {},
   "outputs": [
    {
     "data": {
      "text/html": [
       "<div>\n",
       "<style scoped>\n",
       "    .dataframe tbody tr th:only-of-type {\n",
       "        vertical-align: middle;\n",
       "    }\n",
       "\n",
       "    .dataframe tbody tr th {\n",
       "        vertical-align: top;\n",
       "    }\n",
       "\n",
       "    .dataframe thead th {\n",
       "        text-align: right;\n",
       "    }\n",
       "</style>\n",
       "<table border=\"1\" class=\"dataframe\">\n",
       "  <thead>\n",
       "    <tr style=\"text-align: right;\">\n",
       "      <th></th>\n",
       "      <th>image_id</th>\n",
       "      <th>5_o_Clock_Shadow</th>\n",
       "      <th>Arched_Eyebrows</th>\n",
       "      <th>Attractive</th>\n",
       "      <th>Bags_Under_Eyes</th>\n",
       "      <th>Bald</th>\n",
       "      <th>Bangs</th>\n",
       "      <th>Big_Lips</th>\n",
       "      <th>Big_Nose</th>\n",
       "      <th>Black_Hair</th>\n",
       "      <th>...</th>\n",
       "      <th>Sideburns</th>\n",
       "      <th>Smiling</th>\n",
       "      <th>Straight_Hair</th>\n",
       "      <th>Wavy_Hair</th>\n",
       "      <th>Wearing_Earrings</th>\n",
       "      <th>Wearing_Hat</th>\n",
       "      <th>Wearing_Lipstick</th>\n",
       "      <th>Wearing_Necklace</th>\n",
       "      <th>Wearing_Necktie</th>\n",
       "      <th>Young</th>\n",
       "    </tr>\n",
       "  </thead>\n",
       "  <tbody>\n",
       "    <tr>\n",
       "      <th>0</th>\n",
       "      <td>000001.jpg</td>\n",
       "      <td>-1</td>\n",
       "      <td>1</td>\n",
       "      <td>1</td>\n",
       "      <td>-1</td>\n",
       "      <td>-1</td>\n",
       "      <td>-1</td>\n",
       "      <td>-1</td>\n",
       "      <td>-1</td>\n",
       "      <td>-1</td>\n",
       "      <td>...</td>\n",
       "      <td>-1</td>\n",
       "      <td>1</td>\n",
       "      <td>1</td>\n",
       "      <td>-1</td>\n",
       "      <td>1</td>\n",
       "      <td>-1</td>\n",
       "      <td>1</td>\n",
       "      <td>-1</td>\n",
       "      <td>-1</td>\n",
       "      <td>1</td>\n",
       "    </tr>\n",
       "    <tr>\n",
       "      <th>1</th>\n",
       "      <td>000002.jpg</td>\n",
       "      <td>-1</td>\n",
       "      <td>-1</td>\n",
       "      <td>-1</td>\n",
       "      <td>1</td>\n",
       "      <td>-1</td>\n",
       "      <td>-1</td>\n",
       "      <td>-1</td>\n",
       "      <td>1</td>\n",
       "      <td>-1</td>\n",
       "      <td>...</td>\n",
       "      <td>-1</td>\n",
       "      <td>1</td>\n",
       "      <td>-1</td>\n",
       "      <td>-1</td>\n",
       "      <td>-1</td>\n",
       "      <td>-1</td>\n",
       "      <td>-1</td>\n",
       "      <td>-1</td>\n",
       "      <td>-1</td>\n",
       "      <td>1</td>\n",
       "    </tr>\n",
       "    <tr>\n",
       "      <th>2</th>\n",
       "      <td>000003.jpg</td>\n",
       "      <td>-1</td>\n",
       "      <td>-1</td>\n",
       "      <td>-1</td>\n",
       "      <td>-1</td>\n",
       "      <td>-1</td>\n",
       "      <td>-1</td>\n",
       "      <td>1</td>\n",
       "      <td>-1</td>\n",
       "      <td>-1</td>\n",
       "      <td>...</td>\n",
       "      <td>-1</td>\n",
       "      <td>-1</td>\n",
       "      <td>-1</td>\n",
       "      <td>1</td>\n",
       "      <td>-1</td>\n",
       "      <td>-1</td>\n",
       "      <td>-1</td>\n",
       "      <td>-1</td>\n",
       "      <td>-1</td>\n",
       "      <td>1</td>\n",
       "    </tr>\n",
       "    <tr>\n",
       "      <th>3</th>\n",
       "      <td>000004.jpg</td>\n",
       "      <td>-1</td>\n",
       "      <td>-1</td>\n",
       "      <td>1</td>\n",
       "      <td>-1</td>\n",
       "      <td>-1</td>\n",
       "      <td>-1</td>\n",
       "      <td>-1</td>\n",
       "      <td>-1</td>\n",
       "      <td>-1</td>\n",
       "      <td>...</td>\n",
       "      <td>-1</td>\n",
       "      <td>-1</td>\n",
       "      <td>1</td>\n",
       "      <td>-1</td>\n",
       "      <td>1</td>\n",
       "      <td>-1</td>\n",
       "      <td>1</td>\n",
       "      <td>1</td>\n",
       "      <td>-1</td>\n",
       "      <td>1</td>\n",
       "    </tr>\n",
       "    <tr>\n",
       "      <th>4</th>\n",
       "      <td>000005.jpg</td>\n",
       "      <td>-1</td>\n",
       "      <td>1</td>\n",
       "      <td>1</td>\n",
       "      <td>-1</td>\n",
       "      <td>-1</td>\n",
       "      <td>-1</td>\n",
       "      <td>1</td>\n",
       "      <td>-1</td>\n",
       "      <td>-1</td>\n",
       "      <td>...</td>\n",
       "      <td>-1</td>\n",
       "      <td>-1</td>\n",
       "      <td>-1</td>\n",
       "      <td>-1</td>\n",
       "      <td>-1</td>\n",
       "      <td>-1</td>\n",
       "      <td>1</td>\n",
       "      <td>-1</td>\n",
       "      <td>-1</td>\n",
       "      <td>1</td>\n",
       "    </tr>\n",
       "  </tbody>\n",
       "</table>\n",
       "<p>5 rows × 41 columns</p>\n",
       "</div>"
      ],
      "text/plain": [
       "     image_id  5_o_Clock_Shadow  Arched_Eyebrows  Attractive  Bags_Under_Eyes  \\\n",
       "0  000001.jpg                -1                1           1               -1   \n",
       "1  000002.jpg                -1               -1          -1                1   \n",
       "2  000003.jpg                -1               -1          -1               -1   \n",
       "3  000004.jpg                -1               -1           1               -1   \n",
       "4  000005.jpg                -1                1           1               -1   \n",
       "\n",
       "   Bald  Bangs  Big_Lips  Big_Nose  Black_Hair  ...  Sideburns  Smiling  \\\n",
       "0    -1     -1        -1        -1          -1  ...         -1        1   \n",
       "1    -1     -1        -1         1          -1  ...         -1        1   \n",
       "2    -1     -1         1        -1          -1  ...         -1       -1   \n",
       "3    -1     -1        -1        -1          -1  ...         -1       -1   \n",
       "4    -1     -1         1        -1          -1  ...         -1       -1   \n",
       "\n",
       "   Straight_Hair  Wavy_Hair  Wearing_Earrings  Wearing_Hat  Wearing_Lipstick  \\\n",
       "0              1         -1                 1           -1                 1   \n",
       "1             -1         -1                -1           -1                -1   \n",
       "2             -1          1                -1           -1                -1   \n",
       "3              1         -1                 1           -1                 1   \n",
       "4             -1         -1                -1           -1                 1   \n",
       "\n",
       "   Wearing_Necklace  Wearing_Necktie  Young  \n",
       "0                -1               -1      1  \n",
       "1                -1               -1      1  \n",
       "2                -1               -1      1  \n",
       "3                 1               -1      1  \n",
       "4                -1               -1      1  \n",
       "\n",
       "[5 rows x 41 columns]"
      ]
     },
     "execution_count": 9,
     "metadata": {},
     "output_type": "execute_result"
    }
   ],
   "source": [
    "data_df.head()"
   ]
  },
  {
   "cell_type": "code",
   "execution_count": 10,
   "metadata": {},
   "outputs": [
    {
     "data": {
      "text/plain": [
       "Index(['image_id', '5_o_Clock_Shadow', 'Arched_Eyebrows', 'Attractive',\n",
       "       'Bags_Under_Eyes', 'Bald', 'Bangs', 'Big_Lips', 'Big_Nose',\n",
       "       'Black_Hair', 'Blond_Hair', 'Blurry', 'Brown_Hair', 'Bushy_Eyebrows',\n",
       "       'Chubby', 'Double_Chin', 'Eyeglasses', 'Goatee', 'Gray_Hair',\n",
       "       'Heavy_Makeup', 'High_Cheekbones', 'Male', 'Mouth_Slightly_Open',\n",
       "       'Mustache', 'Narrow_Eyes', 'No_Beard', 'Oval_Face', 'Pale_Skin',\n",
       "       'Pointy_Nose', 'Receding_Hairline', 'Rosy_Cheeks', 'Sideburns',\n",
       "       'Smiling', 'Straight_Hair', 'Wavy_Hair', 'Wearing_Earrings',\n",
       "       'Wearing_Hat', 'Wearing_Lipstick', 'Wearing_Necklace',\n",
       "       'Wearing_Necktie', 'Young'],\n",
       "      dtype='object')"
      ]
     },
     "execution_count": 10,
     "metadata": {},
     "output_type": "execute_result"
    }
   ],
   "source": [
    "data_df.columns"
   ]
  },
  {
   "cell_type": "code",
   "execution_count": 11,
   "metadata": {},
   "outputs": [],
   "source": [
    "hair_data = data_df.get([\"Black_Hair\", \"Blond_Hair\", \"Brown_Hair\"])"
   ]
  },
  {
   "cell_type": "code",
   "execution_count": 12,
   "metadata": {
    "scrolled": true
   },
   "outputs": [
    {
     "data": {
      "text/plain": [
       "-1    154127\n",
       " 1     48472\n",
       "Name: Black_Hair, dtype: int64"
      ]
     },
     "execution_count": 12,
     "metadata": {},
     "output_type": "execute_result"
    }
   ],
   "source": [
    "hair_data[\"Black_Hair\"].value_counts()"
   ]
  },
  {
   "cell_type": "code",
   "execution_count": 13,
   "metadata": {},
   "outputs": [
    {
     "data": {
      "text/plain": [
       "-1    172616\n",
       " 1     29983\n",
       "Name: Blond_Hair, dtype: int64"
      ]
     },
     "execution_count": 13,
     "metadata": {},
     "output_type": "execute_result"
    }
   ],
   "source": [
    "hair_data[\"Blond_Hair\"].value_counts()"
   ]
  },
  {
   "cell_type": "code",
   "execution_count": 14,
   "metadata": {},
   "outputs": [
    {
     "data": {
      "text/plain": [
       "-1    161027\n",
       " 1     41572\n",
       "Name: Brown_Hair, dtype: int64"
      ]
     },
     "execution_count": 14,
     "metadata": {},
     "output_type": "execute_result"
    }
   ],
   "source": [
    "hair_data[\"Brown_Hair\"].value_counts()"
   ]
  },
  {
   "cell_type": "code",
   "execution_count": 3,
   "metadata": {},
   "outputs": [],
   "source": [
    "gender_data = data_df.get([\"image_id\", \"Male\"])"
   ]
  },
  {
   "cell_type": "code",
   "execution_count": 22,
   "metadata": {},
   "outputs": [
    {
     "data": {
      "text/plain": [
       "18648"
      ]
     },
     "execution_count": 22,
     "metadata": {},
     "output_type": "execute_result"
    }
   ],
   "source": [
    "len(img_file)"
   ]
  },
  {
   "cell_type": "code",
   "execution_count": 16,
   "metadata": {},
   "outputs": [
    {
     "data": {
      "text/html": [
       "<div>\n",
       "<style scoped>\n",
       "    .dataframe tbody tr th:only-of-type {\n",
       "        vertical-align: middle;\n",
       "    }\n",
       "\n",
       "    .dataframe tbody tr th {\n",
       "        vertical-align: top;\n",
       "    }\n",
       "\n",
       "    .dataframe thead th {\n",
       "        text-align: right;\n",
       "    }\n",
       "</style>\n",
       "<table border=\"1\" class=\"dataframe\">\n",
       "  <thead>\n",
       "    <tr style=\"text-align: right;\">\n",
       "      <th></th>\n",
       "      <th>image_id</th>\n",
       "      <th>Male</th>\n",
       "    </tr>\n",
       "  </thead>\n",
       "  <tbody>\n",
       "    <tr>\n",
       "      <th>0</th>\n",
       "      <td>000001.jpg</td>\n",
       "      <td>-1</td>\n",
       "    </tr>\n",
       "    <tr>\n",
       "      <th>1</th>\n",
       "      <td>000002.jpg</td>\n",
       "      <td>-1</td>\n",
       "    </tr>\n",
       "    <tr>\n",
       "      <th>2</th>\n",
       "      <td>000003.jpg</td>\n",
       "      <td>1</td>\n",
       "    </tr>\n",
       "    <tr>\n",
       "      <th>3</th>\n",
       "      <td>000004.jpg</td>\n",
       "      <td>-1</td>\n",
       "    </tr>\n",
       "    <tr>\n",
       "      <th>4</th>\n",
       "      <td>000005.jpg</td>\n",
       "      <td>-1</td>\n",
       "    </tr>\n",
       "  </tbody>\n",
       "</table>\n",
       "</div>"
      ],
      "text/plain": [
       "     image_id  Male\n",
       "0  000001.jpg    -1\n",
       "1  000002.jpg    -1\n",
       "2  000003.jpg     1\n",
       "3  000004.jpg    -1\n",
       "4  000005.jpg    -1"
      ]
     },
     "execution_count": 16,
     "metadata": {},
     "output_type": "execute_result"
    }
   ],
   "source": [
    "gender_data.head()"
   ]
  },
  {
   "cell_type": "markdown",
   "metadata": {},
   "source": [
    "**성별 예측과 함께 머리 색도 예측을 해줄 것이기 때문에 'Male'이라는 데이터와 'Black_Hair', 'Blonde_Hair', 'Brown_Hair'데이터를  이용해 주고자 한다.**"
   ]
  },
  {
   "cell_type": "markdown",
   "metadata": {},
   "source": [
    "**모든 이미지의 크기가 (218,178)의 픽셀로 이루어져 있기 때문에 (178,178)의 크기로 다시 조정을 해 주었다**"
   ]
  },
  {
   "cell_type": "code",
   "execution_count": 66,
   "metadata": {},
   "outputs": [],
   "source": [
    "import cv2\n",
    "#이미지 로드(array의 형태로 바꾸어 놓음)\n",
    "def load_image(dir):\n",
    "    img = tf.io.read_file(dir)\n",
    "    img = tf.image.decode_jpeg(img, channels = 3)\n",
    "    img = tf.image.convert_image_dtype(img, tf.float32)\n",
    "    img = tf.image.resize(img, (200, 200))\n",
    "    return img"
   ]
  },
  {
   "cell_type": "code",
   "execution_count": 18,
   "metadata": {},
   "outputs": [
    {
     "data": {
      "text/plain": [
       "<matplotlib.image.AxesImage at 0x280caa20fc8>"
      ]
     },
     "execution_count": 18,
     "metadata": {},
     "output_type": "execute_result"
    },
    {
     "data": {
      "image/png": "[encoded data removed]",
      "text/plain": [
       "<Figure size 432x288 with 1 Axes>"
      ]
     },
     "metadata": {
      "needs_background": "light"
     },
     "output_type": "display_data"
    }
   ],
   "source": [
    "plt.imshow(load_image(img_file[100]))"
   ]
  },
  {
   "cell_type": "markdown",
   "metadata": {},
   "source": [
    "- 분류를 해 주어야 하는데, 우선 성별에 따라서 여성/남성으로 나누어 준 뒤에 각각의 분류 내에서 검은/갈색/금발 머리로 나누어 주어야 한다. \n",
    "- 따라서 분류기는 **다중 레이블 분류(multi label classification)**를 하는 것이다.\n",
    "    - 따라서 각 이미지마다 두개의 타깃 레이블이 담긴 y_multilable배열을 만들어야 하는 것이다.\n",
    "    - 이를 위해서 ```from sklearn.neighbors import KNeighborsClassifier```을 이용해도 된다. 왜냐하면 다른 sklearn의 분류기들은 다중 레이 블 분류를 지원해 주지 않기 때문이다.\n",
    "    \n",
    "- 다중 레이블 분류로 이를 학습시키기 위해서는 합성곱 신경망 층까지는 그대로 진행하다가 이후에 마지막 Dense layer에서 출력을 다르게 한 뒤에 다시 해당 레이블을 합쳐서 금발 남자, 금발 여자, 흑발 여자, 흑발 남자, 갈색 여자, 갈색 남자 이런 식으로 6개의 label을 출력하도록 할 지 고민이다.\n",
    "- 처음부터 그냥 6개의 레이블로 나누어 준다면 좋겠지만 이왕이면 따로 해서 정확도를 높여주는 것이 나을 것 같다는 생각이 든다.  \n",
    "**이런 다중 레이블 분류의 문제는 함수형 API나 subclassing API를 이용하면 쉽게 해결이 가능하다**\n",
    "\n",
    "----------------------------------------------------------------------------------------------------------------------------------------\n",
    "\n",
    "** 위와 같이 진행하려 했으나 머리 색을 나타내는 데이터중에 여러개의 머리색을 나타내는 이미지도 있고 무엇보다 머리색이 지정되지 않은 데이터가 반절이었기 때문에 그냥 성별 데이터만 학습하기로 했다.**\n",
    "\n",
    "- 이제 이진 분류로 바뀐 상태이기 때문에 Convolution Layer, Dense Layer을 각각 class로 만들어서 합친뒤에 하나의 Model로 만들어서 loss는 binary_crossentropy, optimizer는 Adam을 이용할 생각이다."
   ]
  },
  {
   "cell_type": "markdown",
   "metadata": {},
   "source": [
    "### 1. Dataset 경로 이동하기\n",
    "- 이진분류를 하면 되는 것이니까 이제 그냥 Image Data Generator Flow from Directory를 이용할 생각이다.\n",
    "- 이를 위해서 Flow From Directory의 특성상 저장 경로의 하위항목으로 train -> male / female 이런 식으로 나누어 주어야만 label이 자동으로 생성이 된다."
   ]
  },
  {
   "cell_type": "code",
   "execution_count": 4,
   "metadata": {},
   "outputs": [],
   "source": [
    "gender = np.array(gender_data[\"Male\"])\n",
    "img = np.array(gender_data[\"image_id\"])"
   ]
  },
  {
   "cell_type": "code",
   "execution_count": 8,
   "metadata": {},
   "outputs": [],
   "source": [
    "import os\n",
    "male_dir, female_dir = [],[]\n",
    "for i in range(len(gender)):\n",
    "    if i < len(img_file):\n",
    "        path = os.path.join(img_root, img[i])\n",
    "        if gender[i] == -1:\n",
    "            female_dir.append(path)\n",
    "        else:male_dir.append(path)"
   ]
  },
  {
   "cell_type": "code",
   "execution_count": 9,
   "metadata": {},
   "outputs": [
    {
     "data": {
      "text/plain": [
       "(10802, 7846)"
      ]
     },
     "execution_count": 9,
     "metadata": {},
     "output_type": "execute_result"
    }
   ],
   "source": [
    "len(female_dir), len(male_dir)"
   ]
  },
  {
   "cell_type": "code",
   "execution_count": 10,
   "metadata": {},
   "outputs": [],
   "source": [
    "female_dir = female_dir[:len(male_dir)]"
   ]
  },
  {
   "cell_type": "code",
   "execution_count": 50,
   "metadata": {},
   "outputs": [
    {
     "data": {
      "text/plain": [
       "(7846, 7846)"
      ]
     },
     "execution_count": 50,
     "metadata": {},
     "output_type": "execute_result"
    }
   ],
   "source": [
    "len(female_dir), len(male_dir)"
   ]
  },
  {
   "cell_type": "code",
   "execution_count": 51,
   "metadata": {},
   "outputs": [],
   "source": [
    "train = female_dir + male_dir"
   ]
  },
  {
   "cell_type": "code",
   "execution_count": 11,
   "metadata": {},
   "outputs": [],
   "source": [
    "from sklearn.model_selection import train_test_split\n",
    "train_fe, test_fe, train_ma, test_ma = train_test_split(female_dir, male_dir, test_size = 0.3, shuffle = True)"
   ]
  },
  {
   "cell_type": "code",
   "execution_count": 56,
   "metadata": {},
   "outputs": [
    {
     "data": {
      "text/plain": [
       "(5492, 5492, 2354, 2354)"
      ]
     },
     "execution_count": 56,
     "metadata": {},
     "output_type": "execute_result"
    }
   ],
   "source": [
    "len(train_fe),len(train_ma), len(test_fe), len(test_ma)"
   ]
  },
  {
   "cell_type": "code",
   "execution_count": 33,
   "metadata": {},
   "outputs": [
    {
     "data": {
      "text/plain": [
       "['C:', 'Users', '이지혜', '.keras', 'datasets', 'img_align_celeba', '000445.jpg']"
      ]
     },
     "execution_count": 33,
     "metadata": {},
     "output_type": "execute_result"
    }
   ],
   "source": [
    "train_fe[0].split('\\\\')"
   ]
  },
  {
   "cell_type": "code",
   "execution_count": null,
   "metadata": {},
   "outputs": [],
   "source": [
    "import shutil\n",
    "name = [\"female\", \"male\"]\n",
    "for i in range(2):\n",
    "    os.mkdir(os.path.join(\"H:\\\\train\", name[i]))\n",
    "    os.mkdir(os.path.join(\"H:\\\\test\", name[i]))"
   ]
  },
  {
   "cell_type": "code",
   "execution_count": 58,
   "metadata": {},
   "outputs": [],
   "source": [
    "def copy_file(file, root):\n",
    "    for i in file:\n",
    "        name = i.split('\\\\')[-1]\n",
    "        new_dir = os.path.join(root, name)\n",
    "        shutil.copyfile(i, new_dir)"
   ]
  },
  {
   "cell_type": "code",
   "execution_count": 59,
   "metadata": {},
   "outputs": [],
   "source": [
    "copy_file(train_fe, 'H:\\\\train\\\\female')\n",
    "copy_file(train_ma, 'H:\\\\train\\\\male')\n",
    "copy_file(test_fe, 'H:\\\\test\\\\female')\n",
    "copy_file(test_ma, 'H:\\\\test\\\\male')"
   ]
  },
  {
   "cell_type": "markdown",
   "metadata": {},
   "source": [
    "### 2. Dataset 만들기"
   ]
  },
  {
   "cell_type": "code",
   "execution_count": 12,
   "metadata": {},
   "outputs": [],
   "source": [
    "from tensorflow.keras.preprocessing.image import ImageDataGenerator\n",
    "train_datagen = ImageDataGenerator(\n",
    "    width_shift_range=0.2,\n",
    "    height_shift_range=0.2,\n",
    "    shear_range=0.2,\n",
    "    zoom_range=0.2,\n",
    "    fill_mode=\"nearest\",\n",
    "    horizontal_flip=True,\n",
    "    validation_split=0.2,\n",
    "    dtype=tf.float32,\n",
    "    rescale = 1/255.0\n",
    ")\n",
    "test_datagen = ImageDataGenerator(\n",
    "    rescale = 1/255.0\n",
    ")"
   ]
  },
  {
   "cell_type": "code",
   "execution_count": 13,
   "metadata": {},
   "outputs": [
    {
     "name": "stdout",
     "output_type": "stream",
     "text": [
      "Found 10984 images belonging to 2 classes.\n",
      "Found 4708 images belonging to 2 classes.\n"
     ]
    }
   ],
   "source": [
    "train_data = train_datagen.flow_from_directory(\n",
    "    directory = 'H:\\\\train',\n",
    "    target_size = (200,200),\n",
    "    color_mode=\"rgb\",\n",
    "    class_mode=\"binary\",\n",
    "    batch_size=32,\n",
    "    shuffle=True,\n",
    "    seed = None,\n",
    "    save_to_dir=None,\n",
    "    subset=None,\n",
    "    interpolation=\"nearest\",\n",
    ")\n",
    "test_data = test_datagen.flow_from_directory(\n",
    "    directory = 'H:\\\\test',\n",
    "    target_size = (200,200),\n",
    "    color_mode = 'rgb',\n",
    "    class_mode = 'binary'\n",
    ")"
   ]
  },
  {
   "cell_type": "markdown",
   "metadata": {},
   "source": [
    "### 3. Model 만들기\n",
    "#### Model-1\n",
    "- 우선 직접 모델(내가 설계한)을 이용해서 학습을 해보고 이후에는 ResNet-34의 원리를 이용한 모델로 학습을 해서 학습률을 비교해볼 생각이다.\n",
    "- 사실 만약에 Convolution layer에서 padding = 'valid'라고 한다면 이미지의 크기가 저절로 0으로 채워지지 않기 때문에 작은 크기를 이용할 수 있다. 그러나 padding = 'same'으로 한 뒤에 MaxPool2D를 사용하게 되면 kernel의 크기를 2, 즉 제일 작은 크기로 하더라도 데이터의 손실이 꽤나 크다. 왜냐하면 출력은 양방향으로 줄어서 결국 입력값의 1/4만 남게 되기 때문이다. \n",
    "    - 따라서 MaxPooling층은 작은 변화에도 일정 수준의 불변성을 만들어주는 역할을 하기 때문에 **몇개의 층마다 추가**해주는 것이 좋다. "
   ]
  },
  {
   "cell_type": "code",
   "execution_count": 17,
   "metadata": {},
   "outputs": [],
   "source": [
    "from tensorflow.keras.layers import Dense, Conv2D, MaxPool2D, Flatten, BatchNormalization, Dropout\n",
    "from tensorflow.keras.activations import relu, sigmoid, softmax\n",
    "from tensorflow.keras.optimizers import Adam"
   ]
  },
  {
   "cell_type": "code",
   "execution_count": 113,
   "metadata": {},
   "outputs": [],
   "source": [
    "inputs = tf.keras.Input(shape = (200,200,3))\n",
    "x = Conv2D(32, 3, activation = 'relu', strides = 2)(inputs)\n",
    "x = Conv2D(64, 3, activation = 'relu', strides = 2)(x)\n",
    "block_1_output = MaxPool2D(4)(x)\n",
    "\n",
    "x = Conv2D(64, 3, activation = 'relu', padding = 'same')(block_1_output)\n",
    "x = Conv2D(64, 3, activation = 'relu', padding = 'same')(x)\n",
    "block_2_output = tf.keras.layers.add([x, block_1_output])\n",
    "\n",
    "x = Conv2D(128, 3, activation = 'relu', padding = 'same')(block_2_output)\n",
    "x = Flatten()(x)\n",
    "x = Dropout(0.4)(x)\n",
    "x = Dense(256, activation = 'relu')(x)\n",
    "x = Dense(32, activation = 'relu')(x)\n",
    "outputs = Dense(1, activation = 'sigmoid')(x)\n",
    "\n",
    "model = tf.keras.Model(inputs, outputs, name = 'my_model')\n"
   ]
  },
  {
   "cell_type": "code",
   "execution_count": 114,
   "metadata": {},
   "outputs": [
    {
     "name": "stdout",
     "output_type": "stream",
     "text": [
      "Model: \"my_model\"\n",
      "__________________________________________________________________________________________________\n",
      "Layer (type)                    Output Shape         Param #     Connected to                     \n",
      "==================================================================================================\n",
      "input_9 (InputLayer)            [(None, 200, 200, 3) 0                                            \n",
      "__________________________________________________________________________________________________\n",
      "conv2d_43 (Conv2D)              (None, 99, 99, 32)   896         input_9[0][0]                    \n",
      "__________________________________________________________________________________________________\n",
      "conv2d_44 (Conv2D)              (None, 49, 49, 64)   18496       conv2d_43[0][0]                  \n",
      "__________________________________________________________________________________________________\n",
      "max_pooling2d_7 (MaxPooling2D)  (None, 12, 12, 64)   0           conv2d_44[0][0]                  \n",
      "__________________________________________________________________________________________________\n",
      "conv2d_45 (Conv2D)              (None, 12, 12, 64)   36928       max_pooling2d_7[0][0]            \n",
      "__________________________________________________________________________________________________\n",
      "conv2d_46 (Conv2D)              (None, 12, 12, 64)   36928       conv2d_45[0][0]                  \n",
      "__________________________________________________________________________________________________\n",
      "add_11 (Add)                    (None, 12, 12, 64)   0           conv2d_46[0][0]                  \n",
      "                                                                 max_pooling2d_7[0][0]            \n",
      "__________________________________________________________________________________________________\n",
      "conv2d_47 (Conv2D)              (None, 12, 12, 128)  73856       add_11[0][0]                     \n",
      "__________________________________________________________________________________________________\n",
      "flatten_5 (Flatten)             (None, 18432)        0           conv2d_47[0][0]                  \n",
      "__________________________________________________________________________________________________\n",
      "dropout_5 (Dropout)             (None, 18432)        0           flatten_5[0][0]                  \n",
      "__________________________________________________________________________________________________\n",
      "dense_15 (Dense)                (None, 256)          4718848     dropout_5[0][0]                  \n",
      "__________________________________________________________________________________________________\n",
      "dense_16 (Dense)                (None, 32)           8224        dense_15[0][0]                   \n",
      "__________________________________________________________________________________________________\n",
      "dense_17 (Dense)                (None, 1)            33          dense_16[0][0]                   \n",
      "==================================================================================================\n",
      "Total params: 4,894,209\n",
      "Trainable params: 4,894,209\n",
      "Non-trainable params: 0\n",
      "__________________________________________________________________________________________________\n"
     ]
    }
   ],
   "source": [
    "model.summary()"
   ]
  },
  {
   "cell_type": "code",
   "execution_count": 115,
   "metadata": {
    "scrolled": true
   },
   "outputs": [
    {
     "name": "stdout",
     "output_type": "stream",
     "text": [
      "WARNING:tensorflow:sample_weight modes were coerced from\n",
      "  ...\n",
      "    to  \n",
      "  ['...']\n",
      "Train for 344 steps\n",
      "Epoch 1/20\n",
      "344/344 [==============================] - 186s 540ms/step - loss: 0.6170 - accuracy: 0.6803\n",
      "Epoch 2/20\n",
      "344/344 [==============================] - 139s 404ms/step - loss: 0.5167 - accuracy: 0.7489\n",
      "Epoch 3/20\n",
      "344/344 [==============================] - 141s 411ms/step - loss: 0.4516 - accuracy: 0.7920\n",
      "Epoch 4/20\n",
      "344/344 [==============================] - 150s 437ms/step - loss: 0.3875 - accuracy: 0.8308\n",
      "Epoch 5/20\n",
      "344/344 [==============================] - 144s 420ms/step - loss: 0.3307 - accuracy: 0.8597\n",
      "Epoch 6/20\n",
      "344/344 [==============================] - 141s 409ms/step - loss: 0.2956 - accuracy: 0.8778\n",
      "Epoch 7/20\n",
      "344/344 [==============================] - 158s 458ms/step - loss: 0.2702 - accuracy: 0.8928\n",
      "Epoch 8/20\n",
      "344/344 [==============================] - 145s 420ms/step - loss: 0.2641 - accuracy: 0.8949\n",
      "Epoch 9/20\n",
      "344/344 [==============================] - 158s 460ms/step - loss: 0.2486 - accuracy: 0.9065\n",
      "Epoch 10/20\n",
      "344/344 [==============================] - 146s 424ms/step - loss: 0.2414 - accuracy: 0.9048\n",
      "Epoch 11/20\n",
      "344/344 [==============================] - 140s 407ms/step - loss: 0.2356 - accuracy: 0.9102\n",
      "Epoch 12/20\n",
      "344/344 [==============================] - 147s 426ms/step - loss: 0.2256 - accuracy: 0.9109\n",
      "Epoch 13/20\n",
      "344/344 [==============================] - 144s 418ms/step - loss: 0.2267 - accuracy: 0.9130\n",
      "Epoch 14/20\n",
      "344/344 [==============================] - 140s 406ms/step - loss: 0.2252 - accuracy: 0.9146\n",
      "Epoch 15/20\n",
      "344/344 [==============================] - 164s 478ms/step - loss: 0.2319 - accuracy: 0.9180\n",
      "Epoch 16/20\n",
      "344/344 [==============================] - 159s 462ms/step - loss: 0.2222 - accuracy: 0.9197\n",
      "Epoch 17/20\n",
      "344/344 [==============================] - 155s 449ms/step - loss: 0.2285 - accuracy: 0.9140\n",
      "Epoch 18/20\n",
      "344/344 [==============================] - 158s 458ms/step - loss: 0.2257 - accuracy: 0.9163\n",
      "Epoch 19/20\n",
      "344/344 [==============================] - 165s 478ms/step - loss: 0.2196 - accuracy: 0.9164\n",
      "Epoch 20/20\n",
      "344/344 [==============================] - 167s 485ms/step - loss: 0.2213 - accuracy: 0.9157\n"
     ]
    }
   ],
   "source": [
    "model.compile(optimizer = tf.keras.optimizers.RMSprop(lr=0.001), loss = 'binary_crossentropy', metrics = ['accuracy'])\n",
    "my_model_hist = model.fit(train_data, epochs = 20)"
   ]
  },
  {
   "cell_type": "code",
   "execution_count": 141,
   "metadata": {},
   "outputs": [
    {
     "name": "stdout",
     "output_type": "stream",
     "text": [
      "WARNING:tensorflow:sample_weight modes were coerced from\n",
      "  ...\n",
      "    to  \n",
      "  ['...']\n",
      "148/148 [==============================] - 14s 94ms/step - loss: 0.2262 - accuracy: 0.9416\n"
     ]
    },
    {
     "data": {
      "text/plain": [
       "[0.22624085674918182, 0.94158876]"
      ]
     },
     "execution_count": 141,
     "metadata": {},
     "output_type": "execute_result"
    }
   ],
   "source": [
    "model.evaluate(test_data)"
   ]
  },
  {
   "cell_type": "markdown",
   "metadata": {},
   "source": [
    "**Accuracy = 94.16%**"
   ]
  },
  {
   "cell_type": "code",
   "execution_count": 144,
   "metadata": {},
   "outputs": [
    {
     "data": {
      "image/png": "[encoded data removed]",
      "text/plain": [
       "<Figure size 432x288 with 1 Axes>"
      ]
     },
     "metadata": {
      "needs_background": "light"
     },
     "output_type": "display_data"
    }
   ],
   "source": [
    "plt.figure(figsize = (6,4))\n",
    "plt.plot(my_model_hist.history['loss'], 'b-',label = 'loss')\n",
    "plt.plot(my_model_hist.history['accuracy'], 'r-', label = 'accuracy')\n",
    "plt.legend()\n",
    "plt.show()\n"
   ]
  },
  {
   "cell_type": "markdown",
   "metadata": {},
   "source": [
    "#### Model-2."
   ]
  },
  {
   "cell_type": "code",
   "execution_count": 154,
   "metadata": {},
   "outputs": [],
   "source": [
    "class my_Model(tf.keras.Model):\n",
    "    \n",
    "    #__intit__는 모든 모델에 대한 정도를 담고있는 일종의 생성자 역할을 한다.\n",
    "    def __init__(self,filters, strides = 2, activation = 'relu', **kwargs):\n",
    "        super(my_Model, self).__init__(**kwargs) #표준 매개변수를 처리하는 역할\n",
    "        self.first_layer = Conv2D(filters, 4, activation = 'relu', strides = strides, padding = 'same', use_bias = True)\n",
    "        self.main_layers = [\n",
    "            #이 경우에는 class로 layer을 직접 custom 한 것은 아니기 때문에 add_weights()는 넣어줄 필요가 없었다.\n",
    "            Conv2D(filters, 4, activation = 'relu', strides = strides, padding = 'same', use_bias = True),\n",
    "            MaxPool2D(4),\n",
    "            BatchNormalization(),\n",
    "            Conv2D(filters*2, 4, activation = 'relu', strides = strides, padding = 'same', use_bias = True),\n",
    "            MaxPool2D(4),\n",
    "            BatchNormalization(),\n",
    "            Flatten(),\n",
    "            Dropout(0.3),\n",
    "            Dense(256, activation = 'relu'),\n",
    "            Dense(32, activation = 'relu'),\n",
    "            Dense(1, activation = 'sigmoid')\n",
    "        ]\n",
    "        \n",
    "    #call()는 정의 하고 있는 층이나 모델이 어느 층으로 input을 받아서 어떤 output을 출력할지 결정해주는 역할을 한다.\n",
    "    #즉, model을 fit()하게 되면 어떤 경로로 학습을 하게 될지 지정해 주는 것이다.\n",
    "    def call(self, inputs):\n",
    "        x = self.first_layer(inputs)\n",
    "        for layer in self.main_layers:\n",
    "            x = layer(x)\n",
    "        return x\n",
    "        "
   ]
  },
  {
   "cell_type": "code",
   "execution_count": 155,
   "metadata": {},
   "outputs": [],
   "source": [
    "my_Model = my_Model(32)"
   ]
  },
  {
   "cell_type": "code",
   "execution_count": 158,
   "metadata": {},
   "outputs": [],
   "source": [
    "my_Model.compile(optimizer = tf.keras.optimizers.Adam(learning_rate = 0.0002), metrics = ['accuracy'], loss = 'binary_crossentropy')"
   ]
  },
  {
   "cell_type": "code",
   "execution_count": 159,
   "metadata": {},
   "outputs": [
    {
     "name": "stdout",
     "output_type": "stream",
     "text": [
      "WARNING:tensorflow:sample_weight modes were coerced from\n",
      "  ...\n",
      "    to  \n",
      "  ['...']\n",
      "Train for 344 steps\n",
      "Epoch 1/10\n",
      "344/344 [==============================] - 131s 381ms/step - loss: 0.6733 - accuracy: 0.5882\n",
      "Epoch 2/10\n",
      "344/344 [==============================] - 136s 396ms/step - loss: 0.6396 - accuracy: 0.6301\n",
      "Epoch 3/10\n",
      "344/344 [==============================] - 132s 384ms/step - loss: 0.5965 - accuracy: 0.6781\n",
      "Epoch 4/10\n",
      "344/344 [==============================] - 135s 392ms/step - loss: 0.5694 - accuracy: 0.7033\n",
      "Epoch 5/10\n",
      "344/344 [==============================] - 154s 449ms/step - loss: 0.5478 - accuracy: 0.7218\n",
      "Epoch 6/10\n",
      "344/344 [==============================] - 173s 503ms/step - loss: 0.5335 - accuracy: 0.7311\n",
      "Epoch 7/10\n",
      "344/344 [==============================] - 147s 428ms/step - loss: 0.5115 - accuracy: 0.7444\n",
      "Epoch 8/10\n",
      "344/344 [==============================] - 135s 393ms/step - loss: 0.4890 - accuracy: 0.7653\n",
      "Epoch 9/10\n",
      "344/344 [==============================] - 134s 390ms/step - loss: 0.4562 - accuracy: 0.7856\n",
      "Epoch 10/10\n",
      "344/344 [==============================] - 145s 421ms/step - loss: 0.4372 - accuracy: 0.7990\n"
     ]
    },
    {
     "data": {
      "text/plain": [
       "<tensorflow.python.keras.callbacks.History at 0x200397b2ac8>"
      ]
     },
     "execution_count": 159,
     "metadata": {},
     "output_type": "execute_result"
    }
   ],
   "source": [
    "my_Model.fit(train_data, epochs = 10)"
   ]
  },
  {
   "cell_type": "code",
   "execution_count": 160,
   "metadata": {},
   "outputs": [
    {
     "name": "stdout",
     "output_type": "stream",
     "text": [
      "Model: \"my__model_7\"\n",
      "_________________________________________________________________\n",
      "Layer (type)                 Output Shape              Param #   \n",
      "=================================================================\n",
      "conv2d_66 (Conv2D)           multiple                  1568      \n",
      "_________________________________________________________________\n",
      "conv2d_67 (Conv2D)           multiple                  16416     \n",
      "_________________________________________________________________\n",
      "max_pooling2d_21 (MaxPooling multiple                  0         \n",
      "_________________________________________________________________\n",
      "batch_normalization_15 (Batc multiple                  128       \n",
      "_________________________________________________________________\n",
      "conv2d_68 (Conv2D)           multiple                  32832     \n",
      "_________________________________________________________________\n",
      "max_pooling2d_22 (MaxPooling multiple                  0         \n",
      "_________________________________________________________________\n",
      "batch_normalization_16 (Batc multiple                  256       \n",
      "_________________________________________________________________\n",
      "flatten_12 (Flatten)         multiple                  0         \n",
      "_________________________________________________________________\n",
      "dropout_12 (Dropout)         multiple                  0         \n",
      "_________________________________________________________________\n",
      "dense_36 (Dense)             multiple                  16640     \n",
      "_________________________________________________________________\n",
      "dense_37 (Dense)             multiple                  8224      \n",
      "_________________________________________________________________\n",
      "dense_38 (Dense)             multiple                  33        \n",
      "=================================================================\n",
      "Total params: 76,097\n",
      "Trainable params: 75,905\n",
      "Non-trainable params: 192\n",
      "_________________________________________________________________\n"
     ]
    }
   ],
   "source": [
    "my_Model.summary()"
   ]
  },
  {
   "cell_type": "code",
   "execution_count": 161,
   "metadata": {},
   "outputs": [
    {
     "name": "stdout",
     "output_type": "stream",
     "text": [
      "WARNING:tensorflow:sample_weight modes were coerced from\n",
      "  ...\n",
      "    to  \n",
      "  ['...']\n",
      "148/148 [==============================] - 13s 91ms/step - loss: 0.3694 - accuracy: 0.8432\n"
     ]
    },
    {
     "data": {
      "text/plain": [
       "[0.3694020175450557, 0.84324557]"
      ]
     },
     "execution_count": 161,
     "metadata": {},
     "output_type": "execute_result"
    }
   ],
   "source": [
    "my_Model.evaluate(test_data)"
   ]
  },
  {
   "cell_type": "markdown",
   "metadata": {},
   "source": [
    "**Accuracy = 84.32%**"
   ]
  },
  {
   "cell_type": "markdown",
   "metadata": {},
   "source": [
    "#### Model-3.\n",
    "#### ResNet-34 Model 만들기\n",
    "- ResNet-34 모델을 keras의 사전 제공되는 모델을 사용하지 않고 직접 keras의 함수형 API를 이용해서 구현하려고 노력했다.\n",
    "- 물론 데이터의 양이 너무 적기 때문에 ResNet-34의 알고리즘을 사용하게 되면 과대적합이 될 수 있다고 생각하지만, 한번 시도를 해볼 예정이다(의외로 학습이 제일 잘 될 수도)\n",
    "\n",
    "- ResNet는 깊은 층의 CNN layer을 사용하지만, **스킵 연결**이라는 것을 추가하게 된다.\n",
    "- 이는 일부 층이 아직 학습이 되지 않았더라도 네트워크가 훈련을 할 수 있도록 한다."
   ]
  },
  {
   "cell_type": "code",
   "execution_count": 18,
   "metadata": {},
   "outputs": [],
   "source": [
    "class ResidentialUnit(tf.keras.layers.Layer):\n",
    "    def __init__(self,filters, strides, activation = 'relu',**kwargs):\n",
    "        super(ResidentialUnit, self).__init__(**kwargs)\n",
    "        self.activation = tf.keras.activations.get(activation)\n",
    "        self.main_layers = [\n",
    "            Conv2D(filters, kernel_size = 3, strides = strides, padding = 'same', use_bias = False, activation = self.activation),\n",
    "            BatchNormalization(),\n",
    "            Conv2D(filters, kernel_size = 3, strides = 1, padding = 'same', use_bias = False, activation = self.activation),\n",
    "            BatchNormalization()\n",
    "        ]\n",
    "        self.skip_layers = []\n",
    "        if strides > 1:\n",
    "            self.skip_layers = [\n",
    "                Conv2D(filters, kernel_size = 3, strides = strides, padding = 'same', use_bias = False),\n",
    "                BatchNormalization()\n",
    "            ]\n",
    "            \n",
    "    def call(self, inputs):\n",
    "        x = inputs\n",
    "        for layer in self.main_layers:\n",
    "            x = layer(x)\n",
    "        skip_x = inputs\n",
    "        for layer in self.skip_layers:\n",
    "            skip_x = layer(skip_x)\n",
    "        return self.activation(x+skip_x)"
   ]
  },
  {
   "cell_type": "code",
   "execution_count": 19,
   "metadata": {},
   "outputs": [],
   "source": [
    "ResModel = tf.keras.models.Sequential()\n",
    "ResModel.add(Conv2D(32, 3, strides = 2, input_shape = [200,200,3], padding = 'same', activation = 'relu', use_bias = False))\n",
    "ResModel.add(BatchNormalization())\n",
    "ResModel.add(MaxPool2D(3, strides = 2, padding = 'same'))\n",
    "prev_filters = 32\n",
    "for filters in [32]*3 + [64]*4:\n",
    "    strides = 1 if filters == prev_filters else 2\n",
    "    ResModel.add(ResidentialUnit(filters, strides = strides))\n",
    "    prev_filters = filters\n",
    "ResModel.add(Flatten())\n",
    "ResModel.add(Dropout(0.4))\n",
    "ResModel.add(Dense(128, activation = 'relu'))\n",
    "ResModel.add(Dense(32, activation = 'relu'))\n",
    "ResModel.add(Dense(1, activation = 'sigmoid'))"
   ]
  },
  {
   "cell_type": "code",
   "execution_count": 20,
   "metadata": {},
   "outputs": [
    {
     "name": "stdout",
     "output_type": "stream",
     "text": [
      "Model: \"sequential_1\"\n",
      "_________________________________________________________________\n",
      "Layer (type)                 Output Shape              Param #   \n",
      "=================================================================\n",
      "conv2d (Conv2D)              (None, 100, 100, 32)      864       \n",
      "_________________________________________________________________\n",
      "batch_normalization (BatchNo (None, 100, 100, 32)      128       \n",
      "_________________________________________________________________\n",
      "max_pooling2d (MaxPooling2D) (None, 50, 50, 32)        0         \n",
      "_________________________________________________________________\n",
      "residential_unit (Residentia (None, 50, 50, 32)        18688     \n",
      "_________________________________________________________________\n",
      "residential_unit_1 (Resident (None, 50, 50, 32)        18688     \n",
      "_________________________________________________________________\n",
      "residential_unit_2 (Resident (None, 50, 50, 32)        18688     \n",
      "_________________________________________________________________\n",
      "residential_unit_3 (Resident (None, 25, 25, 64)        74496     \n",
      "_________________________________________________________________\n",
      "residential_unit_4 (Resident (None, 25, 25, 64)        74240     \n",
      "_________________________________________________________________\n",
      "residential_unit_5 (Resident (None, 25, 25, 64)        74240     \n",
      "_________________________________________________________________\n",
      "residential_unit_6 (Resident (None, 25, 25, 64)        74240     \n",
      "_________________________________________________________________\n",
      "flatten (Flatten)            (None, 40000)             0         \n",
      "_________________________________________________________________\n",
      "dropout (Dropout)            (None, 40000)             0         \n",
      "_________________________________________________________________\n",
      "dense (Dense)                (None, 128)               5120128   \n",
      "_________________________________________________________________\n",
      "dense_1 (Dense)              (None, 32)                4128      \n",
      "_________________________________________________________________\n",
      "dense_2 (Dense)              (None, 1)                 33        \n",
      "=================================================================\n",
      "Total params: 5,478,561\n",
      "Trainable params: 5,476,961\n",
      "Non-trainable params: 1,600\n",
      "_________________________________________________________________\n"
     ]
    }
   ],
   "source": [
    "ResModel.summary()"
   ]
  },
  {
   "cell_type": "code",
   "execution_count": 22,
   "metadata": {
    "scrolled": true
   },
   "outputs": [
    {
     "name": "stdout",
     "output_type": "stream",
     "text": [
      "WARNING:tensorflow:sample_weight modes were coerced from\n",
      "  ...\n",
      "    to  \n",
      "  ['...']\n",
      "Train for 344 steps\n",
      "Epoch 1/5\n",
      "344/344 [==============================] - 303s 882ms/step - loss: 0.6890 - accuracy: 0.6536\n",
      "Epoch 2/5\n",
      "344/344 [==============================] - 345s 1s/step - loss: 0.5355 - accuracy: 0.7334\n",
      "Epoch 3/5\n",
      "344/344 [==============================] - 345s 1s/step - loss: 0.4642 - accuracy: 0.7852\n",
      "Epoch 4/5\n",
      "344/344 [==============================] - 345s 1s/step - loss: 0.4197 - accuracy: 0.8129\n",
      "Epoch 5/5\n",
      "344/344 [==============================] - 345s 1s/step - loss: 0.3829 - accuracy: 0.8303\n"
     ]
    },
    {
     "data": {
      "text/plain": [
       "<tensorflow.python.keras.callbacks.History at 0x20a12456088>"
      ]
     },
     "execution_count": 22,
     "metadata": {},
     "output_type": "execute_result"
    }
   ],
   "source": [
    "ResModel.compile(loss = 'binary_crossentropy', optimizer = tf.keras.optimizers.Adam(learning_rate = 0.0002), metrics = ['accuracy'])\n",
    "ResModel.fit(train_data, epochs = 5)"
   ]
  },
  {
   "cell_type": "code",
   "execution_count": 23,
   "metadata": {},
   "outputs": [
    {
     "name": "stdout",
     "output_type": "stream",
     "text": [
      "WARNING:tensorflow:sample_weight modes were coerced from\n",
      "  ...\n",
      "    to  \n",
      "  ['...']\n",
      "148/148 [==============================] - 47s 315ms/step - loss: 0.3149 - accuracy: 0.8670\n"
     ]
    },
    {
     "data": {
      "text/plain": [
       "[0.3148550973903086, 0.86703485]"
      ]
     },
     "execution_count": 23,
     "metadata": {},
     "output_type": "execute_result"
    }
   ],
   "source": [
    "ResModel.evaluate(test_data)"
   ]
  },
  {
   "cell_type": "markdown",
   "metadata": {},
   "source": [
    "**Accuracy = 86.70%**\n",
    "- 몇번 더 학습 시켰으면 훨씬 높았겠지만 CNN층이 깊어서 시간이 오래 걸리는 관계로 이정도만 해 주었다."
   ]
  }
 ],
 "metadata": {
  "kernelspec": {
   "display_name": "Python 3",
   "language": "python",
   "name": "python3"
  },
  "language_info": {
   "codemirror_mode": {
    "name": "ipython",
    "version": 3
   },
   "file_extension": ".py",
   "mimetype": "text/x-python",
   "name": "python",
   "nbconvert_exporter": "python",
   "pygments_lexer": "ipython3",
   "version": "3.7.7"
  }
 },
 "nbformat": 4,
 "nbformat_minor": 4
}
