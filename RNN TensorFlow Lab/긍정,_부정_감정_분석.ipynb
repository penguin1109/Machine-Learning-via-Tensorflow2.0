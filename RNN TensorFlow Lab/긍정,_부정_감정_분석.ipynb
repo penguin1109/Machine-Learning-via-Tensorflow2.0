{
  "nbformat": 4,
  "nbformat_minor": 0,
  "metadata": {
    "colab": {
      "name": "긍정, 부정 감정 분석",
      "provenance": []
    },
    "kernelspec": {
      "name": "python3",
      "display_name": "Python 3"
    },
    "accelerator": "GPU"
  },
  "cells": [
    {
      "cell_type": "markdown",
      "metadata": {
        "id": "yw1WJcwvkpV2",
        "colab_type": "text"
      },
      "source": [
        "### 긍정, 부정 감정 분석\n",
        "- 감정 분석은 입력된 자연어 안의 주관적 의견, 감정 등을 찾아내는 것을 의미한다.\n",
        "- 특히나 영화나 음식점 리뷰와 같은 데이터는 데이터의 양이 많고 별점을 함꼐 달기 때문에 긍정/부정/중립이 라벨링이 쉬운 편이다.\n",
        "\n",
        "- 이번에는 영화 리뷰 데이터셋을 이용해서 감정 분석을 해보고자 한다."
      ]
    },
    {
      "cell_type": "code",
      "metadata": {
        "id": "WWDnn80Br_04",
        "colab_type": "code",
        "colab": {}
      },
      "source": [
        "import tensorflow as tf\n",
        "import pandas as pd\n",
        "import numpy as np"
      ],
      "execution_count": 1,
      "outputs": []
    },
    {
      "cell_type": "markdown",
      "metadata": {
        "id": "EeTmVhGFlPW1",
        "colab_type": "text"
      },
      "source": [
        "#### 1. 데이터 불러오기\n",
        "- 이번에는 데이터를 다운 받을 수 있는 url이 존재하기 때문에  \n",
        "```tf.keras.utils.get_file```을 이용하고자 한다."
      ]
    },
    {
      "cell_type": "code",
      "metadata": {
        "id": "B8h99hPtlPOf",
        "colab_type": "code",
        "colab": {
          "base_uri": "https://localhost:8080/",
          "height": 89
        },
        "outputId": "152198c3-cc2c-4eb0-aae3-1ceb6b345255"
      },
      "source": [
        "path_to_train = tf.keras.utils.get_file('train.txt', 'https://raw.githubusercontent.com/e9t/nsmc/master/ratings_train.txt')\n",
        "path_to_test = tf.keras.utils.get_file('test.txt','https://raw.githubusercontent.com/e9t/nsmc/master/ratings_test.txt' )"
      ],
      "execution_count": 2,
      "outputs": [
        {
          "output_type": "stream",
          "text": [
            "Downloading data from https://raw.githubusercontent.com/e9t/nsmc/master/ratings_train.txt\n",
            "14630912/14628807 [==============================] - 0s 0us/step\n",
            "Downloading data from https://raw.githubusercontent.com/e9t/nsmc/master/ratings_test.txt\n",
            "4898816/4893335 [==============================] - 0s 0us/step\n"
          ],
          "name": "stdout"
        }
      ]
    },
    {
      "cell_type": "markdown",
      "metadata": {
        "id": "km5V7evpsMu-",
        "colab_type": "text"
      },
      "source": [
        "- 다운로드가 완료되면 데이터를 메모리에 불러와야 한다."
      ]
    },
    {
      "cell_type": "code",
      "metadata": {
        "id": "W9ZyWjULkkpi",
        "colab_type": "code",
        "colab": {}
      },
      "source": [
        "train_text = open(path_to_train, 'rb').read().decode(encoding = 'utf-8')\n",
        "test_text = open(path_to_test, 'rb').read().decode(encoding = 'utf-8')"
      ],
      "execution_count": 3,
      "outputs": []
    },
    {
      "cell_type": "code",
      "metadata": {
        "id": "XMxzYg8ms9xu",
        "colab_type": "code",
        "colab": {
          "base_uri": "https://localhost:8080/",
          "height": 182
        },
        "outputId": "a914db31-7798-43c6-fd07-8e0a43f56c5a"
      },
      "source": [
        "print(train_text[:300])"
      ],
      "execution_count": 4,
      "outputs": [
        {
          "output_type": "stream",
          "text": [
            "id\tdocument\tlabel\n",
            "9976970\t아 더빙.. 진짜 짜증나네요 목소리\t0\n",
            "3819312\t흠...포스터보고 초딩영화줄....오버연기조차 가볍지 않구나\t1\n",
            "10265843\t너무재밓었다그래서보는것을추천한다\t0\n",
            "9045019\t교도소 이야기구먼 ..솔직히 재미는 없다..평점 조정\t0\n",
            "6483659\t사이몬페그의 익살스런 연기가 돋보였던 영화!스파이더맨에서 늙어보이기만 했던 커스틴 던스트가 너무나도 이뻐보였다\t1\n",
            "5403919\t막 걸음마 뗀 3세부터 초등학교 1학년생인 8살용영화.ㅋㅋㅋ...별반개도 아까움.\t0\n",
            "7797314\t원작의\n"
          ],
          "name": "stdout"
        }
      ]
    },
    {
      "cell_type": "markdown",
      "metadata": {
        "id": "bfPpR2XwtD2w",
        "colab_type": "text"
      },
      "source": [
        "- 데이터의 라벨링으로 id, document, label이 존재했는데 label은 긍정인지 부정인지를 나타낸다.\n",
        "- 이 경우에는 0이 부정, 1이 긍정인 것으로 보인다.\n",
        "\n",
        "1. 우선 x의 데이터를 전처리 하는 것은 조금 복잡하기 때문에 y의 데이터를 전처리해 보기로 한다.\n",
        "  - '\\n'은 한줄 띄었음을 의미하는 것으로, 각 행 별로 구분하기 위해 .split('\\n')을 해주고\n",
        "  - '\\t'는 tab을 의미하는 것으로 각 행이 탭 문자로 나누어 졌으니 한 행의 요소들을 구분하기 위해 사용해 준다."
      ]
    },
    {
      "cell_type": "code",
      "metadata": {
        "id": "qz2UikSvtAk_",
        "colab_type": "code",
        "colab": {}
      },
      "source": [
        "train_y = np.array([[int(row.split('\\t')[2])] for row in train_text.split('\\n')[1:] if row.count('\\t') > 0])"
      ],
      "execution_count": 5,
      "outputs": []
    },
    {
      "cell_type": "code",
      "metadata": {
        "id": "jpCYVhzpuLrx",
        "colab_type": "code",
        "colab": {}
      },
      "source": [
        "test_y = np.array([[int(row.split('\\t')[2])] for row in test_text.split('\\n')[1:] if row.count('\\t') > 0])"
      ],
      "execution_count": 6,
      "outputs": []
    },
    {
      "cell_type": "code",
      "metadata": {
        "id": "SJVVf483uzkX",
        "colab_type": "code",
        "colab": {
          "base_uri": "https://localhost:8080/",
          "height": 35
        },
        "outputId": "03f9d115-2b16-45d9-975c-ac78d26bd474"
      },
      "source": [
        "print(train_y.shape, test_y.shape)"
      ],
      "execution_count": 7,
      "outputs": [
        {
          "output_type": "stream",
          "text": [
            "(150000, 1) (50000, 1)\n"
          ],
          "name": "stdout"
        }
      ]
    },
    {
      "cell_type": "code",
      "metadata": {
        "id": "LrZDzPR6wIth",
        "colab_type": "code",
        "colab": {
          "base_uri": "https://localhost:8080/",
          "height": 35
        },
        "outputId": "44d6c575-3f2a-469c-b27c-4fe58fcd74f9"
      },
      "source": [
        "print(train_y[0])"
      ],
      "execution_count": 8,
      "outputs": [
        {
          "output_type": "stream",
          "text": [
            "[0]\n"
          ],
          "name": "stdout"
        }
      ]
    },
    {
      "cell_type": "markdown",
      "metadata": {
        "id": "WbXDzwUjwxAQ",
        "colab_type": "text"
      },
      "source": [
        "2. 이제 학습을 위한 입력으로 사용할 자연어를 tokenzation하고 정제해야 한다."
      ]
    },
    {
      "cell_type": "code",
      "metadata": {
        "id": "YuDlJeVbwLH9",
        "colab_type": "code",
        "colab": {}
      },
      "source": [
        "import re\n",
        "#원하지 않는 입력이나 불필요한 기호들을 제거하기 위해 사용한 자연어 정제 함수이다.\n",
        "#.sub()는 해당 문자열의 특정 메타 언어를 찾으면 지정해주는 값으로 바꾸어 주는 것이다.\n",
        "def clean_str(string):\n",
        "  string = re.sub(r'[^가-힣A-Za-z0-9(),!?\\'\\']', \" \", string)  #모든 문자와 숫자, 구두점 등을 제외한 나머지를 찾아서 공백으로 바꿔준다는 의미\n",
        "  string = re.sub(r'\\'s', ' \\'s', string)    #\\s는 모든 개행 문자와 매칭이 되는데, 이 앞에 여백을 만들어 준다.\n",
        "  #이 이하부터 계속해서 문자(한글)이외의 내용이 감지되는 경우에 그 앞뒤를 공백을 만들어 준다.\n",
        "  string = re.sub(r'\\'ve', ' \\'ve', string)\n",
        "  string = re.sub(r'n\\'t', ' n\\'t', string)\n",
        "  string = re.sub(r'\\'re', ' \\'re', string)\n",
        "  string = re.sub(r'\\'d', ' \\'d', string)   #숫자가 있으면 그 앞에 공백을 만들어줌\n",
        "  string = re.sub(r'\\'ll', ' \\'ll', string)\n",
        "  string = re.sub(r',',' , ',string)\n",
        "  string = re.sub(r'!', ' ! ',string)\n",
        "  string = re.sub(r'\\)', ' \\) ',string)   #괄호의 앞뒤에 공백을 만듬\n",
        "  string = re.sub(r'\\(', ' \\( ', string)\n",
        "  string = re.sub(r'\\s{2,}', ' ',string)   #연속2번동안 공백이 있을 때 해당 공백을 없애줌\n",
        "  string = re.sub(r'\\'{2,}','\\'',string)\n",
        "  string = re.sub(r'\\'', '',string)\n",
        "  return string.lower()   #문자열의 모든 값을 소문자로 바꾸어서 반환해 주는데, 이는 영어가 없는 이상 의미가 없는 명령이다.\n",
        "                      \n",
        "                  "
      ],
      "execution_count": 9,
      "outputs": []
    },
    {
      "cell_type": "code",
      "metadata": {
        "id": "kbImIqyV0DPH",
        "colab_type": "code",
        "colab": {}
      },
      "source": [
        "train_x =[(row.split('\\t')[1]) for row in train_text.split('\\n')[1:] if row.count('\\t')>0]\n",
        "train_x = [clean_str(i) for i in train_x]"
      ],
      "execution_count": 10,
      "outputs": []
    },
    {
      "cell_type": "code",
      "metadata": {
        "id": "zkKnVjiK1mbX",
        "colab_type": "code",
        "colab": {}
      },
      "source": [
        "sentence = [sentence.split(' ')for sentence in train_x]"
      ],
      "execution_count": 11,
      "outputs": []
    },
    {
      "cell_type": "code",
      "metadata": {
        "id": "0aqiyAkA1v8S",
        "colab_type": "code",
        "colab": {
          "base_uri": "https://localhost:8080/",
          "height": 35
        },
        "outputId": "e0d4c458-faac-4a28-92ef-b8a747d7ed6e"
      },
      "source": [
        "sentence[0]"
      ],
      "execution_count": 12,
      "outputs": [
        {
          "output_type": "execute_result",
          "data": {
            "text/plain": [
              "['아', '더빙', '진짜', '짜증나네요', '목소리']"
            ]
          },
          "metadata": {
            "tags": []
          },
          "execution_count": 12
        }
      ]
    },
    {
      "cell_type": "code",
      "metadata": {
        "id": "JD2maPek0YIe",
        "colab_type": "code",
        "colab": {}
      },
      "source": [
        "test_x = [(row.split('\\t')[1])for row in test_text.split('\\n')[1:] if row.count('\\t')>0]\n",
        "test_x = [clean_str(i) for i in test_x]"
      ],
      "execution_count": 13,
      "outputs": []
    },
    {
      "cell_type": "markdown",
      "metadata": {
        "id": "wJbI-jqg44Le",
        "colab_type": "text"
      },
      "source": [
        "- 네트워크에 입력하기 위해서는 데이터의 크기가 동일해야 하는데, 즉 문장의 길이가 같아야 하는데, 현재는 문장의 길이가 다르기 때문에 이를 맞춰 주어야 한다.\n",
        "- 따라서 적당한 길이의 문장이 어느 정도인지 확인하고 긴 문장은 줄이며, 짧은 문장은 공백을 채워 넣는 패딩을 진행해야 한다.\n",
        "- 대부분의 문장의 길이가 25개 이하이기 때문에 모든 문장의 길이는 25로 맞춰주며, 각 단어의 최대 길이는 5개로 맞춰 주기로 한다."
      ]
    },
    {
      "cell_type": "code",
      "metadata": {
        "id": "RRYu7xje1S3R",
        "colab_type": "code",
        "colab": {
          "base_uri": "https://localhost:8080/",
          "height": 107
        },
        "outputId": "f22fbb1f-8125-4fd9-e0d3-0ceb7633eb1c"
      },
      "source": [
        "new_sentence = []\n",
        "for i in sentence:\n",
        "  new_sentence.append([j[:5] for j in i][:25])\n",
        "sentence = new_sentence\n",
        "for i in range(5):\n",
        "  print(sentence[i])"
      ],
      "execution_count": 14,
      "outputs": [
        {
          "output_type": "stream",
          "text": [
            "['아', '더빙', '진짜', '짜증나네요', '목소리']\n",
            "['흠', '포스터보고', '초딩영화줄', '오버연기조', '가볍지', '않구나']\n",
            "['너무재밓었']\n",
            "['교도소', '이야기구먼', '솔직히', '재미는', '없다', '평점', '조정']\n",
            "['사이몬페그', '익살스런', '연기가', '돋보였던', '영화', '!', '스파이더맨', '늙어보이기', '했던', '커스틴', '던스트가', '너무나도', '이뻐보였다']\n"
          ],
          "name": "stdout"
        }
      ]
    },
    {
      "cell_type": "markdown",
      "metadata": {
        "id": "bVhJSAK99uO4",
        "colab_type": "text"
      },
      "source": [
        "- 이제 짧은 길이의 문장을 25개로 채워주기 위해서  \n",
        "```tk.keras의 pad_sequence```를 이용하고자 한다."
      ]
    },
    {
      "cell_type": "code",
      "metadata": {
        "id": "zh2ivVBb9PwN",
        "colab_type": "code",
        "colab": {
          "base_uri": "https://localhost:8080/",
          "height": 289
        },
        "outputId": "a2528f6e-254b-424f-c2b7-0a9ccc942ac0"
      },
      "source": [
        "from tensorflow.keras.preprocessing.text import Tokenizer\n",
        "from tensorflow.keras.preprocessing.sequence import pad_sequences\n",
        "\n",
        "tokenizer = Tokenizer(num_words = 20000)\n",
        "tokenizer.fit_on_texts(sentence)\n",
        "train_x = tokenizer.texts_to_sequences(sentence)\n",
        "train_x = pad_sequences(train_x, padding = 'post')\n",
        "\n",
        "print(train_x[:5])"
      ],
      "execution_count": 15,
      "outputs": [
        {
          "output_type": "stream",
          "text": [
            "[[   25   883     7  6060  1122     0     0     0     0     0     0     0\n",
            "      0     0     0     0     0     0     0     0     0     0     0     0\n",
            "      0]\n",
            " [  597  5766  6669     0     0     0     0     0     0     0     0     0\n",
            "      0     0     0     0     0     0     0     0     0     0     0     0\n",
            "      0]\n",
            " [    0     0     0     0     0     0     0     0     0     0     0     0\n",
            "      0     0     0     0     0     0     0     0     0     0     0     0\n",
            "      0]\n",
            " [   71   346    30    34 10434     0     0     0     0     0     0     0\n",
            "      0     0     0     0     0     0     0     0     0     0     0     0\n",
            "      0]\n",
            " [  106  5307     4     2  2149   862   570     0     0     0     0     0\n",
            "      0     0     0     0     0     0     0     0     0     0     0     0\n",
            "      0]]\n"
          ],
          "name": "stdout"
        }
      ]
    },
    {
      "cell_type": "code",
      "metadata": {
        "id": "OIDVoGQQADQC",
        "colab_type": "code",
        "colab": {}
      },
      "source": [
        "file = []\n",
        "#tokenizer에 저장된 2000개의 단어중에 빈도수가 제일 높은 10개의 단어를 뽑아 보았다. \n",
        "#이 2000개에 해당 단어가 속해 있으면 인덱스를 반환하지만 없으면 그냥 0이된다.\n",
        "for i in (tokenizer.index_word.values()):\n",
        "  file.append(i)"
      ],
      "execution_count": 16,
      "outputs": []
    },
    {
      "cell_type": "code",
      "metadata": {
        "id": "jFdi5af7Al77",
        "colab_type": "code",
        "colab": {
          "base_uri": "https://localhost:8080/",
          "height": 35
        },
        "outputId": "4824fb7b-18e1-48a8-98c9-4c75d8aa6d8e"
      },
      "source": [
        "file[:10]"
      ],
      "execution_count": 17,
      "outputs": [
        {
          "output_type": "execute_result",
          "data": {
            "text/plain": [
              "['', '!', ',', '영화', '너무', '정말', '진짜', '이', '그냥', '이런']"
            ]
          },
          "metadata": {
            "tags": []
          },
          "execution_count": 17
        }
      ]
    },
    {
      "cell_type": "markdown",
      "metadata": {
        "id": "xn8azFzz-iY3",
        "colab_type": "text"
      },
      "source": [
        "1. Tokenizer:\n",
        "  데이터에 출현하는 모든 단어의 개수를 세고 빈도 수로 정렬해서 num_words에 지정된 만큼 숫자로 반환하고, 나머지는 0으로 반환한다.\n",
        "\n",
        "  ```tokenizer.fit_on_texts```는 Tokenizer에 실제로 데이터를 입력한다.  \n",
        "  ```tokenizer.texts_to_sequences```는 문장을 입력 받아서 숫자를 반환한다.\n",
        "\n",
        "2. pad_sequences:\n",
        "  입력된 데이터에 패딩을 더해준다.\n",
        "  - padding = 'post'를 선택하면 문장의 뒤에 패딩을 넣고\n",
        "  - padding = 'pre'를 선택하면 문장의 앞에 패딩을 넣는다.\n",
        "\n",
        "\n",
        "- tokenizer의 동작 원리를 한 번 더 살펴보자.\n",
        "  - 이 경우에 tokenizer에 설정해 준 사용 가능한 최대 단어의 개수는 2000개이다. Tokenizer.index_word에 빈도수가 높은 순서대로 2000번째까지의 단어가 저장이 되어있다. \n",
        "  - 따라서 0번부터 19999번까지는 단어의 해당 인덱스의 숫자를 반환하지만 그 이후부터는 padding의 값과 동일한 0을 반환하게 된다."
      ]
    },
    {
      "cell_type": "code",
      "metadata": {
        "id": "I1juY3lR-UpF",
        "colab_type": "code",
        "colab": {
          "base_uri": "https://localhost:8080/",
          "height": 270
        },
        "outputId": "d2054870-d2db-44ab-e2a5-a8ea581cfc05"
      },
      "source": [
        "model = tf.keras.models.Sequential()\n",
        "model.add(tf.keras.layers.Embedding(20000, 300, input_length = 25))\n",
        "model.add(tf.keras.layers.LSTM(units = 50))\n",
        "model.add(tf.keras.layers.Dense(2, activation = 'softmax'))\n",
        "\n",
        "model.summary()"
      ],
      "execution_count": 18,
      "outputs": [
        {
          "output_type": "stream",
          "text": [
            "Model: \"sequential\"\n",
            "_________________________________________________________________\n",
            "Layer (type)                 Output Shape              Param #   \n",
            "=================================================================\n",
            "embedding (Embedding)        (None, 25, 300)           6000000   \n",
            "_________________________________________________________________\n",
            "lstm (LSTM)                  (None, 50)                70200     \n",
            "_________________________________________________________________\n",
            "dense (Dense)                (None, 2)                 102       \n",
            "=================================================================\n",
            "Total params: 6,070,302\n",
            "Trainable params: 6,070,302\n",
            "Non-trainable params: 0\n",
            "_________________________________________________________________\n"
          ],
          "name": "stdout"
        }
      ]
    },
    {
      "cell_type": "markdown",
      "metadata": {
        "id": "lFxIa9tjN2QS",
        "colab_type": "text"
      },
      "source": [
        "- 마지막 layer의 activation함수는 주로 softmax는 multi-class-classification에 사용하고 sigmoid는 binary classification에 사용한다. \n",
        "- 그래서 만약에 dense layer로 ```tf.keras.layers.Dense(1, activation = 'sigmoid')```로 했다면 긍정인지 부정인지가 딱 하나의 값으로 나왔겠지만, 긍정 부정 분석은 사실상 명확하게 학습하기 어렵기 때문에 차라리 softmax가 확률의 합이 1이 되도록 출력한다는 특징을 이용하면 위의 코드 처럼 ```tf.keras.layers.Dense(2, activation = 'softmax')```로 하는 것이 낫다."
      ]
    },
    {
      "cell_type": "code",
      "metadata": {
        "id": "9QCH2Y_EBIzc",
        "colab_type": "code",
        "colab": {}
      },
      "source": [
        "model.compile(loss = 'sparse_categorical_crossentropy', optimizer = 'adam', metrics = ['accuracy'])"
      ],
      "execution_count": 19,
      "outputs": []
    },
    {
      "cell_type": "markdown",
      "metadata": {
        "id": "5MEAyW-9Bx2M",
        "colab_type": "text"
      },
      "source": [
        "- 네트워크의 손실 계산은 만약에\n",
        "  1. 여러개의 정답중 하나를 맞추는 분류 문제의 경우에는 'categorical_crossentropy'\n",
        "  2. 정답인 y가 희소 행렬, 즉 sparse metrix일 경우에는 'sparse_categorical_crossentropy'를 사용해야 한다."
      ]
    },
    {
      "cell_type": "code",
      "metadata": {
        "id": "ojJatPxJBQiA",
        "colab_type": "code",
        "colab": {
          "base_uri": "https://localhost:8080/",
          "height": 379
        },
        "outputId": "40f3ba82-d7cc-4ee8-d677-d4d802e904e5"
      },
      "source": [
        "history = model.fit(train_x, train_y, validation_split = 0.2, batch_size = 64, epochs = 10)"
      ],
      "execution_count": 20,
      "outputs": [
        {
          "output_type": "stream",
          "text": [
            "Epoch 1/10\n",
            "1875/1875 [==============================] - 110s 59ms/step - loss: 0.4306 - accuracy: 0.7868 - val_loss: 0.3798 - val_accuracy: 0.8229\n",
            "Epoch 2/10\n",
            "1875/1875 [==============================] - 109s 58ms/step - loss: 0.3195 - accuracy: 0.8491 - val_loss: 0.3926 - val_accuracy: 0.8215\n",
            "Epoch 3/10\n",
            "1875/1875 [==============================] - 110s 59ms/step - loss: 0.2663 - accuracy: 0.8718 - val_loss: 0.4206 - val_accuracy: 0.8157\n",
            "Epoch 4/10\n",
            "1875/1875 [==============================] - 110s 58ms/step - loss: 0.2248 - accuracy: 0.8904 - val_loss: 0.4536 - val_accuracy: 0.8127\n",
            "Epoch 5/10\n",
            "1875/1875 [==============================] - 109s 58ms/step - loss: 0.1894 - accuracy: 0.9053 - val_loss: 0.5512 - val_accuracy: 0.8064\n",
            "Epoch 6/10\n",
            "1875/1875 [==============================] - 110s 59ms/step - loss: 0.1648 - accuracy: 0.9165 - val_loss: 0.5735 - val_accuracy: 0.7974\n",
            "Epoch 7/10\n",
            "1875/1875 [==============================] - 110s 59ms/step - loss: 0.1461 - accuracy: 0.9248 - val_loss: 0.6884 - val_accuracy: 0.8062\n",
            "Epoch 8/10\n",
            "1875/1875 [==============================] - 109s 58ms/step - loss: 0.1327 - accuracy: 0.9305 - val_loss: 0.7717 - val_accuracy: 0.7988\n",
            "Epoch 9/10\n",
            "1875/1875 [==============================] - 108s 58ms/step - loss: 0.1233 - accuracy: 0.9341 - val_loss: 0.8373 - val_accuracy: 0.7997\n",
            "Epoch 10/10\n",
            "1875/1875 [==============================] - 109s 58ms/step - loss: 0.1158 - accuracy: 0.9373 - val_loss: 0.8499 - val_accuracy: 0.7981\n"
          ],
          "name": "stdout"
        }
      ]
    },
    {
      "cell_type": "code",
      "metadata": {
        "id": "IcHAK_byBfv0",
        "colab_type": "code",
        "colab": {
          "base_uri": "https://localhost:8080/",
          "height": 264
        },
        "outputId": "691f2e7a-27a7-436b-9a07-177436d5482a"
      },
      "source": [
        "import matplotlib.pyplot as plt\n",
        "plt.plot(history.history['loss'], 'b-', label = 'loss')\n",
        "plt.plot(history.history['val_loss'], 'r-', label = 'val_loss')\n",
        "plt.plot(history.history['accuracy'], 'g--', label = 'accuracy')\n",
        "plt.plot(history.history['val_accuracy'], 'k--', label = 'val_accuracy')\n",
        "plt.legend()\n",
        "plt.show()"
      ],
      "execution_count": 21,
      "outputs": [
        {
          "output_type": "display_data",
          "data": {
            "image/png": "[encoded data removed]",
            "text/plain": [
              "<Figure size 432x288 with 1 Axes>"
            ]
          },
          "metadata": {
            "tags": [],
            "needs_background": "light"
          }
        }
      ]
    },
    {
      "cell_type": "markdown",
      "metadata": {
        "id": "4jfufzVfEDZN",
        "colab_type": "text"
      },
      "source": [
        "- 결과가 조금 아쉽다.\n",
        "- 일단 val_loss의 증가와 val_accuracy의 감소 추세를 볼 때에 네트워크가 과적합되고 있음을 알 수 있다.\n",
        "  - 과적합의 이유는 임베딩 레이어를 랜덤한 값부터 학습을 시키기 때문에 각 단어를 나타내는 벡터의 품질이 좋지 않기 때문이다.\n",
        "  - 때문에 이를 개선하기 위해서는 임베딩 레이어를 별도로 학습 시켜서 사용하거나 RNN이 아닌 CNN을 사용할 수도 있다."
      ]
    },
    {
      "cell_type": "code",
      "metadata": {
        "id": "T6BR2pmNDHJ6",
        "colab_type": "code",
        "colab": {
          "base_uri": "https://localhost:8080/",
          "height": 35
        },
        "outputId": "a693858a-e210-4e6e-be0f-41374f43aeef"
      },
      "source": [
        "test_x = [row.split('\\t')[1] for row in test_text.split('\\n')[1:] if row.count('\\t')>0]\n",
        "test_x = [clean_str(i) for i in test_x]\n",
        "sentence = [i.split(' ') for i in test_x]\n",
        "new = []\n",
        "for i in sentence:\n",
        "  new.append([word[:5] for word in i][:25])\n",
        "sentence = new\n",
        "test_x = tokenizer.texts_to_sequences(sentence)\n",
        "test_x = pad_sequences(test_x, padding = 'post')\n",
        "model.evaluate(test_x, test_y, verbose = 0)\n"
      ],
      "execution_count": 22,
      "outputs": [
        {
          "output_type": "execute_result",
          "data": {
            "text/plain": [
              "[0.8695496916770935, 0.7935199737548828]"
            ]
          },
          "metadata": {
            "tags": []
          },
          "execution_count": 22
        }
      ]
    },
    {
      "cell_type": "markdown",
      "metadata": {
        "id": "tPsNl8BOFaeC",
        "colab_type": "text"
      },
      "source": [
        "- 정확도는 약 78.96%가 나왔다."
      ]
    },
    {
      "cell_type": "code",
      "metadata": {
        "id": "Rvn3FPQhFGes",
        "colab_type": "code",
        "colab": {}
      },
      "source": [
        "test_sentence = '기뻐서 보러 갔는데 배우들의 연기와 내용에 너무 실망했고 지루하기까지 했다.'\n",
        "test_sentence = test_sentence.split(' ')\n",
        "test = []\n",
        "now_test = []\n",
        "for i in test_sentence:\n",
        "  now_test.append(i)\n",
        "  test.append(now_test[:])\n",
        "#tokenizer.fit_on_texts(now_test)\n",
        "new_x = tokenizer.texts_to_sequences(test)\n",
        "new_x = pad_sequences(new_x, padding='post', maxlen=25)\n",
        "pred = model.predict(new_x)"
      ],
      "execution_count": 27,
      "outputs": []
    },
    {
      "cell_type": "markdown",
      "metadata": {
        "id": "yQwDiOSdHrPR",
        "colab_type": "text"
      },
      "source": [
        "- 원래대로라면 tokenizer에 문장이 담긴 리스트를 fit_on_text를 실행해서 위에서 test 리스트에 데이터를 넣은 것처럼 학습을 위한 준비를 마쳐야 하는데 이번에는 그냥 직접 넣어주었다.(경과를 마지막에 살피기 위해서)"
      ]
    },
    {
      "cell_type": "code",
      "metadata": {
        "id": "VdPPuabJGZUy",
        "colab_type": "code",
        "colab": {}
      },
      "source": [
        "pred = np.array(pred)"
      ],
      "execution_count": 28,
      "outputs": []
    },
    {
      "cell_type": "code",
      "metadata": {
        "id": "HQXTwEW_Ii7O",
        "colab_type": "code",
        "colab": {
          "base_uri": "https://localhost:8080/",
          "height": 35
        },
        "outputId": "c4cd6126-1a47-419f-b946-8fdc3b238c2e"
      },
      "source": [
        "pred[0][0]"
      ],
      "execution_count": 29,
      "outputs": [
        {
          "output_type": "execute_result",
          "data": {
            "text/plain": [
              "0.5531762"
            ]
          },
          "metadata": {
            "tags": []
          },
          "execution_count": 29
        }
      ]
    },
    {
      "cell_type": "code",
      "metadata": {
        "id": "9bxWyWzgGZ8C",
        "colab_type": "code",
        "colab": {
          "base_uri": "https://localhost:8080/",
          "height": 561
        },
        "outputId": "c0384f81-ae84-45e9-8817-98ac414b13ca"
      },
      "source": [
        "for i, j in enumerate(test):\n",
        "  print(j)\n",
        "  a,b = pred[i][0], pred[i][1]\n",
        "  if a > b:print('Negative')\n",
        "  else:print('Positive')\n",
        "  print(pred[i])"
      ],
      "execution_count": 30,
      "outputs": [
        {
          "output_type": "stream",
          "text": [
            "['기뻐서']\n",
            "Negative\n",
            "[0.5531762  0.44682375]\n",
            "['기뻐서', '보러']\n",
            "Positive\n",
            "[0.49398127 0.50601876]\n",
            "['기뻐서', '보러', '갔는데']\n",
            "Positive\n",
            "[0.2973005 0.7026995]\n",
            "['기뻐서', '보러', '갔는데', '배우들의']\n",
            "Negative\n",
            "[0.51674694 0.4832531 ]\n",
            "['기뻐서', '보러', '갔는데', '배우들의', '연기와']\n",
            "Positive\n",
            "[0.11777214 0.88222784]\n",
            "['기뻐서', '보러', '갔는데', '배우들의', '연기와', '내용에']\n",
            "Negative\n",
            "[0.97394377 0.02605624]\n",
            "['기뻐서', '보러', '갔는데', '배우들의', '연기와', '내용에', '너무']\n",
            "Negative\n",
            "[0.9966898  0.00331018]\n",
            "['기뻐서', '보러', '갔는데', '배우들의', '연기와', '내용에', '너무', '실망했고']\n",
            "Negative\n",
            "[0.9966898  0.00331018]\n",
            "['기뻐서', '보러', '갔는데', '배우들의', '연기와', '내용에', '너무', '실망했고', '지루하기까지']\n",
            "Negative\n",
            "[0.9966898  0.00331018]\n",
            "['기뻐서', '보러', '갔는데', '배우들의', '연기와', '내용에', '너무', '실망했고', '지루하기까지', '했다.']\n",
            "Negative\n",
            "[0.9966898  0.00331018]\n"
          ],
          "name": "stdout"
        }
      ]
    },
    {
      "cell_type": "markdown",
      "metadata": {
        "id": "uBN3GJqhQJDf",
        "colab_type": "text"
      },
      "source": [
        "- 처음에는 긍정으로 분석하다가 나중에는 부정으로 최종 결론이 나도록 확률이 예측이 된 상태를 볼 수 있다.\n",
        "- 처음에는 정확도가 56%남짓으로 나왔었는데 그 이유는 앞에서 clean_str()함수에서 구두점이 하나 빠져서 데이터의 정제가 생각만큼 깔끔하게 되지 않았던 것 같다\n",
        "- 그 부분을 고쳐 주니 Tokenizing한 벡터의 값도 완전히 달라져 있었고, 따라서 데이터 전처리의 중요성을 더 뼈저리게 느낀 것 같다."
      ]
    },
    {
      "cell_type": "code",
      "metadata": {
        "id": "Zy2idKN1GnEk",
        "colab_type": "code",
        "colab": {}
      },
      "source": [
        ""
      ],
      "execution_count": 26,
      "outputs": []
    }
  ]
}