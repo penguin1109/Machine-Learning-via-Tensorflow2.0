{
  "nbformat": 4,
  "nbformat_minor": 0,
  "metadata": {
    "colab": {
      "name": "Ch11. Training Deep Neural Networks",
      "provenance": [],
      "collapsed_sections": []
    },
    "kernelspec": {
      "name": "python3",
      "display_name": "Python 3"
    }
  },
  "cells": [
    {
      "cell_type": "code",
      "metadata": {
        "id": "WXoo4KDV5iT1",
        "colab_type": "code",
        "colab": {}
      },
      "source": [
        "import tensorflow as tf\n",
        "import pandas as pd\n",
        "import numpy as np\n",
        "import matplotlib.pyplot as plt"
      ],
      "execution_count": null,
      "outputs": []
    },
    {
      "cell_type": "markdown",
      "metadata": {
        "id": "IYbXLjq1yg6T",
        "colab_type": "text"
      },
      "source": [
        "## Ch11. Training Deep Neural Networks\n",
        "- 얕은 네트워크 만으로는 고해상도 이미지에서 수백 종류의 물체를 감지하는 등의 복잡한 물체를 다룰 수가 없다. (이미지 분류, 텍스트 분석등의 작업이라고 해서 반드시 convolution layer이나 revolution layer을 사용해야 하는 것이 아니다. deep neural network으로도 충분히 가능하다.)\n",
        "- 훈련 중에 발생할 수있는 문제로는 \n",
        "  - 그래디언트 소실, 그래디언트 폭주와 같이 신경층의 아래쪽으로 갈수록 그래디언트가 점점 작아지거나 커지는 현상\n",
        "  - 충분하지 않은 훈련 데이터나 까다로운 레이블 만드는 작업\n",
        "  - 극단적으로 느린 훈련 속도\n",
        "  - 너무 많은 parameter에 의한 과대 적합  \n",
        "등이 있다.\n",
        "\n",
        "\n",
        "**이제부터 이러한 문제들에 대한 해결책을 찾아보자**  \n",
        "**대부분의 공부한 내용은 노트에 적었기 때문에 여기는 간단하게 핵심만 적고자 한다.**\n",
        "\n",
        "### 11.1 그래디언트 소실과 폭주 문제\n",
        "- 불안정한 그래디언트 문제를 해결하기 위해서는 첫째, 입력의 분산이 출력의 분산과 같아야 하며 둘쨰, 역방향에서의 층 통과 전후의 그래디언트 분산이 동일해야 한다.\n",
        "1. 글로럿과 He 초기화, 르쿤 초기화\n",
        "2. 수렴하지 않는 활성화 함수\n",
        "  - LeakyReLU, RReLU, PReLU, ELU\n",
        "3. Batch Normalization\n",
        "4. Gradient Clipping"
      ]
    },
    {
      "cell_type": "markdown",
      "metadata": {
        "id": "RA-FhKNSF-fI",
        "colab_type": "text"
      },
      "source": [
        "### 11.2 사전 훈련된 층 재사용하기"
      ]
    },
    {
      "cell_type": "markdown",
      "metadata": {
        "id": "RAK8q7xiGEXL",
        "colab_type": "text"
      },
      "source": [
        "### 11.3 고속 옵티마이저\n",
        "1. Momentum 최적화  \n",
        "  ```optimizer = tf.keras.optimizers.SGD(lr = 0.001, momentum = 0.9)```\n",
        "2. Nestrov 가속 경사  \n",
        "  ```optimizer = tf.keras.optimizers.SGD(lr = 0.001, momentum = 0.9, nestrov = True)```\n",
        "3. AdaGrad\n",
        "4. RMSProp  \n",
        "```optimizer = tf.keras.optimizers.RMSProp(lr = 0.001, rho = 0.9)```\n",
        "5. Adam, Nadam  \n",
        "```optimizer = tf.keras.optimizers.Adam(lr = 0.001, beta_1 = 0.9, beta_2 = 0.999)```\n",
        "6. 학습률 스케줄링\n"
      ]
    },
    {
      "cell_type": "markdown",
      "metadata": {
        "id": "iqwR5F4LGKpk",
        "colab_type": "text"
      },
      "source": [
        "### 11.4 규제를 사용해 과대 적합 피하기\n",
        "1. L1 and L2 규제  \n",
        "```\n",
        "tf.keras.layers.Dense(  \n",
        "    100, activation = 'elu',   \n",
        "    kernel_initializer = 'he_normal', \n",
        "    kernel_regularizer = tf.keras.regularizers.l2(0.01))\n",
        "```\n",
        "2. Dropout\n",
        "3. MCDropout\n",
        "  - 기본 Dropout와의 유일한 차이는 dropout rate를 학습을 가능하게 해서 부정확도를 더 정밀하게 판단할 수 있도록 했다는 것이다.\n",
        "4. max-norm regulation"
      ]
    },
    {
      "cell_type": "markdown",
      "metadata": {
        "id": "5czxlaVVEyL3",
        "colab_type": "text"
      },
      "source": [
        "### CIFAR 10 이미지 데이터셋을 이용해서 간단한 CNN + DNN layer을 만들어서 학습을 해 보았다. \n",
        "- 그 결과 epoch를 크게 하지는 않았기 때문에 정확도가 높게 나오지는 않았지만, 일단 이 단원의 연습문제에서 이 데이터셋을 이용해서 배운내용을 바탕으로 심층 신경망을 더 잘, 높은 정확도로 학습시키는 것이 있기 때문에 그렇게 심층 학습 전에 한번 그게 없다면 어느 정도의 학습률일지 확인해보는 차원에서 시도를 해 보았다.\n",
        "- 그러나 relu대신 selu를 써서인지 생각보다는 결과를 시각화 했을 때는 맞춘 것이 많았다.  \n",
        "**중요한 것은 여기서 softmax 함수를 출력층에 사용을 하는데, 10개의 class로 분류를 하기 때문이다. 그런데 그냥 y_test와 y_train을 넣으면 안되고 반드시 이를 one-hot encoding (tf.keras.utils.to_categorical 이용) 해서 input과 output shape을 맞춰 주어야 한다."
      ]
    },
    {
      "cell_type": "code",
      "metadata": {
        "id": "7CATFvYvyCDj",
        "colab_type": "code",
        "colab": {}
      },
      "source": [
        "(x_train, y_train), (x_test, y_test) = tf.keras.datasets.cifar10.load_data()"
      ],
      "execution_count": 97,
      "outputs": []
    },
    {
      "cell_type": "code",
      "metadata": {
        "id": "dLlnwGY05_L7",
        "colab_type": "code",
        "colab": {
          "base_uri": "https://localhost:8080/",
          "height": 35
        },
        "outputId": "eb848bd6-a71c-455b-e263-054c5be1bfd1"
      },
      "source": [
        "len(x_train), len(y_train), len(x_test), len(y_test)"
      ],
      "execution_count": 98,
      "outputs": [
        {
          "output_type": "execute_result",
          "data": {
            "text/plain": [
              "(50000, 50000, 10000, 10000)"
            ]
          },
          "metadata": {
            "tags": []
          },
          "execution_count": 98
        }
      ]
    },
    {
      "cell_type": "code",
      "metadata": {
        "id": "Rz5p-iieY-Rf",
        "colab_type": "code",
        "colab": {}
      },
      "source": [
        "from tensorflow.keras.utils import to_categorical\n",
        "y_test, y_train = to_categorical(y_test), to_categorical(y_train)"
      ],
      "execution_count": 99,
      "outputs": []
    },
    {
      "cell_type": "code",
      "metadata": {
        "id": "zxPqQ_mq9ICF",
        "colab_type": "code",
        "colab": {}
      },
      "source": [
        "from sklearn.model_selection import train_test_split\n",
        "x_train, x_val, y_train, y_val = train_test_split(x_train, y_train, test_size = 0.2)"
      ],
      "execution_count": 100,
      "outputs": []
    },
    {
      "cell_type": "code",
      "metadata": {
        "id": "KyxIfzAp8h8D",
        "colab_type": "code",
        "colab": {}
      },
      "source": [
        "x_train = tf.image.convert_image_dtype(x_train, dtype = tf.float64)/255.0\n",
        "x_test = tf.image.convert_image_dtype(x_test, dtype = tf.float64)/255.0\n",
        "x_val = tf.image.convert_image_dtype(x_val, dtype = tf.float64)/255.0"
      ],
      "execution_count": 101,
      "outputs": []
    },
    {
      "cell_type": "code",
      "metadata": {
        "id": "B6oKEJ4W6YJv",
        "colab_type": "code",
        "colab": {
          "base_uri": "https://localhost:8080/",
          "height": 35
        },
        "outputId": "183e0810-429f-485b-dbaf-b8f66de19e75"
      },
      "source": [
        "x_train[0].shape"
      ],
      "execution_count": 102,
      "outputs": [
        {
          "output_type": "execute_result",
          "data": {
            "text/plain": [
              "TensorShape([32, 32, 3])"
            ]
          },
          "metadata": {
            "tags": []
          },
          "execution_count": 102
        }
      ]
    },
    {
      "cell_type": "markdown",
      "metadata": {
        "id": "g7p7PYz_7EFQ",
        "colab_type": "text"
      },
      "source": [
        "1. train_test_split으로 train, valid데이터 나누어주기\n",
        "2. image데이터와 label 데이터 mapping해서 하나의 dataset으로 만들어주기\n",
        "3. train_dataset shuffle, batch, prefetch해주기\n",
        "4. ImageDataGenerator을 이용해서 이미지 데이터 증식해주기 (하려고 했으나 하기에는 이미지의 화질이 너무 좋지 않았다.)\n",
        "5. convolution layer이 아니기 때문에 dense layer에 입력 데이터를 넣기에 앞서서 Flatten layer을 이용해 주어야 함 \n",
        "6. 마지막 은닉층 전, 즉 출력층 바로 전에 BatchNormalization layer을 넣었다."
      ]
    },
    {
      "cell_type": "code",
      "metadata": {
        "id": "9RU4UNAg6sBd",
        "colab_type": "code",
        "colab": {}
      },
      "source": [
        "def add_image_label(image, label):\n",
        "  for i in range(len(image)):\n",
        "    return (image[i], label[i])"
      ],
      "execution_count": 84,
      "outputs": []
    },
    {
      "cell_type": "code",
      "metadata": {
        "id": "S1_yPrdN6Lgs",
        "colab_type": "code",
        "colab": {
          "base_uri": "https://localhost:8080/",
          "height": 267
        },
        "outputId": "75452d20-c459-4393-8abf-6ff3e99169d4"
      },
      "source": [
        "for i in range(0,20,5):\n",
        "  plt.subplot(2,2,i//5+1)\n",
        "  plt.imshow(x_train[i]*255.0)"
      ],
      "execution_count": 85,
      "outputs": [
        {
          "output_type": "display_data",
          "data": {
            "image/png": "[encoded data removed]",
            "text/plain": [
              "<Figure size 432x288 with 4 Axes>"
            ]
          },
          "metadata": {
            "tags": [],
            "needs_background": "light"
          }
        }
      ]
    },
    {
      "cell_type": "code",
      "metadata": {
        "id": "QagGxiEd9v4O",
        "colab_type": "code",
        "colab": {
          "base_uri": "https://localhost:8080/",
          "height": 35
        },
        "outputId": "cb5e416e-7225-4fc8-da83-9d9b6e14eea9"
      },
      "source": [
        "len(x_train)"
      ],
      "execution_count": 86,
      "outputs": [
        {
          "output_type": "execute_result",
          "data": {
            "text/plain": [
              "40000"
            ]
          },
          "metadata": {
            "tags": []
          },
          "execution_count": 86
        }
      ]
    },
    {
      "cell_type": "code",
      "metadata": {
        "id": "x0SQWsq_6TUd",
        "colab_type": "code",
        "colab": {}
      },
      "source": [
        "BUFFER_SIZE = len(x_train)\n",
        "BATCH_SIZE = 32\n",
        "max_epochs = 10\n",
        "train_dataset = tf.data.Dataset.from_tensor_slices((x_train, y_train))\n",
        "train_dataset = train_dataset.repeat()\n",
        "train_dataset = train_dataset.shuffle(BUFFER_SIZE).batch(BATCH_SIZE).prefetch(1)\n",
        "test_dataset = tf.data.Dataset.from_tensor_slices((x_test, y_test)).batch(BATCH_SIZE).prefetch(1)\n",
        "val_dataset = tf.data.Dataset.from_tensor_slices((x_val, y_val)).batch(BATCH_SIZE).prefetch(1)"
      ],
      "execution_count": 103,
      "outputs": []
    },
    {
      "cell_type": "code",
      "metadata": {
        "id": "bDTIEvMoAXs2",
        "colab_type": "code",
        "colab": {
          "base_uri": "https://localhost:8080/",
          "height": 35
        },
        "outputId": "21c5e334-a708-4bcc-80e1-11ed6552a538"
      },
      "source": [
        "train_dataset"
      ],
      "execution_count": 104,
      "outputs": [
        {
          "output_type": "execute_result",
          "data": {
            "text/plain": [
              "<PrefetchDataset shapes: ((None, 32, 32, 3), (None, 10)), types: (tf.float64, tf.float32)>"
            ]
          },
          "metadata": {
            "tags": []
          },
          "execution_count": 104
        }
      ]
    },
    {
      "cell_type": "code",
      "metadata": {
        "id": "jxrmjrom8csC",
        "colab_type": "code",
        "colab": {}
      },
      "source": [
        "from tensorflow.keras.layers import Dense, Flatten, Conv2D, MaxPool2D\n",
        "from tensorflow.keras.models import Sequential\n",
        "from tensorflow.keras.losses import sparse_categorical_crossentropy\n",
        "from tensorflow.keras.activations import softmax, selu\n",
        "from tensorflow.keras.optimizers import Adam\n",
        "\n",
        "model = Sequential()\n",
        "model.add(Conv2D(128, input_shape = [32,32,3], kernel_size = 2, padding = 'same', strides = 2))\n",
        "model.add(MaxPool2D(2))\n",
        "model.add(Flatten())\n",
        "model.add(Dense(300, activation = 'selu'))\n",
        "model.add(Dense(100, activation = 'selu'))\n",
        "model.add(Dense(10, activation = 'softmax'))"
      ],
      "execution_count": 108,
      "outputs": []
    },
    {
      "cell_type": "code",
      "metadata": {
        "id": "yqjpujbL-5KK",
        "colab_type": "code",
        "colab": {
          "base_uri": "https://localhost:8080/",
          "height": 379
        },
        "outputId": "6d739b6c-4124-49d6-bc68-7996e3a23813"
      },
      "source": [
        "model.summary()"
      ],
      "execution_count": 109,
      "outputs": [
        {
          "output_type": "stream",
          "text": [
            "Model: \"sequential_12\"\n",
            "_________________________________________________________________\n",
            "Layer (type)                 Output Shape              Param #   \n",
            "=================================================================\n",
            "conv2d_3 (Conv2D)            (None, 16, 16, 128)       1664      \n",
            "_________________________________________________________________\n",
            "max_pooling2d_3 (MaxPooling2 (None, 8, 8, 128)         0         \n",
            "_________________________________________________________________\n",
            "flatten_11 (Flatten)         (None, 8192)              0         \n",
            "_________________________________________________________________\n",
            "dense_196 (Dense)            (None, 300)               2457900   \n",
            "_________________________________________________________________\n",
            "dense_197 (Dense)            (None, 100)               30100     \n",
            "_________________________________________________________________\n",
            "dense_198 (Dense)            (None, 10)                1010      \n",
            "=================================================================\n",
            "Total params: 2,490,674\n",
            "Trainable params: 2,490,674\n",
            "Non-trainable params: 0\n",
            "_________________________________________________________________\n"
          ],
          "name": "stdout"
        }
      ]
    },
    {
      "cell_type": "markdown",
      "metadata": {
        "id": "lLYIUHtlW361",
        "colab_type": "text"
      },
      "source": [
        "- 한가지 추가를 하자면 batch normalization은 일반적으로 출력 스케일 벡터, 출력 이동 벡터 두개만 parameter에 의해서 학습하는 것과 달리 최종 입력 평균 벡터와 최종 입력 표준편차 벡터까지 학습을 하기 때문에 필터의 개수의 4배만큼의 parameter을 요구한다.\n",
        "- 하지만 Batch Normalization을 이용할 때의 주의사항이 존재하는데, 바로 parameter의 조절이다.\n",
        "**합성곱 신경망에 적용한다고 할 때에는 axis의 값을 이왕이면 axis = [1,2]로 설정해서 모든 픽셀 값에 대해서 batch normalization 연산을 진행하도록 하는 것이 좋다. 그렇지 않으면 이미지 픽셀의 열마다 하나씩 평균과 표준편차를 구해서 이를 해당열에 모든 픽셀에 동일하게 적용할 것이기 때문이다.\n",
        "  - 배치 정규화는 입력을 정규화하고 다음 스케일을 정규화하고 이동 시킨다.\n",
        "  - 만약에 입력 데이터를 정규화하지 않고 첫번째 층에 이 layer을 사용한다면 굳이 훈련세트의 표준화가 필요 없을 것이다."
      ]
    },
    {
      "cell_type": "code",
      "metadata": {
        "id": "sF9F1Iew_IXH",
        "colab_type": "code",
        "colab": {
          "base_uri": "https://localhost:8080/",
          "height": 923
        },
        "outputId": "a2403f46-4161-45d1-b827-273e9f332dc5"
      },
      "source": [
        "model.compile(loss = 'categorical_crossentropy', optimizer = 'nadam', metrics = ['accuracy'])\n",
        "hist_3 = model.fit(train_dataset, validation_data = val_dataset, steps_per_epoch= len(x_train)//BATCH_SIZE, epochs = 25)"
      ],
      "execution_count": 110,
      "outputs": [
        {
          "output_type": "stream",
          "text": [
            "Epoch 1/25\n",
            "1250/1250 [==============================] - 72s 58ms/step - loss: 1.8606 - accuracy: 0.3381 - val_loss: 1.6946 - val_accuracy: 0.4058\n",
            "Epoch 2/25\n",
            "1250/1250 [==============================] - 72s 58ms/step - loss: 1.6034 - accuracy: 0.4371 - val_loss: 1.6407 - val_accuracy: 0.4260\n",
            "Epoch 3/25\n",
            "1250/1250 [==============================] - 72s 57ms/step - loss: 1.4694 - accuracy: 0.4847 - val_loss: 1.4522 - val_accuracy: 0.4929\n",
            "Epoch 4/25\n",
            "1250/1250 [==============================] - 72s 58ms/step - loss: 1.3676 - accuracy: 0.5243 - val_loss: 1.3550 - val_accuracy: 0.5300\n",
            "Epoch 5/25\n",
            "1250/1250 [==============================] - 72s 58ms/step - loss: 1.2988 - accuracy: 0.5481 - val_loss: 1.3076 - val_accuracy: 0.5422\n",
            "Epoch 6/25\n",
            "1250/1250 [==============================] - 71s 57ms/step - loss: 1.2280 - accuracy: 0.5715 - val_loss: 1.2794 - val_accuracy: 0.5603\n",
            "Epoch 7/25\n",
            "1250/1250 [==============================] - 70s 56ms/step - loss: 1.1887 - accuracy: 0.5866 - val_loss: 1.2691 - val_accuracy: 0.5565\n",
            "Epoch 8/25\n",
            "1250/1250 [==============================] - 73s 58ms/step - loss: 1.1591 - accuracy: 0.5982 - val_loss: 1.2363 - val_accuracy: 0.5757\n",
            "Epoch 9/25\n",
            "1250/1250 [==============================] - 72s 57ms/step - loss: 1.1238 - accuracy: 0.6091 - val_loss: 1.2186 - val_accuracy: 0.5821\n",
            "Epoch 10/25\n",
            "1250/1250 [==============================] - 71s 57ms/step - loss: 1.0999 - accuracy: 0.6169 - val_loss: 1.2623 - val_accuracy: 0.5688\n",
            "Epoch 11/25\n",
            "1250/1250 [==============================] - 71s 57ms/step - loss: 1.0735 - accuracy: 0.6259 - val_loss: 1.1986 - val_accuracy: 0.5837\n",
            "Epoch 12/25\n",
            "1250/1250 [==============================] - 73s 58ms/step - loss: 1.0578 - accuracy: 0.6341 - val_loss: 1.1869 - val_accuracy: 0.5901\n",
            "Epoch 13/25\n",
            "1250/1250 [==============================] - 73s 58ms/step - loss: 1.0409 - accuracy: 0.6403 - val_loss: 1.1943 - val_accuracy: 0.5897\n",
            "Epoch 14/25\n",
            "1250/1250 [==============================] - 75s 60ms/step - loss: 1.0225 - accuracy: 0.6436 - val_loss: 1.1671 - val_accuracy: 0.5971\n",
            "Epoch 15/25\n",
            "1250/1250 [==============================] - 73s 58ms/step - loss: 0.9955 - accuracy: 0.6539 - val_loss: 1.2086 - val_accuracy: 0.5841\n",
            "Epoch 16/25\n",
            "1250/1250 [==============================] - 73s 58ms/step - loss: 0.9849 - accuracy: 0.6585 - val_loss: 1.1662 - val_accuracy: 0.5987\n",
            "Epoch 17/25\n",
            "1250/1250 [==============================] - 73s 58ms/step - loss: 0.9732 - accuracy: 0.6621 - val_loss: 1.1837 - val_accuracy: 0.5999\n",
            "Epoch 18/25\n",
            "1250/1250 [==============================] - 73s 58ms/step - loss: 0.9449 - accuracy: 0.6729 - val_loss: 1.1727 - val_accuracy: 0.6015\n",
            "Epoch 19/25\n",
            "1250/1250 [==============================] - 73s 58ms/step - loss: 0.9339 - accuracy: 0.6738 - val_loss: 1.1611 - val_accuracy: 0.6052\n",
            "Epoch 20/25\n",
            "1250/1250 [==============================] - 73s 58ms/step - loss: 0.9198 - accuracy: 0.6791 - val_loss: 1.1578 - val_accuracy: 0.6069\n",
            "Epoch 21/25\n",
            "1250/1250 [==============================] - 73s 58ms/step - loss: 0.8978 - accuracy: 0.6884 - val_loss: 1.1575 - val_accuracy: 0.6141\n",
            "Epoch 22/25\n",
            "1250/1250 [==============================] - 73s 59ms/step - loss: 0.8846 - accuracy: 0.6914 - val_loss: 1.1888 - val_accuracy: 0.6026\n",
            "Epoch 23/25\n",
            "1250/1250 [==============================] - 73s 59ms/step - loss: 0.8720 - accuracy: 0.6956 - val_loss: 1.1565 - val_accuracy: 0.6148\n",
            "Epoch 24/25\n",
            "1250/1250 [==============================] - 73s 59ms/step - loss: 0.8494 - accuracy: 0.7035 - val_loss: 1.1537 - val_accuracy: 0.6119\n",
            "Epoch 25/25\n",
            "1250/1250 [==============================] - 74s 59ms/step - loss: 0.8324 - accuracy: 0.7103 - val_loss: 1.1876 - val_accuracy: 0.6117\n"
          ],
          "name": "stdout"
        }
      ]
    },
    {
      "cell_type": "code",
      "metadata": {
        "id": "xT-taHInJeAL",
        "colab_type": "code",
        "colab": {
          "base_uri": "https://localhost:8080/",
          "height": 53
        },
        "outputId": "286a8566-4e7e-49af-cee3-cb2f26e6fc0c"
      },
      "source": [
        "model.evaluate(test_dataset)"
      ],
      "execution_count": 111,
      "outputs": [
        {
          "output_type": "stream",
          "text": [
            "313/313 [==============================] - 3s 9ms/step - loss: 1.1835 - accuracy: 0.6100\n"
          ],
          "name": "stdout"
        },
        {
          "output_type": "execute_result",
          "data": {
            "text/plain": [
              "[1.1835253238677979, 0.6100000143051147]"
            ]
          },
          "metadata": {
            "tags": []
          },
          "execution_count": 111
        }
      ]
    },
    {
      "cell_type": "markdown",
      "metadata": {
        "id": "36Ls-IEbgxrY",
        "colab_type": "text"
      },
      "source": [
        "Accuracy = 61%"
      ]
    },
    {
      "cell_type": "code",
      "metadata": {
        "id": "qlG5rPxyJkgV",
        "colab_type": "code",
        "colab": {
          "base_uri": "https://localhost:8080/",
          "height": 590
        },
        "outputId": "9bd588bf-d9e6-4d7f-b8cc-bb8cd9fec351"
      },
      "source": [
        "import numpy as np\n",
        "plt.figure(figsize = (10,10))\n",
        "i = 1\n",
        "for image, label in test_dataset.take(1):\n",
        "  pred = model.predict(image)\n",
        "  for j in range(16):\n",
        "    pred_y = np.argmax(pred[j])\n",
        "    y = np.argmax(label[j])\n",
        "    plt.subplot(4,4,i)\n",
        "    i += 1\n",
        "    plt.imshow(image[j]*255.0)\n",
        "    if pred_y == y:\n",
        "      plt.title('{}:{}'.format(pred_y, y),color = 'b')\n",
        "    else:\n",
        "      plt.title('{}:{}'.format(pred_y, y),color = 'r')\n",
        "    plt.axis('off')\n",
        "plt.show()\n",
        "\n",
        "    "
      ],
      "execution_count": 113,
      "outputs": [
        {
          "output_type": "display_data",
          "data": {
            "image/png": "[encoded data removed]",
            "text/plain": [
              "<Figure size 720x720 with 16 Axes>"
            ]
          },
          "metadata": {
            "tags": [],
            "needs_background": "light"
          }
        }
      ]
    },
    {
      "cell_type": "markdown",
      "metadata": {
        "id": "mcf7IWpQ9zZz",
        "colab_type": "text"
      },
      "source": [
        "### 이제 CH.11의 연습 문제의 8번이 요구한 순서에 맞춰서 학습 성능을 CIFAR10 데이터로 높여보자.  \n",
        "1. 100개의 뉴런을 가진 은닉층 20개로 심층 신경망을 만드시오\n",
        "2. Nadam optimizer과 조기 종료를 사용하여 cifar10을 학습시키시오"
      ]
    },
    {
      "cell_type": "code",
      "metadata": {
        "id": "3Fx4_0bWKvpa",
        "colab_type": "code",
        "colab": {}
      },
      "source": [
        "import tensorflow as tf\n",
        "from tensorflow.keras.models import Sequential\n",
        "from tensorflow.keras.layers import Dense, Flatten,Conv2D, MaxPool2D\n",
        "from tensorflow.keras.activations import elu"
      ],
      "execution_count": 53,
      "outputs": []
    },
    {
      "cell_type": "code",
      "metadata": {
        "id": "GXWGdTX8-Sik",
        "colab_type": "code",
        "colab": {}
      },
      "source": [
        "model_1 = Sequential()\n",
        "model_1.add(Flatten(input_shape = [32,32,3]))\n",
        "for _ in range(20):\n",
        "  model_1.add(Dense(100, activation = 'elu', kernel_initializer='he_normal'))\n",
        "model_1.add(Dense(10, activation = 'softmax'))"
      ],
      "execution_count": 49,
      "outputs": []
    },
    {
      "cell_type": "code",
      "metadata": {
        "id": "CHQOvEa7-yQD",
        "colab_type": "code",
        "colab": {}
      },
      "source": [
        "(x_train, y_train), (x_test, y_test) = tf.keras.datasets.cifar10.load_data()"
      ],
      "execution_count": 58,
      "outputs": []
    },
    {
      "cell_type": "code",
      "metadata": {
        "id": "Ch_NWNQH_ce6",
        "colab_type": "code",
        "colab": {}
      },
      "source": [
        "from sklearn.model_selection import train_test_split\n",
        "x_train, x_val, y_train, y_val = train_test_split(x_train, y_train, test_size = 0.2)"
      ],
      "execution_count": 59,
      "outputs": []
    },
    {
      "cell_type": "code",
      "metadata": {
        "id": "cUevlLJcAQB2",
        "colab_type": "code",
        "colab": {
          "base_uri": "https://localhost:8080/",
          "height": 35
        },
        "outputId": "d4ea250c-75bd-4d43-9f2c-99d17df8bbe1"
      },
      "source": [
        "len(x_train), len(x_test), len(x_val)"
      ],
      "execution_count": 19,
      "outputs": [
        {
          "output_type": "execute_result",
          "data": {
            "text/plain": [
              "(40000, 10000, 10000)"
            ]
          },
          "metadata": {
            "tags": []
          },
          "execution_count": 19
        }
      ]
    },
    {
      "cell_type": "code",
      "metadata": {
        "id": "iSjqENidHCJt",
        "colab_type": "code",
        "colab": {
          "base_uri": "https://localhost:8080/",
          "height": 144
        },
        "outputId": "00958f17-4918-49c2-ca13-3468127c409e"
      },
      "source": [
        "y_test"
      ],
      "execution_count": 65,
      "outputs": [
        {
          "output_type": "execute_result",
          "data": {
            "text/plain": [
              "array([[3],\n",
              "       [8],\n",
              "       [8],\n",
              "       ...,\n",
              "       [5],\n",
              "       [1],\n",
              "       [7]], dtype=uint8)"
            ]
          },
          "metadata": {
            "tags": []
          },
          "execution_count": 65
        }
      ]
    },
    {
      "cell_type": "code",
      "metadata": {
        "id": "7m4T3etoAVWR",
        "colab_type": "code",
        "colab": {}
      },
      "source": [
        "x_train = tf.image.convert_image_dtype(x_train, tf.float32)/255.0\n",
        "x_test = tf.image.convert_image_dtype(x_test, tf.float32)/255.0\n",
        "x_val = tf.image.convert_image_dtype(x_val, tf.float32)/255.0\n",
        "\n",
        "BATCH_SIZE = 32\n",
        "train_dataset = tf.data.Dataset.from_tensor_slices((x_train, y_train)).repeat().batch(BATCH_SIZE).prefetch(1)\n",
        "test_dataset = tf.data.Dataset.from_tensor_slices((x_test, y_test)).batch(BATCH_SIZE).prefetch(1)\n",
        "val_dataset = tf.data.Dataset.from_tensor_slices((x_val, y_val)).batch(BATCH_SIZE).prefetch(1)"
      ],
      "execution_count": 66,
      "outputs": []
    },
    {
      "cell_type": "code",
      "metadata": {
        "id": "eRUsm_56BjGs",
        "colab_type": "code",
        "colab": {}
      },
      "source": [
        "from tensorflow.keras.callbacks import EarlyStopping\n",
        "early_stop = EarlyStopping(monitor = 'val_accuracy', patience = 20)\n",
        "optimizer = tf.keras.optimizers.Nadam(lr=5e-5)\n",
        "model_1.compile(optimizer = optimizer, loss = 'sparse_categorical_crossentropy', metrics = ['accuracy'])"
      ],
      "execution_count": 67,
      "outputs": []
    },
    {
      "cell_type": "markdown",
      "metadata": {
        "id": "r3P2Q8avIn_e",
        "colab_type": "text"
      },
      "source": [
        "**클래스를 그냥 정수 label 그대로 둘거면 loss로 'sparse_categorical_crossentropy'를 이용해야 하고 이 label을 to_categorical()을 이용해서 one-hot encoding을 한다면 loss로 'categorical_crossentropy'를 해야 한다."
      ]
    },
    {
      "cell_type": "code",
      "metadata": {
        "id": "FpGlkBi5CGcG",
        "colab_type": "code",
        "colab": {
          "base_uri": "https://localhost:8080/",
          "height": 1000
        },
        "outputId": "b9b1e6a5-39d9-48e3-9f0f-3586bd88e66a"
      },
      "source": [
        "hist_1 = model_1.fit(train_dataset, validation_data = val_dataset, epochs=50, steps_per_epoch=len(x_train)//BATCH_SIZE, callbacks=[early_stop])"
      ],
      "execution_count": 68,
      "outputs": [
        {
          "output_type": "stream",
          "text": [
            "Epoch 1/50\n",
            "1250/1250 [==============================] - 15s 12ms/step - loss: 1.9078 - accuracy: 0.3101 - val_loss: 1.7951 - val_accuracy: 0.3491\n",
            "Epoch 2/50\n",
            "1250/1250 [==============================] - 15s 12ms/step - loss: 1.7248 - accuracy: 0.3829 - val_loss: 1.7270 - val_accuracy: 0.3803\n",
            "Epoch 3/50\n",
            "1250/1250 [==============================] - 15s 12ms/step - loss: 1.6478 - accuracy: 0.4090 - val_loss: 1.6763 - val_accuracy: 0.4028\n",
            "Epoch 4/50\n",
            "1250/1250 [==============================] - 15s 12ms/step - loss: 1.5940 - accuracy: 0.4277 - val_loss: 1.6187 - val_accuracy: 0.4207\n",
            "Epoch 5/50\n",
            "1250/1250 [==============================] - 15s 12ms/step - loss: 1.5571 - accuracy: 0.4417 - val_loss: 1.5856 - val_accuracy: 0.4292\n",
            "Epoch 6/50\n",
            "1250/1250 [==============================] - 14s 12ms/step - loss: 1.5303 - accuracy: 0.4530 - val_loss: 1.5652 - val_accuracy: 0.4341\n",
            "Epoch 7/50\n",
            "1250/1250 [==============================] - 15s 12ms/step - loss: 1.5083 - accuracy: 0.4600 - val_loss: 1.5510 - val_accuracy: 0.4415\n",
            "Epoch 8/50\n",
            "1250/1250 [==============================] - 15s 12ms/step - loss: 1.4892 - accuracy: 0.4663 - val_loss: 1.5405 - val_accuracy: 0.4449\n",
            "Epoch 9/50\n",
            "1250/1250 [==============================] - 15s 12ms/step - loss: 1.4720 - accuracy: 0.4728 - val_loss: 1.5333 - val_accuracy: 0.4476\n",
            "Epoch 10/50\n",
            "1250/1250 [==============================] - 15s 12ms/step - loss: 1.4560 - accuracy: 0.4791 - val_loss: 1.5279 - val_accuracy: 0.4487\n",
            "Epoch 11/50\n",
            "1250/1250 [==============================] - 15s 12ms/step - loss: 1.4409 - accuracy: 0.4848 - val_loss: 1.5239 - val_accuracy: 0.4550\n",
            "Epoch 12/50\n",
            "1250/1250 [==============================] - 15s 12ms/step - loss: 1.4264 - accuracy: 0.4900 - val_loss: 1.5207 - val_accuracy: 0.4561\n",
            "Epoch 13/50\n",
            "1250/1250 [==============================] - 15s 12ms/step - loss: 1.4126 - accuracy: 0.4959 - val_loss: 1.5178 - val_accuracy: 0.4602\n",
            "Epoch 14/50\n",
            "1250/1250 [==============================] - 15s 12ms/step - loss: 1.3993 - accuracy: 0.5005 - val_loss: 1.5163 - val_accuracy: 0.4598\n",
            "Epoch 15/50\n",
            "1250/1250 [==============================] - 15s 12ms/step - loss: 1.3867 - accuracy: 0.5061 - val_loss: 1.5149 - val_accuracy: 0.4599\n",
            "Epoch 16/50\n",
            "1250/1250 [==============================] - 15s 12ms/step - loss: 1.3747 - accuracy: 0.5097 - val_loss: 1.5137 - val_accuracy: 0.4615\n",
            "Epoch 17/50\n",
            "1250/1250 [==============================] - 15s 12ms/step - loss: 1.3633 - accuracy: 0.5135 - val_loss: 1.5134 - val_accuracy: 0.4609\n",
            "Epoch 18/50\n",
            "1250/1250 [==============================] - 15s 12ms/step - loss: 1.3523 - accuracy: 0.5181 - val_loss: 1.5158 - val_accuracy: 0.4611\n",
            "Epoch 19/50\n",
            "1250/1250 [==============================] - 15s 12ms/step - loss: 1.3419 - accuracy: 0.5217 - val_loss: 1.5192 - val_accuracy: 0.4627\n",
            "Epoch 20/50\n",
            "1250/1250 [==============================] - 15s 12ms/step - loss: 1.3319 - accuracy: 0.5255 - val_loss: 1.5238 - val_accuracy: 0.4644\n",
            "Epoch 21/50\n",
            "1250/1250 [==============================] - 15s 12ms/step - loss: 1.3222 - accuracy: 0.5283 - val_loss: 1.5290 - val_accuracy: 0.4628\n",
            "Epoch 22/50\n",
            "1250/1250 [==============================] - 19s 15ms/step - loss: 1.3128 - accuracy: 0.5320 - val_loss: 1.5345 - val_accuracy: 0.4649\n",
            "Epoch 23/50\n",
            "1250/1250 [==============================] - 15s 12ms/step - loss: 1.3037 - accuracy: 0.5353 - val_loss: 1.5392 - val_accuracy: 0.4642\n",
            "Epoch 24/50\n",
            "1250/1250 [==============================] - 15s 12ms/step - loss: 1.2949 - accuracy: 0.5390 - val_loss: 1.5431 - val_accuracy: 0.4633\n",
            "Epoch 25/50\n",
            "1250/1250 [==============================] - 15s 12ms/step - loss: 1.2864 - accuracy: 0.5428 - val_loss: 1.5463 - val_accuracy: 0.4648\n",
            "Epoch 26/50\n",
            "1250/1250 [==============================] - 15s 12ms/step - loss: 1.2782 - accuracy: 0.5451 - val_loss: 1.5497 - val_accuracy: 0.4647\n",
            "Epoch 27/50\n",
            "1250/1250 [==============================] - 15s 12ms/step - loss: 1.2701 - accuracy: 0.5468 - val_loss: 1.5538 - val_accuracy: 0.4649\n",
            "Epoch 28/50\n",
            "1250/1250 [==============================] - 15s 12ms/step - loss: 1.2623 - accuracy: 0.5497 - val_loss: 1.5573 - val_accuracy: 0.4644\n",
            "Epoch 29/50\n",
            "1250/1250 [==============================] - 15s 12ms/step - loss: 1.2546 - accuracy: 0.5519 - val_loss: 1.5600 - val_accuracy: 0.4649\n",
            "Epoch 30/50\n",
            "1250/1250 [==============================] - 15s 12ms/step - loss: 1.2471 - accuracy: 0.5548 - val_loss: 1.5617 - val_accuracy: 0.4651\n",
            "Epoch 31/50\n",
            "1250/1250 [==============================] - 15s 12ms/step - loss: 1.2396 - accuracy: 0.5574 - val_loss: 1.5622 - val_accuracy: 0.4661\n",
            "Epoch 32/50\n",
            "1250/1250 [==============================] - 15s 12ms/step - loss: 1.2322 - accuracy: 0.5596 - val_loss: 1.5626 - val_accuracy: 0.4666\n",
            "Epoch 33/50\n",
            "1250/1250 [==============================] - 15s 12ms/step - loss: 1.2248 - accuracy: 0.5622 - val_loss: 1.5635 - val_accuracy: 0.4663\n",
            "Epoch 34/50\n",
            "1250/1250 [==============================] - 15s 12ms/step - loss: 1.2175 - accuracy: 0.5653 - val_loss: 1.5652 - val_accuracy: 0.4657\n",
            "Epoch 35/50\n",
            "1250/1250 [==============================] - 15s 12ms/step - loss: 1.2104 - accuracy: 0.5684 - val_loss: 1.5679 - val_accuracy: 0.4656\n",
            "Epoch 36/50\n",
            "1250/1250 [==============================] - 15s 12ms/step - loss: 1.2033 - accuracy: 0.5708 - val_loss: 1.5707 - val_accuracy: 0.4664\n",
            "Epoch 37/50\n",
            "1250/1250 [==============================] - 15s 12ms/step - loss: 1.1963 - accuracy: 0.5728 - val_loss: 1.5741 - val_accuracy: 0.4660\n",
            "Epoch 38/50\n",
            "1250/1250 [==============================] - 15s 12ms/step - loss: 1.1894 - accuracy: 0.5745 - val_loss: 1.5778 - val_accuracy: 0.4657\n",
            "Epoch 39/50\n",
            "1250/1250 [==============================] - 15s 12ms/step - loss: 1.1825 - accuracy: 0.5778 - val_loss: 1.5819 - val_accuracy: 0.4633\n",
            "Epoch 40/50\n",
            "1250/1250 [==============================] - 15s 12ms/step - loss: 1.1757 - accuracy: 0.5805 - val_loss: 1.5864 - val_accuracy: 0.4642\n",
            "Epoch 41/50\n",
            "1250/1250 [==============================] - 15s 12ms/step - loss: 1.1688 - accuracy: 0.5825 - val_loss: 1.5914 - val_accuracy: 0.4645\n",
            "Epoch 42/50\n",
            "1250/1250 [==============================] - 15s 12ms/step - loss: 1.1620 - accuracy: 0.5860 - val_loss: 1.5968 - val_accuracy: 0.4643\n",
            "Epoch 43/50\n",
            "1250/1250 [==============================] - 15s 12ms/step - loss: 1.1552 - accuracy: 0.5889 - val_loss: 1.6029 - val_accuracy: 0.4632\n",
            "Epoch 44/50\n",
            "1250/1250 [==============================] - 15s 12ms/step - loss: 1.1484 - accuracy: 0.5915 - val_loss: 1.6089 - val_accuracy: 0.4632\n",
            "Epoch 45/50\n",
            "1250/1250 [==============================] - 15s 12ms/step - loss: 1.1417 - accuracy: 0.5928 - val_loss: 1.6145 - val_accuracy: 0.4639\n",
            "Epoch 46/50\n",
            "1250/1250 [==============================] - 15s 12ms/step - loss: 1.1350 - accuracy: 0.5949 - val_loss: 1.6198 - val_accuracy: 0.4614\n",
            "Epoch 47/50\n",
            "1250/1250 [==============================] - 15s 12ms/step - loss: 1.1283 - accuracy: 0.5971 - val_loss: 1.6257 - val_accuracy: 0.4614\n",
            "Epoch 48/50\n",
            "1250/1250 [==============================] - 15s 12ms/step - loss: 1.1216 - accuracy: 0.6003 - val_loss: 1.6316 - val_accuracy: 0.4610\n",
            "Epoch 49/50\n",
            "1250/1250 [==============================] - 15s 12ms/step - loss: 1.1149 - accuracy: 0.6032 - val_loss: 1.6373 - val_accuracy: 0.4612\n",
            "Epoch 50/50\n",
            "1250/1250 [==============================] - 15s 12ms/step - loss: 1.1082 - accuracy: 0.6062 - val_loss: 1.6429 - val_accuracy: 0.4611\n"
          ],
          "name": "stdout"
        }
      ]
    },
    {
      "cell_type": "code",
      "metadata": {
        "id": "EqfVB8DFDAAG",
        "colab_type": "code",
        "colab": {
          "base_uri": "https://localhost:8080/",
          "height": 53
        },
        "outputId": "3e06cbb4-ab41-4c13-ac1c-99dd266e8375"
      },
      "source": [
        "model_1.evaluate(test_dataset)"
      ],
      "execution_count": 69,
      "outputs": [
        {
          "output_type": "stream",
          "text": [
            "313/313 [==============================] - 1s 2ms/step - loss: 1.6199 - accuracy: 0.4669\n"
          ],
          "name": "stdout"
        },
        {
          "output_type": "execute_result",
          "data": {
            "text/plain": [
              "[1.6199029684066772, 0.4668999910354614]"
            ]
          },
          "metadata": {
            "tags": []
          },
          "execution_count": 69
        }
      ]
    },
    {
      "cell_type": "markdown",
      "metadata": {
        "id": "iEvdqi70C_Yk",
        "colab_type": "text"
      },
      "source": [
        "Accuracy = 46.69%"
      ]
    },
    {
      "cell_type": "markdown",
      "metadata": {
        "id": "LnFSrqEvCyB9",
        "colab_type": "text"
      },
      "source": [
        "3. 배치 정규화를 추가하고 학습 곡선을 비교해 보시오.\n",
        "4. 배치 정규화를 selu로 바꾸고 입력 특성 표준화, 르쿤 정규분포 표준화, 완전 연결 층만으로 이루어진 심층 신경망 등 네트워크가 자기 정규화를 하기 위해 필요한 변경 사항을 적용해 보시오."
      ]
    },
    {
      "cell_type": "code",
      "metadata": {
        "id": "E83fwZnzCVc0",
        "colab_type": "code",
        "colab": {}
      },
      "source": [
        "model_2 = Sequential()\n",
        "model_2.add(Flatten(input_shape = [32,32,3]))\n",
        "for _ in range(20):\n",
        "  model_2.add(Dense(100, activation = 'selu', kernel_initializer='lecun_normal'))\n",
        "model_2.add(Dense(10, activation = 'softmax'))"
      ],
      "execution_count": 73,
      "outputs": []
    },
    {
      "cell_type": "code",
      "metadata": {
        "id": "SunJwjFbEVei",
        "colab_type": "code",
        "colab": {
          "base_uri": "https://localhost:8080/",
          "height": 1000
        },
        "outputId": "324faf27-03df-4856-e4f9-eef11dfcab14"
      },
      "source": [
        "optimizer = tf.keras.optimizers.Nadam(lr=5e-5)\n",
        "\n",
        "model_2.compile(optimizer = optimizer, loss = 'sparse_categorical_crossentropy', metrics = ['accuracy'])\n",
        "hist_2 = model_2.fit(train_dataset, validation_data = val_dataset, epochs = 50, steps_per_epoch=len(x_train)//BATCH_SIZE, callbacks = [early_stop])"
      ],
      "execution_count": 75,
      "outputs": [
        {
          "output_type": "stream",
          "text": [
            "Epoch 1/50\n",
            "1250/1250 [==============================] - 14s 11ms/step - loss: 1.8992 - accuracy: 0.3041 - val_loss: 1.7752 - val_accuracy: 0.3481\n",
            "Epoch 2/50\n",
            "1250/1250 [==============================] - 14s 11ms/step - loss: 1.7192 - accuracy: 0.3763 - val_loss: 1.7134 - val_accuracy: 0.3829\n",
            "Epoch 3/50\n",
            "1250/1250 [==============================] - 14s 11ms/step - loss: 1.6372 - accuracy: 0.4104 - val_loss: 1.6647 - val_accuracy: 0.4069\n",
            "Epoch 4/50\n",
            "1250/1250 [==============================] - 14s 11ms/step - loss: 1.5804 - accuracy: 0.4335 - val_loss: 1.6351 - val_accuracy: 0.4174\n",
            "Epoch 5/50\n",
            "1250/1250 [==============================] - 14s 11ms/step - loss: 1.5417 - accuracy: 0.4452 - val_loss: 1.5856 - val_accuracy: 0.4406\n",
            "Epoch 6/50\n",
            "1250/1250 [==============================] - 14s 11ms/step - loss: 1.5107 - accuracy: 0.4579 - val_loss: 1.5912 - val_accuracy: 0.4376\n",
            "Epoch 7/50\n",
            "1250/1250 [==============================] - 14s 11ms/step - loss: 1.4843 - accuracy: 0.4676 - val_loss: 1.5676 - val_accuracy: 0.4477\n",
            "Epoch 8/50\n",
            "1250/1250 [==============================] - 14s 11ms/step - loss: 1.4621 - accuracy: 0.4746 - val_loss: 1.5606 - val_accuracy: 0.4486\n",
            "Epoch 9/50\n",
            "1250/1250 [==============================] - 14s 11ms/step - loss: 1.4423 - accuracy: 0.4838 - val_loss: 1.5463 - val_accuracy: 0.4510\n",
            "Epoch 10/50\n",
            "1250/1250 [==============================] - 14s 11ms/step - loss: 1.4241 - accuracy: 0.4896 - val_loss: 1.5483 - val_accuracy: 0.4548\n",
            "Epoch 11/50\n",
            "1250/1250 [==============================] - 14s 11ms/step - loss: 1.4072 - accuracy: 0.4979 - val_loss: 1.5513 - val_accuracy: 0.4507\n",
            "Epoch 12/50\n",
            "1250/1250 [==============================] - 14s 11ms/step - loss: 1.3917 - accuracy: 0.5020 - val_loss: 1.5525 - val_accuracy: 0.4477\n",
            "Epoch 13/50\n",
            "1250/1250 [==============================] - 14s 11ms/step - loss: 1.3784 - accuracy: 0.5073 - val_loss: 1.5434 - val_accuracy: 0.4557\n",
            "Epoch 14/50\n",
            "1250/1250 [==============================] - 14s 12ms/step - loss: 1.3647 - accuracy: 0.5124 - val_loss: 1.5465 - val_accuracy: 0.4545\n",
            "Epoch 15/50\n",
            "1250/1250 [==============================] - 14s 11ms/step - loss: 1.3524 - accuracy: 0.5161 - val_loss: 1.5448 - val_accuracy: 0.4575\n",
            "Epoch 16/50\n",
            "1250/1250 [==============================] - 14s 11ms/step - loss: 1.3399 - accuracy: 0.5230 - val_loss: 1.5419 - val_accuracy: 0.4588\n",
            "Epoch 17/50\n",
            "1250/1250 [==============================] - 14s 11ms/step - loss: 1.3280 - accuracy: 0.5257 - val_loss: 1.5389 - val_accuracy: 0.4621\n",
            "Epoch 18/50\n",
            "1250/1250 [==============================] - 14s 11ms/step - loss: 1.3161 - accuracy: 0.5304 - val_loss: 1.5525 - val_accuracy: 0.4574\n",
            "Epoch 19/50\n",
            "1250/1250 [==============================] - 14s 11ms/step - loss: 1.3054 - accuracy: 0.5358 - val_loss: 1.5682 - val_accuracy: 0.4504\n",
            "Epoch 20/50\n",
            "1250/1250 [==============================] - 14s 11ms/step - loss: 1.2953 - accuracy: 0.5386 - val_loss: 1.5796 - val_accuracy: 0.4482\n",
            "Epoch 21/50\n",
            "1250/1250 [==============================] - 14s 11ms/step - loss: 1.2837 - accuracy: 0.5426 - val_loss: 1.5718 - val_accuracy: 0.4504\n",
            "Epoch 22/50\n",
            "1250/1250 [==============================] - 14s 11ms/step - loss: 1.2747 - accuracy: 0.5456 - val_loss: 1.5762 - val_accuracy: 0.4521\n",
            "Epoch 23/50\n",
            "1250/1250 [==============================] - 14s 11ms/step - loss: 1.2636 - accuracy: 0.5493 - val_loss: 1.5756 - val_accuracy: 0.4522\n",
            "Epoch 24/50\n",
            "1250/1250 [==============================] - 14s 11ms/step - loss: 1.2535 - accuracy: 0.5548 - val_loss: 1.5660 - val_accuracy: 0.4593\n",
            "Epoch 25/50\n",
            "1250/1250 [==============================] - 14s 11ms/step - loss: 1.2438 - accuracy: 0.5571 - val_loss: 1.5567 - val_accuracy: 0.4631\n",
            "Epoch 26/50\n",
            "1250/1250 [==============================] - 14s 11ms/step - loss: 1.2341 - accuracy: 0.5597 - val_loss: 1.5694 - val_accuracy: 0.4592\n",
            "Epoch 27/50\n",
            "1250/1250 [==============================] - 14s 11ms/step - loss: 1.2246 - accuracy: 0.5643 - val_loss: 1.5591 - val_accuracy: 0.4639\n",
            "Epoch 28/50\n",
            "1250/1250 [==============================] - 14s 11ms/step - loss: 1.2154 - accuracy: 0.5683 - val_loss: 1.5767 - val_accuracy: 0.4602\n",
            "Epoch 29/50\n",
            "1250/1250 [==============================] - 17s 14ms/step - loss: 1.2080 - accuracy: 0.5708 - val_loss: 1.5792 - val_accuracy: 0.4589\n",
            "Epoch 30/50\n",
            "1250/1250 [==============================] - 14s 11ms/step - loss: 1.1990 - accuracy: 0.5741 - val_loss: 1.5713 - val_accuracy: 0.4626\n",
            "Epoch 31/50\n",
            "1250/1250 [==============================] - 14s 11ms/step - loss: 1.1895 - accuracy: 0.5771 - val_loss: 1.5893 - val_accuracy: 0.4590\n",
            "Epoch 32/50\n",
            "1250/1250 [==============================] - 15s 12ms/step - loss: 1.1803 - accuracy: 0.5809 - val_loss: 1.5830 - val_accuracy: 0.4646\n",
            "Epoch 33/50\n",
            "1250/1250 [==============================] - 15s 12ms/step - loss: 1.1728 - accuracy: 0.5845 - val_loss: 1.5882 - val_accuracy: 0.4633\n",
            "Epoch 34/50\n",
            "1250/1250 [==============================] - 15s 12ms/step - loss: 1.1640 - accuracy: 0.5886 - val_loss: 1.5904 - val_accuracy: 0.4641\n",
            "Epoch 35/50\n",
            "1250/1250 [==============================] - 15s 12ms/step - loss: 1.1560 - accuracy: 0.5903 - val_loss: 1.5873 - val_accuracy: 0.4644\n",
            "Epoch 36/50\n",
            "1250/1250 [==============================] - 15s 12ms/step - loss: 1.1467 - accuracy: 0.5945 - val_loss: 1.5742 - val_accuracy: 0.4693\n",
            "Epoch 37/50\n",
            "1250/1250 [==============================] - 15s 12ms/step - loss: 1.1392 - accuracy: 0.5962 - val_loss: 1.5746 - val_accuracy: 0.4683\n",
            "Epoch 38/50\n",
            "1250/1250 [==============================] - 15s 12ms/step - loss: 1.1301 - accuracy: 0.6010 - val_loss: 1.5888 - val_accuracy: 0.4645\n",
            "Epoch 39/50\n",
            "1250/1250 [==============================] - 15s 12ms/step - loss: 1.1219 - accuracy: 0.6043 - val_loss: 1.5920 - val_accuracy: 0.4668\n",
            "Epoch 40/50\n",
            "1250/1250 [==============================] - 15s 12ms/step - loss: 1.1150 - accuracy: 0.6064 - val_loss: 1.5960 - val_accuracy: 0.4673\n",
            "Epoch 41/50\n",
            "1250/1250 [==============================] - 15s 12ms/step - loss: 1.1067 - accuracy: 0.6101 - val_loss: 1.6200 - val_accuracy: 0.4642\n",
            "Epoch 42/50\n",
            "1250/1250 [==============================] - 15s 12ms/step - loss: 1.1012 - accuracy: 0.6116 - val_loss: 1.6287 - val_accuracy: 0.4634\n",
            "Epoch 43/50\n",
            "1250/1250 [==============================] - 15s 12ms/step - loss: 1.0937 - accuracy: 0.6144 - val_loss: 1.6403 - val_accuracy: 0.4643\n",
            "Epoch 44/50\n",
            "1250/1250 [==============================] - 15s 12ms/step - loss: 1.0852 - accuracy: 0.6168 - val_loss: 1.6525 - val_accuracy: 0.4647\n",
            "Epoch 45/50\n",
            "1250/1250 [==============================] - 15s 12ms/step - loss: 1.0794 - accuracy: 0.6199 - val_loss: 1.6538 - val_accuracy: 0.4657\n",
            "Epoch 46/50\n",
            "1250/1250 [==============================] - 15s 12ms/step - loss: 1.0719 - accuracy: 0.6212 - val_loss: 1.6574 - val_accuracy: 0.4674\n",
            "Epoch 47/50\n",
            "1250/1250 [==============================] - 15s 12ms/step - loss: 1.0657 - accuracy: 0.6245 - val_loss: 1.6781 - val_accuracy: 0.4624\n",
            "Epoch 48/50\n",
            "1250/1250 [==============================] - 15s 12ms/step - loss: 1.0586 - accuracy: 0.6277 - val_loss: 1.6570 - val_accuracy: 0.4681\n",
            "Epoch 49/50\n",
            "1250/1250 [==============================] - 15s 12ms/step - loss: 1.0518 - accuracy: 0.6295 - val_loss: 1.6721 - val_accuracy: 0.4679\n",
            "Epoch 50/50\n",
            "1250/1250 [==============================] - 15s 12ms/step - loss: 1.0443 - accuracy: 0.6327 - val_loss: 1.6744 - val_accuracy: 0.4676\n"
          ],
          "name": "stdout"
        }
      ]
    },
    {
      "cell_type": "code",
      "metadata": {
        "id": "_OfNc7HRE8rs",
        "colab_type": "code",
        "colab": {
          "base_uri": "https://localhost:8080/",
          "height": 53
        },
        "outputId": "afdf0b91-0be6-4adf-e518-094aaa5e6a1f"
      },
      "source": [
        "model_2.evaluate(test_dataset)"
      ],
      "execution_count": 76,
      "outputs": [
        {
          "output_type": "stream",
          "text": [
            "313/313 [==============================] - 1s 2ms/step - loss: 1.6267 - accuracy: 0.4743\n"
          ],
          "name": "stdout"
        },
        {
          "output_type": "execute_result",
          "data": {
            "text/plain": [
              "[1.6266804933547974, 0.47429999709129333]"
            ]
          },
          "metadata": {
            "tags": []
          },
          "execution_count": 76
        }
      ]
    },
    {
      "cell_type": "markdown",
      "metadata": {
        "id": "JfW2BOOpOf1q",
        "colab_type": "text"
      },
      "source": [
        "Accuracy = 47.43%"
      ]
    },
    {
      "cell_type": "code",
      "metadata": {
        "id": "ccxbjck9Em7M",
        "colab_type": "code",
        "colab": {
          "base_uri": "https://localhost:8080/",
          "height": 483
        },
        "outputId": "81c8b0f0-14d7-4d77-c1a5-6850e6142fba"
      },
      "source": [
        "import matplotlib.pyplot as plt\n",
        "plt.figure(figsize = (12,8))\n",
        "plt.subplot(1,2,1)\n",
        "plt.plot(hist_1.history['accuracy'],'b-', label = 'accuracy')\n",
        "plt.plot(hist_1.history['val_accuracy'], 'r-', label = 'val_accuracy')\n",
        "plt.legend()\n",
        "plt.subplot(1,2,2)\n",
        "plt.plot(hist_2.history['accuracy'],'b-', label = 'accuracy')\n",
        "plt.plot(hist_2.history['val_accuracy'], 'r-', label = 'val_accuracy')\n",
        "plt.legend()\n",
        "plt.show()"
      ],
      "execution_count": 77,
      "outputs": [
        {
          "output_type": "display_data",
          "data": {
            "image/png": "[encoded data removed]",
            "text/plain": [
              "<Figure size 864x576 with 2 Axes>"
            ]
          },
          "metadata": {
            "tags": [],
            "needs_background": "light"
          }
        }
      ]
    },
    {
      "cell_type": "markdown",
      "metadata": {
        "id": "-DO8MGh5RSvg",
        "colab_type": "text"
      },
      "source": [
        "### 정리\n",
        "1. DNN과 다른 신경망이 함께 쓰일 때에 DNN에 적용할 가이드 라인\n",
        "- 커널 초기화 : He 초기화\n",
        "- 활성화 함수 : ELU\n",
        "- 정규화 : 깊은 신경망이면 Batch Normalization\n",
        "- 규제 : Early Stopping\n",
        "- optimizer : momentum 최적화\n",
        "- 학습률 : 1 cycle\n",
        "\n",
        "2. DNN만 쓰이는 경우 DNN에 적용할 가이드 라인\n",
        "- 커널 초기화 : 르쿤 초기화 (lecun_normal)\n",
        "- 활성화 함수 : SELU\n",
        "- 정규화 : 없음 (르쿤 초기화를 쓰면 자기 정규화가 가능한 모델이 된다)\n",
        "- 규제 : 필요시 Alpha Dropout\n",
        "- optimizer : momentum 최적화\n",
        "- 학습률 : 1 cycle\n",
        "\n",
        "\n",
        "\n",
        "**무엇보다 중요한 것은 학습률의 설정인 것 같다. 그리고 아무래도 무엇을 학습하느냐에 따라서 어떤 신경망을 이용하는지가 매울 중요할 것 같은데, 위의 결과에서도 알 수 있었지만 CNN을 한 층이라도 이용했을 때는 얕은 Dense layer에도 불구하고 학습률이 훨씬 높게 나왔었다.**\n",
        "**최적의 학습률을 찾는 과정은 계속 시도를 해보거나 아니면 1cycle등과 같은 scheduler을 이용하면 학습률을 감소하는 방향으로 학습률 자체를 갱신할 수 있다. keras에는 1 cycle scheduler이 없기 때문에 직접 함수를 구현해야 한다.**\n",
        "\n",
        "- 그게 아니라면, 즉 sklearn의 모델들을 사용한 경우에는 GridSearchCV와 같은 기능을 이용해서 최적의 hyperparameter을 찾을 수 있다."
      ]
    }
  ]
}