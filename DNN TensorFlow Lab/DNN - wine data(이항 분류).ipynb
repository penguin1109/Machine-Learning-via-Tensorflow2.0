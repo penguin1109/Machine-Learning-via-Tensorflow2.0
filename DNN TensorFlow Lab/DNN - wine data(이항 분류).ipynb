{
  "nbformat": 4,
  "nbformat_minor": 0,
  "metadata": {
    "colab": {
      "name": "Untitled1.ipynb",
      "provenance": []
    },
    "kernelspec": {
      "name": "python3",
      "display_name": "Python 3"
    },
    "accelerator": "GPU"
  },
  "cells": [
    {
      "cell_type": "code",
      "metadata": {
        "colab_type": "code",
        "id": "_kGrqVMfKhV2",
        "colab": {
          "base_uri": "https://localhost:8080/",
          "height": 599
        },
        "outputId": "45654eac-7a74-4fdb-b2cd-d669df411c9e"
      },
      "source": [
        "import tensorflow as tf\n",
        "import numpy as np\n",
        "import matplotlib.pyplot as plt\n",
        "import seaborn as sns\n",
        "import pandas as pd\n",
        "from sklearn.model_selection import train_test_split\n",
        "\n",
        "#와인 데이터셋 불러오기\n",
        "red = pd.read_csv('http://archive.ics.uci.edu/ml/machine-learning-databases/wine-quality/winequality-red.csv', sep=';')\n",
        "white = pd.read_csv('http://archive.ics.uci.edu/ml/machine-learning-databases/wine-quality/winequality-white.csv', sep=';')\n",
        "#red와 white의 두 데이터 프레임으로 분리되어있기 떄문에 반드시 두 데이터 프레임을 하나로 합쳐주어야 한다.\n",
        "red['type'] = 0\n",
        "white['type'] = 1\n",
        "wine = pd.concat([red, white])\n",
        "\n",
        "#white와 red 데이터 각각의 개수및 수치를 확인해 보아야 한다.\n",
        "plt.hist(wine['type'])\n",
        "plt.xticks([0,1], labels = ('red', 'white'))\n",
        "print(wine['type'].value_counts())\n",
        "plt.show()\n",
        "\n",
        "#red wine데이터가 더 3배가량 더 많기 때문에 비슷한 비율로 들어갈 수 있도록 랜덤하게 섞어야 한다.\n",
        "#그 전에 print(wine.info())를 진행해서 구성 정보의 속성을 파악해서 일치해야만 정규화를 진행할 수 있다.\n",
        "#아래 코드처럼 정규화를 진행해도 되지만 to_categorical()을 이용해도 된다.\n",
        "#단 to_categorical()을 이용할 떄의 주의 사항은 .shuffle을 하기 위해서는 pandas dataset로 바꿔주어야 한다는 것이다.\n",
        "wine_norm = (wine-wine.min()) / (wine.max()-wine.min())   #원-핫인코딩의 다른 방법\n",
        "#wine_data = tf.keras.utils.to_categorical(wine)\n",
        "#wine_data = pd.DataFrame(wine_data.reshape(37247301//13,13))\n",
        "#frac = 1이기 때문에 데이터의 전부를 샘플 데이터로 이용하기 위해 섞는다\n",
        "wine_shuffle = wine_norm.sample(frac = 1)\n",
        "wine_np = wine_shuffle.to_numpy()\n",
        "\n",
        "train_idx = int(len(wine_np)*0.8)\n",
        "train_x, train_y = wine_np[:train_idx, :-1], wine_np[:train_idx, -1]\n",
        "test_x, test_y  = wine_np[train_idx:, :-1], wine_np[train_idx:, -1]\n",
        "train_y = tf.keras.utils.to_categorical(train_y, num_classes = 2)\n",
        "test_y = tf.keras.utils.to_categorical(test_y, num_classes = 2)\n",
        "\n",
        "model = tf.keras.Sequential()\n",
        "model.add(tf.keras.layers.Dense(units=48, activation = 'relu', input_shape = (12,)))\n",
        "model.add(tf.keras.layers.Dense(units=24, activation = 'relu'))\n",
        "model.add(tf.keras.layers.Dense(units=12, activation = 'relu'))\n",
        "#마지막 레이어의 unit값을, 즉 뉴런의 수를 2로 설정해서 원-핫인코딩으로 변환한 정답의 차원의 수와 동일하게 해야 한다.\n",
        "model.add(tf.keras.layers.Dense(units = 2, activation = 'softmax'))\n",
        "\n",
        "model.compile(loss='categorical_crossentropy', optimizer = 'adam', metrics = ['accuracy'])\n",
        "\n",
        "model.summary()"
      ],
      "execution_count": 29,
      "outputs": [
        {
          "output_type": "stream",
          "text": [
            "1    4898\n",
            "0    1599\n",
            "Name: type, dtype: int64\n"
          ],
          "name": "stdout"
        },
        {
          "output_type": "display_data",
          "data": {
            "image/png": "[encoded data removed]",
            "text/plain": [
              "<Figure size 432x288 with 1 Axes>"
            ]
          },
          "metadata": {
            "tags": [],
            "needs_background": "light"
          }
        },
        {
          "output_type": "stream",
          "text": [
            "Model: \"sequential_13\"\n",
            "_________________________________________________________________\n",
            "Layer (type)                 Output Shape              Param #   \n",
            "=================================================================\n",
            "dense_52 (Dense)             (None, 48)                624       \n",
            "_________________________________________________________________\n",
            "dense_53 (Dense)             (None, 24)                1176      \n",
            "_________________________________________________________________\n",
            "dense_54 (Dense)             (None, 12)                300       \n",
            "_________________________________________________________________\n",
            "dense_55 (Dense)             (None, 2)                 26        \n",
            "=================================================================\n",
            "Total params: 2,126\n",
            "Trainable params: 2,126\n",
            "Non-trainable params: 0\n",
            "_________________________________________________________________\n"
          ],
          "name": "stdout"
        }
      ]
    },
    {
      "cell_type": "code",
      "metadata": {
        "id": "rGpH70CPE5p2",
        "colab_type": "code",
        "colab": {
          "base_uri": "https://localhost:8080/",
          "height": 897
        },
        "outputId": "6d29c955-712a-466b-9725-4a516b6e9e52"
      },
      "source": [
        "history = model.fit(train_x, train_y, epochs = 25, batch_size = 32, validation_split = 0.25)"
      ],
      "execution_count": 30,
      "outputs": [
        {
          "output_type": "stream",
          "text": [
            "Epoch 1/25\n",
            "122/122 [==============================] - 1s 4ms/step - loss: 0.3981 - accuracy: 0.8253 - val_loss: 0.1583 - val_accuracy: 0.9746\n",
            "Epoch 2/25\n",
            "122/122 [==============================] - 0s 3ms/step - loss: 0.0864 - accuracy: 0.9800 - val_loss: 0.0708 - val_accuracy: 0.9800\n",
            "Epoch 3/25\n",
            "122/122 [==============================] - 0s 3ms/step - loss: 0.0519 - accuracy: 0.9856 - val_loss: 0.0650 - val_accuracy: 0.9815\n",
            "Epoch 4/25\n",
            "122/122 [==============================] - 0s 3ms/step - loss: 0.0445 - accuracy: 0.9874 - val_loss: 0.0574 - val_accuracy: 0.9846\n",
            "Epoch 5/25\n",
            "122/122 [==============================] - 0s 3ms/step - loss: 0.0377 - accuracy: 0.9910 - val_loss: 0.0626 - val_accuracy: 0.9831\n",
            "Epoch 6/25\n",
            "122/122 [==============================] - 0s 3ms/step - loss: 0.0346 - accuracy: 0.9913 - val_loss: 0.0603 - val_accuracy: 0.9846\n",
            "Epoch 7/25\n",
            "122/122 [==============================] - 0s 3ms/step - loss: 0.0333 - accuracy: 0.9913 - val_loss: 0.0511 - val_accuracy: 0.9869\n",
            "Epoch 8/25\n",
            "122/122 [==============================] - 0s 3ms/step - loss: 0.0335 - accuracy: 0.9918 - val_loss: 0.0628 - val_accuracy: 0.9831\n",
            "Epoch 9/25\n",
            "122/122 [==============================] - 0s 3ms/step - loss: 0.0323 - accuracy: 0.9918 - val_loss: 0.0476 - val_accuracy: 0.9892\n",
            "Epoch 10/25\n",
            "122/122 [==============================] - 0s 3ms/step - loss: 0.0316 - accuracy: 0.9913 - val_loss: 0.0482 - val_accuracy: 0.9877\n",
            "Epoch 11/25\n",
            "122/122 [==============================] - 0s 3ms/step - loss: 0.0284 - accuracy: 0.9941 - val_loss: 0.0463 - val_accuracy: 0.9892\n",
            "Epoch 12/25\n",
            "122/122 [==============================] - 0s 3ms/step - loss: 0.0263 - accuracy: 0.9941 - val_loss: 0.0438 - val_accuracy: 0.9908\n",
            "Epoch 13/25\n",
            "122/122 [==============================] - 0s 3ms/step - loss: 0.0258 - accuracy: 0.9936 - val_loss: 0.0595 - val_accuracy: 0.9823\n",
            "Epoch 14/25\n",
            "122/122 [==============================] - 0s 3ms/step - loss: 0.0273 - accuracy: 0.9936 - val_loss: 0.0432 - val_accuracy: 0.9908\n",
            "Epoch 15/25\n",
            "122/122 [==============================] - 0s 3ms/step - loss: 0.0256 - accuracy: 0.9949 - val_loss: 0.0428 - val_accuracy: 0.9908\n",
            "Epoch 16/25\n",
            "122/122 [==============================] - 0s 3ms/step - loss: 0.0243 - accuracy: 0.9951 - val_loss: 0.0405 - val_accuracy: 0.9915\n",
            "Epoch 17/25\n",
            "122/122 [==============================] - 0s 3ms/step - loss: 0.0232 - accuracy: 0.9954 - val_loss: 0.0433 - val_accuracy: 0.9900\n",
            "Epoch 18/25\n",
            "122/122 [==============================] - 0s 3ms/step - loss: 0.0236 - accuracy: 0.9954 - val_loss: 0.0406 - val_accuracy: 0.9915\n",
            "Epoch 19/25\n",
            "122/122 [==============================] - 0s 3ms/step - loss: 0.0217 - accuracy: 0.9951 - val_loss: 0.0397 - val_accuracy: 0.9915\n",
            "Epoch 20/25\n",
            "122/122 [==============================] - 0s 3ms/step - loss: 0.0222 - accuracy: 0.9962 - val_loss: 0.0400 - val_accuracy: 0.9915\n",
            "Epoch 21/25\n",
            "122/122 [==============================] - 0s 3ms/step - loss: 0.0218 - accuracy: 0.9954 - val_loss: 0.0391 - val_accuracy: 0.9915\n",
            "Epoch 22/25\n",
            "122/122 [==============================] - 0s 3ms/step - loss: 0.0211 - accuracy: 0.9956 - val_loss: 0.0382 - val_accuracy: 0.9923\n",
            "Epoch 23/25\n",
            "122/122 [==============================] - 0s 3ms/step - loss: 0.0211 - accuracy: 0.9959 - val_loss: 0.0403 - val_accuracy: 0.9923\n",
            "Epoch 24/25\n",
            "122/122 [==============================] - 0s 3ms/step - loss: 0.0216 - accuracy: 0.9956 - val_loss: 0.0432 - val_accuracy: 0.9923\n",
            "Epoch 25/25\n",
            "122/122 [==============================] - 0s 3ms/step - loss: 0.0191 - accuracy: 0.9962 - val_loss: 0.0403 - val_accuracy: 0.9923\n"
          ],
          "name": "stdout"
        }
      ]
    },
    {
      "cell_type": "code",
      "metadata": {
        "id": "oYhwx5bcNvc3",
        "colab_type": "code",
        "colab": {
          "base_uri": "https://localhost:8080/",
          "height": 392
        },
        "outputId": "0bd53b78-2b9c-46fd-d852-f9b958ddb014"
      },
      "source": [
        "plt.figure(figsize = (12,6))\n",
        "plt.subplot(1,2,1)\n",
        "plt.plot(history.history['loss'], 'b-', label = 'loss')\n",
        "plt.plot(history.history['val_loss'], 'r--', label = 'val_loss')\n",
        "plt.xlabel('Epoch')\n",
        "plt.legend()\n",
        "plt.subplot(1,2,2)\n",
        "plt.plot(history.history['accuracy'], 'g-', label = 'accuracy')\n",
        "plt.plot(history.history['val_accuracy'], 'b--', label = 'val_accuracy')\n",
        "plt.xlabel('Epoch')\n",
        "plt.ylim(0.7,1)\n",
        "plt.legend()\n",
        "plt.show()"
      ],
      "execution_count": 32,
      "outputs": [
        {
          "output_type": "display_data",
          "data": {
            "image/png": "[encoded data removed]",
            "text/plain": [
              "<Figure size 864x432 with 2 Axes>"
            ]
          },
          "metadata": {
            "tags": [],
            "needs_background": "light"
          }
        }
      ]
    },
    {
      "cell_type": "code",
      "metadata": {
        "id": "OzRs0FH-Pp68",
        "colab_type": "code",
        "colab": {
          "base_uri": "https://localhost:8080/",
          "height": 52
        },
        "outputId": "60fa82ba-e3a7-496b-f9f4-ba8fe79032fa"
      },
      "source": [
        "model.evaluate(test_x, test_y)"
      ],
      "execution_count": 33,
      "outputs": [
        {
          "output_type": "stream",
          "text": [
            "41/41 [==============================] - 0s 2ms/step - loss: 0.0389 - accuracy: 0.9900\n"
          ],
          "name": "stdout"
        },
        {
          "output_type": "execute_result",
          "data": {
            "text/plain": [
              "[0.0389213003218174, 0.9900000095367432]"
            ]
          },
          "metadata": {
            "tags": []
          },
          "execution_count": 33
        }
      ]
    }
  ]
}