{
  "nbformat": 4,
  "nbformat_minor": 0,
  "metadata": {
    "colab": {
      "name": "LSTM+CNN - IMDB  분석하기(직접 전처리 없이)",
      "provenance": [],
      "collapsed_sections": []
    },
    "kernelspec": {
      "name": "python3",
      "display_name": "Python 3"
    }
  },
  "cells": [
    {
      "cell_type": "code",
      "metadata": {
        "id": "2H7Gn2WKqWMk",
        "colab_type": "code",
        "colab": {}
      },
      "source": [
        "import tensorflow as tf\n",
        "import numpy as np\n",
        "import pandas as pd\n",
        "import matplotlib.pyplot as plt"
      ],
      "execution_count": 1,
      "outputs": []
    },
    {
      "cell_type": "markdown",
      "metadata": {
        "id": "Tw9Ja9UPqzCn",
        "colab_type": "text"
      },
      "source": [
        "- IMDB는 인터넷 영화 데이터베이스로, 영화와 관련된 정보와 출연진 정보, 개봉 정보 등 다양한 데이터가 저장된 자료이다.\n",
        "- 이미 단어들에 대한 전처리를 마친 상태이기 떄문에 굳이 tokenizing을 적용할 필요가 없다.\n",
        "- 하지만 이는 매우 쉽게 접근이 가능한 데이터이고, 나중에 일반적으로 다루게될 데이터들은 보통 전처리가 되어 있지 않는 경우가 대부분이며, 직접 불필요한 'token'들을 처리해야 하는 경우가 대부분일 것이다.\n",
        "\n",
        "- 따라서 이 파일에서는 전처리된 상태를 이용하지만 다음에는 디코딩을 한 이후에 직접 preprocessing 과정또한 직접 시도해 보고자 한다."
      ]
    },
    {
      "cell_type": "code",
      "metadata": {
        "id": "EZcROspMqmd4",
        "colab_type": "code",
        "colab": {}
      },
      "source": [
        "seed = 0\n",
        "np.random.seed(seed)\n",
        "tf.random.set_seed(3)"
      ],
      "execution_count": 3,
      "outputs": []
    },
    {
      "cell_type": "code",
      "metadata": {
        "id": "ONmmCByAr7Tf",
        "colab_type": "code",
        "colab": {}
      },
      "source": [
        "(x_train, y_train), (x_test, y_test) = tf.keras.datasets.imdb.load_data(num_words = 5000)"
      ],
      "execution_count": 8,
      "outputs": []
    },
    {
      "cell_type": "code",
      "metadata": {
        "id": "MRRVdf7nu8ux",
        "colab_type": "code",
        "colab": {
          "base_uri": "https://localhost:8080/",
          "height": 33
        },
        "outputId": "800d7afa-3713-40a2-8d31-9d528f88f116"
      },
      "source": [
        "y_train[:10]"
      ],
      "execution_count": 10,
      "outputs": [
        {
          "output_type": "execute_result",
          "data": {
            "text/plain": [
              "array([1, 0, 0, 1, 0, 0, 1, 0, 1, 0])"
            ]
          },
          "metadata": {
            "tags": []
          },
          "execution_count": 10
        }
      ]
    },
    {
      "cell_type": "markdown",
      "metadata": {
        "id": "yfNVIn_hu--e",
        "colab_type": "text"
      },
      "source": [
        "- y데이터의 형태를 보면 충분히 알 수 있겠지만 이 분석은 감정 분석이기 때문에 0,1 두 값으로 분류가 된다. \n",
        "- 따라서 긍정이면 0, 부정이면 1로 예측하게 되는 것이다.\n",
        "- to_categorical을 적용해줄 필요가 없는 이유이다."
      ]
    },
    {
      "cell_type": "code",
      "metadata": {
        "id": "K2p1H7mWs8uW",
        "colab_type": "code",
        "colab": {
          "base_uri": "https://localhost:8080/",
          "height": 33
        },
        "outputId": "325db316-9f03-4dc1-9584-434184412b1f"
      },
      "source": [
        "x_train.shape, y_train.shape, x_test.shape, y_test.shape"
      ],
      "execution_count": 9,
      "outputs": [
        {
          "output_type": "execute_result",
          "data": {
            "text/plain": [
              "((25000,), (25000,), (25000,), (25000,))"
            ]
          },
          "metadata": {
            "tags": []
          },
          "execution_count": 9
        }
      ]
    },
    {
      "cell_type": "code",
      "metadata": {
        "id": "IzPkzx4dtIfA",
        "colab_type": "code",
        "colab": {}
      },
      "source": [
        "from keras.preprocessing import sequence\n",
        "x_train = sequence.pad_sequences(x_train, maxlen = 100)\n",
        "x_test = sequence.pad_sequences(x_test, maxlen = 100)\n"
      ],
      "execution_count": 13,
      "outputs": []
    },
    {
      "cell_type": "markdown",
      "metadata": {
        "id": "vdt7fJkvyW5u",
        "colab_type": "text"
      },
      "source": [
        "- model 설계에 앞서서 알아가야 할 점들이 있다.\n",
        "- 이전에 이미지 학습에 쓰였던 CNN 신경망에서 conv2D, maxpooling2D layer이 사용이 됬었다.\n",
        "- 그런데 이번에는 conv1, maxpooling1D layer를 사용할 예정이다.\n",
        "- convolution layer이 작동하는 원리는 stride값을 설정해 주면 그 크기만큼 일종의 mask가 순차적으로 움직이면서 계속해서 중첩해 학습을 하게 된다. 이 경우에는 이미지 데이터가 아닌 텍스트 데이터이기 떄문에 1차원의 데이터이고, 따라서 한차원 낮은 convolution layer과 maxpooling layer을 이용하게 되는 것이다."
      ]
    },
    {
      "cell_type": "code",
      "metadata": {
        "id": "Qg2H5xeCvPzD",
        "colab_type": "code",
        "colab": {
          "base_uri": "https://localhost:8080/",
          "height": 342
        },
        "outputId": "a98e7f17-2b55-4885-9c0c-04b1c32bf7ad"
      },
      "source": [
        "model = tf.keras.models.Sequential()\n",
        "model.add(tf.keras.layers.Embedding(5000, 100))\n",
        "model.add(tf.keras.layers.Dropout(rate = 0.3))\n",
        "model.add(tf.keras.layers.Conv1D(64, 5, padding = 'valid', activation = 'relu', strides = 1))\n",
        "model.add(tf.keras.layers.MaxPooling1D(pool_size = 4))\n",
        "model.add(tf.keras.layers.LSTM(55))\n",
        "model.add(tf.keras.layers.Dense(1, activation = 'sigmoid'))\n",
        "\n",
        "model.summary()"
      ],
      "execution_count": 16,
      "outputs": [
        {
          "output_type": "stream",
          "text": [
            "Model: \"sequential_2\"\n",
            "_________________________________________________________________\n",
            "Layer (type)                 Output Shape              Param #   \n",
            "=================================================================\n",
            "embedding_2 (Embedding)      (None, None, 100)         500000    \n",
            "_________________________________________________________________\n",
            "dropout_2 (Dropout)          (None, None, 100)         0         \n",
            "_________________________________________________________________\n",
            "conv1d_1 (Conv1D)            (None, None, 64)          32064     \n",
            "_________________________________________________________________\n",
            "max_pooling1d_1 (MaxPooling1 (None, None, 64)          0         \n",
            "_________________________________________________________________\n",
            "lstm_1 (LSTM)                (None, 55)                26400     \n",
            "_________________________________________________________________\n",
            "dense (Dense)                (None, 1)                 56        \n",
            "=================================================================\n",
            "Total params: 558,520\n",
            "Trainable params: 558,520\n",
            "Non-trainable params: 0\n",
            "_________________________________________________________________\n"
          ],
          "name": "stdout"
        }
      ]
    },
    {
      "cell_type": "code",
      "metadata": {
        "id": "yfcYm3sjwFHc",
        "colab_type": "code",
        "colab": {
          "base_uri": "https://localhost:8080/",
          "height": 667
        },
        "outputId": "527f27c0-3cc2-4b4e-ce26-d19024ad48c3"
      },
      "source": [
        "model.compile(loss = 'binary_crossentropy', optimizer = tf.keras.optimizers.Adam(), metrics = ['accuracy'])\n",
        "history = model.fit(x_train, y_train, validation_split = 0.2, epochs = 20)"
      ],
      "execution_count": 19,
      "outputs": [
        {
          "output_type": "stream",
          "text": [
            "Epoch 1/20\n",
            "625/625 [==============================] - 26s 42ms/step - loss: 0.1066 - accuracy: 0.9627 - val_loss: 0.4116 - val_accuracy: 0.8488\n",
            "Epoch 2/20\n",
            "625/625 [==============================] - 26s 42ms/step - loss: 0.0559 - accuracy: 0.9832 - val_loss: 0.6334 - val_accuracy: 0.8416\n",
            "Epoch 3/20\n",
            "625/625 [==============================] - 26s 42ms/step - loss: 0.0406 - accuracy: 0.9875 - val_loss: 0.6343 - val_accuracy: 0.8338\n",
            "Epoch 4/20\n",
            "625/625 [==============================] - 26s 42ms/step - loss: 0.0628 - accuracy: 0.9773 - val_loss: 0.5352 - val_accuracy: 0.8408\n",
            "Epoch 5/20\n",
            "625/625 [==============================] - 26s 42ms/step - loss: 0.0468 - accuracy: 0.9837 - val_loss: 0.6002 - val_accuracy: 0.8388\n",
            "Epoch 6/20\n",
            "625/625 [==============================] - 26s 42ms/step - loss: 0.0375 - accuracy: 0.9877 - val_loss: 0.6019 - val_accuracy: 0.8410\n",
            "Epoch 7/20\n",
            "625/625 [==============================] - 26s 42ms/step - loss: 0.0306 - accuracy: 0.9886 - val_loss: 0.7180 - val_accuracy: 0.8356\n",
            "Epoch 8/20\n",
            "625/625 [==============================] - 26s 42ms/step - loss: 0.0241 - accuracy: 0.9915 - val_loss: 0.7417 - val_accuracy: 0.8402\n",
            "Epoch 9/20\n",
            "625/625 [==============================] - 26s 42ms/step - loss: 0.0227 - accuracy: 0.9915 - val_loss: 0.8711 - val_accuracy: 0.8278\n",
            "Epoch 10/20\n",
            "625/625 [==============================] - 26s 42ms/step - loss: 0.0207 - accuracy: 0.9931 - val_loss: 0.8595 - val_accuracy: 0.8398\n",
            "Epoch 11/20\n",
            "625/625 [==============================] - 26s 42ms/step - loss: 0.0180 - accuracy: 0.9930 - val_loss: 0.8866 - val_accuracy: 0.8350\n",
            "Epoch 12/20\n",
            "625/625 [==============================] - 26s 42ms/step - loss: 0.0172 - accuracy: 0.9937 - val_loss: 0.8262 - val_accuracy: 0.8300\n",
            "Epoch 13/20\n",
            "625/625 [==============================] - 26s 42ms/step - loss: 0.0147 - accuracy: 0.9944 - val_loss: 0.8163 - val_accuracy: 0.8422\n",
            "Epoch 14/20\n",
            "625/625 [==============================] - 26s 42ms/step - loss: 0.0161 - accuracy: 0.9946 - val_loss: 0.7922 - val_accuracy: 0.8376\n",
            "Epoch 15/20\n",
            "625/625 [==============================] - 26s 42ms/step - loss: 0.0171 - accuracy: 0.9945 - val_loss: 0.7865 - val_accuracy: 0.8368\n",
            "Epoch 16/20\n",
            "625/625 [==============================] - 26s 42ms/step - loss: 0.0155 - accuracy: 0.9949 - val_loss: 0.8369 - val_accuracy: 0.8370\n",
            "Epoch 17/20\n",
            "625/625 [==============================] - 27s 43ms/step - loss: 0.0121 - accuracy: 0.9957 - val_loss: 1.0467 - val_accuracy: 0.8314\n",
            "Epoch 18/20\n",
            "625/625 [==============================] - 26s 42ms/step - loss: 0.0143 - accuracy: 0.9948 - val_loss: 0.8004 - val_accuracy: 0.8386\n",
            "Epoch 19/20\n",
            "625/625 [==============================] - 26s 42ms/step - loss: 0.0097 - accuracy: 0.9964 - val_loss: 0.9163 - val_accuracy: 0.8412\n",
            "Epoch 20/20\n",
            "625/625 [==============================] - 26s 42ms/step - loss: 0.0105 - accuracy: 0.9964 - val_loss: 0.9652 - val_accuracy: 0.8424\n"
          ],
          "name": "stdout"
        }
      ]
    },
    {
      "cell_type": "code",
      "metadata": {
        "id": "2yufKWx8xjS2",
        "colab_type": "code",
        "colab": {
          "base_uri": "https://localhost:8080/",
          "height": 50
        },
        "outputId": "0b657e6a-11d6-4220-9158-f4837ed588fb"
      },
      "source": [
        "model.evaluate(x_test, y_test)"
      ],
      "execution_count": 20,
      "outputs": [
        {
          "output_type": "stream",
          "text": [
            "782/782 [==============================] - 7s 9ms/step - loss: 1.0429 - accuracy: 0.8354\n"
          ],
          "name": "stdout"
        },
        {
          "output_type": "execute_result",
          "data": {
            "text/plain": [
              "[1.0429145097732544, 0.8353599905967712]"
            ]
          },
          "metadata": {
            "tags": []
          },
          "execution_count": 20
        }
      ]
    },
    {
      "cell_type": "markdown",
      "metadata": {
        "id": "INUtRyALzfD7",
        "colab_type": "text"
      },
      "source": [
        "### Accuracy = 83.53%"
      ]
    },
    {
      "cell_type": "code",
      "metadata": {
        "id": "-aWJICYbwjg0",
        "colab_type": "code",
        "colab": {
          "base_uri": "https://localhost:8080/",
          "height": 553
        },
        "outputId": "c1da1845-8790-4a72-f7f1-b6817d22a229"
      },
      "source": [
        "fig, axes = plt.subplots(1,2,figsize = (16,9))\n",
        "df = pd.DataFrame(history.history)\n",
        "axes[0].plot(df[['loss', 'val_loss']])\n",
        "axes[0].set_ylabel('loss')\n",
        "axes[1].plot(df[['accuracy', 'val_accuracy']])\n",
        "axes[1].set_ylabel('accuracy')"
      ],
      "execution_count": 21,
      "outputs": [
        {
          "output_type": "execute_result",
          "data": {
            "text/plain": [
              "Text(0, 0.5, 'accuracy')"
            ]
          },
          "metadata": {
            "tags": []
          },
          "execution_count": 21
        },
        {
          "output_type": "display_data",
          "data": {
            "image/png": "[encoded data removed]",
            "text/plain": [
              "<Figure size 1152x648 with 2 Axes>"
            ]
          },
          "metadata": {
            "tags": [],
            "needs_background": "light"
          }
        }
      ]
    },
    {
      "cell_type": "code",
      "metadata": {
        "id": "lvo-ckmsxYlH",
        "colab_type": "code",
        "colab": {
          "base_uri": "https://localhost:8080/",
          "height": 1000
        },
        "outputId": "bbe1a1c4-e7fa-4d27-ac16-60b17bb4cc55"
      },
      "source": [
        "correct, wrong = 0,0\n",
        "pred = model.predict(x_test)\n",
        "for i in range(0,len(x_test),100):\n",
        "  if abs(1-pred[i]) < abs(pred[i]):predict = 1\n",
        "  else:predict = 0\n",
        "  print('answer:{} predict:{}'.format(y_test[i], predict))\n",
        "  if y_test[i] == predict:correct+=1\n",
        "  else:wrong+=1\n",
        "print(correct, wrong)\n",
        "\n"
      ],
      "execution_count": 26,
      "outputs": [
        {
          "output_type": "stream",
          "text": [
            "answer:0 predict:0\n",
            "answer:1 predict:0\n",
            "answer:1 predict:1\n",
            "answer:1 predict:0\n",
            "answer:0 predict:0\n",
            "answer:1 predict:1\n",
            "answer:0 predict:0\n",
            "answer:1 predict:1\n",
            "answer:1 predict:1\n",
            "answer:0 predict:0\n",
            "answer:0 predict:0\n",
            "answer:0 predict:0\n",
            "answer:0 predict:0\n",
            "answer:1 predict:1\n",
            "answer:0 predict:0\n",
            "answer:1 predict:1\n",
            "answer:0 predict:0\n",
            "answer:0 predict:0\n",
            "answer:1 predict:1\n",
            "answer:0 predict:0\n",
            "answer:1 predict:1\n",
            "answer:1 predict:1\n",
            "answer:0 predict:0\n",
            "answer:0 predict:0\n",
            "answer:1 predict:1\n",
            "answer:0 predict:0\n",
            "answer:0 predict:0\n",
            "answer:0 predict:0\n",
            "answer:1 predict:1\n",
            "answer:0 predict:0\n",
            "answer:0 predict:0\n",
            "answer:1 predict:1\n",
            "answer:0 predict:0\n",
            "answer:0 predict:0\n",
            "answer:0 predict:1\n",
            "answer:0 predict:1\n",
            "answer:1 predict:1\n",
            "answer:0 predict:0\n",
            "answer:1 predict:1\n",
            "answer:1 predict:1\n",
            "answer:0 predict:0\n",
            "answer:0 predict:0\n",
            "answer:1 predict:1\n",
            "answer:1 predict:1\n",
            "answer:0 predict:0\n",
            "answer:1 predict:1\n",
            "answer:1 predict:1\n",
            "answer:1 predict:0\n",
            "answer:0 predict:0\n",
            "answer:1 predict:1\n",
            "answer:1 predict:1\n",
            "answer:0 predict:1\n",
            "answer:1 predict:1\n",
            "answer:1 predict:1\n",
            "answer:1 predict:1\n",
            "answer:1 predict:1\n",
            "answer:0 predict:0\n",
            "answer:0 predict:1\n",
            "answer:0 predict:0\n",
            "answer:1 predict:1\n",
            "answer:1 predict:1\n",
            "answer:1 predict:1\n",
            "answer:0 predict:0\n",
            "answer:0 predict:0\n",
            "answer:0 predict:1\n",
            "answer:0 predict:0\n",
            "answer:0 predict:0\n",
            "answer:0 predict:0\n",
            "answer:1 predict:0\n",
            "answer:1 predict:1\n",
            "answer:0 predict:0\n",
            "answer:0 predict:0\n",
            "answer:0 predict:0\n",
            "answer:1 predict:1\n",
            "answer:1 predict:1\n",
            "answer:1 predict:0\n",
            "answer:1 predict:1\n",
            "answer:1 predict:1\n",
            "answer:1 predict:1\n",
            "answer:0 predict:0\n",
            "answer:1 predict:1\n",
            "answer:0 predict:1\n",
            "answer:0 predict:0\n",
            "answer:1 predict:1\n",
            "answer:0 predict:0\n",
            "answer:0 predict:0\n",
            "answer:1 predict:1\n",
            "answer:1 predict:1\n",
            "answer:0 predict:0\n",
            "answer:1 predict:1\n",
            "answer:0 predict:1\n",
            "answer:1 predict:1\n",
            "answer:0 predict:1\n",
            "answer:0 predict:0\n",
            "answer:1 predict:1\n",
            "answer:1 predict:0\n",
            "answer:1 predict:1\n",
            "answer:1 predict:1\n",
            "answer:0 predict:0\n",
            "answer:0 predict:0\n",
            "answer:1 predict:1\n",
            "answer:1 predict:1\n",
            "answer:0 predict:0\n",
            "answer:1 predict:1\n",
            "answer:0 predict:0\n",
            "answer:0 predict:0\n",
            "answer:0 predict:0\n",
            "answer:0 predict:0\n",
            "answer:0 predict:0\n",
            "answer:1 predict:0\n",
            "answer:1 predict:1\n",
            "answer:1 predict:1\n",
            "answer:0 predict:0\n",
            "answer:1 predict:1\n",
            "answer:1 predict:1\n",
            "answer:0 predict:0\n",
            "answer:0 predict:1\n",
            "answer:0 predict:0\n",
            "answer:1 predict:1\n",
            "answer:1 predict:1\n",
            "answer:0 predict:0\n",
            "answer:1 predict:1\n",
            "answer:1 predict:0\n",
            "answer:0 predict:1\n",
            "answer:0 predict:0\n",
            "answer:0 predict:0\n",
            "answer:0 predict:1\n",
            "answer:0 predict:0\n",
            "answer:0 predict:0\n",
            "answer:1 predict:1\n",
            "answer:1 predict:1\n",
            "answer:1 predict:1\n",
            "answer:0 predict:0\n",
            "answer:1 predict:1\n",
            "answer:0 predict:0\n",
            "answer:0 predict:0\n",
            "answer:0 predict:0\n",
            "answer:0 predict:0\n",
            "answer:1 predict:1\n",
            "answer:0 predict:0\n",
            "answer:0 predict:1\n",
            "answer:1 predict:0\n",
            "answer:0 predict:0\n",
            "answer:0 predict:0\n",
            "answer:1 predict:1\n",
            "answer:0 predict:0\n",
            "answer:1 predict:1\n",
            "answer:0 predict:0\n",
            "answer:0 predict:0\n",
            "answer:1 predict:0\n",
            "answer:1 predict:0\n",
            "answer:0 predict:0\n",
            "answer:1 predict:1\n",
            "answer:1 predict:1\n",
            "answer:0 predict:0\n",
            "answer:0 predict:0\n",
            "answer:0 predict:0\n",
            "answer:1 predict:1\n",
            "answer:1 predict:1\n",
            "answer:1 predict:1\n",
            "answer:0 predict:1\n",
            "answer:0 predict:0\n",
            "answer:0 predict:1\n",
            "answer:1 predict:1\n",
            "answer:0 predict:0\n",
            "answer:1 predict:0\n",
            "answer:1 predict:1\n",
            "answer:1 predict:1\n",
            "answer:0 predict:0\n",
            "answer:1 predict:1\n",
            "answer:1 predict:1\n",
            "answer:1 predict:1\n",
            "answer:0 predict:0\n",
            "answer:0 predict:1\n",
            "answer:1 predict:1\n",
            "answer:1 predict:1\n",
            "answer:0 predict:0\n",
            "answer:0 predict:1\n",
            "answer:0 predict:0\n",
            "answer:0 predict:0\n",
            "answer:0 predict:0\n",
            "answer:1 predict:1\n",
            "answer:0 predict:0\n",
            "answer:1 predict:0\n",
            "answer:0 predict:1\n",
            "answer:0 predict:0\n",
            "answer:1 predict:1\n",
            "answer:0 predict:0\n",
            "answer:0 predict:0\n",
            "answer:0 predict:0\n",
            "answer:1 predict:1\n",
            "answer:0 predict:0\n",
            "answer:0 predict:0\n",
            "answer:1 predict:1\n",
            "answer:0 predict:0\n",
            "answer:1 predict:0\n",
            "answer:0 predict:0\n",
            "answer:0 predict:0\n",
            "answer:1 predict:1\n",
            "answer:0 predict:0\n",
            "answer:0 predict:0\n",
            "answer:0 predict:0\n",
            "answer:1 predict:1\n",
            "answer:1 predict:1\n",
            "answer:1 predict:1\n",
            "answer:0 predict:1\n",
            "answer:0 predict:0\n",
            "answer:0 predict:1\n",
            "answer:0 predict:0\n",
            "answer:1 predict:1\n",
            "answer:1 predict:1\n",
            "answer:0 predict:0\n",
            "answer:0 predict:1\n",
            "answer:1 predict:1\n",
            "answer:0 predict:0\n",
            "answer:0 predict:0\n",
            "answer:1 predict:1\n",
            "answer:0 predict:0\n",
            "answer:1 predict:1\n",
            "answer:1 predict:1\n",
            "answer:0 predict:0\n",
            "answer:0 predict:0\n",
            "answer:0 predict:0\n",
            "answer:0 predict:0\n",
            "answer:1 predict:1\n",
            "answer:1 predict:1\n",
            "answer:1 predict:1\n",
            "answer:1 predict:1\n",
            "answer:1 predict:1\n",
            "answer:1 predict:1\n",
            "answer:0 predict:0\n",
            "answer:0 predict:0\n",
            "answer:0 predict:1\n",
            "answer:1 predict:1\n",
            "answer:1 predict:1\n",
            "answer:0 predict:0\n",
            "answer:0 predict:0\n",
            "answer:1 predict:1\n",
            "answer:0 predict:0\n",
            "answer:0 predict:1\n",
            "answer:0 predict:1\n",
            "answer:1 predict:0\n",
            "answer:1 predict:0\n",
            "answer:1 predict:1\n",
            "answer:1 predict:1\n",
            "answer:1 predict:1\n",
            "answer:0 predict:1\n",
            "answer:0 predict:0\n",
            "answer:0 predict:0\n",
            "answer:1 predict:1\n",
            "210 40\n"
          ],
          "name": "stdout"
        }
      ]
    },
    {
      "cell_type": "code",
      "metadata": {
        "id": "gYOEXYfMzlbk",
        "colab_type": "code",
        "colab": {}
      },
      "source": [
        ""
      ],
      "execution_count": null,
      "outputs": []
    }
  ]
}