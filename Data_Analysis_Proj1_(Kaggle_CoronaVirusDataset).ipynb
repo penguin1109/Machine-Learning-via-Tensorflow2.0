{
  "nbformat": 4,
  "nbformat_minor": 0,
  "metadata": {
    "colab": {
      "name": "Data_Analysis_Proj1.(Kaggle_CoronaVirusDataset)",
      "provenance": [],
      "authorship_tag": "ABX9TyPHh9blujb8DERBlcQ9PFxe",
      "include_colab_link": true
    },
    "kernelspec": {
      "name": "python3",
      "display_name": "Python 3"
    }
  },
  "cells": [
    {
      "cell_type": "markdown",
      "metadata": {
        "id": "view-in-github",
        "colab_type": "text"
      },
      "source": [
        "<a href=\"https://colab.research.google.com/github/penguin1109/Machine-Learning-via-Tensorflow2.0/blob/master/Data_Analysis_Proj1_(Kaggle_CoronaVirusDataset).ipynb\" target=\"_parent\"><img src=\"https://colab.research.google.com/assets/colab-badge.svg\" alt=\"Open In Colab\"/></a>"
      ]
    },
    {
      "cell_type": "code",
      "metadata": {
        "id": "GS9Tq7wif-Wn",
        "colab_type": "code",
        "colab": {
          "base_uri": "https://localhost:8080/",
          "height": 162
        },
        "outputId": "1f4c3121-4c37-4b1b-cc33-b37790890f3a"
      },
      "source": [
        "!kaggle datasets download -d \"kimjihoo/coronavirusdataset\""
      ],
      "execution_count": null,
      "outputs": [
        {
          "output_type": "stream",
          "text": [
            "Traceback (most recent call last):\n",
            "  File \"/usr/local/bin/kaggle\", line 5, in <module>\n",
            "    from kaggle.cli import main\n",
            "  File \"/usr/local/lib/python2.7/dist-packages/kaggle/__init__.py\", line 23, in <module>\n",
            "    api.authenticate()\n",
            "  File \"/usr/local/lib/python2.7/dist-packages/kaggle/api/kaggle_api_extended.py\", line 146, in authenticate\n",
            "    self.config_file, self.config_dir))\n",
            "IOError: Could not find kaggle.json. Make sure it's located in /root/.kaggle. Or use the environment method.\n"
          ],
          "name": "stdout"
        }
      ]
    },
    {
      "cell_type": "markdown",
      "metadata": {
        "id": "fqjIp7jL6Fn-",
        "colab_type": "text"
      },
      "source": [
        "**Google Colab에 우리가 분석하고자 하는 데이터를 올리기 위해서 **\n",
        "\n",
        "\n",
        "```\n",
        "from google.colab import files\n",
        "files.upload()\n",
        "```\n",
        "를 하게 되면 우리가 올리고자하는 파일을 선택후 upload하여 분석과 학습이 가능하다.\n"
      ]
    },
    {
      "cell_type": "code",
      "metadata": {
        "id": "XQXfXQNfgbax",
        "colab_type": "code",
        "colab": {
          "resources": {
            "http://localhost:8080/nbextensions/google.colab/files.js": {
              "data": "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",
              "ok": true,
              "headers": [
                [
                  "content-type",
                  "application/javascript"
                ]
              ],
              "status": 200,
              "status_text": ""
            }
          },
          "base_uri": "https://localhost:8080/",
          "height": 294
        },
        "outputId": "d1942800-e672-4da9-ad9a-5cbc129043e6"
      },
      "source": [
        "!pip install kaggle\n",
        "from google.colab import files\n",
        "files.upload()"
      ],
      "execution_count": null,
      "outputs": [
        {
          "output_type": "stream",
          "text": [
            "Requirement already satisfied: kaggle in /usr/local/lib/python3.6/dist-packages (1.5.6)\n",
            "Requirement already satisfied: urllib3<1.25,>=1.21.1 in /usr/local/lib/python3.6/dist-packages (from kaggle) (1.24.3)\n",
            "Requirement already satisfied: python-slugify in /usr/local/lib/python3.6/dist-packages (from kaggle) (4.0.1)\n",
            "Requirement already satisfied: python-dateutil in /usr/local/lib/python3.6/dist-packages (from kaggle) (2.8.1)\n",
            "Requirement already satisfied: certifi in /usr/local/lib/python3.6/dist-packages (from kaggle) (2020.6.20)\n",
            "Requirement already satisfied: six>=1.10 in /usr/local/lib/python3.6/dist-packages (from kaggle) (1.15.0)\n",
            "Requirement already satisfied: tqdm in /usr/local/lib/python3.6/dist-packages (from kaggle) (4.41.1)\n",
            "Requirement already satisfied: requests in /usr/local/lib/python3.6/dist-packages (from kaggle) (2.23.0)\n",
            "Requirement already satisfied: text-unidecode>=1.3 in /usr/local/lib/python3.6/dist-packages (from python-slugify->kaggle) (1.3)\n",
            "Requirement already satisfied: chardet<4,>=3.0.2 in /usr/local/lib/python3.6/dist-packages (from requests->kaggle) (3.0.4)\n",
            "Requirement already satisfied: idna<3,>=2.5 in /usr/local/lib/python3.6/dist-packages (from requests->kaggle) (2.10)\n"
          ],
          "name": "stdout"
        },
        {
          "output_type": "display_data",
          "data": {
            "text/html": [
              "\n",
              "     <input type=\"file\" id=\"files-cebf9f73-ab15-4372-b298-3e1d00220a2d\" name=\"files[]\" multiple disabled\n",
              "        style=\"border:none\" />\n",
              "     <output id=\"result-cebf9f73-ab15-4372-b298-3e1d00220a2d\">\n",
              "      Upload widget is only available when the cell has been executed in the\n",
              "      current browser session. Please rerun this cell to enable.\n",
              "      </output>\n",
              "      <script src=\"/nbextensions/google.colab/files.js\"></script> "
            ],
            "text/plain": [
              "<IPython.core.display.HTML object>"
            ]
          },
          "metadata": {
            "tags": []
          }
        },
        {
          "output_type": "stream",
          "text": [
            "Saving kaggle.json to kaggle.json\n"
          ],
          "name": "stdout"
        },
        {
          "output_type": "execute_result",
          "data": {
            "text/plain": [
              "{'kaggle.json': b'{\"username\":\"penguin1109\",\"key\":\"b36d63ab89994b0c58d2bbc256bc4989\"}'}"
            ]
          },
          "metadata": {
            "tags": []
          },
          "execution_count": 4
        }
      ]
    },
    {
      "cell_type": "code",
      "metadata": {
        "id": "ayQnSjxQ55rZ",
        "colab_type": "code",
        "colab": {
          "resources": {
            "http://localhost:8080/nbextensions/google.colab/files.js": {
              "data": "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",
              "ok": true,
              "headers": [
                [
                  "content-type",
                  "application/javascript"
                ]
              ],
              "status": 200,
              "status_text": ""
            }
          },
          "base_uri": "https://localhost:8080/",
          "height": 114
        },
        "outputId": "d717d24b-56c6-4a95-d9c0-0e51cae06143"
      },
      "source": [
        "files.upload()"
      ],
      "execution_count": null,
      "outputs": [
        {
          "output_type": "display_data",
          "data": {
            "text/html": [
              "\n",
              "     <input type=\"file\" id=\"files-881d5349-248e-4bf6-bf8b-5f904f4cd783\" name=\"files[]\" multiple disabled\n",
              "        style=\"border:none\" />\n",
              "     <output id=\"result-881d5349-248e-4bf6-bf8b-5f904f4cd783\">\n",
              "      Upload widget is only available when the cell has been executed in the\n",
              "      current browser session. Please rerun this cell to enable.\n",
              "      </output>\n",
              "      <script src=\"/nbextensions/google.colab/files.js\"></script> "
            ],
            "text/plain": [
              "<IPython.core.display.HTML object>"
            ]
          },
          "metadata": {
            "tags": []
          }
        },
        {
          "output_type": "stream",
          "text": [
            "Saving Case.csv to Case.csv\n"
          ],
          "name": "stdout"
        },
        {
          "output_type": "execute_result",
          "data": {
            "text/plain": [
              "{'Case.csv': b\" case_id,province,city,group,infection_case,confirmed,latitude,longitude\\r\\n1000001,Seoul,Yongsan-gu,TRUE,Itaewon Clubs,139,37.538621,126.992652\\r\\n1000002,Seoul,Gwanak-gu,TRUE,Richway,119,37.48208,126.901384\\r\\n1000003,Seoul,Guro-gu,TRUE,Guro-gu Call Center,95,37.508163,126.884387\\r\\n1000004,Seoul,Yangcheon-gu,TRUE,Yangcheon Table Tennis Club,43,37.546061,126.874209\\r\\n1000005,Seoul,Dobong-gu,TRUE,Day Care Center,43,37.679422,127.044374\\r\\n1000006,Seoul,Guro-gu,TRUE,Manmin Central Church,41,37.481059,126.894343\\r\\n1000007,Seoul,from other city,TRUE,SMR Newly Planted Churches Group,36,-,-\\r\\n1000008,Seoul,Dongdaemun-gu,TRUE,Dongan Church,17,37.592888,127.056766\\r\\n1000009,Seoul,from other city,TRUE,Coupang Logistics Center,25,-,-\\r\\n1000010,Seoul,Gwanak-gu,TRUE,Wangsung Church,30,37.481735,126.930121\\r\\n1000011,Seoul,Eunpyeong-gu,TRUE,Eunpyeong St. Mary's Hospital,14,37.63369,126.9165\\r\\n1000012,Seoul,Seongdong-gu,TRUE,Seongdong-gu APT,13,37.55713,127.0403\\r\\n1000013,Seoul,Jongno-gu,TRUE,Jongno Community Center,10,37.57681,127.006\\r\\n1000014,Seoul,Gangnam-gu,TRUE,Samsung Medical Center,7,37.48825,127.08559\\r\\n1000015,Seoul,Jung-gu,TRUE,Jung-gu Fashion Company,7,37.562405,126.984377\\r\\n1000016,Seoul,Seodaemun-gu,TRUE,Yeonana News Class,5,37.558147,126.943799\\r\\n1000017,Seoul,Jongno-gu,TRUE,Korea Campus Crusade of Christ,7,37.594782,126.968022\\r\\n1000018,Seoul,Gangnam-gu,TRUE,Gangnam Yeoksam-dong gathering,6,-,-\\r\\n1000019,Seoul,from other city,TRUE,Daejeon door-to-door sales,1,-,-\\r\\n1000020,Seoul,Geumcheon-gu,TRUE,Geumcheon-gu rice milling machine manufacture,6,-,-\\r\\n1000021,Seoul,from other city,TRUE,Shincheonji Church,8,-,-\\r\\n1000022,Seoul,from other city,TRUE,Guri Collective Infection,5,-,-\\r\\n1000023,Seoul,Jung-gu,TRUE,KB Life Insurance,13,37.560899,126.966998\\r\\n1000024,Seoul,Yeongdeungpo-gu,TRUE,Yeongdeungpo Learning Institute,3,37.520846,126.931278\\r\\n1000025,Seoul,Gangnam-gu,TRUE,Gangnam Dongin Church,1,37.522331,127.057388\\r\\n1000026,Seoul,Yangcheon-gu,TRUE,Biblical Language study meeting,3,37.524623,126.843118\\r\\n1000027,Seoul,Seocho-gu,TRUE,Seocho Family,5,-,-\\r\\n1000028,Seoul,from other city,TRUE,Anyang Gunpo Pastors Group,1,-,-\\r\\n1000029,Seoul,Gangnam-gu,TRUE,Samsung Fire & Marine Insurance,4,37.498279,127.030139\\r\\n1000030,Seoul,Gangseo-gu,TRUE,SJ Investment Call Center,0,37.559649,126.835102\\r\\n1000031,Seoul,from other city,TRUE,Yongin Brothers,4,-,-\\r\\n1000032,Seoul,Jung-gu,TRUE,Seoul City Hall Station safety worker,3,37.565699,126.977079\\r\\n1000033,Seoul,from other city,TRUE,Uiwang Logistics Center,2,-,-\\r\\n1000034,Seoul,-,TRUE,Orange Life,1,-,-\\r\\n1000035,Seoul,Guro-gu,TRUE,Daezayeon Korea,3,37.486837,126.893163\\r\\n1000036,Seoul,-,FALSE,overseas inflow,298,-,-\\r\\n1000037,Seoul,-,FALSE,contact with patient,162,-,-\\r\\n1000038,Seoul,-,FALSE,etc,100,-,-\\r\\n1100001,Busan,Dongnae-gu,TRUE,Onchun Church,39,35.21628,129.0771\\r\\n1100002,Busan,from other city,TRUE,Shincheonji Church,12,-,-\\r\\n1100003,Busan,Suyeong-gu,TRUE,Suyeong-gu Kindergarten,5,35.16708,129.1124\\r\\n1100004,Busan,Haeundae-gu,TRUE,Haeundae-gu Catholic Church,6,35.20599,129.1256\\r\\n1100005,Busan,Jin-gu,TRUE,Jin-gu Academy,4,35.17371,129.0633\\r\\n1100006,Busan,from other city,TRUE,Itaewon Clubs,4,-,-\\r\\n1100007,Busan,from other city,TRUE,Cheongdo Daenam Hospital,1,-,-\\r\\n1100008,Busan,-,FALSE,overseas inflow,36,-,-\\r\\n1100009,Busan,-,FALSE,contact with patient,19,-,-\\r\\n1100010,Busan,-,FALSE,etc,30,-,-\\r\\n1200001,Daegu,Nam-gu,TRUE,Shincheonji Church,4511,35.84008,128.5667\\r\\n1200002,Daegu,Dalseong-gun,TRUE,Second Mi-Ju Hospital,196,35.857375,128.466651\\r\\n1200003,Daegu,Seo-gu,TRUE,Hansarang Convalescent Hospital,124,35.885592,128.556649\\r\\n1200004,Daegu,Dalseong-gun,TRUE,Daesil Convalescent Hospital,101,35.857393,128.466653\\r\\n1200005,Daegu,Dong-gu,TRUE,Fatima Hospital,39,35.88395,128.624059\\r\\n1200006,Daegu,from other city,TRUE,Itaewon Clubs,2,-,-\\r\\n1200007,Daegu,from other city,TRUE,Cheongdo Daenam Hospital,2,-,-\\r\\n1200008,Daegu,-,FALSE,overseas inflow,41,-,-\\r\\n1200009,Daegu,-,FALSE,contact with patient,917,-,-\\r\\n1200010,Daegu,-,FALSE,etc,747,-,-\\r\\n1300001,Gwangju,Dong-gu,TRUE,Gwangneuksa Temple,5,35.136035,126.956405\\r\\n1300002,Gwangju,from other city,TRUE,Shincheonji Church,9,-,-\\r\\n1300003,Gwangju,-,FALSE,overseas inflow,23,-,-\\r\\n1300004,Gwangju,-,FALSE,contact with patient,5,-,-\\r\\n1300005,Gwangju,-,FALSE,etc,1,-,-\\r\\n1400001,Incheon,from other city,TRUE,Itaewon Clubs,53,-,-\\r\\n1400002,Incheon,from other city,TRUE,Coupang Logistics Center,42,-,-\\r\\n1400003,Incheon,from other city,TRUE,Guro-gu Call Center,20,-,-\\r\\n1400004,Incheon,from other city,TRUE,Shincheonji Church,2,-,-\\r\\n1400005,Incheon,-,FALSE,overseas inflow,68,-,-\\r\\n1400006,Incheon,-,FALSE,contact with patient,6,-,-\\r\\n1400007,Incheon,-,FALSE,etc,11,-,-\\r\\n1500001,Daejeon,-,TRUE,Door-to-door sales in Daejeon,55,-,-\\r\\n1500002,Daejeon,Seo-gu,TRUE,Dunsan Electronics Town,13,36.3400973,127.3927099\\r\\n1500003,Daejeon,Seo-gu,TRUE,Orange Town,7,36.3398739,127.3819744\\r\\n1500004,Daejeon,Seo-gu,TRUE,Dreaming Church,4,36.346869,127.368594\\r\\n1500005,Daejeon,Seo-gu,TRUE,Korea Forest Engineer Institute,3,36.358123,127.388856\\r\\n1500006,Daejeon,from other city,TRUE,Shincheonji Church,2,-,-\\r\\n1500007,Daejeon,from other city,TRUE,Seosan-si Laboratory,2,-,-\\r\\n1500008,Daejeon,-,FALSE,overseas inflow,15,-,-\\r\\n1500009,Daejeon,-,FALSE,contact with patient,15,-,-\\r\\n1500010,Daejeon,-,FALSE,etc,15,-,-\\r\\n1600001,Ulsan,from other city,TRUE,Shincheonji Church,16,-,-\\r\\n1600002,Ulsan,-,FALSE,overseas inflow,25,-,-\\r\\n1600003,Ulsan,-,FALSE,contact with patient,3,-,-\\r\\n1600004,Ulsan,-,FALSE,etc,7,-,-\\r\\n1700001,Sejong,Sejong,TRUE,Ministry of Oceans and Fisheries,31,36.504713,127.265172\\r\\n1700002,Sejong,Sejong,TRUE,gym facility in Sejong,8,36.48025,127.289\\r\\n1700003,Sejong,from other city,TRUE,Shincheonji Church,1,-,-\\r\\n1700004,Sejong,-,FALSE,overseas inflow,5,-,-\\r\\n1700005,Sejong,-,FALSE,contact with patient,3,-,-\\r\\n1700006,Sejong,-,FALSE,etc,1,-,-\\r\\n2000001,Gyeonggi-do,Seongnam-si,TRUE,River of Grace Community Church,67,37.455687,127.161627\\r\\n2000002,Gyeonggi-do,Bucheon-si,TRUE,Coupang Logistics Center,67,37.530579,126.775254\\r\\n2000003,Gyeonggi-do,from other city,TRUE,Itaewon Clubs,59,-,-\\r\\n2000004,Gyeonggi-do,from other city,TRUE,Richway,58,-,-\\r\\n2000005,Gyeonggi-do,Uijeongbu-si,TRUE,Uijeongbu St. Mary\\xe2\\x80\\x99s Hospital,50,37.758635,127.077716\\r\\n2000006,Gyeonggi-do,from other city,TRUE,Guro-gu Call Center,50,-,-\\r\\n2000007,Gyeonggi-do,from other city,TRUE,Shincheonji Church,29,-,-\\r\\n2000008,Gyeonggi-do,from other city,TRUE,Yangcheon Table Tennis Club,28,-,-\\r\\n2000009,Gyeonggi-do,-,TRUE,SMR Newly Planted Churches Group,25,-,-\\r\\n2000010,Gyeonggi-do,Seongnam-si,TRUE,Bundang Jesaeng Hospital,22,37.38833,127.1218\\r\\n2000011,Gyeonggi-do,Anyang-si,TRUE,Anyang Gunpo Pastors Group,22,37.381784,126.93615\\r\\n2000012,Gyeonggi-do,Suwon-si,TRUE,Lotte Confectionery logistics center,15,37.287356,127.013827\\r\\n2000013,Gyeonggi-do,Anyang-si,TRUE,Lord Glory Church,17,37.403722,126.954939\\r\\n2000014,Gyeonggi-do,Suwon-si,TRUE,Suwon Saeng Myeong Saem Church,10,37.2376,127.0517\\r\\n2000015,Gyeonggi-do,from other city,TRUE,Korea Campus Crusade of Christ,7,-,-\\r\\n2000016,Gyeonggi-do,from other city,TRUE,Geumcheon-gu rice milling machine manufacture,6,-,-\\r\\n2000017,Gyeonggi-do,from other city,TRUE,Wangsung Church,6,-,-\\r\\n2000018,Gyeonggi-do,from other city,TRUE,Seoul City Hall Station safety worker,5,-,-\\r\\n2000019,Gyeonggi-do,Seongnam-si,TRUE,Seongnam neighbors gathering,5,-,-\\r\\n2000020,Gyeonggi-do,-,FALSE,overseas inflow,305,-,-\\r\\n2000021,Gyeonggi-do,-,FALSE,contact with patient,63,-,-\\r\\n2000022,Gyeonggi-do,-,FALSE,etc,84,-,-\\r\\n3000001,Gangwon-do,from other city,TRUE,Shincheonji Church,17,-,-\\r\\n3000002,Gangwon-do,from other city,TRUE,Uijeongbu St. Mary\\xe2\\x80\\x99s Hospital,10,-,-\\r\\n3000003,Gangwon-do,Wonju-si,TRUE,Wonju-si Apartments,4,37.342762,127.983815\\r\\n3000004,Gangwon-do,from other city,TRUE,Richway,4,-,-\\r\\n3000005,Gangwon-do,from other city,TRUE,Geumcheon-gu rice milling machine manufacture,4,-,-\\r\\n3000006,Gangwon-do,-,FALSE,overseas inflow,16,-,-\\r\\n3000007,Gangwon-do,-,FALSE,contact with patient,0,-,-\\r\\n3000008,Gangwon-do,-,FALSE,etc,7,-,-\\r\\n4000001,Chungcheongbuk-do,Goesan-gun,TRUE,Goesan-gun Jangyeon-myeon,11,36.82422,127.9552\\r\\n4000002,Chungcheongbuk-do,from other city,TRUE,Itaewon Clubs,9,-,-\\r\\n4000003,Chungcheongbuk-do,from other city,TRUE,Guro-gu Call Center,2,-,-\\r\\n4000004,Chungcheongbuk-do,from other city,TRUE,Shincheonji Church,6,-,-\\r\\n4000005,Chungcheongbuk-do,-,FALSE,overseas inflow,13,-,-\\r\\n4000006,Chungcheongbuk-do,-,FALSE,contact with patient,8,-,-\\r\\n4000007,Chungcheongbuk-do,-,FALSE,etc,11,-,-\\r\\n4100001,Chungcheongnam-do,Cheonan-si,TRUE,gym facility in Cheonan,103,36.81503,127.1139\\r\\n4100002,Chungcheongnam-do,from other city,TRUE,Door-to-door sales in Daejeon,10,-,-\\r\\n4100003,Chungcheongnam-do,Seosan-si,TRUE,Seosan-si Laboratory,9,37.000354,126.354443\\r\\n4100004,Chungcheongnam-do,from other city,TRUE,Richway,3,-,-\\r\\n4100005,Chungcheongnam-do,from other city,TRUE,Eunpyeong-Boksagol culture center,3,-,-\\r\\n4100006,Chungcheongnam-do,-,FALSE,overseas inflow,16,-,-\\r\\n4100007,Chungcheongnam-do,-,FALSE,contact with patient,2,-,-\\r\\n4100008,Chungcheongnam-do,-,FALSE,etc,12,-,-\\r\\n5000001,Jeollabuk-do,from other city,TRUE,Itaewon Clubs,2,-,-\\r\\n5000002,Jeollabuk-do,from other city,TRUE,Door-to-door sales in Daejeon,3,-,-\\r\\n5000003,Jeollabuk-do,from other city,TRUE,Shincheonji Church,1,-,-\\r\\n5000004,Jeollabuk-do,-,FALSE,overseas inflow,12,-,-\\r\\n5000005,Jeollabuk-do,-,FALSE,etc,5,-,-\\r\\n5100001,Jeollanam-do,Muan-gun,TRUE,Manmin Central Church,2,35.078825,126.316746\\r\\n5100002,Jeollanam-do,from other city,TRUE,Shincheonji Church,1,-,-\\r\\n5100003,Jeollanam-do,-,FALSE,overseas inflow,14,-,-\\r\\n5100004,Jeollanam-do,-,FALSE,contact with patient,4,-,-\\r\\n5100005,Jeollanam-do,-,FALSE,etc,4,-,-\\r\\n6000001,Gyeongsangbuk-do,from other city,TRUE,Shincheonji Church,566,-,-\\r\\n6000002,Gyeongsangbuk-do,Cheongdo-gun,TRUE,Cheongdo Daenam Hospital,119,35.64887,128.7368\\r\\n6000003,Gyeongsangbuk-do,Bonghwa-gun,TRUE,Bonghwa Pureun Nursing Home,68,36.92757,128.9099\\r\\n6000004,Gyeongsangbuk-do,Gyeongsan-si,TRUE,Gyeongsan Seorin Nursing Home,66,35.782149,128.801498\\r\\n6000005,Gyeongsangbuk-do,from other city,TRUE,Pilgrimage to Israel,41,-,-\\r\\n6000006,Gyeongsangbuk-do,Yechun-gun,TRUE,Yechun-gun,40,36.646845,128.437416\\r\\n6000007,Gyeongsangbuk-do,Chilgok-gun,TRUE,Milal Shelter,36,36.0581,128.4941\\r\\n6000008,Gyeongsangbuk-do,Gyeongsan-si,TRUE,Gyeongsan Jeil Silver Town,17,35.84819,128.7621\\r\\n6000009,Gyeongsangbuk-do,Gyeongsan-si,TRUE,Gyeongsan Cham Joeun Community Center,16,35.82558,128.7373\\r\\n6000010,Gyeongsangbuk-do,Gumi-si,TRUE,Gumi Elim Church,10,-,-\\r\\n6000011,Gyeongsangbuk-do,-,FALSE,overseas inflow,22,-,-\\r\\n6000012,Gyeongsangbuk-do,-,FALSE,contact with patient,190,-,-\\r\\n6000013,Gyeongsangbuk-do,-,FALSE,etc,133,-,-\\r\\n6100001,Gyeongsangnam-do,from other city,TRUE,Shincheonji Church,32,-,-\\r\\n6100002,Gyeongsangnam-do,Geochang-gun,TRUE,Geochang Church,10,35.68556,127.9127\\r\\n6100003,Gyeongsangnam-do,Jinju-si,TRUE,Wings Tower,9,35.164845,128.126969\\r\\n6100004,Gyeongsangnam-do,Geochang-gun,TRUE,Geochang-gun Woongyang-myeon,8,35.805681,127.917805\\r\\n6100005,Gyeongsangnam-do,Changwon-si,TRUE,Hanmaeum Changwon Hospital,7,35.22115,128.6866\\r\\n6100006,Gyeongsangnam-do,Changnyeong-gun,TRUE,Changnyeong Coin Karaoke,7,35.54127,128.5008\\r\\n6100007,Gyeongsangnam-do,Yangsan-si,TRUE,Soso Seowon,3,35.338811,129.017508\\r\\n6100008,Gyeongsangnam-do,from other city,TRUE,Itaewon Clubs,2,-,-\\r\\n6100009,Gyeongsangnam-do,from other city,TRUE,Onchun Church,2,-,-\\r\\n6100010,Gyeongsangnam-do,-,FALSE,overseas inflow,26,-,-\\r\\n6100011,Gyeongsangnam-do,-,FALSE,contact with patient,6,-,-\\r\\n6100012,Gyeongsangnam-do,-,FALSE,etc,20,-,-\\r\\n7000001,Jeju-do,-,FALSE,overseas inflow,14,-,-\\r\\n7000002,Jeju-do,-,FALSE,contact with patient,0,-,-\\r\\n7000003,Jeju-do,-,FALSE,etc,4,-,-\\r\\n7000004,Jeju-do,from other city,TRUE,Itaewon Clubs,1,-,-\"}"
            ]
          },
          "metadata": {
            "tags": []
          },
          "execution_count": 5
        }
      ]
    },
    {
      "cell_type": "code",
      "metadata": {
        "id": "NQvyKQ4ggg4c",
        "colab_type": "code",
        "colab": {}
      },
      "source": [
        "!mkdir -p ~/.kaggle\n",
        "!cp kaggle.json ~/.kaggle/"
      ],
      "execution_count": null,
      "outputs": []
    },
    {
      "cell_type": "code",
      "metadata": {
        "id": "wOuwSpXMgovr",
        "colab_type": "code",
        "colab": {}
      },
      "source": [
        "!kaggle datasets download -d \"kimjihoo/coronavirusdataset\""
      ],
      "execution_count": null,
      "outputs": []
    },
    {
      "cell_type": "code",
      "metadata": {
        "id": "ydcydz7TguiJ",
        "colab_type": "code",
        "colab": {}
      },
      "source": [
        "'chmod 600 /root/.kaggle/kaggle.json'"
      ],
      "execution_count": null,
      "outputs": []
    },
    {
      "cell_type": "code",
      "metadata": {
        "id": "W2fyeuIAgyNr",
        "colab_type": "code",
        "colab": {
          "base_uri": "https://localhost:8080/",
          "height": 405
        },
        "outputId": "ce5934f8-4719-4732-ca25-bc24c0028285"
      },
      "source": [
        "import pandas as pd\n",
        "df = pd.read_csv(\"/content/Case.csv\")\n",
        "df"
      ],
      "execution_count": null,
      "outputs": [
        {
          "output_type": "execute_result",
          "data": {
            "text/html": [
              "<div>\n",
              "<style scoped>\n",
              "    .dataframe tbody tr th:only-of-type {\n",
              "        vertical-align: middle;\n",
              "    }\n",
              "\n",
              "    .dataframe tbody tr th {\n",
              "        vertical-align: top;\n",
              "    }\n",
              "\n",
              "    .dataframe thead th {\n",
              "        text-align: right;\n",
              "    }\n",
              "</style>\n",
              "<table border=\"1\" class=\"dataframe\">\n",
              "  <thead>\n",
              "    <tr style=\"text-align: right;\">\n",
              "      <th></th>\n",
              "      <th>case_id</th>\n",
              "      <th>province</th>\n",
              "      <th>city</th>\n",
              "      <th>group</th>\n",
              "      <th>infection_case</th>\n",
              "      <th>confirmed</th>\n",
              "      <th>latitude</th>\n",
              "      <th>longitude</th>\n",
              "    </tr>\n",
              "  </thead>\n",
              "  <tbody>\n",
              "    <tr>\n",
              "      <th>0</th>\n",
              "      <td>1000001</td>\n",
              "      <td>Seoul</td>\n",
              "      <td>Yongsan-gu</td>\n",
              "      <td>True</td>\n",
              "      <td>Itaewon Clubs</td>\n",
              "      <td>139</td>\n",
              "      <td>37.538621</td>\n",
              "      <td>126.992652</td>\n",
              "    </tr>\n",
              "    <tr>\n",
              "      <th>1</th>\n",
              "      <td>1000002</td>\n",
              "      <td>Seoul</td>\n",
              "      <td>Gwanak-gu</td>\n",
              "      <td>True</td>\n",
              "      <td>Richway</td>\n",
              "      <td>119</td>\n",
              "      <td>37.48208</td>\n",
              "      <td>126.901384</td>\n",
              "    </tr>\n",
              "    <tr>\n",
              "      <th>2</th>\n",
              "      <td>1000003</td>\n",
              "      <td>Seoul</td>\n",
              "      <td>Guro-gu</td>\n",
              "      <td>True</td>\n",
              "      <td>Guro-gu Call Center</td>\n",
              "      <td>95</td>\n",
              "      <td>37.508163</td>\n",
              "      <td>126.884387</td>\n",
              "    </tr>\n",
              "    <tr>\n",
              "      <th>3</th>\n",
              "      <td>1000004</td>\n",
              "      <td>Seoul</td>\n",
              "      <td>Yangcheon-gu</td>\n",
              "      <td>True</td>\n",
              "      <td>Yangcheon Table Tennis Club</td>\n",
              "      <td>43</td>\n",
              "      <td>37.546061</td>\n",
              "      <td>126.874209</td>\n",
              "    </tr>\n",
              "    <tr>\n",
              "      <th>4</th>\n",
              "      <td>1000005</td>\n",
              "      <td>Seoul</td>\n",
              "      <td>Dobong-gu</td>\n",
              "      <td>True</td>\n",
              "      <td>Day Care Center</td>\n",
              "      <td>43</td>\n",
              "      <td>37.679422</td>\n",
              "      <td>127.044374</td>\n",
              "    </tr>\n",
              "    <tr>\n",
              "      <th>...</th>\n",
              "      <td>...</td>\n",
              "      <td>...</td>\n",
              "      <td>...</td>\n",
              "      <td>...</td>\n",
              "      <td>...</td>\n",
              "      <td>...</td>\n",
              "      <td>...</td>\n",
              "      <td>...</td>\n",
              "    </tr>\n",
              "    <tr>\n",
              "      <th>169</th>\n",
              "      <td>6100012</td>\n",
              "      <td>Gyeongsangnam-do</td>\n",
              "      <td>-</td>\n",
              "      <td>False</td>\n",
              "      <td>etc</td>\n",
              "      <td>20</td>\n",
              "      <td>-</td>\n",
              "      <td>-</td>\n",
              "    </tr>\n",
              "    <tr>\n",
              "      <th>170</th>\n",
              "      <td>7000001</td>\n",
              "      <td>Jeju-do</td>\n",
              "      <td>-</td>\n",
              "      <td>False</td>\n",
              "      <td>overseas inflow</td>\n",
              "      <td>14</td>\n",
              "      <td>-</td>\n",
              "      <td>-</td>\n",
              "    </tr>\n",
              "    <tr>\n",
              "      <th>171</th>\n",
              "      <td>7000002</td>\n",
              "      <td>Jeju-do</td>\n",
              "      <td>-</td>\n",
              "      <td>False</td>\n",
              "      <td>contact with patient</td>\n",
              "      <td>0</td>\n",
              "      <td>-</td>\n",
              "      <td>-</td>\n",
              "    </tr>\n",
              "    <tr>\n",
              "      <th>172</th>\n",
              "      <td>7000003</td>\n",
              "      <td>Jeju-do</td>\n",
              "      <td>-</td>\n",
              "      <td>False</td>\n",
              "      <td>etc</td>\n",
              "      <td>4</td>\n",
              "      <td>-</td>\n",
              "      <td>-</td>\n",
              "    </tr>\n",
              "    <tr>\n",
              "      <th>173</th>\n",
              "      <td>7000004</td>\n",
              "      <td>Jeju-do</td>\n",
              "      <td>from other city</td>\n",
              "      <td>True</td>\n",
              "      <td>Itaewon Clubs</td>\n",
              "      <td>1</td>\n",
              "      <td>-</td>\n",
              "      <td>-</td>\n",
              "    </tr>\n",
              "  </tbody>\n",
              "</table>\n",
              "<p>174 rows × 8 columns</p>\n",
              "</div>"
            ],
            "text/plain": [
              "      case_id          province  ...   latitude   longitude\n",
              "0     1000001             Seoul  ...  37.538621  126.992652\n",
              "1     1000002             Seoul  ...   37.48208  126.901384\n",
              "2     1000003             Seoul  ...  37.508163  126.884387\n",
              "3     1000004             Seoul  ...  37.546061  126.874209\n",
              "4     1000005             Seoul  ...  37.679422  127.044374\n",
              "..        ...               ...  ...        ...         ...\n",
              "169   6100012  Gyeongsangnam-do  ...          -           -\n",
              "170   7000001           Jeju-do  ...          -           -\n",
              "171   7000002           Jeju-do  ...          -           -\n",
              "172   7000003           Jeju-do  ...          -           -\n",
              "173   7000004           Jeju-do  ...          -           -\n",
              "\n",
              "[174 rows x 8 columns]"
            ]
          },
          "metadata": {
            "tags": []
          },
          "execution_count": 7
        }
      ]
    },
    {
      "cell_type": "markdown",
      "metadata": {
        "id": "Kzy-t8-nqN9z",
        "colab_type": "text"
      },
      "source": [
        "이 데이터는 우리나라의 코로나 바이러스의 최근 동향을 나타내는 데이터인데, 여기서 보면 collumn이 그렇게 많지는 않다. 지역, 도시, 단체 감염 여부, 세부 장소, 감염 확진 인원, latitude, longtitude이다.\n",
        "\n",
        "여기서 딥러닝 알고리즘을 이용해서 모델을 만드려고 할때에는 무언가 예측할 부분이 필요한데, '발생 인원수에 따른 발생 도시 예측'이나 '발생 인원수에 따른 집잔 감염 여부'를 우선 주제로 생각 중인데, 후자는 별로 의미가 없을것 같기도 하다. 이미 선형 회귀일것 같기 때문에.\n",
        "\n",
        "따라서 선형 관계를 파악하기 위해서 시각화를 해보고자 한다."
      ]
    },
    {
      "cell_type": "code",
      "metadata": {
        "id": "i9_uGOOLru2g",
        "colab_type": "code",
        "colab": {}
      },
      "source": [
        "from sklearn.preprocessing import OrdinalEncoder\n",
        "group_cat = df[['group']]\n",
        "ordinal_encoder = OrdinalEncoder()\n",
        "group_cat_encoded = ordinal_encoder.fit_transform(group_cat)\n",
        "df['group'] = group_cat_encoded\n",
        "province_cat_encoded = ordinal_encoder.fit_transform(df[['province']])\n",
        "df['province'] = province_cat_encoded"
      ],
      "execution_count": null,
      "outputs": []
    },
    {
      "cell_type": "markdown",
      "metadata": {
        "id": "JWaKbljlztlQ",
        "colab_type": "text"
      },
      "source": [
        "어차피 dataframe은 dictionary의 형태이기 때문에 언제든지 key와 value의 값이 추가, 삭제, 변경 등이 모드 python의 사전형 자료를 다루는 것 처럼 가능하다."
      ]
    },
    {
      "cell_type": "markdown",
      "metadata": {
        "id": "aAEtBnNCtqoQ",
        "colab_type": "text"
      },
      "source": [
        "데이터셋과 테스트셋을 sklearn의 함수를 이용해서 만들어보자\n",
        "\n",
        "test_set의 크기는 전체의 20%이고 train_set의 크기는 전체의 80%가 되도록 만들었다.\n",
        "\n",
        "cf.DataFrame을 다룰 때에는 pandas의 library를 이용해야 한다."
      ]
    },
    {
      "cell_type": "code",
      "metadata": {
        "id": "UTAVdsUct5z4",
        "colab_type": "code",
        "colab": {}
      },
      "source": [
        "from sklearn.model_selection import train_test_split\n",
        "train_set, test_set = train_test_split(df, test_size = 0.2, random_state = 44)"
      ],
      "execution_count": null,
      "outputs": []
    },
    {
      "cell_type": "code",
      "metadata": {
        "id": "H3b2y_uN3EUB",
        "colab_type": "code",
        "colab": {
          "base_uri": "https://localhost:8080/",
          "height": 252
        },
        "outputId": "31c034ba-7eb7-4bbf-c977-681c09d0a943"
      },
      "source": [
        "print(max(df['confirmed']))\n",
        "df['group']"
      ],
      "execution_count": null,
      "outputs": [
        {
          "output_type": "stream",
          "text": [
            "4511\n"
          ],
          "name": "stdout"
        },
        {
          "output_type": "execute_result",
          "data": {
            "text/plain": [
              "0      1.0\n",
              "1      1.0\n",
              "2      1.0\n",
              "3      1.0\n",
              "4      1.0\n",
              "      ... \n",
              "169    0.0\n",
              "170    0.0\n",
              "171    0.0\n",
              "172    0.0\n",
              "173    1.0\n",
              "Name: group, Length: 174, dtype: float64"
            ]
          },
          "metadata": {
            "tags": []
          },
          "execution_count": 33
        }
      ]
    },
    {
      "cell_type": "markdown",
      "metadata": {
        "id": "iPoAhdWj6nXZ",
        "colab_type": "text"
      },
      "source": [
        "실제로 df['confirmed']의 최댓값을 살펴보니 4511이라는 값이었고, 왜 아래와 같이 산점도가 만들어졌는지 알 수 있었다. 그래서 선형관계를 어떻게 파악하면 좋을지 생각 중이다."
      ]
    },
    {
      "cell_type": "code",
      "metadata": {
        "id": "Mz1B1S7O9oWF",
        "colab_type": "code",
        "colab": {
          "base_uri": "https://localhost:8080/",
          "height": 343
        },
        "outputId": "461ee77d-2824-487f-c35c-b46abd7c506a"
      },
      "source": [
        "df['province'].value_counts()"
      ],
      "execution_count": null,
      "outputs": [
        {
          "output_type": "execute_result",
          "data": {
            "text/plain": [
              "15.0    38\n",
              "7.0     22\n",
              "8.0     13\n",
              "9.0     12\n",
              "4.0     10\n",
              "3.0     10\n",
              "0.0     10\n",
              "2.0      8\n",
              "5.0      8\n",
              "1.0      7\n",
              "10.0     7\n",
              "14.0     6\n",
              "13.0     5\n",
              "12.0     5\n",
              "6.0      5\n",
              "16.0     4\n",
              "11.0     4\n",
              "Name: province, dtype: int64"
            ]
          },
          "metadata": {
            "tags": []
          },
          "execution_count": 36
        }
      ]
    },
    {
      "cell_type": "code",
      "metadata": {
        "id": "xVvXVzM864er",
        "colab_type": "code",
        "colab": {
          "base_uri": "https://localhost:8080/",
          "height": 515
        },
        "outputId": "d0384a27-8eab-49f3-a274-bf696b89fb10"
      },
      "source": [
        "import matplotlib.pyplot as plt\n",
        "df.plot(kind = 'scatter',x ='province', y = 'group', s = df['confirmed'], label = 'confirmed',figsize = (8,8))\n",
        "plt.legend()"
      ],
      "execution_count": null,
      "outputs": [
        {
          "output_type": "execute_result",
          "data": {
            "text/plain": [
              "<matplotlib.legend.Legend at 0x7f4400301ba8>"
            ]
          },
          "metadata": {
            "tags": []
          },
          "execution_count": 44
        },
        {
          "output_type": "display_data",
          "data": {
            "image/png": "[encoded data removed]",
            "text/plain": [
              "<Figure size 576x576 with 1 Axes>"
            ]
          },
          "metadata": {
            "tags": [],
            "needs_background": "light"
          }
        }
      ]
    },
    {
      "cell_type": "code",
      "metadata": {
        "id": "5jQvrbUCg4iR",
        "colab_type": "code",
        "colab": {
          "base_uri": "https://localhost:8080/",
          "height": 286
        },
        "outputId": "a597baf5-08a8-46b2-956c-4e66ef84b54c"
      },
      "source": [
        "df.describe()\n",
        "#밑에 모든 자료가 나오지 않는 이유는 숫자형 자료만 정보가 나오기 때문이다."
      ],
      "execution_count": null,
      "outputs": [
        {
          "output_type": "execute_result",
          "data": {
            "text/html": [
              "<div>\n",
              "<style scoped>\n",
              "    .dataframe tbody tr th:only-of-type {\n",
              "        vertical-align: middle;\n",
              "    }\n",
              "\n",
              "    .dataframe tbody tr th {\n",
              "        vertical-align: top;\n",
              "    }\n",
              "\n",
              "    .dataframe thead th {\n",
              "        text-align: right;\n",
              "    }\n",
              "</style>\n",
              "<table border=\"1\" class=\"dataframe\">\n",
              "  <thead>\n",
              "    <tr style=\"text-align: right;\">\n",
              "      <th></th>\n",
              "      <th>case_id</th>\n",
              "      <th>province</th>\n",
              "      <th>group</th>\n",
              "      <th>confirmed</th>\n",
              "    </tr>\n",
              "  </thead>\n",
              "  <tbody>\n",
              "    <tr>\n",
              "      <th>count</th>\n",
              "      <td>1.740000e+02</td>\n",
              "      <td>174.00000</td>\n",
              "      <td>174.000000</td>\n",
              "      <td>174.000000</td>\n",
              "    </tr>\n",
              "    <tr>\n",
              "      <th>mean</th>\n",
              "      <td>2.686216e+06</td>\n",
              "      <td>8.54023</td>\n",
              "      <td>0.712644</td>\n",
              "      <td>65.488506</td>\n",
              "    </tr>\n",
              "    <tr>\n",
              "      <th>std</th>\n",
              "      <td>1.943218e+06</td>\n",
              "      <td>5.01974</td>\n",
              "      <td>0.453835</td>\n",
              "      <td>355.097654</td>\n",
              "    </tr>\n",
              "    <tr>\n",
              "      <th>min</th>\n",
              "      <td>1.000001e+06</td>\n",
              "      <td>0.00000</td>\n",
              "      <td>0.000000</td>\n",
              "      <td>0.000000</td>\n",
              "    </tr>\n",
              "    <tr>\n",
              "      <th>25%</th>\n",
              "      <td>1.100006e+06</td>\n",
              "      <td>4.00000</td>\n",
              "      <td>0.000000</td>\n",
              "      <td>4.000000</td>\n",
              "    </tr>\n",
              "    <tr>\n",
              "      <th>50%</th>\n",
              "      <td>1.700004e+06</td>\n",
              "      <td>8.00000</td>\n",
              "      <td>1.000000</td>\n",
              "      <td>10.000000</td>\n",
              "    </tr>\n",
              "    <tr>\n",
              "      <th>75%</th>\n",
              "      <td>4.100004e+06</td>\n",
              "      <td>14.00000</td>\n",
              "      <td>1.000000</td>\n",
              "      <td>31.750000</td>\n",
              "    </tr>\n",
              "    <tr>\n",
              "      <th>max</th>\n",
              "      <td>7.000004e+06</td>\n",
              "      <td>16.00000</td>\n",
              "      <td>1.000000</td>\n",
              "      <td>4511.000000</td>\n",
              "    </tr>\n",
              "  </tbody>\n",
              "</table>\n",
              "</div>"
            ],
            "text/plain": [
              "            case_id   province       group    confirmed\n",
              "count  1.740000e+02  174.00000  174.000000   174.000000\n",
              "mean   2.686216e+06    8.54023    0.712644    65.488506\n",
              "std    1.943218e+06    5.01974    0.453835   355.097654\n",
              "min    1.000001e+06    0.00000    0.000000     0.000000\n",
              "25%    1.100006e+06    4.00000    0.000000     4.000000\n",
              "50%    1.700004e+06    8.00000    1.000000    10.000000\n",
              "75%    4.100004e+06   14.00000    1.000000    31.750000\n",
              "max    7.000004e+06   16.00000    1.000000  4511.000000"
            ]
          },
          "metadata": {
            "tags": []
          },
          "execution_count": 49
        }
      ]
    },
    {
      "cell_type": "markdown",
      "metadata": {
        "id": "wMxhnqFz_y8c",
        "colab_type": "text"
      },
      "source": [
        "df.info()를 보면 모든 정보가 174개의 non-null 값을 가지기 때문에 그 부분은 건드릴 필요가 없다. 다만 만약에 사용하려 한다면 city의 값이나 infection_case등을 수정해 주어야 하는 것은 맞다."
      ]
    },
    {
      "cell_type": "code",
      "metadata": {
        "id": "Alo5cpC6iFXi",
        "colab_type": "code",
        "colab": {
          "base_uri": "https://localhost:8080/",
          "height": 289
        },
        "outputId": "4847bcc6-5ddc-4bfa-bda1-0dc6d31e9818"
      },
      "source": [
        "df.info()"
      ],
      "execution_count": null,
      "outputs": [
        {
          "output_type": "stream",
          "text": [
            "<class 'pandas.core.frame.DataFrame'>\n",
            "RangeIndex: 174 entries, 0 to 173\n",
            "Data columns (total 8 columns):\n",
            " #   Column          Non-Null Count  Dtype  \n",
            "---  ------          --------------  -----  \n",
            " 0    case_id        174 non-null    int64  \n",
            " 1   province        174 non-null    float64\n",
            " 2   city            174 non-null    object \n",
            " 3   group           174 non-null    float64\n",
            " 4   infection_case  174 non-null    object \n",
            " 5   confirmed       174 non-null    int64  \n",
            " 6   latitude        174 non-null    object \n",
            " 7   longitude       174 non-null    object \n",
            "dtypes: float64(2), int64(2), object(4)\n",
            "memory usage: 11.0+ KB\n"
          ],
          "name": "stdout"
        }
      ]
    },
    {
      "cell_type": "markdown",
      "metadata": {
        "id": "ubYbNDa9iVnj",
        "colab_type": "text"
      },
      "source": [
        "위에 데이터의 information에서 보면 알 수 있겠지만 자료형이 숫자형 자료int64와 float64이외에도 object라는 문자열 자료형이 존재하는데, 이를 sklearn.preprocessing의 OrdinalEncoder을 이용해서 바꾸거나 아니면 어차피 나중에 범위를 0~1로 줄이는 경우가 일반적이기 때문에 그렇게 OneHotEncoder을 이용해서 바꿔주어도 좋다."
      ]
    },
    {
      "cell_type": "code",
      "metadata": {
        "id": "wcLPlpojAmsy",
        "colab_type": "code",
        "colab": {
          "base_uri": "https://localhost:8080/",
          "height": 234
        },
        "outputId": "60b3a2f5-4157-4813-8b67-7e5da93b164a"
      },
      "source": [
        "df['infection_case'].value_counts()"
      ],
      "execution_count": null,
      "outputs": [
        {
          "output_type": "execute_result",
          "data": {
            "text/plain": [
              "etc                                 17\n",
              "overseas inflow                     17\n",
              "contact with patient                16\n",
              "Shincheonji Church                  15\n",
              "Itaewon Clubs                        9\n",
              "                                    ..\n",
              "Orange Life                          1\n",
              "Jin-gu Academy                       1\n",
              "River of Grace Community Church      1\n",
              "Ministry of Oceans and Fisheries     1\n",
              "Guri Collective Infection            1\n",
              "Name: infection_case, Length: 81, dtype: int64"
            ]
          },
          "metadata": {
            "tags": []
          },
          "execution_count": 51
        }
      ]
    },
    {
      "cell_type": "markdown",
      "metadata": {
        "id": "7tjjfVWDAFSZ",
        "colab_type": "text"
      },
      "source": [
        "먼저 어떤 주제로 데이터를 분석하고 신경망을 모델링 할 것인지 정해야 한다. 이번에는 나머지 정보들을 이용해서 'province'를 예측해보고 싶다. 우선 'infection_case'는 81개의 범주나 있기 때문에 이를 예측하는 것은 사실상 매우 어렵다. 따라서 'province'의 값을 나머지 자료들을 이용해 예측해보고자 한다.\n",
        "\n",
        "그러기 위해서는 우선 object자료형으로 이루어진 데이터를 모두 float숫자형 자료로 바꾸어 주고 test_set과 train_set로 나누어주는 과정을 거쳐야 한다."
      ]
    },
    {
      "cell_type": "code",
      "metadata": {
        "id": "SOsSU3gGiRrI",
        "colab_type": "code",
        "colab": {}
      },
      "source": [
        ""
      ],
      "execution_count": null,
      "outputs": []
    }
  ]
}