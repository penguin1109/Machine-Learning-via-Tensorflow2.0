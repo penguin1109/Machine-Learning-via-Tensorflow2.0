{
  "nbformat": 4,
  "nbformat_minor": 0,
  "metadata": {
    "colab": {
      "name": "Ch3. Classification",
      "provenance": [],
      "collapsed_sections": []
    },
    "kernelspec": {
      "name": "python3",
      "display_name": "Python 3"
    }
  },
  "cells": [
    {
      "cell_type": "code",
      "metadata": {
        "id": "WsPgIi7O042S",
        "colab_type": "code",
        "colab": {}
      },
      "source": [
        "import tensorflow as tf\n",
        "import pandas as pd\n",
        "import numpy as np\n",
        "import matplotlib.pyplot as plt"
      ],
      "execution_count": 161,
      "outputs": []
    },
    {
      "cell_type": "markdown",
      "metadata": {
        "id": "dG4oehw55Qaf",
        "colab_type": "text"
      },
      "source": [
        "### 3.1 MNIST"
      ]
    },
    {
      "cell_type": "markdown",
      "metadata": {
        "id": "GoCOXV_z5rwI",
        "colab_type": "text"
      },
      "source": [
        "- MNIST dataset는 keras에서 쉽게 다운 받을 수 있는 데이터는 일반적으로 사전형 구조를 가지고 있다.\n",
        "- data와 데이터의 정보를 담은 label이 자료로 저장이 되어 있으니 나중에 keras dataset을 이용할 일이 생기면 참고하면 될 것이다."
      ]
    },
    {
      "cell_type": "code",
      "metadata": {
        "id": "s_TcvFoR5N3H",
        "colab_type": "code",
        "colab": {}
      },
      "source": [
        "from sklearn.datasets import fetch_openml\n",
        "mnist = fetch_openml('mnist_784', version = 1)"
      ],
      "execution_count": 162,
      "outputs": []
    },
    {
      "cell_type": "code",
      "metadata": {
        "id": "ODKnUOHF6pIY",
        "colab_type": "code",
        "colab": {
          "base_uri": "https://localhost:8080/",
          "height": 33
        },
        "outputId": "69f0a419-7cbe-48ce-a781-be63fd653044"
      },
      "source": [
        "mnist.keys()"
      ],
      "execution_count": 163,
      "outputs": [
        {
          "output_type": "execute_result",
          "data": {
            "text/plain": [
              "dict_keys(['data', 'target', 'frame', 'feature_names', 'target_names', 'DESCR', 'details', 'categories', 'url'])"
            ]
          },
          "metadata": {
            "tags": []
          },
          "execution_count": 163
        }
      ]
    },
    {
      "cell_type": "code",
      "metadata": {
        "id": "GcTaIgQR6yH5",
        "colab_type": "code",
        "colab": {
          "base_uri": "https://localhost:8080/",
          "height": 133
        },
        "outputId": "d3afd9b9-2021-41f6-9504-a434e135b32c"
      },
      "source": [
        "mnist['data']"
      ],
      "execution_count": 164,
      "outputs": [
        {
          "output_type": "execute_result",
          "data": {
            "text/plain": [
              "array([[0., 0., 0., ..., 0., 0., 0.],\n",
              "       [0., 0., 0., ..., 0., 0., 0.],\n",
              "       [0., 0., 0., ..., 0., 0., 0.],\n",
              "       ...,\n",
              "       [0., 0., 0., ..., 0., 0., 0.],\n",
              "       [0., 0., 0., ..., 0., 0., 0.],\n",
              "       [0., 0., 0., ..., 0., 0., 0.]])"
            ]
          },
          "metadata": {
            "tags": []
          },
          "execution_count": 164
        }
      ]
    },
    {
      "cell_type": "code",
      "metadata": {
        "id": "LCAqacJV62LF",
        "colab_type": "code",
        "colab": {
          "base_uri": "https://localhost:8080/",
          "height": 33
        },
        "outputId": "f553055f-123c-471b-cb6f-e0af55aad955"
      },
      "source": [
        "mnist['target']"
      ],
      "execution_count": 165,
      "outputs": [
        {
          "output_type": "execute_result",
          "data": {
            "text/plain": [
              "array(['5', '0', '4', ..., '4', '5', '6'], dtype=object)"
            ]
          },
          "metadata": {
            "tags": []
          },
          "execution_count": 165
        }
      ]
    },
    {
      "cell_type": "code",
      "metadata": {
        "id": "uYDW2SP6634m",
        "colab_type": "code",
        "colab": {
          "base_uri": "https://localhost:8080/",
          "height": 33
        },
        "outputId": "4a8a1206-e7dc-40e7-d7bc-11cc533f0680"
      },
      "source": [
        "x,y = mnist['data'], mnist['target']\n",
        "x.shape, y.shape"
      ],
      "execution_count": 166,
      "outputs": [
        {
          "output_type": "execute_result",
          "data": {
            "text/plain": [
              "((70000, 784), (70000,))"
            ]
          },
          "metadata": {
            "tags": []
          },
          "execution_count": 166
        }
      ]
    },
    {
      "cell_type": "markdown",
      "metadata": {
        "id": "N9iiySH37XHO",
        "colab_type": "text"
      },
      "source": [
        "- 위에서의 데이터의 shape를 보게 되면 x는 총 7000개의 데이터를 28*28의 픽셀의 이미지화된 데이터를 담고있다는 의미에서 데이터의 특징의 개수가 784개가 나온다."
      ]
    },
    {
      "cell_type": "code",
      "metadata": {
        "id": "3F2WvFY47WUg",
        "colab_type": "code",
        "colab": {
          "base_uri": "https://localhost:8080/",
          "height": 264
        },
        "outputId": "ee0eb873-97d4-4811-8e84-65731a80466b"
      },
      "source": [
        "random_img = x[333]\n",
        "random_img = random_img.reshape(28,28)\n",
        "plt.imshow(random_img)\n",
        "plt.show()"
      ],
      "execution_count": 167,
      "outputs": [
        {
          "output_type": "display_data",
          "data": {
            "image/png": "[encoded data removed]",
            "text/plain": [
              "<Figure size 432x288 with 1 Axes>"
            ]
          },
          "metadata": {
            "tags": [],
            "needs_background": "light"
          }
        }
      ]
    },
    {
      "cell_type": "code",
      "metadata": {
        "id": "DyygQRw48Pbp",
        "colab_type": "code",
        "colab": {
          "base_uri": "https://localhost:8080/",
          "height": 87
        },
        "outputId": "cc9044a8-ed7a-47d5-e3dc-b5dbd7dc6c0c"
      },
      "source": [
        "plt.imshow(x[567].reshape(7,112))"
      ],
      "execution_count": 168,
      "outputs": [
        {
          "output_type": "execute_result",
          "data": {
            "text/plain": [
              "<matplotlib.image.AxesImage at 0x7f8b130cd080>"
            ]
          },
          "metadata": {
            "tags": []
          },
          "execution_count": 168
        },
        {
          "output_type": "display_data",
          "data": {
            "image/png": "[encoded data removed]",
            "text/plain": [
              "<Figure size 432x288 with 1 Axes>"
            ]
          },
          "metadata": {
            "tags": [],
            "needs_background": "light"
          }
        }
      ]
    },
    {
      "cell_type": "markdown",
      "metadata": {
        "id": "SJQlEAi68GPk",
        "colab_type": "text"
      },
      "source": [
        "- 이미지 데이터를 reshaping하지 않고서는 ```plt.imshow``` 가 불가능하다. \n",
        "- 2차원 이미지 데이터만 출력이 가능하다는 해당 출력 함수의 특성 때문이다."
      ]
    },
    {
      "cell_type": "code",
      "metadata": {
        "id": "zCsOpWcm72_K",
        "colab_type": "code",
        "colab": {
          "base_uri": "https://localhost:8080/",
          "height": 35
        },
        "outputId": "d8f5a55e-a11d-47e5-d440-ddaa87107ecb"
      },
      "source": [
        "y[567]"
      ],
      "execution_count": 169,
      "outputs": [
        {
          "output_type": "execute_result",
          "data": {
            "application/vnd.google.colaboratory.intrinsic+json": {
              "type": "string"
            },
            "text/plain": [
              "'7'"
            ]
          },
          "metadata": {
            "tags": []
          },
          "execution_count": 169
        }
      ]
    },
    {
      "cell_type": "code",
      "metadata": {
        "id": "jQ7BDsjg77p4",
        "colab_type": "code",
        "colab": {}
      },
      "source": [
        "#위에서 알 수 있는 사실을 label속의 데이터가 문자열이기 때문에 이를 정수로 변환시켜야 한다는 것이다.\n",
        "#머신 러닝 알고리즘은 숫자로 변환된 데이터를 선호한다.\n",
        "y = y.astype(np.int32)"
      ],
      "execution_count": 170,
      "outputs": []
    },
    {
      "cell_type": "code",
      "metadata": {
        "id": "W-LBx9RA9zR3",
        "colab_type": "code",
        "colab": {}
      },
      "source": [
        "trainsplit = 6000\n",
        "x_train, y_train, x_test, y_test = x[:trainsplit], y[:trainsplit], x[trainsplit:], y[trainsplit:]\n",
        "#이 데이터셋의 경우에는 이미 shuffle이 되어있기는 하지만 나중에 다른 데이터를 다룰 때에는 shuffle을 직접 수행하여서 데이터의 편향을 막아야 한다."
      ],
      "execution_count": 171,
      "outputs": []
    },
    {
      "cell_type": "markdown",
      "metadata": {
        "id": "i6Vw_q26-P3u",
        "colab_type": "text"
      },
      "source": [
        "### 3.2 이진 분류기 훈련"
      ]
    },
    {
      "cell_type": "markdown",
      "metadata": {
        "id": "dQyB6fZc-1Ys",
        "colab_type": "text"
      },
      "source": [
        "- 우선은 숫자들중 하나인 2를 학습시켜보는, class의 개수가 2개인 분류기를 학습시키자.\n",
        "- 분류 모델을 아무거나 선택해서 우선 하나의 숫자만이라도 학습 시켜보도록 한다.\n",
        "- 이 경우에는 SGD classifier(확률적 경사 하강법)을 사용하고자 한다.\n",
        "- 이 분류기는 한번에 하나씩 훈련 샘플을 독립적으로 처리하기 떄문에 대규모 데이터셋을 효율적으로 처리한다."
      ]
    },
    {
      "cell_type": "code",
      "metadata": {
        "id": "0NLP8ZGL-Nch",
        "colab_type": "code",
        "colab": {
          "base_uri": "https://localhost:8080/",
          "height": 33
        },
        "outputId": "8687e393-d85f-46aa-9a72-1833521666c5"
      },
      "source": [
        "y_train_2 = (y_train == 2)\n",
        "y_test_2 = (y_test == 2)\n",
        "\n",
        "#sklearn의 SGDClassifier, SGDRegressor은 모두 epoch를 반복할 떄마다 데이터를 섞는다.\n",
        "from sklearn.linear_model import SGDClassifier\n",
        "sgd_clf = SGDClassifier(random_state = 42)\n",
        "sgd_clf.fit(x_train, y_train_2)\n",
        "sgd_clf.score(x_test, y_test_2)"
      ],
      "execution_count": 172,
      "outputs": [
        {
          "output_type": "execute_result",
          "data": {
            "text/plain": [
              "0.951640625"
            ]
          },
          "metadata": {
            "tags": []
          },
          "execution_count": 172
        }
      ]
    },
    {
      "cell_type": "code",
      "metadata": {
        "id": "c5wIDNkWBwZY",
        "colab_type": "code",
        "colab": {
          "base_uri": "https://localhost:8080/",
          "height": 33
        },
        "outputId": "6ce0f934-5e41-4a9a-f490-1bffb3a31808"
      },
      "source": [
        "y_test[2]"
      ],
      "execution_count": 173,
      "outputs": [
        {
          "output_type": "execute_result",
          "data": {
            "text/plain": [
              "1"
            ]
          },
          "metadata": {
            "tags": []
          },
          "execution_count": 173
        }
      ]
    },
    {
      "cell_type": "code",
      "metadata": {
        "id": "8BFt3JV5BMiw",
        "colab_type": "code",
        "colab": {
          "base_uri": "https://localhost:8080/",
          "height": 33
        },
        "outputId": "1287e868-8c29-40c1-b226-b36edb0d41f7"
      },
      "source": [
        "x_train[325].shape"
      ],
      "execution_count": 174,
      "outputs": [
        {
          "output_type": "execute_result",
          "data": {
            "text/plain": [
              "(784,)"
            ]
          },
          "metadata": {
            "tags": []
          },
          "execution_count": 174
        }
      ]
    },
    {
      "cell_type": "code",
      "metadata": {
        "id": "6gz4Xc7QAVJB",
        "colab_type": "code",
        "colab": {
          "base_uri": "https://localhost:8080/",
          "height": 33
        },
        "outputId": "34539026-b1ee-4d0d-d89a-28ad8c1be549"
      },
      "source": [
        "predict = sgd_clf.predict(x_train)\n",
        "predict[325]"
      ],
      "execution_count": 175,
      "outputs": [
        {
          "output_type": "execute_result",
          "data": {
            "text/plain": [
              "True"
            ]
          },
          "metadata": {
            "tags": []
          },
          "execution_count": 175
        }
      ]
    },
    {
      "cell_type": "markdown",
      "metadata": {
        "id": "7gvIXOX4B1N9",
        "colab_type": "text"
      },
      "source": [
        "### 3.3 성능 측정"
      ]
    },
    {
      "cell_type": "markdown",
      "metadata": {
        "id": "0q8Kmx_PB4bj",
        "colab_type": "text"
      },
      "source": [
        "#### 3.3.1 교차 검증을 사용한 정확도 측정"
      ]
    },
    {
      "cell_type": "code",
      "metadata": {
        "id": "FQqp9wddAdAJ",
        "colab_type": "code",
        "colab": {
          "base_uri": "https://localhost:8080/",
          "height": 70
        },
        "outputId": "542e8d9b-c5e6-4bfc-c32f-c93de19bbd63"
      },
      "source": [
        "#우선 sklearn에 있는 crosss_val_score을 직접 코드를 짜보기로 한다.\n",
        "from sklearn.model_selection import StratifiedKFold\n",
        "from sklearn.base import clone\n",
        "\n",
        "skfolds = StratifiedKFold(n_splits = 3, random_state = 42)\n",
        "#n_splits의 개수의 데이터 만큼 섞어서 데이터를 만들어 준다."
      ],
      "execution_count": 176,
      "outputs": [
        {
          "output_type": "stream",
          "text": [
            "/usr/local/lib/python3.6/dist-packages/sklearn/model_selection/_split.py:296: FutureWarning: Setting a random_state has no effect since shuffle is False. This will raise an error in 0.24. You should leave random_state to its default (None), or set shuffle=True.\n",
            "  FutureWarning\n"
          ],
          "name": "stderr"
        }
      ]
    },
    {
      "cell_type": "code",
      "metadata": {
        "id": "KV1rT97CDlj2",
        "colab_type": "code",
        "colab": {
          "base_uri": "https://localhost:8080/",
          "height": 66
        },
        "outputId": "034ef12d-26cb-472d-fa5f-430750e3502e"
      },
      "source": [
        "for train_index, test_index in skfolds.split(x_train, y_train_2):\n",
        "  clone_clf = clone(sgd_clf)\n",
        "  x_train_folds = x_train[train_index]\n",
        "  y_train_folds = y_train_2[train_index]\n",
        "  x_test_folds = x_test[test_index]\n",
        "  y_test_folds = y_test_2[train_index]\n",
        "\n",
        "  clone_clf.fit(x_train_folds, y_train_folds)\n",
        "  y_pred = clone_clf.predict(x_test_folds)\n",
        "  correct = 0\n",
        "  for i in range(len(y_pred)):\n",
        "    if y_pred[i] == y_test_folds[i]:\n",
        "      correct += 1\n",
        "  print(correct/2000)"
      ],
      "execution_count": 177,
      "outputs": [
        {
          "output_type": "stream",
          "text": [
            "0.814\n",
            "0.807\n",
            "0.8075\n"
          ],
          "name": "stdout"
        }
      ]
    },
    {
      "cell_type": "code",
      "metadata": {
        "id": "kuj5d2xDDnq5",
        "colab_type": "code",
        "colab": {
          "base_uri": "https://localhost:8080/",
          "height": 33
        },
        "outputId": "b2bbdca9-6118-43c3-c823-9702ef3f9203"
      },
      "source": [
        "#from sklearn.model_selection import cross_val_score을 이용하면\n",
        "from sklearn.model_selection import cross_val_score\n",
        "cross_val_score(sgd_clf, x_train, y_train_2, cv=3, scoring = 'accuracy')"
      ],
      "execution_count": 178,
      "outputs": [
        {
          "output_type": "execute_result",
          "data": {
            "text/plain": [
              "array([0.959 , 0.963 , 0.9575])"
            ]
          },
          "metadata": {
            "tags": []
          },
          "execution_count": 178
        }
      ]
    },
    {
      "cell_type": "markdown",
      "metadata": {
        "id": "GWpP8W7_JMQU",
        "colab_type": "text"
      },
      "source": [
        "- 그러나 정확도는 분류기의 성능 측정 지표로 선호하지는 않는다.\n",
        "- 특히나 불균형한 데이터셋을 다룰 때에 그 특성이 두드러지게 드러난다."
      ]
    },
    {
      "cell_type": "markdown",
      "metadata": {
        "id": "S10gtcLeJa4z",
        "colab_type": "text"
      },
      "source": [
        "#### 3.3.2 오차 행렬\n",
        "- 오차 행렬을 관찰한다는 것은 클래스 A의 샘플이 클래스 B의 샘플로 잘못 분류된 횟수를 측정하는 것이다. 예를 들면 숫자 2가 숫자 3으로 잘못 분류된 횟수를 알고 싶다면 오차 행렬의 2행 3열을 측정하면 된다.\n",
        "- 뿐만 아니라 오차 행렬을 만들기 위해서는 실제 타겟과 비교할 수 있도록 예측값을 만들어야 하는데, 이를 위해 cross_val_predict를 이용한다."
      ]
    },
    {
      "cell_type": "code",
      "metadata": {
        "id": "55Qmi5QEH0XO",
        "colab_type": "code",
        "colab": {
          "base_uri": "https://localhost:8080/",
          "height": 50
        },
        "outputId": "442a0bbe-e61a-4f9f-d90d-087fe0ecc9e5"
      },
      "source": [
        "from sklearn.model_selection import cross_val_predict\n",
        "\n",
        "y_train_pred = cross_val_predict(sgd_clf, x_train, y_train_2, cv=3)\n",
        "#이는 cross_val_score과 마찬가지로 k-겹 교차 검증을 수행하기는 하지만 평가 점수를 반환하는 것이 아니라 각 테스트 폴드에서 얻은 예측을 반환하게 된다.\n",
        "\n",
        "from sklearn.metrics import confusion_matrix\n",
        "#오차 행렬 만들기\n",
        "confusion_matrix(y_train_2, y_train_pred)"
      ],
      "execution_count": 179,
      "outputs": [
        {
          "output_type": "execute_result",
          "data": {
            "text/plain": [
              "array([[5285,  134],\n",
              "       [ 107,  474]])"
            ]
          },
          "metadata": {
            "tags": []
          },
          "execution_count": 179
        }
      ]
    },
    {
      "cell_type": "markdown",
      "metadata": {
        "id": "Xs-wxcnVLIEo",
        "colab_type": "text"
      },
      "source": [
        "- matrix[0][0]: 2-2 (TN)\n",
        "- matrix[0][1]: 2-2아님 (FP)\n",
        "- matrix[1][0]: 2아님-2 (FN)\n",
        "- matrix[1][1]: 2아님-2아님 (TP)\n",
        "\n",
        "1. 정밀도 = TP / (TP + FP)\n",
        "2. 재현률(분류기가 정확하게 분류한 양성 샘플의 비율) = TP / (TP + FN)\n",
        "  - 재현율을 측정 지표로서 더 많이 사용한다."
      ]
    },
    {
      "cell_type": "markdown",
      "metadata": {
        "id": "il9ShE_rMrbV",
        "colab_type": "text"
      },
      "source": [
        "#### 3.3.3 정밀도와 재현율"
      ]
    },
    {
      "cell_type": "code",
      "metadata": {
        "id": "a6DQIcebKvn-",
        "colab_type": "code",
        "colab": {}
      },
      "source": [
        "#굳이 우리가 직접 계산해주지 않아도 sklearn에는 분류기의 지표를 계산하는 여러 함수가 존재한다.\n",
        "#상황에 따라서 재현율과 정밀도의 중요도의 비중이 다를 수가 있다.\n",
        "from sklearn.metrics import precision_score, recall_score, f1_score\n",
        "#정밀도, 재현율, 조화 평균\n",
        "#조화 평균 = 2/(1/정밀도 + 1/재현율)"
      ],
      "execution_count": 180,
      "outputs": []
    },
    {
      "cell_type": "markdown",
      "metadata": {
        "id": "ePqKJhmaNpfj",
        "colab_type": "text"
      },
      "source": [
        "- 정밀도와 재현율은 반비례의 관계이고, 따라서 이를 정밀도/재현율 트레이드오프라고 한다.\n",
        "- 이를 이해해야 SGD Classifier의 작동 원리가 어느 정도 이해가 갈 수 있을 것이다."
      ]
    },
    {
      "cell_type": "markdown",
      "metadata": {
        "id": "Xhtqp5_YN5xK",
        "colab_type": "text"
      },
      "source": [
        "#### 3.3.4 정밀도/재현율 트레이드오프\n",
        "- SGD Classifier은 설정한 임계값 위의 값을 양성으로 판단을 한다.\n",
        "- 임계값이 높을수록 일반적으로 재현율이 낮아지고 정밀도가 높아진다.\n",
        "- 따라서 이 임계값을 변형하는 것에 신경을 써야 하는데, 이를 위해 훈련 세트에 있는 모든 함수의 점수를 구해주어야 한다."
      ]
    },
    {
      "cell_type": "code",
      "metadata": {
        "id": "dwtJ-i5WNmo7",
        "colab_type": "code",
        "colab": {}
      },
      "source": [
        "y_score = cross_val_predict(sgd_clf, x_train, y_train_2, cv = 3, method = 'decision_function')\n",
        "#cross_val_predict를 이용해서 값들을 계산해 줄 때에 뒤에 method부분을 바꾸면 되는데 만약 method를 'accuracy'라고 설정해 두면 예측 정확도를 출력하고, 'decision_function'으로 설정해 놓으면 예측 결과가 저장이 된다.\n",
        "from sklearn.metrics import precision_recall_curve\n",
        "precision, recall, threshold = precision_recall_curve(y_train_2, y_score)\n",
        "#정밀도, 재현율"
      ],
      "execution_count": 181,
      "outputs": []
    },
    {
      "cell_type": "code",
      "metadata": {
        "id": "eojMpXDNTlLo",
        "colab_type": "code",
        "colab": {
          "base_uri": "https://localhost:8080/",
          "height": 50
        },
        "outputId": "36bc5e28-528d-4adf-9388-8ed744a654c2"
      },
      "source": [
        "precision"
      ],
      "execution_count": 182,
      "outputs": [
        {
          "output_type": "execute_result",
          "data": {
            "text/plain": [
              "array([0.10970544, 0.1095373 , 0.10955799, ..., 1.        , 1.        ,\n",
              "       1.        ])"
            ]
          },
          "metadata": {
            "tags": []
          },
          "execution_count": 182
        }
      ]
    },
    {
      "cell_type": "code",
      "metadata": {
        "id": "hNmA9IJjTxRU",
        "colab_type": "code",
        "colab": {
          "base_uri": "https://localhost:8080/",
          "height": 50
        },
        "outputId": "ed49568e-a6f6-4419-aaf7-a51b3384ded0"
      },
      "source": [
        "recall"
      ],
      "execution_count": 183,
      "outputs": [
        {
          "output_type": "execute_result",
          "data": {
            "text/plain": [
              "array([1.        , 0.99827883, 0.99827883, ..., 0.00344234, 0.00172117,\n",
              "       0.        ])"
            ]
          },
          "metadata": {
            "tags": []
          },
          "execution_count": 183
        }
      ]
    },
    {
      "cell_type": "code",
      "metadata": {
        "id": "PIOedlW4ZKjQ",
        "colab_type": "code",
        "colab": {
          "base_uri": "https://localhost:8080/",
          "height": 50
        },
        "outputId": "450a1645-024c-41d0-935c-c48764382587"
      },
      "source": [
        "threshold"
      ],
      "execution_count": 184,
      "outputs": [
        {
          "output_type": "execute_result",
          "data": {
            "text/plain": [
              "array([-949240.59259303, -948780.1932421 , -948733.15576241, ...,\n",
              "        918916.60116967,  960725.13218651,  986830.49128991])"
            ]
          },
          "metadata": {
            "tags": []
          },
          "execution_count": 184
        }
      ]
    },
    {
      "cell_type": "code",
      "metadata": {
        "id": "DBiHBrlTTcsu",
        "colab_type": "code",
        "colab": {
          "base_uri": "https://localhost:8080/",
          "height": 505
        },
        "outputId": "697031c5-e555-47c2-c45c-344da1b9c0f7"
      },
      "source": [
        "plt.figure(figsize = (12,8)) \n",
        "plt.plot(threshold, precision[:-1], 'b--', label = '정밀도')\n",
        "plt.plot(threshold, recall[:-1], 'g-', label = '재현율')\n",
        "plt.xlabel(\"Threshold\", fontsize=16)    \n",
        "plt.axis([min(threshold), max(threshold),0,1]) \n",
        "plt.grid()\n",
        "#정밀도가 0.9보다 큰 지점\n",
        "recall_90_precision = recall[np.argmax(precision >= 0.90)]\n",
        "#재현율이 0.9보다 큰 지점\n",
        "threshold_90_precision = threshold[np.argmax(precision >= 0.90)]\n",
        "plt.plot([threshold_90_precision, threshold_90_precision], [0., 0.9], \"r:\")                \n",
        "plt.plot([min(threshold), threshold_90_precision], [0.9, 0.9], \"r:\") \n",
        "plt.plot([min(threshold), threshold_90_precision], [recall_90_precision, recall_90_precision], \"r:\")\n",
        "plt.plot([threshold_90_precision], [0.9], \"ro\")                                          \n",
        "plt.plot([threshold_90_precision], [recall_90_precision], \"ro\")  \n",
        "plt.show()"
      ],
      "execution_count": 185,
      "outputs": [
        {
          "output_type": "display_data",
          "data": {
            "image/png": "[encoded data removed]",
            "text/plain": [
              "<Figure size 864x576 with 1 Axes>"
            ]
          },
          "metadata": {
            "tags": [],
            "needs_background": "light"
          }
        }
      ]
    },
    {
      "cell_type": "markdown",
      "metadata": {
        "id": "o6MIFoQMlqdS",
        "colab_type": "text"
      },
      "source": [
        "#### 3.3.5 ROC 곡선\n",
        "- ROC곡선은 수신기 조작 특성 곡선으로, 이진 분류에서 널리 사용되는 도구이다.\n",
        "- 음성인데 양성으로 잘못 분류된 음성 샘플의 비율을 FPR이라고 한다.\n",
        "- ROC곡선의 아래 면적인 AUC를 측정하게 되면 분류기의 비교가 가능하다.\n",
        "  - 완벽한 분류기는 1이고, 완전한 랜덤 분류기는 0.5이다.\n",
        "  - ```sklearn.metrics import roc_auc_score```을 이용하게 되면 곡선 아래 면적을 구할 수 있게 된다.\n",
        "- Random Forest Classifier과 SGD Classifier의 성능을 비교해 보고자 한다."
      ]
    },
    {
      "cell_type": "code",
      "metadata": {
        "id": "o_N8_I0DUFB9",
        "colab_type": "code",
        "colab": {
          "base_uri": "https://localhost:8080/",
          "height": 278
        },
        "outputId": "ebb213ea-d856-4cb7-e848-713bc6d5e4c3"
      },
      "source": [
        "from sklearn.metrics import roc_curve\n",
        "fpr, tpr, threshold = roc_curve(y_train_2, y_score)\n",
        "\n",
        "from sklearn.ensemble import RandomForestClassifier\n",
        "forest_clf = RandomForestClassifier(random_state = 42)\n",
        "y_probas_forest = cross_val_predict(forest_clf, x_train, y_train_2, cv = 3, method = 'predict_proba')\n",
        "y_score_forest = y_probas_forest[:,1]  #양성 클래스에 대한 확률을 점수로 이용한다.\n",
        "fpr_forest, tpr_forest, threshold_forest = roc_curve(y_train_2, y_score_forest)\n",
        "plt.plot(fpr, tpr, 'g:', label = 'SGD')\n",
        "plt.plot(fpr_forest, tpr_forest, label = 'RandomForest')\n",
        "plt.legend(loc = 'lower right')\n",
        "plt.xlabel('False')\n",
        "plt.ylabel('Real')\n",
        "plt.show()\n"
      ],
      "execution_count": 186,
      "outputs": [
        {
          "output_type": "display_data",
          "data": {
            "image/png": "[encoded data removed]",
            "text/plain": [
              "<Figure size 432x288 with 1 Axes>"
            ]
          },
          "metadata": {
            "tags": [],
            "needs_background": "light"
          }
        }
      ]
    },
    {
      "cell_type": "markdown",
      "metadata": {
        "id": "0KXg9PT2tq6H",
        "colab_type": "text"
      },
      "source": [
        "- 전반적으로 Random Forest의 성능이 SGD보다 좋다.\n",
        "- Random Forest Classifier는 훈련 데이터의 클래스의 비율에 따라 무작위로 예측을 한다.\n",
        "  - 트리의 노드를 분할할 때에 전체 특성 중에서 최선의 특성을 찾는 대신 무작위로 선택한 특성 후보 중에서 최적의 특성을 찾는 식으로 무작위성을 한번 더 주입한다. 이는 결국 트리를 더욱 다양하게 만들고 따라서 편향을 손해보는 대신에 분산을 낮추어 전체적으로 훌륭한 모델을 만들어낸다."
      ]
    },
    {
      "cell_type": "markdown",
      "metadata": {
        "id": "lnXAM3sMvD9t",
        "colab_type": "text"
      },
      "source": [
        "### 3.4  다중 분류\n",
        "- 원래 logistic regression, Support Vector Machine 같은 알고리즘은 이진 분류만 가능한 반면, SGD Clasification, Random Forest Classification, Naive Bayes 같은 알고리즘은 여러개의 클래스를 직접 처리할 수 있다.\n",
        "- 그러나 이진 분류만 가능한 알고리즘의 경우에도 여러개를 사용해서 다중 클래스의 분류가 충분히 가능해진다.\n",
        "  - 예를 들면 특정 숫자 하나만 분류하는 이진 분류기를 10개를 훈련시켜 클래스가 10개인 다중 분류기처럼 이용을 하는데, 모두 학습 시켜서 결정 점수가 제일 높은 것을 클래스로 선택하면 괴는 것이다. 이를 OvR(One-verses-the-rest), 혹은 OvA(One-verses-All)이라고 한다.\n",
        "  - 또는 0과 1 구별, 0과 2 구별, 1과 2 구별 등과 같이 각 숫자의 조합마다 이진 분류기를 훈련 시켜도 된다. 이는 OvO(One-verses-One)이라고 한다. 이는 클래스가 n개라면 분류기는 nC2개가 필요하다."
      ]
    },
    {
      "cell_type": "code",
      "metadata": {
        "id": "cl6WN23Wredz",
        "colab_type": "code",
        "colab": {
          "base_uri": "https://localhost:8080/",
          "height": 33
        },
        "outputId": "734f20bd-d074-4a67-b110-920ed2f51e4a"
      },
      "source": [
        "from sklearn.svm import SVC\n",
        "svm_clf = SVC()\n",
        "svm_clf.fit(x_train, y_train)\n",
        "svm_clf.predict([x_train[232]])"
      ],
      "execution_count": 190,
      "outputs": [
        {
          "output_type": "execute_result",
          "data": {
            "text/plain": [
              "array([0], dtype=int32)"
            ]
          },
          "metadata": {
            "tags": []
          },
          "execution_count": 190
        }
      ]
    },
    {
      "cell_type": "code",
      "metadata": {
        "id": "aGJvuL08yFKW",
        "colab_type": "code",
        "colab": {
          "base_uri": "https://localhost:8080/",
          "height": 33
        },
        "outputId": "47744be9-ef9c-46e1-e501-480a2ade9558"
      },
      "source": [
        "y_train[232]"
      ],
      "execution_count": 191,
      "outputs": [
        {
          "output_type": "execute_result",
          "data": {
            "text/plain": [
              "0"
            ]
          },
          "metadata": {
            "tags": []
          },
          "execution_count": 191
        }
      ]
    },
    {
      "cell_type": "code",
      "metadata": {
        "id": "8veScX7iyg-H",
        "colab_type": "code",
        "colab": {
          "base_uri": "https://localhost:8080/",
          "height": 50
        },
        "outputId": "d43a90a9-a4f6-4e3b-c440-ac59712a7c69"
      },
      "source": [
        "svm_clf.decision_function([x_train[232]])"
      ],
      "execution_count": 192,
      "outputs": [
        {
          "output_type": "execute_result",
          "data": {
            "text/plain": [
              "array([[ 9.29841293, -0.30232039,  5.22279913,  0.74050388,  4.83382941,\n",
              "         7.26797946,  8.28179231,  1.73220383,  5.09911763,  2.77053243]])"
            ]
          },
          "metadata": {
            "tags": []
          },
          "execution_count": 192
        }
      ]
    },
    {
      "cell_type": "markdown",
      "metadata": {
        "id": "Er4CccSIypog",
        "colab_type": "text"
      },
      "source": [
        "- 위의 결과를 보면 알 수 있겠지만 정답 index인 0번째 확률값이 제일크다.\n",
        "- 일반적으로 SVC는 OvA전략을 사용하는데, 다른 전략을 사용하도록 강제가 가능하다."
      ]
    },
    {
      "cell_type": "code",
      "metadata": {
        "id": "yI57u45FyoI_",
        "colab_type": "code",
        "colab": {
          "base_uri": "https://localhost:8080/",
          "height": 50
        },
        "outputId": "155602ea-4efc-44ec-cb1a-6a1a425304f7"
      },
      "source": [
        "from sklearn.multiclass import OneVsRestClassifier\n",
        "ovr_clf = OneVsRestClassifier(SVC())\n",
        "ovr_clf.fit(x_train, y_train)\n",
        "ovr_clf.predict([x_train[232]])\n",
        "ovr_clf.decision_function([x_train[232]])"
      ],
      "execution_count": 193,
      "outputs": [
        {
          "output_type": "execute_result",
          "data": {
            "text/plain": [
              "array([[ 0.4028422 , -2.50512446, -1.0188573 , -2.58668457, -1.35123878,\n",
              "        -1.1233082 , -0.62978172, -1.45844805, -1.5987542 , -2.02980883]])"
            ]
          },
          "metadata": {
            "tags": []
          },
          "execution_count": 193
        }
      ]
    },
    {
      "cell_type": "code",
      "metadata": {
        "id": "QsvvOqnCzeu4",
        "colab_type": "code",
        "colab": {}
      },
      "source": [
        "score1 = cross_val_score(ovr_clf, x_train, y_train, cv = 3, scoring = 'accuracy')\n",
        "from sklearn.preprocessing import StandardScaler\n",
        "scaler = StandardScaler()\n",
        "new_x = scaler.fit_transform(x_train.astype(np.float64))\n",
        "score2 = cross_val_score(ovr_clf, new_x, y_train, cv = 3, scoring = 'accuracy')"
      ],
      "execution_count": 195,
      "outputs": []
    },
    {
      "cell_type": "code",
      "metadata": {
        "id": "DBSNKc6d0aeA",
        "colab_type": "code",
        "colab": {
          "base_uri": "https://localhost:8080/",
          "height": 33
        },
        "outputId": "8acd4f95-ceaf-4861-a1af-2516dab1ab10"
      },
      "source": [
        "print(score1, score2)"
      ],
      "execution_count": 196,
      "outputs": [
        {
          "output_type": "stream",
          "text": [
            "[0.9385 0.952  0.948 ] [0.9085 0.9355 0.916 ]\n"
          ],
          "name": "stdout"
        }
      ]
    },
    {
      "cell_type": "markdown",
      "metadata": {
        "id": "bOAdZAOk0dRp",
        "colab_type": "text"
      },
      "source": [
        "- standard scaler을 이용해서 데이터의 스케일에 변형을 주었더니 그것 만으로도 정확도 점수가 올라가는 것을 확인할 수 있을 줄 알았다. '제대로 된' 데이터 전처리의 중요성을 깨닳을 수 있었던 것이라고 생각한다."
      ]
    },
    {
      "cell_type": "markdown",
      "metadata": {
        "id": "St2pUkmb0twR",
        "colab_type": "text"
      },
      "source": [
        "### 3.5 에러 분석\n",
        "- 실제 실무에서 다루는 프로젝트를 진행중이라면 다양한 분류기와 학습기를 만들어 놓고 다양한 모델들을 GridSearchCV와 같은 것을 이용해서 하이퍼파라미터를 튜닝할 것이다.\n",
        "- 이번에는 하나의 최적의 모델을 찾았다고 가정하고 이 모델의 성능을 향상시킬 방법을 찾아보자"
      ]
    },
    {
      "cell_type": "code",
      "metadata": {
        "id": "quxFGuXr0cAs",
        "colab_type": "code",
        "colab": {
          "base_uri": "https://localhost:8080/",
          "height": 262
        },
        "outputId": "058e1fdd-65fb-4186-f220-2cedb019d9fe"
      },
      "source": [
        "cl_a, cl_b = 3,5\n",
        "x_aa = x_train[(y_train == cl_a) & (y_train == cl_a)]\n",
        "x_ab = x_train[(y_train == cl_a) & (y_train == cl_b)]\n",
        "x_ba = x_train[(y_train == cl_b) & (y_train == cl_a)]\n",
        "x_bb = x_train[(y_train == cl_b) & (y_train == cl_b)]\n",
        "\n",
        "plt.figure(figsize=(8,8))\n",
        "plt.subplot(221); plt.imshow(x_aa[0].reshape(28,28))\n",
        "plt.subplot(222); plt.imshow(x_bb[i].reshape(28,28))"
      ],
      "execution_count": 229,
      "outputs": [
        {
          "output_type": "execute_result",
          "data": {
            "text/plain": [
              "<matplotlib.image.AxesImage at 0x7f8b12feb278>"
            ]
          },
          "metadata": {
            "tags": []
          },
          "execution_count": 229
        },
        {
          "output_type": "display_data",
          "data": {
            "image/png": "[encoded data removed]",
            "text/plain": [
              "<Figure size 576x576 with 2 Axes>"
            ]
          },
          "metadata": {
            "tags": [],
            "needs_background": "light"
          }
        }
      ]
    },
    {
      "cell_type": "markdown",
      "metadata": {
        "id": "faI0EIlb8GlK",
        "colab_type": "text"
      },
      "source": [
        "- 분류기는, 특히 이미지를 다룰 때에 이미지의 위치나 회전 방향에 매우 민감하다. 따라서 3과 5 사이에 오류가 발생했다면 이를 줄이기 위해서 이미지를 중앙에 위치시키고 회전되지 않도록 전처리 하는 것도 좋은 방법이다."
      ]
    },
    {
      "cell_type": "markdown",
      "metadata": {
        "id": "mgY4rbUT9iH7",
        "colab_type": "text"
      },
      "source": [
        "### 3.6 다중 레이블 분류\n",
        "- 예를 들면 얼굴 인식 분류기는 하나의 사진에서 a있음,b없음,c있음 이런 식으로 하나의 입력값에 대한 다수의 label을 예측해야 할 것이다.\n",
        "- 이렇게 여러개의 이진 꼬리표를 출력하는 것을 '다중 레이블 분류'라고 한다."
      ]
    },
    {
      "cell_type": "code",
      "metadata": {
        "id": "YnxsR5xZ7ygm",
        "colab_type": "code",
        "colab": {
          "base_uri": "https://localhost:8080/",
          "height": 66
        },
        "outputId": "79bca107-b82b-4bb2-f71e-8b897b9ef3fb"
      },
      "source": [
        "from sklearn.neighbors import KNeighborsClassifier\n",
        "y_train_large = (y_train >= 7)\n",
        "y_train_odd = (y_train%2 == 1)\n",
        "y_multilabel = []\n",
        "for i in range(len(y_train_large)):\n",
        "  temp = []\n",
        "  temp.append(y_train_large[i])\n",
        "  temp.append(y_train_odd[i])\n",
        "  y_multilabel.append(temp)\n",
        "y_multilabel = np.array(y_multilabel)\n",
        "\n",
        "knn_clf = KNeighborsClassifier()\n",
        "knn_clf.fit(x_train, y_multilabel)"
      ],
      "execution_count": 241,
      "outputs": [
        {
          "output_type": "execute_result",
          "data": {
            "text/plain": [
              "KNeighborsClassifier(algorithm='auto', leaf_size=30, metric='minkowski',\n",
              "                     metric_params=None, n_jobs=None, n_neighbors=5, p=2,\n",
              "                     weights='uniform')"
            ]
          },
          "metadata": {
            "tags": []
          },
          "execution_count": 241
        }
      ]
    },
    {
      "cell_type": "code",
      "metadata": {
        "id": "lCzkXCSy-c8E",
        "colab_type": "code",
        "colab": {
          "base_uri": "https://localhost:8080/",
          "height": 133
        },
        "outputId": "5312ca9b-39be-4b5f-9ed4-b071a6affb74"
      },
      "source": [
        "y_multilabel"
      ],
      "execution_count": 242,
      "outputs": [
        {
          "output_type": "execute_result",
          "data": {
            "text/plain": [
              "array([[False,  True],\n",
              "       [False, False],\n",
              "       [False, False],\n",
              "       ...,\n",
              "       [ True, False],\n",
              "       [False, False],\n",
              "       [ True,  True]])"
            ]
          },
          "metadata": {
            "tags": []
          },
          "execution_count": 242
        }
      ]
    },
    {
      "cell_type": "code",
      "metadata": {
        "id": "jwByMjmb-xhg",
        "colab_type": "code",
        "colab": {
          "base_uri": "https://localhost:8080/",
          "height": 33
        },
        "outputId": "d25e5e10-5434-4a40-def5-4333f56033ca"
      },
      "source": [
        "knn_clf.predict([x_train[77]])"
      ],
      "execution_count": 247,
      "outputs": [
        {
          "output_type": "execute_result",
          "data": {
            "text/plain": [
              "array([[False,  True]])"
            ]
          },
          "metadata": {
            "tags": []
          },
          "execution_count": 247
        }
      ]
    },
    {
      "cell_type": "code",
      "metadata": {
        "id": "JTKsvDAx_bfI",
        "colab_type": "code",
        "colab": {
          "base_uri": "https://localhost:8080/",
          "height": 33
        },
        "outputId": "579b5e78-8660-44d5-f493-f3a4b565aeaf"
      },
      "source": [
        "y_multilabel[77]"
      ],
      "execution_count": 248,
      "outputs": [
        {
          "output_type": "execute_result",
          "data": {
            "text/plain": [
              "array([False,  True])"
            ]
          },
          "metadata": {
            "tags": []
          },
          "execution_count": 248
        }
      ]
    },
    {
      "cell_type": "code",
      "metadata": {
        "id": "gJVx1zX0_4vF",
        "colab_type": "code",
        "colab": {
          "base_uri": "https://localhost:8080/",
          "height": 33
        },
        "outputId": "37e23a67-a641-4d0f-a35f-835173f76700"
      },
      "source": [
        "y_train[77]"
      ],
      "execution_count": 249,
      "outputs": [
        {
          "output_type": "execute_result",
          "data": {
            "text/plain": [
              "1"
            ]
          },
          "metadata": {
            "tags": []
          },
          "execution_count": 249
        }
      ]
    },
    {
      "cell_type": "markdown",
      "metadata": {
        "id": "w42cJleE_9xt",
        "colab_type": "text"
      },
      "source": [
        "- 숫자는 1이었고, 7보다 크지 않으며(False) 홀수(True)로 올바르게 분류를 했다.\n",
        "- 나중에 레이블에 클래스의 지지도, 즉 타깃 레이블에 속한 샘플의 수를 가중치로 두어서 계산을 한다면 편차를 훨씬 줄일 수 있을 것이다."
      ]
    },
    {
      "cell_type": "markdown",
      "metadata": {
        "id": "KXzK-QPUALsP",
        "colab_type": "text"
      },
      "source": [
        "### 3.7 다중 출력 분류\n",
        "- Multioutput-Multiclass-Classification이란 다중 레이블 분류에서 하나의 레이블이 다중 클래스가 될 수 있도록 일반화 한 것이다.\n",
        "- 이를 위해서 이미지에서 잡음을 제거하는 시스템을 만들어 보고자 한다.\n",
        "- 잡음이 많은 숫자의 이미지를 입력으로 받아서 잡음이 제거된 이미지의 배열을 픽셀의 가중치가 반영된 형태로 출력하는 것이 목표이다.\n",
        "  - 각각의 이미지가 28*28개의 레이블을 가지며 각 레이블이 (0-255)까지의 픽셀 강도를 갖기 때문에 다중 출력 분류가 맞다.\n",
        "  - 실제 MNIST이미지는 잡음이 제거된 깨끗한 형태이므로 먼저 잡음을 추가하고 원본 이미지와 맞는 이미지가 출력이 되는지 확인해 볼 것이다."
      ]
    },
    {
      "cell_type": "code",
      "metadata": {
        "id": "8KmAqei3_8Bx",
        "colab_type": "code",
        "colab": {}
      },
      "source": [
        "noise = np.random.randint(0,100,(len(x_train), 784))\n",
        "x_train_noise = x_train+noise\n",
        "noise = np.random.randint(0,100,(len(x_test), 784))\n",
        "x_test_noise = x_test+noise\n",
        "y_train_noise = x_train\n",
        "y_test_noise = x_test"
      ],
      "execution_count": 251,
      "outputs": []
    },
    {
      "cell_type": "code",
      "metadata": {
        "id": "Peyy0hmGDiIn",
        "colab_type": "code",
        "colab": {
          "base_uri": "https://localhost:8080/",
          "height": 281
        },
        "outputId": "e975a33c-f777-4a6c-b72c-20356dd47519"
      },
      "source": [
        "plt.imshow(x_train_noise[3].reshape(28,28))"
      ],
      "execution_count": 252,
      "outputs": [
        {
          "output_type": "execute_result",
          "data": {
            "text/plain": [
              "<matplotlib.image.AxesImage at 0x7f8b19abc828>"
            ]
          },
          "metadata": {
            "tags": []
          },
          "execution_count": 252
        },
        {
          "output_type": "display_data",
          "data": {
            "image/png": "[encoded data removed]",
            "text/plain": [
              "<Figure size 432x288 with 1 Axes>"
            ]
          },
          "metadata": {
            "tags": [],
            "needs_background": "light"
          }
        }
      ]
    },
    {
      "cell_type": "code",
      "metadata": {
        "id": "aLUsBBbXDqCb",
        "colab_type": "code",
        "colab": {}
      },
      "source": [
        "knn_clf.fit(x_train_noise, y_train_noise)\n",
        "clean_pred = knn_clf.predict([x_test_noise[34]])"
      ],
      "execution_count": 253,
      "outputs": []
    },
    {
      "cell_type": "code",
      "metadata": {
        "id": "bdxgn1WtD50f",
        "colab_type": "code",
        "colab": {
          "base_uri": "https://localhost:8080/",
          "height": 281
        },
        "outputId": "c0eb0528-7da9-4ba5-d66a-c4adb4ac956c"
      },
      "source": [
        "plt.imshow(clean_pred.reshape(28,28))"
      ],
      "execution_count": 254,
      "outputs": [
        {
          "output_type": "execute_result",
          "data": {
            "text/plain": [
              "<matplotlib.image.AxesImage at 0x7f8b11ba6390>"
            ]
          },
          "metadata": {
            "tags": []
          },
          "execution_count": 254
        },
        {
          "output_type": "display_data",
          "data": {
            "image/png": "[encoded data removed]",
            "text/plain": [
              "<Figure size 432x288 with 1 Axes>"
            ]
          },
          "metadata": {
            "tags": [],
            "needs_background": "light"
          }
        }
      ]
    },
    {
      "cell_type": "markdown",
      "metadata": {
        "id": "wTYL82W7D-3f",
        "colab_type": "text"
      },
      "source": [
        "- 이로써 주변의 잡음이 사라진 것을 알 수 있다."
      ]
    },
    {
      "cell_type": "code",
      "metadata": {
        "id": "JdY8LRKZD9QM",
        "colab_type": "code",
        "colab": {}
      },
      "source": [
        ""
      ],
      "execution_count": null,
      "outputs": []
    }
  ]
}