{
  "nbformat": 4,
  "nbformat_minor": 0,
  "metadata": {
    "colab": {
      "name": "Part 1-Ch.2 ",
      "provenance": []
    },
    "kernelspec": {
      "name": "python3",
      "display_name": "Python 3"
    },
    "accelerator": "GPU"
  },
  "cells": [
    {
      "cell_type": "code",
      "metadata": {
        "id": "qZPZzhWns82J",
        "colab_type": "code",
        "colab": {}
      },
      "source": [
        "import tensorflow as tf\n",
        "import numpy as np\n",
        "import matplotlib.pyplot as plt\n",
        "import os\n",
        "import tarfile\n",
        "import urllib"
      ],
      "execution_count": 33,
      "outputs": []
    },
    {
      "cell_type": "markdown",
      "metadata": {
        "id": "uEiz2iPJi0az",
        "colab_type": "text"
      },
      "source": [
        "library를 불러왔으니 이제 데이터를 추출해야한다.\n",
        "\n",
        "이번에 사용하고자 하는 데이터는 캘리포니아의 주택 가격 데이터이다.\n",
        "\n",
        "데이터의 특성상 labeling이 되어있기 때문에 지도 학습을 진행해야 하며, 사용할 특성이 여러가지이고 구역마다 하나의 정보를 예측한다는 점에서 다중 회귀이자 단변량 회귀이다. \n",
        "\n",
        "성분 측정 지표는 예측값과 실제 값의 거리를 이용해 가중치를 갱신하도록 하는 RMSE(평균 제곱근 오차)나 MAE(평균 절대 오차)를 사용하면 될 것으로 판단이 된다."
      ]
    },
    {
      "cell_type": "code",
      "metadata": {
        "id": "8AMZfD2Liykf",
        "colab_type": "code",
        "colab": {}
      },
      "source": [
        "download_root = \"https://raw.githubusercontent.com/ageron/handson-ml2/master/\"\n",
        "housing_path = os.path.join('datasets', 'housing')\n",
        "housing_url = download_root + 'datasets/housing/housing.tgz'\n",
        "\n",
        "def fetch_housing_data(housing_url = housing_url, housing_path = housing_path):\n",
        "  os.makedirs(housing_path, exist_ok = True)\n",
        "  tgz_path = os.path.join(housing_path, 'housing.tgz')\n",
        "  urllib.request.urlretrieve(housing_url, tgz_path)\n",
        "  housing_tgz = tarfile.open(tgz_path)\n",
        "  housing_tgz.extractall(path = housing_path)\n",
        "  housing_tgz.close()\n",
        "\n"
      ],
      "execution_count": 34,
      "outputs": []
    },
    {
      "cell_type": "markdown",
      "metadata": {
        "id": "5cpqikL0nvSv",
        "colab_type": "text"
      },
      "source": [
        "fetch_housing_data 함수를 이용하게 되면 현재 작업 공간에 datasets/housing 디렉토리를 만들고 housing.tgz 파일을 내려받은 뒤에 압축을 풀어 housing.csv 파일을 만든다. 이렇게 하는 방법은 다른 것 보다도 나중에 계속 데이터가 변화한다고 할 때에 데이터를 새롭게 입력받는 과정을 자동화하여 차후에 편리하도록 해준다.\n",
        "\n",
        "아래 load_housing_data는 모든 데이터를 담은 판다스의 데이터 프레임 객체를 반환한다."
      ]
    },
    {
      "cell_type": "code",
      "metadata": {
        "id": "csbL9gRknZvM",
        "colab_type": "code",
        "colab": {}
      },
      "source": [
        "import pandas as pd\n",
        "\n",
        "def load_housing_data(housing_path = housing_path):\n",
        "  csv_path = os.path.join(housing_path, 'housing.csv')\n",
        "  return pd.read_csv(csv_path)"
      ],
      "execution_count": 35,
      "outputs": []
    },
    {
      "cell_type": "code",
      "metadata": {
        "id": "AK6Gr2W5npCl",
        "colab_type": "code",
        "colab": {}
      },
      "source": [
        "fetch_housing_data()"
      ],
      "execution_count": 36,
      "outputs": []
    },
    {
      "cell_type": "markdown",
      "metadata": {
        "id": "nDH1B31mqOHM",
        "colab_type": "text"
      },
      "source": [
        "housing이 이제부터 데이터 분석에 이용할 데이터셋이다."
      ]
    },
    {
      "cell_type": "code",
      "metadata": {
        "id": "PK5fSomipNYy",
        "colab_type": "code",
        "colab": {}
      },
      "source": [
        "housing = load_housing_data()"
      ],
      "execution_count": 37,
      "outputs": []
    },
    {
      "cell_type": "markdown",
      "metadata": {
        "id": "xSz2dAEhp7Cl",
        "colab_type": "text"
      },
      "source": [
        "DataFrame의 head() method를 이용해서 자료를 확인해 본다.\n",
        "\n",
        "아무 변수도 설정해 주지 않으면 처음 5개의 행을 출력한다.\n"
      ]
    },
    {
      "cell_type": "code",
      "metadata": {
        "id": "ohONwHGip4xp",
        "colab_type": "code",
        "colab": {
          "base_uri": "https://localhost:8080/",
          "height": 346
        },
        "outputId": "ba95e2e4-4171-41e4-fe2f-2049294bd656"
      },
      "source": [
        "housing.head(10)"
      ],
      "execution_count": 38,
      "outputs": [
        {
          "output_type": "execute_result",
          "data": {
            "text/html": [
              "<div>\n",
              "<style scoped>\n",
              "    .dataframe tbody tr th:only-of-type {\n",
              "        vertical-align: middle;\n",
              "    }\n",
              "\n",
              "    .dataframe tbody tr th {\n",
              "        vertical-align: top;\n",
              "    }\n",
              "\n",
              "    .dataframe thead th {\n",
              "        text-align: right;\n",
              "    }\n",
              "</style>\n",
              "<table border=\"1\" class=\"dataframe\">\n",
              "  <thead>\n",
              "    <tr style=\"text-align: right;\">\n",
              "      <th></th>\n",
              "      <th>longitude</th>\n",
              "      <th>latitude</th>\n",
              "      <th>housing_median_age</th>\n",
              "      <th>total_rooms</th>\n",
              "      <th>total_bedrooms</th>\n",
              "      <th>population</th>\n",
              "      <th>households</th>\n",
              "      <th>median_income</th>\n",
              "      <th>median_house_value</th>\n",
              "      <th>ocean_proximity</th>\n",
              "    </tr>\n",
              "  </thead>\n",
              "  <tbody>\n",
              "    <tr>\n",
              "      <th>0</th>\n",
              "      <td>-122.23</td>\n",
              "      <td>37.88</td>\n",
              "      <td>41.0</td>\n",
              "      <td>880.0</td>\n",
              "      <td>129.0</td>\n",
              "      <td>322.0</td>\n",
              "      <td>126.0</td>\n",
              "      <td>8.3252</td>\n",
              "      <td>452600.0</td>\n",
              "      <td>NEAR BAY</td>\n",
              "    </tr>\n",
              "    <tr>\n",
              "      <th>1</th>\n",
              "      <td>-122.22</td>\n",
              "      <td>37.86</td>\n",
              "      <td>21.0</td>\n",
              "      <td>7099.0</td>\n",
              "      <td>1106.0</td>\n",
              "      <td>2401.0</td>\n",
              "      <td>1138.0</td>\n",
              "      <td>8.3014</td>\n",
              "      <td>358500.0</td>\n",
              "      <td>NEAR BAY</td>\n",
              "    </tr>\n",
              "    <tr>\n",
              "      <th>2</th>\n",
              "      <td>-122.24</td>\n",
              "      <td>37.85</td>\n",
              "      <td>52.0</td>\n",
              "      <td>1467.0</td>\n",
              "      <td>190.0</td>\n",
              "      <td>496.0</td>\n",
              "      <td>177.0</td>\n",
              "      <td>7.2574</td>\n",
              "      <td>352100.0</td>\n",
              "      <td>NEAR BAY</td>\n",
              "    </tr>\n",
              "    <tr>\n",
              "      <th>3</th>\n",
              "      <td>-122.25</td>\n",
              "      <td>37.85</td>\n",
              "      <td>52.0</td>\n",
              "      <td>1274.0</td>\n",
              "      <td>235.0</td>\n",
              "      <td>558.0</td>\n",
              "      <td>219.0</td>\n",
              "      <td>5.6431</td>\n",
              "      <td>341300.0</td>\n",
              "      <td>NEAR BAY</td>\n",
              "    </tr>\n",
              "    <tr>\n",
              "      <th>4</th>\n",
              "      <td>-122.25</td>\n",
              "      <td>37.85</td>\n",
              "      <td>52.0</td>\n",
              "      <td>1627.0</td>\n",
              "      <td>280.0</td>\n",
              "      <td>565.0</td>\n",
              "      <td>259.0</td>\n",
              "      <td>3.8462</td>\n",
              "      <td>342200.0</td>\n",
              "      <td>NEAR BAY</td>\n",
              "    </tr>\n",
              "    <tr>\n",
              "      <th>5</th>\n",
              "      <td>-122.25</td>\n",
              "      <td>37.85</td>\n",
              "      <td>52.0</td>\n",
              "      <td>919.0</td>\n",
              "      <td>213.0</td>\n",
              "      <td>413.0</td>\n",
              "      <td>193.0</td>\n",
              "      <td>4.0368</td>\n",
              "      <td>269700.0</td>\n",
              "      <td>NEAR BAY</td>\n",
              "    </tr>\n",
              "    <tr>\n",
              "      <th>6</th>\n",
              "      <td>-122.25</td>\n",
              "      <td>37.84</td>\n",
              "      <td>52.0</td>\n",
              "      <td>2535.0</td>\n",
              "      <td>489.0</td>\n",
              "      <td>1094.0</td>\n",
              "      <td>514.0</td>\n",
              "      <td>3.6591</td>\n",
              "      <td>299200.0</td>\n",
              "      <td>NEAR BAY</td>\n",
              "    </tr>\n",
              "    <tr>\n",
              "      <th>7</th>\n",
              "      <td>-122.25</td>\n",
              "      <td>37.84</td>\n",
              "      <td>52.0</td>\n",
              "      <td>3104.0</td>\n",
              "      <td>687.0</td>\n",
              "      <td>1157.0</td>\n",
              "      <td>647.0</td>\n",
              "      <td>3.1200</td>\n",
              "      <td>241400.0</td>\n",
              "      <td>NEAR BAY</td>\n",
              "    </tr>\n",
              "    <tr>\n",
              "      <th>8</th>\n",
              "      <td>-122.26</td>\n",
              "      <td>37.84</td>\n",
              "      <td>42.0</td>\n",
              "      <td>2555.0</td>\n",
              "      <td>665.0</td>\n",
              "      <td>1206.0</td>\n",
              "      <td>595.0</td>\n",
              "      <td>2.0804</td>\n",
              "      <td>226700.0</td>\n",
              "      <td>NEAR BAY</td>\n",
              "    </tr>\n",
              "    <tr>\n",
              "      <th>9</th>\n",
              "      <td>-122.25</td>\n",
              "      <td>37.84</td>\n",
              "      <td>52.0</td>\n",
              "      <td>3549.0</td>\n",
              "      <td>707.0</td>\n",
              "      <td>1551.0</td>\n",
              "      <td>714.0</td>\n",
              "      <td>3.6912</td>\n",
              "      <td>261100.0</td>\n",
              "      <td>NEAR BAY</td>\n",
              "    </tr>\n",
              "  </tbody>\n",
              "</table>\n",
              "</div>"
            ],
            "text/plain": [
              "   longitude  latitude  ...  median_house_value  ocean_proximity\n",
              "0    -122.23     37.88  ...            452600.0         NEAR BAY\n",
              "1    -122.22     37.86  ...            358500.0         NEAR BAY\n",
              "2    -122.24     37.85  ...            352100.0         NEAR BAY\n",
              "3    -122.25     37.85  ...            341300.0         NEAR BAY\n",
              "4    -122.25     37.85  ...            342200.0         NEAR BAY\n",
              "5    -122.25     37.85  ...            269700.0         NEAR BAY\n",
              "6    -122.25     37.84  ...            299200.0         NEAR BAY\n",
              "7    -122.25     37.84  ...            241400.0         NEAR BAY\n",
              "8    -122.26     37.84  ...            226700.0         NEAR BAY\n",
              "9    -122.25     37.84  ...            261100.0         NEAR BAY\n",
              "\n",
              "[10 rows x 10 columns]"
            ]
          },
          "metadata": {
            "tags": []
          },
          "execution_count": 38
        }
      ]
    },
    {
      "cell_type": "markdown",
      "metadata": {
        "id": "_bhtOvIqqZA_",
        "colab_type": "text"
      },
      "source": [
        "info()를 이용해서 디에터셋의 전체 행 수, 각 특성의 type등이 확인이 가능하다."
      ]
    },
    {
      "cell_type": "code",
      "metadata": {
        "id": "mCZn8mxTp6JL",
        "colab_type": "code",
        "colab": {
          "base_uri": "https://localhost:8080/",
          "height": 325
        },
        "outputId": "3d71fd6e-c26c-4bc0-cb02-739cdf191c92"
      },
      "source": [
        "housing.info()"
      ],
      "execution_count": 39,
      "outputs": [
        {
          "output_type": "stream",
          "text": [
            "<class 'pandas.core.frame.DataFrame'>\n",
            "RangeIndex: 20640 entries, 0 to 20639\n",
            "Data columns (total 10 columns):\n",
            " #   Column              Non-Null Count  Dtype  \n",
            "---  ------              --------------  -----  \n",
            " 0   longitude           20640 non-null  float64\n",
            " 1   latitude            20640 non-null  float64\n",
            " 2   housing_median_age  20640 non-null  float64\n",
            " 3   total_rooms         20640 non-null  float64\n",
            " 4   total_bedrooms      20433 non-null  float64\n",
            " 5   population          20640 non-null  float64\n",
            " 6   households          20640 non-null  float64\n",
            " 7   median_income       20640 non-null  float64\n",
            " 8   median_house_value  20640 non-null  float64\n",
            " 9   ocean_proximity     20640 non-null  object \n",
            "dtypes: float64(9), object(1)\n",
            "memory usage: 1.6+ MB\n"
          ],
          "name": "stdout"
        }
      ]
    },
    {
      "cell_type": "markdown",
      "metadata": {
        "id": "FFD3ItDLqkkE",
        "colab_type": "text"
      },
      "source": [
        "info()의 정보를 보면 총 20640개의 데이터가 존재하고, 여기서 total_bedrooms의 개수는 20433개만이 null값이 아니다. 따라서 207개의 구역은 이 특성을 갖고 있지 않음을 의미하는데, 이는 나중에 적절하게 해결이 가능하다. \n",
        "\n",
        "ocean_proximity의 필드만 제외하고 모든 특성이 float64로 숫자형인데, 그렇다면 ocean_proximity의 값은 문자열일 것이고 앞서 board()로 출력한 값에 의하면 이는 반복되기 떄문에 범주형 자료임이 확인이 가능하다.\n",
        "\n",
        "어떤 카테고리가 있고 이 카테고리마다 얼마나 많은 구역이 있는지는 value_counts()메서드로 확인을 한다."
      ]
    },
    {
      "cell_type": "code",
      "metadata": {
        "id": "96eFZfQ3qhFK",
        "colab_type": "code",
        "colab": {
          "base_uri": "https://localhost:8080/",
          "height": 125
        },
        "outputId": "66a6d6d2-f834-43c0-9ffd-17ba0a0fab2a"
      },
      "source": [
        "housing['ocean_proximity'].value_counts()"
      ],
      "execution_count": 40,
      "outputs": [
        {
          "output_type": "execute_result",
          "data": {
            "text/plain": [
              "<1H OCEAN     9136\n",
              "INLAND        6551\n",
              "NEAR OCEAN    2658\n",
              "NEAR BAY      2290\n",
              "ISLAND           5\n",
              "Name: ocean_proximity, dtype: int64"
            ]
          },
          "metadata": {
            "tags": []
          },
          "execution_count": 40
        }
      ]
    },
    {
      "cell_type": "markdown",
      "metadata": {
        "id": "oNJqWVd6rpot",
        "colab_type": "text"
      },
      "source": [
        "describe()는 숫자형 특성의 요약 정보를 보여준다."
      ]
    },
    {
      "cell_type": "code",
      "metadata": {
        "id": "Hosfl3LrroDx",
        "colab_type": "code",
        "colab": {
          "base_uri": "https://localhost:8080/",
          "height": 286
        },
        "outputId": "d1fd2a9b-288f-4344-b78e-3176557214b6"
      },
      "source": [
        "housing.describe()"
      ],
      "execution_count": 41,
      "outputs": [
        {
          "output_type": "execute_result",
          "data": {
            "text/html": [
              "<div>\n",
              "<style scoped>\n",
              "    .dataframe tbody tr th:only-of-type {\n",
              "        vertical-align: middle;\n",
              "    }\n",
              "\n",
              "    .dataframe tbody tr th {\n",
              "        vertical-align: top;\n",
              "    }\n",
              "\n",
              "    .dataframe thead th {\n",
              "        text-align: right;\n",
              "    }\n",
              "</style>\n",
              "<table border=\"1\" class=\"dataframe\">\n",
              "  <thead>\n",
              "    <tr style=\"text-align: right;\">\n",
              "      <th></th>\n",
              "      <th>longitude</th>\n",
              "      <th>latitude</th>\n",
              "      <th>housing_median_age</th>\n",
              "      <th>total_rooms</th>\n",
              "      <th>total_bedrooms</th>\n",
              "      <th>population</th>\n",
              "      <th>households</th>\n",
              "      <th>median_income</th>\n",
              "      <th>median_house_value</th>\n",
              "    </tr>\n",
              "  </thead>\n",
              "  <tbody>\n",
              "    <tr>\n",
              "      <th>count</th>\n",
              "      <td>20640.000000</td>\n",
              "      <td>20640.000000</td>\n",
              "      <td>20640.000000</td>\n",
              "      <td>20640.000000</td>\n",
              "      <td>20433.000000</td>\n",
              "      <td>20640.000000</td>\n",
              "      <td>20640.000000</td>\n",
              "      <td>20640.000000</td>\n",
              "      <td>20640.000000</td>\n",
              "    </tr>\n",
              "    <tr>\n",
              "      <th>mean</th>\n",
              "      <td>-119.569704</td>\n",
              "      <td>35.631861</td>\n",
              "      <td>28.639486</td>\n",
              "      <td>2635.763081</td>\n",
              "      <td>537.870553</td>\n",
              "      <td>1425.476744</td>\n",
              "      <td>499.539680</td>\n",
              "      <td>3.870671</td>\n",
              "      <td>206855.816909</td>\n",
              "    </tr>\n",
              "    <tr>\n",
              "      <th>std</th>\n",
              "      <td>2.003532</td>\n",
              "      <td>2.135952</td>\n",
              "      <td>12.585558</td>\n",
              "      <td>2181.615252</td>\n",
              "      <td>421.385070</td>\n",
              "      <td>1132.462122</td>\n",
              "      <td>382.329753</td>\n",
              "      <td>1.899822</td>\n",
              "      <td>115395.615874</td>\n",
              "    </tr>\n",
              "    <tr>\n",
              "      <th>min</th>\n",
              "      <td>-124.350000</td>\n",
              "      <td>32.540000</td>\n",
              "      <td>1.000000</td>\n",
              "      <td>2.000000</td>\n",
              "      <td>1.000000</td>\n",
              "      <td>3.000000</td>\n",
              "      <td>1.000000</td>\n",
              "      <td>0.499900</td>\n",
              "      <td>14999.000000</td>\n",
              "    </tr>\n",
              "    <tr>\n",
              "      <th>25%</th>\n",
              "      <td>-121.800000</td>\n",
              "      <td>33.930000</td>\n",
              "      <td>18.000000</td>\n",
              "      <td>1447.750000</td>\n",
              "      <td>296.000000</td>\n",
              "      <td>787.000000</td>\n",
              "      <td>280.000000</td>\n",
              "      <td>2.563400</td>\n",
              "      <td>119600.000000</td>\n",
              "    </tr>\n",
              "    <tr>\n",
              "      <th>50%</th>\n",
              "      <td>-118.490000</td>\n",
              "      <td>34.260000</td>\n",
              "      <td>29.000000</td>\n",
              "      <td>2127.000000</td>\n",
              "      <td>435.000000</td>\n",
              "      <td>1166.000000</td>\n",
              "      <td>409.000000</td>\n",
              "      <td>3.534800</td>\n",
              "      <td>179700.000000</td>\n",
              "    </tr>\n",
              "    <tr>\n",
              "      <th>75%</th>\n",
              "      <td>-118.010000</td>\n",
              "      <td>37.710000</td>\n",
              "      <td>37.000000</td>\n",
              "      <td>3148.000000</td>\n",
              "      <td>647.000000</td>\n",
              "      <td>1725.000000</td>\n",
              "      <td>605.000000</td>\n",
              "      <td>4.743250</td>\n",
              "      <td>264725.000000</td>\n",
              "    </tr>\n",
              "    <tr>\n",
              "      <th>max</th>\n",
              "      <td>-114.310000</td>\n",
              "      <td>41.950000</td>\n",
              "      <td>52.000000</td>\n",
              "      <td>39320.000000</td>\n",
              "      <td>6445.000000</td>\n",
              "      <td>35682.000000</td>\n",
              "      <td>6082.000000</td>\n",
              "      <td>15.000100</td>\n",
              "      <td>500001.000000</td>\n",
              "    </tr>\n",
              "  </tbody>\n",
              "</table>\n",
              "</div>"
            ],
            "text/plain": [
              "          longitude      latitude  ...  median_income  median_house_value\n",
              "count  20640.000000  20640.000000  ...   20640.000000        20640.000000\n",
              "mean    -119.569704     35.631861  ...       3.870671       206855.816909\n",
              "std        2.003532      2.135952  ...       1.899822       115395.615874\n",
              "min     -124.350000     32.540000  ...       0.499900        14999.000000\n",
              "25%     -121.800000     33.930000  ...       2.563400       119600.000000\n",
              "50%     -118.490000     34.260000  ...       3.534800       179700.000000\n",
              "75%     -118.010000     37.710000  ...       4.743250       264725.000000\n",
              "max     -114.310000     41.950000  ...      15.000100       500001.000000\n",
              "\n",
              "[8 rows x 9 columns]"
            ]
          },
          "metadata": {
            "tags": []
          },
          "execution_count": 41
        }
      ]
    },
    {
      "cell_type": "markdown",
      "metadata": {
        "id": "7BzDViFzr0kc",
        "colab_type": "text"
      },
      "source": [
        "std행은 값이 퍼져있는 정도를 측정하는 표준편차를, 25%,50%,75%는 백분위수를(주어진 백분율이 속하는 하위 부분의 값을 나타냄) 나타낸다."
      ]
    },
    {
      "cell_type": "code",
      "metadata": {
        "id": "C3D_ttXdrxmJ",
        "colab_type": "code",
        "colab": {
          "base_uri": "https://localhost:8080/",
          "height": 878
        },
        "outputId": "d5c8621b-092f-4c56-d7e4-6d8c8d048de6"
      },
      "source": [
        "%matplotlib inline\n",
        "housing.hist(bins = 50, figsize = (20, 15))\n",
        "plt.show()"
      ],
      "execution_count": 42,
      "outputs": [
        {
          "output_type": "display_data",
          "data": {
            "image/png": "[encoded data removed]",
            "text/plain": [
              "<Figure size 1440x1080 with 9 Axes>"
            ]
          },
          "metadata": {
            "tags": [],
            "needs_background": "light"
          }
        }
      ]
    },
    {
      "cell_type": "markdown",
      "metadata": {
        "id": "TMFguW6Lt3yT",
        "colab_type": "text"
      },
      "source": [
        "중간 주택 가격과 중간 주책 연도가 최댓값과 최솟값을 한정해준 상태인데, 주택 가격 정보가 바로 제일 중요한 데이터 이기 떄문에 이것이 실무에서 치명적이라면\n",
        "\n",
        "\n",
        "1.  한곗값 밖의 구역에 대한 정확한 label구하기\n",
        "2.  훈련 세트에서 이런 특성은 제거\n",
        "\n",
        "많은 히스토그램의 꼬리 부분이 두껍소 오른쪽으로 더 길게 뻗어 있다. 이러한 N(0,1)과 같은 종모양과 거리가 먼경우에는 머신러닝을 통해 규칙을 찾는 것이 조금은 어려울 수 있다. 따라서 나중에 종 모양이 되도록 분포를 변형시키는 과정이 필요하다.\n",
        "\n"
      ]
    },
    {
      "cell_type": "markdown",
      "metadata": {
        "id": "TIdfPIm3e3UJ",
        "colab_type": "text"
      },
      "source": [
        "이제 테스트 세트를 만드는 과정이 중요하다.\n",
        "\n",
        "절대 데이터 분석 전에 미리 테스트 세트의 데이터를 보아서는 안되는데, 이는 미리 예측을 하여 '데이터 스누핑'현상이 발생할 수 있기 때문이다."
      ]
    },
    {
      "cell_type": "code",
      "metadata": {
        "id": "iqDRtTSdtydi",
        "colab_type": "code",
        "colab": {}
      },
      "source": [
        "import numpy as np\n",
        "\n",
        "def split_train_test(data, ratio):\n",
        "  shuffled_indices = np.random.permutation(len(data))\n",
        "  test_set_size = int(len(data)*ratio)\n",
        "  test_indices = shuffled_indices[:test_set_size]\n",
        "  train_indices = shuffled_indices[test_set_size:]\n",
        "  return data.iloc[train_indices], data.iloc[test_indices]\n",
        "\n",
        "  "
      ],
      "execution_count": 43,
      "outputs": []
    },
    {
      "cell_type": "markdown",
      "metadata": {
        "id": "G6kKNyB5lA6-",
        "colab_type": "text"
      },
      "source": [
        "위의 방법은 임의로 비율을 선택하여 테스트 케이스를 생성하는 방법이지만 나중에 데이터셋이 업데이트 되었을 때에 불러오기가 어려울 수 있을 것이다. 따라서 개별 식별자를 생성하여 테스트 케이스의 id를 기준으로 생성하면 된다."
      ]
    },
    {
      "cell_type": "code",
      "metadata": {
        "id": "DD2UUVY4fO_y",
        "colab_type": "code",
        "colab": {}
      },
      "source": [
        "from zlib import crc32\n",
        "def test_set_check(id, ratio):\n",
        "  return crc32(np.int64(id) & 0xfffffffff < ratio*2**32)\n",
        "def split_train_test_by_id(data, ratio, id_column):\n",
        "  ids = data[id_column]\n",
        "  in_test_set = ids.apply(lambda id_:test_set_check(id_, ratio))\n",
        "  return data.loc[~in_test_set], data.loc[in_test_set]"
      ],
      "execution_count": 44,
      "outputs": []
    },
    {
      "cell_type": "markdown",
      "metadata": {
        "id": "idxe1i0Ml_an",
        "colab_type": "text"
      },
      "source": [
        "\n",
        "\n",
        "```\n",
        "housing_with_id = housing.reset_index()\n",
        "train_set, test_set = split_train_test_by_id(housing_with_id, 0.2, 'index')\n",
        "```\n",
        "식별자 칼럼이 데이터셋에 따로 없는 경우에는 행의 인덱스를 id로 이용하면 된다. .reset_index()를 하면 'index'열이 추가된 데이터 프레임이 반환된다.\n",
        "\n"
      ]
    },
    {
      "cell_type": "markdown",
      "metadata": {
        "id": "Vt_dhqFYm3hU",
        "colab_type": "text"
      },
      "source": [
        "하지만 무엇보다도 이미 주어진 sklearn의 함수를 이용하는 것이 편리하다."
      ]
    },
    {
      "cell_type": "code",
      "metadata": {
        "id": "-fNqUWyqmhW5",
        "colab_type": "code",
        "colab": {}
      },
      "source": [
        "from sklearn.model_selection import train_test_split\n",
        "train_set, test_set = train_test_split(housing, test_size = 0.2, random_state = 42)\n"
      ],
      "execution_count": 45,
      "outputs": []
    },
    {
      "cell_type": "markdown",
      "metadata": {
        "id": "ZrRGk6R7pRSF",
        "colab_type": "text"
      },
      "source": [
        "train_test_split()함수는 python list, numpy array, pandas dataframe, pandas series등의 객체만을 입력값으로 받을 수 있다."
      ]
    },
    {
      "cell_type": "markdown",
      "metadata": {
        "id": "OX_zXyRnpfYn",
        "colab_type": "text"
      },
      "source": [
        "우리가 주목해야 하는 소득 데이터에 주목해서 그 특징을 더 잘 파악할 수 있도록 새로운 데이테 레이블을 만들어본다."
      ]
    },
    {
      "cell_type": "code",
      "metadata": {
        "id": "OazgXwaxpA2F",
        "colab_type": "code",
        "colab": {
          "base_uri": "https://localhost:8080/",
          "height": 343
        },
        "outputId": "95c69fdf-af38-47d6-a8ad-1e16e1255224"
      },
      "source": [
        "housing['income_cat'] = pd.cut(housing['median_income'],\n",
        "                               bins = [0., 1.5, 3.0, 4.5, 6., np.inf],\n",
        "                               labels = [1,2,3,4,5])\n",
        "housing.info()\n",
        "        "
      ],
      "execution_count": 46,
      "outputs": [
        {
          "output_type": "stream",
          "text": [
            "<class 'pandas.core.frame.DataFrame'>\n",
            "RangeIndex: 20640 entries, 0 to 20639\n",
            "Data columns (total 11 columns):\n",
            " #   Column              Non-Null Count  Dtype   \n",
            "---  ------              --------------  -----   \n",
            " 0   longitude           20640 non-null  float64 \n",
            " 1   latitude            20640 non-null  float64 \n",
            " 2   housing_median_age  20640 non-null  float64 \n",
            " 3   total_rooms         20640 non-null  float64 \n",
            " 4   total_bedrooms      20433 non-null  float64 \n",
            " 5   population          20640 non-null  float64 \n",
            " 6   households          20640 non-null  float64 \n",
            " 7   median_income       20640 non-null  float64 \n",
            " 8   median_house_value  20640 non-null  float64 \n",
            " 9   ocean_proximity     20640 non-null  object  \n",
            " 10  income_cat          20640 non-null  category\n",
            "dtypes: category(1), float64(9), object(1)\n",
            "memory usage: 1.6+ MB\n"
          ],
          "name": "stdout"
        }
      ]
    },
    {
      "cell_type": "markdown",
      "metadata": {
        "id": "QKXantUbp6Ow",
        "colab_type": "text"
      },
      "source": [
        "밑에 새롭게 income_cat라는 column이 생성 되었음을 알 수있다."
      ]
    },
    {
      "cell_type": "code",
      "metadata": {
        "id": "Cqe_8qTwp4zv",
        "colab_type": "code",
        "colab": {}
      },
      "source": [
        "from sklearn.model_selection import StratifiedShuffleSplit\n",
        "\n",
        "split = StratifiedShuffleSplit(n_splits = 1, test_size = 0.2, random_state = 42)\n",
        "for train_index, test_index in split.split(housing, housing['income_cat']):\n",
        "  strat_train_set = housing.loc[train_index]\n",
        "  strat_test_set = housing.loc[test_index]"
      ],
      "execution_count": 47,
      "outputs": []
    },
    {
      "cell_type": "markdown",
      "metadata": {
        "id": "04H1ehNzv5jo",
        "colab_type": "text"
      },
      "source": [
        "계층적 샘플링을 시행함으로서 테스트 세트가 전체 인구를 대변하는 데이터가 될 수 있도록 각 계층별로 충분한 샘플 수가 있어야 한다. 즉, train_set와 test_set에서도 일정한 비율을 유지하면서, 즉 일정한 statistic을 유지하면서 sampling을 해야 한다는 의미이다."
      ]
    },
    {
      "cell_type": "markdown",
      "metadata": {
        "id": "wE2XllnVuLpo",
        "colab_type": "text"
      },
      "source": [
        ".loc을 이용해서 label을 이용해 value의 group을 생성한다."
      ]
    },
    {
      "cell_type": "markdown",
      "metadata": {
        "id": "859Z9FQDuZAn",
        "colab_type": "text"
      },
      "source": [
        "사실 housing['income_cat']의 데이터만 저장되어 있을 것이라고 생각했는데 그렇지가 않았다. 왜일까??\n",
        "\n",
        "아무튼 이렇게 해서 housing['income_cat'].value_counts() / len(strat_test_set)를 해주면 정해준 5개의 label별로 비율을 알려준다."
      ]
    },
    {
      "cell_type": "code",
      "metadata": {
        "id": "QlFf45ySql7U",
        "colab_type": "code",
        "colab": {}
      },
      "source": [
        "for set_ in (strat_train_set, strat_test_set):\n",
        "  set_.drop('income_cat', axis = 1, inplace = True)"
      ],
      "execution_count": 48,
      "outputs": []
    },
    {
      "cell_type": "code",
      "metadata": {
        "id": "kmRLRPl1u8FX",
        "colab_type": "code",
        "colab": {
          "base_uri": "https://localhost:8080/",
          "height": 405
        },
        "outputId": "817b8a76-26f0-4439-feba-3e8b036fce6b"
      },
      "source": [
        "strat_test_set"
      ],
      "execution_count": 49,
      "outputs": [
        {
          "output_type": "execute_result",
          "data": {
            "text/html": [
              "<div>\n",
              "<style scoped>\n",
              "    .dataframe tbody tr th:only-of-type {\n",
              "        vertical-align: middle;\n",
              "    }\n",
              "\n",
              "    .dataframe tbody tr th {\n",
              "        vertical-align: top;\n",
              "    }\n",
              "\n",
              "    .dataframe thead th {\n",
              "        text-align: right;\n",
              "    }\n",
              "</style>\n",
              "<table border=\"1\" class=\"dataframe\">\n",
              "  <thead>\n",
              "    <tr style=\"text-align: right;\">\n",
              "      <th></th>\n",
              "      <th>longitude</th>\n",
              "      <th>latitude</th>\n",
              "      <th>housing_median_age</th>\n",
              "      <th>total_rooms</th>\n",
              "      <th>total_bedrooms</th>\n",
              "      <th>population</th>\n",
              "      <th>households</th>\n",
              "      <th>median_income</th>\n",
              "      <th>median_house_value</th>\n",
              "      <th>ocean_proximity</th>\n",
              "    </tr>\n",
              "  </thead>\n",
              "  <tbody>\n",
              "    <tr>\n",
              "      <th>5241</th>\n",
              "      <td>-118.39</td>\n",
              "      <td>34.12</td>\n",
              "      <td>29.0</td>\n",
              "      <td>6447.0</td>\n",
              "      <td>1012.0</td>\n",
              "      <td>2184.0</td>\n",
              "      <td>960.0</td>\n",
              "      <td>8.2816</td>\n",
              "      <td>500001.0</td>\n",
              "      <td>&lt;1H OCEAN</td>\n",
              "    </tr>\n",
              "    <tr>\n",
              "      <th>10970</th>\n",
              "      <td>-117.86</td>\n",
              "      <td>33.77</td>\n",
              "      <td>39.0</td>\n",
              "      <td>4159.0</td>\n",
              "      <td>655.0</td>\n",
              "      <td>1669.0</td>\n",
              "      <td>651.0</td>\n",
              "      <td>4.6111</td>\n",
              "      <td>240300.0</td>\n",
              "      <td>&lt;1H OCEAN</td>\n",
              "    </tr>\n",
              "    <tr>\n",
              "      <th>20351</th>\n",
              "      <td>-119.05</td>\n",
              "      <td>34.21</td>\n",
              "      <td>27.0</td>\n",
              "      <td>4357.0</td>\n",
              "      <td>926.0</td>\n",
              "      <td>2110.0</td>\n",
              "      <td>876.0</td>\n",
              "      <td>3.0119</td>\n",
              "      <td>218200.0</td>\n",
              "      <td>&lt;1H OCEAN</td>\n",
              "    </tr>\n",
              "    <tr>\n",
              "      <th>6568</th>\n",
              "      <td>-118.15</td>\n",
              "      <td>34.20</td>\n",
              "      <td>52.0</td>\n",
              "      <td>1786.0</td>\n",
              "      <td>306.0</td>\n",
              "      <td>1018.0</td>\n",
              "      <td>322.0</td>\n",
              "      <td>4.1518</td>\n",
              "      <td>182100.0</td>\n",
              "      <td>INLAND</td>\n",
              "    </tr>\n",
              "    <tr>\n",
              "      <th>13285</th>\n",
              "      <td>-117.68</td>\n",
              "      <td>34.07</td>\n",
              "      <td>32.0</td>\n",
              "      <td>1775.0</td>\n",
              "      <td>314.0</td>\n",
              "      <td>1067.0</td>\n",
              "      <td>302.0</td>\n",
              "      <td>4.0375</td>\n",
              "      <td>121300.0</td>\n",
              "      <td>INLAND</td>\n",
              "    </tr>\n",
              "    <tr>\n",
              "      <th>...</th>\n",
              "      <td>...</td>\n",
              "      <td>...</td>\n",
              "      <td>...</td>\n",
              "      <td>...</td>\n",
              "      <td>...</td>\n",
              "      <td>...</td>\n",
              "      <td>...</td>\n",
              "      <td>...</td>\n",
              "      <td>...</td>\n",
              "      <td>...</td>\n",
              "    </tr>\n",
              "    <tr>\n",
              "      <th>20519</th>\n",
              "      <td>-121.53</td>\n",
              "      <td>38.58</td>\n",
              "      <td>33.0</td>\n",
              "      <td>4988.0</td>\n",
              "      <td>1169.0</td>\n",
              "      <td>2414.0</td>\n",
              "      <td>1075.0</td>\n",
              "      <td>1.9728</td>\n",
              "      <td>76400.0</td>\n",
              "      <td>INLAND</td>\n",
              "    </tr>\n",
              "    <tr>\n",
              "      <th>17430</th>\n",
              "      <td>-120.44</td>\n",
              "      <td>34.65</td>\n",
              "      <td>30.0</td>\n",
              "      <td>2265.0</td>\n",
              "      <td>512.0</td>\n",
              "      <td>1402.0</td>\n",
              "      <td>471.0</td>\n",
              "      <td>1.9750</td>\n",
              "      <td>134000.0</td>\n",
              "      <td>NEAR OCEAN</td>\n",
              "    </tr>\n",
              "    <tr>\n",
              "      <th>4019</th>\n",
              "      <td>-118.49</td>\n",
              "      <td>34.18</td>\n",
              "      <td>31.0</td>\n",
              "      <td>3073.0</td>\n",
              "      <td>674.0</td>\n",
              "      <td>1486.0</td>\n",
              "      <td>684.0</td>\n",
              "      <td>4.8984</td>\n",
              "      <td>311700.0</td>\n",
              "      <td>&lt;1H OCEAN</td>\n",
              "    </tr>\n",
              "    <tr>\n",
              "      <th>12107</th>\n",
              "      <td>-117.32</td>\n",
              "      <td>33.99</td>\n",
              "      <td>27.0</td>\n",
              "      <td>5464.0</td>\n",
              "      <td>850.0</td>\n",
              "      <td>2400.0</td>\n",
              "      <td>836.0</td>\n",
              "      <td>4.7110</td>\n",
              "      <td>133500.0</td>\n",
              "      <td>INLAND</td>\n",
              "    </tr>\n",
              "    <tr>\n",
              "      <th>2398</th>\n",
              "      <td>-118.91</td>\n",
              "      <td>36.79</td>\n",
              "      <td>19.0</td>\n",
              "      <td>1616.0</td>\n",
              "      <td>324.0</td>\n",
              "      <td>187.0</td>\n",
              "      <td>80.0</td>\n",
              "      <td>3.7857</td>\n",
              "      <td>78600.0</td>\n",
              "      <td>INLAND</td>\n",
              "    </tr>\n",
              "  </tbody>\n",
              "</table>\n",
              "<p>4128 rows × 10 columns</p>\n",
              "</div>"
            ],
            "text/plain": [
              "       longitude  latitude  ...  median_house_value  ocean_proximity\n",
              "5241     -118.39     34.12  ...            500001.0        <1H OCEAN\n",
              "10970    -117.86     33.77  ...            240300.0        <1H OCEAN\n",
              "20351    -119.05     34.21  ...            218200.0        <1H OCEAN\n",
              "6568     -118.15     34.20  ...            182100.0           INLAND\n",
              "13285    -117.68     34.07  ...            121300.0           INLAND\n",
              "...          ...       ...  ...                 ...              ...\n",
              "20519    -121.53     38.58  ...             76400.0           INLAND\n",
              "17430    -120.44     34.65  ...            134000.0       NEAR OCEAN\n",
              "4019     -118.49     34.18  ...            311700.0        <1H OCEAN\n",
              "12107    -117.32     33.99  ...            133500.0           INLAND\n",
              "2398     -118.91     36.79  ...             78600.0           INLAND\n",
              "\n",
              "[4128 rows x 10 columns]"
            ]
          },
          "metadata": {
            "tags": []
          },
          "execution_count": 49
        }
      ]
    },
    {
      "cell_type": "markdown",
      "metadata": {
        "id": "OLw1F3Aqu_ZO",
        "colab_type": "text"
      },
      "source": [
        "set,_drop()을 시행해 주니 strat_train_set 와 strat_test_set의 'income_cat'의 label의 정보가 없어져있다."
      ]
    },
    {
      "cell_type": "code",
      "metadata": {
        "id": "P6cmDR_Eu95d",
        "colab_type": "code",
        "colab": {}
      },
      "source": [
        "housing = strat_train_set.copy()"
      ],
      "execution_count": 50,
      "outputs": []
    },
    {
      "cell_type": "code",
      "metadata": {
        "id": "VcFX7jqCxGBj",
        "colab_type": "code",
        "colab": {
          "base_uri": "https://localhost:8080/",
          "height": 297
        },
        "outputId": "f6ea603e-7058-4f91-e399-ff8074fa9e70"
      },
      "source": [
        "housing.plot(kind = 'scatter', x='longitude', y = 'latitude', alpha = 0.1)"
      ],
      "execution_count": 51,
      "outputs": [
        {
          "output_type": "execute_result",
          "data": {
            "text/plain": [
              "<matplotlib.axes._subplots.AxesSubplot at 0x7f56a754bcf8>"
            ]
          },
          "metadata": {
            "tags": []
          },
          "execution_count": 51
        },
        {
          "output_type": "display_data",
          "data": {
            "image/png": "[encoded data removed]",
            "text/plain": [
              "<Figure size 432x288 with 1 Axes>"
            ]
          },
          "metadata": {
            "tags": [],
            "needs_background": "light"
          }
        }
      ]
    },
    {
      "cell_type": "code",
      "metadata": {
        "id": "-ezWf0bFxRZH",
        "colab_type": "code",
        "colab": {
          "base_uri": "https://localhost:8080/",
          "height": 490
        },
        "outputId": "660e1d47-997c-4d72-e2f4-7f78940f46bf"
      },
      "source": [
        "housing.plot(kind = 'scatter', x='longitude', y = 'latitude', alpha = 0.4, s = housing['population']/100, label = 'population', c = 'median_house_value',cmap = plt.get_cmap('jet'),figsize = (8,8))\n",
        "plt.legend()"
      ],
      "execution_count": 52,
      "outputs": [
        {
          "output_type": "execute_result",
          "data": {
            "text/plain": [
              "<matplotlib.legend.Legend at 0x7f56a75a1a58>"
            ]
          },
          "metadata": {
            "tags": []
          },
          "execution_count": 52
        },
        {
          "output_type": "display_data",
          "data": {
            "image/png": "[encoded data removed]",
            "text/plain": [
              "<Figure size 576x576 with 2 Axes>"
            ]
          },
          "metadata": {
            "tags": [],
            "needs_background": "light"
          }
        }
      ]
    },
    {
      "cell_type": "markdown",
      "metadata": {
        "id": "FKiXCrQkx-v9",
        "colab_type": "text"
      },
      "source": [
        "컬러 산점도로 시각화한 결과 인구 밀집 지역과 높은 주택 가격을 가지는 곳의 위치가 비교적 일치하는 상황을 알 수 있다.\n",
        "\n",
        "위와같은 방법으로 두 변수간의 상관계수를 구해주는 것이 매우 중요하다."
      ]
    },
    {
      "cell_type": "code",
      "metadata": {
        "id": "Ba63XQcPxnto",
        "colab_type": "code",
        "colab": {}
      },
      "source": [
        "housing = strat_train_set.drop('median_house_value', axis=1)\n",
        "housing_labels = strat_train_set['median_house_value'].copy()"
      ],
      "execution_count": 53,
      "outputs": []
    },
    {
      "cell_type": "markdown",
      "metadata": {
        "id": "-ve9X_xQ5DAi",
        "colab_type": "text"
      },
      "source": [
        "우리가 이용해서 예측해야 하는 예측 변수인 'median_house_value'는 없애준다."
      ]
    },
    {
      "cell_type": "code",
      "metadata": {
        "id": "8AScFZs64-f5",
        "colab_type": "code",
        "colab": {
          "base_uri": "https://localhost:8080/",
          "height": 234
        },
        "outputId": "7295f310-7779-4dab-c547-88a1b9b9d467"
      },
      "source": [
        "housing_labels"
      ],
      "execution_count": 54,
      "outputs": [
        {
          "output_type": "execute_result",
          "data": {
            "text/plain": [
              "17606    286600.0\n",
              "18632    340600.0\n",
              "14650    196900.0\n",
              "3230      46300.0\n",
              "3555     254500.0\n",
              "           ...   \n",
              "6563     240200.0\n",
              "12053    113000.0\n",
              "13908     97800.0\n",
              "11159    225900.0\n",
              "15775    500001.0\n",
              "Name: median_house_value, Length: 16512, dtype: float64"
            ]
          },
          "metadata": {
            "tags": []
          },
          "execution_count": 54
        }
      ]
    },
    {
      "cell_type": "markdown",
      "metadata": {
        "id": "v8GX4eUB5RRW",
        "colab_type": "text"
      },
      "source": [
        "housing에는 예측해주어야하는 주택 가격의 정보를 제외했고, housing_labels는 예측의 정답이 저장되어있는 PandasSeries이다."
      ]
    },
    {
      "cell_type": "markdown",
      "metadata": {
        "id": "JGlLG1n_BnIm",
        "colab_type": "text"
      },
      "source": [
        "누락된 데이터를 관리해주는 데이터 정제의 과정이 필요한데,이는\n",
        "\n",
        "\n",
        "```\n",
        "housing.dropna(subset = [])을 통해 해당 구역 제거\n",
        "housing.drop('',axis = 1)을 통해 전체 특성 제거\n",
        "housing[''].fillna(housing.median(), inplace = True)를 통해 빈자리를 중앙값으로 대체\n",
        "```\n",
        "의 3가지 방법이 존재하고, 뿐만 아니라 sklearn.impute의 SimpleImputer을 이용해도 된다.\n",
        "\n"
      ]
    },
    {
      "cell_type": "code",
      "metadata": {
        "id": "Il7ei6xu4_jQ",
        "colab_type": "code",
        "colab": {
          "base_uri": "https://localhost:8080/",
          "height": 405
        },
        "outputId": "9e1a8a51-874b-4c32-cb59-8904fbc13fb6"
      },
      "source": [
        "housing.drop('total_bedrooms', axis = 1)"
      ],
      "execution_count": 55,
      "outputs": [
        {
          "output_type": "execute_result",
          "data": {
            "text/html": [
              "<div>\n",
              "<style scoped>\n",
              "    .dataframe tbody tr th:only-of-type {\n",
              "        vertical-align: middle;\n",
              "    }\n",
              "\n",
              "    .dataframe tbody tr th {\n",
              "        vertical-align: top;\n",
              "    }\n",
              "\n",
              "    .dataframe thead th {\n",
              "        text-align: right;\n",
              "    }\n",
              "</style>\n",
              "<table border=\"1\" class=\"dataframe\">\n",
              "  <thead>\n",
              "    <tr style=\"text-align: right;\">\n",
              "      <th></th>\n",
              "      <th>longitude</th>\n",
              "      <th>latitude</th>\n",
              "      <th>housing_median_age</th>\n",
              "      <th>total_rooms</th>\n",
              "      <th>population</th>\n",
              "      <th>households</th>\n",
              "      <th>median_income</th>\n",
              "      <th>ocean_proximity</th>\n",
              "    </tr>\n",
              "  </thead>\n",
              "  <tbody>\n",
              "    <tr>\n",
              "      <th>17606</th>\n",
              "      <td>-121.89</td>\n",
              "      <td>37.29</td>\n",
              "      <td>38.0</td>\n",
              "      <td>1568.0</td>\n",
              "      <td>710.0</td>\n",
              "      <td>339.0</td>\n",
              "      <td>2.7042</td>\n",
              "      <td>&lt;1H OCEAN</td>\n",
              "    </tr>\n",
              "    <tr>\n",
              "      <th>18632</th>\n",
              "      <td>-121.93</td>\n",
              "      <td>37.05</td>\n",
              "      <td>14.0</td>\n",
              "      <td>679.0</td>\n",
              "      <td>306.0</td>\n",
              "      <td>113.0</td>\n",
              "      <td>6.4214</td>\n",
              "      <td>&lt;1H OCEAN</td>\n",
              "    </tr>\n",
              "    <tr>\n",
              "      <th>14650</th>\n",
              "      <td>-117.20</td>\n",
              "      <td>32.77</td>\n",
              "      <td>31.0</td>\n",
              "      <td>1952.0</td>\n",
              "      <td>936.0</td>\n",
              "      <td>462.0</td>\n",
              "      <td>2.8621</td>\n",
              "      <td>NEAR OCEAN</td>\n",
              "    </tr>\n",
              "    <tr>\n",
              "      <th>3230</th>\n",
              "      <td>-119.61</td>\n",
              "      <td>36.31</td>\n",
              "      <td>25.0</td>\n",
              "      <td>1847.0</td>\n",
              "      <td>1460.0</td>\n",
              "      <td>353.0</td>\n",
              "      <td>1.8839</td>\n",
              "      <td>INLAND</td>\n",
              "    </tr>\n",
              "    <tr>\n",
              "      <th>3555</th>\n",
              "      <td>-118.59</td>\n",
              "      <td>34.23</td>\n",
              "      <td>17.0</td>\n",
              "      <td>6592.0</td>\n",
              "      <td>4459.0</td>\n",
              "      <td>1463.0</td>\n",
              "      <td>3.0347</td>\n",
              "      <td>&lt;1H OCEAN</td>\n",
              "    </tr>\n",
              "    <tr>\n",
              "      <th>...</th>\n",
              "      <td>...</td>\n",
              "      <td>...</td>\n",
              "      <td>...</td>\n",
              "      <td>...</td>\n",
              "      <td>...</td>\n",
              "      <td>...</td>\n",
              "      <td>...</td>\n",
              "      <td>...</td>\n",
              "    </tr>\n",
              "    <tr>\n",
              "      <th>6563</th>\n",
              "      <td>-118.13</td>\n",
              "      <td>34.20</td>\n",
              "      <td>46.0</td>\n",
              "      <td>1271.0</td>\n",
              "      <td>573.0</td>\n",
              "      <td>210.0</td>\n",
              "      <td>4.9312</td>\n",
              "      <td>INLAND</td>\n",
              "    </tr>\n",
              "    <tr>\n",
              "      <th>12053</th>\n",
              "      <td>-117.56</td>\n",
              "      <td>33.88</td>\n",
              "      <td>40.0</td>\n",
              "      <td>1196.0</td>\n",
              "      <td>1052.0</td>\n",
              "      <td>258.0</td>\n",
              "      <td>2.0682</td>\n",
              "      <td>INLAND</td>\n",
              "    </tr>\n",
              "    <tr>\n",
              "      <th>13908</th>\n",
              "      <td>-116.40</td>\n",
              "      <td>34.09</td>\n",
              "      <td>9.0</td>\n",
              "      <td>4855.0</td>\n",
              "      <td>2098.0</td>\n",
              "      <td>765.0</td>\n",
              "      <td>3.2723</td>\n",
              "      <td>INLAND</td>\n",
              "    </tr>\n",
              "    <tr>\n",
              "      <th>11159</th>\n",
              "      <td>-118.01</td>\n",
              "      <td>33.82</td>\n",
              "      <td>31.0</td>\n",
              "      <td>1960.0</td>\n",
              "      <td>1356.0</td>\n",
              "      <td>356.0</td>\n",
              "      <td>4.0625</td>\n",
              "      <td>&lt;1H OCEAN</td>\n",
              "    </tr>\n",
              "    <tr>\n",
              "      <th>15775</th>\n",
              "      <td>-122.45</td>\n",
              "      <td>37.77</td>\n",
              "      <td>52.0</td>\n",
              "      <td>3095.0</td>\n",
              "      <td>1269.0</td>\n",
              "      <td>639.0</td>\n",
              "      <td>3.5750</td>\n",
              "      <td>NEAR BAY</td>\n",
              "    </tr>\n",
              "  </tbody>\n",
              "</table>\n",
              "<p>16512 rows × 8 columns</p>\n",
              "</div>"
            ],
            "text/plain": [
              "       longitude  latitude  ...  median_income  ocean_proximity\n",
              "17606    -121.89     37.29  ...         2.7042        <1H OCEAN\n",
              "18632    -121.93     37.05  ...         6.4214        <1H OCEAN\n",
              "14650    -117.20     32.77  ...         2.8621       NEAR OCEAN\n",
              "3230     -119.61     36.31  ...         1.8839           INLAND\n",
              "3555     -118.59     34.23  ...         3.0347        <1H OCEAN\n",
              "...          ...       ...  ...            ...              ...\n",
              "6563     -118.13     34.20  ...         4.9312           INLAND\n",
              "12053    -117.56     33.88  ...         2.0682           INLAND\n",
              "13908    -116.40     34.09  ...         3.2723           INLAND\n",
              "11159    -118.01     33.82  ...         4.0625        <1H OCEAN\n",
              "15775    -122.45     37.77  ...         3.5750         NEAR BAY\n",
              "\n",
              "[16512 rows x 8 columns]"
            ]
          },
          "metadata": {
            "tags": []
          },
          "execution_count": 55
        }
      ]
    },
    {
      "cell_type": "markdown",
      "metadata": {
        "id": "HnuqzNM2CT8U",
        "colab_type": "text"
      },
      "source": [
        "아래 두가지는 sklearn의 문자형 데이터를 숫자형 데이터로 바꾸어 주는 방법이다."
      ]
    },
    {
      "cell_type": "code",
      "metadata": {
        "id": "V9BOL3nm5cnF",
        "colab_type": "code",
        "colab": {}
      },
      "source": [
        "from sklearn.preprocessing import OrdinalEncoder\n",
        "housing_cat = housing[['ocean_proximity']]\n",
        "ordinal_encoder = OrdinalEncoder()\n",
        "housing_cat_encoded = ordinal_encoder.fit_transform(housing_cat)"
      ],
      "execution_count": 56,
      "outputs": []
    },
    {
      "cell_type": "code",
      "metadata": {
        "id": "Zc-h7aU1729i",
        "colab_type": "code",
        "colab": {
          "base_uri": "https://localhost:8080/",
          "height": 53
        },
        "outputId": "9afbf893-e000-44fc-be61-06edae83f57c"
      },
      "source": [
        "from sklearn.preprocessing import LabelEncoder\n",
        "housing_cat = housing[['ocean_proximity']]\n",
        "label_encoder = LabelEncoder()\n",
        "housing_cat_1encoded = label_encoder.fit_transform(housing_cat)"
      ],
      "execution_count": 57,
      "outputs": [
        {
          "output_type": "stream",
          "text": [
            "/usr/local/lib/python3.6/dist-packages/sklearn/preprocessing/_label.py:251: DataConversionWarning: A column-vector y was passed when a 1d array was expected. Please change the shape of y to (n_samples, ), for example using ravel().\n",
            "  y = column_or_1d(y, warn=True)\n"
          ],
          "name": "stderr"
        }
      ]
    },
    {
      "cell_type": "code",
      "metadata": {
        "id": "xeNZDypNAxS2",
        "colab_type": "code",
        "colab": {
          "base_uri": "https://localhost:8080/",
          "height": 144
        },
        "outputId": "f2e60b0d-cb38-4df7-9ddc-08d45897c049"
      },
      "source": [
        "housing_cat_encoded"
      ],
      "execution_count": 58,
      "outputs": [
        {
          "output_type": "execute_result",
          "data": {
            "text/plain": [
              "array([[0.],\n",
              "       [0.],\n",
              "       [4.],\n",
              "       ...,\n",
              "       [1.],\n",
              "       [0.],\n",
              "       [3.]])"
            ]
          },
          "metadata": {
            "tags": []
          },
          "execution_count": 58
        }
      ]
    },
    {
      "cell_type": "code",
      "metadata": {
        "id": "iU9BahtuA9Oh",
        "colab_type": "code",
        "colab": {
          "base_uri": "https://localhost:8080/",
          "height": 144
        },
        "outputId": "a3cee1d9-9796-4302-dfba-5b7af7710ed9"
      },
      "source": [
        "from tensorflow.keras.utils import to_categorical\n",
        "categorical = to_categorical(housing_cat_encoded)\n",
        "categorical"
      ],
      "execution_count": 59,
      "outputs": [
        {
          "output_type": "execute_result",
          "data": {
            "text/plain": [
              "array([[1., 0., 0., 0., 0.],\n",
              "       [1., 0., 0., 0., 0.],\n",
              "       [0., 0., 0., 0., 1.],\n",
              "       ...,\n",
              "       [0., 1., 0., 0., 0.],\n",
              "       [1., 0., 0., 0., 0.],\n",
              "       [0., 0., 0., 1., 0.]], dtype=float32)"
            ]
          },
          "metadata": {
            "tags": []
          },
          "execution_count": 59
        }
      ]
    },
    {
      "cell_type": "markdown",
      "metadata": {
        "id": "R3SdG_jWFgGM",
        "colab_type": "text"
      },
      "source": [
        "one-hot-encoding을 진행 할 수 있는 모듈에는 대표적으로 2가지가 존재하는데, 바로\n",
        "\n",
        "\n",
        "```\n",
        "tensorflow.keras.utils의 to_categorical\n",
        "sklearn.preprocessing의 OneHotEncoder이다.\n",
        "```\n",
        "둘이 사용법이 조금 다른데, to_categorical은 숫자로 변형된 자료만 변형시키고, OneHotEncoder은 그냥 처음부터 변형이 가능하다.\n",
        "\n"
      ]
    },
    {
      "cell_type": "code",
      "metadata": {
        "id": "toheYSoJE77D",
        "colab_type": "code",
        "colab": {
          "base_uri": "https://localhost:8080/",
          "height": 144
        },
        "outputId": "0a707479-c57b-4e08-daa6-eedb143af1aa"
      },
      "source": [
        "from sklearn.preprocessing import OneHotEncoder\n",
        "cat_encoder = OneHotEncoder()\n",
        "housing_cat_1hot = cat_encoder.fit_transform(housing_cat)\n",
        "housing_cat_1hot = housing_cat_1hot.toarray()\n",
        "housing_cat_1hot"
      ],
      "execution_count": 60,
      "outputs": [
        {
          "output_type": "execute_result",
          "data": {
            "text/plain": [
              "array([[1., 0., 0., 0., 0.],\n",
              "       [1., 0., 0., 0., 0.],\n",
              "       [0., 0., 0., 0., 1.],\n",
              "       ...,\n",
              "       [0., 1., 0., 0., 0.],\n",
              "       [1., 0., 0., 0., 0.],\n",
              "       [0., 0., 0., 1., 0.]])"
            ]
          },
          "metadata": {
            "tags": []
          },
          "execution_count": 60
        }
      ]
    },
    {
      "cell_type": "markdown",
      "metadata": {
        "id": "tfve6se9LUbb",
        "colab_type": "text"
      },
      "source": [
        "PipeLine 만들기"
      ]
    },
    {
      "cell_type": "code",
      "metadata": {
        "id": "4-e-kig5GM2h",
        "colab_type": "code",
        "colab": {}
      },
      "source": [
        "from sklearn.base import BaseEstimator, TransformerMixin\n",
        "rooms_idx, bedrooms_idx, population_idx, households_idx = 3,4,5,6\n",
        "\n",
        "class CombinedAttributesAdder(BaseEstimator, TransformerMixin):\n",
        "  def __init__(self, add_bedrooms_per_room = True):   #bedrooms_per_room의 값이 *args나 **kargs가 아니다.\n",
        "    self.add_bedrooms_per_room = add_bedrooms_per_room\n",
        "  def fit(self,x,y=None):\n",
        "    return self\n",
        "  def transform(self, x):\n",
        "    rooms_per_household = x[:, rooms_idx] / x[:, households_idx]\n",
        "    population_per_household = x[:, population_idx] / x[:, households_idx]\n",
        "    if self.add_bedrooms_per_room:\n",
        "      bedrooms_per_room = x[:, bedrooms_idx] / x[:, rooms_idx]\n",
        "      return np.c_[x, rooms_per_household, population_per_household, bedrooms_per_room]\n",
        "    else:\n",
        "      return np.c_[x,rooms_per_household, population_per_household]\n",
        "\n",
        "attr_adder = CombinedAttributesAdder(add_bedrooms_per_room = False)\n",
        "housing_extra_attribs = attr_adder.transform(housing.values)\n",
        "    "
      ],
      "execution_count": 61,
      "outputs": []
    },
    {
      "cell_type": "markdown",
      "metadata": {
        "id": "jD9oo4qdNUvb",
        "colab_type": "text"
      },
      "source": [
        "위와 같이 python class를 이용해서 데이터 준비 단계를 자동화한다면 하이퍼파라미터를 최적의 상태로 변경/설정하는데 효과적일 것이다\n",
        "\n",
        "위의 코드는 사실상 이해가 잘안되는 부분도 있는데, class이용 방법을 제대로 다시 공부해 봐야 할것 같다."
      ]
    },
    {
      "cell_type": "code",
      "metadata": {
        "id": "h_BcaV2DRxsu",
        "colab_type": "code",
        "colab": {
          "base_uri": "https://localhost:8080/",
          "height": 53
        },
        "outputId": "f2a89d0e-c9b4-4376-9178-f25af8a6d995"
      },
      "source": [
        "from sklearn.impute import SimpleImputer\n",
        "imputer = SimpleImputer(strategy = 'median')\n",
        "housing_num = housing.drop('ocean_proximity', axis = 1)\n",
        "imputer.fit(housing_num)"
      ],
      "execution_count": 62,
      "outputs": [
        {
          "output_type": "execute_result",
          "data": {
            "text/plain": [
              "SimpleImputer(add_indicator=False, copy=True, fill_value=None,\n",
              "              missing_values=nan, strategy='median', verbose=0)"
            ]
          },
          "metadata": {
            "tags": []
          },
          "execution_count": 62
        }
      ]
    },
    {
      "cell_type": "code",
      "metadata": {
        "id": "2z122jWFSfD_",
        "colab_type": "code",
        "colab": {
          "base_uri": "https://localhost:8080/",
          "height": 405
        },
        "outputId": "31a61973-aab2-47c6-ca6f-88ccad91bd3b"
      },
      "source": [
        "housing_num"
      ],
      "execution_count": 63,
      "outputs": [
        {
          "output_type": "execute_result",
          "data": {
            "text/html": [
              "<div>\n",
              "<style scoped>\n",
              "    .dataframe tbody tr th:only-of-type {\n",
              "        vertical-align: middle;\n",
              "    }\n",
              "\n",
              "    .dataframe tbody tr th {\n",
              "        vertical-align: top;\n",
              "    }\n",
              "\n",
              "    .dataframe thead th {\n",
              "        text-align: right;\n",
              "    }\n",
              "</style>\n",
              "<table border=\"1\" class=\"dataframe\">\n",
              "  <thead>\n",
              "    <tr style=\"text-align: right;\">\n",
              "      <th></th>\n",
              "      <th>longitude</th>\n",
              "      <th>latitude</th>\n",
              "      <th>housing_median_age</th>\n",
              "      <th>total_rooms</th>\n",
              "      <th>total_bedrooms</th>\n",
              "      <th>population</th>\n",
              "      <th>households</th>\n",
              "      <th>median_income</th>\n",
              "    </tr>\n",
              "  </thead>\n",
              "  <tbody>\n",
              "    <tr>\n",
              "      <th>17606</th>\n",
              "      <td>-121.89</td>\n",
              "      <td>37.29</td>\n",
              "      <td>38.0</td>\n",
              "      <td>1568.0</td>\n",
              "      <td>351.0</td>\n",
              "      <td>710.0</td>\n",
              "      <td>339.0</td>\n",
              "      <td>2.7042</td>\n",
              "    </tr>\n",
              "    <tr>\n",
              "      <th>18632</th>\n",
              "      <td>-121.93</td>\n",
              "      <td>37.05</td>\n",
              "      <td>14.0</td>\n",
              "      <td>679.0</td>\n",
              "      <td>108.0</td>\n",
              "      <td>306.0</td>\n",
              "      <td>113.0</td>\n",
              "      <td>6.4214</td>\n",
              "    </tr>\n",
              "    <tr>\n",
              "      <th>14650</th>\n",
              "      <td>-117.20</td>\n",
              "      <td>32.77</td>\n",
              "      <td>31.0</td>\n",
              "      <td>1952.0</td>\n",
              "      <td>471.0</td>\n",
              "      <td>936.0</td>\n",
              "      <td>462.0</td>\n",
              "      <td>2.8621</td>\n",
              "    </tr>\n",
              "    <tr>\n",
              "      <th>3230</th>\n",
              "      <td>-119.61</td>\n",
              "      <td>36.31</td>\n",
              "      <td>25.0</td>\n",
              "      <td>1847.0</td>\n",
              "      <td>371.0</td>\n",
              "      <td>1460.0</td>\n",
              "      <td>353.0</td>\n",
              "      <td>1.8839</td>\n",
              "    </tr>\n",
              "    <tr>\n",
              "      <th>3555</th>\n",
              "      <td>-118.59</td>\n",
              "      <td>34.23</td>\n",
              "      <td>17.0</td>\n",
              "      <td>6592.0</td>\n",
              "      <td>1525.0</td>\n",
              "      <td>4459.0</td>\n",
              "      <td>1463.0</td>\n",
              "      <td>3.0347</td>\n",
              "    </tr>\n",
              "    <tr>\n",
              "      <th>...</th>\n",
              "      <td>...</td>\n",
              "      <td>...</td>\n",
              "      <td>...</td>\n",
              "      <td>...</td>\n",
              "      <td>...</td>\n",
              "      <td>...</td>\n",
              "      <td>...</td>\n",
              "      <td>...</td>\n",
              "    </tr>\n",
              "    <tr>\n",
              "      <th>6563</th>\n",
              "      <td>-118.13</td>\n",
              "      <td>34.20</td>\n",
              "      <td>46.0</td>\n",
              "      <td>1271.0</td>\n",
              "      <td>236.0</td>\n",
              "      <td>573.0</td>\n",
              "      <td>210.0</td>\n",
              "      <td>4.9312</td>\n",
              "    </tr>\n",
              "    <tr>\n",
              "      <th>12053</th>\n",
              "      <td>-117.56</td>\n",
              "      <td>33.88</td>\n",
              "      <td>40.0</td>\n",
              "      <td>1196.0</td>\n",
              "      <td>294.0</td>\n",
              "      <td>1052.0</td>\n",
              "      <td>258.0</td>\n",
              "      <td>2.0682</td>\n",
              "    </tr>\n",
              "    <tr>\n",
              "      <th>13908</th>\n",
              "      <td>-116.40</td>\n",
              "      <td>34.09</td>\n",
              "      <td>9.0</td>\n",
              "      <td>4855.0</td>\n",
              "      <td>872.0</td>\n",
              "      <td>2098.0</td>\n",
              "      <td>765.0</td>\n",
              "      <td>3.2723</td>\n",
              "    </tr>\n",
              "    <tr>\n",
              "      <th>11159</th>\n",
              "      <td>-118.01</td>\n",
              "      <td>33.82</td>\n",
              "      <td>31.0</td>\n",
              "      <td>1960.0</td>\n",
              "      <td>380.0</td>\n",
              "      <td>1356.0</td>\n",
              "      <td>356.0</td>\n",
              "      <td>4.0625</td>\n",
              "    </tr>\n",
              "    <tr>\n",
              "      <th>15775</th>\n",
              "      <td>-122.45</td>\n",
              "      <td>37.77</td>\n",
              "      <td>52.0</td>\n",
              "      <td>3095.0</td>\n",
              "      <td>682.0</td>\n",
              "      <td>1269.0</td>\n",
              "      <td>639.0</td>\n",
              "      <td>3.5750</td>\n",
              "    </tr>\n",
              "  </tbody>\n",
              "</table>\n",
              "<p>16512 rows × 8 columns</p>\n",
              "</div>"
            ],
            "text/plain": [
              "       longitude  latitude  ...  households  median_income\n",
              "17606    -121.89     37.29  ...       339.0         2.7042\n",
              "18632    -121.93     37.05  ...       113.0         6.4214\n",
              "14650    -117.20     32.77  ...       462.0         2.8621\n",
              "3230     -119.61     36.31  ...       353.0         1.8839\n",
              "3555     -118.59     34.23  ...      1463.0         3.0347\n",
              "...          ...       ...  ...         ...            ...\n",
              "6563     -118.13     34.20  ...       210.0         4.9312\n",
              "12053    -117.56     33.88  ...       258.0         2.0682\n",
              "13908    -116.40     34.09  ...       765.0         3.2723\n",
              "11159    -118.01     33.82  ...       356.0         4.0625\n",
              "15775    -122.45     37.77  ...       639.0         3.5750\n",
              "\n",
              "[16512 rows x 8 columns]"
            ]
          },
          "metadata": {
            "tags": []
          },
          "execution_count": 63
        }
      ]
    },
    {
      "cell_type": "markdown",
      "metadata": {
        "id": "WfMp8szeSwGt",
        "colab_type": "text"
      },
      "source": [
        "모든 변환단계들을 순서대로 실행할 수 있도록 해주는 sklearn에 저장되어있는 pipeline을 만들어준다.\n",
        "\n",
        "이후에는 하나의 변환기로 각 열마다 적절한 변환을 적용하여 모든 열을 처리할 수 있도록 ColumnTransformer을 이용한다."
      ]
    },
    {
      "cell_type": "markdown",
      "metadata": {
        "id": "p3dbXYffVamD",
        "colab_type": "text"
      },
      "source": [
        "특성 스케일링 (Feature Scaling)"
      ]
    },
    {
      "cell_type": "code",
      "metadata": {
        "id": "1GhXCobbMz5s",
        "colab_type": "code",
        "colab": {
          "base_uri": "https://localhost:8080/",
          "height": 252
        },
        "outputId": "0513128d-a56d-4b7b-d6a8-84149efe061e"
      },
      "source": [
        "from sklearn.pipeline import Pipeline\n",
        "from sklearn.preprocessing import StandardScaler\n",
        "\n",
        "num_pipeline = Pipeline([\n",
        "                         ('imputer', SimpleImputer(strategy = 'median')),\n",
        "                         ('attribs_adder', CombinedAttributesAdder()),\n",
        "                         ('std_scaler', StandardScaler()),\n",
        "])\n",
        "\n",
        "housing_num_tr = num_pipeline.fit_transform(housing_num)\n",
        "housing_num_tr"
      ],
      "execution_count": 64,
      "outputs": [
        {
          "output_type": "execute_result",
          "data": {
            "text/plain": [
              "array([[-1.15604281,  0.77194962,  0.74333089, ..., -0.31205452,\n",
              "        -0.08649871,  0.15531753],\n",
              "       [-1.17602483,  0.6596948 , -1.1653172 , ...,  0.21768338,\n",
              "        -0.03353391, -0.83628902],\n",
              "       [ 1.18684903, -1.34218285,  0.18664186, ..., -0.46531516,\n",
              "        -0.09240499,  0.4222004 ],\n",
              "       ...,\n",
              "       [ 1.58648943, -0.72478134, -1.56295222, ...,  0.3469342 ,\n",
              "        -0.03055414, -0.52177644],\n",
              "       [ 0.78221312, -0.85106801,  0.18664186, ...,  0.02499488,\n",
              "         0.06150916, -0.30340741],\n",
              "       [-1.43579109,  0.99645926,  1.85670895, ..., -0.22852947,\n",
              "        -0.09586294,  0.10180567]])"
            ]
          },
          "metadata": {
            "tags": []
          },
          "execution_count": 64
        }
      ]
    },
    {
      "cell_type": "markdown",
      "metadata": {
        "id": "nXU1vm7PVPP5",
        "colab_type": "text"
      },
      "source": [
        "위에서 구한 housing_num이라는 자료는 범주형 자료를 제외한 숫자형 자료만을 담고 있는 것이다. 그리고 num_pipeline은 숫자형 자료만을 scaling할 수 있는 pipeline이다. \n",
        "\n",
        "따라서 범주형 열과 수치형열을 모두 동시에처리할 수 있는 pipeline을 만들면 좋을텐데, 여기서 ColumnTRansfer을 이영해 모든 열을 처리할 수있게 해준다. OneHotEncoder은 희소 행렬을 반환하고 num_pipeline은 밀집행렬(numpy array)로 반환하기 때문에 ColumnTransfer이 최종 행렬의 밀집 정도를 추정해서 밀집도와 임계값의 크기 대소에 따라 밀집 행렬을 반환할지 희소행렬을 반환할지 결정한다."
      ]
    },
    {
      "cell_type": "code",
      "metadata": {
        "id": "LBpLhIVDSi0-",
        "colab_type": "code",
        "colab": {}
      },
      "source": [
        "from sklearn.compose import ColumnTransformer\n",
        "num_attribs = list(housing_num)\n",
        "cat_attribs = ['ocean_proximity']\n",
        "full_pipeline = ColumnTransformer([\n",
        "                                ('num', num_pipeline, num_attribs),\n",
        "                                ('cat', OneHotEncoder(), cat_attribs),\n",
        "])\n",
        "housing_prepared = full_pipeline.fit_transform(housing)"
      ],
      "execution_count": 65,
      "outputs": []
    },
    {
      "cell_type": "markdown",
      "metadata": {
        "id": "6ezmcv7aWhsO",
        "colab_type": "text"
      },
      "source": [
        "모델 선택과 훈련"
      ]
    },
    {
      "cell_type": "markdown",
      "metadata": {
        "id": "xxKPgg9iX2w0",
        "colab_type": "text"
      },
      "source": [
        "앞서서 데이터셋의 설정과 변형을 제대로 했다면 오히려 훈련시키는 과정이 더 간편할 수 있다.\n",
        "\n",
        "따라서 그냥\n",
        "\n",
        "\n",
        "```\n",
        "from sklearn.linear_model import LinearRegression\n",
        "lin_reg = LinearRegression()\n",
        "lin_reg.fit(housing_prepared, housing_labels)   #(x_train, y_train)이다\n",
        "```\n",
        "\n",
        "\n",
        "```\n",
        "from sklearn.metrics import mean_squared_error\n",
        "housing_predictions = lin_reg.predict(housing_prepared)\n",
        "lin_mse = mean_squared_error(housing_labels, housing_predictions)\n",
        "lin_rmse = np.sqrt(lin_mse)\n",
        "```\n",
        "\n",
        "위와 같이 이미 주어진 모델로 선형 회귀가 충분히 가능하지만 당연하게도 정확도가 놏거나 오차가 만족스럽게 적을수는 없다.(rmse는 mse(평균 제곱 오차)에 제곱근을 씌운 형태)\n",
        "\n",
        "cf. 이 데이터에 DeceisionTreeRegressor이라는 결정 트리의 한 종류인 모델을 적용하면 데이터에서 복잡한 비선형 구조를 찾을 수가 있는데, 막상 loss를 구해보면 0이 나온다. 이는 이 강력한 모델이 과대적합을 했음을 의미한다. 이렇게까지 모델이 성늘이 좋을 필요가 없는 데이터라는 뜻이다.\n",
        "\n",
        "\n",
        "\n"
      ]
    },
    {
      "cell_type": "markdown",
      "metadata": {
        "id": "GCy9JF30Zc8d",
        "colab_type": "text"
      },
      "source": [
        "교차 검증을 이용한 평가"
      ]
    },
    {
      "cell_type": "markdown",
      "metadata": {
        "id": "du3juyJHbp6m",
        "colab_type": "text"
      },
      "source": [
        "결정트리 모델을 평가하는 방법으로는 train_test_split함수를 이용해서 훈련세트를 저 훈련세트와 검증 세트로 나누어서 평가하는 방법이 있고, sklearn의 k-fold-cross-validation을 이용해서 훈련세트를 fold라는 subset으로 분리해서 k번 학습시키는 것이다.\n",
        "\n",
        "또한 RandomForestRegressor모델을 이용해서 구할 수 있는데, randomforest는 특성을 무작위로 선택새허 많은 결정 트리를 만들고 그 예측을 평균내는 방법을 사영한다. 여러 다른 모델을 모아서 하나의 모델을 만드는 것을 '앙상블 학습'이라고 하는데, 이는 머신러닝 알고리즘의 성능을 극대화하는 대표적인 방법이다."
      ]
    },
    {
      "cell_type": "code",
      "metadata": {
        "id": "lSTKW5gCTn-Q",
        "colab_type": "code",
        "colab": {
          "base_uri": "https://localhost:8080/",
          "height": 397
        },
        "outputId": "7284df25-a675-4631-fab7-80b33488cc17"
      },
      "source": [
        "from sklearn.model_selection import GridSearchCV\n",
        "from sklearn.ensemble import RandomForestRegressor\n",
        "\n",
        "param_grid = [\n",
        "              {'n_estimators' : [3,10,30],'max_features' : [2,4,6,8]},\n",
        "              {'bootstrap' : [False], 'n_estimators' : [3,10], 'max_features' : [2,3,4]},\n",
        "]\n",
        "\n",
        "forest_reg = RandomForestRegressor()\n",
        "\n",
        "grid_search = GridSearchCV(forest_reg, param_grid, cv = 5, scoring = 'neg_mean_squared_error', return_train_score = True)\n",
        "\n",
        "grid_search.fit(housing_prepared, housing_labels)"
      ],
      "execution_count": 66,
      "outputs": [
        {
          "output_type": "execute_result",
          "data": {
            "text/plain": [
              "GridSearchCV(cv=5, error_score=nan,\n",
              "             estimator=RandomForestRegressor(bootstrap=True, ccp_alpha=0.0,\n",
              "                                             criterion='mse', max_depth=None,\n",
              "                                             max_features='auto',\n",
              "                                             max_leaf_nodes=None,\n",
              "                                             max_samples=None,\n",
              "                                             min_impurity_decrease=0.0,\n",
              "                                             min_impurity_split=None,\n",
              "                                             min_samples_leaf=1,\n",
              "                                             min_samples_split=2,\n",
              "                                             min_weight_fraction_leaf=0.0,\n",
              "                                             n_estimators=100, n_jobs=None,\n",
              "                                             oob_score=False, random_state=None,\n",
              "                                             verbose=0, warm_start=False),\n",
              "             iid='deprecated', n_jobs=None,\n",
              "             param_grid=[{'max_features': [2, 4, 6, 8],\n",
              "                          'n_estimators': [3, 10, 30]},\n",
              "                         {'bootstrap': [False], 'max_features': [2, 3, 4],\n",
              "                          'n_estimators': [3, 10]}],\n",
              "             pre_dispatch='2*n_jobs', refit=True, return_train_score=True,\n",
              "             scoring='neg_mean_squared_error', verbose=0)"
            ]
          },
          "metadata": {
            "tags": []
          },
          "execution_count": 66
        }
      ]
    },
    {
      "cell_type": "markdown",
      "metadata": {
        "id": "zf9v0T_sf8f9",
        "colab_type": "text"
      },
      "source": [
        "모델을 어느정도 가능성 있어보이는 것으로 설정항 뒤에 모델들을 세부튜닝해야 하는데 사실 제일 단순한 방법은 적절한 것을 찾을 때까지 수동으로 하이퍼파라미터값을 조정하는 것이다.\n",
        "\n",
        "그러나 그렇게 하기보다 sklearn의 GridSearchCV를 이용해도 된다. 이는 가능한 모든 하이퍼파라미터 조합에 대해 교차검증을 하는데, 따라서 최적의 하이퍼파라미터값을 찾게 된다.\n",
        "\n"
      ]
    },
    {
      "cell_type": "code",
      "metadata": {
        "id": "b7jfpV5bdkA4",
        "colab_type": "code",
        "colab": {
          "base_uri": "https://localhost:8080/",
          "height": 35
        },
        "outputId": "7c7bc336-9528-4401-8779-fc3682da162d"
      },
      "source": [
        "grid_search.best_params_"
      ],
      "execution_count": 68,
      "outputs": [
        {
          "output_type": "execute_result",
          "data": {
            "text/plain": [
              "{'max_features': 8, 'n_estimators': 30}"
            ]
          },
          "metadata": {
            "tags": []
          },
          "execution_count": 68
        }
      ]
    },
    {
      "cell_type": "code",
      "metadata": {
        "id": "KvUG0JEOgJJ7",
        "colab_type": "code",
        "colab": {
          "base_uri": "https://localhost:8080/",
          "height": 144
        },
        "outputId": "0d2578bd-3768-4dc0-e152-97f599dd25db"
      },
      "source": [
        "grid_search.best_estimator_"
      ],
      "execution_count": 69,
      "outputs": [
        {
          "output_type": "execute_result",
          "data": {
            "text/plain": [
              "RandomForestRegressor(bootstrap=True, ccp_alpha=0.0, criterion='mse',\n",
              "                      max_depth=None, max_features=8, max_leaf_nodes=None,\n",
              "                      max_samples=None, min_impurity_decrease=0.0,\n",
              "                      min_impurity_split=None, min_samples_leaf=1,\n",
              "                      min_samples_split=2, min_weight_fraction_leaf=0.0,\n",
              "                      n_estimators=30, n_jobs=None, oob_score=False,\n",
              "                      random_state=None, verbose=0, warm_start=False)"
            ]
          },
          "metadata": {
            "tags": []
          },
          "execution_count": 69
        }
      ]
    },
    {
      "cell_type": "code",
      "metadata": {
        "id": "ymphDLT-hX6J",
        "colab_type": "code",
        "colab": {
          "base_uri": "https://localhost:8080/",
          "height": 343
        },
        "outputId": "2a4a7727-58d4-48df-f732-dd80d04c391e"
      },
      "source": [
        "cvres = grid_search.cv_results_\n",
        "for mean_score, params in zip(cvres['mean_test_score'], cvres['params']):\n",
        "  print(np.sqrt(-mean_score), params)"
      ],
      "execution_count": 71,
      "outputs": [
        {
          "output_type": "stream",
          "text": [
            "64454.845320300956 {'max_features': 2, 'n_estimators': 3}\n",
            "55309.9235459275 {'max_features': 2, 'n_estimators': 10}\n",
            "52540.43819411255 {'max_features': 2, 'n_estimators': 30}\n",
            "60670.35852133199 {'max_features': 4, 'n_estimators': 3}\n",
            "52364.55934342153 {'max_features': 4, 'n_estimators': 10}\n",
            "50417.776116707995 {'max_features': 4, 'n_estimators': 30}\n",
            "59175.54128636077 {'max_features': 6, 'n_estimators': 3}\n",
            "52275.10597378694 {'max_features': 6, 'n_estimators': 10}\n",
            "49936.37805033548 {'max_features': 6, 'n_estimators': 30}\n",
            "58482.12531824447 {'max_features': 8, 'n_estimators': 3}\n",
            "52729.558007507374 {'max_features': 8, 'n_estimators': 10}\n",
            "49917.85701576124 {'max_features': 8, 'n_estimators': 30}\n",
            "62610.04377785398 {'bootstrap': False, 'max_features': 2, 'n_estimators': 3}\n",
            "54162.52412278336 {'bootstrap': False, 'max_features': 2, 'n_estimators': 10}\n",
            "59498.49790104644 {'bootstrap': False, 'max_features': 3, 'n_estimators': 3}\n",
            "52555.38943650301 {'bootstrap': False, 'max_features': 3, 'n_estimators': 10}\n",
            "57985.492338380594 {'bootstrap': False, 'max_features': 4, 'n_estimators': 3}\n",
            "52109.02218007459 {'bootstrap': False, 'max_features': 4, 'n_estimators': 10}\n"
          ],
          "name": "stdout"
        }
      ]
    },
    {
      "cell_type": "markdown",
      "metadata": {
        "id": "ymGJOsEIhqYa",
        "colab_type": "text"
      },
      "source": [
        "이로써 점수가 제일 낮은(오류의 점수, 즉 RMSE값은 낮을수록 좋다) max_features = 8이고 n_estimators = 30인 경우가 최적의 경우의 하이퍼파라미터임을 알 수 있다.\n",
        "\n"
      ]
    },
    {
      "cell_type": "markdown",
      "metadata": {
        "id": "4qUFeztbh_2W",
        "colab_type": "text"
      },
      "source": [
        "이 밖에도 모델 세부 튜닝을 할 수 있는 방법은 다양하다.\n",
        "\n",
        "\n",
        "\n",
        "1. 랜덤 탐색(RandomizedSearchCV)\n",
        "2. 앙상블 방법(다양한 최적의 모델들을 연결해보는 방법)\n",
        "3. 최상의 모델과오파 분석(RandomForestRegressor)\n",
        "4. 테스트 세트로 시스템 평가하기\n",
        "\n",
        "아래 코드로 4번을 실행할 예정이다\n",
        "\n"
      ]
    },
    {
      "cell_type": "code",
      "metadata": {
        "id": "mCZN446phoTs",
        "colab_type": "code",
        "colab": {}
      },
      "source": [
        "from sklearn.metrics import mean_squared_error\n",
        "final_model = grid_search.best_estimator_\n",
        "\n",
        "x_test, y_test = strat_test_set.drop('median_house_value', axis = 1), strat_test_set['median_house_value'].copy()\n",
        "\n",
        "x_test_prepared = full_pipeline.transform(x_test)\n",
        "\n",
        "final_predictions = final_model.predict(x_test_prepared)\n",
        "\n",
        "final_mse = np.sqrt(mean_squared_error(y_test, final_predictions))"
      ],
      "execution_count": 73,
      "outputs": []
    },
    {
      "cell_type": "code",
      "metadata": {
        "id": "E8FJ_4omi7Di",
        "colab_type": "code",
        "colab": {
          "base_uri": "https://localhost:8080/",
          "height": 35
        },
        "outputId": "61ccb9b8-9af0-4015-8713-1cf12301de0e"
      },
      "source": [
        "final_mse"
      ],
      "execution_count": 74,
      "outputs": [
        {
          "output_type": "execute_result",
          "data": {
            "text/plain": [
              "48010.80842153082"
            ]
          },
          "metadata": {
            "tags": []
          },
          "execution_count": 74
        }
      ]
    },
    {
      "cell_type": "markdown",
      "metadata": {
        "id": "HuKd3NKnjN92",
        "colab_type": "text"
      },
      "source": [
        "일반화 오차의 95%의 신뢰도 구해보기"
      ]
    },
    {
      "cell_type": "code",
      "metadata": {
        "id": "39ikdlsrjIfs",
        "colab_type": "code",
        "colab": {
          "base_uri": "https://localhost:8080/",
          "height": 35
        },
        "outputId": "a349ddb2-1302-4b3c-f62b-335727bbd212"
      },
      "source": [
        "from scipy import stats\n",
        "confidence = 0.95\n",
        "squared_errors = ((final_predictions)-y_test) **2\n",
        "np.sqrt(stats.t.interval(confidence, len(squared_errors)-1, loc = squared_errors.mean(), scale = stats.sem(squared_errors)))\n"
      ],
      "execution_count": 76,
      "outputs": [
        {
          "output_type": "execute_result",
          "data": {
            "text/plain": [
              "array([46041.53605096, 49902.42888523])"
            ]
          },
          "metadata": {
            "tags": []
          },
          "execution_count": 76
        }
      ]
    },
    {
      "cell_type": "markdown",
      "metadata": {
        "id": "aODu9pxVjr8G",
        "colab_type": "text"
      },
      "source": [
        "위의 array가 신뢰도 95%에서의 신뢰구간이다."
      ]
    },
    {
      "cell_type": "code",
      "metadata": {
        "id": "fUlQnoMcjoWz",
        "colab_type": "code",
        "colab": {}
      },
      "source": [
        ""
      ],
      "execution_count": null,
      "outputs": []
    }
  ]
}