{
  "nbformat": 4,
  "nbformat_minor": 0,
  "metadata": {
    "kernelspec": {
      "display_name": "Python 3",
      "language": "python",
      "name": "python3"
    },
    "language_info": {
      "codemirror_mode": {
        "name": "ipython",
        "version": 3
      },
      "file_extension": ".py",
      "mimetype": "text/x-python",
      "name": "python",
      "nbconvert_exporter": "python",
      "pygments_lexer": "ipython3",
      "version": "3.7.7"
    },
    "colab": {
      "name": "Custom_Layers_Models_Subclassing.ipynb",
      "provenance": []
    }
  },
  "cells": [
    {
      "cell_type": "markdown",
      "metadata": {
        "id": "2XweanaoHK3n",
        "colab_type": "text"
      },
      "source": [
        "### Customizing Layers and Models\n",
        "- 사실 기존의 keras API를 사용하고 조절 가능한 hyperparameter만 조절해도 쉽게 딥러닝을 구현할 수 있다.\n",
        "- 하지만 시각적으로 보았을 때 기존에 내가 하던 방법대로 모델을 설계하면 계속 직렬화된, 즉 Sequential model에 layer을 add해 나가는 방법은 별로 알아보기가 좋지 않아 보였다.\n",
        "- 따라서 class를 이용해서, 혹은 class가 아니더라도 나중에 쉽게 수정및 변형이 가능한 방법으로 model을 설계하는 방법을 공부 해 보았고, 그 내용을 정리해 보았다.\n",
        "\n",
        "**전부 공부를 해보고 느낀 점은 이렇게 class를 이용해서 model, layer, loss, metrics등을 모두 정의 할 수 있고 애초에 우리가 사용하고 있는 것들고 이러한 형태로 객체화 되어 있는 것이기 떄문에 어느 정도 정해진 틀과 사용해야 하는, 필수적으로 들어가야 하는 요소와 함수들이 존재함을 알았다. 전혀 백지 상태에서 짜는 것이 아닌 필수적인 들어가야 하는 요소들에 맞추어서 코드를 짜주면 어려움이 없을 것이다.**\n",
        "\n",
        "\n",
        "- 그리고 DCGAN을 만들면서 간단한 generator이나 discriminator또한 만들어 보았는데 이는 그냥 __init__와 call()함수만 있으면 되기 때문에 만들기가 쉽다.  \n",
        "- 모델을 class로 만들떄에 compile()함수등과 같은 것을 새롭게 만들고 train_step()을 새롭게 만들지 않는 이상 의외로 layer보다 간단하게 구현이 가능한 느낌이다."
      ]
    },
    {
      "cell_type": "code",
      "metadata": {
        "id": "95U586fJHK3o",
        "colab_type": "code",
        "colab": {}
      },
      "source": [
        "import tensorflow as tf\n",
        "import numpy as np\n",
        "import pandas as pd\n",
        "import matplotlib.pyplot as plt"
      ],
      "execution_count": 1,
      "outputs": []
    },
    {
      "cell_type": "markdown",
      "metadata": {
        "id": "ZwfeKZWRHK3s",
        "colab_type": "text"
      },
      "source": [
        "모델을 만들었으니 학습은 해 보아야 할텐데, 간단하게 MNIST데이터를 불러와서 시도해 보고자 한다."
      ]
    },
    {
      "cell_type": "code",
      "metadata": {
        "id": "KYND-rbrHK3s",
        "colab_type": "code",
        "colab": {}
      },
      "source": [
        "fashion_mnist = tf.keras.datasets.fashion_mnist\n",
        "\n",
        "(train_images, train_labels), (test_images, test_labels) = fashion_mnist.load_data()"
      ],
      "execution_count": null,
      "outputs": []
    },
    {
      "cell_type": "markdown",
      "metadata": {
        "id": "STMps2lLHK3v",
        "colab_type": "text"
      },
      "source": [
        "#### 1. Using a Graph of Layers\n",
        "- 간단한 심층 신경망 모델을 만들어 보자."
      ]
    },
    {
      "cell_type": "code",
      "metadata": {
        "id": "VJrdxj_qHK3v",
        "colab_type": "code",
        "colab": {},
        "outputId": "7829cf9d-88c3-443f-df70-9f6d369cc6f4"
      },
      "source": [
        "inputs = tf.keras.Input(shape = (784,))\n",
        "inputs.shape"
      ],
      "execution_count": null,
      "outputs": [
        {
          "output_type": "execute_result",
          "data": {
            "text/plain": [
              "TensorShape([None, 784])"
            ]
          },
          "metadata": {
            "tags": []
          },
          "execution_count": 3
        }
      ]
    },
    {
      "cell_type": "code",
      "metadata": {
        "id": "PEbHwz3oHK3z",
        "colab_type": "code",
        "colab": {},
        "outputId": "c6e1005a-1ed2-4db2-e67d-21b246df8ee0"
      },
      "source": [
        "inputs.dtype"
      ],
      "execution_count": null,
      "outputs": [
        {
          "output_type": "execute_result",
          "data": {
            "text/plain": [
              "tf.float32"
            ]
          },
          "metadata": {
            "tags": []
          },
          "execution_count": 4
        }
      ]
    },
    {
      "cell_type": "markdown",
      "metadata": {
        "id": "6GPI9-tmHK32",
        "colab_type": "text"
      },
      "source": [
        "- 아래의 방법과 같이 모델을 만들때에 input값을 첫번째 layer에 넣어주고 계속 반복해서 **직접 연결**을 해 준 뒤에 마지막에 모델을 만들 때에는 한꺼번에 input과 output값만 입력하면 tf.keras.Model 모듈이 알아서 Sequential model을 만들어 준다.\n",
        "    - 단 주의할 점은 이렇게 알아서 연결이 되는 것도 데이터의 크기나 모양등이 연결이 가능할 때 이기 때문에 제대로 layer을 설정해 주어야 한다."
      ]
    },
    {
      "cell_type": "code",
      "metadata": {
        "id": "5cx5GpihHK32",
        "colab_type": "code",
        "colab": {}
      },
      "source": [
        "dense = tf.keras.layers.Dense(64, activation = 'relu')\n",
        "x = dense(inputs)\n",
        "x = tf.keras.layers.Dense(32, activation = 'relu')(x)\n",
        "outputs = tf.keras.layers.Dense(10, activation = 'softmax')(x)"
      ],
      "execution_count": null,
      "outputs": []
    },
    {
      "cell_type": "code",
      "metadata": {
        "id": "f2OHwfg7HK35",
        "colab_type": "code",
        "colab": {},
        "outputId": "9fc7cf67-0b8a-4dc6-9440-0cafdc91fae1"
      },
      "source": [
        "model = tf.keras.Model(inputs = inputs, outputs = outputs)\n",
        "model.summary()"
      ],
      "execution_count": null,
      "outputs": [
        {
          "output_type": "stream",
          "text": [
            "Model: \"model\"\n",
            "_________________________________________________________________\n",
            "Layer (type)                 Output Shape              Param #   \n",
            "=================================================================\n",
            "input_1 (InputLayer)         [(None, 784)]             0         \n",
            "_________________________________________________________________\n",
            "dense (Dense)                (None, 64)                50240     \n",
            "_________________________________________________________________\n",
            "dense_1 (Dense)              (None, 32)                2080      \n",
            "_________________________________________________________________\n",
            "dense_2 (Dense)              (None, 10)                330       \n",
            "=================================================================\n",
            "Total params: 52,650\n",
            "Trainable params: 52,650\n",
            "Non-trainable params: 0\n",
            "_________________________________________________________________\n"
          ],
          "name": "stdout"
        }
      ]
    },
    {
      "cell_type": "markdown",
      "metadata": {
        "id": "S31xEIEJHK38",
        "colab_type": "text"
      },
      "source": [
        "- 이제 위에서 다운 받은 MNIST 데이터로 학습을 진행해 보고자 하는데, 무엇보다 중요한 것은 모델을 만들때의 input 자료형이 float32이기 때문에 그렇게 되도록 바꾸어 주어야 한다.\n",
        "- 그리고 이미지 데이터이다 보니 255.0으로 나누어 0과 1사이의 픽셀값으로 바꾸어 주어야 위에서 설정한 activation인 relu의 출력값의 범위와 일치하게 된다."
      ]
    },
    {
      "cell_type": "code",
      "metadata": {
        "id": "uhsc2BRZHK38",
        "colab_type": "code",
        "colab": {},
        "outputId": "0454bd08-25e6-4b0b-8621-9cad2b169c22"
      },
      "source": [
        "train_images.dtype"
      ],
      "execution_count": null,
      "outputs": [
        {
          "output_type": "execute_result",
          "data": {
            "text/plain": [
              "dtype('uint8')"
            ]
          },
          "metadata": {
            "tags": []
          },
          "execution_count": 9
        }
      ]
    },
    {
      "cell_type": "code",
      "metadata": {
        "id": "AlZ0huFDHK3_",
        "colab_type": "code",
        "colab": {},
        "outputId": "d47df5e1-80c3-46b8-952d-cb51c226dae3"
      },
      "source": [
        "test_images.shape"
      ],
      "execution_count": null,
      "outputs": [
        {
          "output_type": "execute_result",
          "data": {
            "text/plain": [
              "(10000, 784)"
            ]
          },
          "metadata": {
            "tags": []
          },
          "execution_count": 22
        }
      ]
    },
    {
      "cell_type": "code",
      "metadata": {
        "id": "szbNpFnvHK4B",
        "colab_type": "code",
        "colab": {},
        "outputId": "88f98693-06ff-4b4b-aca3-9a11eb35971b"
      },
      "source": [
        "train_labels"
      ],
      "execution_count": null,
      "outputs": [
        {
          "output_type": "execute_result",
          "data": {
            "text/plain": [
              "array([9, 0, 0, ..., 3, 0, 5], dtype=uint8)"
            ]
          },
          "metadata": {
            "tags": []
          },
          "execution_count": 13
        }
      ]
    },
    {
      "cell_type": "code",
      "metadata": {
        "id": "vvPjw0d_HK4D",
        "colab_type": "code",
        "colab": {}
      },
      "source": [
        "train_images = train_images.reshape(train_images.shape[0], 784).astype('float32')/255.0\n",
        "test_images = test_images.reshape(test_images.shape[0], 784).astype('float32')/255.0"
      ],
      "execution_count": null,
      "outputs": []
    },
    {
      "cell_type": "code",
      "metadata": {
        "id": "SgkJH0bjHK4F",
        "colab_type": "code",
        "colab": {}
      },
      "source": [
        "model.compile(loss = tf.keras.losses.SparseCategoricalCrossentropy(from_logits = True), metrics = ['accuracy'],optimizer = tf.keras.optimizers.RMSprop())"
      ],
      "execution_count": null,
      "outputs": []
    },
    {
      "cell_type": "markdown",
      "metadata": {
        "id": "h5oOi0gdHK4I",
        "colab_type": "text"
      },
      "source": [
        "- SparseCategoricalCrossentropy를 사용할 때에 기본 default 값을 이용하게 되면 model은 label값이 확률로서 저장 되어 있을 것이라고 생각한다. 그러나 이 경우에는 그렇지 않고 logits의 값으로 저장이 되어 있기 때문에 사용하게 될 경우 from_logits = True로 바꾸어야 한다."
      ]
    },
    {
      "cell_type": "code",
      "metadata": {
        "id": "tiXYPRAXHK4I",
        "colab_type": "code",
        "colab": {},
        "outputId": "a214335f-1bf3-41f5-9546-80c34fe73432"
      },
      "source": [
        "model.fit(train_images, train_labels, validation_split = 0.3, batch_size = 64, epochs = 5)"
      ],
      "execution_count": null,
      "outputs": [
        {
          "output_type": "stream",
          "text": [
            "Train on 42000 samples, validate on 18000 samples\n",
            "Epoch 1/5\n",
            "42000/42000 [==============================] - 3s 70us/sample - loss: 1.8991 - accuracy: 0.5720 - val_loss: 1.8680 - val_accuracy: 0.5943\n",
            "Epoch 2/5\n",
            "42000/42000 [==============================] - 2s 52us/sample - loss: 1.8581 - accuracy: 0.6025 - val_loss: 1.8686 - val_accuracy: 0.5921\n",
            "Epoch 3/5\n",
            "42000/42000 [==============================] - 2s 52us/sample - loss: 1.8494 - accuracy: 0.6097 - val_loss: 1.8672 - val_accuracy: 0.5899\n",
            "Epoch 4/5\n",
            "42000/42000 [==============================] - 2s 52us/sample - loss: 1.8443 - accuracy: 0.6140 - val_loss: 1.8642 - val_accuracy: 0.5933\n",
            "Epoch 5/5\n",
            "42000/42000 [==============================] - 2s 52us/sample - loss: 1.8405 - accuracy: 0.6178 - val_loss: 1.8603 - val_accuracy: 0.5977\n"
          ],
          "name": "stdout"
        },
        {
          "output_type": "execute_result",
          "data": {
            "text/plain": [
              "<tensorflow.python.keras.callbacks.History at 0x2614d5ce688>"
            ]
          },
          "metadata": {
            "tags": []
          },
          "execution_count": 12
        }
      ]
    },
    {
      "cell_type": "markdown",
      "metadata": {
        "id": "VZXLqwg2HK4L",
        "colab_type": "text"
      },
      "source": [
        "#### 2. 이번에는 간단하게 위와 같은 방법으로 AutoEncoder을 만들어 보자\n",
        "- 사실 오토인코더는 원리가 정말 간단하다. \n",
        "    - 그냥 인코더 역할을 해주는 모델에 의해서 입력한 이미지에 대한 특징 추출을 해 주고, 이 데이터를 디코드 역할을 하는 모델에 넣는다 그렇게 되면 Conv2DTranspose라는 Conv2D의 반대의 역할을 해주는 층에 의해서 다시 이미지를 크게 확장 시켜 준다. 그렇게 해서 출력한 이미지는 1개일 것이고, 때문에 마지막 층의 filter의 개수는 1개이다"
      ]
    },
    {
      "cell_type": "code",
      "metadata": {
        "id": "tSuKHHYGHK4L",
        "colab_type": "code",
        "colab": {},
        "outputId": "900ef13c-e2e9-4a65-a394-6ea78e72f1e6"
      },
      "source": [
        "encoder_input = tf.keras.Input(shape = (28,28,1))\n",
        "x = tf.keras.layers.Conv2D(16,3,activation = 'relu')(encoder_input)\n",
        "x = tf.keras.layers.Conv2D(32, 3, activation = 'relu')(x)\n",
        "x = tf.keras.layers.MaxPool2D(3)(x)\n",
        "x = tf.keras.layers.Conv2D(32, 3, activation = 'relu')(x)\n",
        "x = tf.keras.layers.Conv2D(16, 3, activation = 'relu')(x)\n",
        "encoder_output = tf.keras.layers.GlobalMaxPool2D()(x)\n",
        "\n",
        "encoder = tf.keras.Model(encoder_input, encoder_output)\n",
        "encoder.summary()"
      ],
      "execution_count": null,
      "outputs": [
        {
          "output_type": "stream",
          "text": [
            "Model: \"model_1\"\n",
            "_________________________________________________________________\n",
            "Layer (type)                 Output Shape              Param #   \n",
            "=================================================================\n",
            "input_4 (InputLayer)         [(None, 28, 28, 1)]       0         \n",
            "_________________________________________________________________\n",
            "conv2d_8 (Conv2D)            (None, 26, 26, 16)        160       \n",
            "_________________________________________________________________\n",
            "conv2d_9 (Conv2D)            (None, 24, 24, 32)        4640      \n",
            "_________________________________________________________________\n",
            "max_pooling2d_2 (MaxPooling2 (None, 8, 8, 32)          0         \n",
            "_________________________________________________________________\n",
            "conv2d_10 (Conv2D)           (None, 6, 6, 32)          9248      \n",
            "_________________________________________________________________\n",
            "conv2d_11 (Conv2D)           (None, 4, 4, 16)          4624      \n",
            "_________________________________________________________________\n",
            "global_max_pooling2d_2 (Glob (None, 16)                0         \n",
            "=================================================================\n",
            "Total params: 18,672\n",
            "Trainable params: 18,672\n",
            "Non-trainable params: 0\n",
            "_________________________________________________________________\n"
          ],
          "name": "stdout"
        }
      ]
    },
    {
      "cell_type": "code",
      "metadata": {
        "id": "X_lRYNQ9HK4N",
        "colab_type": "code",
        "colab": {},
        "outputId": "e3ea1758-7570-43eb-b1ec-e0bb3aa222f1"
      },
      "source": [
        "x = tf.keras.layers.Reshape((4,4,1))(encoder_output)\n",
        "x = tf.keras.layers.Conv2DTranspose(16, 3, activation = 'relu')(x)\n",
        "x = tf.keras.layers.Conv2DTranspose(32, 3, activation = 'relu')(x)\n",
        "x = tf.keras.layers.UpSampling2D(3)(x)\n",
        "x = tf.keras.layers.Conv2DTranspose(16, 3, activation = 'relu')(x)\n",
        "decoder_output = tf.keras.layers.Conv2DTranspose(1,3, activation = 'relu')(x)\n",
        "\n",
        "AutoEncoder = tf.keras.Model(encoder_input, decoder_output)\n",
        "AutoEncoder.summary()"
      ],
      "execution_count": null,
      "outputs": [
        {
          "output_type": "stream",
          "text": [
            "Model: \"model_2\"\n",
            "_________________________________________________________________\n",
            "Layer (type)                 Output Shape              Param #   \n",
            "=================================================================\n",
            "input_4 (InputLayer)         [(None, 28, 28, 1)]       0         \n",
            "_________________________________________________________________\n",
            "conv2d_8 (Conv2D)            (None, 26, 26, 16)        160       \n",
            "_________________________________________________________________\n",
            "conv2d_9 (Conv2D)            (None, 24, 24, 32)        4640      \n",
            "_________________________________________________________________\n",
            "max_pooling2d_2 (MaxPooling2 (None, 8, 8, 32)          0         \n",
            "_________________________________________________________________\n",
            "conv2d_10 (Conv2D)           (None, 6, 6, 32)          9248      \n",
            "_________________________________________________________________\n",
            "conv2d_11 (Conv2D)           (None, 4, 4, 16)          4624      \n",
            "_________________________________________________________________\n",
            "global_max_pooling2d_2 (Glob (None, 16)                0         \n",
            "_________________________________________________________________\n",
            "reshape (Reshape)            (None, 4, 4, 1)           0         \n",
            "_________________________________________________________________\n",
            "conv2d_transpose (Conv2DTran (None, 6, 6, 16)          160       \n",
            "_________________________________________________________________\n",
            "conv2d_transpose_1 (Conv2DTr (None, 8, 8, 32)          4640      \n",
            "_________________________________________________________________\n",
            "up_sampling2d (UpSampling2D) (None, 24, 24, 32)        0         \n",
            "_________________________________________________________________\n",
            "conv2d_transpose_2 (Conv2DTr (None, 26, 26, 16)        4624      \n",
            "_________________________________________________________________\n",
            "conv2d_transpose_3 (Conv2DTr (None, 28, 28, 1)         145       \n",
            "=================================================================\n",
            "Total params: 28,241\n",
            "Trainable params: 28,241\n",
            "Non-trainable params: 0\n",
            "_________________________________________________________________\n"
          ],
          "name": "stdout"
        }
      ]
    },
    {
      "cell_type": "code",
      "metadata": {
        "id": "q97vc9VcHK4Q",
        "colab_type": "code",
        "colab": {}
      },
      "source": [
        "(train_images, train_labels), (test_images, test_labels) = fashion_mnist.load_data()\n",
        "train_images, test_images = train_images.astype('float32'), test_images.astype('float32')\n",
        "train_images = tf.expand_dims(train_images, axis = -1)\n",
        "test_images = tf.expand_dims(test_images, axis = -1)"
      ],
      "execution_count": null,
      "outputs": []
    },
    {
      "cell_type": "code",
      "metadata": {
        "id": "IDwtK_T6HK4S",
        "colab_type": "code",
        "colab": {},
        "outputId": "a0784c08-dc05-42c0-a383-c234dfbb7b92"
      },
      "source": [
        "AutoEncoder.compile(loss = 'mse', optimizer = 'adam', metrics = ['accuracy'])\n",
        "AutoEncoder.fit(train_images/255.0, train_images/255.0, epochs = 5, batch_size = 32)"
      ],
      "execution_count": null,
      "outputs": [
        {
          "output_type": "stream",
          "text": [
            "Train on 60000 samples\n",
            "Epoch 1/5\n",
            "60000/60000 [==============================] - 34s 567us/sample - loss: 0.0287 - accuracy: 0.5011- loss: 0.0289 - accu - ETA - ETA:  - E\n",
            "Epoch 2/5\n",
            "60000/60000 [==============================] - 49s 823us/sample - loss: 0.0254 - accuracy: 0.5025\n",
            "Epoch 3/5\n",
            "60000/60000 [==============================] - 66s 1ms/sample - loss: 0.0239 - accuracy: 0.5031\n",
            "Epoch 4/5\n",
            "60000/60000 [==============================] - 89s 1ms/sample - loss: 0.0230 - accuracy: 0.5036\n",
            "Epoch 5/5\n",
            "60000/60000 [==============================] - 89s 1ms/sample - loss: 0.0222 - accuracy: 0.5039\n"
          ],
          "name": "stdout"
        },
        {
          "output_type": "execute_result",
          "data": {
            "text/plain": [
              "<tensorflow.python.keras.callbacks.History at 0x2619027fa08>"
            ]
          },
          "metadata": {
            "tags": []
          },
          "execution_count": 30
        }
      ]
    },
    {
      "cell_type": "code",
      "metadata": {
        "id": "TZb9OHDZHK4U",
        "colab_type": "code",
        "colab": {},
        "outputId": "bdc809f4-130c-49cb-fcb0-7a20bafbe7ee"
      },
      "source": [
        "plt.figure(figsize = (9,9))\n",
        "y_pred = AutoEncoder.predict(test_images)\n",
        "for i in range(9):\n",
        "    plt.subplot(3,6,i*2+1)\n",
        "    plt.imshow(test_images[i]*255.0)\n",
        "    plt.subplot(3,6,i*2+2)\n",
        "    plt.imshow(y_pred[i]*255.0)"
      ],
      "execution_count": null,
      "outputs": [
        {
          "output_type": "display_data",
          "data": {
            "image/png": "[encoded data removed]",
            "text/plain": [
              "<Figure size 648x648 with 18 Axes>"
            ]
          },
          "metadata": {
            "tags": [],
            "needs_background": "light"
          }
        }
      ]
    },
    {
      "cell_type": "markdown",
      "metadata": {
        "id": "fA7RQ9GCHK4W",
        "colab_type": "text"
      },
      "source": [
        "- 아직 정확한 그림이 나오는 것은 아니지만 학습의 횟수를 높이면 훨씬 좋은 성과를 낼 수 있을 것이다.\n",
        "- 그러나 지금 하는 공부는 모델 설계를 위한 다양한 방법을 익히기 위해서 이기 때문에 학습 시간에 많은 시간을 쏟기는 힘들었다."
      ]
    },
    {
      "cell_type": "markdown",
      "metadata": {
        "id": "51dzz6VmHK4X",
        "colab_type": "text"
      },
      "source": [
        "#### 3. 지금까지는 하나의 input과 하나의 output을 가지는 학습을 진행했다면 이번에는 multiple input and output을 가지는 모델을 만들어 보고자 한다.\n",
        "- 이는 Sequential API로는 만들 수 없는 형태의 model이다.\n",
        "- 예를 들어서 우리가 고객 정보 여러개를 이용해서 고객의 수준이나 배정등을 해 주어야 한다고 할 때에 input data로 티켓의 이름, 제목, 그리고 다른 태그를 넣고 output data로는 binary data인 0/1, 그리고 softmax data인 배정 위치를 갖는다고 하자.\n",
        "- 이때에는 반드시 사용자 정의 함수를 이용해야만 모델을 만들 수 있다."
      ]
    },
    {
      "cell_type": "code",
      "metadata": {
        "id": "Vf7suraLHK4X",
        "colab_type": "code",
        "colab": {}
      },
      "source": [
        "num_tag = 12      #총 제목의 종류의 개수 = 12개\n",
        "num_words = 1000    #총 인식 가능한 단어 사전에 있는 단어의 개수 = 1000개\n",
        "num_department = 4   #총 고객이 분류 가능한 장소의 개수 = 4개\n",
        "\n",
        "title_input = tf.keras.Input(\n",
        "    shape = (None, ), name = 'title'\n",
        ")\n",
        "body_input = tf.keras.Input(\n",
        "    shape = (None, ), name = 'body'\n",
        ")\n",
        "tag_input = tf.keras.Input(\n",
        "    shape = (num_tag, ), name = 'tag'\n",
        ")\n",
        "\n",
        "title_features = tf.keras.layers.Embedding(num_words, 64)(title_input)\n",
        "body_features = tf.keras.layers.Embedding(num_words, 64)(body_input)\n",
        "title_features = tf.keras.layers.LSTM(128)(title_features)\n",
        "body_features = tf.keras.layers.LSTM(128)(body_features)\n",
        "\n",
        "x = tf.keras.layers.concatenate([title_features, body_features, tag_input])\n",
        "\n",
        "priority_pred = tf.keras.layers.Dense(1, name = 'priority')(x)\n",
        "department_pred = tf.keras.layers.Dense(num_department,name = 'department')(x)\n",
        "\n",
        "model = tf.keras.Model(\n",
        "    inputs = [title_input, body_input, tag_input],\n",
        "    outputs = [priority_pred, department_pred]\n",
        ")\n"
      ],
      "execution_count": null,
      "outputs": []
    },
    {
      "cell_type": "code",
      "metadata": {
        "id": "bBLLd4vyHK4Z",
        "colab_type": "code",
        "colab": {}
      },
      "source": [
        "model.compile(\n",
        "    loss = {\n",
        "        'priority' : tf.keras.losses.BinaryCrossentropy(from_logits= True),\n",
        "        'department' : tf.keras.losses.CategoricalCrossentropy(from_logits = True)\n",
        "    },\n",
        "    optimizer = tf.keras.optimizers.RMSprop(1e-3),\n",
        "    loss_weights = [1.0, 0.2],\n",
        "    metrics = ['accuracy']\n",
        ")"
      ],
      "execution_count": null,
      "outputs": []
    },
    {
      "cell_type": "markdown",
      "metadata": {
        "id": "XXbgjg7jHK4b",
        "colab_type": "text"
      },
      "source": [
        "- ```np.random.randint()```는 min <= x < max 인 정수를 지정해준 size에 맞게 랜덤하게 생성해 준다.\n",
        "- ```np.random.random()```는 0 <= x < 1.0인 실수를 지정해준 size에 맞게 랜덤하게 생성해 준다.\n",
        "- ```np.random.randn()```는 표준 정규분포의 형태를 따르는 난수를 생성해 주는데, 표준 정규 분포를 따른다는 것은 일단 확률값이기 때문에 -1과 1 사이의 값이고 평균이 0, 표준편차가 1인 값이다."
      ]
    },
    {
      "cell_type": "code",
      "metadata": {
        "id": "yKVQKrHxHK4c",
        "colab_type": "code",
        "colab": {}
      },
      "source": [
        "#그냥 랜덤하게 입력해볼 데이터를 만들어 보면\n",
        "title_rand = np.random.randint(num_words, size = (1280, 10))\n",
        "body_rand = np.random.randint(num_words, size = (1280, 100))\n",
        "tag_rand = np.random.randint(2, size = (1280, num_tag)).astype('float32')\n",
        "\n",
        "priority_rand = np.random.random(size = (1280, 1))\n",
        "department_rand = np.random.randint(2, size = (1280, num_department))"
      ],
      "execution_count": null,
      "outputs": []
    },
    {
      "cell_type": "code",
      "metadata": {
        "id": "VNlzrroIHK4e",
        "colab_type": "code",
        "colab": {},
        "outputId": "7b2335ba-26b5-4ee2-a26c-581c0b3ceb6b"
      },
      "source": [
        "model.fit([title_rand, body_rand, tag_rand], [priority_rand, department_rand], epochs = 5, batch_size = 32)"
      ],
      "execution_count": null,
      "outputs": [
        {
          "output_type": "stream",
          "text": [
            "Train on 1280 samples\n",
            "Epoch 1/5\n",
            "1280/1280 [==============================] - 4s 3ms/sample - loss: 1.2727 - priority_loss: 0.6994 - department_loss: 2.8667 - priority_accuracy: 0.0000e+00 - department_accuracy: 0.1891\n",
            "Epoch 2/5\n",
            "1280/1280 [==============================] - 1s 489us/sample - loss: 1.2665 - priority_loss: 0.6968 - department_loss: 2.8481 - priority_accuracy: 0.0000e+00 - department_accuracy: 0.1891\n",
            "Epoch 3/5\n",
            "1280/1280 [==============================] - 1s 486us/sample - loss: 1.2677 - priority_loss: 0.7000 - department_loss: 2.8382 - priority_accuracy: 0.0000e+00 - department_accuracy: 0.1914\n",
            "Epoch 4/5\n",
            "1280/1280 [==============================] - 1s 491us/sample - loss: 1.2643 - priority_loss: 0.6965 - department_loss: 2.8388 - priority_accuracy: 0.0000e+00 - department_accuracy: 0.1937\n",
            "Epoch 5/5\n",
            "1280/1280 [==============================] - 1s 492us/sample - loss: 1.2685 - priority_loss: 0.7005 - department_loss: 2.8401 - priority_accuracy: 0.0000e+00 - department_accuracy: 0.1656\n"
          ],
          "name": "stdout"
        },
        {
          "output_type": "execute_result",
          "data": {
            "text/plain": [
              "<tensorflow.python.keras.callbacks.History at 0x2618bc88dc8>"
            ]
          },
          "metadata": {
            "tags": []
          },
          "execution_count": 57
        }
      ]
    },
    {
      "cell_type": "markdown",
      "metadata": {
        "id": "i6LYcSXMHK4g",
        "colab_type": "text"
      },
      "source": [
        "#### 4. Class 이용해서 Custom Layer만들기\n",
        "- 사실 케라스는 우리가 찾을 법 한 거의 모든 데이터를 가지고 있다.\n",
        "- 그러나 나중에 현업에서, 혹은 협업을 할 일이 생긴다면 class를 이용해서 모델을 만들고 알아보기 쉽도록 하는 것이 나을 것이라고 생각한다.\n",
        "- 따라서 원래는 이 방법을 내가 찾는 것이 keras API에 없을 때에 사용하는데, 이번에는 그냥 연습 겸 만들어 보고자 한다.  \n",
        " \n",
        "**간단하게 call 함수와 build (필수는 아님 __init__에 넣어도 됨) 함수만 있다면 layer을 custom 하는 것이 가능하다.**\n",
        "\n",
        "- 우선 Dense layer을 하나 만들어 보자."
      ]
    },
    {
      "cell_type": "code",
      "metadata": {
        "id": "03tXUej7HK4g",
        "colab_type": "code",
        "colab": {}
      },
      "source": [
        "class CustomDense(tf.keras.layers.Layer):\n",
        "    def __init__(self, units = 32, **kwargs):\n",
        "        super(CustomDense, self).__init__()\n",
        "        self.units = units\n",
        "    \n",
        "    def build(self, input_shape):\n",
        "        self.w = self.add_weight(\n",
        "            shape = (input_shape[-1], self.units),\n",
        "            initializer = 'random_normal',\n",
        "            trainable = True\n",
        "        )\n",
        "        self.b = self.add_weight(\n",
        "            shape = (self.units,),\n",
        "            initializer = 'random_normal',\n",
        "            trainable = True\n",
        "        )\n",
        "    \n",
        "    def call(self, inputs):\n",
        "        return tf.matmul(inputs, self.w) + self.b\n",
        "    \n",
        "inputs = tf.keras.Input((4,))\n",
        "outputs = CustomDense(10)(inputs)\n",
        "\n",
        "model = tf.keras.Model(inputs, outputs)"
      ],
      "execution_count": null,
      "outputs": []
    },
    {
      "cell_type": "markdown",
      "metadata": {
        "id": "vf7NwtrsHK4i",
        "colab_type": "text"
      },
      "source": [
        "- 간단한 모델을 하나 만들어 보았다."
      ]
    },
    {
      "cell_type": "code",
      "metadata": {
        "id": "0P9QkIqkHK4j",
        "colab_type": "code",
        "colab": {}
      },
      "source": [
        "class CustomModel(tf.keras.Model):\n",
        "    def __init__(self, **kwargs):\n",
        "        super(CustomModel, self).__init__(**kwargs)\n",
        "        self.hidden1 = tf.keras.layers.Dense(64, activation = 'relu')\n",
        "        self.hidden2 = tf.keras.layers.Dense(10, activation = 'softmax')\n",
        "    \n",
        "    def call(self, inputs):\n",
        "        x = self.hidden1(inputs)\n",
        "        return self.hidden2(x)"
      ],
      "execution_count": null,
      "outputs": []
    },
    {
      "cell_type": "markdown",
      "metadata": {
        "id": "lpx20XY6HK4m",
        "colab_type": "text"
      },
      "source": [
        "**행렬을 배웠으면 해서는 안되는 실수를 해버렸다. matmul()도 결국에는 행렬의 곱 연산인데 inputs와 가중치인 self.w의 순서를 바꾸어서 자꾸 잘못된 결과가 나왔다.**\n",
        "\n",
        "- 이번에는 RNN custom layer을 만들어 보고자 한다.\n",
        "- RNN에서 시퀀스 데이터가 작동하는 원리를 간단하게 정리해 보자.\n",
        "  1. 초기 상태인 h(0)을 모두 0으로 설정하고 첫번째 timestep인 x(0)과 함께 하나의 순환 뉴런으로 전달한다\n",
        "  2. 뉴런은 이 값의 가중치 합을 계산하고 activation 함수로 설정이 된 tanh함수를 적용해서 결과를 만들어 첫번째 y(1)를 출력한다.\n",
        "  3. 이제 이 출력이 새로운 상태인 h(0)가 된다.\n",
        "  4. 이 새로운 상태는 다음 입력값인 x(1)과 함께 동일한 순환 뉴런으로 전달이 된다.\n",
        "  5. 이제 이 과정이 마지막 timestep에 도달할 때 까지 계속 반복이 된다."
      ]
    },
    {
      "cell_type": "code",
      "metadata": {
        "id": "KvdjaL_HHK4m",
        "colab_type": "code",
        "colab": {}
      },
      "source": [
        "units = 32\n",
        "timesteps = 10\n",
        "input_dim = 5\n",
        "\n",
        "inputs = tf.keras.Input((None, units))\n",
        "x = tf.keras.layers.GlobalAveragePooling1D()(inputs)\n",
        "outputs = tf.keras.layers.Dense(1)(x)\n",
        "model = tf.keras.Model(inputs, outputs)\n",
        "\n",
        "class CustomRNN(tf.keras.layers.Layer):\n",
        "    def __init__(self, **kwargs):\n",
        "        super(CustomRNN, self).__init__()\n",
        "        self.units = units\n",
        "        self.layer1 = tf.keras.layers.Dense(units = units, activation = 'tanh')\n",
        "        self.layer2 = tf.keras.layers.Dense(units = units, activation = 'tanh')\n",
        "        self.classifier = model\n",
        "    \n",
        "    def call(self, inputs):\n",
        "        outputs = []\n",
        "        state = tf.zeros(shape = (inputs.shape[0], self.units))\n",
        "        for i in range(inputs.shape[1]):\n",
        "            x = inputs[:,i,:]\n",
        "            h = self.layer1(x)\n",
        "            y = h + self.layer2(state)\n",
        "            outputs.append(y)\n",
        "        features = tf.stack(outputs, axis = 1)\n",
        "        print(features.shape)\n",
        "        return self.classifier(features)"
      ],
      "execution_count": null,
      "outputs": []
    },
    {
      "cell_type": "code",
      "metadata": {
        "id": "AL0ixoF-HK4o",
        "colab_type": "code",
        "colab": {}
      },
      "source": [
        "rnn_model = CustomRNN()"
      ],
      "execution_count": null,
      "outputs": []
    },
    {
      "cell_type": "code",
      "metadata": {
        "id": "nOoJaPM6HK4r",
        "colab_type": "code",
        "colab": {},
        "outputId": "81b99cfb-d4f3-4481-b91a-d4382c51e78a"
      },
      "source": [
        "rnn_model(tf.zeros((1, timesteps, input_dim)))"
      ],
      "execution_count": null,
      "outputs": [
        {
          "output_type": "stream",
          "text": [
            "(1, 10, 32)\n"
          ],
          "name": "stdout"
        },
        {
          "output_type": "execute_result",
          "data": {
            "text/plain": [
              "<tf.Tensor: shape=(1, 1), dtype=float32, numpy=array([[0.]], dtype=float32)>"
            ]
          },
          "metadata": {
            "tags": []
          },
          "execution_count": 70
        }
      ]
    },
    {
      "cell_type": "markdown",
      "metadata": {
        "id": "NWhIZrmFHK4t",
        "colab_type": "text"
      },
      "source": [
        "#### 5. 마지막으로 DCGAN 모델을 class를 이용해서 만드는 것으로 마무리 하고자 한다.\n",
        "- 항상 DCGAN모델의 경우에는 데이터를 너무 많이 차지해서 이번에는 간단하게 MNIST데이터를 이용해서 학습을 하고 결과를 확인한 뒤에, 마무리를 할 예정이다.\n",
        "- DCGAN은 이전에도 많이 설명을 썼었지만 생성자인 generator과 판별자인 discriminator로 이루어져 있다.\n",
        "- generator의 경우에는 noise data를 입력받아서 이미지를 생성하게 되고, discriminator의 경우에는 이미지를 label과 함께 입력 받았을 때 이를 판별하는 역할을 한다.\n",
        "- 그리고 마지막에는 사용자 정의 훈련 함수를 만들어서 훈련을 시켜줄 예정이다."
      ]
    },
    {
      "cell_type": "code",
      "metadata": {
        "id": "FbHcOO0GHK4t",
        "colab_type": "code",
        "colab": {}
      },
      "source": [
        "from tensorflow.keras.layers import LeakyReLU\n",
        "leakyrelu = LeakyReLU(alpha = 0.2)"
      ],
      "execution_count": 2,
      "outputs": []
    },
    {
      "cell_type": "code",
      "metadata": {
        "id": "-cqjtd67HK4v",
        "colab_type": "code",
        "colab": {}
      },
      "source": [
        "class Generator(tf.keras.Model):\n",
        "    def __init__(self, **kwargs):\n",
        "        super(Generator, self).__init__()\n",
        "        self.first_layer = tf.keras.layers.Dense((7*7*128), activation = leakyrelu)\n",
        "        self.main_layers = [\n",
        "            tf.keras.layers.Reshape((7,7,128)),\n",
        "            tf.keras.layers.Conv2DTranspose(128, kernel_size = 4, strides = 2, padding = 'same', activation = leakyrelu),\n",
        "            tf.keras.layers.Conv2DTranspose(64, kernel_size = 4, strides = 2, padding = 'same', activation = leakyrelu),\n",
        "            tf.keras.layers.Conv2D(1, kernel_size = 7, padding = 'same', activation = 'tanh')\n",
        "        ]\n",
        "    def call(self, inputs):\n",
        "        x = self.first_layer(inputs)\n",
        "        for layer in self.main_layers:\n",
        "            x = layer(x)\n",
        "        return x"
      ],
      "execution_count": 3,
      "outputs": []
    },
    {
      "cell_type": "code",
      "metadata": {
        "id": "8FCyDl4AHK4y",
        "colab_type": "code",
        "colab": {}
      },
      "source": [
        "class Discriminator(tf.keras.Model):\n",
        "    def __init__(self, **kwargs):\n",
        "        super(Discriminator, self).__init__()\n",
        "        self.first_layer = tf.keras.layers.Conv2D(64, kernel_size = 3, strides = 2, padding = 'same', activation = leakyrelu)\n",
        "        self.main_layers = [\n",
        "            tf.keras.layers.Conv2D(128, kernel_size = 3, strides = 2, padding = 'same', activation = leakyrelu),\n",
        "            tf.keras.layers.GlobalMaxPool2D(),\n",
        "            tf.keras.layers.Dense(1)\n",
        "        ]\n",
        "    def call(self, inputs):\n",
        "        x = self.first_layer(inputs)\n",
        "        for layer in self.main_layers:\n",
        "            x = layer(x)\n",
        "        return x"
      ],
      "execution_count": 4,
      "outputs": []
    },
    {
      "cell_type": "code",
      "metadata": {
        "id": "QeStuC7JHK41",
        "colab_type": "code",
        "colab": {}
      },
      "source": [
        "generator = Generator()\n",
        "discriminator = Discriminator()"
      ],
      "execution_count": 5,
      "outputs": []
    },
    {
      "cell_type": "markdown",
      "metadata": {
        "id": "tP9DXqOa6ohE",
        "colab_type": "text"
      },
      "source": [
        "- 밑의 model에서 train_step을 정의 해 준것은 실제로 나중에 학습을 시작하기 위해서 model.fit()을 하는 것을 overriding 해 준 것이다.\n",
        "- 원래 fit()을 하는 것이 train_step(self, data)로 정의가 되기 때문이다.\n",
        "  - 아래의 경우에는 compile까자 직접정의를 한 것이지만 그렇게 하지 않았다면 직접 compile을 함으로서 얻게 되는 정보인 loss와 metrics데이터를 불러서 갱신해야 한다.\n",
        "  - loss는 ```loss = self.compiled_loss(y, y_predict)```\n",
        "  - metrics는 ```self.compiled_metrics.update_state(y, y_predict)```이런 식으로 값을 얻고 이용한다.\n",
        "  - 이 값들은 GradientTape()를 이용해서 loss를 trainable_variables를 이용해서 미분값을 계산해 ```optimizer.apply_gradients(zip(gradients, self.trainable_variables))```이런 식으로 가중치를 갱신하도록 한다."
      ]
    },
    {
      "cell_type": "code",
      "metadata": {
        "id": "_HkuyPkXHK46",
        "colab_type": "code",
        "colab": {}
      },
      "source": [
        "class DCGAN(tf.keras.Model):\n",
        "    #latent_dim이란 압축된 데이터의 크기로, 처음에 입력받게 될 압축된 랜덤한 시각 데이터의 공간의 크기이다.\n",
        "    def __init__(self, discriminator, generator,loss_fn,latent_dim):\n",
        "        super(DCGAN, self).__init__()\n",
        "        self.generator = generator\n",
        "        self.discriminator = discriminator\n",
        "        self.latent_dim = latent_dim\n",
        "        self.loss_fn = loss_fn\n",
        "        \n",
        "    def compile(self, d_optimizer, g_optimizer, loss_fn):\n",
        "        super(DCGAN, self).compile()\n",
        "        self.d_optimizer = d_optimizer\n",
        "        self.g_optimizer = g_optimizer\n",
        "        self.loss_fn = loss_fn\n",
        "        \n",
        "    def train_step(self, real_images):\n",
        "        #튜플의 형태일 때에는 real_image와 가짜 이미지가 묶여 있는 형태이기 때문에 첫번쨰 데이터 사용\n",
        "        if isinstance(real_images, tuple):\n",
        "            real_images = real_images[0]\n",
        "        batch_size = tf.shape(real_images)[0]\n",
        "        random_noise = tf.random.normal(shape = (batch_size, self.latent_dim))\n",
        "        \n",
        "        #discriminator 학습\n",
        "        #새로운 이미지를 generator을 이용해서 생성한다.\n",
        "        generated_img = self.generator(random_noise)\n",
        "        combined_img = tf.concat([generated_img, real_images],axis = 0)\n",
        "        y_label = tf.concat([tf.ones((batch_size, 1)), tf.zeros((batch_size, 1))], axis = 0)\n",
        "        \n",
        "        #label에 random noise를 추가해서 학습의 효율을 더 높여준다.\n",
        "        y_label += 0.05 * tf.random.uniform(tf.shape(y_label))\n",
        "        \n",
        "        with tf.GradientTape() as tape:\n",
        "            predictions = self.discriminator(combined_img)\n",
        "            d_loss = self.loss_fn(y_label, predictions)\n",
        "        \n",
        "        gradients = tape.gradient(d_loss, self.discriminator.trainable_weights)\n",
        "        self.d_optimizer.apply_gradients(zip(gradients, self.discriminator.trainable_weights))\n",
        "        \n",
        "        \n",
        "        #generator 학습\n",
        "        random_noise = tf.random.normal(shape = (batch_size, self.latent_dim))\n",
        "        wrong_label = tf.zeros((batch_size, 1))\n",
        "        \n",
        "        with tf.GradientTape() as tape:\n",
        "            predictions = self.discriminator(self.generator(random_noise))\n",
        "            g_loss = self.loss_fn(wrong_label, predictions)\n",
        "        \n",
        "        #generator은 올바르지 않은 label이 붙은 것으로 예측한 discriminator의 loss정보를 이용해서 학습을 한다.\n",
        "        gradients = tape.gradient(g_loss, self.generator.trainable_weights)\n",
        "        self.g_optimizer.apply_gradients(zip(gradients, self.generator.trainable_weights))\n",
        "        \n",
        "        display.clear_output(wait=True)\n",
        "        #plot_multiple(generated_img)\n",
        "        return {\"d_loss\" : d_loss, \"g_loss\" : g_loss}\n",
        "      \n",
        "        \n",
        "        \n",
        "        \n",
        "    "
      ],
      "execution_count": 100,
      "outputs": []
    },
    {
      "cell_type": "code",
      "metadata": {
        "id": "76hTWfXbHK48",
        "colab_type": "code",
        "colab": {}
      },
      "source": [
        "(x_train,_), (x_test,_) = tf.keras.datasets.fashion_mnist.load_data()"
      ],
      "execution_count": 101,
      "outputs": []
    },
    {
      "cell_type": "code",
      "metadata": {
        "id": "tPBvhUbSWAHW",
        "colab_type": "code",
        "colab": {
          "base_uri": "https://localhost:8080/",
          "height": 35
        },
        "outputId": "5d06b815-79fc-4ec7-9fa4-850b63d8feb5"
      },
      "source": [
        "x_train.shape"
      ],
      "execution_count": 192,
      "outputs": [
        {
          "output_type": "execute_result",
          "data": {
            "text/plain": [
              "(60000, 28, 28)"
            ]
          },
          "metadata": {
            "tags": []
          },
          "execution_count": 192
        }
      ]
    },
    {
      "cell_type": "code",
      "metadata": {
        "id": "u8WQ3J0ZNTDw",
        "colab_type": "code",
        "colab": {
          "base_uri": "https://localhost:8080/",
          "height": 282
        },
        "outputId": "4c308873-d492-41c5-dee1-d424588a2c50"
      },
      "source": [
        "plt.imshow(x_train[0],cmap = 'gray')"
      ],
      "execution_count": 126,
      "outputs": [
        {
          "output_type": "execute_result",
          "data": {
            "text/plain": [
              "<matplotlib.image.AxesImage at 0x7f8ecd2c7a90>"
            ]
          },
          "metadata": {
            "tags": []
          },
          "execution_count": 126
        },
        {
          "output_type": "display_data",
          "data": {
            "image/png": "[encoded data removed]",
            "text/plain": [
              "<Figure size 432x288 with 1 Axes>"
            ]
          },
          "metadata": {
            "tags": [],
            "needs_background": "light"
          }
        }
      ]
    },
    {
      "cell_type": "code",
      "metadata": {
        "id": "pttOnTFHHK49",
        "colab_type": "code",
        "colab": {}
      },
      "source": [
        "BUFFER_SIZE, BATCH_SIZE = 1024, 128\n",
        "all_digits = np.concatenate([x_train, x_test])\n",
        "all_digits = all_digits.astype('float32')/255.0\n",
        "all_digits = (all_digits-0.5)*2\n",
        "all_digits = np.reshape(all_digits, (-1,28,28,1))\n",
        "all_digits = tf.data.Dataset.from_tensor_slices(all_digits)\n",
        "all_digits = all_digits.shuffle(BUFFER_SIZE).batch(BATCH_SIZE)"
      ],
      "execution_count": 199,
      "outputs": []
    },
    {
      "cell_type": "code",
      "metadata": {
        "id": "VkSWSDqGJRH9",
        "colab_type": "code",
        "colab": {
          "base_uri": "https://localhost:8080/",
          "height": 35
        },
        "outputId": "93c2959e-5fe8-4c6e-ee69-5556d0ebaa4d"
      },
      "source": [
        "all_digits"
      ],
      "execution_count": 200,
      "outputs": [
        {
          "output_type": "execute_result",
          "data": {
            "text/plain": [
              "<BatchDataset shapes: (None, 28, 28, 1), types: tf.float32>"
            ]
          },
          "metadata": {
            "tags": []
          },
          "execution_count": 200
        }
      ]
    },
    {
      "cell_type": "code",
      "metadata": {
        "id": "XC4ddCZxHK5B",
        "colab_type": "code",
        "colab": {}
      },
      "source": [
        "latent_dim = 128\n",
        "dcgan = DCGAN(discriminator = discriminator, generator = generator, latent_dim = latent_dim,loss_fn= tf.keras.losses.BinaryCrossentropy(from_logits=True))\n"
      ],
      "execution_count": 201,
      "outputs": []
    },
    {
      "cell_type": "code",
      "metadata": {
        "id": "91nHyRDaHK5D",
        "colab_type": "code",
        "colab": {}
      },
      "source": [
        "dcgan.compile(\n",
        "    d_optimizer=tf.keras.optimizers.Adam(learning_rate=0.0003),\n",
        "    g_optimizer=tf.keras.optimizers.Adam(learning_rate=0.0003),\n",
        "    loss_fn = tf.keras.losses.BinaryCrossentropy(from_logits = True)\n",
        ")"
      ],
      "execution_count": 202,
      "outputs": []
    },
    {
      "cell_type": "code",
      "metadata": {
        "id": "3ii0ajIgxuFW",
        "colab_type": "code",
        "colab": {}
      },
      "source": [
        "dcgan.fit(all_digits, epochs = 5)"
      ],
      "execution_count": null,
      "outputs": []
    },
    {
      "cell_type": "markdown",
      "metadata": {
        "id": "s71nnvbX4h-R",
        "colab_type": "text"
      },
      "source": [
        "descriminator의 오차인 d_loss는 증가할 수록(그만킁 generator이 진짜에 가까운 이미지를 생성하고 있다는 의미이므로), generator의 오차인 g_loss는 감소할 수록 좋다."
      ]
    },
    {
      "cell_type": "code",
      "metadata": {
        "id": "BozE8Y9xHK5G",
        "colab_type": "code",
        "colab": {}
      },
      "source": [
        "random_noise = tf.random.normal(shape = (BATCH_SIZE, latent_dim))"
      ],
      "execution_count": 221,
      "outputs": []
    },
    {
      "cell_type": "code",
      "metadata": {
        "id": "MzHwUblvMS4y",
        "colab_type": "code",
        "colab": {}
      },
      "source": [
        "pred = generator(random_noise)"
      ],
      "execution_count": 222,
      "outputs": []
    },
    {
      "cell_type": "code",
      "metadata": {
        "id": "7SZ7_phfM8_U",
        "colab_type": "code",
        "colab": {
          "base_uri": "https://localhost:8080/",
          "height": 35
        },
        "outputId": "943cd295-dd9b-4ac4-edff-7bd25260e1f5"
      },
      "source": [
        "tf.shape(pred)"
      ],
      "execution_count": 223,
      "outputs": [
        {
          "output_type": "execute_result",
          "data": {
            "text/plain": [
              "<tf.Tensor: shape=(4,), dtype=int32, numpy=array([128,  28,  28,   1], dtype=int32)>"
            ]
          },
          "metadata": {
            "tags": []
          },
          "execution_count": 223
        }
      ]
    },
    {
      "cell_type": "code",
      "metadata": {
        "id": "DTjDxJQ8OO5e",
        "colab_type": "code",
        "colab": {}
      },
      "source": [
        "import IPython.display as display\n",
        "def plot_multiple(img):\n",
        "  plt.figure(figsize = (15,12))\n",
        "  count = 0\n",
        "  for index, image in enumerate(img):\n",
        "      if index % 3 == 0 and count <= 31:\n",
        "          plt.subplot(4,8,count + 1)\n",
        "          count += 1\n",
        "          image = np.reshape(image, (28,28))\n",
        "          plt.imshow(np.asarray(image)/2+0.5, cmap = 'gray')\n",
        "          plt.axis = 'off'\n",
        "  plt.show()"
      ],
      "execution_count": 224,
      "outputs": []
    },
    {
      "cell_type": "markdown",
      "metadata": {
        "id": "aqByVUNcWeR-",
        "colab_type": "text"
      },
      "source": [
        "계속 이미지 출력이 안되어서 답답했었는데 알고 보니 이미지를 출력할 수 있도록 하는 shape의 형태는 (가로, 세로)였고 **channel_size는 shape에 있으면 출력이 불가**했다.\n",
        "- 사실 이게 당연한 이유는 우리가 2D평면에 이미지를 나타내는 것인데 channel_size의 정보까지 존재하게 되면 3D이기 때문이다."
      ]
    },
    {
      "cell_type": "code",
      "metadata": {
        "id": "gRX6ni0UPIeT",
        "colab_type": "code",
        "colab": {
          "base_uri": "https://localhost:8080/",
          "height": 649
        },
        "outputId": "a60b4e46-7655-4d0b-b33d-af0e4283cd23"
      },
      "source": [
        "plot_multiple(pred)"
      ],
      "execution_count": 225,
      "outputs": [
        {
          "output_type": "display_data",
          "data": {
            "image/png": "[encoded data removed]",
            "text/plain": [
              "<Figure size 1080x864 with 32 Axes>"
            ]
          },
          "metadata": {
            "tags": [],
            "needs_background": "light"
          }
        }
      ]
    },
    {
      "cell_type": "markdown",
      "metadata": {
        "id": "YcmNtt-q1COJ",
        "colab_type": "text"
      },
      "source": [
        "**마지막에 출력한 그림을 보면 어느 정도 옷의 형태가 나오는 듯 하다. 물론 학습의 횟수를 10번만 했기 떄문에 만족스럽지는 않지만 그래도 30번 정도 더 하면 정말 비슷하게, d_loss가 1에 가깝게 나올 수도 있지 않을 까 싶다. 마지막으로 한 d_loss는 0.6정도 였다.**"
      ]
    }
  ]
}